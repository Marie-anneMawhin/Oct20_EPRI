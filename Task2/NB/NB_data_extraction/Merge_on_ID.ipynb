{
 "cells": [
  {
   "cell_type": "code",
   "execution_count": 1,
   "metadata": {},
   "outputs": [],
   "source": [
    "import pandas as pd\n",
    "import numpy as np\n",
    "\n",
    "import os, glob"
   ]
  },
  {
   "cell_type": "code",
   "execution_count": 2,
   "metadata": {},
   "outputs": [],
   "source": [
    "path = os.path.join(os.path.dirname(os.getcwd()), '../Data/Extracted_data/')\n",
    "os.chdir(path)"
   ]
  },
  {
   "cell_type": "code",
   "execution_count": 3,
   "metadata": {},
   "outputs": [],
   "source": [
    "#Fracture toughness\n",
    "FT = pd.read_csv('fracture_toughness.csv')\n",
    "FT.set_index('ID', inplace=True)\n",
    "FT.drop(['Type', 'Percent_cold_work','KIC_stress_intensity_max_ksi_x_in1_2', 'KIC_stress_intensity_range_ksi_x_in1_2'], axis=1, inplace=True)\n",
    "\n",
    "#TEP (both)\n",
    "TEP = pd.read_csv('TEP_magnetic_susceptibility_summary.csv')\n",
    "TEP.set_index('ID', inplace=True)\n",
    "TEP.drop(['material', 'cold_work_percent'], axis=1, inplace=True)\n",
    "\n",
    "#Nonlinear\n",
    "UT_NL = pd.read_csv('UT_nonlinear.csv')\n",
    "UT_NL.set_index('ID', inplace=True)\n",
    "UT_NL.drop(['material', 'cold_work_percent'], axis=1, inplace=True)\n",
    "UT_NL = UT_NL.groupby('ID').mean().add_suffix('_avg')"
   ]
  },
  {
   "cell_type": "code",
   "execution_count": 7,
   "metadata": {},
   "outputs": [],
   "source": [
    "#Internal Friction 25MHz\n",
    "IF_25_dfs=[]\n",
    "for file in glob.glob('*friction*25MHz.csv'):\n",
    "    df = pd.read_csv(file)\n",
    "    IF_25_dfs.append(df)\n",
    "\n",
    "UT_IF_25 = pd.concat(IF_25_dfs, axis=0, ignore_index=False)\n",
    "UT_IF_25['Sample ID'] = UT_IF_25['Sample ID'].str.replace('%|CW|\\,', '').str.strip().str.replace(' - ', '-')\\\n",
    ".str.replace('  ', ' ').str.replace(' ', '-').str.strip('-1')+ '-1'\n",
    "UT_IF_25.drop(['% CW'], axis=1, inplace=True)\n",
    "UT_IF_25.rename(columns={'Sample ID':'ID'}, inplace=True)\n",
    "UT_IF_25.set_index('ID', inplace=True)\n",
    "UT_IF_25 = UT_IF_25.add_suffix('_2.25MHz')"
   ]
  },
  {
   "cell_type": "code",
   "execution_count": 8,
   "metadata": {},
   "outputs": [],
   "source": [
    "#Internal Friction 5MHz\n",
    "IF_5_dfs=[]\n",
    "for file in glob.glob('*friction*_5MHz.csv'):\n",
    "    df = pd.read_csv(file)\n",
    "    IF_5_dfs.append(df)\n",
    "\n",
    "UT_IF_5 = pd.concat(IF_5_dfs, axis=0, ignore_index=False)\n",
    "UT_IF_5['Sample ID'] = UT_IF_5['Sample ID'].str.replace('%|CW|\\,', '').str.strip().str.replace(' - ', '-')\\\n",
    ".str.replace('  ', ' ').str.replace(' ', '-').str.strip('-1')+ '-1'\n",
    "UT_IF_5.drop(['% CW'], axis=1, inplace=True)\n",
    "UT_IF_5.rename(columns={'Sample ID':'ID'}, inplace=True)\n",
    "UT_IF_5.set_index('ID', inplace=True)\n",
    "UT_IF_5 = UT_IF_5.add_suffix('_3.5MHz')"
   ]
  },
  {
   "cell_type": "code",
   "execution_count": 9,
   "metadata": {},
   "outputs": [],
   "source": [
    "#Backscattering\n",
    "UT_BS = pd.read_csv('UT_backscattering.csv')\n",
    "\n",
    "UT_BS['Sample ID'] = UT_BS['Sample ID'].str.replace('%|CW|\\,', '').str.strip().str.replace(' - ', '-')\\\n",
    ".str.replace('  ', ' ').str.replace(' ', '-').str.strip('-1')+ '-1'\n",
    "UT_BS.rename(columns={'Sample ID':'ID'}, inplace=True)\n",
    "UT_BS.set_index('ID', inplace=True)"
   ]
  },
  {
   "cell_type": "code",
   "execution_count": 10,
   "metadata": {},
   "outputs": [],
   "source": [
    "merged = FT.join([TEP, UT_NL, UT_IF_25, UT_IF_5, UT_BS], how='left')"
   ]
  },
  {
   "cell_type": "code",
   "execution_count": 11,
   "metadata": {},
   "outputs": [],
   "source": [
    "merged.to_csv('MERGE_FT_TEP_UT.csv')"
   ]
  },
  {
   "cell_type": "code",
   "execution_count": null,
   "metadata": {},
   "outputs": [],
   "source": []
  }
 ],
 "metadata": {
  "kernelspec": {
   "display_name": "Python [conda env:EPRI]",
   "language": "python",
   "name": "conda-env-EPRI-py"
  },
  "language_info": {
   "codemirror_mode": {
    "name": "ipython",
    "version": 3
   },
   "file_extension": ".py",
   "mimetype": "text/x-python",
   "name": "python",
   "nbconvert_exporter": "python",
   "pygments_lexer": "ipython3",
   "version": "3.8.5"
  }
 },
 "nbformat": 4,
 "nbformat_minor": 4
}
