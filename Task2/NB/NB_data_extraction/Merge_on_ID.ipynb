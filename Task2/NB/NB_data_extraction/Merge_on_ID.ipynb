{
 "cells": [
  {
   "cell_type": "code",
   "execution_count": 1,
   "metadata": {},
   "outputs": [],
   "source": [
    "import pandas as pd\n",
    "import numpy as np\n",
    "import matplotlib.pyplot as plt\n",
    "import seaborn as sns\n",
    "\n",
    "import os, glob"
   ]
  },
  {
   "cell_type": "code",
   "execution_count": 2,
   "metadata": {},
   "outputs": [],
   "source": [
    "def plot_corr(data, figsize=(15,15)):\n",
    "    '''\n",
    "    Plot correlation \n",
    "    Args:\n",
    "    - data: pd dataframe\n",
    "    '''\n",
    "    corr = data.corr()\n",
    "    sns.set(font_scale=1.2)\n",
    "    mask = np.triu(np.ones_like(corr, dtype=bool))\n",
    "    with sns.axes_style(\"white\"):\n",
    "        f, ax = plt.subplots(figsize=figsize)\n",
    "        ax = sns.heatmap(corr, mask=mask, square=True, cmap='RdBu_r', center=0, annot=True,\n",
    "                        annot_kws={'fontsize':8})"
   ]
  },
  {
   "cell_type": "code",
   "execution_count": 3,
   "metadata": {},
   "outputs": [],
   "source": [
    "path = os.path.join(os.path.dirname(os.getcwd()), '../Data/Extracted_data/')\n",
    "os.chdir(path)"
   ]
  },
  {
   "cell_type": "markdown",
   "metadata": {},
   "source": [
    "### Fracture toughness"
   ]
  },
  {
   "cell_type": "code",
   "execution_count": 4,
   "metadata": {},
   "outputs": [],
   "source": [
    "FT = pd.read_csv('fracture_toughness.csv')\n",
    "FT.set_index('ID', inplace=True)\n",
    "FT.drop(['Type', 'Percent_cold_work','KIC_stress_intensity_max_ksi_x_in1_2', 'KIC_stress_intensity_range_ksi_x_in1_2', 'JQ_lb-in_in2'], axis=1, inplace=True)\n",
    "FT.rename(columns={'KJIC_ksi_x_in1_2':'KJIC'}, inplace=True)"
   ]
  },
  {
   "cell_type": "markdown",
   "metadata": {},
   "source": [
    "### TEP (both)"
   ]
  },
  {
   "cell_type": "code",
   "execution_count": 5,
   "metadata": {},
   "outputs": [],
   "source": [
    "TEP = pd.read_csv('TEP_magnetic_susceptibility_summary.csv')\n",
    "TEP.set_index('ID', inplace=True)\n",
    "TEP.drop(['material', 'cold_work_percent'], axis=1, inplace=True)\n",
    "TEP.rename(columns={'magnetic_susceptibility_average':'MS_Avg', 'magnetic_susceptibility_neg_error': 'MS_neg_error',\n",
    "                   'magnetic_susceptibility_pos_error':'MS_pos_error'}, inplace=True)"
   ]
  },
  {
   "cell_type": "markdown",
   "metadata": {},
   "source": [
    "### Nonlinear"
   ]
  },
  {
   "cell_type": "code",
   "execution_count": 6,
   "metadata": {},
   "outputs": [],
   "source": [
    "UT_NL = pd.read_csv('UT_nonlinear.csv')\n",
    "UT_NL.drop(['material', 'cold_work_percent','A2/A1^2', 'Thickness (mm)', 'R^2'], axis=1, inplace=True)\n",
    "UT_NL.set_index('ID', inplace=True)\n",
    "UT_NL = UT_NL.groupby('ID').mean().add_suffix('_avg')"
   ]
  },
  {
   "cell_type": "markdown",
   "metadata": {},
   "source": [
    "### Internal Friction 225MHz"
   ]
  },
  {
   "cell_type": "code",
   "execution_count": 38,
   "metadata": {},
   "outputs": [],
   "source": [
    "IF_225_dfs=[]\n",
    "for file in glob.glob('*friction*25MHz_up.csv'):\n",
    "    df = pd.read_csv(file)\n",
    "    IF_225_dfs.append(df)\n",
    "\n",
    "UT_IF_225 = pd.concat(IF_225_dfs, axis=0, ignore_index=False)\n",
    "UT_IF_225['Sample ID'] = UT_IF_225['Sample ID'].str.replace('%|CW|\\,', '').str.strip().str.replace(' - ', '-')\\\n",
    ".str.replace('  ', ' ').str.replace(' ', '-').str.strip('-1')+ '-1'\n",
    "UT_IF_225.drop(['% CW'], axis=1, inplace=True)\n",
    "UT_IF_225.rename(columns={'Sample ID':'ID', '% change from 0% CW':'%C_IF',\n",
    "                         \t'Standard Error': 'SE_IF', 'Standard Error (%)': 'SE_%_IF', 'Q-1':'IF_amp'}, inplace=True)\n",
    "UT_IF_225.set_index('ID', inplace=True)\n",
    "UT_IF_225 = UT_IF_225.add_suffix('_2.25MHz')\n",
    "UT_IF_225.replace(regex={'%':''}, inplace=True)\n",
    "UT_IF_225 = UT_IF_225.astype('float')"
   ]
  },
  {
   "cell_type": "markdown",
   "metadata": {},
   "source": [
    "### Internal Friction 35MHz"
   ]
  },
  {
   "cell_type": "code",
   "execution_count": 39,
   "metadata": {},
   "outputs": [],
   "source": [
    "IF_35_dfs=[]\n",
    "for file in glob.glob('*friction*_5MHz_up.csv'):\n",
    "    df = pd.read_csv(file)\n",
    "    IF_35_dfs.append(df)\n",
    "\n",
    "UT_IF_35 = pd.concat(IF_35_dfs, axis=0, ignore_index=False)\n",
    "UT_IF_35['Sample ID'] = UT_IF_35['Sample ID'].str.replace('%|CW|\\,', '').str.strip().str.replace(' - ', '-')\\\n",
    ".str.replace('  ', ' ').str.replace(' ', '-').str.strip('-1')+ '-1'\n",
    "UT_IF_35.drop(['% CW'], axis=1, inplace=True)\n",
    "UT_IF_35.rename(columns={'Sample ID':'ID', '% change from 0% CW':'%C_IF',\n",
    "                         \t'Standard Error': 'SE_IF', 'Standard Error (%)': 'SE_%_IF', \n",
    "                        'Q-1':'IF_amp'}, inplace=True)\n",
    "UT_IF_35.set_index('ID', inplace=True)\n",
    "UT_IF_35 = UT_IF_35.add_suffix('_3.5MHz')\n",
    "UT_IF_35.replace(regex={'%':''}, inplace=True)\n",
    "UT_IF_35 = UT_IF_35.astype('float')"
   ]
  },
  {
   "cell_type": "markdown",
   "metadata": {},
   "source": [
    "### Backscattering"
   ]
  },
  {
   "cell_type": "code",
   "execution_count": 40,
   "metadata": {},
   "outputs": [],
   "source": [
    "UT_BS = pd.read_csv('UT_backscattering_up.csv')\n",
    "UT_BS['Sample ID'] = UT_BS['Sample ID'].str.replace('%|CW|\\,', '').str.strip().str.replace(' - ', '-')\\\n",
    ".str.replace('  ', ' ').str.replace(' ', '-').str.strip('-1')+ '-1'\n",
    "UT_BS.rename(columns={'Sample ID':'ID', '% change from 0% CW': '%C_BS',\n",
    "                     'Backscattering Amplitude':'BS_amp'}, inplace=True)\n",
    "UT_BS.set_index('ID', inplace=True)\n",
    "UT_BS.replace(regex={'%':''}, inplace=True)\n",
    "UT_BS = UT_BS.astype('float')"
   ]
  },
  {
   "cell_type": "markdown",
   "metadata": {},
   "source": [
    "Merge all data"
   ]
  },
  {
   "cell_type": "code",
   "execution_count": 41,
   "metadata": {},
   "outputs": [],
   "source": [
    "merged = FT.join([TEP, UT_NL, UT_IF_225, UT_IF_35, UT_BS], how='left')"
   ]
  },
  {
   "cell_type": "code",
   "execution_count": 42,
   "metadata": {},
   "outputs": [],
   "source": [
    "merged.to_csv(os.path.join(os.path.dirname(os.getcwd()), '../Data/Merged_data/MERGE_FT_TEP_UT_on_ID.csv'))"
   ]
  },
  {
   "cell_type": "code",
   "execution_count": null,
   "metadata": {},
   "outputs": [],
   "source": []
  }
 ],
 "metadata": {
  "kernelspec": {
   "display_name": "Python 3",
   "language": "python",
   "name": "python3"
  },
  "language_info": {
   "codemirror_mode": {
    "name": "ipython",
    "version": 3
   },
   "file_extension": ".py",
   "mimetype": "text/x-python",
   "name": "python",
   "nbconvert_exporter": "python",
   "pygments_lexer": "ipython3",
   "version": "3.7.6"
  }
 },
 "nbformat": 4,
 "nbformat_minor": 4
}
