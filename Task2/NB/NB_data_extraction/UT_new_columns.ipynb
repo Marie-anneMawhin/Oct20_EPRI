{
 "cells": [
  {
   "cell_type": "code",
   "execution_count": 3,
   "metadata": {},
   "outputs": [],
   "source": [
    "import pandas as pd\n",
    "import numpy as np\n",
    "import matplotlib.pyplot as plt\n",
    "import seaborn as sns\n",
    "import os\n",
    "import tabula\n",
    "import glob"
   ]
  },
  {
   "cell_type": "code",
   "execution_count": 4,
   "metadata": {},
   "outputs": [],
   "source": [
    "#path to input file\n",
    "input_path = glob.glob(os.path.join('../../Data/Extracted_data', \"UT_internal_friction*.csv\"))"
   ]
  },
  {
   "cell_type": "code",
   "execution_count": 11,
   "metadata": {},
   "outputs": [],
   "source": [
    "# Reading the selected UT data (Total data tables = 12)\n",
    "UT_tables = []\n",
    "for filename in input_path:\n",
    "    df = pd.read_csv(filename)\n",
    "    UT_tables.append(df)"
   ]
  },
  {
   "cell_type": "code",
   "execution_count": 12,
   "metadata": {},
   "outputs": [
    {
     "data": {
      "text/html": [
       "<div>\n",
       "<style scoped>\n",
       "    .dataframe tbody tr th:only-of-type {\n",
       "        vertical-align: middle;\n",
       "    }\n",
       "\n",
       "    .dataframe tbody tr th {\n",
       "        vertical-align: top;\n",
       "    }\n",
       "\n",
       "    .dataframe thead th {\n",
       "        text-align: right;\n",
       "    }\n",
       "</style>\n",
       "<table border=\"1\" class=\"dataframe\">\n",
       "  <thead>\n",
       "    <tr style=\"text-align: right;\">\n",
       "      <th></th>\n",
       "      <th>Sample ID</th>\n",
       "      <th>% CW</th>\n",
       "      <th>% change from 0% CW</th>\n",
       "      <th>Standard Error</th>\n",
       "      <th>Standard Error (%)</th>\n",
       "    </tr>\n",
       "  </thead>\n",
       "  <tbody>\n",
       "    <tr>\n",
       "      <th>0</th>\n",
       "      <td>A286, 0% CW</td>\n",
       "      <td>0</td>\n",
       "      <td>0%</td>\n",
       "      <td>0.003</td>\n",
       "      <td>1.7%</td>\n",
       "    </tr>\n",
       "    <tr>\n",
       "      <th>1</th>\n",
       "      <td>A286, 20% CW</td>\n",
       "      <td>20</td>\n",
       "      <td>1136%</td>\n",
       "      <td>0.011</td>\n",
       "      <td>0.5%</td>\n",
       "    </tr>\n",
       "    <tr>\n",
       "      <th>2</th>\n",
       "      <td>A286, 40% CW</td>\n",
       "      <td>40</td>\n",
       "      <td>817%</td>\n",
       "      <td>0.015</td>\n",
       "      <td>1.0%</td>\n",
       "    </tr>\n",
       "    <tr>\n",
       "      <th>3</th>\n",
       "      <td>A286, 60% CW</td>\n",
       "      <td>60</td>\n",
       "      <td>880%</td>\n",
       "      <td>0.016</td>\n",
       "      <td>0.9%</td>\n",
       "    </tr>\n",
       "    <tr>\n",
       "      <th>4</th>\n",
       "      <td>A286, 80%-1 CW</td>\n",
       "      <td>80</td>\n",
       "      <td>759%</td>\n",
       "      <td>0.022</td>\n",
       "      <td>1.5%</td>\n",
       "    </tr>\n",
       "  </tbody>\n",
       "</table>\n",
       "</div>"
      ],
      "text/plain": [
       "        Sample ID  % CW % change from 0% CW  Standard Error Standard Error (%)\n",
       "0     A286, 0% CW     0                  0%           0.003               1.7%\n",
       "1    A286, 20% CW    20               1136%           0.011               0.5%\n",
       "2    A286, 40% CW    40                817%           0.015               1.0%\n",
       "3    A286, 60% CW    60                880%           0.016               0.9%\n",
       "4  A286, 80%-1 CW    80                759%           0.022               1.5%"
      ]
     },
     "execution_count": 12,
     "metadata": {},
     "output_type": "execute_result"
    }
   ],
   "source": [
    "UT_tables[11]"
   ]
  },
  {
   "cell_type": "code",
   "execution_count": 13,
   "metadata": {},
   "outputs": [],
   "source": [
    "# Removing '%' sign from the data and converting it into float format\n",
    "for i in range(0,len(UT_tables)):\n",
    "    UT_tables[i][\"% change from 0% CW\"] = list(map(lambda x: x[:-1], UT_tables[i][\"% change from 0% CW\"].values))\n",
    "    UT_tables[i][\"% change from 0% CW\"] = [float(x) for x in UT_tables[i][\"% change from 0% CW\"].values]\n",
    "    UT_tables[i][\"Standard Error (%)\"]= list(map(lambda x: x[:-1], UT_tables[i][\"Standard Error (%)\"].values))\n",
    "    UT_tables[i][\"Standard Error (%)\"] = [float(x) for x in UT_tables[i][\"Standard Error (%)\"].values]"
   ]
  },
  {
   "cell_type": "code",
   "execution_count": 14,
   "metadata": {},
   "outputs": [
    {
     "data": {
      "text/plain": [
       "Sample ID               object\n",
       "% CW                     int64\n",
       "% change from 0% CW    float64\n",
       "Standard Error         float64\n",
       "Standard Error (%)     float64\n",
       "dtype: object"
      ]
     },
     "execution_count": 14,
     "metadata": {},
     "output_type": "execute_result"
    }
   ],
   "source": [
    "UT_tables[11].dtypes"
   ]
  },
  {
   "cell_type": "code",
   "execution_count": 15,
   "metadata": {},
   "outputs": [],
   "source": [
    "# Creating a new column 'change from 0% CW' - The metric equivalent to % values\n",
    "for i in range(0,len(UT_tables)):\n",
    "    UT_tables[i][\"change from 0% CW\"]=UT_tables[i][\"% change from 0% CW\"]*UT_tables[i][\"Standard Error\"]/UT_tables[i][\"Standard Error (%)\"]"
   ]
  },
  {
   "cell_type": "code",
   "execution_count": 16,
   "metadata": {},
   "outputs": [
    {
     "data": {
      "text/html": [
       "<div>\n",
       "<style scoped>\n",
       "    .dataframe tbody tr th:only-of-type {\n",
       "        vertical-align: middle;\n",
       "    }\n",
       "\n",
       "    .dataframe tbody tr th {\n",
       "        vertical-align: top;\n",
       "    }\n",
       "\n",
       "    .dataframe thead th {\n",
       "        text-align: right;\n",
       "    }\n",
       "</style>\n",
       "<table border=\"1\" class=\"dataframe\">\n",
       "  <thead>\n",
       "    <tr style=\"text-align: right;\">\n",
       "      <th></th>\n",
       "      <th>Sample</th>\n",
       "      <th>% change from 0% CW</th>\n",
       "      <th>Standard Error</th>\n",
       "      <th>Standard Error (%)</th>\n",
       "      <th>change from 0% CW</th>\n",
       "    </tr>\n",
       "  </thead>\n",
       "  <tbody>\n",
       "    <tr>\n",
       "      <th>0</th>\n",
       "      <td>304-20-1 CW</td>\n",
       "      <td>50.0</td>\n",
       "      <td>0.014</td>\n",
       "      <td>2.0</td>\n",
       "      <td>0.350000</td>\n",
       "    </tr>\n",
       "    <tr>\n",
       "      <th>1</th>\n",
       "      <td>304-20-3 CW</td>\n",
       "      <td>42.0</td>\n",
       "      <td>0.014</td>\n",
       "      <td>2.1</td>\n",
       "      <td>0.280000</td>\n",
       "    </tr>\n",
       "    <tr>\n",
       "      <th>2</th>\n",
       "      <td>304-20-4 CW</td>\n",
       "      <td>53.0</td>\n",
       "      <td>0.022</td>\n",
       "      <td>3.1</td>\n",
       "      <td>0.376129</td>\n",
       "    </tr>\n",
       "    <tr>\n",
       "      <th>3</th>\n",
       "      <td>304-20-5 CW</td>\n",
       "      <td>42.0</td>\n",
       "      <td>0.012</td>\n",
       "      <td>1.9</td>\n",
       "      <td>0.265263</td>\n",
       "    </tr>\n",
       "  </tbody>\n",
       "</table>\n",
       "</div>"
      ],
      "text/plain": [
       "        Sample  % change from 0% CW  Standard Error  Standard Error (%)  \\\n",
       "0  304-20-1 CW                 50.0           0.014                 2.0   \n",
       "1  304-20-3 CW                 42.0           0.014                 2.1   \n",
       "2  304-20-4 CW                 53.0           0.022                 3.1   \n",
       "3  304-20-5 CW                 42.0           0.012                 1.9   \n",
       "\n",
       "   change from 0% CW  \n",
       "0           0.350000  \n",
       "1           0.280000  \n",
       "2           0.376129  \n",
       "3           0.265263  "
      ]
     },
     "execution_count": 16,
     "metadata": {},
     "output_type": "execute_result"
    }
   ],
   "source": [
    "UT_tables[1]"
   ]
  },
  {
   "cell_type": "code",
   "execution_count": 5,
   "metadata": {},
   "outputs": [],
   "source": [
    "bs_input = os.path.join(os.path.dirname(os.getcwd()), '../Data/Extracted_data/UT_backscattering.csv')"
   ]
  },
  {
   "cell_type": "code",
   "execution_count": 8,
   "metadata": {},
   "outputs": [],
   "source": [
    "bs_table=pd.read_csv(bs_input)"
   ]
  },
  {
   "cell_type": "code",
   "execution_count": 18,
   "metadata": {},
   "outputs": [],
   "source": [
    "BS_tables = []\n",
    "for i in range(0,len(bs_table.index)):\n",
    "    if i%5==0:\n",
    "        BS_tables.append(bs_table.iloc[i:i+5])"
   ]
  },
  {
   "cell_type": "code",
   "execution_count": 24,
   "metadata": {},
   "outputs": [
    {
     "data": {
      "text/html": [
       "<div>\n",
       "<style scoped>\n",
       "    .dataframe tbody tr th:only-of-type {\n",
       "        vertical-align: middle;\n",
       "    }\n",
       "\n",
       "    .dataframe tbody tr th {\n",
       "        vertical-align: top;\n",
       "    }\n",
       "\n",
       "    .dataframe thead th {\n",
       "        text-align: right;\n",
       "    }\n",
       "</style>\n",
       "<table border=\"1\" class=\"dataframe\">\n",
       "  <thead>\n",
       "    <tr style=\"text-align: right;\">\n",
       "      <th></th>\n",
       "      <th>Sample ID</th>\n",
       "      <th>% change from 0% CW</th>\n",
       "    </tr>\n",
       "  </thead>\n",
       "  <tbody>\n",
       "    <tr>\n",
       "      <th>15</th>\n",
       "      <td>A286, 0% CW</td>\n",
       "      <td>0%</td>\n",
       "    </tr>\n",
       "    <tr>\n",
       "      <th>16</th>\n",
       "      <td>A286, 20% CW</td>\n",
       "      <td>-18%</td>\n",
       "    </tr>\n",
       "    <tr>\n",
       "      <th>17</th>\n",
       "      <td>A286, 40% CW</td>\n",
       "      <td>-46%</td>\n",
       "    </tr>\n",
       "    <tr>\n",
       "      <th>18</th>\n",
       "      <td>A286, 60% CW</td>\n",
       "      <td>-40%</td>\n",
       "    </tr>\n",
       "    <tr>\n",
       "      <th>19</th>\n",
       "      <td>A286, 80%-1 CW</td>\n",
       "      <td>-64%</td>\n",
       "    </tr>\n",
       "  </tbody>\n",
       "</table>\n",
       "</div>"
      ],
      "text/plain": [
       "         Sample ID % change from 0% CW\n",
       "15     A286, 0% CW                  0%\n",
       "16    A286, 20% CW                -18%\n",
       "17    A286, 40% CW                -46%\n",
       "18    A286, 60% CW                -40%\n",
       "19  A286, 80%-1 CW                -64%"
      ]
     },
     "execution_count": 24,
     "metadata": {},
     "output_type": "execute_result"
    }
   ],
   "source": [
    "BS_tables[3]"
   ]
  },
  {
   "cell_type": "code",
   "execution_count": 17,
   "metadata": {},
   "outputs": [
    {
     "data": {
      "text/plain": [
       "5"
      ]
     },
     "execution_count": 17,
     "metadata": {},
     "output_type": "execute_result"
    }
   ],
   "source": [
    "#bs_table_names = ['UT_back_scattering_SS304_15MHz', 'UT_back_scattering_SS316_15MHz', 'UT_back_scattering_SS347_15MHz', 'UT_back_scattering_SSA286_15MHz']"
   ]
  },
  {
   "cell_type": "code",
   "execution_count": 12,
   "metadata": {},
   "outputs": [],
   "source": [
    "#for table, name in zip(BS_tables, bs_table_names):\n",
    "#    table.to_csv(os.path.join(os.path.dirname(os.getcwd()), '../Data/Extracted_data/'+name+'.csv'),index=False)"
   ]
  },
  {
   "cell_type": "code",
   "execution_count": 15,
   "metadata": {},
   "outputs": [
    {
     "data": {
      "text/html": [
       "<div>\n",
       "<style scoped>\n",
       "    .dataframe tbody tr th:only-of-type {\n",
       "        vertical-align: middle;\n",
       "    }\n",
       "\n",
       "    .dataframe tbody tr th {\n",
       "        vertical-align: top;\n",
       "    }\n",
       "\n",
       "    .dataframe thead th {\n",
       "        text-align: right;\n",
       "    }\n",
       "</style>\n",
       "<table border=\"1\" class=\"dataframe\">\n",
       "  <thead>\n",
       "    <tr style=\"text-align: right;\">\n",
       "      <th></th>\n",
       "      <th>Sample ID</th>\n",
       "      <th>% change from 0% CW</th>\n",
       "    </tr>\n",
       "  </thead>\n",
       "  <tbody>\n",
       "    <tr>\n",
       "      <th>5</th>\n",
       "      <td>316, 0% - 1 CW</td>\n",
       "      <td>0%</td>\n",
       "    </tr>\n",
       "    <tr>\n",
       "      <th>6</th>\n",
       "      <td>316, 20% - 1  CW</td>\n",
       "      <td>30%</td>\n",
       "    </tr>\n",
       "    <tr>\n",
       "      <th>7</th>\n",
       "      <td>316, 40% - 1  CW</td>\n",
       "      <td>-34%</td>\n",
       "    </tr>\n",
       "    <tr>\n",
       "      <th>8</th>\n",
       "      <td>316, 60% - 1  CW</td>\n",
       "      <td>-57%</td>\n",
       "    </tr>\n",
       "    <tr>\n",
       "      <th>9</th>\n",
       "      <td>316, 80% - 1  CW</td>\n",
       "      <td>-69%</td>\n",
       "    </tr>\n",
       "  </tbody>\n",
       "</table>\n",
       "</div>"
      ],
      "text/plain": [
       "          Sample ID % change from 0% CW\n",
       "5    316, 0% - 1 CW                  0%\n",
       "6  316, 20% - 1  CW                 30%\n",
       "7  316, 40% - 1  CW                -34%\n",
       "8  316, 60% - 1  CW                -57%\n",
       "9  316, 80% - 1  CW                -69%"
      ]
     },
     "execution_count": 15,
     "metadata": {},
     "output_type": "execute_result"
    }
   ],
   "source": [
    "UT_BS_2"
   ]
  },
  {
   "cell_type": "code",
   "execution_count": null,
   "metadata": {},
   "outputs": [],
   "source": []
  }
 ],
 "metadata": {
  "kernelspec": {
   "display_name": "Python 3",
   "language": "python",
   "name": "python3"
  },
  "language_info": {
   "codemirror_mode": {
    "name": "ipython",
    "version": 3
   },
   "file_extension": ".py",
   "mimetype": "text/x-python",
   "name": "python",
   "nbconvert_exporter": "python",
   "pygments_lexer": "ipython3",
   "version": "3.8.5"
  }
 },
 "nbformat": 4,
 "nbformat_minor": 4
}
