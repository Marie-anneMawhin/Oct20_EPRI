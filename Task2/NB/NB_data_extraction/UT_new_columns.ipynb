{
 "cells": [
  {
   "cell_type": "code",
   "execution_count": 28,
   "metadata": {},
   "outputs": [],
   "source": [
    "import pandas as pd\n",
    "import numpy as np\n",
    "import matplotlib.pyplot as plt\n",
    "import seaborn as sns\n",
    "import os\n",
    "import tabula\n",
    "import glob"
   ]
  },
  {
   "cell_type": "markdown",
   "metadata": {},
   "source": [
    "### Internal Friction"
   ]
  },
  {
   "cell_type": "code",
   "execution_count": 29,
   "metadata": {},
   "outputs": [],
   "source": [
    "#path to input file\n",
    "input_path = glob.glob(os.path.join('../../Data/Extracted_data', \"UT_internal_friction*.csv\"))"
   ]
  },
  {
   "cell_type": "code",
   "execution_count": 30,
   "metadata": {},
   "outputs": [],
   "source": [
    "# Reading the selected UT data (Total data tables = 12)\n",
    "UT_tables = []\n",
    "for filename in input_path:\n",
    "    df = pd.read_csv(filename)\n",
    "    UT_tables.append(df)"
   ]
  },
  {
   "cell_type": "code",
   "execution_count": 31,
   "metadata": {},
   "outputs": [
    {
     "data": {
      "text/html": [
       "<div>\n",
       "<style scoped>\n",
       "    .dataframe tbody tr th:only-of-type {\n",
       "        vertical-align: middle;\n",
       "    }\n",
       "\n",
       "    .dataframe tbody tr th {\n",
       "        vertical-align: top;\n",
       "    }\n",
       "\n",
       "    .dataframe thead th {\n",
       "        text-align: right;\n",
       "    }\n",
       "</style>\n",
       "<table border=\"1\" class=\"dataframe\">\n",
       "  <thead>\n",
       "    <tr style=\"text-align: right;\">\n",
       "      <th></th>\n",
       "      <th>Sample ID</th>\n",
       "      <th>% CW</th>\n",
       "      <th>% change from 0% CW</th>\n",
       "      <th>Standard Error</th>\n",
       "      <th>Standard Error (%)</th>\n",
       "    </tr>\n",
       "  </thead>\n",
       "  <tbody>\n",
       "    <tr>\n",
       "      <th>0</th>\n",
       "      <td>304, 0% - 1 CW</td>\n",
       "      <td>0</td>\n",
       "      <td>0%</td>\n",
       "      <td>0.013</td>\n",
       "      <td>2.9%</td>\n",
       "    </tr>\n",
       "    <tr>\n",
       "      <th>1</th>\n",
       "      <td>304, 20% - 1 CW</td>\n",
       "      <td>20</td>\n",
       "      <td>50%</td>\n",
       "      <td>0.014</td>\n",
       "      <td>2.0%</td>\n",
       "    </tr>\n",
       "    <tr>\n",
       "      <th>2</th>\n",
       "      <td>304, 40% - 1 CW</td>\n",
       "      <td>40</td>\n",
       "      <td>57%</td>\n",
       "      <td>0.022</td>\n",
       "      <td>3.0%</td>\n",
       "    </tr>\n",
       "    <tr>\n",
       "      <th>3</th>\n",
       "      <td>304, 60% - 1 CW</td>\n",
       "      <td>60</td>\n",
       "      <td>98%</td>\n",
       "      <td>0.010</td>\n",
       "      <td>1.1%</td>\n",
       "    </tr>\n",
       "    <tr>\n",
       "      <th>4</th>\n",
       "      <td>304, 80% - 1 CW</td>\n",
       "      <td>80</td>\n",
       "      <td>94%</td>\n",
       "      <td>0.024</td>\n",
       "      <td>2.7%</td>\n",
       "    </tr>\n",
       "  </tbody>\n",
       "</table>\n",
       "</div>"
      ],
      "text/plain": [
       "         Sample ID  % CW % change from 0% CW  Standard Error  \\\n",
       "0   304, 0% - 1 CW     0                  0%           0.013   \n",
       "1  304, 20% - 1 CW    20                 50%           0.014   \n",
       "2  304, 40% - 1 CW    40                 57%           0.022   \n",
       "3  304, 60% - 1 CW    60                 98%           0.010   \n",
       "4  304, 80% - 1 CW    80                 94%           0.024   \n",
       "\n",
       "  Standard Error (%)  \n",
       "0               2.9%  \n",
       "1               2.0%  \n",
       "2               3.0%  \n",
       "3               1.1%  \n",
       "4               2.7%  "
      ]
     },
     "execution_count": 31,
     "metadata": {},
     "output_type": "execute_result"
    }
   ],
   "source": [
    "UT_tables[0]"
   ]
  },
  {
   "cell_type": "code",
   "execution_count": 32,
   "metadata": {},
   "outputs": [],
   "source": [
    "# Removing '%' sign from the data and converting it into float format\n",
    "for i in range(0,len(UT_tables)):\n",
    "    UT_tables[i][\"% change from 0% CW\"] = list(map(lambda x: x[:-1], UT_tables[i][\"% change from 0% CW\"].values))\n",
    "    UT_tables[i][\"% change from 0% CW\"] = [float(x) for x in UT_tables[i][\"% change from 0% CW\"].values]\n",
    "    UT_tables[i][\"Standard Error (%)\"]= list(map(lambda x: x[:-1], UT_tables[i][\"Standard Error (%)\"].values))\n",
    "    UT_tables[i][\"Standard Error (%)\"] = [float(x) for x in UT_tables[i][\"Standard Error (%)\"].values]"
   ]
  },
  {
   "cell_type": "code",
   "execution_count": 33,
   "metadata": {},
   "outputs": [
    {
     "data": {
      "text/plain": [
       "Sample ID               object\n",
       "% CW                     int64\n",
       "% change from 0% CW    float64\n",
       "Standard Error         float64\n",
       "Standard Error (%)     float64\n",
       "dtype: object"
      ]
     },
     "execution_count": 33,
     "metadata": {},
     "output_type": "execute_result"
    }
   ],
   "source": [
    "UT_tables[11].dtypes"
   ]
  },
  {
   "cell_type": "code",
   "execution_count": 34,
   "metadata": {},
   "outputs": [],
   "source": [
    "# Creating a new column 'change from 0% CW' - The metric equivalent to % values\n",
    "for i in range(0,len(UT_tables)):\n",
    "    UT_tables[i][\"change from 0% CW\"]=UT_tables[i][\"% change from 0% CW\"]*UT_tables[i][\"Standard Error\"]/UT_tables[i][\"Standard Error (%)\"]\n",
    "#     UT_tables[i][\"change from 0% CW\"]=100*UT_tables[i][\"Standard Error\"]/UT_tables[i][\"Standard Error (%)\"]"
   ]
  },
  {
   "cell_type": "code",
   "execution_count": 35,
   "metadata": {},
   "outputs": [
    {
     "data": {
      "text/html": [
       "<div>\n",
       "<style scoped>\n",
       "    .dataframe tbody tr th:only-of-type {\n",
       "        vertical-align: middle;\n",
       "    }\n",
       "\n",
       "    .dataframe tbody tr th {\n",
       "        vertical-align: top;\n",
       "    }\n",
       "\n",
       "    .dataframe thead th {\n",
       "        text-align: right;\n",
       "    }\n",
       "</style>\n",
       "<table border=\"1\" class=\"dataframe\">\n",
       "  <thead>\n",
       "    <tr style=\"text-align: right;\">\n",
       "      <th></th>\n",
       "      <th>Sample ID</th>\n",
       "      <th>% CW</th>\n",
       "      <th>% change from 0% CW</th>\n",
       "      <th>Standard Error</th>\n",
       "      <th>Standard Error (%)</th>\n",
       "      <th>change from 0% CW</th>\n",
       "    </tr>\n",
       "  </thead>\n",
       "  <tbody>\n",
       "    <tr>\n",
       "      <th>0</th>\n",
       "      <td>304, 0% - 1 CW</td>\n",
       "      <td>0</td>\n",
       "      <td>0.0</td>\n",
       "      <td>0.013</td>\n",
       "      <td>2.9</td>\n",
       "      <td>0.000000</td>\n",
       "    </tr>\n",
       "    <tr>\n",
       "      <th>1</th>\n",
       "      <td>304, 20% - 1 CW</td>\n",
       "      <td>20</td>\n",
       "      <td>50.0</td>\n",
       "      <td>0.014</td>\n",
       "      <td>2.0</td>\n",
       "      <td>0.350000</td>\n",
       "    </tr>\n",
       "    <tr>\n",
       "      <th>2</th>\n",
       "      <td>304, 40% - 1 CW</td>\n",
       "      <td>40</td>\n",
       "      <td>57.0</td>\n",
       "      <td>0.022</td>\n",
       "      <td>3.0</td>\n",
       "      <td>0.418000</td>\n",
       "    </tr>\n",
       "    <tr>\n",
       "      <th>3</th>\n",
       "      <td>304, 60% - 1 CW</td>\n",
       "      <td>60</td>\n",
       "      <td>98.0</td>\n",
       "      <td>0.010</td>\n",
       "      <td>1.1</td>\n",
       "      <td>0.890909</td>\n",
       "    </tr>\n",
       "    <tr>\n",
       "      <th>4</th>\n",
       "      <td>304, 80% - 1 CW</td>\n",
       "      <td>80</td>\n",
       "      <td>94.0</td>\n",
       "      <td>0.024</td>\n",
       "      <td>2.7</td>\n",
       "      <td>0.835556</td>\n",
       "    </tr>\n",
       "  </tbody>\n",
       "</table>\n",
       "</div>"
      ],
      "text/plain": [
       "         Sample ID  % CW  % change from 0% CW  Standard Error  \\\n",
       "0   304, 0% - 1 CW     0                  0.0           0.013   \n",
       "1  304, 20% - 1 CW    20                 50.0           0.014   \n",
       "2  304, 40% - 1 CW    40                 57.0           0.022   \n",
       "3  304, 60% - 1 CW    60                 98.0           0.010   \n",
       "4  304, 80% - 1 CW    80                 94.0           0.024   \n",
       "\n",
       "   Standard Error (%)  change from 0% CW  \n",
       "0                 2.9           0.000000  \n",
       "1                 2.0           0.350000  \n",
       "2                 3.0           0.418000  \n",
       "3                 1.1           0.890909  \n",
       "4                 2.7           0.835556  "
      ]
     },
     "execution_count": 35,
     "metadata": {},
     "output_type": "execute_result"
    }
   ],
   "source": [
    "UT_tables[0] # These are the required final UT tables"
   ]
  },
  {
   "cell_type": "code",
   "execution_count": 36,
   "metadata": {},
   "outputs": [
    {
     "data": {
      "image/png": "[encoded data removed]",
      "text/plain": [
       "<Figure size 432x288 with 1 Axes>"
      ]
     },
     "metadata": {
      "needs_background": "light"
     },
     "output_type": "display_data"
    }
   ],
   "source": [
    "UT_tables[0].plot('% CW','change from 0% CW').grid()"
   ]
  },
  {
   "cell_type": "code",
   "execution_count": 37,
   "metadata": {},
   "outputs": [],
   "source": [
    "# Creating a new column 'change from 0% CW' - The metric equivalent to % values\n",
    "for i in range(0,len(UT_tables)):\n",
    "    UT_tables[i][\"change from 0% CW\"]=100*UT_tables[i][\"Standard Error\"]/UT_tables[i][\"Standard Error (%)\"]"
   ]
  },
  {
   "cell_type": "code",
   "execution_count": 38,
   "metadata": {},
   "outputs": [
    {
     "data": {
      "text/html": [
       "<div>\n",
       "<style scoped>\n",
       "    .dataframe tbody tr th:only-of-type {\n",
       "        vertical-align: middle;\n",
       "    }\n",
       "\n",
       "    .dataframe tbody tr th {\n",
       "        vertical-align: top;\n",
       "    }\n",
       "\n",
       "    .dataframe thead th {\n",
       "        text-align: right;\n",
       "    }\n",
       "</style>\n",
       "<table border=\"1\" class=\"dataframe\">\n",
       "  <thead>\n",
       "    <tr style=\"text-align: right;\">\n",
       "      <th></th>\n",
       "      <th>Sample ID</th>\n",
       "      <th>% CW</th>\n",
       "      <th>% change from 0% CW</th>\n",
       "      <th>Standard Error</th>\n",
       "      <th>Standard Error (%)</th>\n",
       "      <th>change from 0% CW</th>\n",
       "    </tr>\n",
       "  </thead>\n",
       "  <tbody>\n",
       "    <tr>\n",
       "      <th>0</th>\n",
       "      <td>304, 0% - 1 CW</td>\n",
       "      <td>0</td>\n",
       "      <td>0.0</td>\n",
       "      <td>0.013</td>\n",
       "      <td>2.9</td>\n",
       "      <td>0.448276</td>\n",
       "    </tr>\n",
       "    <tr>\n",
       "      <th>1</th>\n",
       "      <td>304, 20% - 1 CW</td>\n",
       "      <td>20</td>\n",
       "      <td>50.0</td>\n",
       "      <td>0.014</td>\n",
       "      <td>2.0</td>\n",
       "      <td>0.700000</td>\n",
       "    </tr>\n",
       "    <tr>\n",
       "      <th>2</th>\n",
       "      <td>304, 40% - 1 CW</td>\n",
       "      <td>40</td>\n",
       "      <td>57.0</td>\n",
       "      <td>0.022</td>\n",
       "      <td>3.0</td>\n",
       "      <td>0.733333</td>\n",
       "    </tr>\n",
       "    <tr>\n",
       "      <th>3</th>\n",
       "      <td>304, 60% - 1 CW</td>\n",
       "      <td>60</td>\n",
       "      <td>98.0</td>\n",
       "      <td>0.010</td>\n",
       "      <td>1.1</td>\n",
       "      <td>0.909091</td>\n",
       "    </tr>\n",
       "    <tr>\n",
       "      <th>4</th>\n",
       "      <td>304, 80% - 1 CW</td>\n",
       "      <td>80</td>\n",
       "      <td>94.0</td>\n",
       "      <td>0.024</td>\n",
       "      <td>2.7</td>\n",
       "      <td>0.888889</td>\n",
       "    </tr>\n",
       "  </tbody>\n",
       "</table>\n",
       "</div>"
      ],
      "text/plain": [
       "         Sample ID  % CW  % change from 0% CW  Standard Error  \\\n",
       "0   304, 0% - 1 CW     0                  0.0           0.013   \n",
       "1  304, 20% - 1 CW    20                 50.0           0.014   \n",
       "2  304, 40% - 1 CW    40                 57.0           0.022   \n",
       "3  304, 60% - 1 CW    60                 98.0           0.010   \n",
       "4  304, 80% - 1 CW    80                 94.0           0.024   \n",
       "\n",
       "   Standard Error (%)  change from 0% CW  \n",
       "0                 2.9           0.448276  \n",
       "1                 2.0           0.700000  \n",
       "2                 3.0           0.733333  \n",
       "3                 1.1           0.909091  \n",
       "4                 2.7           0.888889  "
      ]
     },
     "execution_count": 38,
     "metadata": {},
     "output_type": "execute_result"
    }
   ],
   "source": [
    "UT_tables[0] "
   ]
  },
  {
   "cell_type": "code",
   "execution_count": 39,
   "metadata": {},
   "outputs": [
    {
     "data": {
      "image/png": "[encoded data removed]",
      "text/plain": [
       "<Figure size 432x288 with 1 Axes>"
      ]
     },
     "metadata": {
      "needs_background": "light"
     },
     "output_type": "display_data"
    }
   ],
   "source": [
    "UT_tables[0].plot('% CW','% change from 0% CW').grid()"
   ]
  },
  {
   "cell_type": "markdown",
   "metadata": {},
   "source": [
    "### Back Scattering data"
   ]
  },
  {
   "cell_type": "code",
   "execution_count": 40,
   "metadata": {},
   "outputs": [],
   "source": [
    "# Path to the input file\n",
    "bs_input = os.path.join(os.path.dirname(os.getcwd()), '../Data/Extracted_data/UT_backscattering.csv')"
   ]
  },
  {
   "cell_type": "code",
   "execution_count": 41,
   "metadata": {},
   "outputs": [],
   "source": [
    "# Reading the file\n",
    "bs_table=pd.read_csv(bs_input)"
   ]
  },
  {
   "cell_type": "code",
   "execution_count": 42,
   "metadata": {},
   "outputs": [],
   "source": [
    "BS_tables = []\n",
    "for i in range(0,len(bs_table.index)):\n",
    "    if i%5==0:\n",
    "        BS_tables.append(bs_table.iloc[i:i+5])"
   ]
  },
  {
   "cell_type": "code",
   "execution_count": 43,
   "metadata": {},
   "outputs": [
    {
     "data": {
      "text/html": [
       "<div>\n",
       "<style scoped>\n",
       "    .dataframe tbody tr th:only-of-type {\n",
       "        vertical-align: middle;\n",
       "    }\n",
       "\n",
       "    .dataframe tbody tr th {\n",
       "        vertical-align: top;\n",
       "    }\n",
       "\n",
       "    .dataframe thead th {\n",
       "        text-align: right;\n",
       "    }\n",
       "</style>\n",
       "<table border=\"1\" class=\"dataframe\">\n",
       "  <thead>\n",
       "    <tr style=\"text-align: right;\">\n",
       "      <th></th>\n",
       "      <th>Sample ID</th>\n",
       "      <th>% change from 0% CW</th>\n",
       "    </tr>\n",
       "  </thead>\n",
       "  <tbody>\n",
       "    <tr>\n",
       "      <th>15</th>\n",
       "      <td>A286, 0% CW</td>\n",
       "      <td>0%</td>\n",
       "    </tr>\n",
       "    <tr>\n",
       "      <th>16</th>\n",
       "      <td>A286, 20% CW</td>\n",
       "      <td>-18%</td>\n",
       "    </tr>\n",
       "    <tr>\n",
       "      <th>17</th>\n",
       "      <td>A286, 40% CW</td>\n",
       "      <td>-46%</td>\n",
       "    </tr>\n",
       "    <tr>\n",
       "      <th>18</th>\n",
       "      <td>A286, 60% CW</td>\n",
       "      <td>-40%</td>\n",
       "    </tr>\n",
       "    <tr>\n",
       "      <th>19</th>\n",
       "      <td>A286, 80%-1 CW</td>\n",
       "      <td>-64%</td>\n",
       "    </tr>\n",
       "  </tbody>\n",
       "</table>\n",
       "</div>"
      ],
      "text/plain": [
       "         Sample ID % change from 0% CW\n",
       "15     A286, 0% CW                  0%\n",
       "16    A286, 20% CW                -18%\n",
       "17    A286, 40% CW                -46%\n",
       "18    A286, 60% CW                -40%\n",
       "19  A286, 80%-1 CW                -64%"
      ]
     },
     "execution_count": 43,
     "metadata": {},
     "output_type": "execute_result"
    }
   ],
   "source": [
    "BS_tables[3] # These are the required final backscattering files"
   ]
  },
  {
   "cell_type": "code",
   "execution_count": 44,
   "metadata": {},
   "outputs": [],
   "source": [
    "#bs_table_names = ['UT_back_scattering_SS304_15MHz', 'UT_back_scattering_SS316_15MHz', 'UT_back_scattering_SS347_15MHz', 'UT_back_scattering_SSA286_15MHz']"
   ]
  },
  {
   "cell_type": "code",
   "execution_count": 45,
   "metadata": {},
   "outputs": [],
   "source": [
    "#for table, name in zip(BS_tables, bs_table_names):\n",
    "#    table.to_csv(os.path.join(os.path.dirname(os.getcwd()), '../Data/Extracted_data/'+name+'.csv'),index=False)"
   ]
  },
  {
   "cell_type": "code",
   "execution_count": null,
   "metadata": {},
   "outputs": [],
   "source": []
  }
 ],
 "metadata": {
  "kernelspec": {
   "display_name": "Python 3",
   "language": "python",
   "name": "python3"
  },
  "language_info": {
   "codemirror_mode": {
    "name": "ipython",
    "version": 3
   },
   "file_extension": ".py",
   "mimetype": "text/x-python",
   "name": "python",
   "nbconvert_exporter": "python",
   "pygments_lexer": "ipython3",
   "version": "3.8.5"
  }
 },
 "nbformat": 4,
 "nbformat_minor": 4
}
