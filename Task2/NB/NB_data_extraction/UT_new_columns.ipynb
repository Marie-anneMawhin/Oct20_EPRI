{
 "cells": [
  {
   "cell_type": "markdown",
   "metadata": {},
   "source": [
    "Test calculation from fold change for UT (uses raw data provided later)"
   ]
  },
  {
   "cell_type": "code",
   "execution_count": null,
   "metadata": {},
   "outputs": [],
   "source": [
    "import pandas as pd\n",
    "import numpy as np\n",
    "import matplotlib.pyplot as plt\n",
    "import seaborn as sns\n",
    "import os\n",
    "import tabula\n",
    "import glob"
   ]
  },
  {
   "cell_type": "markdown",
   "metadata": {},
   "source": [
    "### Internal Friction"
   ]
  },
  {
   "cell_type": "code",
   "execution_count": null,
   "metadata": {},
   "outputs": [],
   "source": [
    "#path to input file\n",
    "input_path = glob.glob(os.path.join('../../Data/Extracted_data', \"UT_internal_friction*.csv\"))"
   ]
  },
  {
   "cell_type": "code",
   "execution_count": null,
   "metadata": {},
   "outputs": [],
   "source": [
    "# Reading the selected UT data (Total data tables = 12)\n",
    "UT_tables = []\n",
    "for filename in input_path:\n",
    "    df = pd.read_csv(filename)\n",
    "    UT_tables.append(df)"
   ]
  },
  {
   "cell_type": "code",
   "execution_count": null,
   "metadata": {},
   "outputs": [],
   "source": [
    "# Removing '%' sign from the data and converting it into float format\n",
    "for i in range(0,len(UT_tables)):\n",
    "    UT_tables[i][\"% change from 0% CW\"] = list(map(lambda x: x[:-1], UT_tables[i][\"% change from 0% CW\"].values))\n",
    "    UT_tables[i][\"% change from 0% CW\"] = [float(x) for x in UT_tables[i][\"% change from 0% CW\"].values]\n",
    "    UT_tables[i][\"Standard Error (%)\"]= list(map(lambda x: x[:-1], UT_tables[i][\"Standard Error (%)\"].values))\n",
    "    UT_tables[i][\"Standard Error (%)\"] = [float(x) for x in UT_tables[i][\"Standard Error (%)\"].values]"
   ]
  },
  {
   "cell_type": "code",
   "execution_count": null,
   "metadata": {},
   "outputs": [],
   "source": [
    "UT_tables[11].dtypes"
   ]
  },
  {
   "cell_type": "code",
   "execution_count": null,
   "metadata": {},
   "outputs": [],
   "source": [
    "# Creating a new column 'change from 0% CW' - The metric equivalent to % values\n",
    "for i in range(0,len(UT_tables)):\n",
    "    UT_tables[i][\"change from 0% CW\"]=UT_tables[i][\"% change from 0% CW\"]*UT_tables[i][\"Standard Error\"]/UT_tables[i][\"Standard Error (%)\"]\n",
    "#     UT_tables[i][\"change from 0% CW\"]=100*UT_tables[i][\"Standard Error\"]/UT_tables[i][\"Standard Error (%)\"]"
   ]
  },
  {
   "cell_type": "code",
   "execution_count": null,
   "metadata": {},
   "outputs": [],
   "source": [
    "UT_tables[0].plot('% CW','change from 0% CW').grid()"
   ]
  },
  {
   "cell_type": "code",
   "execution_count": null,
   "metadata": {},
   "outputs": [],
   "source": [
    "# Creating a new column 'change from 0% CW' - The metric equivalent to % values\n",
    "for i in range(0,len(UT_tables)):\n",
    "    UT_tables[i][\"change from 0% CW\"]=100*UT_tables[i][\"Standard Error\"]/UT_tables[i][\"Standard Error (%)\"]"
   ]
  },
  {
   "cell_type": "code",
   "execution_count": null,
   "metadata": {},
   "outputs": [],
   "source": [
    "UT_tables[0].plot('% CW','% change from 0% CW').grid()"
   ]
  },
  {
   "cell_type": "markdown",
   "metadata": {},
   "source": [
    "### Back Scattering data"
   ]
  },
  {
   "cell_type": "code",
   "execution_count": null,
   "metadata": {},
   "outputs": [],
   "source": [
    "# Path to the input file\n",
    "bs_input = os.path.join(os.path.dirname(os.getcwd()), '../Data/Extracted_data/UT_backscattering.csv')"
   ]
  },
  {
   "cell_type": "code",
   "execution_count": null,
   "metadata": {},
   "outputs": [],
   "source": [
    "# Reading the file\n",
    "bs_table=pd.read_csv(bs_input)"
   ]
  },
  {
   "cell_type": "code",
   "execution_count": null,
   "metadata": {},
   "outputs": [],
   "source": [
    "BS_tables = []\n",
    "for i in range(0,len(bs_table.index)):\n",
    "    if i%5==0:\n",
    "        BS_tables.append(bs_table.iloc[i:i+5])"
   ]
  },
  {
   "cell_type": "code",
   "execution_count": null,
   "metadata": {},
   "outputs": [],
   "source": [
    "#bs_table_names = ['UT_back_scattering_SS304_15MHz', 'UT_back_scattering_SS316_15MHz', 'UT_back_scattering_SS347_15MHz', 'UT_back_scattering_SSA286_15MHz']"
   ]
  },
  {
   "cell_type": "code",
   "execution_count": null,
   "metadata": {},
   "outputs": [],
   "source": [
    "#for table, name in zip(BS_tables, bs_table_names):\n",
    "#    table.to_csv(os.path.join(os.path.dirname(os.getcwd()), '../Data/Extracted_data/'+name+'.csv'),index=False)"
   ]
  },
  {
   "cell_type": "code",
   "execution_count": null,
   "metadata": {},
   "outputs": [],
   "source": []
  }
 ],
 "metadata": {
  "kernelspec": {
   "display_name": "Python 3",
   "language": "python",
   "name": "python3"
  },
  "language_info": {
   "codemirror_mode": {
    "name": "ipython",
    "version": 3
   },
   "file_extension": ".py",
   "mimetype": "text/x-python",
   "name": "python",
   "nbconvert_exporter": "python",
   "pygments_lexer": "ipython3",
   "version": "3.8.5"
  }
 },
 "nbformat": 4,
 "nbformat_minor": 4
}
