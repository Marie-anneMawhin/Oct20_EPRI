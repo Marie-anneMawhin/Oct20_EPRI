{
 "cells": [
  {
   "cell_type": "code",
   "execution_count": 1,
   "metadata": {},
   "outputs": [],
   "source": [
    "import pandas as pd\n",
    "import numpy as np\n",
    "import matplotlib.pyplot as plt\n",
    "import seaborn as sns\n",
    "import os\n",
    "import tabula"
   ]
  },
  {
   "cell_type": "code",
   "execution_count": 2,
   "metadata": {},
   "outputs": [],
   "source": [
    "#path to pdf file\n",
    "panetta_pdf = os.path.join(os.path.dirname(os.getcwd()), '../Data/Raw_data/NDE_Data/Panetta_Internal_Friction_and_Backscattering_Results.pdf')"
   ]
  },
  {
   "cell_type": "code",
   "execution_count": 3,
   "metadata": {},
   "outputs": [],
   "source": [
    "# Reading and extracting tables from pdf file\n",
    "tables = tabula.read_pdf(panetta_pdf, pages=[3,4,5,6,9], lattice=True, pandas_options={'header':0})"
   ]
  },
  {
   "cell_type": "code",
   "execution_count": 5,
   "metadata": {},
   "outputs": [],
   "source": [
    "# Creating a new list of required tables\n",
    "new_table = tables[1],tables[4],tables[7],tables[10],tables[13],tables[14],tables[15],tables[16]"
   ]
  },
  {
   "cell_type": "code",
   "execution_count": 6,
   "metadata": {},
   "outputs": [],
   "source": [
    "column_names=['Sample ID', '% CW', '% change from 0% CW', 'Standard Error','Standard Error (%)']"
   ]
  },
  {
   "cell_type": "code",
   "execution_count": 7,
   "metadata": {},
   "outputs": [],
   "source": [
    "# Correcting columns names\n",
    "for i in range(0,len(new_table)):\n",
    "    new_table[i].columns = column_names"
   ]
  },
  {
   "cell_type": "code",
   "execution_count": 8,
   "metadata": {},
   "outputs": [],
   "source": [
    "tables_2 = tabula.read_pdf(panetta_pdf, pages=[11], lattice=True, pandas_options={'header':0})"
   ]
  },
  {
   "cell_type": "code",
   "execution_count": 12,
   "metadata": {},
   "outputs": [],
   "source": [
    "column_names_2=['Sample ID', '% CW', '% change from 0% CW', 'Sample ID',\\\n",
    "       '% change from 0% CW', 'Sample ID', '% change from 0% CW',\\\n",
    "       'Sample ID', '% change from 0% CW']"
   ]
  },
  {
   "cell_type": "code",
   "execution_count": 13,
   "metadata": {},
   "outputs": [],
   "source": [
    "# Correcting columns names\n",
    "tables_2[1].columns=column_names_2"
   ]
  },
  {
   "cell_type": "code",
   "execution_count": 33,
   "metadata": {},
   "outputs": [],
   "source": [
    "# Creating a new list of required repeated experiments tables\n",
    "repeat_table = tables[2],tables[5],tables[8],tables[11]"
   ]
  },
  {
   "cell_type": "code",
   "execution_count": 34,
   "metadata": {},
   "outputs": [],
   "source": [
    "repeat_columns=['Sample', '% change from 0% CW', 'Standard Error','Standard Error (%)']"
   ]
  },
  {
   "cell_type": "code",
   "execution_count": 36,
   "metadata": {},
   "outputs": [],
   "source": [
    "# Correcting columns names for repeat experiments\n",
    "for i in range(0,len(repeat_table)):\n",
    "    repeat_table[i].columns = repeat_columns"
   ]
  },
  {
   "cell_type": "code",
   "execution_count": 60,
   "metadata": {},
   "outputs": [],
   "source": [
    "# Corrections in Repeat Tables\n",
    "repeat_table[0].iloc[[0],[0]]='304-20-1 CW'\n",
    "repeat_table[1].iloc[[0],[0]]='316 40%-1'\n",
    "repeat_table[1].iloc[[1],[0]]='316 40%-1'\n",
    "repeat_table[3].iloc[[0],[0]]='A286-80-1 CW'"
   ]
  },
  {
   "cell_type": "code",
   "execution_count": 70,
   "metadata": {},
   "outputs": [],
   "source": [
    "#Extracting CSV\n",
    "table_names = ['UT_internal_friction_SS304_2_25MHz', 'UT_internal_friction_SS316_2_25MHz', 'UT_internal_friction_SS347_2_25MHz', 'UT_internal_friction_SSA286_2_25MHz',\\\n",
    "              'UT_internal_friction_SS304_3_5MHz', 'UT_internal_friction_SS316_3_5MHz', 'UT_internal_friction_SS347_3_5MHz', 'UT_internal_friction_SSA286_3_5MHz']\n",
    "\n",
    "for table, name in zip(new_table, table_names):\n",
    "    table.to_csv(os.path.join(os.path.dirname(os.getcwd()), '../Data/Extracted_data/'+name+'.csv'),index=False)\n",
    "\n",
    "repeat_expt = ['UT_internal_friction_SS304_2_25MHz_rep20', 'UT_internal_friction_SS316_2_25MHz_rep40', 'UT_internal_friction_SS347_2_25MHz_rep60', 'UT_internal_friction_SSA286_2_25MHz_rep80']\n",
    "\n",
    "for table, name in zip(repeat_table, repeat_expt):\n",
    "    table.to_csv(os.path.join(os.path.dirname(os.getcwd()), '../Data/Extracted_data/'+name+'.csv'),index=False)"
   ]
  },
  {
   "cell_type": "code",
   "execution_count": 71,
   "metadata": {},
   "outputs": [],
   "source": [
    "bs = os.path.join(os.path.dirname(os.getcwd()), '../Data/Extracted_data/UT_backscattering.csv')"
   ]
  },
  {
   "cell_type": "code",
   "execution_count": 72,
   "metadata": {},
   "outputs": [],
   "source": [
    "tables_2[1].to_csv(bs,index=False)"
   ]
  },
  {
   "cell_type": "code",
   "execution_count": null,
   "metadata": {},
   "outputs": [],
   "source": []
  }
 ],
 "metadata": {
  "kernelspec": {
   "display_name": "Python 3",
   "language": "python",
   "name": "python3"
  },
  "language_info": {
   "codemirror_mode": {
    "name": "ipython",
    "version": 3
   },
   "file_extension": ".py",
   "mimetype": "text/x-python",
   "name": "python",
   "nbconvert_exporter": "python",
   "pygments_lexer": "ipython3",
   "version": "3.7.6"
  }
 },
 "nbformat": 4,
 "nbformat_minor": 4
}
