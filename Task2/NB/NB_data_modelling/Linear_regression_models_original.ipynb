{
 "cells": [
  {
   "cell_type": "markdown",
   "metadata": {},
   "source": [
    "Regression on orignal data (Linear, Ridge, ElasticNet, Lasso), no tuning,  needs more data"
   ]
  },
  {
   "cell_type": "code",
   "execution_count": null,
   "metadata": {},
   "outputs": [],
   "source": [
    "import pandas as pd\n",
    "import numpy as np\n",
    "import matplotlib.pyplot as plt\n",
    "import seaborn as sns\n",
    "from scipy.cluster import hierarchy\n",
    "from sklearn.preprocessing import MinMaxScaler\n",
    "import os, glob, inspect, sys\n",
    "import re\n",
    "\n",
    "currentdir = os.path.dirname(os.path.abspath(inspect.getfile(inspect.currentframe())))\n",
    "parentdir = os.path.dirname(currentdir)\n",
    "sys.path.insert(0,parentdir) \n",
    "import epri_mc_lib_2 as mc\n",
    "from importlib import reload\n",
    "reload(mc)"
   ]
  },
  {
   "cell_type": "code",
   "execution_count": null,
   "metadata": {},
   "outputs": [],
   "source": [
    "from sklearn import model_selection\n",
    "from sklearn.linear_model import LinearRegression\n",
    "from sklearn.linear_model import Ridge\n",
    "from sklearn.linear_model import Lasso\n",
    "from sklearn.linear_model import ElasticNet\n",
    "from sklearn.neighbors import KNeighborsRegressor\n",
    "from sklearn.tree import DecisionTreeRegressor\n",
    "from sklearn.svm import SVR\n",
    "from sklearn.ensemble import RandomForestRegressor\n",
    "from sklearn.metrics import r2_score\n",
    "from sklearn.model_selection import train_test_split\n",
    "from sklearn.metrics import mean_squared_error\n",
    "from math import sqrt"
   ]
  },
  {
   "cell_type": "markdown",
   "metadata": {},
   "source": [
    "### Import data and merge replicates"
   ]
  },
  {
   "cell_type": "code",
   "execution_count": null,
   "metadata": {},
   "outputs": [],
   "source": [
    "merged = pd.read_csv(os.path.join(os.path.dirname(os.getcwd()), '../Data/Merged_data/MERGE_FT_TEP_UT_on_ID.csv'),\n",
    "                    index_col=0)\n",
    "merged.index = merged.index.str.rstrip('-12345')\n",
    "mean_df = merged.groupby('ID').mean()\n",
    "# Get rid of cold work\n",
    "cw_regex = re.compile(\"[0-9]+$\") \n",
    "mean_df['cold_work'] = [int(re.search(cw_regex,x).group()) for x in mean_df.index]\n",
    "mean_df.index = mean_df.index.str.rstrip('02468')\n",
    "mean_df.index = mean_df.index.str.rstrip('-')"
   ]
  },
  {
   "cell_type": "markdown",
   "metadata": {},
   "source": [
    "## Select columns of interest"
   ]
  },
  {
   "cell_type": "code",
   "execution_count": null,
   "metadata": {},
   "outputs": [],
   "source": [
    "mean_df = mean_df[mc.regression_cols_real_data].dropna()"
   ]
  },
  {
   "cell_type": "markdown",
   "metadata": {},
   "source": [
    "## Scale data"
   ]
  },
  {
   "cell_type": "code",
   "execution_count": null,
   "metadata": {},
   "outputs": [],
   "source": [
    "# Introducing the logarithmic of KJIC\n",
    "mean_df.KJIC = np.log(mean_df.KJIC)\n",
    "scaled_df = mc.scale_general(mean_df, MinMaxScaler())\n"
   ]
  },
  {
   "cell_type": "code",
   "execution_count": null,
   "metadata": {},
   "outputs": [],
   "source": [
    "sns.heatmap(mean_df.corr())"
   ]
  },
  {
   "cell_type": "code",
   "execution_count": null,
   "metadata": {},
   "outputs": [],
   "source": [
    "SS_304=scaled_df[0].iloc[0:5]\n",
    "SS_316=scaled_df[0].iloc[5:10]\n",
    "SS_347=scaled_df[0].iloc[10:15]\n",
    "SS_A286=scaled_df[0].iloc[15:20]"
   ]
  },
  {
   "cell_type": "code",
   "execution_count": null,
   "metadata": {},
   "outputs": [],
   "source": [
    "SS_list=[\"SS304\",\"SS316\",\"SS347\",\"SSA286\"]"
   ]
  },
  {
   "cell_type": "markdown",
   "metadata": {},
   "source": [
    "## Linear Regression"
   ]
  },
  {
   "cell_type": "code",
   "execution_count": null,
   "metadata": {},
   "outputs": [],
   "source": [
    "def lr_sstype(scaled_df,name):\n",
    "    # Creating Predictor variable 'X' and Target Variable 'y'\n",
    "    # X contains all the features except for the target value Price\n",
    "    X = scaled_df.drop('KJIC', axis = 1)\n",
    "    y = scaled_df['KJIC']\n",
    "    \n",
    "    # Creating the training and test sets\n",
    "    X_train, X_test, y_train, y_test = train_test_split(X,y, test_size=0.3, random_state=50)\n",
    "    \n",
    "    # X_train contains 70% of total dataset\n",
    "    print(\"Training dataset:\", X_train.shape)\n",
    "    # X_test contains 30% of total dataset\n",
    "    print(\"Test dataset:\", X_test.shape)\n",
    "    \n",
    "    # Model Liner Regression\n",
    "    lr = LinearRegression()\n",
    "    \n",
    "    #Train/fit the model to training data\n",
    "    lr.fit(X_train,y_train)\n",
    "    \n",
    "    pred = lr.predict(X_test)\n",
    "    \n",
    "    # print the intercept\n",
    "    print(\"Intercept:\", lr.intercept_)\n",
    "    \n",
    "    #Coefficients\n",
    "    coeff_df = pd.DataFrame(lr.coef_,X.columns,columns=['Coefficient'])\n",
    "    print(\"Coefficients:\", coeff_df)\n",
    "    \n",
    "    \n",
    "    print(\"r2 score for training: \", r2_score(y_train, lr.predict(X_train)))\n",
    "    print(\"r2 score for testing: \", r2_score(y_test, pred))\n",
    "    \n",
    "    print('MAE:', metrics.mean_absolute_error(y_test, pred))\n",
    "    print('MSE:', metrics.mean_squared_error(y_test, pred))\n",
    "    print('RMSE:', np.sqrt(metrics.mean_squared_error(y_test, pred)))\n",
    "    \n",
    "    plt.scatter(y_test,pred)\n",
    "    plt.title(\"Linear Regression of \"+ name)\n",
    "    plt.xlabel(\"Fracture Toughness\")\n",
    "    plt.ylabel(\"Predicted Fracture Toughness\")\n",
    "    \n",
    "    return"
   ]
  },
  {
   "cell_type": "code",
   "execution_count": null,
   "metadata": {},
   "outputs": [],
   "source": [
    "lr_sstype(SS_304,\"SS304\")"
   ]
  },
  {
   "cell_type": "markdown",
   "metadata": {},
   "source": [
    "## Ridge Regression"
   ]
  },
  {
   "cell_type": "code",
   "execution_count": null,
   "metadata": {},
   "outputs": [],
   "source": [
    "def rr_sstype(scaled_df,name):\n",
    "    # Creating Predictor variable 'X' and Target Variable 'y'\n",
    "    # X contains all the features except for the target value Price\n",
    "    X = scaled_df.drop('KJIC', axis = 1)\n",
    "    y = scaled_df['KJIC']\n",
    "    \n",
    "    # Creating the training and test sets\n",
    "    X_train, X_test, y_train, y_test = train_test_split(X,y, test_size=0.3, random_state=50)\n",
    "    \n",
    "    # X_train contains 70% of total dataset\n",
    "    print(\"Training dataset:\", X_train.shape)\n",
    "    # X_test contains 30% of total dataset\n",
    "    print(\"Test dataset:\", X_test.shape)\n",
    "    \n",
    "    #Model Ridge Rigression\n",
    "    rr = Ridge(alpha=0.01)\n",
    "    rr.fit(X_train, y_train) \n",
    "    pred_train_rr= rr.predict(X_train)\n",
    "    print(\"RMSE train:\", np.sqrt(mean_squared_error(y_train,pred_train_rr)))\n",
    "    print(\"r2 score for training: \", r2_score(y_train, pred_train_rr))\n",
    "    \n",
    "    pred_test_rr= rr.predict(X_test)\n",
    "    print(\"RMSE test:\", np.sqrt(mean_squared_error(y_test,pred_test_rr))) \n",
    "    print(\"r2 score for test: \", r2_score(y_test, pred_test_rr))\n",
    "    \n",
    "    plt.scatter(y_test,pred_test_rr)\n",
    "    plt.title(\"Ridge Regression of \"+ name)\n",
    "    plt.xlabel(\"Fracture Toughness\")\n",
    "    plt.ylabel(\"Predicted Fracture Toughness\")\n",
    "    \n",
    "    return"
   ]
  },
  {
   "cell_type": "code",
   "execution_count": null,
   "metadata": {},
   "outputs": [],
   "source": [
    "rr_sstype(SS_304,\"SS304\")"
   ]
  },
  {
   "cell_type": "code",
   "execution_count": null,
   "metadata": {},
   "outputs": [],
   "source": [
    "rr_sstype(SS_316,\"SS316\")"
   ]
  },
  {
   "cell_type": "code",
   "execution_count": null,
   "metadata": {},
   "outputs": [],
   "source": [
    "rr_sstype(SS_347,\"SS347\")"
   ]
  },
  {
   "cell_type": "markdown",
   "metadata": {},
   "source": [
    "## Elastic net"
   ]
  },
  {
   "cell_type": "code",
   "execution_count": null,
   "metadata": {},
   "outputs": [],
   "source": [
    "def enet_sstype(scaled_df,name):\n",
    "    # Creating Predictor variable 'X' and Target Variable 'y'\n",
    "    # X contains all the features except for the target value Price\n",
    "    X = scaled_df.drop('KJIC', axis = 1)\n",
    "    y = scaled_df['KJIC']\n",
    "    \n",
    "    # Creating the training and test sets\n",
    "    X_train, X_test, y_train, y_test = train_test_split(X,y, test_size=0.3, random_state=50)\n",
    "    \n",
    "    # X_train contains 70% of total dataset\n",
    "    print(\"Training dataset:\", X_train.shape)\n",
    "    # X_test contains 30% of total dataset\n",
    "    print(\"Test dataset:\", X_test.shape)\n",
    "    \n",
    "    #Model Ridge Rigression\n",
    "    model_enet = ElasticNet(alpha = 0.01)\n",
    "    model_enet.fit(X_train, y_train) \n",
    "    pred_train_enet= model_enet.predict(X_train)\n",
    "    print(\"RMSE train:\", np.sqrt(mean_squared_error(y_train,pred_train_enet)))\n",
    "    print(\"r2 score for training: \", r2_score(y_train, pred_train_enet))\n",
    "    \n",
    "    pred_test_enet= model_enet.predict(X_test)\n",
    "    print(\"RMSE test:\", np.sqrt(mean_squared_error(y_test,pred_test_enet)))\n",
    "    print(\"r2 score for test: \", r2_score(y_test, pred_test_enet))\n",
    "    \n",
    "    plt.scatter(y_test,pred_test_enet)\n",
    "    plt.title(\"Elastic Net Regression of \"+ name)\n",
    "    plt.xlabel(\"Fracture Toughness\")\n",
    "    plt.ylabel(\"Predicted Fracture Toughness\")\n",
    "    \n",
    "    return"
   ]
  },
  {
   "cell_type": "code",
   "execution_count": null,
   "metadata": {},
   "outputs": [],
   "source": [
    "enet_sstype(SS_304,\"SS304\")"
   ]
  },
  {
   "cell_type": "code",
   "execution_count": null,
   "metadata": {},
   "outputs": [],
   "source": [
    "enet_sstype(SS_316,\"SS316\")"
   ]
  },
  {
   "cell_type": "code",
   "execution_count": null,
   "metadata": {},
   "outputs": [],
   "source": [
    "enet_sstype(SS_347,\"SS347\")"
   ]
  },
  {
   "cell_type": "markdown",
   "metadata": {},
   "source": [
    "## Lasso "
   ]
  },
  {
   "cell_type": "code",
   "execution_count": null,
   "metadata": {},
   "outputs": [],
   "source": [
    "def lasso_sstype(scaled_df,name):\n",
    "    # Creating Predictor variable 'X' and Target Variable 'y'\n",
    "    # X contains all the features except for the target value Price\n",
    "    X = scaled_df.drop('KJIC', axis = 1)\n",
    "    y = scaled_df['KJIC']\n",
    "    \n",
    "    # Creating the training and test sets\n",
    "    X_train, X_test, y_train, y_test = train_test_split(X,y, test_size=0.3, random_state=50)\n",
    "    \n",
    "    # X_train contains 70% of total dataset\n",
    "    print(\"Training dataset:\", X_train.shape)\n",
    "    # X_test contains 30% of total dataset\n",
    "    print(\"Test dataset:\", X_test.shape)\n",
    "    \n",
    "    #Model LASSO Rigression\n",
    "    model_lasso = Lasso(alpha=0.01)\n",
    "    model_lasso.fit(X_train, y_train) \n",
    "    pred_train_lasso= model_lasso.predict(X_train)\n",
    "    print(\"RMSE train:\", np.sqrt(mean_squared_error(y_train,pred_train_lasso)))\n",
    "    print(\"r2 score for train: \", r2_score(y_train, pred_train_lasso))\n",
    "    \n",
    "    pred_test_lasso= model_lasso.predict(X_test)\n",
    "    print(\"RMSE test:\", np.sqrt(mean_squared_error(y_test,pred_test_lasso))) \n",
    "    print(\"r2 score for test: \", r2_score(y_test, pred_test_lasso))\n",
    "    \n",
    "    plt.scatter(y_test,pred_test_lasso)\n",
    "    plt.title(\"LASSO Regression of \"+ name)\n",
    "    plt.xlabel(\"Fracture Toughness\")\n",
    "    plt.ylabel(\"Predicted Fracture Toughness\")\n",
    "    \n",
    "    return"
   ]
  },
  {
   "cell_type": "code",
   "execution_count": null,
   "metadata": {},
   "outputs": [],
   "source": [
    "lasso_sstype(SS_304,\"SS304\")"
   ]
  },
  {
   "cell_type": "code",
   "execution_count": null,
   "metadata": {},
   "outputs": [],
   "source": [
    "lasso_sstype(SS_316,\"SS316\")"
   ]
  },
  {
   "cell_type": "code",
   "execution_count": null,
   "metadata": {},
   "outputs": [],
   "source": [
    "lasso_sstype(SS_347,\"SS347\")"
   ]
  },
  {
   "cell_type": "code",
   "execution_count": null,
   "metadata": {},
   "outputs": [],
   "source": []
  }
 ],
 "metadata": {
  "kernelspec": {
   "display_name": "Python 3",
   "language": "python",
   "name": "python3"
  },
  "language_info": {
   "codemirror_mode": {
    "name": "ipython",
    "version": 3
   },
   "file_extension": ".py",
   "mimetype": "text/x-python",
   "name": "python",
   "nbconvert_exporter": "python",
   "pygments_lexer": "ipython3",
   "version": "3.8.5"
  }
 },
 "nbformat": 4,
 "nbformat_minor": 4
}
