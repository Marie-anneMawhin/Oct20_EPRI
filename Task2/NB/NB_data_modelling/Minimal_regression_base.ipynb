{
 "cells": [
  {
   "cell_type": "code",
   "execution_count": 134,
   "metadata": {},
   "outputs": [
    {
     "data": {
      "text/plain": [
       "<module 'epri_mc_lib_2' from '/Users/apple/Desktop/s2ds/work_project/Oct20_EPRI/Task2/NB/epri_mc_lib_2.py'>"
      ]
     },
     "execution_count": 134,
     "metadata": {},
     "output_type": "execute_result"
    }
   ],
   "source": [
    "import pandas as pd\n",
    "import numpy as np\n",
    "import matplotlib.pyplot as plt\n",
    "import seaborn as sns\n",
    "from scipy.cluster import hierarchy\n",
    "from sklearn.preprocessing import MinMaxScaler\n",
    "import os, glob, inspect, sys\n",
    "import re\n",
    "\n",
    "currentdir = os.path.dirname(os.path.abspath(inspect.getfile(inspect.currentframe())))\n",
    "parentdir = os.path.dirname(currentdir)\n",
    "sys.path.insert(0,parentdir) \n",
    "import epri_mc_lib_2 as mc\n",
    "from importlib import reload\n",
    "reload(mc)\n"
   ]
  },
  {
   "cell_type": "code",
   "execution_count": 135,
   "metadata": {},
   "outputs": [],
   "source": [
    "from sklearn import model_selection\n",
    "from sklearn.linear_model import LinearRegression\n",
    "from sklearn.linear_model import Ridge\n",
    "from sklearn.linear_model import Lasso\n",
    "from sklearn.linear_model import ElasticNet\n",
    "from sklearn.neighbors import KNeighborsRegressor\n",
    "from sklearn.tree import DecisionTreeRegressor\n",
    "from sklearn.svm import SVR\n",
    "from sklearn.ensemble import RandomForestRegressor\n",
    "from sklearn.metrics import r2_score\n",
    "from sklearn.model_selection import train_test_split\n",
    "from sklearn.metrics import mean_squared_error\n",
    "from math import sqrt"
   ]
  },
  {
   "cell_type": "markdown",
   "metadata": {},
   "source": [
    "### Import data and merge replicates"
   ]
  },
  {
   "cell_type": "code",
   "execution_count": 142,
   "metadata": {},
   "outputs": [
    {
     "data": {
      "text/html": [
       "<div>\n",
       "<style scoped>\n",
       "    .dataframe tbody tr th:only-of-type {\n",
       "        vertical-align: middle;\n",
       "    }\n",
       "\n",
       "    .dataframe tbody tr th {\n",
       "        vertical-align: top;\n",
       "    }\n",
       "\n",
       "    .dataframe thead th {\n",
       "        text-align: right;\n",
       "    }\n",
       "</style>\n",
       "<table border=\"1\" class=\"dataframe\">\n",
       "  <thead>\n",
       "    <tr style=\"text-align: right;\">\n",
       "      <th></th>\n",
       "      <th>KJIC</th>\n",
       "      <th>MS_Avg</th>\n",
       "      <th>TEP_average</th>\n",
       "      <th>Beta_avg</th>\n",
       "      <th>PC_IF_2.25MHz</th>\n",
       "      <th>PC_IF_3.5MHz</th>\n",
       "      <th>PC_BS</th>\n",
       "      <th>Type</th>\n",
       "    </tr>\n",
       "    <tr>\n",
       "      <th>type_cw</th>\n",
       "      <th></th>\n",
       "      <th></th>\n",
       "      <th></th>\n",
       "      <th></th>\n",
       "      <th></th>\n",
       "      <th></th>\n",
       "      <th></th>\n",
       "      <th></th>\n",
       "    </tr>\n",
       "  </thead>\n",
       "  <tbody>\n",
       "    <tr>\n",
       "      <th>A286-0</th>\n",
       "      <td>79.177783</td>\n",
       "      <td>0.009250</td>\n",
       "      <td>-1.105716</td>\n",
       "      <td>0.002122</td>\n",
       "      <td>3.389241e+02</td>\n",
       "      <td>263.737111</td>\n",
       "      <td>11.109955</td>\n",
       "      <td>A286</td>\n",
       "    </tr>\n",
       "    <tr>\n",
       "      <th>A286-80</th>\n",
       "      <td>61.591571</td>\n",
       "      <td>1.999020</td>\n",
       "      <td>-1.315461</td>\n",
       "      <td>0.002242</td>\n",
       "      <td>3.430339e+02</td>\n",
       "      <td>216.858203</td>\n",
       "      <td>-55.754817</td>\n",
       "      <td>A286</td>\n",
       "    </tr>\n",
       "    <tr>\n",
       "      <th>347-20</th>\n",
       "      <td>145.570410</td>\n",
       "      <td>2.042111</td>\n",
       "      <td>-1.067350</td>\n",
       "      <td>0.001798</td>\n",
       "      <td>5.331034e+02</td>\n",
       "      <td>149.130079</td>\n",
       "      <td>-34.498156</td>\n",
       "      <td>347</td>\n",
       "    </tr>\n",
       "    <tr>\n",
       "      <th>304-40</th>\n",
       "      <td>101.067072</td>\n",
       "      <td>0.016699</td>\n",
       "      <td>-1.462649</td>\n",
       "      <td>0.002260</td>\n",
       "      <td>6.095010e+00</td>\n",
       "      <td>12.327287</td>\n",
       "      <td>-27.993260</td>\n",
       "      <td>304</td>\n",
       "    </tr>\n",
       "    <tr>\n",
       "      <th>A286-0</th>\n",
       "      <td>101.543576</td>\n",
       "      <td>0.320440</td>\n",
       "      <td>-1.270049</td>\n",
       "      <td>0.002692</td>\n",
       "      <td>1.182694e-02</td>\n",
       "      <td>101.160691</td>\n",
       "      <td>-9.956184</td>\n",
       "      <td>A286</td>\n",
       "    </tr>\n",
       "    <tr>\n",
       "      <th>...</th>\n",
       "      <td>...</td>\n",
       "      <td>...</td>\n",
       "      <td>...</td>\n",
       "      <td>...</td>\n",
       "      <td>...</td>\n",
       "      <td>...</td>\n",
       "      <td>...</td>\n",
       "      <td>...</td>\n",
       "    </tr>\n",
       "    <tr>\n",
       "      <th>347-20</th>\n",
       "      <td>126.193410</td>\n",
       "      <td>4.119353</td>\n",
       "      <td>-1.613274</td>\n",
       "      <td>0.002056</td>\n",
       "      <td>7.031386e+01</td>\n",
       "      <td>192.049968</td>\n",
       "      <td>5.342775</td>\n",
       "      <td>347</td>\n",
       "    </tr>\n",
       "    <tr>\n",
       "      <th>A286-60</th>\n",
       "      <td>30.773574</td>\n",
       "      <td>0.009250</td>\n",
       "      <td>-1.495208</td>\n",
       "      <td>0.002422</td>\n",
       "      <td>4.941366e+02</td>\n",
       "      <td>476.006445</td>\n",
       "      <td>-25.253517</td>\n",
       "      <td>A286</td>\n",
       "    </tr>\n",
       "    <tr>\n",
       "      <th>A286-0</th>\n",
       "      <td>101.023432</td>\n",
       "      <td>0.009250</td>\n",
       "      <td>-1.434419</td>\n",
       "      <td>0.002238</td>\n",
       "      <td>3.433636e+02</td>\n",
       "      <td>40.400294</td>\n",
       "      <td>-15.358474</td>\n",
       "      <td>A286</td>\n",
       "    </tr>\n",
       "    <tr>\n",
       "      <th>304-0</th>\n",
       "      <td>128.511108</td>\n",
       "      <td>0.016224</td>\n",
       "      <td>-1.727505</td>\n",
       "      <td>0.002665</td>\n",
       "      <td>9.241084e-10</td>\n",
       "      <td>81.814007</td>\n",
       "      <td>17.849427</td>\n",
       "      <td>304</td>\n",
       "    </tr>\n",
       "    <tr>\n",
       "      <th>316-80</th>\n",
       "      <td>71.588341</td>\n",
       "      <td>0.114199</td>\n",
       "      <td>-1.769469</td>\n",
       "      <td>0.002782</td>\n",
       "      <td>7.933222e+01</td>\n",
       "      <td>25.536902</td>\n",
       "      <td>-46.303116</td>\n",
       "      <td>316</td>\n",
       "    </tr>\n",
       "  </tbody>\n",
       "</table>\n",
       "<p>1000 rows × 8 columns</p>\n",
       "</div>"
      ],
      "text/plain": [
       "               KJIC    MS_Avg  TEP_average  Beta_avg  PC_IF_2.25MHz  \\\n",
       "type_cw                                                               \n",
       "A286-0    79.177783  0.009250    -1.105716  0.002122   3.389241e+02   \n",
       "A286-80   61.591571  1.999020    -1.315461  0.002242   3.430339e+02   \n",
       "347-20   145.570410  2.042111    -1.067350  0.001798   5.331034e+02   \n",
       "304-40   101.067072  0.016699    -1.462649  0.002260   6.095010e+00   \n",
       "A286-0   101.543576  0.320440    -1.270049  0.002692   1.182694e-02   \n",
       "...             ...       ...          ...       ...            ...   \n",
       "347-20   126.193410  4.119353    -1.613274  0.002056   7.031386e+01   \n",
       "A286-60   30.773574  0.009250    -1.495208  0.002422   4.941366e+02   \n",
       "A286-0   101.023432  0.009250    -1.434419  0.002238   3.433636e+02   \n",
       "304-0    128.511108  0.016224    -1.727505  0.002665   9.241084e-10   \n",
       "316-80    71.588341  0.114199    -1.769469  0.002782   7.933222e+01   \n",
       "\n",
       "         PC_IF_3.5MHz      PC_BS  Type  \n",
       "type_cw                                 \n",
       "A286-0     263.737111  11.109955  A286  \n",
       "A286-80    216.858203 -55.754817  A286  \n",
       "347-20     149.130079 -34.498156   347  \n",
       "304-40      12.327287 -27.993260   304  \n",
       "A286-0     101.160691  -9.956184  A286  \n",
       "...               ...        ...   ...  \n",
       "347-20     192.049968   5.342775   347  \n",
       "A286-60    476.006445 -25.253517  A286  \n",
       "A286-0      40.400294 -15.358474  A286  \n",
       "304-0       81.814007  17.849427   304  \n",
       "316-80      25.536902 -46.303116   316  \n",
       "\n",
       "[1000 rows x 8 columns]"
      ]
     },
     "execution_count": 142,
     "metadata": {},
     "output_type": "execute_result"
    }
   ],
   "source": [
    "merged = pd.read_csv(os.path.join(os.path.dirname(os.getcwd()), '../Data/Merged_data/CopulaGAN_simulated_data.csv'),\n",
    "                    index_col=0)\n",
    "#merged.index = merged.index.str.rstrip('-12345')\n",
    "#mean_df = merged.groupby('ID').mean()\n",
    "# Get rid of cold work\n",
    "#cw_regex = re.compile(\"[0-9]+$\") \n",
    "#mean_df['cold_work'] = [int(re.search(cw_regex,x).group()) for x in mean_df.index]\n",
    "#mean_df.index = mean_df.index.str.rstrip('02468')\n",
    "#mean_df.index = mean_df.index.str.rstrip('-')\n",
    "merged.set_index('type_cw', inplace=True)\n",
    "merged"
   ]
  },
  {
   "cell_type": "markdown",
   "metadata": {},
   "source": [
    "## Select columns of interest"
   ]
  },
  {
   "cell_type": "code",
   "execution_count": 93,
   "metadata": {},
   "outputs": [],
   "source": [
    "#mean_df = mean_df[mc.regression_cols].dropna()"
   ]
  },
  {
   "cell_type": "code",
   "execution_count": 94,
   "metadata": {},
   "outputs": [],
   "source": [
    "#mean_df.index=mean_df.index+\"-\"+mean_df.cold_work.astype(\"str\")"
   ]
  },
  {
   "cell_type": "code",
   "execution_count": 144,
   "metadata": {},
   "outputs": [],
   "source": [
    "#mean_df.drop([\"cold_work\"], axis=1, inplace=True)\n",
    "merged.drop([\"Type\"], axis=1, inplace=True)"
   ]
  },
  {
   "cell_type": "code",
   "execution_count": 96,
   "metadata": {},
   "outputs": [
    {
     "data": {
      "text/html": [
       "<div>\n",
       "<style scoped>\n",
       "    .dataframe tbody tr th:only-of-type {\n",
       "        vertical-align: middle;\n",
       "    }\n",
       "\n",
       "    .dataframe tbody tr th {\n",
       "        vertical-align: top;\n",
       "    }\n",
       "\n",
       "    .dataframe thead th {\n",
       "        text-align: right;\n",
       "    }\n",
       "</style>\n",
       "<table border=\"1\" class=\"dataframe\">\n",
       "  <thead>\n",
       "    <tr style=\"text-align: right;\">\n",
       "      <th></th>\n",
       "      <th>KJIC</th>\n",
       "      <th>MS_Avg</th>\n",
       "      <th>TEP_average</th>\n",
       "      <th>Beta_avg</th>\n",
       "      <th>PC_IF_2.25MHz</th>\n",
       "      <th>PC_IF_3.5MHz</th>\n",
       "      <th>PC_BS</th>\n",
       "    </tr>\n",
       "  </thead>\n",
       "  <tbody>\n",
       "    <tr>\n",
       "      <th>347-0</th>\n",
       "      <td>198.50</td>\n",
       "      <td>0.0220</td>\n",
       "      <td>-1.43700</td>\n",
       "      <td>0.002710</td>\n",
       "      <td>0.0</td>\n",
       "      <td>0.0</td>\n",
       "      <td>0.0</td>\n",
       "    </tr>\n",
       "    <tr>\n",
       "      <th>347-20</th>\n",
       "      <td>124.06</td>\n",
       "      <td>0.3400</td>\n",
       "      <td>-1.36400</td>\n",
       "      <td>0.001770</td>\n",
       "      <td>195.0</td>\n",
       "      <td>202.0</td>\n",
       "      <td>-25.0</td>\n",
       "    </tr>\n",
       "    <tr>\n",
       "      <th>347-40</th>\n",
       "      <td>89.88</td>\n",
       "      <td>1.0115</td>\n",
       "      <td>-1.27925</td>\n",
       "      <td>0.002237</td>\n",
       "      <td>182.0</td>\n",
       "      <td>241.0</td>\n",
       "      <td>-28.0</td>\n",
       "    </tr>\n",
       "    <tr>\n",
       "      <th>347-60</th>\n",
       "      <td>77.80</td>\n",
       "      <td>3.1390</td>\n",
       "      <td>-1.10000</td>\n",
       "      <td>0.002429</td>\n",
       "      <td>206.0</td>\n",
       "      <td>287.0</td>\n",
       "      <td>-33.0</td>\n",
       "    </tr>\n",
       "    <tr>\n",
       "      <th>347-80</th>\n",
       "      <td>74.00</td>\n",
       "      <td>6.3910</td>\n",
       "      <td>-0.82200</td>\n",
       "      <td>0.002559</td>\n",
       "      <td>206.0</td>\n",
       "      <td>255.0</td>\n",
       "      <td>-39.0</td>\n",
       "    </tr>\n",
       "  </tbody>\n",
       "</table>\n",
       "</div>"
      ],
      "text/plain": [
       "          KJIC  MS_Avg  TEP_average  Beta_avg  PC_IF_2.25MHz  PC_IF_3.5MHz  \\\n",
       "347-0   198.50  0.0220     -1.43700  0.002710            0.0           0.0   \n",
       "347-20  124.06  0.3400     -1.36400  0.001770          195.0         202.0   \n",
       "347-40   89.88  1.0115     -1.27925  0.002237          182.0         241.0   \n",
       "347-60   77.80  3.1390     -1.10000  0.002429          206.0         287.0   \n",
       "347-80   74.00  6.3910     -0.82200  0.002559          206.0         255.0   \n",
       "\n",
       "        PC_BS  \n",
       "347-0     0.0  \n",
       "347-20  -25.0  \n",
       "347-40  -28.0  \n",
       "347-60  -33.0  \n",
       "347-80  -39.0  "
      ]
     },
     "execution_count": 96,
     "metadata": {},
     "output_type": "execute_result"
    }
   ],
   "source": [
    "#mean_df=mean_df.iloc[10:15]\n",
    "#mean_df"
   ]
  },
  {
   "cell_type": "markdown",
   "metadata": {},
   "source": [
    "## Scale data"
   ]
  },
  {
   "cell_type": "code",
   "execution_count": 145,
   "metadata": {},
   "outputs": [
    {
     "data": {
      "text/html": [
       "<div>\n",
       "<style scoped>\n",
       "    .dataframe tbody tr th:only-of-type {\n",
       "        vertical-align: middle;\n",
       "    }\n",
       "\n",
       "    .dataframe tbody tr th {\n",
       "        vertical-align: top;\n",
       "    }\n",
       "\n",
       "    .dataframe thead th {\n",
       "        text-align: right;\n",
       "    }\n",
       "</style>\n",
       "<table border=\"1\" class=\"dataframe\">\n",
       "  <thead>\n",
       "    <tr style=\"text-align: right;\">\n",
       "      <th></th>\n",
       "      <th>KJIC</th>\n",
       "      <th>MS_Avg</th>\n",
       "      <th>TEP_average</th>\n",
       "      <th>Beta_avg</th>\n",
       "      <th>PC_IF_2.25MHz</th>\n",
       "      <th>PC_IF_3.5MHz</th>\n",
       "      <th>PC_BS</th>\n",
       "    </tr>\n",
       "    <tr>\n",
       "      <th>type_cw</th>\n",
       "      <th></th>\n",
       "      <th></th>\n",
       "      <th></th>\n",
       "      <th></th>\n",
       "      <th></th>\n",
       "      <th></th>\n",
       "      <th></th>\n",
       "    </tr>\n",
       "  </thead>\n",
       "  <tbody>\n",
       "    <tr>\n",
       "      <th>A286-0</th>\n",
       "      <td>0.104744</td>\n",
       "      <td>0.000000e+00</td>\n",
       "      <td>0.713210</td>\n",
       "      <td>0.360537</td>\n",
       "      <td>2.524908e-01</td>\n",
       "      <td>0.205757</td>\n",
       "      <td>0.809191</td>\n",
       "    </tr>\n",
       "    <tr>\n",
       "      <th>A286-80</th>\n",
       "      <td>0.073846</td>\n",
       "      <td>3.117906e-01</td>\n",
       "      <td>0.538453</td>\n",
       "      <td>0.447521</td>\n",
       "      <td>2.555525e-01</td>\n",
       "      <td>0.181152</td>\n",
       "      <td>0.133790</td>\n",
       "    </tr>\n",
       "    <tr>\n",
       "      <th>347-20</th>\n",
       "      <td>0.221394</td>\n",
       "      <td>3.185429e-01</td>\n",
       "      <td>0.745176</td>\n",
       "      <td>0.125590</td>\n",
       "      <td>3.971500e-01</td>\n",
       "      <td>0.145606</td>\n",
       "      <td>0.348503</td>\n",
       "    </tr>\n",
       "    <tr>\n",
       "      <th>304-40</th>\n",
       "      <td>0.143203</td>\n",
       "      <td>1.167180e-03</td>\n",
       "      <td>0.415817</td>\n",
       "      <td>0.461160</td>\n",
       "      <td>4.540645e-03</td>\n",
       "      <td>0.073805</td>\n",
       "      <td>0.414209</td>\n",
       "    </tr>\n",
       "    <tr>\n",
       "      <th>A286-0</th>\n",
       "      <td>0.144040</td>\n",
       "      <td>4.876241e-02</td>\n",
       "      <td>0.576290</td>\n",
       "      <td>0.774624</td>\n",
       "      <td>8.810806e-06</td>\n",
       "      <td>0.120429</td>\n",
       "      <td>0.596402</td>\n",
       "    </tr>\n",
       "    <tr>\n",
       "      <th>...</th>\n",
       "      <td>...</td>\n",
       "      <td>...</td>\n",
       "      <td>...</td>\n",
       "      <td>...</td>\n",
       "      <td>...</td>\n",
       "      <td>...</td>\n",
       "      <td>...</td>\n",
       "    </tr>\n",
       "    <tr>\n",
       "      <th>347-20</th>\n",
       "      <td>0.187349</td>\n",
       "      <td>6.440401e-01</td>\n",
       "      <td>0.290317</td>\n",
       "      <td>0.312579</td>\n",
       "      <td>5.238224e-02</td>\n",
       "      <td>0.168132</td>\n",
       "      <td>0.750937</td>\n",
       "    </tr>\n",
       "    <tr>\n",
       "      <th>A286-60</th>\n",
       "      <td>0.019700</td>\n",
       "      <td>1.059711e-08</td>\n",
       "      <td>0.388689</td>\n",
       "      <td>0.578521</td>\n",
       "      <td>3.681206e-01</td>\n",
       "      <td>0.317165</td>\n",
       "      <td>0.441884</td>\n",
       "    </tr>\n",
       "    <tr>\n",
       "      <th>A286-0</th>\n",
       "      <td>0.143127</td>\n",
       "      <td>2.359452e-13</td>\n",
       "      <td>0.439338</td>\n",
       "      <td>0.444964</td>\n",
       "      <td>2.557981e-01</td>\n",
       "      <td>0.088539</td>\n",
       "      <td>0.541834</td>\n",
       "    </tr>\n",
       "    <tr>\n",
       "      <th>304-0</th>\n",
       "      <td>0.191421</td>\n",
       "      <td>1.092836e-03</td>\n",
       "      <td>0.195141</td>\n",
       "      <td>0.754739</td>\n",
       "      <td>6.884399e-13</td>\n",
       "      <td>0.110275</td>\n",
       "      <td>0.877267</td>\n",
       "    </tr>\n",
       "    <tr>\n",
       "      <th>316-80</th>\n",
       "      <td>0.091410</td>\n",
       "      <td>1.644513e-02</td>\n",
       "      <td>0.160177</td>\n",
       "      <td>0.839650</td>\n",
       "      <td>5.910071e-02</td>\n",
       "      <td>0.080738</td>\n",
       "      <td>0.229261</td>\n",
       "    </tr>\n",
       "  </tbody>\n",
       "</table>\n",
       "<p>1000 rows × 7 columns</p>\n",
       "</div>"
      ],
      "text/plain": [
       "             KJIC        MS_Avg  TEP_average  Beta_avg  PC_IF_2.25MHz  \\\n",
       "type_cw                                                                 \n",
       "A286-0   0.104744  0.000000e+00     0.713210  0.360537   2.524908e-01   \n",
       "A286-80  0.073846  3.117906e-01     0.538453  0.447521   2.555525e-01   \n",
       "347-20   0.221394  3.185429e-01     0.745176  0.125590   3.971500e-01   \n",
       "304-40   0.143203  1.167180e-03     0.415817  0.461160   4.540645e-03   \n",
       "A286-0   0.144040  4.876241e-02     0.576290  0.774624   8.810806e-06   \n",
       "...           ...           ...          ...       ...            ...   \n",
       "347-20   0.187349  6.440401e-01     0.290317  0.312579   5.238224e-02   \n",
       "A286-60  0.019700  1.059711e-08     0.388689  0.578521   3.681206e-01   \n",
       "A286-0   0.143127  2.359452e-13     0.439338  0.444964   2.557981e-01   \n",
       "304-0    0.191421  1.092836e-03     0.195141  0.754739   6.884399e-13   \n",
       "316-80   0.091410  1.644513e-02     0.160177  0.839650   5.910071e-02   \n",
       "\n",
       "         PC_IF_3.5MHz     PC_BS  \n",
       "type_cw                          \n",
       "A286-0       0.205757  0.809191  \n",
       "A286-80      0.181152  0.133790  \n",
       "347-20       0.145606  0.348503  \n",
       "304-40       0.073805  0.414209  \n",
       "A286-0       0.120429  0.596402  \n",
       "...               ...       ...  \n",
       "347-20       0.168132  0.750937  \n",
       "A286-60      0.317165  0.441884  \n",
       "A286-0       0.088539  0.541834  \n",
       "304-0        0.110275  0.877267  \n",
       "316-80       0.080738  0.229261  \n",
       "\n",
       "[1000 rows x 7 columns]"
      ]
     },
     "execution_count": 145,
     "metadata": {},
     "output_type": "execute_result"
    }
   ],
   "source": [
    "scaled_df = mc.scale_general(merged, MinMaxScaler())\n",
    "scaled_df[0]"
   ]
  },
  {
   "cell_type": "code",
   "execution_count": 146,
   "metadata": {},
   "outputs": [
    {
     "data": {
      "text/plain": [
       "<AxesSubplot:>"
      ]
     },
     "execution_count": 146,
     "metadata": {},
     "output_type": "execute_result"
    },
    {
     "data": {
      "image/png": "[encoded data removed]",
      "text/plain": [
       "<Figure size 432x288 with 2 Axes>"
      ]
     },
     "metadata": {
      "needs_background": "light"
     },
     "output_type": "display_data"
    }
   ],
   "source": [
    "sns.heatmap(merged.corr())"
   ]
  },
  {
   "cell_type": "code",
   "execution_count": 147,
   "metadata": {},
   "outputs": [],
   "source": [
    "# Creating Predictor variable 'X' and Target Variable 'y'\n",
    "\n",
    "# X contains all the features except for the target value Price\n",
    "X = scaled_df[0].drop('KJIC', axis = 1)\n",
    "y = scaled_df[0]['KJIC']"
   ]
  },
  {
   "cell_type": "code",
   "execution_count": 148,
   "metadata": {},
   "outputs": [
    {
     "data": {
      "text/html": [
       "<div>\n",
       "<style scoped>\n",
       "    .dataframe tbody tr th:only-of-type {\n",
       "        vertical-align: middle;\n",
       "    }\n",
       "\n",
       "    .dataframe tbody tr th {\n",
       "        vertical-align: top;\n",
       "    }\n",
       "\n",
       "    .dataframe thead th {\n",
       "        text-align: right;\n",
       "    }\n",
       "</style>\n",
       "<table border=\"1\" class=\"dataframe\">\n",
       "  <thead>\n",
       "    <tr style=\"text-align: right;\">\n",
       "      <th></th>\n",
       "      <th>MS_Avg</th>\n",
       "      <th>TEP_average</th>\n",
       "      <th>Beta_avg</th>\n",
       "      <th>PC_IF_2.25MHz</th>\n",
       "      <th>PC_IF_3.5MHz</th>\n",
       "      <th>PC_BS</th>\n",
       "    </tr>\n",
       "    <tr>\n",
       "      <th>type_cw</th>\n",
       "      <th></th>\n",
       "      <th></th>\n",
       "      <th></th>\n",
       "      <th></th>\n",
       "      <th></th>\n",
       "      <th></th>\n",
       "    </tr>\n",
       "  </thead>\n",
       "  <tbody>\n",
       "    <tr>\n",
       "      <th>A286-0</th>\n",
       "      <td>0.000000e+00</td>\n",
       "      <td>0.713210</td>\n",
       "      <td>0.360537</td>\n",
       "      <td>2.524908e-01</td>\n",
       "      <td>0.205757</td>\n",
       "      <td>0.809191</td>\n",
       "    </tr>\n",
       "    <tr>\n",
       "      <th>A286-80</th>\n",
       "      <td>3.117906e-01</td>\n",
       "      <td>0.538453</td>\n",
       "      <td>0.447521</td>\n",
       "      <td>2.555525e-01</td>\n",
       "      <td>0.181152</td>\n",
       "      <td>0.133790</td>\n",
       "    </tr>\n",
       "    <tr>\n",
       "      <th>347-20</th>\n",
       "      <td>3.185429e-01</td>\n",
       "      <td>0.745176</td>\n",
       "      <td>0.125590</td>\n",
       "      <td>3.971500e-01</td>\n",
       "      <td>0.145606</td>\n",
       "      <td>0.348503</td>\n",
       "    </tr>\n",
       "    <tr>\n",
       "      <th>304-40</th>\n",
       "      <td>1.167180e-03</td>\n",
       "      <td>0.415817</td>\n",
       "      <td>0.461160</td>\n",
       "      <td>4.540645e-03</td>\n",
       "      <td>0.073805</td>\n",
       "      <td>0.414209</td>\n",
       "    </tr>\n",
       "    <tr>\n",
       "      <th>A286-0</th>\n",
       "      <td>4.876241e-02</td>\n",
       "      <td>0.576290</td>\n",
       "      <td>0.774624</td>\n",
       "      <td>8.810806e-06</td>\n",
       "      <td>0.120429</td>\n",
       "      <td>0.596402</td>\n",
       "    </tr>\n",
       "    <tr>\n",
       "      <th>...</th>\n",
       "      <td>...</td>\n",
       "      <td>...</td>\n",
       "      <td>...</td>\n",
       "      <td>...</td>\n",
       "      <td>...</td>\n",
       "      <td>...</td>\n",
       "    </tr>\n",
       "    <tr>\n",
       "      <th>347-20</th>\n",
       "      <td>6.440401e-01</td>\n",
       "      <td>0.290317</td>\n",
       "      <td>0.312579</td>\n",
       "      <td>5.238224e-02</td>\n",
       "      <td>0.168132</td>\n",
       "      <td>0.750937</td>\n",
       "    </tr>\n",
       "    <tr>\n",
       "      <th>A286-60</th>\n",
       "      <td>1.059711e-08</td>\n",
       "      <td>0.388689</td>\n",
       "      <td>0.578521</td>\n",
       "      <td>3.681206e-01</td>\n",
       "      <td>0.317165</td>\n",
       "      <td>0.441884</td>\n",
       "    </tr>\n",
       "    <tr>\n",
       "      <th>A286-0</th>\n",
       "      <td>2.359452e-13</td>\n",
       "      <td>0.439338</td>\n",
       "      <td>0.444964</td>\n",
       "      <td>2.557981e-01</td>\n",
       "      <td>0.088539</td>\n",
       "      <td>0.541834</td>\n",
       "    </tr>\n",
       "    <tr>\n",
       "      <th>304-0</th>\n",
       "      <td>1.092836e-03</td>\n",
       "      <td>0.195141</td>\n",
       "      <td>0.754739</td>\n",
       "      <td>6.884399e-13</td>\n",
       "      <td>0.110275</td>\n",
       "      <td>0.877267</td>\n",
       "    </tr>\n",
       "    <tr>\n",
       "      <th>316-80</th>\n",
       "      <td>1.644513e-02</td>\n",
       "      <td>0.160177</td>\n",
       "      <td>0.839650</td>\n",
       "      <td>5.910071e-02</td>\n",
       "      <td>0.080738</td>\n",
       "      <td>0.229261</td>\n",
       "    </tr>\n",
       "  </tbody>\n",
       "</table>\n",
       "<p>1000 rows × 6 columns</p>\n",
       "</div>"
      ],
      "text/plain": [
       "               MS_Avg  TEP_average  Beta_avg  PC_IF_2.25MHz  PC_IF_3.5MHz  \\\n",
       "type_cw                                                                     \n",
       "A286-0   0.000000e+00     0.713210  0.360537   2.524908e-01      0.205757   \n",
       "A286-80  3.117906e-01     0.538453  0.447521   2.555525e-01      0.181152   \n",
       "347-20   3.185429e-01     0.745176  0.125590   3.971500e-01      0.145606   \n",
       "304-40   1.167180e-03     0.415817  0.461160   4.540645e-03      0.073805   \n",
       "A286-0   4.876241e-02     0.576290  0.774624   8.810806e-06      0.120429   \n",
       "...               ...          ...       ...            ...           ...   \n",
       "347-20   6.440401e-01     0.290317  0.312579   5.238224e-02      0.168132   \n",
       "A286-60  1.059711e-08     0.388689  0.578521   3.681206e-01      0.317165   \n",
       "A286-0   2.359452e-13     0.439338  0.444964   2.557981e-01      0.088539   \n",
       "304-0    1.092836e-03     0.195141  0.754739   6.884399e-13      0.110275   \n",
       "316-80   1.644513e-02     0.160177  0.839650   5.910071e-02      0.080738   \n",
       "\n",
       "            PC_BS  \n",
       "type_cw            \n",
       "A286-0   0.809191  \n",
       "A286-80  0.133790  \n",
       "347-20   0.348503  \n",
       "304-40   0.414209  \n",
       "A286-0   0.596402  \n",
       "...           ...  \n",
       "347-20   0.750937  \n",
       "A286-60  0.441884  \n",
       "A286-0   0.541834  \n",
       "304-0    0.877267  \n",
       "316-80   0.229261  \n",
       "\n",
       "[1000 rows x 6 columns]"
      ]
     },
     "execution_count": 148,
     "metadata": {},
     "output_type": "execute_result"
    }
   ],
   "source": [
    "X"
   ]
  },
  {
   "cell_type": "code",
   "execution_count": 149,
   "metadata": {},
   "outputs": [],
   "source": [
    "from sklearn.model_selection import train_test_split"
   ]
  },
  {
   "cell_type": "code",
   "execution_count": 150,
   "metadata": {},
   "outputs": [
    {
     "name": "stdout",
     "output_type": "stream",
     "text": [
      "(700,)\n",
      "(300, 6)\n"
     ]
    }
   ],
   "source": [
    "X_train, X_test, y_train, y_test = train_test_split(X,y, test_size=0.3, random_state=50)\n",
    "\n",
    "# X_train contains 70% of total dataset\n",
    "print(y_train.shape)\n",
    "# X_test contains 30% of total dataset\n",
    "print(X_test.shape)"
   ]
  },
  {
   "cell_type": "markdown",
   "metadata": {},
   "source": [
    "## Linear Regression"
   ]
  },
  {
   "cell_type": "code",
   "execution_count": 151,
   "metadata": {},
   "outputs": [],
   "source": [
    "from sklearn.linear_model import LinearRegression"
   ]
  },
  {
   "cell_type": "code",
   "execution_count": 152,
   "metadata": {},
   "outputs": [],
   "source": [
    "lr = LinearRegression()"
   ]
  },
  {
   "cell_type": "code",
   "execution_count": 153,
   "metadata": {},
   "outputs": [
    {
     "data": {
      "text/plain": [
       "LinearRegression(copy_X=True, fit_intercept=True, n_jobs=None, normalize=False)"
      ]
     },
     "execution_count": 153,
     "metadata": {},
     "output_type": "execute_result"
    }
   ],
   "source": [
    "#Train/fit the model to training data\n",
    "lr.fit(X_train,y_train)"
   ]
  },
  {
   "cell_type": "code",
   "execution_count": 154,
   "metadata": {},
   "outputs": [
    {
     "name": "stdout",
     "output_type": "stream",
     "text": [
      "0.14446513487793547\n"
     ]
    },
    {
     "data": {
      "text/html": [
       "<div>\n",
       "<style scoped>\n",
       "    .dataframe tbody tr th:only-of-type {\n",
       "        vertical-align: middle;\n",
       "    }\n",
       "\n",
       "    .dataframe tbody tr th {\n",
       "        vertical-align: top;\n",
       "    }\n",
       "\n",
       "    .dataframe thead th {\n",
       "        text-align: right;\n",
       "    }\n",
       "</style>\n",
       "<table border=\"1\" class=\"dataframe\">\n",
       "  <thead>\n",
       "    <tr style=\"text-align: right;\">\n",
       "      <th></th>\n",
       "      <th>Coefficient</th>\n",
       "    </tr>\n",
       "  </thead>\n",
       "  <tbody>\n",
       "    <tr>\n",
       "      <th>MS_Avg</th>\n",
       "      <td>0.025212</td>\n",
       "    </tr>\n",
       "    <tr>\n",
       "      <th>TEP_average</th>\n",
       "      <td>-0.038718</td>\n",
       "    </tr>\n",
       "    <tr>\n",
       "      <th>Beta_avg</th>\n",
       "      <td>-0.038123</td>\n",
       "    </tr>\n",
       "    <tr>\n",
       "      <th>PC_IF_2.25MHz</th>\n",
       "      <td>-0.084406</td>\n",
       "    </tr>\n",
       "    <tr>\n",
       "      <th>PC_IF_3.5MHz</th>\n",
       "      <td>-0.076291</td>\n",
       "    </tr>\n",
       "    <tr>\n",
       "      <th>PC_BS</th>\n",
       "      <td>0.107699</td>\n",
       "    </tr>\n",
       "  </tbody>\n",
       "</table>\n",
       "</div>"
      ],
      "text/plain": [
       "               Coefficient\n",
       "MS_Avg            0.025212\n",
       "TEP_average      -0.038718\n",
       "Beta_avg         -0.038123\n",
       "PC_IF_2.25MHz    -0.084406\n",
       "PC_IF_3.5MHz     -0.076291\n",
       "PC_BS             0.107699"
      ]
     },
     "execution_count": 154,
     "metadata": {},
     "output_type": "execute_result"
    }
   ],
   "source": [
    "# print the intercept\n",
    "print(lr.intercept_)\n",
    "\n",
    "#Coefficients\n",
    "coeff_df = pd.DataFrame(lr.coef_,X.columns,columns=['Coefficient'])\n",
    "coeff_df"
   ]
  },
  {
   "cell_type": "code",
   "execution_count": 155,
   "metadata": {},
   "outputs": [],
   "source": [
    "pred = lr.predict(X_test)"
   ]
  },
  {
   "cell_type": "code",
   "execution_count": 156,
   "metadata": {},
   "outputs": [
    {
     "data": {
      "text/plain": [
       "Text(0, 0.5, 'Predicted Fracture Toughness')"
      ]
     },
     "execution_count": 156,
     "metadata": {},
     "output_type": "execute_result"
    },
    {
     "data": {
      "image/png": "[encoded data removed]",
      "text/plain": [
       "<Figure size 432x288 with 1 Axes>"
      ]
     },
     "metadata": {
      "needs_background": "light"
     },
     "output_type": "display_data"
    }
   ],
   "source": [
    "plt.scatter(y_test,pred)\n",
    "plt.xlabel(\"Fracture Toughness\")\n",
    "plt.ylabel(\"Predicted Fracture Toughness\")"
   ]
  },
  {
   "cell_type": "code",
   "execution_count": 157,
   "metadata": {},
   "outputs": [],
   "source": [
    "from sklearn import metrics"
   ]
  },
  {
   "cell_type": "code",
   "execution_count": 158,
   "metadata": {},
   "outputs": [
    {
     "name": "stdout",
     "output_type": "stream",
     "text": [
      "MAE: 0.051464254311065126\n",
      "MSE: 0.005229923648100843\n",
      "RMSE: 0.07231821104051761\n"
     ]
    }
   ],
   "source": [
    "print('MAE:', metrics.mean_absolute_error(y_test, pred))\n",
    "print('MSE:', metrics.mean_squared_error(y_test, pred))\n",
    "print('RMSE:', np.sqrt(metrics.mean_squared_error(y_test, pred)))"
   ]
  },
  {
   "cell_type": "markdown",
   "metadata": {},
   "source": [
    "## Lasso"
   ]
  },
  {
   "cell_type": "code",
   "execution_count": 159,
   "metadata": {},
   "outputs": [
    {
     "data": {
      "text/plain": [
       "Lasso(alpha=0.5, copy_X=True, fit_intercept=True, max_iter=1000,\n",
       "      normalize=False, positive=False, precompute=False, random_state=None,\n",
       "      selection='cyclic', tol=0.0001, warm_start=False)"
      ]
     },
     "execution_count": 159,
     "metadata": {},
     "output_type": "execute_result"
    }
   ],
   "source": [
    "from sklearn.linear_model import Lasso\n",
    "\n",
    "reg = Lasso(alpha=0.5)\n",
    "reg.fit(X_train, y_train)"
   ]
  },
  {
   "cell_type": "code",
   "execution_count": 160,
   "metadata": {},
   "outputs": [
    {
     "name": "stdout",
     "output_type": "stream",
     "text": [
      "Lasso Regression: R^2 score on training set 0.0\n",
      "Lasso Regression: R^2 score on test set -0.18780498792629885\n"
     ]
    }
   ],
   "source": [
    "print('Lasso Regression: R^2 score on training set', reg.score(X_train, y_train)*100)\n",
    "print('Lasso Regression: R^2 score on test set', reg.score(X_test, y_test)*100)"
   ]
  },
  {
   "cell_type": "code",
   "execution_count": 161,
   "metadata": {},
   "outputs": [],
   "source": [
    "# Lasso with different lambdas\n",
    "lambdas = (0.001, 0.01, 0.1, 0.5, 1, 2, 10)\n",
    "l_num = 7\n",
    "pred_num = X.shape[1]\n",
    "\n",
    "# prepare data for enumerate\n",
    "coeff_a = np.zeros((l_num, pred_num))\n",
    "train_r_squared = np.zeros(l_num)\n",
    "test_r_squared = np.zeros(l_num)"
   ]
  },
  {
   "cell_type": "code",
   "execution_count": 162,
   "metadata": {},
   "outputs": [],
   "source": [
    "# enumerate through lambdas with index and i\n",
    "for ind, i in enumerate(lambdas):    \n",
    "    reg = Lasso(alpha = i)\n",
    "    reg.fit(X_train, y_train)\n",
    "       \n",
    "    coeff_a[ind,:] = reg.coef_\n",
    "    train_r_squared[ind] = reg.score(X_train, y_train)\n",
    "    test_r_squared[ind] = reg.score(X_test, y_test)"
   ]
  },
  {
   "cell_type": "code",
   "execution_count": 163,
   "metadata": {},
   "outputs": [
    {
     "data": {
      "image/png": "[encoded data removed]",
      "text/plain": [
       "<Figure size 1296x576 with 1 Axes>"
      ]
     },
     "metadata": {
      "needs_background": "light"
     },
     "output_type": "display_data"
    }
   ],
   "source": [
    "# Plotting\n",
    "plt.figure(figsize=(18, 8))\n",
    "plt.plot(train_r_squared, 'bo-', label=r'$R^2$ Training set', color=\"darkblue\", alpha=0.6, linewidth=3)\n",
    "plt.plot(test_r_squared, 'bo-', label=r'$R^2$ Test set', color=\"darkred\", alpha=0.6, linewidth=3)\n",
    "plt.xlabel('Lamda index'); plt.ylabel(r'$R^2$')\n",
    "plt.xlim(0, 6)\n",
    "plt.title(r'Evaluate lasso regression with lamdas: 0 = 0.001, 1= 0.01, 2 = 0.1, 3 = 0.5, 4= 1, 5= 2, 6 = 10')\n",
    "plt.legend(loc='best')\n",
    "plt.grid()"
   ]
  },
  {
   "cell_type": "code",
   "execution_count": 164,
   "metadata": {},
   "outputs": [
    {
     "data": {
      "text/plain": [
       "R_squared    28.646931\n",
       "lambda        0.001000\n",
       "Name: 0, dtype: float64"
      ]
     },
     "execution_count": 164,
     "metadata": {},
     "output_type": "execute_result"
    }
   ],
   "source": [
    "# Identifying the best lambda\n",
    "df_lam = pd.DataFrame(test_r_squared*100, columns=['R_squared'])\n",
    "df_lam['lambda'] = (lambdas)\n",
    "# returns the index of the row where column has maximum value.\n",
    "df_lam.loc[df_lam['R_squared'].idxmax()]"
   ]
  },
  {
   "cell_type": "code",
   "execution_count": 165,
   "metadata": {},
   "outputs": [
    {
     "data": {
      "text/plain": [
       "array([ 0.00640889, -0.        , -0.        , -0.06707773, -0.06417356,\n",
       "        0.09880476])"
      ]
     },
     "execution_count": 165,
     "metadata": {},
     "output_type": "execute_result"
    }
   ],
   "source": [
    "# Coefficients of best model\n",
    "reg_best = Lasso(alpha = 0.001)\n",
    "reg_best.fit(X_train, y_train)\n",
    "reg_best.coef_"
   ]
  },
  {
   "cell_type": "code",
   "execution_count": 166,
   "metadata": {},
   "outputs": [
    {
     "data": {
      "text/plain": [
       "0.005462436465855287"
      ]
     },
     "execution_count": 166,
     "metadata": {},
     "output_type": "execute_result"
    }
   ],
   "source": [
    "from sklearn.metrics import mean_squared_error\n",
    "mean_squared_error(y_test, reg_best.predict(X_test))"
   ]
  },
  {
   "cell_type": "code",
   "execution_count": 167,
   "metadata": {},
   "outputs": [],
   "source": [
    "# Cross Validation\n",
    "l_min = 0.05\n",
    "l_max = 0.2\n",
    "l_num = 20\n",
    "lambdas = np.linspace(l_min,l_max, l_num)\n",
    "\n",
    "train_r_squared = np.zeros(l_num)\n",
    "test_r_squared = np.zeros(l_num)\n",
    "\n",
    "pred_num = X.shape[1]\n",
    "coeff_a = np.zeros((l_num, pred_num))"
   ]
  },
  {
   "cell_type": "code",
   "execution_count": 168,
   "metadata": {},
   "outputs": [],
   "source": [
    "from sklearn.model_selection import cross_val_score\n",
    "\n",
    "for ind, i in enumerate(lambdas):    \n",
    "    reg = Lasso(alpha = i)\n",
    "    reg.fit(X_train, y_train)\n",
    "    results = cross_val_score(reg, X, y, cv=5, scoring=\"r2\") \n",
    "\n",
    "    train_r_squared[ind] = reg.score(X_train, y_train)    \n",
    "    test_r_squared[ind] = reg.score(X_test, y_test)"
   ]
  },
  {
   "cell_type": "code",
   "execution_count": 169,
   "metadata": {},
   "outputs": [
    {
     "data": {
      "image/png": "[encoded data removed]",
      "text/plain": [
       "<Figure size 1296x576 with 1 Axes>"
      ]
     },
     "metadata": {
      "needs_background": "light"
     },
     "output_type": "display_data"
    }
   ],
   "source": [
    "# Plotting\n",
    "plt.figure(figsize=(18, 8))\n",
    "plt.plot(train_r_squared, 'bo-', label=r'$R^2$ Training set', color=\"darkblue\", alpha=0.6, linewidth=3)\n",
    "plt.plot(test_r_squared, 'bo-', label=r'$R^2$ Test set', color=\"darkred\", alpha=0.6, linewidth=3)\n",
    "plt.xlabel('Lamda value'); plt.ylabel(r'$R^2$')\n",
    "plt.xlim(0, 19)\n",
    "plt.title(r'Evaluate 5-fold cv with different lamdas')\n",
    "plt.legend(loc='best')\n",
    "plt.grid()"
   ]
  },
  {
   "cell_type": "code",
   "execution_count": 170,
   "metadata": {},
   "outputs": [
    {
     "data": {
      "text/plain": [
       "R_squared   -0.187805\n",
       "lambda       0.050000\n",
       "Name: 0, dtype: float64"
      ]
     },
     "execution_count": 170,
     "metadata": {},
     "output_type": "execute_result"
    }
   ],
   "source": [
    "# Best Model\n",
    "df_lam = pd.DataFrame(test_r_squared*100, columns=['R_squared'])\n",
    "df_lam['lambda'] = (lambdas)\n",
    "# returns the index of the row where column has maximum value.\n",
    "df_lam.loc[df_lam['R_squared'].idxmax()]"
   ]
  },
  {
   "cell_type": "code",
   "execution_count": 171,
   "metadata": {},
   "outputs": [
    {
     "data": {
      "text/plain": [
       "Lasso(alpha=0.05, copy_X=True, fit_intercept=True, max_iter=1000,\n",
       "      normalize=False, positive=False, precompute=False, random_state=None,\n",
       "      selection='cyclic', tol=0.0001, warm_start=False)"
      ]
     },
     "execution_count": 171,
     "metadata": {},
     "output_type": "execute_result"
    }
   ],
   "source": [
    "# Best Model\n",
    "reg_best = Lasso(alpha = 0.05)\n",
    "reg_best.fit(X_train, y_train)"
   ]
  },
  {
   "cell_type": "code",
   "execution_count": 172,
   "metadata": {},
   "outputs": [
    {
     "data": {
      "text/plain": [
       "0.0076698806432316325"
      ]
     },
     "execution_count": 172,
     "metadata": {},
     "output_type": "execute_result"
    }
   ],
   "source": [
    "from sklearn.metrics import mean_squared_error\n",
    "\n",
    "mean_squared_error(y_test, reg_best.predict(X_test))"
   ]
  },
  {
   "cell_type": "code",
   "execution_count": 173,
   "metadata": {},
   "outputs": [
    {
     "data": {
      "text/plain": [
       "array([ 0., -0.,  0., -0., -0.,  0.])"
      ]
     },
     "execution_count": 173,
     "metadata": {},
     "output_type": "execute_result"
    }
   ],
   "source": [
    "reg_best.coef_"
   ]
  },
  {
   "cell_type": "code",
   "execution_count": 174,
   "metadata": {
    "scrolled": false
   },
   "outputs": [
    {
     "data": {
      "text/plain": [
       "Text(0, 0.5, 'Predicted Fracture Toughness')"
      ]
     },
     "execution_count": 174,
     "metadata": {},
     "output_type": "execute_result"
    },
    {
     "data": {
      "image/png": "[encoded data removed]",
      "text/plain": [
       "<Figure size 432x288 with 1 Axes>"
      ]
     },
     "metadata": {
      "needs_background": "light"
     },
     "output_type": "display_data"
    }
   ],
   "source": [
    "pred1 = reg_best.predict(X_test)\n",
    "plt.scatter(y_test,pred1)\n",
    "plt.xlabel(\"Fracture Toughness\")\n",
    "plt.ylabel(\"Predicted Fracture Toughness\")"
   ]
  },
  {
   "cell_type": "code",
   "execution_count": 175,
   "metadata": {},
   "outputs": [
    {
     "data": {
      "text/plain": [
       "array([0.13351077, 0.13351077, 0.13351077, 0.13351077, 0.13351077,\n",
       "       0.13351077, 0.13351077, 0.13351077, 0.13351077, 0.13351077,\n",
       "       0.13351077, 0.13351077, 0.13351077, 0.13351077, 0.13351077,\n",
       "       0.13351077, 0.13351077, 0.13351077, 0.13351077, 0.13351077,\n",
       "       0.13351077, 0.13351077, 0.13351077, 0.13351077, 0.13351077,\n",
       "       0.13351077, 0.13351077, 0.13351077, 0.13351077, 0.13351077,\n",
       "       0.13351077, 0.13351077, 0.13351077, 0.13351077, 0.13351077,\n",
       "       0.13351077, 0.13351077, 0.13351077, 0.13351077, 0.13351077,\n",
       "       0.13351077, 0.13351077, 0.13351077, 0.13351077, 0.13351077,\n",
       "       0.13351077, 0.13351077, 0.13351077, 0.13351077, 0.13351077,\n",
       "       0.13351077, 0.13351077, 0.13351077, 0.13351077, 0.13351077,\n",
       "       0.13351077, 0.13351077, 0.13351077, 0.13351077, 0.13351077,\n",
       "       0.13351077, 0.13351077, 0.13351077, 0.13351077, 0.13351077,\n",
       "       0.13351077, 0.13351077, 0.13351077, 0.13351077, 0.13351077,\n",
       "       0.13351077, 0.13351077, 0.13351077, 0.13351077, 0.13351077,\n",
       "       0.13351077, 0.13351077, 0.13351077, 0.13351077, 0.13351077,\n",
       "       0.13351077, 0.13351077, 0.13351077, 0.13351077, 0.13351077,\n",
       "       0.13351077, 0.13351077, 0.13351077, 0.13351077, 0.13351077,\n",
       "       0.13351077, 0.13351077, 0.13351077, 0.13351077, 0.13351077,\n",
       "       0.13351077, 0.13351077, 0.13351077, 0.13351077, 0.13351077,\n",
       "       0.13351077, 0.13351077, 0.13351077, 0.13351077, 0.13351077,\n",
       "       0.13351077, 0.13351077, 0.13351077, 0.13351077, 0.13351077,\n",
       "       0.13351077, 0.13351077, 0.13351077, 0.13351077, 0.13351077,\n",
       "       0.13351077, 0.13351077, 0.13351077, 0.13351077, 0.13351077,\n",
       "       0.13351077, 0.13351077, 0.13351077, 0.13351077, 0.13351077,\n",
       "       0.13351077, 0.13351077, 0.13351077, 0.13351077, 0.13351077,\n",
       "       0.13351077, 0.13351077, 0.13351077, 0.13351077, 0.13351077,\n",
       "       0.13351077, 0.13351077, 0.13351077, 0.13351077, 0.13351077,\n",
       "       0.13351077, 0.13351077, 0.13351077, 0.13351077, 0.13351077,\n",
       "       0.13351077, 0.13351077, 0.13351077, 0.13351077, 0.13351077,\n",
       "       0.13351077, 0.13351077, 0.13351077, 0.13351077, 0.13351077,\n",
       "       0.13351077, 0.13351077, 0.13351077, 0.13351077, 0.13351077,\n",
       "       0.13351077, 0.13351077, 0.13351077, 0.13351077, 0.13351077,\n",
       "       0.13351077, 0.13351077, 0.13351077, 0.13351077, 0.13351077,\n",
       "       0.13351077, 0.13351077, 0.13351077, 0.13351077, 0.13351077,\n",
       "       0.13351077, 0.13351077, 0.13351077, 0.13351077, 0.13351077,\n",
       "       0.13351077, 0.13351077, 0.13351077, 0.13351077, 0.13351077,\n",
       "       0.13351077, 0.13351077, 0.13351077, 0.13351077, 0.13351077,\n",
       "       0.13351077, 0.13351077, 0.13351077, 0.13351077, 0.13351077,\n",
       "       0.13351077, 0.13351077, 0.13351077, 0.13351077, 0.13351077,\n",
       "       0.13351077, 0.13351077, 0.13351077, 0.13351077, 0.13351077,\n",
       "       0.13351077, 0.13351077, 0.13351077, 0.13351077, 0.13351077,\n",
       "       0.13351077, 0.13351077, 0.13351077, 0.13351077, 0.13351077,\n",
       "       0.13351077, 0.13351077, 0.13351077, 0.13351077, 0.13351077,\n",
       "       0.13351077, 0.13351077, 0.13351077, 0.13351077, 0.13351077,\n",
       "       0.13351077, 0.13351077, 0.13351077, 0.13351077, 0.13351077,\n",
       "       0.13351077, 0.13351077, 0.13351077, 0.13351077, 0.13351077,\n",
       "       0.13351077, 0.13351077, 0.13351077, 0.13351077, 0.13351077,\n",
       "       0.13351077, 0.13351077, 0.13351077, 0.13351077, 0.13351077,\n",
       "       0.13351077, 0.13351077, 0.13351077, 0.13351077, 0.13351077,\n",
       "       0.13351077, 0.13351077, 0.13351077, 0.13351077, 0.13351077,\n",
       "       0.13351077, 0.13351077, 0.13351077, 0.13351077, 0.13351077,\n",
       "       0.13351077, 0.13351077, 0.13351077, 0.13351077, 0.13351077,\n",
       "       0.13351077, 0.13351077, 0.13351077, 0.13351077, 0.13351077,\n",
       "       0.13351077, 0.13351077, 0.13351077, 0.13351077, 0.13351077,\n",
       "       0.13351077, 0.13351077, 0.13351077, 0.13351077, 0.13351077,\n",
       "       0.13351077, 0.13351077, 0.13351077, 0.13351077, 0.13351077,\n",
       "       0.13351077, 0.13351077, 0.13351077, 0.13351077, 0.13351077,\n",
       "       0.13351077, 0.13351077, 0.13351077, 0.13351077, 0.13351077,\n",
       "       0.13351077, 0.13351077, 0.13351077, 0.13351077, 0.13351077])"
      ]
     },
     "execution_count": 175,
     "metadata": {},
     "output_type": "execute_result"
    }
   ],
   "source": [
    "pred1"
   ]
  },
  {
   "cell_type": "markdown",
   "metadata": {},
   "source": [
    "## Ridge Regression"
   ]
  },
  {
   "cell_type": "code",
   "execution_count": 176,
   "metadata": {},
   "outputs": [
    {
     "name": "stdout",
     "output_type": "stream",
     "text": [
      "0.07988422309029111\n",
      "0.271276243582526\n",
      "0.07231954538682311\n",
      "0.31681608767740066\n"
     ]
    }
   ],
   "source": [
    "# Ridge Regression\n",
    "rr = Ridge(alpha=0.01)\n",
    "rr.fit(X_train, y_train) \n",
    "pred_train_rr= rr.predict(X_train)\n",
    "print(np.sqrt(mean_squared_error(y_train,pred_train_rr)))\n",
    "print(r2_score(y_train, pred_train_rr))\n",
    "\n",
    "pred_test_rr= rr.predict(X_test)\n",
    "print(np.sqrt(mean_squared_error(y_test,pred_test_rr))) \n",
    "print(r2_score(y_test, pred_test_rr))"
   ]
  },
  {
   "cell_type": "code",
   "execution_count": 177,
   "metadata": {},
   "outputs": [
    {
     "data": {
      "text/plain": [
       "Text(0, 0.5, 'Predicted Fracture Toughness')"
      ]
     },
     "execution_count": 177,
     "metadata": {},
     "output_type": "execute_result"
    },
    {
     "data": {
      "image/png": "[encoded data removed]",
      "text/plain": [
       "<Figure size 432x288 with 1 Axes>"
      ]
     },
     "metadata": {
      "needs_background": "light"
     },
     "output_type": "display_data"
    }
   ],
   "source": [
    "plt.scatter(y_test,pred_test_rr)\n",
    "plt.xlabel(\"Fracture Toughness\")\n",
    "plt.ylabel(\"Predicted Fracture Toughness\")"
   ]
  },
  {
   "cell_type": "markdown",
   "metadata": {},
   "source": [
    "## Elastic net"
   ]
  },
  {
   "cell_type": "code",
   "execution_count": 178,
   "metadata": {},
   "outputs": [
    {
     "name": "stdout",
     "output_type": "stream",
     "text": [
      "0.08579658892099314\n",
      "0.15941634818044703\n",
      "0.07899131034687706\n",
      "0.18494879750516202\n"
     ]
    }
   ],
   "source": [
    "#Elastic Net\n",
    "model_enet = ElasticNet(alpha = 0.01)\n",
    "model_enet.fit(X_train, y_train) \n",
    "pred_train_enet= model_enet.predict(X_train)\n",
    "print(np.sqrt(mean_squared_error(y_train,pred_train_enet)))\n",
    "print(r2_score(y_train, pred_train_enet))\n",
    "\n",
    "pred_test_enet= model_enet.predict(X_test)\n",
    "print(np.sqrt(mean_squared_error(y_test,pred_test_enet)))\n",
    "print(r2_score(y_test, pred_test_enet))"
   ]
  },
  {
   "cell_type": "code",
   "execution_count": 179,
   "metadata": {},
   "outputs": [
    {
     "data": {
      "text/plain": [
       "Text(0, 0.5, 'Predicted Fracture Toughness')"
      ]
     },
     "execution_count": 179,
     "metadata": {},
     "output_type": "execute_result"
    },
    {
     "data": {
      "image/png": "[encoded data removed]",
      "text/plain": [
       "<Figure size 432x288 with 1 Axes>"
      ]
     },
     "metadata": {
      "needs_background": "light"
     },
     "output_type": "display_data"
    }
   ],
   "source": [
    "plt.scatter(y_test,pred_test_enet)\n",
    "plt.xlabel(\"Fracture Toughness\")\n",
    "plt.ylabel(\"Predicted Fracture Toughness\")"
   ]
  },
  {
   "cell_type": "code",
   "execution_count": null,
   "metadata": {},
   "outputs": [],
   "source": []
  }
 ],
 "metadata": {
  "kernelspec": {
   "display_name": "Python 3",
   "language": "python",
   "name": "python3"
  },
  "language_info": {
   "codemirror_mode": {
    "name": "ipython",
    "version": 3
   },
   "file_extension": ".py",
   "mimetype": "text/x-python",
   "name": "python",
   "nbconvert_exporter": "python",
   "pygments_lexer": "ipython3",
   "version": "3.8.5"
  }
 },
 "nbformat": 4,
 "nbformat_minor": 4
}
