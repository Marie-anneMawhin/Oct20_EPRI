{
 "cells": [
  {
   "cell_type": "code",
   "execution_count": 52,
   "metadata": {},
   "outputs": [
    {
     "data": {
      "text/plain": [
       "<module 'epri_mc_lib_2' from '/home/nick/Bureau/Programming/S2DS/Oct20_EPRI/Task2/NB/epri_mc_lib_2.py'>"
      ]
     },
     "execution_count": 52,
     "metadata": {},
     "output_type": "execute_result"
    }
   ],
   "source": [
    "import pandas as pd\n",
    "import numpy as np\n",
    "import matplotlib.pyplot as plt\n",
    "import seaborn as sns\n",
    "from scipy.cluster import hierarchy\n",
    "from sklearn.preprocessing import MinMaxScaler\n",
    "import os, glob, inspect, sys\n",
    "import re\n",
    "\n",
    "currentdir = os.path.dirname(os.path.abspath(inspect.getfile(inspect.currentframe())))\n",
    "parentdir = os.path.dirname(currentdir)\n",
    "sys.path.insert(0,parentdir) \n",
    "import epri_mc_lib_2 as mc\n",
    "from importlib import reload\n",
    "reload(mc)\n"
   ]
  },
  {
   "cell_type": "code",
   "execution_count": 53,
   "metadata": {},
   "outputs": [],
   "source": [
    "from sklearn import model_selection\n",
    "from sklearn.linear_model import LinearRegression\n",
    "from sklearn.linear_model import Ridge\n",
    "from sklearn.linear_model import Lasso\n",
    "from sklearn.linear_model import ElasticNet\n",
    "from sklearn.neighbors import KNeighborsRegressor\n",
    "from sklearn.tree import DecisionTreeRegressor\n",
    "from sklearn.svm import SVR\n",
    "from sklearn.ensemble import RandomForestRegressor\n",
    "from sklearn.metrics import r2_score\n",
    "from sklearn.model_selection import train_test_split\n",
    "from sklearn.metrics import mean_squared_error\n",
    "from math import sqrt"
   ]
  },
  {
   "cell_type": "markdown",
   "metadata": {},
   "source": [
    "### Import data and merge replicates"
   ]
  },
  {
   "cell_type": "code",
   "execution_count": 62,
   "metadata": {},
   "outputs": [
    {
     "data": {
      "text/html": [
       "<div>\n",
       "<style scoped>\n",
       "    .dataframe tbody tr th:only-of-type {\n",
       "        vertical-align: middle;\n",
       "    }\n",
       "\n",
       "    .dataframe tbody tr th {\n",
       "        vertical-align: top;\n",
       "    }\n",
       "\n",
       "    .dataframe thead th {\n",
       "        text-align: right;\n",
       "    }\n",
       "</style>\n",
       "<table border=\"1\" class=\"dataframe\">\n",
       "  <thead>\n",
       "    <tr style=\"text-align: right;\">\n",
       "      <th></th>\n",
       "      <th>KJIC</th>\n",
       "      <th>MS_Avg</th>\n",
       "      <th>MS_neg_error</th>\n",
       "      <th>MS_pos_error</th>\n",
       "      <th>TEP_average</th>\n",
       "      <th>TEP_error</th>\n",
       "      <th>Beta_avg</th>\n",
       "      <th>PC_IF_2.25MHz</th>\n",
       "      <th>SE_IF_2.25MHz</th>\n",
       "      <th>SE_%_IF_2.25MHz</th>\n",
       "      <th>PC_IF_3.5MHz</th>\n",
       "      <th>SE_IF_3.5MHz</th>\n",
       "      <th>SE_%_IF_3.5MHz</th>\n",
       "      <th>PC_BS</th>\n",
       "      <th>Type</th>\n",
       "    </tr>\n",
       "    <tr>\n",
       "      <th>type_cw</th>\n",
       "      <th></th>\n",
       "      <th></th>\n",
       "      <th></th>\n",
       "      <th></th>\n",
       "      <th></th>\n",
       "      <th></th>\n",
       "      <th></th>\n",
       "      <th></th>\n",
       "      <th></th>\n",
       "      <th></th>\n",
       "      <th></th>\n",
       "      <th></th>\n",
       "      <th></th>\n",
       "      <th></th>\n",
       "      <th></th>\n",
       "    </tr>\n",
       "  </thead>\n",
       "  <tbody>\n",
       "    <tr>\n",
       "      <th>A286-80</th>\n",
       "      <td>60.489458</td>\n",
       "      <td>0.010580</td>\n",
       "      <td>0.002000</td>\n",
       "      <td>0.002000</td>\n",
       "      <td>-1.409903</td>\n",
       "      <td>0.046787</td>\n",
       "      <td>0.002109</td>\n",
       "      <td>3.640283e+02</td>\n",
       "      <td>0.025513</td>\n",
       "      <td>2.594648</td>\n",
       "      <td>184.875799</td>\n",
       "      <td>0.018969</td>\n",
       "      <td>1.705626</td>\n",
       "      <td>-62.977927</td>\n",
       "      <td>A286</td>\n",
       "    </tr>\n",
       "    <tr>\n",
       "      <th>A286-80</th>\n",
       "      <td>44.261992</td>\n",
       "      <td>0.013681</td>\n",
       "      <td>0.002000</td>\n",
       "      <td>0.002000</td>\n",
       "      <td>-1.508575</td>\n",
       "      <td>0.046089</td>\n",
       "      <td>0.001903</td>\n",
       "      <td>4.615413e+02</td>\n",
       "      <td>0.022798</td>\n",
       "      <td>1.890054</td>\n",
       "      <td>901.546526</td>\n",
       "      <td>0.022046</td>\n",
       "      <td>1.504480</td>\n",
       "      <td>-64.434818</td>\n",
       "      <td>A286</td>\n",
       "    </tr>\n",
       "    <tr>\n",
       "      <th>A286-0</th>\n",
       "      <td>156.352240</td>\n",
       "      <td>0.014511</td>\n",
       "      <td>0.002000</td>\n",
       "      <td>0.002000</td>\n",
       "      <td>-1.220520</td>\n",
       "      <td>0.045382</td>\n",
       "      <td>0.002143</td>\n",
       "      <td>9.688812e-13</td>\n",
       "      <td>0.008521</td>\n",
       "      <td>3.973307</td>\n",
       "      <td>47.009106</td>\n",
       "      <td>0.002548</td>\n",
       "      <td>1.640369</td>\n",
       "      <td>-0.455673</td>\n",
       "      <td>A286</td>\n",
       "    </tr>\n",
       "    <tr>\n",
       "      <th>304-80</th>\n",
       "      <td>70.025254</td>\n",
       "      <td>4.788344</td>\n",
       "      <td>2.131362</td>\n",
       "      <td>2.820919</td>\n",
       "      <td>-1.055187</td>\n",
       "      <td>0.067237</td>\n",
       "      <td>0.002424</td>\n",
       "      <td>8.023317e+01</td>\n",
       "      <td>0.027521</td>\n",
       "      <td>3.165900</td>\n",
       "      <td>158.586692</td>\n",
       "      <td>0.024863</td>\n",
       "      <td>3.235830</td>\n",
       "      <td>-8.051534</td>\n",
       "      <td>304</td>\n",
       "    </tr>\n",
       "    <tr>\n",
       "      <th>304-40</th>\n",
       "      <td>102.089063</td>\n",
       "      <td>1.070462</td>\n",
       "      <td>0.821760</td>\n",
       "      <td>1.754141</td>\n",
       "      <td>-1.201403</td>\n",
       "      <td>0.052497</td>\n",
       "      <td>0.001934</td>\n",
       "      <td>4.029531e+01</td>\n",
       "      <td>0.022566</td>\n",
       "      <td>2.870203</td>\n",
       "      <td>637.420387</td>\n",
       "      <td>0.012983</td>\n",
       "      <td>5.242440</td>\n",
       "      <td>-36.263322</td>\n",
       "      <td>304</td>\n",
       "    </tr>\n",
       "    <tr>\n",
       "      <th>...</th>\n",
       "      <td>...</td>\n",
       "      <td>...</td>\n",
       "      <td>...</td>\n",
       "      <td>...</td>\n",
       "      <td>...</td>\n",
       "      <td>...</td>\n",
       "      <td>...</td>\n",
       "      <td>...</td>\n",
       "      <td>...</td>\n",
       "      <td>...</td>\n",
       "      <td>...</td>\n",
       "      <td>...</td>\n",
       "      <td>...</td>\n",
       "      <td>...</td>\n",
       "      <td>...</td>\n",
       "    </tr>\n",
       "    <tr>\n",
       "      <th>347-40</th>\n",
       "      <td>96.533556</td>\n",
       "      <td>0.338549</td>\n",
       "      <td>0.179534</td>\n",
       "      <td>0.225540</td>\n",
       "      <td>-1.261545</td>\n",
       "      <td>0.056277</td>\n",
       "      <td>0.002174</td>\n",
       "      <td>1.350067e+02</td>\n",
       "      <td>0.006515</td>\n",
       "      <td>1.112177</td>\n",
       "      <td>238.429845</td>\n",
       "      <td>0.023679</td>\n",
       "      <td>1.824403</td>\n",
       "      <td>-36.890105</td>\n",
       "      <td>347</td>\n",
       "    </tr>\n",
       "    <tr>\n",
       "      <th>A286-20</th>\n",
       "      <td>71.566934</td>\n",
       "      <td>0.009250</td>\n",
       "      <td>0.002000</td>\n",
       "      <td>0.002000</td>\n",
       "      <td>-1.150631</td>\n",
       "      <td>0.044825</td>\n",
       "      <td>0.002063</td>\n",
       "      <td>6.842860e+02</td>\n",
       "      <td>0.022014</td>\n",
       "      <td>1.675595</td>\n",
       "      <td>1292.052416</td>\n",
       "      <td>0.011407</td>\n",
       "      <td>0.373688</td>\n",
       "      <td>-28.171811</td>\n",
       "      <td>A286</td>\n",
       "    </tr>\n",
       "    <tr>\n",
       "      <th>304-80</th>\n",
       "      <td>81.170931</td>\n",
       "      <td>3.926854</td>\n",
       "      <td>2.239491</td>\n",
       "      <td>3.551210</td>\n",
       "      <td>-0.930937</td>\n",
       "      <td>0.067434</td>\n",
       "      <td>0.002443</td>\n",
       "      <td>8.748498e+01</td>\n",
       "      <td>0.023465</td>\n",
       "      <td>3.085555</td>\n",
       "      <td>139.648195</td>\n",
       "      <td>0.018672</td>\n",
       "      <td>2.814763</td>\n",
       "      <td>2.662860</td>\n",
       "      <td>304</td>\n",
       "    </tr>\n",
       "    <tr>\n",
       "      <th>A286-20</th>\n",
       "      <td>64.209348</td>\n",
       "      <td>0.009250</td>\n",
       "      <td>0.002000</td>\n",
       "      <td>0.002000</td>\n",
       "      <td>-1.248021</td>\n",
       "      <td>0.044754</td>\n",
       "      <td>0.002108</td>\n",
       "      <td>6.734629e+02</td>\n",
       "      <td>0.023711</td>\n",
       "      <td>1.461942</td>\n",
       "      <td>1233.343218</td>\n",
       "      <td>0.015022</td>\n",
       "      <td>0.890019</td>\n",
       "      <td>-28.758294</td>\n",
       "      <td>A286</td>\n",
       "    </tr>\n",
       "    <tr>\n",
       "      <th>316-80</th>\n",
       "      <td>59.258030</td>\n",
       "      <td>0.037918</td>\n",
       "      <td>0.003101</td>\n",
       "      <td>0.075685</td>\n",
       "      <td>-1.622191</td>\n",
       "      <td>0.044577</td>\n",
       "      <td>0.002616</td>\n",
       "      <td>9.844953e+01</td>\n",
       "      <td>0.022759</td>\n",
       "      <td>2.631484</td>\n",
       "      <td>154.207937</td>\n",
       "      <td>0.054252</td>\n",
       "      <td>5.235837</td>\n",
       "      <td>-68.999999</td>\n",
       "      <td>316</td>\n",
       "    </tr>\n",
       "  </tbody>\n",
       "</table>\n",
       "<p>1000 rows × 15 columns</p>\n",
       "</div>"
      ],
      "text/plain": [
       "               KJIC    MS_Avg  MS_neg_error  MS_pos_error  TEP_average  \\\n",
       "type_cw                                                                  \n",
       "A286-80   60.489458  0.010580      0.002000      0.002000    -1.409903   \n",
       "A286-80   44.261992  0.013681      0.002000      0.002000    -1.508575   \n",
       "A286-0   156.352240  0.014511      0.002000      0.002000    -1.220520   \n",
       "304-80    70.025254  4.788344      2.131362      2.820919    -1.055187   \n",
       "304-40   102.089063  1.070462      0.821760      1.754141    -1.201403   \n",
       "...             ...       ...           ...           ...          ...   \n",
       "347-40    96.533556  0.338549      0.179534      0.225540    -1.261545   \n",
       "A286-20   71.566934  0.009250      0.002000      0.002000    -1.150631   \n",
       "304-80    81.170931  3.926854      2.239491      3.551210    -0.930937   \n",
       "A286-20   64.209348  0.009250      0.002000      0.002000    -1.248021   \n",
       "316-80    59.258030  0.037918      0.003101      0.075685    -1.622191   \n",
       "\n",
       "         TEP_error  Beta_avg  PC_IF_2.25MHz  SE_IF_2.25MHz  SE_%_IF_2.25MHz  \\\n",
       "type_cw                                                                       \n",
       "A286-80   0.046787  0.002109   3.640283e+02       0.025513         2.594648   \n",
       "A286-80   0.046089  0.001903   4.615413e+02       0.022798         1.890054   \n",
       "A286-0    0.045382  0.002143   9.688812e-13       0.008521         3.973307   \n",
       "304-80    0.067237  0.002424   8.023317e+01       0.027521         3.165900   \n",
       "304-40    0.052497  0.001934   4.029531e+01       0.022566         2.870203   \n",
       "...            ...       ...            ...            ...              ...   \n",
       "347-40    0.056277  0.002174   1.350067e+02       0.006515         1.112177   \n",
       "A286-20   0.044825  0.002063   6.842860e+02       0.022014         1.675595   \n",
       "304-80    0.067434  0.002443   8.748498e+01       0.023465         3.085555   \n",
       "A286-20   0.044754  0.002108   6.734629e+02       0.023711         1.461942   \n",
       "316-80    0.044577  0.002616   9.844953e+01       0.022759         2.631484   \n",
       "\n",
       "         PC_IF_3.5MHz  SE_IF_3.5MHz  SE_%_IF_3.5MHz      PC_BS  Type  \n",
       "type_cw                                                               \n",
       "A286-80    184.875799      0.018969        1.705626 -62.977927  A286  \n",
       "A286-80    901.546526      0.022046        1.504480 -64.434818  A286  \n",
       "A286-0      47.009106      0.002548        1.640369  -0.455673  A286  \n",
       "304-80     158.586692      0.024863        3.235830  -8.051534   304  \n",
       "304-40     637.420387      0.012983        5.242440 -36.263322   304  \n",
       "...               ...           ...             ...        ...   ...  \n",
       "347-40     238.429845      0.023679        1.824403 -36.890105   347  \n",
       "A286-20   1292.052416      0.011407        0.373688 -28.171811  A286  \n",
       "304-80     139.648195      0.018672        2.814763   2.662860   304  \n",
       "A286-20   1233.343218      0.015022        0.890019 -28.758294  A286  \n",
       "316-80     154.207937      0.054252        5.235837 -68.999999   316  \n",
       "\n",
       "[1000 rows x 15 columns]"
      ]
     },
     "execution_count": 62,
     "metadata": {},
     "output_type": "execute_result"
    }
   ],
   "source": [
    "merged = pd.read_csv(os.path.join(os.path.dirname(os.getcwd()), '../Data/Merged_data/CopulaGAN_simulated_data.csv'),\n",
    "                    index_col=None)\n",
    "#merged.index = merged.index.str.rstrip('-12345')\n",
    "#mean_df = merged.groupby('ID').mean()\n",
    "# Get rid of cold work\n",
    "#cw_regex = re.compile(\"[0-9]+$\") \n",
    "#mean_df['cold_work'] = [int(re.search(cw_regex,x).group()) for x in mean_df.index]\n",
    "#mean_df.index = mean_df.index.str.rstrip('02468')\n",
    "#mean_df.index = mean_df.index.str.rstrip('-')\n",
    "merged.set_index('type_cw', inplace=True)\n",
    "merged"
   ]
  },
  {
   "cell_type": "code",
   "execution_count": 63,
   "metadata": {},
   "outputs": [],
   "source": [
    "merged=merged[merged.index.isin(['304-0','304-20','304-40','304-60','304-80'])]"
   ]
  },
  {
   "cell_type": "code",
   "execution_count": 64,
   "metadata": {},
   "outputs": [
    {
     "data": {
      "text/html": [
       "<div>\n",
       "<style scoped>\n",
       "    .dataframe tbody tr th:only-of-type {\n",
       "        vertical-align: middle;\n",
       "    }\n",
       "\n",
       "    .dataframe tbody tr th {\n",
       "        vertical-align: top;\n",
       "    }\n",
       "\n",
       "    .dataframe thead th {\n",
       "        text-align: right;\n",
       "    }\n",
       "</style>\n",
       "<table border=\"1\" class=\"dataframe\">\n",
       "  <thead>\n",
       "    <tr style=\"text-align: right;\">\n",
       "      <th></th>\n",
       "      <th>KJIC</th>\n",
       "      <th>MS_Avg</th>\n",
       "      <th>MS_neg_error</th>\n",
       "      <th>MS_pos_error</th>\n",
       "      <th>TEP_average</th>\n",
       "      <th>TEP_error</th>\n",
       "      <th>Beta_avg</th>\n",
       "      <th>PC_IF_2.25MHz</th>\n",
       "      <th>SE_IF_2.25MHz</th>\n",
       "      <th>SE_%_IF_2.25MHz</th>\n",
       "      <th>PC_IF_3.5MHz</th>\n",
       "      <th>SE_IF_3.5MHz</th>\n",
       "      <th>SE_%_IF_3.5MHz</th>\n",
       "      <th>PC_BS</th>\n",
       "      <th>Type</th>\n",
       "    </tr>\n",
       "    <tr>\n",
       "      <th>type_cw</th>\n",
       "      <th></th>\n",
       "      <th></th>\n",
       "      <th></th>\n",
       "      <th></th>\n",
       "      <th></th>\n",
       "      <th></th>\n",
       "      <th></th>\n",
       "      <th></th>\n",
       "      <th></th>\n",
       "      <th></th>\n",
       "      <th></th>\n",
       "      <th></th>\n",
       "      <th></th>\n",
       "      <th></th>\n",
       "      <th></th>\n",
       "    </tr>\n",
       "  </thead>\n",
       "  <tbody>\n",
       "    <tr>\n",
       "      <th>304-80</th>\n",
       "      <td>70.025254</td>\n",
       "      <td>4.788344</td>\n",
       "      <td>2.131362</td>\n",
       "      <td>2.820919</td>\n",
       "      <td>-1.055187</td>\n",
       "      <td>0.067237</td>\n",
       "      <td>0.002424</td>\n",
       "      <td>8.023317e+01</td>\n",
       "      <td>0.027521</td>\n",
       "      <td>3.165900</td>\n",
       "      <td>158.586692</td>\n",
       "      <td>0.024863</td>\n",
       "      <td>3.235830</td>\n",
       "      <td>-8.051534</td>\n",
       "      <td>304</td>\n",
       "    </tr>\n",
       "    <tr>\n",
       "      <th>304-40</th>\n",
       "      <td>102.089063</td>\n",
       "      <td>1.070462</td>\n",
       "      <td>0.821760</td>\n",
       "      <td>1.754141</td>\n",
       "      <td>-1.201403</td>\n",
       "      <td>0.052497</td>\n",
       "      <td>0.001934</td>\n",
       "      <td>4.029531e+01</td>\n",
       "      <td>0.022566</td>\n",
       "      <td>2.870203</td>\n",
       "      <td>637.420387</td>\n",
       "      <td>0.012983</td>\n",
       "      <td>5.242440</td>\n",
       "      <td>-36.263322</td>\n",
       "      <td>304</td>\n",
       "    </tr>\n",
       "    <tr>\n",
       "      <th>304-0</th>\n",
       "      <td>165.235029</td>\n",
       "      <td>0.807079</td>\n",
       "      <td>0.251327</td>\n",
       "      <td>0.374528</td>\n",
       "      <td>-1.464704</td>\n",
       "      <td>0.050231</td>\n",
       "      <td>0.002681</td>\n",
       "      <td>1.182266e-09</td>\n",
       "      <td>0.014438</td>\n",
       "      <td>3.107483</td>\n",
       "      <td>4.728826</td>\n",
       "      <td>0.005717</td>\n",
       "      <td>1.467994</td>\n",
       "      <td>10.241568</td>\n",
       "      <td>304</td>\n",
       "    </tr>\n",
       "    <tr>\n",
       "      <th>304-0</th>\n",
       "      <td>133.232115</td>\n",
       "      <td>0.079517</td>\n",
       "      <td>0.106150</td>\n",
       "      <td>0.575568</td>\n",
       "      <td>-1.497238</td>\n",
       "      <td>0.047187</td>\n",
       "      <td>0.002660</td>\n",
       "      <td>1.576046e-09</td>\n",
       "      <td>0.016390</td>\n",
       "      <td>2.752073</td>\n",
       "      <td>52.180646</td>\n",
       "      <td>0.005351</td>\n",
       "      <td>1.402917</td>\n",
       "      <td>-11.373612</td>\n",
       "      <td>304</td>\n",
       "    </tr>\n",
       "    <tr>\n",
       "      <th>304-0</th>\n",
       "      <td>138.155633</td>\n",
       "      <td>0.026303</td>\n",
       "      <td>0.028601</td>\n",
       "      <td>0.010504</td>\n",
       "      <td>-1.663164</td>\n",
       "      <td>0.048397</td>\n",
       "      <td>0.002580</td>\n",
       "      <td>1.573671e-09</td>\n",
       "      <td>0.019787</td>\n",
       "      <td>2.617819</td>\n",
       "      <td>-9.786436</td>\n",
       "      <td>0.005483</td>\n",
       "      <td>1.140755</td>\n",
       "      <td>-23.798033</td>\n",
       "      <td>304</td>\n",
       "    </tr>\n",
       "    <tr>\n",
       "      <th>...</th>\n",
       "      <td>...</td>\n",
       "      <td>...</td>\n",
       "      <td>...</td>\n",
       "      <td>...</td>\n",
       "      <td>...</td>\n",
       "      <td>...</td>\n",
       "      <td>...</td>\n",
       "      <td>...</td>\n",
       "      <td>...</td>\n",
       "      <td>...</td>\n",
       "      <td>...</td>\n",
       "      <td>...</td>\n",
       "      <td>...</td>\n",
       "      <td>...</td>\n",
       "      <td>...</td>\n",
       "    </tr>\n",
       "    <tr>\n",
       "      <th>304-60</th>\n",
       "      <td>85.191779</td>\n",
       "      <td>1.867292</td>\n",
       "      <td>1.223026</td>\n",
       "      <td>1.985375</td>\n",
       "      <td>-1.251053</td>\n",
       "      <td>0.053134</td>\n",
       "      <td>0.002712</td>\n",
       "      <td>8.145334e+01</td>\n",
       "      <td>0.008589</td>\n",
       "      <td>0.974730</td>\n",
       "      <td>167.972940</td>\n",
       "      <td>0.014472</td>\n",
       "      <td>2.116972</td>\n",
       "      <td>-31.374450</td>\n",
       "      <td>304</td>\n",
       "    </tr>\n",
       "    <tr>\n",
       "      <th>304-20</th>\n",
       "      <td>85.213854</td>\n",
       "      <td>0.664860</td>\n",
       "      <td>0.497527</td>\n",
       "      <td>0.416898</td>\n",
       "      <td>-1.246710</td>\n",
       "      <td>0.070860</td>\n",
       "      <td>0.002057</td>\n",
       "      <td>7.517958e+01</td>\n",
       "      <td>0.021191</td>\n",
       "      <td>1.881288</td>\n",
       "      <td>86.955713</td>\n",
       "      <td>0.007633</td>\n",
       "      <td>1.224667</td>\n",
       "      <td>-30.566351</td>\n",
       "      <td>304</td>\n",
       "    </tr>\n",
       "    <tr>\n",
       "      <th>304-0</th>\n",
       "      <td>121.052310</td>\n",
       "      <td>0.430705</td>\n",
       "      <td>0.032981</td>\n",
       "      <td>0.268871</td>\n",
       "      <td>-1.576753</td>\n",
       "      <td>0.048919</td>\n",
       "      <td>0.002688</td>\n",
       "      <td>1.756160e-06</td>\n",
       "      <td>0.018446</td>\n",
       "      <td>3.406455</td>\n",
       "      <td>-4.107478</td>\n",
       "      <td>0.006638</td>\n",
       "      <td>1.357113</td>\n",
       "      <td>1.425212</td>\n",
       "      <td>304</td>\n",
       "    </tr>\n",
       "    <tr>\n",
       "      <th>304-60</th>\n",
       "      <td>91.982845</td>\n",
       "      <td>0.826286</td>\n",
       "      <td>1.266283</td>\n",
       "      <td>0.953643</td>\n",
       "      <td>-1.268205</td>\n",
       "      <td>0.055388</td>\n",
       "      <td>0.002477</td>\n",
       "      <td>5.107218e+01</td>\n",
       "      <td>0.013938</td>\n",
       "      <td>1.431201</td>\n",
       "      <td>169.146697</td>\n",
       "      <td>0.015639</td>\n",
       "      <td>1.986064</td>\n",
       "      <td>0.685512</td>\n",
       "      <td>304</td>\n",
       "    </tr>\n",
       "    <tr>\n",
       "      <th>304-80</th>\n",
       "      <td>81.170931</td>\n",
       "      <td>3.926854</td>\n",
       "      <td>2.239491</td>\n",
       "      <td>3.551210</td>\n",
       "      <td>-0.930937</td>\n",
       "      <td>0.067434</td>\n",
       "      <td>0.002443</td>\n",
       "      <td>8.748498e+01</td>\n",
       "      <td>0.023465</td>\n",
       "      <td>3.085555</td>\n",
       "      <td>139.648195</td>\n",
       "      <td>0.018672</td>\n",
       "      <td>2.814763</td>\n",
       "      <td>2.662860</td>\n",
       "      <td>304</td>\n",
       "    </tr>\n",
       "  </tbody>\n",
       "</table>\n",
       "<p>267 rows × 15 columns</p>\n",
       "</div>"
      ],
      "text/plain": [
       "               KJIC    MS_Avg  MS_neg_error  MS_pos_error  TEP_average  \\\n",
       "type_cw                                                                  \n",
       "304-80    70.025254  4.788344      2.131362      2.820919    -1.055187   \n",
       "304-40   102.089063  1.070462      0.821760      1.754141    -1.201403   \n",
       "304-0    165.235029  0.807079      0.251327      0.374528    -1.464704   \n",
       "304-0    133.232115  0.079517      0.106150      0.575568    -1.497238   \n",
       "304-0    138.155633  0.026303      0.028601      0.010504    -1.663164   \n",
       "...             ...       ...           ...           ...          ...   \n",
       "304-60    85.191779  1.867292      1.223026      1.985375    -1.251053   \n",
       "304-20    85.213854  0.664860      0.497527      0.416898    -1.246710   \n",
       "304-0    121.052310  0.430705      0.032981      0.268871    -1.576753   \n",
       "304-60    91.982845  0.826286      1.266283      0.953643    -1.268205   \n",
       "304-80    81.170931  3.926854      2.239491      3.551210    -0.930937   \n",
       "\n",
       "         TEP_error  Beta_avg  PC_IF_2.25MHz  SE_IF_2.25MHz  SE_%_IF_2.25MHz  \\\n",
       "type_cw                                                                       \n",
       "304-80    0.067237  0.002424   8.023317e+01       0.027521         3.165900   \n",
       "304-40    0.052497  0.001934   4.029531e+01       0.022566         2.870203   \n",
       "304-0     0.050231  0.002681   1.182266e-09       0.014438         3.107483   \n",
       "304-0     0.047187  0.002660   1.576046e-09       0.016390         2.752073   \n",
       "304-0     0.048397  0.002580   1.573671e-09       0.019787         2.617819   \n",
       "...            ...       ...            ...            ...              ...   \n",
       "304-60    0.053134  0.002712   8.145334e+01       0.008589         0.974730   \n",
       "304-20    0.070860  0.002057   7.517958e+01       0.021191         1.881288   \n",
       "304-0     0.048919  0.002688   1.756160e-06       0.018446         3.406455   \n",
       "304-60    0.055388  0.002477   5.107218e+01       0.013938         1.431201   \n",
       "304-80    0.067434  0.002443   8.748498e+01       0.023465         3.085555   \n",
       "\n",
       "         PC_IF_3.5MHz  SE_IF_3.5MHz  SE_%_IF_3.5MHz      PC_BS Type  \n",
       "type_cw                                                              \n",
       "304-80     158.586692      0.024863        3.235830  -8.051534  304  \n",
       "304-40     637.420387      0.012983        5.242440 -36.263322  304  \n",
       "304-0        4.728826      0.005717        1.467994  10.241568  304  \n",
       "304-0       52.180646      0.005351        1.402917 -11.373612  304  \n",
       "304-0       -9.786436      0.005483        1.140755 -23.798033  304  \n",
       "...               ...           ...             ...        ...  ...  \n",
       "304-60     167.972940      0.014472        2.116972 -31.374450  304  \n",
       "304-20      86.955713      0.007633        1.224667 -30.566351  304  \n",
       "304-0       -4.107478      0.006638        1.357113   1.425212  304  \n",
       "304-60     169.146697      0.015639        1.986064   0.685512  304  \n",
       "304-80     139.648195      0.018672        2.814763   2.662860  304  \n",
       "\n",
       "[267 rows x 15 columns]"
      ]
     },
     "execution_count": 64,
     "metadata": {},
     "output_type": "execute_result"
    }
   ],
   "source": [
    "merged"
   ]
  },
  {
   "cell_type": "markdown",
   "metadata": {},
   "source": [
    "## Select columns of interest"
   ]
  },
  {
   "cell_type": "code",
   "execution_count": 65,
   "metadata": {},
   "outputs": [],
   "source": [
    "#mean_df = mean_df[mc.regression_cols].dropna()"
   ]
  },
  {
   "cell_type": "code",
   "execution_count": 66,
   "metadata": {},
   "outputs": [],
   "source": [
    "#mean_df.index=mean_df.index+\"-\"+mean_df.cold_work.astype(\"str\")"
   ]
  },
  {
   "cell_type": "code",
   "execution_count": 67,
   "metadata": {},
   "outputs": [
    {
     "name": "stderr",
     "output_type": "stream",
     "text": [
      "/home/nick/anaconda3/lib/python3.7/site-packages/pandas/core/frame.py:3997: SettingWithCopyWarning: \n",
      "A value is trying to be set on a copy of a slice from a DataFrame\n",
      "\n",
      "See the caveats in the documentation: https://pandas.pydata.org/pandas-docs/stable/user_guide/indexing.html#returning-a-view-versus-a-copy\n",
      "  errors=errors,\n"
     ]
    }
   ],
   "source": [
    "#mean_df.drop([\"cold_work\"], axis=1, inplace=True)\n",
    "merged.drop([\"Type\"], axis=1, inplace=True)"
   ]
  },
  {
   "cell_type": "code",
   "execution_count": 68,
   "metadata": {},
   "outputs": [],
   "source": [
    "#mean_df=mean_df.iloc[10:15]\n",
    "#mean_df"
   ]
  },
  {
   "cell_type": "markdown",
   "metadata": {},
   "source": [
    "## Scale data"
   ]
  },
  {
   "cell_type": "code",
   "execution_count": 69,
   "metadata": {},
   "outputs": [
    {
     "name": "stderr",
     "output_type": "stream",
     "text": [
      "/home/nick/anaconda3/lib/python3.7/site-packages/pandas/core/generic.py:5303: SettingWithCopyWarning: \n",
      "A value is trying to be set on a copy of a slice from a DataFrame.\n",
      "Try using .loc[row_indexer,col_indexer] = value instead\n",
      "\n",
      "See the caveats in the documentation: https://pandas.pydata.org/pandas-docs/stable/user_guide/indexing.html#returning-a-view-versus-a-copy\n",
      "  self[name] = value\n"
     ]
    },
    {
     "data": {
      "text/html": [
       "<div>\n",
       "<style scoped>\n",
       "    .dataframe tbody tr th:only-of-type {\n",
       "        vertical-align: middle;\n",
       "    }\n",
       "\n",
       "    .dataframe tbody tr th {\n",
       "        vertical-align: top;\n",
       "    }\n",
       "\n",
       "    .dataframe thead th {\n",
       "        text-align: right;\n",
       "    }\n",
       "</style>\n",
       "<table border=\"1\" class=\"dataframe\">\n",
       "  <thead>\n",
       "    <tr style=\"text-align: right;\">\n",
       "      <th></th>\n",
       "      <th>KJIC</th>\n",
       "      <th>MS_Avg</th>\n",
       "      <th>MS_neg_error</th>\n",
       "      <th>MS_pos_error</th>\n",
       "      <th>TEP_average</th>\n",
       "      <th>TEP_error</th>\n",
       "      <th>Beta_avg</th>\n",
       "      <th>PC_IF_2.25MHz</th>\n",
       "      <th>SE_IF_2.25MHz</th>\n",
       "      <th>SE_%_IF_2.25MHz</th>\n",
       "      <th>PC_IF_3.5MHz</th>\n",
       "      <th>SE_IF_3.5MHz</th>\n",
       "      <th>SE_%_IF_3.5MHz</th>\n",
       "      <th>PC_BS</th>\n",
       "    </tr>\n",
       "    <tr>\n",
       "      <th>type_cw</th>\n",
       "      <th></th>\n",
       "      <th></th>\n",
       "      <th></th>\n",
       "      <th></th>\n",
       "      <th></th>\n",
       "      <th></th>\n",
       "      <th></th>\n",
       "      <th></th>\n",
       "      <th></th>\n",
       "      <th></th>\n",
       "      <th></th>\n",
       "      <th></th>\n",
       "      <th></th>\n",
       "      <th></th>\n",
       "    </tr>\n",
       "  </thead>\n",
       "  <tbody>\n",
       "    <tr>\n",
       "      <th>304-80</th>\n",
       "      <td>0.221430</td>\n",
       "      <td>0.877665</td>\n",
       "      <td>0.664721</td>\n",
       "      <td>0.511953</td>\n",
       "      <td>0.735784</td>\n",
       "      <td>0.218530</td>\n",
       "      <td>0.636290</td>\n",
       "      <td>4.573336e-01</td>\n",
       "      <td>0.942504</td>\n",
       "      <td>0.591307</td>\n",
       "      <td>0.329261</td>\n",
       "      <td>0.719427</td>\n",
       "      <td>0.394150</td>\n",
       "      <td>0.533928</td>\n",
       "    </tr>\n",
       "    <tr>\n",
       "      <th>304-40</th>\n",
       "      <td>0.530986</td>\n",
       "      <td>0.192443</td>\n",
       "      <td>0.253099</td>\n",
       "      <td>0.317626</td>\n",
       "      <td>0.565531</td>\n",
       "      <td>0.064603</td>\n",
       "      <td>0.168295</td>\n",
       "      <td>2.296855e-01</td>\n",
       "      <td>0.733799</td>\n",
       "      <td>0.522271</td>\n",
       "      <td>1.000000</td>\n",
       "      <td>0.325521</td>\n",
       "      <td>0.697623</td>\n",
       "      <td>0.036378</td>\n",
       "    </tr>\n",
       "    <tr>\n",
       "      <th>304-0</th>\n",
       "      <td>0.926377</td>\n",
       "      <td>0.143901</td>\n",
       "      <td>0.073806</td>\n",
       "      <td>0.066312</td>\n",
       "      <td>0.258945</td>\n",
       "      <td>0.040930</td>\n",
       "      <td>0.880349</td>\n",
       "      <td>6.723999e-12</td>\n",
       "      <td>0.391523</td>\n",
       "      <td>0.577668</td>\n",
       "      <td>0.113741</td>\n",
       "      <td>0.084591</td>\n",
       "      <td>0.126789</td>\n",
       "      <td>0.856550</td>\n",
       "    </tr>\n",
       "    <tr>\n",
       "      <th>304-0</th>\n",
       "      <td>0.749608</td>\n",
       "      <td>0.009808</td>\n",
       "      <td>0.028176</td>\n",
       "      <td>0.102934</td>\n",
       "      <td>0.221063</td>\n",
       "      <td>0.009143</td>\n",
       "      <td>0.861057</td>\n",
       "      <td>8.968567e-12</td>\n",
       "      <td>0.473726</td>\n",
       "      <td>0.494691</td>\n",
       "      <td>0.180210</td>\n",
       "      <td>0.072446</td>\n",
       "      <td>0.116947</td>\n",
       "      <td>0.475339</td>\n",
       "    </tr>\n",
       "    <tr>\n",
       "      <th>304-0</th>\n",
       "      <td>0.779405</td>\n",
       "      <td>0.000000</td>\n",
       "      <td>0.003801</td>\n",
       "      <td>0.000000</td>\n",
       "      <td>0.027859</td>\n",
       "      <td>0.021777</td>\n",
       "      <td>0.784682</td>\n",
       "      <td>8.955031e-12</td>\n",
       "      <td>0.616785</td>\n",
       "      <td>0.463347</td>\n",
       "      <td>0.093408</td>\n",
       "      <td>0.076841</td>\n",
       "      <td>0.077298</td>\n",
       "      <td>0.256219</td>\n",
       "    </tr>\n",
       "    <tr>\n",
       "      <th>...</th>\n",
       "      <td>...</td>\n",
       "      <td>...</td>\n",
       "      <td>...</td>\n",
       "      <td>...</td>\n",
       "      <td>...</td>\n",
       "      <td>...</td>\n",
       "      <td>...</td>\n",
       "      <td>...</td>\n",
       "      <td>...</td>\n",
       "      <td>...</td>\n",
       "      <td>...</td>\n",
       "      <td>...</td>\n",
       "      <td>...</td>\n",
       "      <td>...</td>\n",
       "    </tr>\n",
       "    <tr>\n",
       "      <th>304-60</th>\n",
       "      <td>0.382411</td>\n",
       "      <td>0.339302</td>\n",
       "      <td>0.379221</td>\n",
       "      <td>0.359748</td>\n",
       "      <td>0.507718</td>\n",
       "      <td>0.071253</td>\n",
       "      <td>0.910759</td>\n",
       "      <td>4.642886e-01</td>\n",
       "      <td>0.145188</td>\n",
       "      <td>0.079737</td>\n",
       "      <td>0.342409</td>\n",
       "      <td>0.374903</td>\n",
       "      <td>0.224938</td>\n",
       "      <td>0.122599</td>\n",
       "    </tr>\n",
       "    <tr>\n",
       "      <th>304-20</th>\n",
       "      <td>0.382623</td>\n",
       "      <td>0.117689</td>\n",
       "      <td>0.151189</td>\n",
       "      <td>0.074030</td>\n",
       "      <td>0.512775</td>\n",
       "      <td>0.256366</td>\n",
       "      <td>0.286261</td>\n",
       "      <td>4.285278e-01</td>\n",
       "      <td>0.675887</td>\n",
       "      <td>0.291390</td>\n",
       "      <td>0.228922</td>\n",
       "      <td>0.148118</td>\n",
       "      <td>0.089989</td>\n",
       "      <td>0.136851</td>\n",
       "    </tr>\n",
       "    <tr>\n",
       "      <th>304-0</th>\n",
       "      <td>0.670887</td>\n",
       "      <td>0.074533</td>\n",
       "      <td>0.005178</td>\n",
       "      <td>0.047065</td>\n",
       "      <td>0.128476</td>\n",
       "      <td>0.027230</td>\n",
       "      <td>0.887840</td>\n",
       "      <td>1.001020e-08</td>\n",
       "      <td>0.560299</td>\n",
       "      <td>0.647469</td>\n",
       "      <td>0.101363</td>\n",
       "      <td>0.115119</td>\n",
       "      <td>0.110019</td>\n",
       "      <td>0.701062</td>\n",
       "    </tr>\n",
       "    <tr>\n",
       "      <th>304-60</th>\n",
       "      <td>0.445389</td>\n",
       "      <td>0.147440</td>\n",
       "      <td>0.392818</td>\n",
       "      <td>0.171805</td>\n",
       "      <td>0.487747</td>\n",
       "      <td>0.094792</td>\n",
       "      <td>0.686332</td>\n",
       "      <td>2.911143e-01</td>\n",
       "      <td>0.370453</td>\n",
       "      <td>0.186309</td>\n",
       "      <td>0.344053</td>\n",
       "      <td>0.413576</td>\n",
       "      <td>0.205140</td>\n",
       "      <td>0.688017</td>\n",
       "    </tr>\n",
       "    <tr>\n",
       "      <th>304-80</th>\n",
       "      <td>0.342711</td>\n",
       "      <td>0.718889</td>\n",
       "      <td>0.698707</td>\n",
       "      <td>0.644985</td>\n",
       "      <td>0.880459</td>\n",
       "      <td>0.220591</td>\n",
       "      <td>0.653800</td>\n",
       "      <td>4.986693e-01</td>\n",
       "      <td>0.771665</td>\n",
       "      <td>0.572549</td>\n",
       "      <td>0.302733</td>\n",
       "      <td>0.514172</td>\n",
       "      <td>0.330470</td>\n",
       "      <td>0.722890</td>\n",
       "    </tr>\n",
       "  </tbody>\n",
       "</table>\n",
       "<p>267 rows × 14 columns</p>\n",
       "</div>"
      ],
      "text/plain": [
       "             KJIC    MS_Avg  MS_neg_error  MS_pos_error  TEP_average  \\\n",
       "type_cw                                                                \n",
       "304-80   0.221430  0.877665      0.664721      0.511953     0.735784   \n",
       "304-40   0.530986  0.192443      0.253099      0.317626     0.565531   \n",
       "304-0    0.926377  0.143901      0.073806      0.066312     0.258945   \n",
       "304-0    0.749608  0.009808      0.028176      0.102934     0.221063   \n",
       "304-0    0.779405  0.000000      0.003801      0.000000     0.027859   \n",
       "...           ...       ...           ...           ...          ...   \n",
       "304-60   0.382411  0.339302      0.379221      0.359748     0.507718   \n",
       "304-20   0.382623  0.117689      0.151189      0.074030     0.512775   \n",
       "304-0    0.670887  0.074533      0.005178      0.047065     0.128476   \n",
       "304-60   0.445389  0.147440      0.392818      0.171805     0.487747   \n",
       "304-80   0.342711  0.718889      0.698707      0.644985     0.880459   \n",
       "\n",
       "         TEP_error  Beta_avg  PC_IF_2.25MHz  SE_IF_2.25MHz  SE_%_IF_2.25MHz  \\\n",
       "type_cw                                                                       \n",
       "304-80    0.218530  0.636290   4.573336e-01       0.942504         0.591307   \n",
       "304-40    0.064603  0.168295   2.296855e-01       0.733799         0.522271   \n",
       "304-0     0.040930  0.880349   6.723999e-12       0.391523         0.577668   \n",
       "304-0     0.009143  0.861057   8.968567e-12       0.473726         0.494691   \n",
       "304-0     0.021777  0.784682   8.955031e-12       0.616785         0.463347   \n",
       "...            ...       ...            ...            ...              ...   \n",
       "304-60    0.071253  0.910759   4.642886e-01       0.145188         0.079737   \n",
       "304-20    0.256366  0.286261   4.285278e-01       0.675887         0.291390   \n",
       "304-0     0.027230  0.887840   1.001020e-08       0.560299         0.647469   \n",
       "304-60    0.094792  0.686332   2.911143e-01       0.370453         0.186309   \n",
       "304-80    0.220591  0.653800   4.986693e-01       0.771665         0.572549   \n",
       "\n",
       "         PC_IF_3.5MHz  SE_IF_3.5MHz  SE_%_IF_3.5MHz     PC_BS  \n",
       "type_cw                                                        \n",
       "304-80       0.329261      0.719427        0.394150  0.533928  \n",
       "304-40       1.000000      0.325521        0.697623  0.036378  \n",
       "304-0        0.113741      0.084591        0.126789  0.856550  \n",
       "304-0        0.180210      0.072446        0.116947  0.475339  \n",
       "304-0        0.093408      0.076841        0.077298  0.256219  \n",
       "...               ...           ...             ...       ...  \n",
       "304-60       0.342409      0.374903        0.224938  0.122599  \n",
       "304-20       0.228922      0.148118        0.089989  0.136851  \n",
       "304-0        0.101363      0.115119        0.110019  0.701062  \n",
       "304-60       0.344053      0.413576        0.205140  0.688017  \n",
       "304-80       0.302733      0.514172        0.330470  0.722890  \n",
       "\n",
       "[267 rows x 14 columns]"
      ]
     },
     "execution_count": 69,
     "metadata": {},
     "output_type": "execute_result"
    }
   ],
   "source": [
    "merged.KJIC = np.log(merged.KJIC)\n",
    "scaled_df = mc.scale_general(merged, MinMaxScaler())\n",
    "scaled_df[0]"
   ]
  },
  {
   "cell_type": "code",
   "execution_count": 70,
   "metadata": {},
   "outputs": [
    {
     "data": {
      "text/plain": [
       "<matplotlib.axes._subplots.AxesSubplot at 0x7f6bf5ed3450>"
      ]
     },
     "execution_count": 70,
     "metadata": {},
     "output_type": "execute_result"
    },
    {
     "data": {
      "image/png": "[encoded data removed]",
      "text/plain": [
       "<Figure size 432x288 with 2 Axes>"
      ]
     },
     "metadata": {
      "needs_background": "light"
     },
     "output_type": "display_data"
    }
   ],
   "source": [
    "sns.heatmap(merged.corr())"
   ]
  },
  {
   "cell_type": "code",
   "execution_count": 71,
   "metadata": {},
   "outputs": [],
   "source": [
    "# Creating Predictor variable 'X' and Target Variable 'y'\n",
    "\n",
    "# X contains all the features except for the target value Price\n",
    "X = scaled_df[0].drop('KJIC', axis = 1)\n",
    "y = scaled_df[0]['KJIC']"
   ]
  },
  {
   "cell_type": "code",
   "execution_count": 72,
   "metadata": {},
   "outputs": [
    {
     "data": {
      "text/html": [
       "<div>\n",
       "<style scoped>\n",
       "    .dataframe tbody tr th:only-of-type {\n",
       "        vertical-align: middle;\n",
       "    }\n",
       "\n",
       "    .dataframe tbody tr th {\n",
       "        vertical-align: top;\n",
       "    }\n",
       "\n",
       "    .dataframe thead th {\n",
       "        text-align: right;\n",
       "    }\n",
       "</style>\n",
       "<table border=\"1\" class=\"dataframe\">\n",
       "  <thead>\n",
       "    <tr style=\"text-align: right;\">\n",
       "      <th></th>\n",
       "      <th>MS_Avg</th>\n",
       "      <th>MS_neg_error</th>\n",
       "      <th>MS_pos_error</th>\n",
       "      <th>TEP_average</th>\n",
       "      <th>TEP_error</th>\n",
       "      <th>Beta_avg</th>\n",
       "      <th>PC_IF_2.25MHz</th>\n",
       "      <th>SE_IF_2.25MHz</th>\n",
       "      <th>SE_%_IF_2.25MHz</th>\n",
       "      <th>PC_IF_3.5MHz</th>\n",
       "      <th>SE_IF_3.5MHz</th>\n",
       "      <th>SE_%_IF_3.5MHz</th>\n",
       "      <th>PC_BS</th>\n",
       "    </tr>\n",
       "    <tr>\n",
       "      <th>type_cw</th>\n",
       "      <th></th>\n",
       "      <th></th>\n",
       "      <th></th>\n",
       "      <th></th>\n",
       "      <th></th>\n",
       "      <th></th>\n",
       "      <th></th>\n",
       "      <th></th>\n",
       "      <th></th>\n",
       "      <th></th>\n",
       "      <th></th>\n",
       "      <th></th>\n",
       "      <th></th>\n",
       "    </tr>\n",
       "  </thead>\n",
       "  <tbody>\n",
       "    <tr>\n",
       "      <th>304-80</th>\n",
       "      <td>0.877665</td>\n",
       "      <td>0.664721</td>\n",
       "      <td>0.511953</td>\n",
       "      <td>0.735784</td>\n",
       "      <td>0.218530</td>\n",
       "      <td>0.636290</td>\n",
       "      <td>4.573336e-01</td>\n",
       "      <td>0.942504</td>\n",
       "      <td>0.591307</td>\n",
       "      <td>0.329261</td>\n",
       "      <td>0.719427</td>\n",
       "      <td>0.394150</td>\n",
       "      <td>0.533928</td>\n",
       "    </tr>\n",
       "    <tr>\n",
       "      <th>304-40</th>\n",
       "      <td>0.192443</td>\n",
       "      <td>0.253099</td>\n",
       "      <td>0.317626</td>\n",
       "      <td>0.565531</td>\n",
       "      <td>0.064603</td>\n",
       "      <td>0.168295</td>\n",
       "      <td>2.296855e-01</td>\n",
       "      <td>0.733799</td>\n",
       "      <td>0.522271</td>\n",
       "      <td>1.000000</td>\n",
       "      <td>0.325521</td>\n",
       "      <td>0.697623</td>\n",
       "      <td>0.036378</td>\n",
       "    </tr>\n",
       "    <tr>\n",
       "      <th>304-0</th>\n",
       "      <td>0.143901</td>\n",
       "      <td>0.073806</td>\n",
       "      <td>0.066312</td>\n",
       "      <td>0.258945</td>\n",
       "      <td>0.040930</td>\n",
       "      <td>0.880349</td>\n",
       "      <td>6.723999e-12</td>\n",
       "      <td>0.391523</td>\n",
       "      <td>0.577668</td>\n",
       "      <td>0.113741</td>\n",
       "      <td>0.084591</td>\n",
       "      <td>0.126789</td>\n",
       "      <td>0.856550</td>\n",
       "    </tr>\n",
       "    <tr>\n",
       "      <th>304-0</th>\n",
       "      <td>0.009808</td>\n",
       "      <td>0.028176</td>\n",
       "      <td>0.102934</td>\n",
       "      <td>0.221063</td>\n",
       "      <td>0.009143</td>\n",
       "      <td>0.861057</td>\n",
       "      <td>8.968567e-12</td>\n",
       "      <td>0.473726</td>\n",
       "      <td>0.494691</td>\n",
       "      <td>0.180210</td>\n",
       "      <td>0.072446</td>\n",
       "      <td>0.116947</td>\n",
       "      <td>0.475339</td>\n",
       "    </tr>\n",
       "    <tr>\n",
       "      <th>304-0</th>\n",
       "      <td>0.000000</td>\n",
       "      <td>0.003801</td>\n",
       "      <td>0.000000</td>\n",
       "      <td>0.027859</td>\n",
       "      <td>0.021777</td>\n",
       "      <td>0.784682</td>\n",
       "      <td>8.955031e-12</td>\n",
       "      <td>0.616785</td>\n",
       "      <td>0.463347</td>\n",
       "      <td>0.093408</td>\n",
       "      <td>0.076841</td>\n",
       "      <td>0.077298</td>\n",
       "      <td>0.256219</td>\n",
       "    </tr>\n",
       "    <tr>\n",
       "      <th>...</th>\n",
       "      <td>...</td>\n",
       "      <td>...</td>\n",
       "      <td>...</td>\n",
       "      <td>...</td>\n",
       "      <td>...</td>\n",
       "      <td>...</td>\n",
       "      <td>...</td>\n",
       "      <td>...</td>\n",
       "      <td>...</td>\n",
       "      <td>...</td>\n",
       "      <td>...</td>\n",
       "      <td>...</td>\n",
       "      <td>...</td>\n",
       "    </tr>\n",
       "    <tr>\n",
       "      <th>304-60</th>\n",
       "      <td>0.339302</td>\n",
       "      <td>0.379221</td>\n",
       "      <td>0.359748</td>\n",
       "      <td>0.507718</td>\n",
       "      <td>0.071253</td>\n",
       "      <td>0.910759</td>\n",
       "      <td>4.642886e-01</td>\n",
       "      <td>0.145188</td>\n",
       "      <td>0.079737</td>\n",
       "      <td>0.342409</td>\n",
       "      <td>0.374903</td>\n",
       "      <td>0.224938</td>\n",
       "      <td>0.122599</td>\n",
       "    </tr>\n",
       "    <tr>\n",
       "      <th>304-20</th>\n",
       "      <td>0.117689</td>\n",
       "      <td>0.151189</td>\n",
       "      <td>0.074030</td>\n",
       "      <td>0.512775</td>\n",
       "      <td>0.256366</td>\n",
       "      <td>0.286261</td>\n",
       "      <td>4.285278e-01</td>\n",
       "      <td>0.675887</td>\n",
       "      <td>0.291390</td>\n",
       "      <td>0.228922</td>\n",
       "      <td>0.148118</td>\n",
       "      <td>0.089989</td>\n",
       "      <td>0.136851</td>\n",
       "    </tr>\n",
       "    <tr>\n",
       "      <th>304-0</th>\n",
       "      <td>0.074533</td>\n",
       "      <td>0.005178</td>\n",
       "      <td>0.047065</td>\n",
       "      <td>0.128476</td>\n",
       "      <td>0.027230</td>\n",
       "      <td>0.887840</td>\n",
       "      <td>1.001020e-08</td>\n",
       "      <td>0.560299</td>\n",
       "      <td>0.647469</td>\n",
       "      <td>0.101363</td>\n",
       "      <td>0.115119</td>\n",
       "      <td>0.110019</td>\n",
       "      <td>0.701062</td>\n",
       "    </tr>\n",
       "    <tr>\n",
       "      <th>304-60</th>\n",
       "      <td>0.147440</td>\n",
       "      <td>0.392818</td>\n",
       "      <td>0.171805</td>\n",
       "      <td>0.487747</td>\n",
       "      <td>0.094792</td>\n",
       "      <td>0.686332</td>\n",
       "      <td>2.911143e-01</td>\n",
       "      <td>0.370453</td>\n",
       "      <td>0.186309</td>\n",
       "      <td>0.344053</td>\n",
       "      <td>0.413576</td>\n",
       "      <td>0.205140</td>\n",
       "      <td>0.688017</td>\n",
       "    </tr>\n",
       "    <tr>\n",
       "      <th>304-80</th>\n",
       "      <td>0.718889</td>\n",
       "      <td>0.698707</td>\n",
       "      <td>0.644985</td>\n",
       "      <td>0.880459</td>\n",
       "      <td>0.220591</td>\n",
       "      <td>0.653800</td>\n",
       "      <td>4.986693e-01</td>\n",
       "      <td>0.771665</td>\n",
       "      <td>0.572549</td>\n",
       "      <td>0.302733</td>\n",
       "      <td>0.514172</td>\n",
       "      <td>0.330470</td>\n",
       "      <td>0.722890</td>\n",
       "    </tr>\n",
       "  </tbody>\n",
       "</table>\n",
       "<p>267 rows × 13 columns</p>\n",
       "</div>"
      ],
      "text/plain": [
       "           MS_Avg  MS_neg_error  MS_pos_error  TEP_average  TEP_error  \\\n",
       "type_cw                                                                 \n",
       "304-80   0.877665      0.664721      0.511953     0.735784   0.218530   \n",
       "304-40   0.192443      0.253099      0.317626     0.565531   0.064603   \n",
       "304-0    0.143901      0.073806      0.066312     0.258945   0.040930   \n",
       "304-0    0.009808      0.028176      0.102934     0.221063   0.009143   \n",
       "304-0    0.000000      0.003801      0.000000     0.027859   0.021777   \n",
       "...           ...           ...           ...          ...        ...   \n",
       "304-60   0.339302      0.379221      0.359748     0.507718   0.071253   \n",
       "304-20   0.117689      0.151189      0.074030     0.512775   0.256366   \n",
       "304-0    0.074533      0.005178      0.047065     0.128476   0.027230   \n",
       "304-60   0.147440      0.392818      0.171805     0.487747   0.094792   \n",
       "304-80   0.718889      0.698707      0.644985     0.880459   0.220591   \n",
       "\n",
       "         Beta_avg  PC_IF_2.25MHz  SE_IF_2.25MHz  SE_%_IF_2.25MHz  \\\n",
       "type_cw                                                            \n",
       "304-80   0.636290   4.573336e-01       0.942504         0.591307   \n",
       "304-40   0.168295   2.296855e-01       0.733799         0.522271   \n",
       "304-0    0.880349   6.723999e-12       0.391523         0.577668   \n",
       "304-0    0.861057   8.968567e-12       0.473726         0.494691   \n",
       "304-0    0.784682   8.955031e-12       0.616785         0.463347   \n",
       "...           ...            ...            ...              ...   \n",
       "304-60   0.910759   4.642886e-01       0.145188         0.079737   \n",
       "304-20   0.286261   4.285278e-01       0.675887         0.291390   \n",
       "304-0    0.887840   1.001020e-08       0.560299         0.647469   \n",
       "304-60   0.686332   2.911143e-01       0.370453         0.186309   \n",
       "304-80   0.653800   4.986693e-01       0.771665         0.572549   \n",
       "\n",
       "         PC_IF_3.5MHz  SE_IF_3.5MHz  SE_%_IF_3.5MHz     PC_BS  \n",
       "type_cw                                                        \n",
       "304-80       0.329261      0.719427        0.394150  0.533928  \n",
       "304-40       1.000000      0.325521        0.697623  0.036378  \n",
       "304-0        0.113741      0.084591        0.126789  0.856550  \n",
       "304-0        0.180210      0.072446        0.116947  0.475339  \n",
       "304-0        0.093408      0.076841        0.077298  0.256219  \n",
       "...               ...           ...             ...       ...  \n",
       "304-60       0.342409      0.374903        0.224938  0.122599  \n",
       "304-20       0.228922      0.148118        0.089989  0.136851  \n",
       "304-0        0.101363      0.115119        0.110019  0.701062  \n",
       "304-60       0.344053      0.413576        0.205140  0.688017  \n",
       "304-80       0.302733      0.514172        0.330470  0.722890  \n",
       "\n",
       "[267 rows x 13 columns]"
      ]
     },
     "execution_count": 72,
     "metadata": {},
     "output_type": "execute_result"
    }
   ],
   "source": [
    "X"
   ]
  },
  {
   "cell_type": "code",
   "execution_count": 73,
   "metadata": {},
   "outputs": [],
   "source": [
    "from sklearn.model_selection import train_test_split"
   ]
  },
  {
   "cell_type": "code",
   "execution_count": 74,
   "metadata": {},
   "outputs": [
    {
     "name": "stdout",
     "output_type": "stream",
     "text": [
      "(186,)\n",
      "(81, 13)\n"
     ]
    }
   ],
   "source": [
    "X_train, X_test, y_train, y_test = train_test_split(X,y, test_size=0.3, random_state=50)\n",
    "\n",
    "# X_train contains 70% of total dataset\n",
    "print(y_train.shape)\n",
    "# X_test contains 30% of total dataset\n",
    "print(X_test.shape)"
   ]
  },
  {
   "cell_type": "markdown",
   "metadata": {},
   "source": [
    "## Linear Regression"
   ]
  },
  {
   "cell_type": "code",
   "execution_count": 75,
   "metadata": {},
   "outputs": [],
   "source": [
    "from sklearn.linear_model import LinearRegression"
   ]
  },
  {
   "cell_type": "code",
   "execution_count": 76,
   "metadata": {},
   "outputs": [],
   "source": [
    "lr = LinearRegression()"
   ]
  },
  {
   "cell_type": "code",
   "execution_count": 77,
   "metadata": {},
   "outputs": [
    {
     "data": {
      "text/plain": [
       "LinearRegression(copy_X=True, fit_intercept=True, n_jobs=None, normalize=False)"
      ]
     },
     "execution_count": 77,
     "metadata": {},
     "output_type": "execute_result"
    }
   ],
   "source": [
    "#Train/fit the model to training data\n",
    "lr.fit(X_train,y_train)"
   ]
  },
  {
   "cell_type": "code",
   "execution_count": 78,
   "metadata": {},
   "outputs": [
    {
     "name": "stdout",
     "output_type": "stream",
     "text": [
      "0.7734462108447486\n"
     ]
    },
    {
     "data": {
      "text/html": [
       "<div>\n",
       "<style scoped>\n",
       "    .dataframe tbody tr th:only-of-type {\n",
       "        vertical-align: middle;\n",
       "    }\n",
       "\n",
       "    .dataframe tbody tr th {\n",
       "        vertical-align: top;\n",
       "    }\n",
       "\n",
       "    .dataframe thead th {\n",
       "        text-align: right;\n",
       "    }\n",
       "</style>\n",
       "<table border=\"1\" class=\"dataframe\">\n",
       "  <thead>\n",
       "    <tr style=\"text-align: right;\">\n",
       "      <th></th>\n",
       "      <th>Coefficient</th>\n",
       "    </tr>\n",
       "  </thead>\n",
       "  <tbody>\n",
       "    <tr>\n",
       "      <th>MS_Avg</th>\n",
       "      <td>-0.062887</td>\n",
       "    </tr>\n",
       "    <tr>\n",
       "      <th>MS_neg_error</th>\n",
       "      <td>-0.032068</td>\n",
       "    </tr>\n",
       "    <tr>\n",
       "      <th>MS_pos_error</th>\n",
       "      <td>-0.071501</td>\n",
       "    </tr>\n",
       "    <tr>\n",
       "      <th>TEP_average</th>\n",
       "      <td>-0.392508</td>\n",
       "    </tr>\n",
       "    <tr>\n",
       "      <th>TEP_error</th>\n",
       "      <td>0.163886</td>\n",
       "    </tr>\n",
       "    <tr>\n",
       "      <th>Beta_avg</th>\n",
       "      <td>0.142345</td>\n",
       "    </tr>\n",
       "    <tr>\n",
       "      <th>PC_IF_2.25MHz</th>\n",
       "      <td>-0.095582</td>\n",
       "    </tr>\n",
       "    <tr>\n",
       "      <th>SE_IF_2.25MHz</th>\n",
       "      <td>-0.124591</td>\n",
       "    </tr>\n",
       "    <tr>\n",
       "      <th>SE_%_IF_2.25MHz</th>\n",
       "      <td>0.178084</td>\n",
       "    </tr>\n",
       "    <tr>\n",
       "      <th>PC_IF_3.5MHz</th>\n",
       "      <td>-0.374446</td>\n",
       "    </tr>\n",
       "    <tr>\n",
       "      <th>SE_IF_3.5MHz</th>\n",
       "      <td>-0.080536</td>\n",
       "    </tr>\n",
       "    <tr>\n",
       "      <th>SE_%_IF_3.5MHz</th>\n",
       "      <td>0.044928</td>\n",
       "    </tr>\n",
       "    <tr>\n",
       "      <th>PC_BS</th>\n",
       "      <td>-0.060774</td>\n",
       "    </tr>\n",
       "  </tbody>\n",
       "</table>\n",
       "</div>"
      ],
      "text/plain": [
       "                 Coefficient\n",
       "MS_Avg             -0.062887\n",
       "MS_neg_error       -0.032068\n",
       "MS_pos_error       -0.071501\n",
       "TEP_average        -0.392508\n",
       "TEP_error           0.163886\n",
       "Beta_avg            0.142345\n",
       "PC_IF_2.25MHz      -0.095582\n",
       "SE_IF_2.25MHz      -0.124591\n",
       "SE_%_IF_2.25MHz     0.178084\n",
       "PC_IF_3.5MHz       -0.374446\n",
       "SE_IF_3.5MHz       -0.080536\n",
       "SE_%_IF_3.5MHz      0.044928\n",
       "PC_BS              -0.060774"
      ]
     },
     "execution_count": 78,
     "metadata": {},
     "output_type": "execute_result"
    }
   ],
   "source": [
    "# print the intercept\n",
    "print(lr.intercept_)\n",
    "\n",
    "#Coefficients\n",
    "coeff_df = pd.DataFrame(lr.coef_,X.columns,columns=['Coefficient'])\n",
    "coeff_df"
   ]
  },
  {
   "cell_type": "code",
   "execution_count": 79,
   "metadata": {},
   "outputs": [],
   "source": [
    "pred = lr.predict(X_test)"
   ]
  },
  {
   "cell_type": "code",
   "execution_count": 80,
   "metadata": {},
   "outputs": [
    {
     "data": {
      "text/plain": [
       "Text(0, 0.5, 'Predicted Fracture Toughness')"
      ]
     },
     "execution_count": 80,
     "metadata": {},
     "output_type": "execute_result"
    },
    {
     "data": {
      "image/png": "[encoded data removed]",
      "text/plain": [
       "<Figure size 432x288 with 1 Axes>"
      ]
     },
     "metadata": {
      "needs_background": "light"
     },
     "output_type": "display_data"
    }
   ],
   "source": [
    "plt.scatter(y_test,pred)\n",
    "plt.xlabel(\"Fracture Toughness\")\n",
    "plt.ylabel(\"Predicted Fracture Toughness\")"
   ]
  },
  {
   "cell_type": "code",
   "execution_count": 81,
   "metadata": {},
   "outputs": [],
   "source": [
    "from sklearn import metrics"
   ]
  },
  {
   "cell_type": "code",
   "execution_count": 82,
   "metadata": {},
   "outputs": [
    {
     "name": "stdout",
     "output_type": "stream",
     "text": [
      "MAE: 0.084410727231875\n",
      "MSE: 0.01172095409668612\n",
      "RMSE: 0.10826335528093575\n"
     ]
    }
   ],
   "source": [
    "print('MAE:', metrics.mean_absolute_error(y_test, pred))\n",
    "print('MSE:', metrics.mean_squared_error(y_test, pred))\n",
    "print('RMSE:', np.sqrt(metrics.mean_squared_error(y_test, pred)))"
   ]
  },
  {
   "cell_type": "markdown",
   "metadata": {},
   "source": [
    "## Lasso"
   ]
  },
  {
   "cell_type": "code",
   "execution_count": 83,
   "metadata": {},
   "outputs": [
    {
     "data": {
      "text/plain": [
       "Lasso(alpha=0.5, copy_X=True, fit_intercept=True, max_iter=1000,\n",
       "      normalize=False, positive=False, precompute=False, random_state=None,\n",
       "      selection='cyclic', tol=0.0001, warm_start=False)"
      ]
     },
     "execution_count": 83,
     "metadata": {},
     "output_type": "execute_result"
    }
   ],
   "source": [
    "from sklearn.linear_model import Lasso\n",
    "\n",
    "reg = Lasso(alpha=0.5)\n",
    "reg.fit(X_train, y_train)"
   ]
  },
  {
   "cell_type": "code",
   "execution_count": 84,
   "metadata": {},
   "outputs": [
    {
     "name": "stdout",
     "output_type": "stream",
     "text": [
      "Lasso Regression: R^2 score on training set 0.0\n",
      "Lasso Regression: R^2 score on test set -3.7575413424249193\n"
     ]
    }
   ],
   "source": [
    "print('Lasso Regression: R^2 score on training set', reg.score(X_train, y_train)*100)\n",
    "print('Lasso Regression: R^2 score on test set', reg.score(X_test, y_test)*100)"
   ]
  },
  {
   "cell_type": "code",
   "execution_count": 85,
   "metadata": {},
   "outputs": [],
   "source": [
    "# Lasso with different lambdas\n",
    "lambdas = (0.001, 0.01, 0.1, 0.5, 1, 2, 10)\n",
    "l_num = 7\n",
    "pred_num = X.shape[1]\n",
    "\n",
    "# prepare data for enumerate\n",
    "coeff_a = np.zeros((l_num, pred_num))\n",
    "train_r_squared = np.zeros(l_num)\n",
    "test_r_squared = np.zeros(l_num)"
   ]
  },
  {
   "cell_type": "code",
   "execution_count": 86,
   "metadata": {},
   "outputs": [],
   "source": [
    "# enumerate through lambdas with index and i\n",
    "for ind, i in enumerate(lambdas):    \n",
    "    reg = Lasso(alpha = i)\n",
    "    reg.fit(X_train, y_train)\n",
    "       \n",
    "    coeff_a[ind,:] = reg.coef_\n",
    "    train_r_squared[ind] = reg.score(X_train, y_train)\n",
    "    test_r_squared[ind] = reg.score(X_test, y_test)"
   ]
  },
  {
   "cell_type": "code",
   "execution_count": 87,
   "metadata": {},
   "outputs": [
    {
     "data": {
      "image/png": "[encoded data removed]",
      "text/plain": [
       "<Figure size 1296x576 with 1 Axes>"
      ]
     },
     "metadata": {
      "needs_background": "light"
     },
     "output_type": "display_data"
    }
   ],
   "source": [
    "# Plotting\n",
    "plt.figure(figsize=(18, 8))\n",
    "plt.plot(train_r_squared, 'bo-', label=r'$R^2$ Training set', color=\"darkblue\", alpha=0.6, linewidth=3)\n",
    "plt.plot(test_r_squared, 'bo-', label=r'$R^2$ Test set', color=\"darkred\", alpha=0.6, linewidth=3)\n",
    "plt.xlabel('Lamda index'); plt.ylabel(r'$R^2$')\n",
    "plt.xlim(0, 6)\n",
    "plt.title(r'Evaluate lasso regression with lamdas: 0 = 0.001, 1= 0.01, 2 = 0.1, 3 = 0.5, 4= 1, 5= 2, 6 = 10')\n",
    "plt.legend(loc='best')\n",
    "plt.grid()"
   ]
  },
  {
   "cell_type": "code",
   "execution_count": 88,
   "metadata": {},
   "outputs": [
    {
     "data": {
      "text/plain": [
       "R_squared    80.237227\n",
       "lambda        0.001000\n",
       "Name: 0, dtype: float64"
      ]
     },
     "execution_count": 88,
     "metadata": {},
     "output_type": "execute_result"
    }
   ],
   "source": [
    "# Identifying the best lambda\n",
    "df_lam = pd.DataFrame(test_r_squared*100, columns=['R_squared'])\n",
    "df_lam['lambda'] = (lambdas)\n",
    "# returns the index of the row where column has maximum value.\n",
    "df_lam.loc[df_lam['R_squared'].idxmax()]"
   ]
  },
  {
   "cell_type": "code",
   "execution_count": 89,
   "metadata": {},
   "outputs": [
    {
     "data": {
      "text/plain": [
       "array([-8.53517947e-02, -8.11571354e-03, -3.89277689e-02, -5.17348667e-01,\n",
       "        5.11221437e-02,  9.30582916e-02, -1.46038086e-01, -2.69484302e-05,\n",
       "        6.86814812e-02, -0.00000000e+00, -9.31459556e-02, -0.00000000e+00,\n",
       "       -3.59814111e-03])"
      ]
     },
     "execution_count": 89,
     "metadata": {},
     "output_type": "execute_result"
    }
   ],
   "source": [
    "# Coefficients of best model\n",
    "reg_best = Lasso(alpha = 0.001)\n",
    "reg_best.fit(X_train, y_train)\n",
    "reg_best.coef_"
   ]
  },
  {
   "cell_type": "code",
   "execution_count": 90,
   "metadata": {},
   "outputs": [
    {
     "data": {
      "text/plain": [
       "0.010023477752478839"
      ]
     },
     "execution_count": 90,
     "metadata": {},
     "output_type": "execute_result"
    }
   ],
   "source": [
    "from sklearn.metrics import mean_squared_error\n",
    "mean_squared_error(y_test, reg_best.predict(X_test))"
   ]
  },
  {
   "cell_type": "code",
   "execution_count": 91,
   "metadata": {},
   "outputs": [],
   "source": [
    "# Cross Validation\n",
    "l_min = 0.05\n",
    "l_max = 0.2\n",
    "l_num = 20\n",
    "lambdas = np.linspace(l_min,l_max, l_num)\n",
    "\n",
    "train_r_squared = np.zeros(l_num)\n",
    "test_r_squared = np.zeros(l_num)\n",
    "\n",
    "pred_num = X.shape[1]\n",
    "coeff_a = np.zeros((l_num, pred_num))"
   ]
  },
  {
   "cell_type": "code",
   "execution_count": 92,
   "metadata": {},
   "outputs": [],
   "source": [
    "from sklearn.model_selection import cross_val_score\n",
    "\n",
    "for ind, i in enumerate(lambdas):    \n",
    "    reg = Lasso(alpha = i)\n",
    "    reg.fit(X_train, y_train)\n",
    "    results = cross_val_score(reg, X, y, cv=5, scoring=\"r2\") \n",
    "\n",
    "    train_r_squared[ind] = reg.score(X_train, y_train)    \n",
    "    test_r_squared[ind] = reg.score(X_test, y_test)"
   ]
  },
  {
   "cell_type": "code",
   "execution_count": 93,
   "metadata": {},
   "outputs": [
    {
     "data": {
      "image/png": "[encoded data removed]",
      "text/plain": [
       "<Figure size 1296x576 with 1 Axes>"
      ]
     },
     "metadata": {
      "needs_background": "light"
     },
     "output_type": "display_data"
    }
   ],
   "source": [
    "# Plotting\n",
    "plt.figure(figsize=(18, 8))\n",
    "plt.plot(train_r_squared, 'bo-', label=r'$R^2$ Training set', color=\"darkblue\", alpha=0.6, linewidth=3)\n",
    "plt.plot(test_r_squared, 'bo-', label=r'$R^2$ Test set', color=\"darkred\", alpha=0.6, linewidth=3)\n",
    "plt.xlabel('Lamda value'); plt.ylabel(r'$R^2$')\n",
    "plt.xlim(0, 19)\n",
    "plt.title(r'Evaluate 5-fold cv with different lamdas')\n",
    "plt.legend(loc='best')\n",
    "plt.grid()"
   ]
  },
  {
   "cell_type": "code",
   "execution_count": 94,
   "metadata": {},
   "outputs": [
    {
     "data": {
      "text/plain": [
       "R_squared   -3.757541\n",
       "lambda       0.050000\n",
       "Name: 0, dtype: float64"
      ]
     },
     "execution_count": 94,
     "metadata": {},
     "output_type": "execute_result"
    }
   ],
   "source": [
    "# Best Model\n",
    "df_lam = pd.DataFrame(test_r_squared*100, columns=['R_squared'])\n",
    "df_lam['lambda'] = (lambdas)\n",
    "# returns the index of the row where column has maximum value.\n",
    "df_lam.loc[df_lam['R_squared'].idxmax()]"
   ]
  },
  {
   "cell_type": "code",
   "execution_count": 95,
   "metadata": {},
   "outputs": [
    {
     "data": {
      "text/plain": [
       "Lasso(alpha=0.05, copy_X=True, fit_intercept=True, max_iter=1000,\n",
       "      normalize=False, positive=False, precompute=False, random_state=None,\n",
       "      selection='cyclic', tol=0.0001, warm_start=False)"
      ]
     },
     "execution_count": 95,
     "metadata": {},
     "output_type": "execute_result"
    }
   ],
   "source": [
    "# Best Model\n",
    "reg_best = Lasso(alpha = 0.05)\n",
    "reg_best.fit(X_train, y_train)"
   ]
  },
  {
   "cell_type": "code",
   "execution_count": 96,
   "metadata": {},
   "outputs": [
    {
     "data": {
      "text/plain": [
       "0.05262477252459681"
      ]
     },
     "execution_count": 96,
     "metadata": {},
     "output_type": "execute_result"
    }
   ],
   "source": [
    "from sklearn.metrics import mean_squared_error\n",
    "\n",
    "mean_squared_error(y_test, reg_best.predict(X_test))"
   ]
  },
  {
   "cell_type": "code",
   "execution_count": 97,
   "metadata": {},
   "outputs": [
    {
     "data": {
      "text/plain": [
       "array([-0., -0., -0., -0., -0.,  0., -0., -0.,  0., -0., -0., -0., -0.])"
      ]
     },
     "execution_count": 97,
     "metadata": {},
     "output_type": "execute_result"
    }
   ],
   "source": [
    "reg_best.coef_"
   ]
  },
  {
   "cell_type": "code",
   "execution_count": 98,
   "metadata": {
    "scrolled": false
   },
   "outputs": [
    {
     "data": {
      "text/plain": [
       "Text(0, 0.5, 'Predicted Fracture Toughness')"
      ]
     },
     "execution_count": 98,
     "metadata": {},
     "output_type": "execute_result"
    },
    {
     "data": {
      "image/png": "[encoded data removed]",
      "text/plain": [
       "<Figure size 432x288 with 1 Axes>"
      ]
     },
     "metadata": {
      "needs_background": "light"
     },
     "output_type": "display_data"
    }
   ],
   "source": [
    "pred1 = reg_best.predict(X_test)\n",
    "plt.scatter(y_test,pred1)\n",
    "plt.xlabel(\"Fracture Toughness\")\n",
    "plt.ylabel(\"Predicted Fracture Toughness\")"
   ]
  },
  {
   "cell_type": "code",
   "execution_count": 99,
   "metadata": {},
   "outputs": [
    {
     "data": {
      "text/plain": [
       "array([0.47161696, 0.47161696, 0.47161696, 0.47161696, 0.47161696,\n",
       "       0.47161696, 0.47161696, 0.47161696, 0.47161696, 0.47161696,\n",
       "       0.47161696, 0.47161696, 0.47161696, 0.47161696, 0.47161696,\n",
       "       0.47161696, 0.47161696, 0.47161696, 0.47161696, 0.47161696,\n",
       "       0.47161696, 0.47161696, 0.47161696, 0.47161696, 0.47161696,\n",
       "       0.47161696, 0.47161696, 0.47161696, 0.47161696, 0.47161696,\n",
       "       0.47161696, 0.47161696, 0.47161696, 0.47161696, 0.47161696,\n",
       "       0.47161696, 0.47161696, 0.47161696, 0.47161696, 0.47161696,\n",
       "       0.47161696, 0.47161696, 0.47161696, 0.47161696, 0.47161696,\n",
       "       0.47161696, 0.47161696, 0.47161696, 0.47161696, 0.47161696,\n",
       "       0.47161696, 0.47161696, 0.47161696, 0.47161696, 0.47161696,\n",
       "       0.47161696, 0.47161696, 0.47161696, 0.47161696, 0.47161696,\n",
       "       0.47161696, 0.47161696, 0.47161696, 0.47161696, 0.47161696,\n",
       "       0.47161696, 0.47161696, 0.47161696, 0.47161696, 0.47161696,\n",
       "       0.47161696, 0.47161696, 0.47161696, 0.47161696, 0.47161696,\n",
       "       0.47161696, 0.47161696, 0.47161696, 0.47161696, 0.47161696,\n",
       "       0.47161696])"
      ]
     },
     "execution_count": 99,
     "metadata": {},
     "output_type": "execute_result"
    }
   ],
   "source": [
    "pred1"
   ]
  },
  {
   "cell_type": "markdown",
   "metadata": {},
   "source": [
    "## Ridge Regression"
   ]
  },
  {
   "cell_type": "code",
   "execution_count": 100,
   "metadata": {},
   "outputs": [
    {
     "name": "stdout",
     "output_type": "stream",
     "text": [
      "0.09837674661267481\n",
      "0.8004432140788911\n",
      "0.10787712736480563\n",
      "0.7705499340169748\n"
     ]
    }
   ],
   "source": [
    "# Ridge Regression\n",
    "rr = Ridge(alpha=0.01)\n",
    "rr.fit(X_train, y_train) \n",
    "pred_train_rr= rr.predict(X_train)\n",
    "print(np.sqrt(mean_squared_error(y_train,pred_train_rr)))\n",
    "print(r2_score(y_train, pred_train_rr))\n",
    "\n",
    "pred_test_rr= rr.predict(X_test)\n",
    "print(np.sqrt(mean_squared_error(y_test,pred_test_rr))) \n",
    "print(r2_score(y_test, pred_test_rr))"
   ]
  },
  {
   "cell_type": "code",
   "execution_count": 101,
   "metadata": {},
   "outputs": [
    {
     "data": {
      "text/plain": [
       "Text(0, 0.5, 'Predicted Fracture Toughness')"
      ]
     },
     "execution_count": 101,
     "metadata": {},
     "output_type": "execute_result"
    },
    {
     "data": {
      "image/png": "[encoded data removed]",
      "text/plain": [
       "<Figure size 432x288 with 1 Axes>"
      ]
     },
     "metadata": {
      "needs_background": "light"
     },
     "output_type": "display_data"
    }
   ],
   "source": [
    "plt.scatter(y_test,pred_test_rr)\n",
    "plt.xlabel(\"Fracture Toughness\")\n",
    "plt.ylabel(\"Predicted Fracture Toughness\")"
   ]
  },
  {
   "cell_type": "markdown",
   "metadata": {},
   "source": [
    "## Elastic net"
   ]
  },
  {
   "cell_type": "code",
   "execution_count": 102,
   "metadata": {},
   "outputs": [
    {
     "name": "stdout",
     "output_type": "stream",
     "text": [
      "0.10936369409378624\n",
      "0.7533802056185173\n",
      "0.10772250850652014\n",
      "0.7712071981381926\n"
     ]
    }
   ],
   "source": [
    "#Elastic Net\n",
    "model_enet = ElasticNet(alpha = 0.01)\n",
    "model_enet.fit(X_train, y_train) \n",
    "pred_train_enet= model_enet.predict(X_train)\n",
    "print(np.sqrt(mean_squared_error(y_train,pred_train_enet)))\n",
    "print(r2_score(y_train, pred_train_enet))\n",
    "\n",
    "pred_test_enet= model_enet.predict(X_test)\n",
    "print(np.sqrt(mean_squared_error(y_test,pred_test_enet)))\n",
    "print(r2_score(y_test, pred_test_enet))"
   ]
  },
  {
   "cell_type": "code",
   "execution_count": 103,
   "metadata": {},
   "outputs": [
    {
     "data": {
      "text/plain": [
       "Text(0, 0.5, 'Predicted Fracture Toughness')"
      ]
     },
     "execution_count": 103,
     "metadata": {},
     "output_type": "execute_result"
    },
    {
     "data": {
      "image/png": "[encoded data removed]",
      "text/plain": [
       "<Figure size 432x288 with 1 Axes>"
      ]
     },
     "metadata": {
      "needs_background": "light"
     },
     "output_type": "display_data"
    }
   ],
   "source": [
    "plt.scatter(y_test,pred_test_enet)\n",
    "plt.xlabel(\"Fracture Toughness\")\n",
    "plt.ylabel(\"Predicted Fracture Toughness\")"
   ]
  },
  {
   "cell_type": "markdown",
   "metadata": {},
   "source": [
    "### Lasso - 2"
   ]
  },
  {
   "cell_type": "code",
   "execution_count": 104,
   "metadata": {},
   "outputs": [
    {
     "name": "stdout",
     "output_type": "stream",
     "text": [
      "0.11633716865606195\n",
      "0.7209265197104824\n",
      "0.11650001759483283\n",
      "0.732402887786249\n"
     ]
    }
   ],
   "source": [
    "model_lasso = Lasso(alpha=0.01)\n",
    "model_lasso.fit(X_train, y_train) \n",
    "pred_train_lasso= model_lasso.predict(X_train)\n",
    "print(np.sqrt(mean_squared_error(y_train,pred_train_lasso)))\n",
    "print(r2_score(y_train, pred_train_lasso))\n",
    "\n",
    "pred_test_lasso= model_lasso.predict(X_test)\n",
    "print(np.sqrt(mean_squared_error(y_test,pred_test_lasso))) \n",
    "print(r2_score(y_test, pred_test_lasso))"
   ]
  },
  {
   "cell_type": "code",
   "execution_count": 105,
   "metadata": {},
   "outputs": [
    {
     "data": {
      "text/plain": [
       "Text(0, 0.5, 'Predicted Fracture Toughness')"
      ]
     },
     "execution_count": 105,
     "metadata": {},
     "output_type": "execute_result"
    },
    {
     "data": {
      "image/png": "[encoded data removed]",
      "text/plain": [
       "<Figure size 432x288 with 1 Axes>"
      ]
     },
     "metadata": {
      "needs_background": "light"
     },
     "output_type": "display_data"
    }
   ],
   "source": [
    "plt.scatter(y_test,pred_test_lasso)\n",
    "plt.xlabel(\"Fracture Toughness\")\n",
    "plt.ylabel(\"Predicted Fracture Toughness\")"
   ]
  },
  {
   "cell_type": "code",
   "execution_count": null,
   "metadata": {},
   "outputs": [],
   "source": []
  },
  {
   "cell_type": "code",
   "execution_count": null,
   "metadata": {},
   "outputs": [],
   "source": []
  }
 ],
 "metadata": {
  "kernelspec": {
   "display_name": "Python 3",
   "language": "python",
   "name": "python3"
  },
  "language_info": {
   "codemirror_mode": {
    "name": "ipython",
    "version": 3
   },
   "file_extension": ".py",
   "mimetype": "text/x-python",
   "name": "python",
   "nbconvert_exporter": "python",
   "pygments_lexer": "ipython3",
   "version": "3.7.6"
  }
 },
 "nbformat": 4,
 "nbformat_minor": 4
}
