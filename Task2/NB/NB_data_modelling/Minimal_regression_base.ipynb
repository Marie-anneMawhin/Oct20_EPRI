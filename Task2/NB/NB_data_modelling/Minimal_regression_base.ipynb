{
 "cells": [
  {
   "cell_type": "code",
   "execution_count": 227,
   "metadata": {},
   "outputs": [
    {
     "data": {
      "text/plain": [
       "<module 'epri_mc_lib_2' from '/Users/apple/Desktop/s2ds/work_project/Oct20_EPRI/Task2/NB/epri_mc_lib_2.py'>"
      ]
     },
     "execution_count": 227,
     "metadata": {},
     "output_type": "execute_result"
    }
   ],
   "source": [
    "import pandas as pd\n",
    "import numpy as np\n",
    "import matplotlib.pyplot as plt\n",
    "import seaborn as sns\n",
    "from scipy.cluster import hierarchy\n",
    "from sklearn.preprocessing import MinMaxScaler\n",
    "import os, glob, inspect, sys\n",
    "import re\n",
    "\n",
    "currentdir = os.path.dirname(os.path.abspath(inspect.getfile(inspect.currentframe())))\n",
    "parentdir = os.path.dirname(currentdir)\n",
    "sys.path.insert(0,parentdir) \n",
    "import epri_mc_lib_2 as mc\n",
    "from importlib import reload\n",
    "reload(mc)\n"
   ]
  },
  {
   "cell_type": "code",
   "execution_count": 228,
   "metadata": {},
   "outputs": [],
   "source": [
    "from sklearn import model_selection\n",
    "from sklearn.linear_model import LinearRegression\n",
    "from sklearn.linear_model import Ridge\n",
    "from sklearn.linear_model import Lasso\n",
    "from sklearn.linear_model import ElasticNet\n",
    "from sklearn.neighbors import KNeighborsRegressor\n",
    "from sklearn.tree import DecisionTreeRegressor\n",
    "from sklearn.svm import SVR\n",
    "from sklearn.ensemble import RandomForestRegressor\n",
    "from sklearn.metrics import r2_score\n",
    "from sklearn.model_selection import train_test_split\n",
    "from sklearn.metrics import mean_squared_error\n",
    "from math import sqrt"
   ]
  },
  {
   "cell_type": "markdown",
   "metadata": {},
   "source": [
    "### Import data and merge replicates"
   ]
  },
  {
   "cell_type": "code",
   "execution_count": 229,
   "metadata": {},
   "outputs": [
    {
     "data": {
      "text/html": [
       "<div>\n",
       "<style scoped>\n",
       "    .dataframe tbody tr th:only-of-type {\n",
       "        vertical-align: middle;\n",
       "    }\n",
       "\n",
       "    .dataframe tbody tr th {\n",
       "        vertical-align: top;\n",
       "    }\n",
       "\n",
       "    .dataframe thead th {\n",
       "        text-align: right;\n",
       "    }\n",
       "</style>\n",
       "<table border=\"1\" class=\"dataframe\">\n",
       "  <thead>\n",
       "    <tr style=\"text-align: right;\">\n",
       "      <th></th>\n",
       "      <th>KJIC</th>\n",
       "      <th>MS_Avg</th>\n",
       "      <th>TEP_average</th>\n",
       "      <th>Beta_avg</th>\n",
       "      <th>PC_IF_2.25MHz</th>\n",
       "      <th>PC_IF_3.5MHz</th>\n",
       "      <th>PC_BS</th>\n",
       "      <th>Type</th>\n",
       "    </tr>\n",
       "    <tr>\n",
       "      <th>type_cw</th>\n",
       "      <th></th>\n",
       "      <th></th>\n",
       "      <th></th>\n",
       "      <th></th>\n",
       "      <th></th>\n",
       "      <th></th>\n",
       "      <th></th>\n",
       "      <th></th>\n",
       "    </tr>\n",
       "  </thead>\n",
       "  <tbody>\n",
       "    <tr>\n",
       "      <th>A286-0</th>\n",
       "      <td>79.177783</td>\n",
       "      <td>0.009250</td>\n",
       "      <td>-1.105716</td>\n",
       "      <td>0.002122</td>\n",
       "      <td>3.389241e+02</td>\n",
       "      <td>263.737111</td>\n",
       "      <td>11.109955</td>\n",
       "      <td>A286</td>\n",
       "    </tr>\n",
       "    <tr>\n",
       "      <th>A286-80</th>\n",
       "      <td>61.591571</td>\n",
       "      <td>1.999020</td>\n",
       "      <td>-1.315461</td>\n",
       "      <td>0.002242</td>\n",
       "      <td>3.430339e+02</td>\n",
       "      <td>216.858203</td>\n",
       "      <td>-55.754817</td>\n",
       "      <td>A286</td>\n",
       "    </tr>\n",
       "    <tr>\n",
       "      <th>347-20</th>\n",
       "      <td>145.570410</td>\n",
       "      <td>2.042111</td>\n",
       "      <td>-1.067350</td>\n",
       "      <td>0.001798</td>\n",
       "      <td>5.331034e+02</td>\n",
       "      <td>149.130079</td>\n",
       "      <td>-34.498156</td>\n",
       "      <td>347</td>\n",
       "    </tr>\n",
       "    <tr>\n",
       "      <th>304-40</th>\n",
       "      <td>101.067072</td>\n",
       "      <td>0.016699</td>\n",
       "      <td>-1.462649</td>\n",
       "      <td>0.002260</td>\n",
       "      <td>6.095010e+00</td>\n",
       "      <td>12.327287</td>\n",
       "      <td>-27.993260</td>\n",
       "      <td>304</td>\n",
       "    </tr>\n",
       "    <tr>\n",
       "      <th>A286-0</th>\n",
       "      <td>101.543576</td>\n",
       "      <td>0.320440</td>\n",
       "      <td>-1.270049</td>\n",
       "      <td>0.002692</td>\n",
       "      <td>1.182694e-02</td>\n",
       "      <td>101.160691</td>\n",
       "      <td>-9.956184</td>\n",
       "      <td>A286</td>\n",
       "    </tr>\n",
       "    <tr>\n",
       "      <th>...</th>\n",
       "      <td>...</td>\n",
       "      <td>...</td>\n",
       "      <td>...</td>\n",
       "      <td>...</td>\n",
       "      <td>...</td>\n",
       "      <td>...</td>\n",
       "      <td>...</td>\n",
       "      <td>...</td>\n",
       "    </tr>\n",
       "    <tr>\n",
       "      <th>347-20</th>\n",
       "      <td>126.193410</td>\n",
       "      <td>4.119353</td>\n",
       "      <td>-1.613274</td>\n",
       "      <td>0.002056</td>\n",
       "      <td>7.031386e+01</td>\n",
       "      <td>192.049968</td>\n",
       "      <td>5.342775</td>\n",
       "      <td>347</td>\n",
       "    </tr>\n",
       "    <tr>\n",
       "      <th>A286-60</th>\n",
       "      <td>30.773574</td>\n",
       "      <td>0.009250</td>\n",
       "      <td>-1.495208</td>\n",
       "      <td>0.002422</td>\n",
       "      <td>4.941366e+02</td>\n",
       "      <td>476.006445</td>\n",
       "      <td>-25.253517</td>\n",
       "      <td>A286</td>\n",
       "    </tr>\n",
       "    <tr>\n",
       "      <th>A286-0</th>\n",
       "      <td>101.023432</td>\n",
       "      <td>0.009250</td>\n",
       "      <td>-1.434419</td>\n",
       "      <td>0.002238</td>\n",
       "      <td>3.433636e+02</td>\n",
       "      <td>40.400294</td>\n",
       "      <td>-15.358474</td>\n",
       "      <td>A286</td>\n",
       "    </tr>\n",
       "    <tr>\n",
       "      <th>304-0</th>\n",
       "      <td>128.511108</td>\n",
       "      <td>0.016224</td>\n",
       "      <td>-1.727505</td>\n",
       "      <td>0.002665</td>\n",
       "      <td>9.241084e-10</td>\n",
       "      <td>81.814007</td>\n",
       "      <td>17.849427</td>\n",
       "      <td>304</td>\n",
       "    </tr>\n",
       "    <tr>\n",
       "      <th>316-80</th>\n",
       "      <td>71.588341</td>\n",
       "      <td>0.114199</td>\n",
       "      <td>-1.769469</td>\n",
       "      <td>0.002782</td>\n",
       "      <td>7.933222e+01</td>\n",
       "      <td>25.536902</td>\n",
       "      <td>-46.303116</td>\n",
       "      <td>316</td>\n",
       "    </tr>\n",
       "  </tbody>\n",
       "</table>\n",
       "<p>1000 rows × 8 columns</p>\n",
       "</div>"
      ],
      "text/plain": [
       "               KJIC    MS_Avg  TEP_average  Beta_avg  PC_IF_2.25MHz  \\\n",
       "type_cw                                                               \n",
       "A286-0    79.177783  0.009250    -1.105716  0.002122   3.389241e+02   \n",
       "A286-80   61.591571  1.999020    -1.315461  0.002242   3.430339e+02   \n",
       "347-20   145.570410  2.042111    -1.067350  0.001798   5.331034e+02   \n",
       "304-40   101.067072  0.016699    -1.462649  0.002260   6.095010e+00   \n",
       "A286-0   101.543576  0.320440    -1.270049  0.002692   1.182694e-02   \n",
       "...             ...       ...          ...       ...            ...   \n",
       "347-20   126.193410  4.119353    -1.613274  0.002056   7.031386e+01   \n",
       "A286-60   30.773574  0.009250    -1.495208  0.002422   4.941366e+02   \n",
       "A286-0   101.023432  0.009250    -1.434419  0.002238   3.433636e+02   \n",
       "304-0    128.511108  0.016224    -1.727505  0.002665   9.241084e-10   \n",
       "316-80    71.588341  0.114199    -1.769469  0.002782   7.933222e+01   \n",
       "\n",
       "         PC_IF_3.5MHz      PC_BS  Type  \n",
       "type_cw                                 \n",
       "A286-0     263.737111  11.109955  A286  \n",
       "A286-80    216.858203 -55.754817  A286  \n",
       "347-20     149.130079 -34.498156   347  \n",
       "304-40      12.327287 -27.993260   304  \n",
       "A286-0     101.160691  -9.956184  A286  \n",
       "...               ...        ...   ...  \n",
       "347-20     192.049968   5.342775   347  \n",
       "A286-60    476.006445 -25.253517  A286  \n",
       "A286-0      40.400294 -15.358474  A286  \n",
       "304-0       81.814007  17.849427   304  \n",
       "316-80      25.536902 -46.303116   316  \n",
       "\n",
       "[1000 rows x 8 columns]"
      ]
     },
     "execution_count": 229,
     "metadata": {},
     "output_type": "execute_result"
    }
   ],
   "source": [
    "merged = pd.read_csv(os.path.join(os.path.dirname(os.getcwd()), '../Data/Merged_data/CopulaGAN_simulated_data.csv'),\n",
    "                    index_col=0)\n",
    "#merged.index = merged.index.str.rstrip('-12345')\n",
    "#mean_df = merged.groupby('ID').mean()\n",
    "# Get rid of cold work\n",
    "#cw_regex = re.compile(\"[0-9]+$\") \n",
    "#mean_df['cold_work'] = [int(re.search(cw_regex,x).group()) for x in mean_df.index]\n",
    "#mean_df.index = mean_df.index.str.rstrip('02468')\n",
    "#mean_df.index = mean_df.index.str.rstrip('-')\n",
    "merged.set_index('type_cw', inplace=True)\n",
    "merged"
   ]
  },
  {
   "cell_type": "code",
   "execution_count": 230,
   "metadata": {},
   "outputs": [],
   "source": [
    "merged=merged[merged.index.isin(['304-0','304-20','304-40','304-60','304-80'])]"
   ]
  },
  {
   "cell_type": "code",
   "execution_count": 231,
   "metadata": {},
   "outputs": [
    {
     "data": {
      "text/html": [
       "<div>\n",
       "<style scoped>\n",
       "    .dataframe tbody tr th:only-of-type {\n",
       "        vertical-align: middle;\n",
       "    }\n",
       "\n",
       "    .dataframe tbody tr th {\n",
       "        vertical-align: top;\n",
       "    }\n",
       "\n",
       "    .dataframe thead th {\n",
       "        text-align: right;\n",
       "    }\n",
       "</style>\n",
       "<table border=\"1\" class=\"dataframe\">\n",
       "  <thead>\n",
       "    <tr style=\"text-align: right;\">\n",
       "      <th></th>\n",
       "      <th>KJIC</th>\n",
       "      <th>MS_Avg</th>\n",
       "      <th>TEP_average</th>\n",
       "      <th>Beta_avg</th>\n",
       "      <th>PC_IF_2.25MHz</th>\n",
       "      <th>PC_IF_3.5MHz</th>\n",
       "      <th>PC_BS</th>\n",
       "      <th>Type</th>\n",
       "    </tr>\n",
       "    <tr>\n",
       "      <th>type_cw</th>\n",
       "      <th></th>\n",
       "      <th></th>\n",
       "      <th></th>\n",
       "      <th></th>\n",
       "      <th></th>\n",
       "      <th></th>\n",
       "      <th></th>\n",
       "      <th></th>\n",
       "    </tr>\n",
       "  </thead>\n",
       "  <tbody>\n",
       "    <tr>\n",
       "      <th>304-40</th>\n",
       "      <td>101.067072</td>\n",
       "      <td>0.016699</td>\n",
       "      <td>-1.462649</td>\n",
       "      <td>0.002260</td>\n",
       "      <td>6.095010e+00</td>\n",
       "      <td>12.327287</td>\n",
       "      <td>-27.993260</td>\n",
       "      <td>304</td>\n",
       "    </tr>\n",
       "    <tr>\n",
       "      <th>304-80</th>\n",
       "      <td>76.558688</td>\n",
       "      <td>3.048213</td>\n",
       "      <td>-1.012779</td>\n",
       "      <td>0.002543</td>\n",
       "      <td>4.131564e+01</td>\n",
       "      <td>142.762149</td>\n",
       "      <td>29.999999</td>\n",
       "      <td>304</td>\n",
       "    </tr>\n",
       "    <tr>\n",
       "      <th>304-0</th>\n",
       "      <td>83.215271</td>\n",
       "      <td>0.497963</td>\n",
       "      <td>-1.326228</td>\n",
       "      <td>0.002604</td>\n",
       "      <td>1.085048e+02</td>\n",
       "      <td>151.980761</td>\n",
       "      <td>3.687680</td>\n",
       "      <td>304</td>\n",
       "    </tr>\n",
       "    <tr>\n",
       "      <th>304-80</th>\n",
       "      <td>74.709257</td>\n",
       "      <td>4.233064</td>\n",
       "      <td>-1.024075</td>\n",
       "      <td>0.002213</td>\n",
       "      <td>1.044970e+02</td>\n",
       "      <td>218.270746</td>\n",
       "      <td>-56.900449</td>\n",
       "      <td>304</td>\n",
       "    </tr>\n",
       "    <tr>\n",
       "      <th>304-80</th>\n",
       "      <td>73.357998</td>\n",
       "      <td>4.088480</td>\n",
       "      <td>-0.967967</td>\n",
       "      <td>0.002704</td>\n",
       "      <td>1.202178e+02</td>\n",
       "      <td>144.003215</td>\n",
       "      <td>-29.161505</td>\n",
       "      <td>304</td>\n",
       "    </tr>\n",
       "    <tr>\n",
       "      <th>...</th>\n",
       "      <td>...</td>\n",
       "      <td>...</td>\n",
       "      <td>...</td>\n",
       "      <td>...</td>\n",
       "      <td>...</td>\n",
       "      <td>...</td>\n",
       "      <td>...</td>\n",
       "      <td>...</td>\n",
       "    </tr>\n",
       "    <tr>\n",
       "      <th>304-40</th>\n",
       "      <td>81.085123</td>\n",
       "      <td>0.408752</td>\n",
       "      <td>-1.439107</td>\n",
       "      <td>0.002011</td>\n",
       "      <td>8.568951e+01</td>\n",
       "      <td>96.774923</td>\n",
       "      <td>-14.482325</td>\n",
       "      <td>304</td>\n",
       "    </tr>\n",
       "    <tr>\n",
       "      <th>304-60</th>\n",
       "      <td>149.744029</td>\n",
       "      <td>3.137834</td>\n",
       "      <td>-1.145481</td>\n",
       "      <td>0.002648</td>\n",
       "      <td>2.247027e+01</td>\n",
       "      <td>138.205741</td>\n",
       "      <td>-2.786071</td>\n",
       "      <td>304</td>\n",
       "    </tr>\n",
       "    <tr>\n",
       "      <th>304-60</th>\n",
       "      <td>96.054456</td>\n",
       "      <td>2.682006</td>\n",
       "      <td>-1.411720</td>\n",
       "      <td>0.002624</td>\n",
       "      <td>3.305262e-03</td>\n",
       "      <td>169.668908</td>\n",
       "      <td>-6.131446</td>\n",
       "      <td>304</td>\n",
       "    </tr>\n",
       "    <tr>\n",
       "      <th>304-60</th>\n",
       "      <td>142.646817</td>\n",
       "      <td>6.391000</td>\n",
       "      <td>-1.366167</td>\n",
       "      <td>0.002723</td>\n",
       "      <td>7.720547e+01</td>\n",
       "      <td>221.870912</td>\n",
       "      <td>-39.206972</td>\n",
       "      <td>304</td>\n",
       "    </tr>\n",
       "    <tr>\n",
       "      <th>304-0</th>\n",
       "      <td>128.511108</td>\n",
       "      <td>0.016224</td>\n",
       "      <td>-1.727505</td>\n",
       "      <td>0.002665</td>\n",
       "      <td>9.241084e-10</td>\n",
       "      <td>81.814007</td>\n",
       "      <td>17.849427</td>\n",
       "      <td>304</td>\n",
       "    </tr>\n",
       "  </tbody>\n",
       "</table>\n",
       "<p>263 rows × 8 columns</p>\n",
       "</div>"
      ],
      "text/plain": [
       "               KJIC    MS_Avg  TEP_average  Beta_avg  PC_IF_2.25MHz  \\\n",
       "type_cw                                                               \n",
       "304-40   101.067072  0.016699    -1.462649  0.002260   6.095010e+00   \n",
       "304-80    76.558688  3.048213    -1.012779  0.002543   4.131564e+01   \n",
       "304-0     83.215271  0.497963    -1.326228  0.002604   1.085048e+02   \n",
       "304-80    74.709257  4.233064    -1.024075  0.002213   1.044970e+02   \n",
       "304-80    73.357998  4.088480    -0.967967  0.002704   1.202178e+02   \n",
       "...             ...       ...          ...       ...            ...   \n",
       "304-40    81.085123  0.408752    -1.439107  0.002011   8.568951e+01   \n",
       "304-60   149.744029  3.137834    -1.145481  0.002648   2.247027e+01   \n",
       "304-60    96.054456  2.682006    -1.411720  0.002624   3.305262e-03   \n",
       "304-60   142.646817  6.391000    -1.366167  0.002723   7.720547e+01   \n",
       "304-0    128.511108  0.016224    -1.727505  0.002665   9.241084e-10   \n",
       "\n",
       "         PC_IF_3.5MHz      PC_BS Type  \n",
       "type_cw                                \n",
       "304-40      12.327287 -27.993260  304  \n",
       "304-80     142.762149  29.999999  304  \n",
       "304-0      151.980761   3.687680  304  \n",
       "304-80     218.270746 -56.900449  304  \n",
       "304-80     144.003215 -29.161505  304  \n",
       "...               ...        ...  ...  \n",
       "304-40      96.774923 -14.482325  304  \n",
       "304-60     138.205741  -2.786071  304  \n",
       "304-60     169.668908  -6.131446  304  \n",
       "304-60     221.870912 -39.206972  304  \n",
       "304-0       81.814007  17.849427  304  \n",
       "\n",
       "[263 rows x 8 columns]"
      ]
     },
     "execution_count": 231,
     "metadata": {},
     "output_type": "execute_result"
    }
   ],
   "source": [
    "merged"
   ]
  },
  {
   "cell_type": "markdown",
   "metadata": {},
   "source": [
    "## Select columns of interest"
   ]
  },
  {
   "cell_type": "code",
   "execution_count": 93,
   "metadata": {},
   "outputs": [],
   "source": [
    "#mean_df = mean_df[mc.regression_cols].dropna()"
   ]
  },
  {
   "cell_type": "code",
   "execution_count": 94,
   "metadata": {},
   "outputs": [],
   "source": [
    "#mean_df.index=mean_df.index+\"-\"+mean_df.cold_work.astype(\"str\")"
   ]
  },
  {
   "cell_type": "code",
   "execution_count": 232,
   "metadata": {},
   "outputs": [
    {
     "name": "stderr",
     "output_type": "stream",
     "text": [
      "/opt/anaconda3/envs/epri/lib/python3.8/site-packages/pandas/core/frame.py:4110: SettingWithCopyWarning: \n",
      "A value is trying to be set on a copy of a slice from a DataFrame\n",
      "\n",
      "See the caveats in the documentation: http://pandas.pydata.org/pandas-docs/stable/user_guide/indexing.html#returning-a-view-versus-a-copy\n",
      "  return super().drop(\n"
     ]
    }
   ],
   "source": [
    "#mean_df.drop([\"cold_work\"], axis=1, inplace=True)\n",
    "merged.drop([\"Type\"], axis=1, inplace=True)"
   ]
  },
  {
   "cell_type": "code",
   "execution_count": 96,
   "metadata": {},
   "outputs": [
    {
     "data": {
      "text/html": [
       "<div>\n",
       "<style scoped>\n",
       "    .dataframe tbody tr th:only-of-type {\n",
       "        vertical-align: middle;\n",
       "    }\n",
       "\n",
       "    .dataframe tbody tr th {\n",
       "        vertical-align: top;\n",
       "    }\n",
       "\n",
       "    .dataframe thead th {\n",
       "        text-align: right;\n",
       "    }\n",
       "</style>\n",
       "<table border=\"1\" class=\"dataframe\">\n",
       "  <thead>\n",
       "    <tr style=\"text-align: right;\">\n",
       "      <th></th>\n",
       "      <th>KJIC</th>\n",
       "      <th>MS_Avg</th>\n",
       "      <th>TEP_average</th>\n",
       "      <th>Beta_avg</th>\n",
       "      <th>PC_IF_2.25MHz</th>\n",
       "      <th>PC_IF_3.5MHz</th>\n",
       "      <th>PC_BS</th>\n",
       "    </tr>\n",
       "  </thead>\n",
       "  <tbody>\n",
       "    <tr>\n",
       "      <th>347-0</th>\n",
       "      <td>198.50</td>\n",
       "      <td>0.0220</td>\n",
       "      <td>-1.43700</td>\n",
       "      <td>0.002710</td>\n",
       "      <td>0.0</td>\n",
       "      <td>0.0</td>\n",
       "      <td>0.0</td>\n",
       "    </tr>\n",
       "    <tr>\n",
       "      <th>347-20</th>\n",
       "      <td>124.06</td>\n",
       "      <td>0.3400</td>\n",
       "      <td>-1.36400</td>\n",
       "      <td>0.001770</td>\n",
       "      <td>195.0</td>\n",
       "      <td>202.0</td>\n",
       "      <td>-25.0</td>\n",
       "    </tr>\n",
       "    <tr>\n",
       "      <th>347-40</th>\n",
       "      <td>89.88</td>\n",
       "      <td>1.0115</td>\n",
       "      <td>-1.27925</td>\n",
       "      <td>0.002237</td>\n",
       "      <td>182.0</td>\n",
       "      <td>241.0</td>\n",
       "      <td>-28.0</td>\n",
       "    </tr>\n",
       "    <tr>\n",
       "      <th>347-60</th>\n",
       "      <td>77.80</td>\n",
       "      <td>3.1390</td>\n",
       "      <td>-1.10000</td>\n",
       "      <td>0.002429</td>\n",
       "      <td>206.0</td>\n",
       "      <td>287.0</td>\n",
       "      <td>-33.0</td>\n",
       "    </tr>\n",
       "    <tr>\n",
       "      <th>347-80</th>\n",
       "      <td>74.00</td>\n",
       "      <td>6.3910</td>\n",
       "      <td>-0.82200</td>\n",
       "      <td>0.002559</td>\n",
       "      <td>206.0</td>\n",
       "      <td>255.0</td>\n",
       "      <td>-39.0</td>\n",
       "    </tr>\n",
       "  </tbody>\n",
       "</table>\n",
       "</div>"
      ],
      "text/plain": [
       "          KJIC  MS_Avg  TEP_average  Beta_avg  PC_IF_2.25MHz  PC_IF_3.5MHz  \\\n",
       "347-0   198.50  0.0220     -1.43700  0.002710            0.0           0.0   \n",
       "347-20  124.06  0.3400     -1.36400  0.001770          195.0         202.0   \n",
       "347-40   89.88  1.0115     -1.27925  0.002237          182.0         241.0   \n",
       "347-60   77.80  3.1390     -1.10000  0.002429          206.0         287.0   \n",
       "347-80   74.00  6.3910     -0.82200  0.002559          206.0         255.0   \n",
       "\n",
       "        PC_BS  \n",
       "347-0     0.0  \n",
       "347-20  -25.0  \n",
       "347-40  -28.0  \n",
       "347-60  -33.0  \n",
       "347-80  -39.0  "
      ]
     },
     "execution_count": 96,
     "metadata": {},
     "output_type": "execute_result"
    }
   ],
   "source": [
    "#mean_df=mean_df.iloc[10:15]\n",
    "#mean_df"
   ]
  },
  {
   "cell_type": "markdown",
   "metadata": {},
   "source": [
    "## Scale data"
   ]
  },
  {
   "cell_type": "code",
   "execution_count": 233,
   "metadata": {},
   "outputs": [
    {
     "data": {
      "text/html": [
       "<div>\n",
       "<style scoped>\n",
       "    .dataframe tbody tr th:only-of-type {\n",
       "        vertical-align: middle;\n",
       "    }\n",
       "\n",
       "    .dataframe tbody tr th {\n",
       "        vertical-align: top;\n",
       "    }\n",
       "\n",
       "    .dataframe thead th {\n",
       "        text-align: right;\n",
       "    }\n",
       "</style>\n",
       "<table border=\"1\" class=\"dataframe\">\n",
       "  <thead>\n",
       "    <tr style=\"text-align: right;\">\n",
       "      <th></th>\n",
       "      <th>KJIC</th>\n",
       "      <th>MS_Avg</th>\n",
       "      <th>TEP_average</th>\n",
       "      <th>Beta_avg</th>\n",
       "      <th>PC_IF_2.25MHz</th>\n",
       "      <th>PC_IF_3.5MHz</th>\n",
       "      <th>PC_BS</th>\n",
       "    </tr>\n",
       "    <tr>\n",
       "      <th>type_cw</th>\n",
       "      <th></th>\n",
       "      <th></th>\n",
       "      <th></th>\n",
       "      <th></th>\n",
       "      <th></th>\n",
       "      <th></th>\n",
       "      <th></th>\n",
       "    </tr>\n",
       "  </thead>\n",
       "  <tbody>\n",
       "    <tr>\n",
       "      <th>304-40</th>\n",
       "      <td>0.108602</td>\n",
       "      <td>0.001167</td>\n",
       "      <td>0.344812</td>\n",
       "      <td>0.385889</td>\n",
       "      <td>1.113221e-02</td>\n",
       "      <td>0.109267</td>\n",
       "      <td>0.414205</td>\n",
       "    </tr>\n",
       "    <tr>\n",
       "      <th>304-80</th>\n",
       "      <td>0.063803</td>\n",
       "      <td>0.476196</td>\n",
       "      <td>0.777263</td>\n",
       "      <td>0.636892</td>\n",
       "      <td>7.546080e-02</td>\n",
       "      <td>0.210618</td>\n",
       "      <td>1.000000</td>\n",
       "    </tr>\n",
       "    <tr>\n",
       "      <th>304-0</th>\n",
       "      <td>0.075971</td>\n",
       "      <td>0.076580</td>\n",
       "      <td>0.475950</td>\n",
       "      <td>0.690970</td>\n",
       "      <td>1.981782e-01</td>\n",
       "      <td>0.217781</td>\n",
       "      <td>0.734217</td>\n",
       "    </tr>\n",
       "    <tr>\n",
       "      <th>304-80</th>\n",
       "      <td>0.060422</td>\n",
       "      <td>0.661858</td>\n",
       "      <td>0.766404</td>\n",
       "      <td>0.344119</td>\n",
       "      <td>1.908582e-01</td>\n",
       "      <td>0.269290</td>\n",
       "      <td>0.122211</td>\n",
       "    </tr>\n",
       "    <tr>\n",
       "      <th>304-80</th>\n",
       "      <td>0.057952</td>\n",
       "      <td>0.639202</td>\n",
       "      <td>0.820340</td>\n",
       "      <td>0.779596</td>\n",
       "      <td>2.195714e-01</td>\n",
       "      <td>0.211582</td>\n",
       "      <td>0.402404</td>\n",
       "    </tr>\n",
       "    <tr>\n",
       "      <th>...</th>\n",
       "      <td>...</td>\n",
       "      <td>...</td>\n",
       "      <td>...</td>\n",
       "      <td>...</td>\n",
       "      <td>...</td>\n",
       "      <td>...</td>\n",
       "      <td>...</td>\n",
       "    </tr>\n",
       "    <tr>\n",
       "      <th>304-40</th>\n",
       "      <td>0.072077</td>\n",
       "      <td>0.062601</td>\n",
       "      <td>0.367442</td>\n",
       "      <td>0.164316</td>\n",
       "      <td>1.565073e-01</td>\n",
       "      <td>0.174885</td>\n",
       "      <td>0.550680</td>\n",
       "    </tr>\n",
       "    <tr>\n",
       "      <th>304-60</th>\n",
       "      <td>0.197580</td>\n",
       "      <td>0.490239</td>\n",
       "      <td>0.649699</td>\n",
       "      <td>0.729259</td>\n",
       "      <td>4.104075e-02</td>\n",
       "      <td>0.207078</td>\n",
       "      <td>0.668825</td>\n",
       "    </tr>\n",
       "    <tr>\n",
       "      <th>304-60</th>\n",
       "      <td>0.099440</td>\n",
       "      <td>0.418812</td>\n",
       "      <td>0.393769</td>\n",
       "      <td>0.707919</td>\n",
       "      <td>6.036884e-06</td>\n",
       "      <td>0.231525</td>\n",
       "      <td>0.635033</td>\n",
       "    </tr>\n",
       "    <tr>\n",
       "      <th>304-60</th>\n",
       "      <td>0.184607</td>\n",
       "      <td>1.000000</td>\n",
       "      <td>0.437558</td>\n",
       "      <td>0.795679</td>\n",
       "      <td>1.410117e-01</td>\n",
       "      <td>0.272087</td>\n",
       "      <td>0.300934</td>\n",
       "    </tr>\n",
       "    <tr>\n",
       "      <th>304-0</th>\n",
       "      <td>0.158768</td>\n",
       "      <td>0.001093</td>\n",
       "      <td>0.090211</td>\n",
       "      <td>0.744670</td>\n",
       "      <td>1.687835e-12</td>\n",
       "      <td>0.163260</td>\n",
       "      <td>0.877266</td>\n",
       "    </tr>\n",
       "  </tbody>\n",
       "</table>\n",
       "<p>263 rows × 7 columns</p>\n",
       "</div>"
      ],
      "text/plain": [
       "             KJIC    MS_Avg  TEP_average  Beta_avg  PC_IF_2.25MHz  \\\n",
       "type_cw                                                             \n",
       "304-40   0.108602  0.001167     0.344812  0.385889   1.113221e-02   \n",
       "304-80   0.063803  0.476196     0.777263  0.636892   7.546080e-02   \n",
       "304-0    0.075971  0.076580     0.475950  0.690970   1.981782e-01   \n",
       "304-80   0.060422  0.661858     0.766404  0.344119   1.908582e-01   \n",
       "304-80   0.057952  0.639202     0.820340  0.779596   2.195714e-01   \n",
       "...           ...       ...          ...       ...            ...   \n",
       "304-40   0.072077  0.062601     0.367442  0.164316   1.565073e-01   \n",
       "304-60   0.197580  0.490239     0.649699  0.729259   4.104075e-02   \n",
       "304-60   0.099440  0.418812     0.393769  0.707919   6.036884e-06   \n",
       "304-60   0.184607  1.000000     0.437558  0.795679   1.410117e-01   \n",
       "304-0    0.158768  0.001093     0.090211  0.744670   1.687835e-12   \n",
       "\n",
       "         PC_IF_3.5MHz     PC_BS  \n",
       "type_cw                          \n",
       "304-40       0.109267  0.414205  \n",
       "304-80       0.210618  1.000000  \n",
       "304-0        0.217781  0.734217  \n",
       "304-80       0.269290  0.122211  \n",
       "304-80       0.211582  0.402404  \n",
       "...               ...       ...  \n",
       "304-40       0.174885  0.550680  \n",
       "304-60       0.207078  0.668825  \n",
       "304-60       0.231525  0.635033  \n",
       "304-60       0.272087  0.300934  \n",
       "304-0        0.163260  0.877266  \n",
       "\n",
       "[263 rows x 7 columns]"
      ]
     },
     "execution_count": 233,
     "metadata": {},
     "output_type": "execute_result"
    }
   ],
   "source": [
    "scaled_df = mc.scale_general(merged, MinMaxScaler())\n",
    "scaled_df[0]"
   ]
  },
  {
   "cell_type": "code",
   "execution_count": 211,
   "metadata": {},
   "outputs": [
    {
     "data": {
      "text/plain": [
       "<AxesSubplot:>"
      ]
     },
     "execution_count": 211,
     "metadata": {},
     "output_type": "execute_result"
    },
    {
     "data": {
      "image/png": "[encoded data removed]",
      "text/plain": [
       "<Figure size 432x288 with 2 Axes>"
      ]
     },
     "metadata": {
      "needs_background": "light"
     },
     "output_type": "display_data"
    }
   ],
   "source": [
    "sns.heatmap(merged.corr())"
   ]
  },
  {
   "cell_type": "code",
   "execution_count": 234,
   "metadata": {},
   "outputs": [],
   "source": [
    "# Creating Predictor variable 'X' and Target Variable 'y'\n",
    "\n",
    "# X contains all the features except for the target value Price\n",
    "X = scaled_df[0].drop('KJIC', axis = 1)\n",
    "y = scaled_df[0]['KJIC']"
   ]
  },
  {
   "cell_type": "code",
   "execution_count": 235,
   "metadata": {},
   "outputs": [
    {
     "data": {
      "text/html": [
       "<div>\n",
       "<style scoped>\n",
       "    .dataframe tbody tr th:only-of-type {\n",
       "        vertical-align: middle;\n",
       "    }\n",
       "\n",
       "    .dataframe tbody tr th {\n",
       "        vertical-align: top;\n",
       "    }\n",
       "\n",
       "    .dataframe thead th {\n",
       "        text-align: right;\n",
       "    }\n",
       "</style>\n",
       "<table border=\"1\" class=\"dataframe\">\n",
       "  <thead>\n",
       "    <tr style=\"text-align: right;\">\n",
       "      <th></th>\n",
       "      <th>MS_Avg</th>\n",
       "      <th>TEP_average</th>\n",
       "      <th>Beta_avg</th>\n",
       "      <th>PC_IF_2.25MHz</th>\n",
       "      <th>PC_IF_3.5MHz</th>\n",
       "      <th>PC_BS</th>\n",
       "    </tr>\n",
       "    <tr>\n",
       "      <th>type_cw</th>\n",
       "      <th></th>\n",
       "      <th></th>\n",
       "      <th></th>\n",
       "      <th></th>\n",
       "      <th></th>\n",
       "      <th></th>\n",
       "    </tr>\n",
       "  </thead>\n",
       "  <tbody>\n",
       "    <tr>\n",
       "      <th>304-40</th>\n",
       "      <td>0.001167</td>\n",
       "      <td>0.344812</td>\n",
       "      <td>0.385889</td>\n",
       "      <td>1.113221e-02</td>\n",
       "      <td>0.109267</td>\n",
       "      <td>0.414205</td>\n",
       "    </tr>\n",
       "    <tr>\n",
       "      <th>304-80</th>\n",
       "      <td>0.476196</td>\n",
       "      <td>0.777263</td>\n",
       "      <td>0.636892</td>\n",
       "      <td>7.546080e-02</td>\n",
       "      <td>0.210618</td>\n",
       "      <td>1.000000</td>\n",
       "    </tr>\n",
       "    <tr>\n",
       "      <th>304-0</th>\n",
       "      <td>0.076580</td>\n",
       "      <td>0.475950</td>\n",
       "      <td>0.690970</td>\n",
       "      <td>1.981782e-01</td>\n",
       "      <td>0.217781</td>\n",
       "      <td>0.734217</td>\n",
       "    </tr>\n",
       "    <tr>\n",
       "      <th>304-80</th>\n",
       "      <td>0.661858</td>\n",
       "      <td>0.766404</td>\n",
       "      <td>0.344119</td>\n",
       "      <td>1.908582e-01</td>\n",
       "      <td>0.269290</td>\n",
       "      <td>0.122211</td>\n",
       "    </tr>\n",
       "    <tr>\n",
       "      <th>304-80</th>\n",
       "      <td>0.639202</td>\n",
       "      <td>0.820340</td>\n",
       "      <td>0.779596</td>\n",
       "      <td>2.195714e-01</td>\n",
       "      <td>0.211582</td>\n",
       "      <td>0.402404</td>\n",
       "    </tr>\n",
       "    <tr>\n",
       "      <th>...</th>\n",
       "      <td>...</td>\n",
       "      <td>...</td>\n",
       "      <td>...</td>\n",
       "      <td>...</td>\n",
       "      <td>...</td>\n",
       "      <td>...</td>\n",
       "    </tr>\n",
       "    <tr>\n",
       "      <th>304-40</th>\n",
       "      <td>0.062601</td>\n",
       "      <td>0.367442</td>\n",
       "      <td>0.164316</td>\n",
       "      <td>1.565073e-01</td>\n",
       "      <td>0.174885</td>\n",
       "      <td>0.550680</td>\n",
       "    </tr>\n",
       "    <tr>\n",
       "      <th>304-60</th>\n",
       "      <td>0.490239</td>\n",
       "      <td>0.649699</td>\n",
       "      <td>0.729259</td>\n",
       "      <td>4.104075e-02</td>\n",
       "      <td>0.207078</td>\n",
       "      <td>0.668825</td>\n",
       "    </tr>\n",
       "    <tr>\n",
       "      <th>304-60</th>\n",
       "      <td>0.418812</td>\n",
       "      <td>0.393769</td>\n",
       "      <td>0.707919</td>\n",
       "      <td>6.036884e-06</td>\n",
       "      <td>0.231525</td>\n",
       "      <td>0.635033</td>\n",
       "    </tr>\n",
       "    <tr>\n",
       "      <th>304-60</th>\n",
       "      <td>1.000000</td>\n",
       "      <td>0.437558</td>\n",
       "      <td>0.795679</td>\n",
       "      <td>1.410117e-01</td>\n",
       "      <td>0.272087</td>\n",
       "      <td>0.300934</td>\n",
       "    </tr>\n",
       "    <tr>\n",
       "      <th>304-0</th>\n",
       "      <td>0.001093</td>\n",
       "      <td>0.090211</td>\n",
       "      <td>0.744670</td>\n",
       "      <td>1.687835e-12</td>\n",
       "      <td>0.163260</td>\n",
       "      <td>0.877266</td>\n",
       "    </tr>\n",
       "  </tbody>\n",
       "</table>\n",
       "<p>263 rows × 6 columns</p>\n",
       "</div>"
      ],
      "text/plain": [
       "           MS_Avg  TEP_average  Beta_avg  PC_IF_2.25MHz  PC_IF_3.5MHz  \\\n",
       "type_cw                                                                 \n",
       "304-40   0.001167     0.344812  0.385889   1.113221e-02      0.109267   \n",
       "304-80   0.476196     0.777263  0.636892   7.546080e-02      0.210618   \n",
       "304-0    0.076580     0.475950  0.690970   1.981782e-01      0.217781   \n",
       "304-80   0.661858     0.766404  0.344119   1.908582e-01      0.269290   \n",
       "304-80   0.639202     0.820340  0.779596   2.195714e-01      0.211582   \n",
       "...           ...          ...       ...            ...           ...   \n",
       "304-40   0.062601     0.367442  0.164316   1.565073e-01      0.174885   \n",
       "304-60   0.490239     0.649699  0.729259   4.104075e-02      0.207078   \n",
       "304-60   0.418812     0.393769  0.707919   6.036884e-06      0.231525   \n",
       "304-60   1.000000     0.437558  0.795679   1.410117e-01      0.272087   \n",
       "304-0    0.001093     0.090211  0.744670   1.687835e-12      0.163260   \n",
       "\n",
       "            PC_BS  \n",
       "type_cw            \n",
       "304-40   0.414205  \n",
       "304-80   1.000000  \n",
       "304-0    0.734217  \n",
       "304-80   0.122211  \n",
       "304-80   0.402404  \n",
       "...           ...  \n",
       "304-40   0.550680  \n",
       "304-60   0.668825  \n",
       "304-60   0.635033  \n",
       "304-60   0.300934  \n",
       "304-0    0.877266  \n",
       "\n",
       "[263 rows x 6 columns]"
      ]
     },
     "execution_count": 235,
     "metadata": {},
     "output_type": "execute_result"
    }
   ],
   "source": [
    "X"
   ]
  },
  {
   "cell_type": "code",
   "execution_count": 213,
   "metadata": {},
   "outputs": [],
   "source": [
    "from sklearn.model_selection import train_test_split"
   ]
  },
  {
   "cell_type": "code",
   "execution_count": 214,
   "metadata": {},
   "outputs": [
    {
     "name": "stdout",
     "output_type": "stream",
     "text": [
      "(184,)\n",
      "(79, 6)\n"
     ]
    }
   ],
   "source": [
    "X_train, X_test, y_train, y_test = train_test_split(X,y, test_size=0.3, random_state=50)\n",
    "\n",
    "# X_train contains 70% of total dataset\n",
    "print(y_train.shape)\n",
    "# X_test contains 30% of total dataset\n",
    "print(X_test.shape)"
   ]
  },
  {
   "cell_type": "markdown",
   "metadata": {},
   "source": [
    "## Linear Regression"
   ]
  },
  {
   "cell_type": "code",
   "execution_count": 215,
   "metadata": {},
   "outputs": [],
   "source": [
    "from sklearn.linear_model import LinearRegression"
   ]
  },
  {
   "cell_type": "code",
   "execution_count": 216,
   "metadata": {},
   "outputs": [],
   "source": [
    "lr = LinearRegression()"
   ]
  },
  {
   "cell_type": "code",
   "execution_count": 217,
   "metadata": {},
   "outputs": [
    {
     "data": {
      "text/plain": [
       "LinearRegression(copy_X=True, fit_intercept=True, n_jobs=None, normalize=False)"
      ]
     },
     "execution_count": 217,
     "metadata": {},
     "output_type": "execute_result"
    }
   ],
   "source": [
    "#Train/fit the model to training data\n",
    "lr.fit(X_train,y_train)"
   ]
  },
  {
   "cell_type": "code",
   "execution_count": 218,
   "metadata": {},
   "outputs": [
    {
     "name": "stdout",
     "output_type": "stream",
     "text": [
      "0.19585073227937927\n"
     ]
    },
    {
     "data": {
      "text/html": [
       "<div>\n",
       "<style scoped>\n",
       "    .dataframe tbody tr th:only-of-type {\n",
       "        vertical-align: middle;\n",
       "    }\n",
       "\n",
       "    .dataframe tbody tr th {\n",
       "        vertical-align: top;\n",
       "    }\n",
       "\n",
       "    .dataframe thead th {\n",
       "        text-align: right;\n",
       "    }\n",
       "</style>\n",
       "<table border=\"1\" class=\"dataframe\">\n",
       "  <thead>\n",
       "    <tr style=\"text-align: right;\">\n",
       "      <th></th>\n",
       "      <th>Coefficient</th>\n",
       "    </tr>\n",
       "  </thead>\n",
       "  <tbody>\n",
       "    <tr>\n",
       "      <th>MS_Avg</th>\n",
       "      <td>0.065977</td>\n",
       "    </tr>\n",
       "    <tr>\n",
       "      <th>TEP_average</th>\n",
       "      <td>-0.201107</td>\n",
       "    </tr>\n",
       "    <tr>\n",
       "      <th>Beta_avg</th>\n",
       "      <td>0.043051</td>\n",
       "    </tr>\n",
       "    <tr>\n",
       "      <th>PC_IF_2.25MHz</th>\n",
       "      <td>-0.145857</td>\n",
       "    </tr>\n",
       "    <tr>\n",
       "      <th>PC_IF_3.5MHz</th>\n",
       "      <td>-0.091477</td>\n",
       "    </tr>\n",
       "    <tr>\n",
       "      <th>PC_BS</th>\n",
       "      <td>0.065939</td>\n",
       "    </tr>\n",
       "  </tbody>\n",
       "</table>\n",
       "</div>"
      ],
      "text/plain": [
       "               Coefficient\n",
       "MS_Avg            0.065977\n",
       "TEP_average      -0.201107\n",
       "Beta_avg          0.043051\n",
       "PC_IF_2.25MHz    -0.145857\n",
       "PC_IF_3.5MHz     -0.091477\n",
       "PC_BS             0.065939"
      ]
     },
     "execution_count": 218,
     "metadata": {},
     "output_type": "execute_result"
    }
   ],
   "source": [
    "# print the intercept\n",
    "print(lr.intercept_)\n",
    "\n",
    "#Coefficients\n",
    "coeff_df = pd.DataFrame(lr.coef_,X.columns,columns=['Coefficient'])\n",
    "coeff_df"
   ]
  },
  {
   "cell_type": "code",
   "execution_count": 219,
   "metadata": {},
   "outputs": [],
   "source": [
    "pred = lr.predict(X_test)"
   ]
  },
  {
   "cell_type": "code",
   "execution_count": 220,
   "metadata": {},
   "outputs": [
    {
     "data": {
      "text/plain": [
       "Text(0, 0.5, 'Predicted Fracture Toughness')"
      ]
     },
     "execution_count": 220,
     "metadata": {},
     "output_type": "execute_result"
    },
    {
     "data": {
      "image/png": "[encoded data removed]",
      "text/plain": [
       "<Figure size 432x288 with 1 Axes>"
      ]
     },
     "metadata": {
      "needs_background": "light"
     },
     "output_type": "display_data"
    }
   ],
   "source": [
    "plt.scatter(y_test,pred)\n",
    "plt.xlabel(\"Fracture Toughness\")\n",
    "plt.ylabel(\"Predicted Fracture Toughness\")"
   ]
  },
  {
   "cell_type": "code",
   "execution_count": 221,
   "metadata": {},
   "outputs": [],
   "source": [
    "from sklearn import metrics"
   ]
  },
  {
   "cell_type": "code",
   "execution_count": 158,
   "metadata": {},
   "outputs": [
    {
     "name": "stdout",
     "output_type": "stream",
     "text": [
      "MAE: 0.051464254311065126\n",
      "MSE: 0.005229923648100843\n",
      "RMSE: 0.07231821104051761\n"
     ]
    }
   ],
   "source": [
    "print('MAE:', metrics.mean_absolute_error(y_test, pred))\n",
    "print('MSE:', metrics.mean_squared_error(y_test, pred))\n",
    "print('RMSE:', np.sqrt(metrics.mean_squared_error(y_test, pred)))"
   ]
  },
  {
   "cell_type": "markdown",
   "metadata": {},
   "source": [
    "## Lasso"
   ]
  },
  {
   "cell_type": "code",
   "execution_count": 159,
   "metadata": {},
   "outputs": [
    {
     "data": {
      "text/plain": [
       "Lasso(alpha=0.5, copy_X=True, fit_intercept=True, max_iter=1000,\n",
       "      normalize=False, positive=False, precompute=False, random_state=None,\n",
       "      selection='cyclic', tol=0.0001, warm_start=False)"
      ]
     },
     "execution_count": 159,
     "metadata": {},
     "output_type": "execute_result"
    }
   ],
   "source": [
    "from sklearn.linear_model import Lasso\n",
    "\n",
    "reg = Lasso(alpha=0.5)\n",
    "reg.fit(X_train, y_train)"
   ]
  },
  {
   "cell_type": "code",
   "execution_count": 160,
   "metadata": {},
   "outputs": [
    {
     "name": "stdout",
     "output_type": "stream",
     "text": [
      "Lasso Regression: R^2 score on training set 0.0\n",
      "Lasso Regression: R^2 score on test set -0.18780498792629885\n"
     ]
    }
   ],
   "source": [
    "print('Lasso Regression: R^2 score on training set', reg.score(X_train, y_train)*100)\n",
    "print('Lasso Regression: R^2 score on test set', reg.score(X_test, y_test)*100)"
   ]
  },
  {
   "cell_type": "code",
   "execution_count": 161,
   "metadata": {},
   "outputs": [],
   "source": [
    "# Lasso with different lambdas\n",
    "lambdas = (0.001, 0.01, 0.1, 0.5, 1, 2, 10)\n",
    "l_num = 7\n",
    "pred_num = X.shape[1]\n",
    "\n",
    "# prepare data for enumerate\n",
    "coeff_a = np.zeros((l_num, pred_num))\n",
    "train_r_squared = np.zeros(l_num)\n",
    "test_r_squared = np.zeros(l_num)"
   ]
  },
  {
   "cell_type": "code",
   "execution_count": 162,
   "metadata": {},
   "outputs": [],
   "source": [
    "# enumerate through lambdas with index and i\n",
    "for ind, i in enumerate(lambdas):    \n",
    "    reg = Lasso(alpha = i)\n",
    "    reg.fit(X_train, y_train)\n",
    "       \n",
    "    coeff_a[ind,:] = reg.coef_\n",
    "    train_r_squared[ind] = reg.score(X_train, y_train)\n",
    "    test_r_squared[ind] = reg.score(X_test, y_test)"
   ]
  },
  {
   "cell_type": "code",
   "execution_count": 163,
   "metadata": {},
   "outputs": [
    {
     "data": {
      "image/png": "[encoded data removed]",
      "text/plain": [
       "<Figure size 1296x576 with 1 Axes>"
      ]
     },
     "metadata": {
      "needs_background": "light"
     },
     "output_type": "display_data"
    }
   ],
   "source": [
    "# Plotting\n",
    "plt.figure(figsize=(18, 8))\n",
    "plt.plot(train_r_squared, 'bo-', label=r'$R^2$ Training set', color=\"darkblue\", alpha=0.6, linewidth=3)\n",
    "plt.plot(test_r_squared, 'bo-', label=r'$R^2$ Test set', color=\"darkred\", alpha=0.6, linewidth=3)\n",
    "plt.xlabel('Lamda index'); plt.ylabel(r'$R^2$')\n",
    "plt.xlim(0, 6)\n",
    "plt.title(r'Evaluate lasso regression with lamdas: 0 = 0.001, 1= 0.01, 2 = 0.1, 3 = 0.5, 4= 1, 5= 2, 6 = 10')\n",
    "plt.legend(loc='best')\n",
    "plt.grid()"
   ]
  },
  {
   "cell_type": "code",
   "execution_count": 164,
   "metadata": {},
   "outputs": [
    {
     "data": {
      "text/plain": [
       "R_squared    28.646931\n",
       "lambda        0.001000\n",
       "Name: 0, dtype: float64"
      ]
     },
     "execution_count": 164,
     "metadata": {},
     "output_type": "execute_result"
    }
   ],
   "source": [
    "# Identifying the best lambda\n",
    "df_lam = pd.DataFrame(test_r_squared*100, columns=['R_squared'])\n",
    "df_lam['lambda'] = (lambdas)\n",
    "# returns the index of the row where column has maximum value.\n",
    "df_lam.loc[df_lam['R_squared'].idxmax()]"
   ]
  },
  {
   "cell_type": "code",
   "execution_count": 165,
   "metadata": {},
   "outputs": [
    {
     "data": {
      "text/plain": [
       "array([ 0.00640889, -0.        , -0.        , -0.06707773, -0.06417356,\n",
       "        0.09880476])"
      ]
     },
     "execution_count": 165,
     "metadata": {},
     "output_type": "execute_result"
    }
   ],
   "source": [
    "# Coefficients of best model\n",
    "reg_best = Lasso(alpha = 0.001)\n",
    "reg_best.fit(X_train, y_train)\n",
    "reg_best.coef_"
   ]
  },
  {
   "cell_type": "code",
   "execution_count": 166,
   "metadata": {},
   "outputs": [
    {
     "data": {
      "text/plain": [
       "0.005462436465855287"
      ]
     },
     "execution_count": 166,
     "metadata": {},
     "output_type": "execute_result"
    }
   ],
   "source": [
    "from sklearn.metrics import mean_squared_error\n",
    "mean_squared_error(y_test, reg_best.predict(X_test))"
   ]
  },
  {
   "cell_type": "code",
   "execution_count": 167,
   "metadata": {},
   "outputs": [],
   "source": [
    "# Cross Validation\n",
    "l_min = 0.05\n",
    "l_max = 0.2\n",
    "l_num = 20\n",
    "lambdas = np.linspace(l_min,l_max, l_num)\n",
    "\n",
    "train_r_squared = np.zeros(l_num)\n",
    "test_r_squared = np.zeros(l_num)\n",
    "\n",
    "pred_num = X.shape[1]\n",
    "coeff_a = np.zeros((l_num, pred_num))"
   ]
  },
  {
   "cell_type": "code",
   "execution_count": 168,
   "metadata": {},
   "outputs": [],
   "source": [
    "from sklearn.model_selection import cross_val_score\n",
    "\n",
    "for ind, i in enumerate(lambdas):    \n",
    "    reg = Lasso(alpha = i)\n",
    "    reg.fit(X_train, y_train)\n",
    "    results = cross_val_score(reg, X, y, cv=5, scoring=\"r2\") \n",
    "\n",
    "    train_r_squared[ind] = reg.score(X_train, y_train)    \n",
    "    test_r_squared[ind] = reg.score(X_test, y_test)"
   ]
  },
  {
   "cell_type": "code",
   "execution_count": 169,
   "metadata": {},
   "outputs": [
    {
     "data": {
      "image/png": "[encoded data removed]",
      "text/plain": [
       "<Figure size 1296x576 with 1 Axes>"
      ]
     },
     "metadata": {
      "needs_background": "light"
     },
     "output_type": "display_data"
    }
   ],
   "source": [
    "# Plotting\n",
    "plt.figure(figsize=(18, 8))\n",
    "plt.plot(train_r_squared, 'bo-', label=r'$R^2$ Training set', color=\"darkblue\", alpha=0.6, linewidth=3)\n",
    "plt.plot(test_r_squared, 'bo-', label=r'$R^2$ Test set', color=\"darkred\", alpha=0.6, linewidth=3)\n",
    "plt.xlabel('Lamda value'); plt.ylabel(r'$R^2$')\n",
    "plt.xlim(0, 19)\n",
    "plt.title(r'Evaluate 5-fold cv with different lamdas')\n",
    "plt.legend(loc='best')\n",
    "plt.grid()"
   ]
  },
  {
   "cell_type": "code",
   "execution_count": 170,
   "metadata": {},
   "outputs": [
    {
     "data": {
      "text/plain": [
       "R_squared   -0.187805\n",
       "lambda       0.050000\n",
       "Name: 0, dtype: float64"
      ]
     },
     "execution_count": 170,
     "metadata": {},
     "output_type": "execute_result"
    }
   ],
   "source": [
    "# Best Model\n",
    "df_lam = pd.DataFrame(test_r_squared*100, columns=['R_squared'])\n",
    "df_lam['lambda'] = (lambdas)\n",
    "# returns the index of the row where column has maximum value.\n",
    "df_lam.loc[df_lam['R_squared'].idxmax()]"
   ]
  },
  {
   "cell_type": "code",
   "execution_count": 171,
   "metadata": {},
   "outputs": [
    {
     "data": {
      "text/plain": [
       "Lasso(alpha=0.05, copy_X=True, fit_intercept=True, max_iter=1000,\n",
       "      normalize=False, positive=False, precompute=False, random_state=None,\n",
       "      selection='cyclic', tol=0.0001, warm_start=False)"
      ]
     },
     "execution_count": 171,
     "metadata": {},
     "output_type": "execute_result"
    }
   ],
   "source": [
    "# Best Model\n",
    "reg_best = Lasso(alpha = 0.05)\n",
    "reg_best.fit(X_train, y_train)"
   ]
  },
  {
   "cell_type": "code",
   "execution_count": 172,
   "metadata": {},
   "outputs": [
    {
     "data": {
      "text/plain": [
       "0.0076698806432316325"
      ]
     },
     "execution_count": 172,
     "metadata": {},
     "output_type": "execute_result"
    }
   ],
   "source": [
    "from sklearn.metrics import mean_squared_error\n",
    "\n",
    "mean_squared_error(y_test, reg_best.predict(X_test))"
   ]
  },
  {
   "cell_type": "code",
   "execution_count": 173,
   "metadata": {},
   "outputs": [
    {
     "data": {
      "text/plain": [
       "array([ 0., -0.,  0., -0., -0.,  0.])"
      ]
     },
     "execution_count": 173,
     "metadata": {},
     "output_type": "execute_result"
    }
   ],
   "source": [
    "reg_best.coef_"
   ]
  },
  {
   "cell_type": "code",
   "execution_count": 174,
   "metadata": {
    "scrolled": false
   },
   "outputs": [
    {
     "data": {
      "text/plain": [
       "Text(0, 0.5, 'Predicted Fracture Toughness')"
      ]
     },
     "execution_count": 174,
     "metadata": {},
     "output_type": "execute_result"
    },
    {
     "data": {
      "image/png": "[encoded data removed]",
      "text/plain": [
       "<Figure size 432x288 with 1 Axes>"
      ]
     },
     "metadata": {
      "needs_background": "light"
     },
     "output_type": "display_data"
    }
   ],
   "source": [
    "pred1 = reg_best.predict(X_test)\n",
    "plt.scatter(y_test,pred1)\n",
    "plt.xlabel(\"Fracture Toughness\")\n",
    "plt.ylabel(\"Predicted Fracture Toughness\")"
   ]
  },
  {
   "cell_type": "code",
   "execution_count": 175,
   "metadata": {},
   "outputs": [
    {
     "data": {
      "text/plain": [
       "array([0.13351077, 0.13351077, 0.13351077, 0.13351077, 0.13351077,\n",
       "       0.13351077, 0.13351077, 0.13351077, 0.13351077, 0.13351077,\n",
       "       0.13351077, 0.13351077, 0.13351077, 0.13351077, 0.13351077,\n",
       "       0.13351077, 0.13351077, 0.13351077, 0.13351077, 0.13351077,\n",
       "       0.13351077, 0.13351077, 0.13351077, 0.13351077, 0.13351077,\n",
       "       0.13351077, 0.13351077, 0.13351077, 0.13351077, 0.13351077,\n",
       "       0.13351077, 0.13351077, 0.13351077, 0.13351077, 0.13351077,\n",
       "       0.13351077, 0.13351077, 0.13351077, 0.13351077, 0.13351077,\n",
       "       0.13351077, 0.13351077, 0.13351077, 0.13351077, 0.13351077,\n",
       "       0.13351077, 0.13351077, 0.13351077, 0.13351077, 0.13351077,\n",
       "       0.13351077, 0.13351077, 0.13351077, 0.13351077, 0.13351077,\n",
       "       0.13351077, 0.13351077, 0.13351077, 0.13351077, 0.13351077,\n",
       "       0.13351077, 0.13351077, 0.13351077, 0.13351077, 0.13351077,\n",
       "       0.13351077, 0.13351077, 0.13351077, 0.13351077, 0.13351077,\n",
       "       0.13351077, 0.13351077, 0.13351077, 0.13351077, 0.13351077,\n",
       "       0.13351077, 0.13351077, 0.13351077, 0.13351077, 0.13351077,\n",
       "       0.13351077, 0.13351077, 0.13351077, 0.13351077, 0.13351077,\n",
       "       0.13351077, 0.13351077, 0.13351077, 0.13351077, 0.13351077,\n",
       "       0.13351077, 0.13351077, 0.13351077, 0.13351077, 0.13351077,\n",
       "       0.13351077, 0.13351077, 0.13351077, 0.13351077, 0.13351077,\n",
       "       0.13351077, 0.13351077, 0.13351077, 0.13351077, 0.13351077,\n",
       "       0.13351077, 0.13351077, 0.13351077, 0.13351077, 0.13351077,\n",
       "       0.13351077, 0.13351077, 0.13351077, 0.13351077, 0.13351077,\n",
       "       0.13351077, 0.13351077, 0.13351077, 0.13351077, 0.13351077,\n",
       "       0.13351077, 0.13351077, 0.13351077, 0.13351077, 0.13351077,\n",
       "       0.13351077, 0.13351077, 0.13351077, 0.13351077, 0.13351077,\n",
       "       0.13351077, 0.13351077, 0.13351077, 0.13351077, 0.13351077,\n",
       "       0.13351077, 0.13351077, 0.13351077, 0.13351077, 0.13351077,\n",
       "       0.13351077, 0.13351077, 0.13351077, 0.13351077, 0.13351077,\n",
       "       0.13351077, 0.13351077, 0.13351077, 0.13351077, 0.13351077,\n",
       "       0.13351077, 0.13351077, 0.13351077, 0.13351077, 0.13351077,\n",
       "       0.13351077, 0.13351077, 0.13351077, 0.13351077, 0.13351077,\n",
       "       0.13351077, 0.13351077, 0.13351077, 0.13351077, 0.13351077,\n",
       "       0.13351077, 0.13351077, 0.13351077, 0.13351077, 0.13351077,\n",
       "       0.13351077, 0.13351077, 0.13351077, 0.13351077, 0.13351077,\n",
       "       0.13351077, 0.13351077, 0.13351077, 0.13351077, 0.13351077,\n",
       "       0.13351077, 0.13351077, 0.13351077, 0.13351077, 0.13351077,\n",
       "       0.13351077, 0.13351077, 0.13351077, 0.13351077, 0.13351077,\n",
       "       0.13351077, 0.13351077, 0.13351077, 0.13351077, 0.13351077,\n",
       "       0.13351077, 0.13351077, 0.13351077, 0.13351077, 0.13351077,\n",
       "       0.13351077, 0.13351077, 0.13351077, 0.13351077, 0.13351077,\n",
       "       0.13351077, 0.13351077, 0.13351077, 0.13351077, 0.13351077,\n",
       "       0.13351077, 0.13351077, 0.13351077, 0.13351077, 0.13351077,\n",
       "       0.13351077, 0.13351077, 0.13351077, 0.13351077, 0.13351077,\n",
       "       0.13351077, 0.13351077, 0.13351077, 0.13351077, 0.13351077,\n",
       "       0.13351077, 0.13351077, 0.13351077, 0.13351077, 0.13351077,\n",
       "       0.13351077, 0.13351077, 0.13351077, 0.13351077, 0.13351077,\n",
       "       0.13351077, 0.13351077, 0.13351077, 0.13351077, 0.13351077,\n",
       "       0.13351077, 0.13351077, 0.13351077, 0.13351077, 0.13351077,\n",
       "       0.13351077, 0.13351077, 0.13351077, 0.13351077, 0.13351077,\n",
       "       0.13351077, 0.13351077, 0.13351077, 0.13351077, 0.13351077,\n",
       "       0.13351077, 0.13351077, 0.13351077, 0.13351077, 0.13351077,\n",
       "       0.13351077, 0.13351077, 0.13351077, 0.13351077, 0.13351077,\n",
       "       0.13351077, 0.13351077, 0.13351077, 0.13351077, 0.13351077,\n",
       "       0.13351077, 0.13351077, 0.13351077, 0.13351077, 0.13351077,\n",
       "       0.13351077, 0.13351077, 0.13351077, 0.13351077, 0.13351077,\n",
       "       0.13351077, 0.13351077, 0.13351077, 0.13351077, 0.13351077,\n",
       "       0.13351077, 0.13351077, 0.13351077, 0.13351077, 0.13351077,\n",
       "       0.13351077, 0.13351077, 0.13351077, 0.13351077, 0.13351077,\n",
       "       0.13351077, 0.13351077, 0.13351077, 0.13351077, 0.13351077])"
      ]
     },
     "execution_count": 175,
     "metadata": {},
     "output_type": "execute_result"
    }
   ],
   "source": [
    "pred1"
   ]
  },
  {
   "cell_type": "markdown",
   "metadata": {},
   "source": [
    "## Ridge Regression"
   ]
  },
  {
   "cell_type": "code",
   "execution_count": 222,
   "metadata": {},
   "outputs": [
    {
     "name": "stdout",
     "output_type": "stream",
     "text": [
      "0.0975399993218193\n",
      "0.28784853411653255\n",
      "0.08919862135259299\n",
      "-0.03193120968712071\n"
     ]
    }
   ],
   "source": [
    "# Ridge Regression\n",
    "rr = Ridge(alpha=0.01)\n",
    "rr.fit(X_train, y_train) \n",
    "pred_train_rr= rr.predict(X_train)\n",
    "print(np.sqrt(mean_squared_error(y_train,pred_train_rr)))\n",
    "print(r2_score(y_train, pred_train_rr))\n",
    "\n",
    "pred_test_rr= rr.predict(X_test)\n",
    "print(np.sqrt(mean_squared_error(y_test,pred_test_rr))) \n",
    "print(r2_score(y_test, pred_test_rr))"
   ]
  },
  {
   "cell_type": "code",
   "execution_count": 223,
   "metadata": {},
   "outputs": [
    {
     "data": {
      "text/plain": [
       "Text(0, 0.5, 'Predicted Fracture Toughness')"
      ]
     },
     "execution_count": 223,
     "metadata": {},
     "output_type": "execute_result"
    },
    {
     "data": {
      "image/png": "[encoded data removed]",
      "text/plain": [
       "<Figure size 432x288 with 1 Axes>"
      ]
     },
     "metadata": {
      "needs_background": "light"
     },
     "output_type": "display_data"
    }
   ],
   "source": [
    "plt.scatter(y_test,pred_test_rr)\n",
    "plt.xlabel(\"Fracture Toughness\")\n",
    "plt.ylabel(\"Predicted Fracture Toughness\")"
   ]
  },
  {
   "cell_type": "markdown",
   "metadata": {},
   "source": [
    "## Elastic net"
   ]
  },
  {
   "cell_type": "code",
   "execution_count": 224,
   "metadata": {},
   "outputs": [
    {
     "name": "stdout",
     "output_type": "stream",
     "text": [
      "0.1076832348569316\n",
      "0.13203330094253618\n",
      "0.08572614641810336\n",
      "0.04685040703759935\n"
     ]
    }
   ],
   "source": [
    "#Elastic Net\n",
    "model_enet = ElasticNet(alpha = 0.01)\n",
    "model_enet.fit(X_train, y_train) \n",
    "pred_train_enet= model_enet.predict(X_train)\n",
    "print(np.sqrt(mean_squared_error(y_train,pred_train_enet)))\n",
    "print(r2_score(y_train, pred_train_enet))\n",
    "\n",
    "pred_test_enet= model_enet.predict(X_test)\n",
    "print(np.sqrt(mean_squared_error(y_test,pred_test_enet)))\n",
    "print(r2_score(y_test, pred_test_enet))"
   ]
  },
  {
   "cell_type": "code",
   "execution_count": 225,
   "metadata": {},
   "outputs": [
    {
     "data": {
      "text/plain": [
       "Text(0, 0.5, 'Predicted Fracture Toughness')"
      ]
     },
     "execution_count": 225,
     "metadata": {},
     "output_type": "execute_result"
    },
    {
     "data": {
      "image/png": "[encoded data removed]",
      "text/plain": [
       "<Figure size 432x288 with 1 Axes>"
      ]
     },
     "metadata": {
      "needs_background": "light"
     },
     "output_type": "display_data"
    }
   ],
   "source": [
    "plt.scatter(y_test,pred_test_enet)\n",
    "plt.xlabel(\"Fracture Toughness\")\n",
    "plt.ylabel(\"Predicted Fracture Toughness\")"
   ]
  },
  {
   "cell_type": "markdown",
   "metadata": {},
   "source": [
    "### Lasso - 2"
   ]
  },
  {
   "cell_type": "code",
   "execution_count": 236,
   "metadata": {},
   "outputs": [
    {
     "name": "stdout",
     "output_type": "stream",
     "text": [
      "0.11552076321410208\n",
      "0.0010885871430675875\n",
      "0.0897784886421765\n",
      "-0.04539169025297607\n"
     ]
    }
   ],
   "source": [
    "model_lasso = Lasso(alpha=0.01)\n",
    "model_lasso.fit(X_train, y_train) \n",
    "pred_train_lasso= model_lasso.predict(X_train)\n",
    "print(np.sqrt(mean_squared_error(y_train,pred_train_lasso)))\n",
    "print(r2_score(y_train, pred_train_lasso))\n",
    "\n",
    "pred_test_lasso= model_lasso.predict(X_test)\n",
    "print(np.sqrt(mean_squared_error(y_test,pred_test_lasso))) \n",
    "print(r2_score(y_test, pred_test_lasso))"
   ]
  },
  {
   "cell_type": "code",
   "execution_count": 237,
   "metadata": {},
   "outputs": [
    {
     "data": {
      "text/plain": [
       "Text(0, 0.5, 'Predicted Fracture Toughness')"
      ]
     },
     "execution_count": 237,
     "metadata": {},
     "output_type": "execute_result"
    },
    {
     "data": {
      "image/png": "[encoded data removed]",
      "text/plain": [
       "<Figure size 432x288 with 1 Axes>"
      ]
     },
     "metadata": {
      "needs_background": "light"
     },
     "output_type": "display_data"
    }
   ],
   "source": [
    "plt.scatter(y_test,pred_test_lasso)\n",
    "plt.xlabel(\"Fracture Toughness\")\n",
    "plt.ylabel(\"Predicted Fracture Toughness\")"
   ]
  },
  {
   "cell_type": "code",
   "execution_count": null,
   "metadata": {},
   "outputs": [],
   "source": []
  }
 ],
 "metadata": {
  "kernelspec": {
   "display_name": "Python 3",
   "language": "python",
   "name": "python3"
  },
  "language_info": {
   "codemirror_mode": {
    "name": "ipython",
    "version": 3
   },
   "file_extension": ".py",
   "mimetype": "text/x-python",
   "name": "python",
   "nbconvert_exporter": "python",
   "pygments_lexer": "ipython3",
   "version": "3.8.5"
  }
 },
 "nbformat": 4,
 "nbformat_minor": 4
}
