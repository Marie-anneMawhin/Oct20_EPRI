{
 "cells": [
  {
   "cell_type": "code",
   "execution_count": 296,
   "metadata": {},
   "outputs": [
    {
     "data": {
      "text/plain": [
       "<module 'epri_mc_lib_2' from '/Users/apple/Desktop/s2ds/work_project/Oct20_EPRI/Task2/NB/epri_mc_lib_2.py'>"
      ]
     },
     "execution_count": 296,
     "metadata": {},
     "output_type": "execute_result"
    }
   ],
   "source": [
    "import pandas as pd\n",
    "import numpy as np\n",
    "import matplotlib.pyplot as plt\n",
    "import seaborn as sns\n",
    "from scipy.cluster import hierarchy\n",
    "from sklearn.preprocessing import MinMaxScaler\n",
    "import os, glob, inspect, sys\n",
    "import re\n",
    "\n",
    "currentdir = os.path.dirname(os.path.abspath(inspect.getfile(inspect.currentframe())))\n",
    "parentdir = os.path.dirname(currentdir)\n",
    "sys.path.insert(0,parentdir) \n",
    "import epri_mc_lib_2 as mc\n",
    "from importlib import reload\n",
    "reload(mc)\n"
   ]
  },
  {
   "cell_type": "code",
   "execution_count": 297,
   "metadata": {},
   "outputs": [],
   "source": [
    "from sklearn import model_selection\n",
    "from sklearn.linear_model import LinearRegression\n",
    "from sklearn.linear_model import Ridge\n",
    "from sklearn.linear_model import Lasso\n",
    "from sklearn.linear_model import ElasticNet\n",
    "from sklearn.neighbors import KNeighborsRegressor\n",
    "from sklearn.tree import DecisionTreeRegressor\n",
    "from sklearn.svm import SVR\n",
    "from sklearn.ensemble import RandomForestRegressor\n",
    "from sklearn.metrics import r2_score\n",
    "from sklearn.model_selection import train_test_split\n",
    "from sklearn.metrics import mean_squared_error\n",
    "from math import sqrt"
   ]
  },
  {
   "cell_type": "markdown",
   "metadata": {},
   "source": [
    "### Import data and merge replicates"
   ]
  },
  {
   "cell_type": "code",
   "execution_count": 298,
   "metadata": {},
   "outputs": [],
   "source": [
    "merged = pd.read_csv(os.path.join(os.path.dirname(os.getcwd()), '../Data/Merged_data/MERGE_FT_TEP_UT_on_ID.csv'),\n",
    "                    index_col=0)\n",
    "merged.index = merged.index.str.rstrip('-12345')\n",
    "mean_df = merged.groupby('ID').mean()\n",
    "# Get rid of cold work\n",
    "cw_regex = re.compile(\"[0-9]+$\") \n",
    "mean_df['cold_work'] = [int(re.search(cw_regex,x).group()) for x in mean_df.index]\n",
    "mean_df.index = mean_df.index.str.rstrip('02468')\n",
    "mean_df.index = mean_df.index.str.rstrip('-')"
   ]
  },
  {
   "cell_type": "code",
   "execution_count": 299,
   "metadata": {},
   "outputs": [
    {
     "data": {
      "text/html": [
       "<div>\n",
       "<style scoped>\n",
       "    .dataframe tbody tr th:only-of-type {\n",
       "        vertical-align: middle;\n",
       "    }\n",
       "\n",
       "    .dataframe tbody tr th {\n",
       "        vertical-align: top;\n",
       "    }\n",
       "\n",
       "    .dataframe thead th {\n",
       "        text-align: right;\n",
       "    }\n",
       "</style>\n",
       "<table border=\"1\" class=\"dataframe\">\n",
       "  <thead>\n",
       "    <tr style=\"text-align: right;\">\n",
       "      <th></th>\n",
       "      <th>KJIC</th>\n",
       "      <th>MS_Avg</th>\n",
       "      <th>MS_neg_error</th>\n",
       "      <th>MS_pos_error</th>\n",
       "      <th>TEP_average</th>\n",
       "      <th>TEP_error</th>\n",
       "      <th>Beta_avg</th>\n",
       "      <th>PC_IF_2.25MHz</th>\n",
       "      <th>SE_IF_2.25MHz</th>\n",
       "      <th>SE_%_IF_2.25MHz</th>\n",
       "      <th>PC_IF_3.5MHz</th>\n",
       "      <th>SE_IF_3.5MHz</th>\n",
       "      <th>SE_%_IF_3.5MHz</th>\n",
       "      <th>PC_BS</th>\n",
       "      <th>cold_work</th>\n",
       "    </tr>\n",
       "    <tr>\n",
       "      <th>ID</th>\n",
       "      <th></th>\n",
       "      <th></th>\n",
       "      <th></th>\n",
       "      <th></th>\n",
       "      <th></th>\n",
       "      <th></th>\n",
       "      <th></th>\n",
       "      <th></th>\n",
       "      <th></th>\n",
       "      <th></th>\n",
       "      <th></th>\n",
       "      <th></th>\n",
       "      <th></th>\n",
       "      <th></th>\n",
       "      <th></th>\n",
       "    </tr>\n",
       "  </thead>\n",
       "  <tbody>\n",
       "    <tr>\n",
       "      <th>304</th>\n",
       "      <td>162.000000</td>\n",
       "      <td>0.12000</td>\n",
       "      <td>0.0350</td>\n",
       "      <td>0.08600</td>\n",
       "      <td>-1.54700</td>\n",
       "      <td>0.04900</td>\n",
       "      <td>0.002743</td>\n",
       "      <td>0.0</td>\n",
       "      <td>0.013</td>\n",
       "      <td>2.9</td>\n",
       "      <td>0.0</td>\n",
       "      <td>0.005</td>\n",
       "      <td>1.3</td>\n",
       "      <td>0.0</td>\n",
       "      <td>0</td>\n",
       "    </tr>\n",
       "    <tr>\n",
       "      <th>304</th>\n",
       "      <td>105.780000</td>\n",
       "      <td>0.49600</td>\n",
       "      <td>0.1770</td>\n",
       "      <td>0.23900</td>\n",
       "      <td>-1.32200</td>\n",
       "      <td>0.06300</td>\n",
       "      <td>0.002093</td>\n",
       "      <td>50.0</td>\n",
       "      <td>0.014</td>\n",
       "      <td>2.0</td>\n",
       "      <td>59.0</td>\n",
       "      <td>0.006</td>\n",
       "      <td>1.1</td>\n",
       "      <td>-12.0</td>\n",
       "      <td>20</td>\n",
       "    </tr>\n",
       "    <tr>\n",
       "      <th>304</th>\n",
       "      <td>100.700000</td>\n",
       "      <td>1.35000</td>\n",
       "      <td>0.3770</td>\n",
       "      <td>0.37700</td>\n",
       "      <td>-1.21600</td>\n",
       "      <td>0.05300</td>\n",
       "      <td>0.001941</td>\n",
       "      <td>57.0</td>\n",
       "      <td>0.022</td>\n",
       "      <td>3.0</td>\n",
       "      <td>79.0</td>\n",
       "      <td>0.012</td>\n",
       "      <td>1.9</td>\n",
       "      <td>-20.0</td>\n",
       "      <td>40</td>\n",
       "    </tr>\n",
       "    <tr>\n",
       "      <th>304</th>\n",
       "      <td>91.320000</td>\n",
       "      <td>1.37100</td>\n",
       "      <td>0.5310</td>\n",
       "      <td>0.90900</td>\n",
       "      <td>-1.24900</td>\n",
       "      <td>0.05200</td>\n",
       "      <td>0.002567</td>\n",
       "      <td>98.0</td>\n",
       "      <td>0.010</td>\n",
       "      <td>1.1</td>\n",
       "      <td>139.0</td>\n",
       "      <td>0.015</td>\n",
       "      <td>1.7</td>\n",
       "      <td>3.0</td>\n",
       "      <td>60</td>\n",
       "    </tr>\n",
       "    <tr>\n",
       "      <th>304</th>\n",
       "      <td>73.775000</td>\n",
       "      <td>3.96600</td>\n",
       "      <td>1.3495</td>\n",
       "      <td>2.47650</td>\n",
       "      <td>-0.97600</td>\n",
       "      <td>0.06425</td>\n",
       "      <td>0.002420</td>\n",
       "      <td>94.0</td>\n",
       "      <td>0.024</td>\n",
       "      <td>2.7</td>\n",
       "      <td>149.0</td>\n",
       "      <td>0.021</td>\n",
       "      <td>2.4</td>\n",
       "      <td>10.0</td>\n",
       "      <td>80</td>\n",
       "    </tr>\n",
       "    <tr>\n",
       "      <th>316</th>\n",
       "      <td>111.240000</td>\n",
       "      <td>0.03900</td>\n",
       "      <td>0.0140</td>\n",
       "      <td>0.01700</td>\n",
       "      <td>-1.50600</td>\n",
       "      <td>0.04600</td>\n",
       "      <td>0.002433</td>\n",
       "      <td>0.0</td>\n",
       "      <td>0.021</td>\n",
       "      <td>4.6</td>\n",
       "      <td>0.0</td>\n",
       "      <td>0.010</td>\n",
       "      <td>2.4</td>\n",
       "      <td>0.0</td>\n",
       "      <td>0</td>\n",
       "    </tr>\n",
       "    <tr>\n",
       "      <th>316</th>\n",
       "      <td>69.960000</td>\n",
       "      <td>0.03600</td>\n",
       "      <td>0.0100</td>\n",
       "      <td>0.01600</td>\n",
       "      <td>-1.57300</td>\n",
       "      <td>0.04500</td>\n",
       "      <td>0.002785</td>\n",
       "      <td>42.0</td>\n",
       "      <td>0.032</td>\n",
       "      <td>5.0</td>\n",
       "      <td>37.0</td>\n",
       "      <td>0.004</td>\n",
       "      <td>0.7</td>\n",
       "      <td>30.0</td>\n",
       "      <td>20</td>\n",
       "    </tr>\n",
       "    <tr>\n",
       "      <th>316</th>\n",
       "      <td>68.220000</td>\n",
       "      <td>0.04400</td>\n",
       "      <td>0.0160</td>\n",
       "      <td>0.01700</td>\n",
       "      <td>-1.64000</td>\n",
       "      <td>0.04400</td>\n",
       "      <td>0.002494</td>\n",
       "      <td>70.0</td>\n",
       "      <td>0.007</td>\n",
       "      <td>1.0</td>\n",
       "      <td>60.0</td>\n",
       "      <td>0.005</td>\n",
       "      <td>0.8</td>\n",
       "      <td>-34.0</td>\n",
       "      <td>40</td>\n",
       "    </tr>\n",
       "    <tr>\n",
       "      <th>316</th>\n",
       "      <td>69.000000</td>\n",
       "      <td>0.04925</td>\n",
       "      <td>0.0165</td>\n",
       "      <td>0.03275</td>\n",
       "      <td>-1.67375</td>\n",
       "      <td>0.04500</td>\n",
       "      <td>0.002292</td>\n",
       "      <td>117.0</td>\n",
       "      <td>0.017</td>\n",
       "      <td>1.8</td>\n",
       "      <td>200.0</td>\n",
       "      <td>0.013</td>\n",
       "      <td>1.0</td>\n",
       "      <td>-57.0</td>\n",
       "      <td>60</td>\n",
       "    </tr>\n",
       "    <tr>\n",
       "      <th>316</th>\n",
       "      <td>59.400000</td>\n",
       "      <td>0.24700</td>\n",
       "      <td>0.1060</td>\n",
       "      <td>0.19900</td>\n",
       "      <td>-1.64500</td>\n",
       "      <td>0.04500</td>\n",
       "      <td>0.002553</td>\n",
       "      <td>113.0</td>\n",
       "      <td>0.024</td>\n",
       "      <td>2.5</td>\n",
       "      <td>131.0</td>\n",
       "      <td>0.063</td>\n",
       "      <td>6.6</td>\n",
       "      <td>-69.0</td>\n",
       "      <td>80</td>\n",
       "    </tr>\n",
       "    <tr>\n",
       "      <th>347</th>\n",
       "      <td>198.500000</td>\n",
       "      <td>0.02200</td>\n",
       "      <td>0.0050</td>\n",
       "      <td>0.01100</td>\n",
       "      <td>-1.43700</td>\n",
       "      <td>0.05000</td>\n",
       "      <td>0.002710</td>\n",
       "      <td>0.0</td>\n",
       "      <td>0.012</td>\n",
       "      <td>4.6</td>\n",
       "      <td>0.0</td>\n",
       "      <td>0.002</td>\n",
       "      <td>1.0</td>\n",
       "      <td>0.0</td>\n",
       "      <td>0</td>\n",
       "    </tr>\n",
       "    <tr>\n",
       "      <th>347</th>\n",
       "      <td>124.060000</td>\n",
       "      <td>0.34000</td>\n",
       "      <td>0.0880</td>\n",
       "      <td>0.33200</td>\n",
       "      <td>-1.36400</td>\n",
       "      <td>0.05300</td>\n",
       "      <td>0.001770</td>\n",
       "      <td>195.0</td>\n",
       "      <td>0.022</td>\n",
       "      <td>2.7</td>\n",
       "      <td>202.0</td>\n",
       "      <td>0.060</td>\n",
       "      <td>9.5</td>\n",
       "      <td>-25.0</td>\n",
       "      <td>20</td>\n",
       "    </tr>\n",
       "    <tr>\n",
       "      <th>347</th>\n",
       "      <td>89.880000</td>\n",
       "      <td>1.01150</td>\n",
       "      <td>0.2890</td>\n",
       "      <td>0.67250</td>\n",
       "      <td>-1.27925</td>\n",
       "      <td>0.05700</td>\n",
       "      <td>0.002237</td>\n",
       "      <td>182.0</td>\n",
       "      <td>0.006</td>\n",
       "      <td>0.8</td>\n",
       "      <td>241.0</td>\n",
       "      <td>0.017</td>\n",
       "      <td>2.3</td>\n",
       "      <td>-28.0</td>\n",
       "      <td>40</td>\n",
       "    </tr>\n",
       "    <tr>\n",
       "      <th>347</th>\n",
       "      <td>77.800000</td>\n",
       "      <td>3.13900</td>\n",
       "      <td>1.2520</td>\n",
       "      <td>2.62300</td>\n",
       "      <td>-1.10000</td>\n",
       "      <td>0.05800</td>\n",
       "      <td>0.002429</td>\n",
       "      <td>206.0</td>\n",
       "      <td>0.030</td>\n",
       "      <td>3.7</td>\n",
       "      <td>287.0</td>\n",
       "      <td>0.015</td>\n",
       "      <td>1.8</td>\n",
       "      <td>-33.0</td>\n",
       "      <td>60</td>\n",
       "    </tr>\n",
       "    <tr>\n",
       "      <th>347</th>\n",
       "      <td>74.000000</td>\n",
       "      <td>6.39100</td>\n",
       "      <td>2.3380</td>\n",
       "      <td>2.81500</td>\n",
       "      <td>-0.82200</td>\n",
       "      <td>0.06900</td>\n",
       "      <td>0.002559</td>\n",
       "      <td>206.0</td>\n",
       "      <td>0.018</td>\n",
       "      <td>2.2</td>\n",
       "      <td>255.0</td>\n",
       "      <td>0.008</td>\n",
       "      <td>1.0</td>\n",
       "      <td>-39.0</td>\n",
       "      <td>80</td>\n",
       "    </tr>\n",
       "    <tr>\n",
       "      <th>A286</th>\n",
       "      <td>187.025000</td>\n",
       "      <td>0.01000</td>\n",
       "      <td>0.0020</td>\n",
       "      <td>0.00200</td>\n",
       "      <td>-1.32800</td>\n",
       "      <td>0.04500</td>\n",
       "      <td>0.002274</td>\n",
       "      <td>0.0</td>\n",
       "      <td>0.010</td>\n",
       "      <td>4.6</td>\n",
       "      <td>0.0</td>\n",
       "      <td>0.003</td>\n",
       "      <td>1.7</td>\n",
       "      <td>0.0</td>\n",
       "      <td>0</td>\n",
       "    </tr>\n",
       "    <tr>\n",
       "      <th>A286</th>\n",
       "      <td>71.950000</td>\n",
       "      <td>0.00925</td>\n",
       "      <td>0.0020</td>\n",
       "      <td>0.00200</td>\n",
       "      <td>-1.24500</td>\n",
       "      <td>0.04525</td>\n",
       "      <td>0.002070</td>\n",
       "      <td>601.0</td>\n",
       "      <td>0.023</td>\n",
       "      <td>1.6</td>\n",
       "      <td>1136.0</td>\n",
       "      <td>0.011</td>\n",
       "      <td>0.5</td>\n",
       "      <td>-18.0</td>\n",
       "      <td>20</td>\n",
       "    </tr>\n",
       "    <tr>\n",
       "      <th>A286</th>\n",
       "      <td>NaN</td>\n",
       "      <td>0.00900</td>\n",
       "      <td>0.0020</td>\n",
       "      <td>0.00200</td>\n",
       "      <td>-1.28900</td>\n",
       "      <td>0.04500</td>\n",
       "      <td>0.002340</td>\n",
       "      <td>523.0</td>\n",
       "      <td>0.023</td>\n",
       "      <td>1.8</td>\n",
       "      <td>817.0</td>\n",
       "      <td>0.015</td>\n",
       "      <td>1.0</td>\n",
       "      <td>-46.0</td>\n",
       "      <td>40</td>\n",
       "    </tr>\n",
       "    <tr>\n",
       "      <th>A286</th>\n",
       "      <td>47.166667</td>\n",
       "      <td>0.01000</td>\n",
       "      <td>0.0020</td>\n",
       "      <td>0.00200</td>\n",
       "      <td>-1.37100</td>\n",
       "      <td>0.04700</td>\n",
       "      <td>0.002363</td>\n",
       "      <td>530.0</td>\n",
       "      <td>0.013</td>\n",
       "      <td>1.0</td>\n",
       "      <td>880.0</td>\n",
       "      <td>0.016</td>\n",
       "      <td>0.9</td>\n",
       "      <td>-40.0</td>\n",
       "      <td>60</td>\n",
       "    </tr>\n",
       "    <tr>\n",
       "      <th>A286</th>\n",
       "      <td>51.400000</td>\n",
       "      <td>0.01000</td>\n",
       "      <td>0.0020</td>\n",
       "      <td>0.00200</td>\n",
       "      <td>-1.46600</td>\n",
       "      <td>0.04700</td>\n",
       "      <td>0.002187</td>\n",
       "      <td>501.0</td>\n",
       "      <td>0.025</td>\n",
       "      <td>2.0</td>\n",
       "      <td>759.0</td>\n",
       "      <td>0.022</td>\n",
       "      <td>1.5</td>\n",
       "      <td>-64.0</td>\n",
       "      <td>80</td>\n",
       "    </tr>\n",
       "  </tbody>\n",
       "</table>\n",
       "</div>"
      ],
      "text/plain": [
       "            KJIC   MS_Avg  MS_neg_error  MS_pos_error  TEP_average  TEP_error  \\\n",
       "ID                                                                              \n",
       "304   162.000000  0.12000        0.0350       0.08600     -1.54700    0.04900   \n",
       "304   105.780000  0.49600        0.1770       0.23900     -1.32200    0.06300   \n",
       "304   100.700000  1.35000        0.3770       0.37700     -1.21600    0.05300   \n",
       "304    91.320000  1.37100        0.5310       0.90900     -1.24900    0.05200   \n",
       "304    73.775000  3.96600        1.3495       2.47650     -0.97600    0.06425   \n",
       "316   111.240000  0.03900        0.0140       0.01700     -1.50600    0.04600   \n",
       "316    69.960000  0.03600        0.0100       0.01600     -1.57300    0.04500   \n",
       "316    68.220000  0.04400        0.0160       0.01700     -1.64000    0.04400   \n",
       "316    69.000000  0.04925        0.0165       0.03275     -1.67375    0.04500   \n",
       "316    59.400000  0.24700        0.1060       0.19900     -1.64500    0.04500   \n",
       "347   198.500000  0.02200        0.0050       0.01100     -1.43700    0.05000   \n",
       "347   124.060000  0.34000        0.0880       0.33200     -1.36400    0.05300   \n",
       "347    89.880000  1.01150        0.2890       0.67250     -1.27925    0.05700   \n",
       "347    77.800000  3.13900        1.2520       2.62300     -1.10000    0.05800   \n",
       "347    74.000000  6.39100        2.3380       2.81500     -0.82200    0.06900   \n",
       "A286  187.025000  0.01000        0.0020       0.00200     -1.32800    0.04500   \n",
       "A286   71.950000  0.00925        0.0020       0.00200     -1.24500    0.04525   \n",
       "A286         NaN  0.00900        0.0020       0.00200     -1.28900    0.04500   \n",
       "A286   47.166667  0.01000        0.0020       0.00200     -1.37100    0.04700   \n",
       "A286   51.400000  0.01000        0.0020       0.00200     -1.46600    0.04700   \n",
       "\n",
       "      Beta_avg  PC_IF_2.25MHz  SE_IF_2.25MHz  SE_%_IF_2.25MHz  PC_IF_3.5MHz  \\\n",
       "ID                                                                            \n",
       "304   0.002743            0.0          0.013              2.9           0.0   \n",
       "304   0.002093           50.0          0.014              2.0          59.0   \n",
       "304   0.001941           57.0          0.022              3.0          79.0   \n",
       "304   0.002567           98.0          0.010              1.1         139.0   \n",
       "304   0.002420           94.0          0.024              2.7         149.0   \n",
       "316   0.002433            0.0          0.021              4.6           0.0   \n",
       "316   0.002785           42.0          0.032              5.0          37.0   \n",
       "316   0.002494           70.0          0.007              1.0          60.0   \n",
       "316   0.002292          117.0          0.017              1.8         200.0   \n",
       "316   0.002553          113.0          0.024              2.5         131.0   \n",
       "347   0.002710            0.0          0.012              4.6           0.0   \n",
       "347   0.001770          195.0          0.022              2.7         202.0   \n",
       "347   0.002237          182.0          0.006              0.8         241.0   \n",
       "347   0.002429          206.0          0.030              3.7         287.0   \n",
       "347   0.002559          206.0          0.018              2.2         255.0   \n",
       "A286  0.002274            0.0          0.010              4.6           0.0   \n",
       "A286  0.002070          601.0          0.023              1.6        1136.0   \n",
       "A286  0.002340          523.0          0.023              1.8         817.0   \n",
       "A286  0.002363          530.0          0.013              1.0         880.0   \n",
       "A286  0.002187          501.0          0.025              2.0         759.0   \n",
       "\n",
       "      SE_IF_3.5MHz  SE_%_IF_3.5MHz  PC_BS  cold_work  \n",
       "ID                                                    \n",
       "304          0.005             1.3    0.0          0  \n",
       "304          0.006             1.1  -12.0         20  \n",
       "304          0.012             1.9  -20.0         40  \n",
       "304          0.015             1.7    3.0         60  \n",
       "304          0.021             2.4   10.0         80  \n",
       "316          0.010             2.4    0.0          0  \n",
       "316          0.004             0.7   30.0         20  \n",
       "316          0.005             0.8  -34.0         40  \n",
       "316          0.013             1.0  -57.0         60  \n",
       "316          0.063             6.6  -69.0         80  \n",
       "347          0.002             1.0    0.0          0  \n",
       "347          0.060             9.5  -25.0         20  \n",
       "347          0.017             2.3  -28.0         40  \n",
       "347          0.015             1.8  -33.0         60  \n",
       "347          0.008             1.0  -39.0         80  \n",
       "A286         0.003             1.7    0.0          0  \n",
       "A286         0.011             0.5  -18.0         20  \n",
       "A286         0.015             1.0  -46.0         40  \n",
       "A286         0.016             0.9  -40.0         60  \n",
       "A286         0.022             1.5  -64.0         80  "
      ]
     },
     "execution_count": 299,
     "metadata": {},
     "output_type": "execute_result"
    }
   ],
   "source": [
    "mean_df"
   ]
  },
  {
   "cell_type": "markdown",
   "metadata": {},
   "source": [
    "## Select columns of interest"
   ]
  },
  {
   "cell_type": "code",
   "execution_count": 300,
   "metadata": {},
   "outputs": [],
   "source": [
    "mean_df = mean_df[mc.regression_cols_real_data].dropna()"
   ]
  },
  {
   "cell_type": "code",
   "execution_count": 303,
   "metadata": {},
   "outputs": [
    {
     "data": {
      "text/html": [
       "<div>\n",
       "<style scoped>\n",
       "    .dataframe tbody tr th:only-of-type {\n",
       "        vertical-align: middle;\n",
       "    }\n",
       "\n",
       "    .dataframe tbody tr th {\n",
       "        vertical-align: top;\n",
       "    }\n",
       "\n",
       "    .dataframe thead th {\n",
       "        text-align: right;\n",
       "    }\n",
       "</style>\n",
       "<table border=\"1\" class=\"dataframe\">\n",
       "  <thead>\n",
       "    <tr style=\"text-align: right;\">\n",
       "      <th></th>\n",
       "      <th>KJIC</th>\n",
       "      <th>TEP_average</th>\n",
       "      <th>PC_IF_2.25MHz</th>\n",
       "      <th>PC_IF_3.5MHz</th>\n",
       "      <th>PC_BS</th>\n",
       "    </tr>\n",
       "    <tr>\n",
       "      <th>ID</th>\n",
       "      <th></th>\n",
       "      <th></th>\n",
       "      <th></th>\n",
       "      <th></th>\n",
       "      <th></th>\n",
       "    </tr>\n",
       "  </thead>\n",
       "  <tbody>\n",
       "    <tr>\n",
       "      <th>347</th>\n",
       "      <td>198.50</td>\n",
       "      <td>-1.43700</td>\n",
       "      <td>0.0</td>\n",
       "      <td>0.0</td>\n",
       "      <td>0.0</td>\n",
       "    </tr>\n",
       "    <tr>\n",
       "      <th>347</th>\n",
       "      <td>124.06</td>\n",
       "      <td>-1.36400</td>\n",
       "      <td>195.0</td>\n",
       "      <td>202.0</td>\n",
       "      <td>-25.0</td>\n",
       "    </tr>\n",
       "    <tr>\n",
       "      <th>347</th>\n",
       "      <td>89.88</td>\n",
       "      <td>-1.27925</td>\n",
       "      <td>182.0</td>\n",
       "      <td>241.0</td>\n",
       "      <td>-28.0</td>\n",
       "    </tr>\n",
       "    <tr>\n",
       "      <th>347</th>\n",
       "      <td>77.80</td>\n",
       "      <td>-1.10000</td>\n",
       "      <td>206.0</td>\n",
       "      <td>287.0</td>\n",
       "      <td>-33.0</td>\n",
       "    </tr>\n",
       "    <tr>\n",
       "      <th>347</th>\n",
       "      <td>74.00</td>\n",
       "      <td>-0.82200</td>\n",
       "      <td>206.0</td>\n",
       "      <td>255.0</td>\n",
       "      <td>-39.0</td>\n",
       "    </tr>\n",
       "  </tbody>\n",
       "</table>\n",
       "</div>"
      ],
      "text/plain": [
       "       KJIC  TEP_average  PC_IF_2.25MHz  PC_IF_3.5MHz  PC_BS\n",
       "ID                                                          \n",
       "347  198.50     -1.43700            0.0           0.0    0.0\n",
       "347  124.06     -1.36400          195.0         202.0  -25.0\n",
       "347   89.88     -1.27925          182.0         241.0  -28.0\n",
       "347   77.80     -1.10000          206.0         287.0  -33.0\n",
       "347   74.00     -0.82200          206.0         255.0  -39.0"
      ]
     },
     "execution_count": 303,
     "metadata": {},
     "output_type": "execute_result"
    }
   ],
   "source": [
    "mean_df=mean_df.iloc[10:15]\n",
    "mean_df"
   ]
  },
  {
   "cell_type": "markdown",
   "metadata": {},
   "source": [
    "## Scale data"
   ]
  },
  {
   "cell_type": "code",
   "execution_count": 304,
   "metadata": {},
   "outputs": [
    {
     "name": "stderr",
     "output_type": "stream",
     "text": [
      "/opt/anaconda3/envs/epri/lib/python3.8/site-packages/pandas/core/generic.py:5208: SettingWithCopyWarning: \n",
      "A value is trying to be set on a copy of a slice from a DataFrame.\n",
      "Try using .loc[row_indexer,col_indexer] = value instead\n",
      "\n",
      "See the caveats in the documentation: http://pandas.pydata.org/pandas-docs/stable/user_guide/indexing.html#returning-a-view-versus-a-copy\n",
      "  self[name] = value\n"
     ]
    },
    {
     "data": {
      "text/html": [
       "<div>\n",
       "<style scoped>\n",
       "    .dataframe tbody tr th:only-of-type {\n",
       "        vertical-align: middle;\n",
       "    }\n",
       "\n",
       "    .dataframe tbody tr th {\n",
       "        vertical-align: top;\n",
       "    }\n",
       "\n",
       "    .dataframe thead th {\n",
       "        text-align: right;\n",
       "    }\n",
       "</style>\n",
       "<table border=\"1\" class=\"dataframe\">\n",
       "  <thead>\n",
       "    <tr style=\"text-align: right;\">\n",
       "      <th></th>\n",
       "      <th>KJIC</th>\n",
       "      <th>TEP_average</th>\n",
       "      <th>PC_IF_2.25MHz</th>\n",
       "      <th>PC_IF_3.5MHz</th>\n",
       "      <th>PC_BS</th>\n",
       "    </tr>\n",
       "    <tr>\n",
       "      <th>ID</th>\n",
       "      <th></th>\n",
       "      <th></th>\n",
       "      <th></th>\n",
       "      <th></th>\n",
       "      <th></th>\n",
       "    </tr>\n",
       "  </thead>\n",
       "  <tbody>\n",
       "    <tr>\n",
       "      <th>347</th>\n",
       "      <td>1.000000</td>\n",
       "      <td>0.000000</td>\n",
       "      <td>0.000000</td>\n",
       "      <td>0.000000</td>\n",
       "      <td>1.000000</td>\n",
       "    </tr>\n",
       "    <tr>\n",
       "      <th>347</th>\n",
       "      <td>0.523652</td>\n",
       "      <td>0.118699</td>\n",
       "      <td>0.946602</td>\n",
       "      <td>0.703833</td>\n",
       "      <td>0.358974</td>\n",
       "    </tr>\n",
       "    <tr>\n",
       "      <th>347</th>\n",
       "      <td>0.197026</td>\n",
       "      <td>0.256504</td>\n",
       "      <td>0.883495</td>\n",
       "      <td>0.839721</td>\n",
       "      <td>0.282051</td>\n",
       "    </tr>\n",
       "    <tr>\n",
       "      <th>347</th>\n",
       "      <td>0.050750</td>\n",
       "      <td>0.547967</td>\n",
       "      <td>1.000000</td>\n",
       "      <td>1.000000</td>\n",
       "      <td>0.153846</td>\n",
       "    </tr>\n",
       "    <tr>\n",
       "      <th>347</th>\n",
       "      <td>0.000000</td>\n",
       "      <td>1.000000</td>\n",
       "      <td>1.000000</td>\n",
       "      <td>0.888502</td>\n",
       "      <td>0.000000</td>\n",
       "    </tr>\n",
       "  </tbody>\n",
       "</table>\n",
       "</div>"
      ],
      "text/plain": [
       "         KJIC  TEP_average  PC_IF_2.25MHz  PC_IF_3.5MHz     PC_BS\n",
       "ID                                                               \n",
       "347  1.000000     0.000000       0.000000      0.000000  1.000000\n",
       "347  0.523652     0.118699       0.946602      0.703833  0.358974\n",
       "347  0.197026     0.256504       0.883495      0.839721  0.282051\n",
       "347  0.050750     0.547967       1.000000      1.000000  0.153846\n",
       "347  0.000000     1.000000       1.000000      0.888502  0.000000"
      ]
     },
     "execution_count": 304,
     "metadata": {},
     "output_type": "execute_result"
    }
   ],
   "source": [
    "mean_df.KJIC = np.log(mean_df.KJIC)\n",
    "scaled_df = mc.scale_general(mean_df, MinMaxScaler())\n",
    "scaled_df[0]"
   ]
  },
  {
   "cell_type": "code",
   "execution_count": 305,
   "metadata": {},
   "outputs": [
    {
     "data": {
      "text/plain": [
       "<AxesSubplot:>"
      ]
     },
     "execution_count": 305,
     "metadata": {},
     "output_type": "execute_result"
    },
    {
     "data": {
      "image/png": "[encoded data removed]",
      "text/plain": [
       "<Figure size 432x288 with 2 Axes>"
      ]
     },
     "metadata": {
      "needs_background": "light"
     },
     "output_type": "display_data"
    }
   ],
   "source": [
    "sns.heatmap(mean_df.corr())"
   ]
  },
  {
   "cell_type": "code",
   "execution_count": 306,
   "metadata": {},
   "outputs": [],
   "source": [
    "# Creating Predictor variable 'X' and Target Variable 'y'\n",
    "\n",
    "# X contains all the features except for the target value Price\n",
    "X = scaled_df[0].drop('KJIC', axis = 1)\n",
    "y = scaled_df[0]['KJIC']"
   ]
  },
  {
   "cell_type": "code",
   "execution_count": 307,
   "metadata": {},
   "outputs": [
    {
     "data": {
      "text/html": [
       "<div>\n",
       "<style scoped>\n",
       "    .dataframe tbody tr th:only-of-type {\n",
       "        vertical-align: middle;\n",
       "    }\n",
       "\n",
       "    .dataframe tbody tr th {\n",
       "        vertical-align: top;\n",
       "    }\n",
       "\n",
       "    .dataframe thead th {\n",
       "        text-align: right;\n",
       "    }\n",
       "</style>\n",
       "<table border=\"1\" class=\"dataframe\">\n",
       "  <thead>\n",
       "    <tr style=\"text-align: right;\">\n",
       "      <th></th>\n",
       "      <th>TEP_average</th>\n",
       "      <th>PC_IF_2.25MHz</th>\n",
       "      <th>PC_IF_3.5MHz</th>\n",
       "      <th>PC_BS</th>\n",
       "    </tr>\n",
       "    <tr>\n",
       "      <th>ID</th>\n",
       "      <th></th>\n",
       "      <th></th>\n",
       "      <th></th>\n",
       "      <th></th>\n",
       "    </tr>\n",
       "  </thead>\n",
       "  <tbody>\n",
       "    <tr>\n",
       "      <th>347</th>\n",
       "      <td>0.000000</td>\n",
       "      <td>0.000000</td>\n",
       "      <td>0.000000</td>\n",
       "      <td>1.000000</td>\n",
       "    </tr>\n",
       "    <tr>\n",
       "      <th>347</th>\n",
       "      <td>0.118699</td>\n",
       "      <td>0.946602</td>\n",
       "      <td>0.703833</td>\n",
       "      <td>0.358974</td>\n",
       "    </tr>\n",
       "    <tr>\n",
       "      <th>347</th>\n",
       "      <td>0.256504</td>\n",
       "      <td>0.883495</td>\n",
       "      <td>0.839721</td>\n",
       "      <td>0.282051</td>\n",
       "    </tr>\n",
       "    <tr>\n",
       "      <th>347</th>\n",
       "      <td>0.547967</td>\n",
       "      <td>1.000000</td>\n",
       "      <td>1.000000</td>\n",
       "      <td>0.153846</td>\n",
       "    </tr>\n",
       "    <tr>\n",
       "      <th>347</th>\n",
       "      <td>1.000000</td>\n",
       "      <td>1.000000</td>\n",
       "      <td>0.888502</td>\n",
       "      <td>0.000000</td>\n",
       "    </tr>\n",
       "  </tbody>\n",
       "</table>\n",
       "</div>"
      ],
      "text/plain": [
       "     TEP_average  PC_IF_2.25MHz  PC_IF_3.5MHz     PC_BS\n",
       "ID                                                     \n",
       "347     0.000000       0.000000      0.000000  1.000000\n",
       "347     0.118699       0.946602      0.703833  0.358974\n",
       "347     0.256504       0.883495      0.839721  0.282051\n",
       "347     0.547967       1.000000      1.000000  0.153846\n",
       "347     1.000000       1.000000      0.888502  0.000000"
      ]
     },
     "execution_count": 307,
     "metadata": {},
     "output_type": "execute_result"
    }
   ],
   "source": [
    "X"
   ]
  },
  {
   "cell_type": "code",
   "execution_count": 308,
   "metadata": {},
   "outputs": [],
   "source": [
    "from sklearn.model_selection import train_test_split"
   ]
  },
  {
   "cell_type": "code",
   "execution_count": 309,
   "metadata": {},
   "outputs": [
    {
     "name": "stdout",
     "output_type": "stream",
     "text": [
      "(3,)\n",
      "(2, 4)\n"
     ]
    }
   ],
   "source": [
    "X_train, X_test, y_train, y_test = train_test_split(X,y, test_size=0.3, random_state=50)\n",
    "\n",
    "# X_train contains 70% of total dataset\n",
    "print(y_train.shape)\n",
    "# X_test contains 30% of total dataset\n",
    "print(X_test.shape)"
   ]
  },
  {
   "cell_type": "markdown",
   "metadata": {},
   "source": [
    "## Linear Regression"
   ]
  },
  {
   "cell_type": "code",
   "execution_count": 310,
   "metadata": {},
   "outputs": [],
   "source": [
    "from sklearn.linear_model import LinearRegression"
   ]
  },
  {
   "cell_type": "code",
   "execution_count": 311,
   "metadata": {},
   "outputs": [],
   "source": [
    "lr = LinearRegression()"
   ]
  },
  {
   "cell_type": "code",
   "execution_count": 312,
   "metadata": {},
   "outputs": [
    {
     "data": {
      "text/plain": [
       "LinearRegression(copy_X=True, fit_intercept=True, n_jobs=None, normalize=False)"
      ]
     },
     "execution_count": 312,
     "metadata": {},
     "output_type": "execute_result"
    }
   ],
   "source": [
    "#Train/fit the model to training data\n",
    "lr.fit(X_train,y_train)"
   ]
  },
  {
   "cell_type": "code",
   "execution_count": 313,
   "metadata": {},
   "outputs": [
    {
     "name": "stdout",
     "output_type": "stream",
     "text": [
      "0.7454693768696549\n"
     ]
    },
    {
     "data": {
      "text/html": [
       "<div>\n",
       "<style scoped>\n",
       "    .dataframe tbody tr th:only-of-type {\n",
       "        vertical-align: middle;\n",
       "    }\n",
       "\n",
       "    .dataframe tbody tr th {\n",
       "        vertical-align: top;\n",
       "    }\n",
       "\n",
       "    .dataframe thead th {\n",
       "        text-align: right;\n",
       "    }\n",
       "</style>\n",
       "<table border=\"1\" class=\"dataframe\">\n",
       "  <thead>\n",
       "    <tr style=\"text-align: right;\">\n",
       "      <th></th>\n",
       "      <th>Coefficient</th>\n",
       "    </tr>\n",
       "  </thead>\n",
       "  <tbody>\n",
       "    <tr>\n",
       "      <th>TEP_average</th>\n",
       "      <td>-0.444678</td>\n",
       "    </tr>\n",
       "    <tr>\n",
       "      <th>PC_IF_2.25MHz</th>\n",
       "      <td>-0.143289</td>\n",
       "    </tr>\n",
       "    <tr>\n",
       "      <th>PC_IF_3.5MHz</th>\n",
       "      <td>-0.177268</td>\n",
       "    </tr>\n",
       "    <tr>\n",
       "      <th>PC_BS</th>\n",
       "      <td>0.254531</td>\n",
       "    </tr>\n",
       "  </tbody>\n",
       "</table>\n",
       "</div>"
      ],
      "text/plain": [
       "               Coefficient\n",
       "TEP_average      -0.444678\n",
       "PC_IF_2.25MHz    -0.143289\n",
       "PC_IF_3.5MHz     -0.177268\n",
       "PC_BS             0.254531"
      ]
     },
     "execution_count": 313,
     "metadata": {},
     "output_type": "execute_result"
    }
   ],
   "source": [
    "# print the intercept\n",
    "print(lr.intercept_)\n",
    "\n",
    "#Coefficients\n",
    "coeff_df = pd.DataFrame(lr.coef_,X.columns,columns=['Coefficient'])\n",
    "coeff_df"
   ]
  },
  {
   "cell_type": "code",
   "execution_count": 314,
   "metadata": {},
   "outputs": [],
   "source": [
    "pred = lr.predict(X_test)"
   ]
  },
  {
   "cell_type": "code",
   "execution_count": 315,
   "metadata": {},
   "outputs": [
    {
     "data": {
      "text/plain": [
       "Text(0, 0.5, 'Predicted Fracture Toughness')"
      ]
     },
     "execution_count": 315,
     "metadata": {},
     "output_type": "execute_result"
    },
    {
     "data": {
      "image/png": "[encoded data removed]",
      "text/plain": [
       "<Figure size 432x288 with 1 Axes>"
      ]
     },
     "metadata": {
      "needs_background": "light"
     },
     "output_type": "display_data"
    }
   ],
   "source": [
    "plt.scatter(y_test,pred)\n",
    "plt.xlabel(\"Fracture Toughness\")\n",
    "plt.ylabel(\"Predicted Fracture Toughness\")"
   ]
  },
  {
   "cell_type": "code",
   "execution_count": 316,
   "metadata": {},
   "outputs": [],
   "source": [
    "from sklearn import metrics"
   ]
  },
  {
   "cell_type": "code",
   "execution_count": 317,
   "metadata": {},
   "outputs": [
    {
     "name": "stdout",
     "output_type": "stream",
     "text": [
      "MAE: 0.20018715741566456\n",
      "MSE: 0.04100727185393882\n",
      "RMSE: 0.20250252308042688\n"
     ]
    }
   ],
   "source": [
    "print('MAE:', metrics.mean_absolute_error(y_test, pred))\n",
    "print('MSE:', metrics.mean_squared_error(y_test, pred))\n",
    "print('RMSE:', np.sqrt(metrics.mean_squared_error(y_test, pred)))"
   ]
  },
  {
   "cell_type": "markdown",
   "metadata": {},
   "source": [
    "## Ridge Regression"
   ]
  },
  {
   "cell_type": "code",
   "execution_count": 318,
   "metadata": {},
   "outputs": [
    {
     "name": "stdout",
     "output_type": "stream",
     "text": [
      "0.0034889737631430733\n",
      "0.9999270168109304\n",
      "0.2014612701948666\n",
      "-6.587472394884213\n"
     ]
    }
   ],
   "source": [
    "# Ridge Regression\n",
    "rr = Ridge(alpha=0.01)\n",
    "rr.fit(X_train, y_train) \n",
    "pred_train_rr= rr.predict(X_train)\n",
    "print(np.sqrt(mean_squared_error(y_train,pred_train_rr)))\n",
    "print(r2_score(y_train, pred_train_rr))\n",
    "\n",
    "pred_test_rr= rr.predict(X_test)\n",
    "print(np.sqrt(mean_squared_error(y_test,pred_test_rr))) \n",
    "print(r2_score(y_test, pred_test_rr))"
   ]
  },
  {
   "cell_type": "code",
   "execution_count": 319,
   "metadata": {},
   "outputs": [
    {
     "data": {
      "text/plain": [
       "Text(0, 0.5, 'Predicted Fracture Toughness')"
      ]
     },
     "execution_count": 319,
     "metadata": {},
     "output_type": "execute_result"
    },
    {
     "data": {
      "image/png": "[encoded data removed]",
      "text/plain": [
       "<Figure size 432x288 with 1 Axes>"
      ]
     },
     "metadata": {
      "needs_background": "light"
     },
     "output_type": "display_data"
    }
   ],
   "source": [
    "plt.scatter(y_test,pred_test_rr)\n",
    "plt.xlabel(\"Fracture Toughness\")\n",
    "plt.ylabel(\"Predicted Fracture Toughness\")"
   ]
  },
  {
   "cell_type": "markdown",
   "metadata": {},
   "source": [
    "## Elastic net"
   ]
  },
  {
   "cell_type": "code",
   "execution_count": 320,
   "metadata": {},
   "outputs": [
    {
     "name": "stdout",
     "output_type": "stream",
     "text": [
      "0.016376110872661154\n",
      "0.9983921372672986\n",
      "0.21939483123763354\n",
      "-7.99843060702989\n"
     ]
    }
   ],
   "source": [
    "#Elastic Net\n",
    "model_enet = ElasticNet(alpha = 0.01)\n",
    "model_enet.fit(X_train, y_train) \n",
    "pred_train_enet= model_enet.predict(X_train)\n",
    "print(np.sqrt(mean_squared_error(y_train,pred_train_enet)))\n",
    "print(r2_score(y_train, pred_train_enet))\n",
    "\n",
    "pred_test_enet= model_enet.predict(X_test)\n",
    "print(np.sqrt(mean_squared_error(y_test,pred_test_enet)))\n",
    "print(r2_score(y_test, pred_test_enet))"
   ]
  },
  {
   "cell_type": "code",
   "execution_count": 321,
   "metadata": {},
   "outputs": [
    {
     "data": {
      "text/plain": [
       "Text(0, 0.5, 'Predicted Fracture Toughness')"
      ]
     },
     "execution_count": 321,
     "metadata": {},
     "output_type": "execute_result"
    },
    {
     "data": {
      "image/png": "[encoded data removed]",
      "text/plain": [
       "<Figure size 432x288 with 1 Axes>"
      ]
     },
     "metadata": {
      "needs_background": "light"
     },
     "output_type": "display_data"
    }
   ],
   "source": [
    "plt.scatter(y_test,pred_test_enet)\n",
    "plt.xlabel(\"Fracture Toughness\")\n",
    "plt.ylabel(\"Predicted Fracture Toughness\")"
   ]
  },
  {
   "cell_type": "markdown",
   "metadata": {},
   "source": [
    "## Lasso "
   ]
  },
  {
   "cell_type": "code",
   "execution_count": 322,
   "metadata": {},
   "outputs": [
    {
     "name": "stdout",
     "output_type": "stream",
     "text": [
      "0.024491019957065586\n",
      "0.9964038220521507\n",
      "0.2514749347630325\n",
      "-10.822338682230578\n"
     ]
    }
   ],
   "source": [
    "model_lasso = Lasso(alpha=0.01)\n",
    "model_lasso.fit(X_train, y_train) \n",
    "pred_train_lasso= model_lasso.predict(X_train)\n",
    "print(np.sqrt(mean_squared_error(y_train,pred_train_lasso)))\n",
    "print(r2_score(y_train, pred_train_lasso))\n",
    "\n",
    "pred_test_lasso= model_lasso.predict(X_test)\n",
    "print(np.sqrt(mean_squared_error(y_test,pred_test_lasso))) \n",
    "print(r2_score(y_test, pred_test_lasso))"
   ]
  },
  {
   "cell_type": "code",
   "execution_count": 323,
   "metadata": {},
   "outputs": [
    {
     "data": {
      "text/plain": [
       "Text(0, 0.5, 'Predicted Fracture Toughness')"
      ]
     },
     "execution_count": 323,
     "metadata": {},
     "output_type": "execute_result"
    },
    {
     "data": {
      "image/png": "[encoded data removed]",
      "text/plain": [
       "<Figure size 432x288 with 1 Axes>"
      ]
     },
     "metadata": {
      "needs_background": "light"
     },
     "output_type": "display_data"
    }
   ],
   "source": [
    "plt.scatter(y_test,pred_test_lasso)\n",
    "plt.xlabel(\"Fracture Toughness\")\n",
    "plt.ylabel(\"Predicted Fracture Toughness\")"
   ]
  },
  {
   "cell_type": "code",
   "execution_count": null,
   "metadata": {},
   "outputs": [],
   "source": []
  },
  {
   "cell_type": "code",
   "execution_count": null,
   "metadata": {},
   "outputs": [],
   "source": []
  }
 ],
 "metadata": {
  "kernelspec": {
   "display_name": "Python 3",
   "language": "python",
   "name": "python3"
  },
  "language_info": {
   "codemirror_mode": {
    "name": "ipython",
    "version": 3
   },
   "file_extension": ".py",
   "mimetype": "text/x-python",
   "name": "python",
   "nbconvert_exporter": "python",
   "pygments_lexer": "ipython3",
   "version": "3.8.5"
  }
 },
 "nbformat": 4,
 "nbformat_minor": 4
}
