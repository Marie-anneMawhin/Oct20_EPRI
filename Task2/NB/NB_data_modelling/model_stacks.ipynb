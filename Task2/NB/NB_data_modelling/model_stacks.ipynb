{
 "cells": [
  {
   "cell_type": "code",
   "execution_count": 1,
   "metadata": {},
   "outputs": [
    {
     "data": {
      "text/plain": [
       "<module 'epri_mc_lib_2' from '/Users/peerapon/Dropbox/Public/WORKs/Python/S2DS/Oct20_EPRI/Task2/NB/epri_mc_lib_2.py'>"
      ]
     },
     "execution_count": 1,
     "metadata": {},
     "output_type": "execute_result"
    }
   ],
   "source": [
    "import pandas as pd\n",
    "import numpy as np\n",
    "import matplotlib.pyplot as plt\n",
    "import os, glob, inspect, sys\n",
    "import re\n",
    "\n",
    "from sklearn.preprocessing import MinMaxScaler\n",
    "\n",
    "currentdir = os.path.dirname(os.path.abspath(inspect.getfile(inspect.currentframe())))\n",
    "parentdir = os.path.dirname(currentdir)\n",
    "sys.path.insert(0,parentdir) \n",
    "import epri_mc_lib_2 as mc\n",
    "from importlib import reload\n",
    "reload(mc)"
   ]
  },
  {
   "cell_type": "code",
   "execution_count": 2,
   "metadata": {},
   "outputs": [],
   "source": [
    "from sklearn import model_selection\n",
    "from sklearn.tree import DecisionTreeRegressor\n",
    "from sklearn.svm import SVR\n",
    "from sklearn.ensemble import RandomForestRegressor\n",
    "from sklearn.metrics import r2_score, mean_squared_error\n",
    "from sklearn.model_selection import train_test_split"
   ]
  },
  {
   "cell_type": "code",
   "execution_count": 3,
   "metadata": {},
   "outputs": [
    {
     "data": {
      "text/html": [
       "<div>\n",
       "<style scoped>\n",
       "    .dataframe tbody tr th:only-of-type {\n",
       "        vertical-align: middle;\n",
       "    }\n",
       "\n",
       "    .dataframe tbody tr th {\n",
       "        vertical-align: top;\n",
       "    }\n",
       "\n",
       "    .dataframe thead th {\n",
       "        text-align: right;\n",
       "    }\n",
       "</style>\n",
       "<table border=\"1\" class=\"dataframe\">\n",
       "  <thead>\n",
       "    <tr style=\"text-align: right;\">\n",
       "      <th></th>\n",
       "      <th>KJIC</th>\n",
       "      <th>MS_Avg</th>\n",
       "      <th>MS_neg_error</th>\n",
       "      <th>MS_pos_error</th>\n",
       "      <th>TEP_average</th>\n",
       "      <th>TEP_error</th>\n",
       "      <th>PC_IF_2.25MHz</th>\n",
       "      <th>SE_IF_2.25MHz</th>\n",
       "      <th>SE_%_IF_2.25MHz</th>\n",
       "      <th>PC_IF_3.5MHz</th>\n",
       "      <th>SE_IF_3.5MHz</th>\n",
       "      <th>SE_%_IF_3.5MHz</th>\n",
       "      <th>PC_BS</th>\n",
       "      <th>Type</th>\n",
       "      <th>log_beta_avg</th>\n",
       "    </tr>\n",
       "  </thead>\n",
       "  <tbody>\n",
       "    <tr>\n",
       "      <th>0</th>\n",
       "      <td>60.489458</td>\n",
       "      <td>0.000208</td>\n",
       "      <td>3.144186e-18</td>\n",
       "      <td>0.000000</td>\n",
       "      <td>0.387439</td>\n",
       "      <td>0.028421</td>\n",
       "      <td>4.289459e-01</td>\n",
       "      <td>0.644724</td>\n",
       "      <td>0.248409</td>\n",
       "      <td>0.174966</td>\n",
       "      <td>0.216762</td>\n",
       "      <td>0.081798</td>\n",
       "      <td>0.060829</td>\n",
       "      <td>A286</td>\n",
       "      <td>0.390684</td>\n",
       "    </tr>\n",
       "    <tr>\n",
       "      <th>1</th>\n",
       "      <td>44.261992</td>\n",
       "      <td>0.000694</td>\n",
       "      <td>1.394590e-12</td>\n",
       "      <td>0.000000</td>\n",
       "      <td>0.299858</td>\n",
       "      <td>0.021298</td>\n",
       "      <td>5.438486e-01</td>\n",
       "      <td>0.570093</td>\n",
       "      <td>0.164493</td>\n",
       "      <td>0.624207</td>\n",
       "      <td>0.256072</td>\n",
       "      <td>0.069445</td>\n",
       "      <td>0.046113</td>\n",
       "      <td>A286</td>\n",
       "      <td>0.211567</td>\n",
       "    </tr>\n",
       "    <tr>\n",
       "      <th>2</th>\n",
       "      <td>156.352240</td>\n",
       "      <td>0.000824</td>\n",
       "      <td>1.371576e-13</td>\n",
       "      <td>0.000000</td>\n",
       "      <td>0.555533</td>\n",
       "      <td>0.014093</td>\n",
       "      <td>1.141398e-15</td>\n",
       "      <td>0.177683</td>\n",
       "      <td>0.412605</td>\n",
       "      <td>0.088545</td>\n",
       "      <td>0.006998</td>\n",
       "      <td>0.077791</td>\n",
       "      <td>0.692367</td>\n",
       "      <td>A286</td>\n",
       "      <td>0.418086</td>\n",
       "    </tr>\n",
       "    <tr>\n",
       "      <th>3</th>\n",
       "      <td>70.025254</td>\n",
       "      <td>0.748869</td>\n",
       "      <td>5.664571e-01</td>\n",
       "      <td>0.512708</td>\n",
       "      <td>0.702281</td>\n",
       "      <td>0.236950</td>\n",
       "      <td>9.454126e-02</td>\n",
       "      <td>0.699935</td>\n",
       "      <td>0.316444</td>\n",
       "      <td>0.158487</td>\n",
       "      <td>0.292054</td>\n",
       "      <td>0.175773</td>\n",
       "      <td>0.615641</td>\n",
       "      <td>304</td>\n",
       "      <td>0.632568</td>\n",
       "    </tr>\n",
       "    <tr>\n",
       "      <th>4</th>\n",
       "      <td>102.089063</td>\n",
       "      <td>0.166288</td>\n",
       "      <td>2.180741e-01</td>\n",
       "      <td>0.318681</td>\n",
       "      <td>0.572501</td>\n",
       "      <td>0.086650</td>\n",
       "      <td>4.748123e-02</td>\n",
       "      <td>0.563716</td>\n",
       "      <td>0.281227</td>\n",
       "      <td>0.458641</td>\n",
       "      <td>0.140300</td>\n",
       "      <td>0.299004</td>\n",
       "      <td>0.330674</td>\n",
       "      <td>304</td>\n",
       "      <td>0.239343</td>\n",
       "    </tr>\n",
       "  </tbody>\n",
       "</table>\n",
       "</div>"
      ],
      "text/plain": [
       "         KJIC    MS_Avg  MS_neg_error  MS_pos_error  TEP_average  TEP_error  \\\n",
       "0   60.489458  0.000208  3.144186e-18      0.000000     0.387439   0.028421   \n",
       "1   44.261992  0.000694  1.394590e-12      0.000000     0.299858   0.021298   \n",
       "2  156.352240  0.000824  1.371576e-13      0.000000     0.555533   0.014093   \n",
       "3   70.025254  0.748869  5.664571e-01      0.512708     0.702281   0.236950   \n",
       "4  102.089063  0.166288  2.180741e-01      0.318681     0.572501   0.086650   \n",
       "\n",
       "   PC_IF_2.25MHz  SE_IF_2.25MHz  SE_%_IF_2.25MHz  PC_IF_3.5MHz  SE_IF_3.5MHz  \\\n",
       "0   4.289459e-01       0.644724         0.248409      0.174966      0.216762   \n",
       "1   5.438486e-01       0.570093         0.164493      0.624207      0.256072   \n",
       "2   1.141398e-15       0.177683         0.412605      0.088545      0.006998   \n",
       "3   9.454126e-02       0.699935         0.316444      0.158487      0.292054   \n",
       "4   4.748123e-02       0.563716         0.281227      0.458641      0.140300   \n",
       "\n",
       "   SE_%_IF_3.5MHz     PC_BS  Type  log_beta_avg  \n",
       "0        0.081798  0.060829  A286      0.390684  \n",
       "1        0.069445  0.046113  A286      0.211567  \n",
       "2        0.077791  0.692367  A286      0.418086  \n",
       "3        0.175773  0.615641   304      0.632568  \n",
       "4        0.299004  0.330674   304      0.239343  "
      ]
     },
     "execution_count": 3,
     "metadata": {},
     "output_type": "execute_result"
    }
   ],
   "source": [
    "df = mc.load_data(\"../../Data/Merged_data/CopulaGAN_simulated_data.csv\")\n",
    "# df =  pd.read_csv(\"../../Data/Merged_data/CopulaGAN_simulated_data.csv\", index_col=0)\n",
    "# df.drop(columns=[\"type_cw\"], inplace=True)\n",
    "df.head()"
   ]
  },
  {
   "cell_type": "code",
   "execution_count": 4,
   "metadata": {},
   "outputs": [
    {
     "name": "stdout",
     "output_type": "stream",
     "text": [
      "r2 score for training:  0.9917483614349746\n",
      "r2 score for testing:  0.9300465058220744\n"
     ]
    },
    {
     "data": {
      "image/png": "[encoded data removed]",
      "text/plain": [
       "<Figure size 432x288 with 1 Axes>"
      ]
     },
     "metadata": {
      "needs_background": "light"
     },
     "output_type": "display_data"
    }
   ],
   "source": [
    "def rf_pipeline(mat_df):\n",
    "    mat_df = mat_df.drop(columns=[\"Type\"])\n",
    "    \n",
    "    X_train, X_test, y_train, y_test = train_test_split(mat_df.drop(columns=['KJIC']), \n",
    "                                                                mat_df['KJIC'], \n",
    "                                                                test_size=0.2, \n",
    "                                                                random_state=2020)\n",
    "    model = RandomForestRegressor()\n",
    "    model.fit(X_train, y_train)\n",
    "    y_pred = model.predict(X_test)\n",
    "    \n",
    "    \n",
    "    print(\"r2 score for training: \", r2_score(y_train, model.predict(X_train)))\n",
    "    print(\"r2 score for testing: \", r2_score(y_test, y_pred))\n",
    "    \n",
    "    \n",
    "    plt.scatter(y_test, y_pred)\n",
    "    plt.plot([0, 1000], [0, 1000])\n",
    "    plt.xlim([0, 300])\n",
    "    plt.ylim([0, 300])\n",
    "    plt.xlabel(\"Fracture Toughness\")\n",
    "    plt.ylabel(\"Predicted Fracture Toughness\")\n",
    "    \n",
    "    return \n",
    "ss304 = df[df['Type']=='304']\n",
    "ss316 = df[df['Type']=='316']\n",
    "ss347 = df[df['Type']=='347']\n",
    "rf_pipeline(ss347)"
   ]
  },
  {
   "cell_type": "code",
   "execution_count": null,
   "metadata": {},
   "outputs": [],
   "source": []
  }
 ],
 "metadata": {
  "kernelspec": {
   "display_name": "Python 3",
   "language": "python",
   "name": "python3"
  },
  "language_info": {
   "codemirror_mode": {
    "name": "ipython",
    "version": 3
   },
   "file_extension": ".py",
   "mimetype": "text/x-python",
   "name": "python",
   "nbconvert_exporter": "python",
   "pygments_lexer": "ipython3",
   "version": "3.8.5"
  }
 },
 "nbformat": 4,
 "nbformat_minor": 4
}
