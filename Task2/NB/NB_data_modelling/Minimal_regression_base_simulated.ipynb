{
 "cells": [
  {
   "cell_type": "code",
   "execution_count": 130,
   "metadata": {},
   "outputs": [
    {
     "data": {
      "text/plain": [
       "<module 'epri_mc_lib_2' from '/Users/apple/Desktop/s2ds/work_project/Oct20_EPRI/Task2/NB/epri_mc_lib_2.py'>"
      ]
     },
     "execution_count": 130,
     "metadata": {},
     "output_type": "execute_result"
    }
   ],
   "source": [
    "import pandas as pd\n",
    "import numpy as np\n",
    "import matplotlib.pyplot as plt\n",
    "import seaborn as sns\n",
    "from scipy.cluster import hierarchy\n",
    "from sklearn.preprocessing import MinMaxScaler\n",
    "import os, glob, inspect, sys\n",
    "import re\n",
    "\n",
    "currentdir = os.path.dirname(os.path.abspath(inspect.getfile(inspect.currentframe())))\n",
    "parentdir = os.path.dirname(currentdir)\n",
    "sys.path.insert(0,parentdir) \n",
    "import epri_mc_lib_2 as mc\n",
    "from importlib import reload\n",
    "reload(mc)"
   ]
  },
  {
   "cell_type": "code",
   "execution_count": 131,
   "metadata": {},
   "outputs": [],
   "source": [
    "from sklearn import model_selection\n",
    "from sklearn.linear_model import LinearRegression\n",
    "from sklearn.linear_model import Ridge\n",
    "from sklearn.linear_model import Lasso\n",
    "from sklearn.linear_model import ElasticNet\n",
    "from sklearn.neighbors import KNeighborsRegressor\n",
    "from sklearn.tree import DecisionTreeRegressor\n",
    "from sklearn.svm import SVR\n",
    "from sklearn.ensemble import RandomForestRegressor\n",
    "from sklearn import metrics\n",
    "from sklearn.metrics import r2_score\n",
    "from sklearn.model_selection import train_test_split\n",
    "from sklearn.metrics import mean_squared_error\n",
    "from math import sqrt"
   ]
  },
  {
   "cell_type": "markdown",
   "metadata": {},
   "source": [
    "### Import data and merge replicates"
   ]
  },
  {
   "cell_type": "code",
   "execution_count": 110,
   "metadata": {},
   "outputs": [
    {
     "data": {
      "text/html": [
       "<div>\n",
       "<style scoped>\n",
       "    .dataframe tbody tr th:only-of-type {\n",
       "        vertical-align: middle;\n",
       "    }\n",
       "\n",
       "    .dataframe tbody tr th {\n",
       "        vertical-align: top;\n",
       "    }\n",
       "\n",
       "    .dataframe thead th {\n",
       "        text-align: right;\n",
       "    }\n",
       "</style>\n",
       "<table border=\"1\" class=\"dataframe\">\n",
       "  <thead>\n",
       "    <tr style=\"text-align: right;\">\n",
       "      <th></th>\n",
       "      <th>KJIC</th>\n",
       "      <th>MS_Avg</th>\n",
       "      <th>MS_neg_error</th>\n",
       "      <th>MS_pos_error</th>\n",
       "      <th>TEP_average</th>\n",
       "      <th>TEP_error</th>\n",
       "      <th>Beta_avg</th>\n",
       "      <th>PC_IF_2.25MHz</th>\n",
       "      <th>SE_IF_2.25MHz</th>\n",
       "      <th>SE_%_IF_2.25MHz</th>\n",
       "      <th>PC_IF_3.5MHz</th>\n",
       "      <th>SE_IF_3.5MHz</th>\n",
       "      <th>SE_%_IF_3.5MHz</th>\n",
       "      <th>PC_BS</th>\n",
       "      <th>Type</th>\n",
       "    </tr>\n",
       "    <tr>\n",
       "      <th>type_cw</th>\n",
       "      <th></th>\n",
       "      <th></th>\n",
       "      <th></th>\n",
       "      <th></th>\n",
       "      <th></th>\n",
       "      <th></th>\n",
       "      <th></th>\n",
       "      <th></th>\n",
       "      <th></th>\n",
       "      <th></th>\n",
       "      <th></th>\n",
       "      <th></th>\n",
       "      <th></th>\n",
       "      <th></th>\n",
       "      <th></th>\n",
       "    </tr>\n",
       "  </thead>\n",
       "  <tbody>\n",
       "    <tr>\n",
       "      <th>A286-80</th>\n",
       "      <td>60.489458</td>\n",
       "      <td>0.010580</td>\n",
       "      <td>0.002000</td>\n",
       "      <td>0.002000</td>\n",
       "      <td>-1.409903</td>\n",
       "      <td>0.046787</td>\n",
       "      <td>0.002109</td>\n",
       "      <td>3.640283e+02</td>\n",
       "      <td>0.025513</td>\n",
       "      <td>2.594648</td>\n",
       "      <td>184.875799</td>\n",
       "      <td>0.018969</td>\n",
       "      <td>1.705626</td>\n",
       "      <td>-62.977927</td>\n",
       "      <td>A286</td>\n",
       "    </tr>\n",
       "    <tr>\n",
       "      <th>A286-80</th>\n",
       "      <td>44.261992</td>\n",
       "      <td>0.013681</td>\n",
       "      <td>0.002000</td>\n",
       "      <td>0.002000</td>\n",
       "      <td>-1.508575</td>\n",
       "      <td>0.046089</td>\n",
       "      <td>0.001903</td>\n",
       "      <td>4.615413e+02</td>\n",
       "      <td>0.022798</td>\n",
       "      <td>1.890054</td>\n",
       "      <td>901.546526</td>\n",
       "      <td>0.022046</td>\n",
       "      <td>1.504480</td>\n",
       "      <td>-64.434818</td>\n",
       "      <td>A286</td>\n",
       "    </tr>\n",
       "    <tr>\n",
       "      <th>A286-0</th>\n",
       "      <td>156.352240</td>\n",
       "      <td>0.014511</td>\n",
       "      <td>0.002000</td>\n",
       "      <td>0.002000</td>\n",
       "      <td>-1.220520</td>\n",
       "      <td>0.045382</td>\n",
       "      <td>0.002143</td>\n",
       "      <td>9.688812e-13</td>\n",
       "      <td>0.008521</td>\n",
       "      <td>3.973307</td>\n",
       "      <td>47.009106</td>\n",
       "      <td>0.002548</td>\n",
       "      <td>1.640369</td>\n",
       "      <td>-0.455673</td>\n",
       "      <td>A286</td>\n",
       "    </tr>\n",
       "    <tr>\n",
       "      <th>304-80</th>\n",
       "      <td>70.025254</td>\n",
       "      <td>4.788344</td>\n",
       "      <td>2.131362</td>\n",
       "      <td>2.820919</td>\n",
       "      <td>-1.055187</td>\n",
       "      <td>0.067237</td>\n",
       "      <td>0.002424</td>\n",
       "      <td>8.023317e+01</td>\n",
       "      <td>0.027521</td>\n",
       "      <td>3.165900</td>\n",
       "      <td>158.586692</td>\n",
       "      <td>0.024863</td>\n",
       "      <td>3.235830</td>\n",
       "      <td>-8.051534</td>\n",
       "      <td>304</td>\n",
       "    </tr>\n",
       "    <tr>\n",
       "      <th>304-40</th>\n",
       "      <td>102.089063</td>\n",
       "      <td>1.070462</td>\n",
       "      <td>0.821760</td>\n",
       "      <td>1.754141</td>\n",
       "      <td>-1.201403</td>\n",
       "      <td>0.052497</td>\n",
       "      <td>0.001934</td>\n",
       "      <td>4.029531e+01</td>\n",
       "      <td>0.022566</td>\n",
       "      <td>2.870203</td>\n",
       "      <td>637.420387</td>\n",
       "      <td>0.012983</td>\n",
       "      <td>5.242440</td>\n",
       "      <td>-36.263322</td>\n",
       "      <td>304</td>\n",
       "    </tr>\n",
       "    <tr>\n",
       "      <th>...</th>\n",
       "      <td>...</td>\n",
       "      <td>...</td>\n",
       "      <td>...</td>\n",
       "      <td>...</td>\n",
       "      <td>...</td>\n",
       "      <td>...</td>\n",
       "      <td>...</td>\n",
       "      <td>...</td>\n",
       "      <td>...</td>\n",
       "      <td>...</td>\n",
       "      <td>...</td>\n",
       "      <td>...</td>\n",
       "      <td>...</td>\n",
       "      <td>...</td>\n",
       "      <td>...</td>\n",
       "    </tr>\n",
       "    <tr>\n",
       "      <th>347-40</th>\n",
       "      <td>96.533556</td>\n",
       "      <td>0.338549</td>\n",
       "      <td>0.179534</td>\n",
       "      <td>0.225540</td>\n",
       "      <td>-1.261545</td>\n",
       "      <td>0.056277</td>\n",
       "      <td>0.002174</td>\n",
       "      <td>1.350067e+02</td>\n",
       "      <td>0.006515</td>\n",
       "      <td>1.112177</td>\n",
       "      <td>238.429845</td>\n",
       "      <td>0.023679</td>\n",
       "      <td>1.824403</td>\n",
       "      <td>-36.890105</td>\n",
       "      <td>347</td>\n",
       "    </tr>\n",
       "    <tr>\n",
       "      <th>A286-20</th>\n",
       "      <td>71.566934</td>\n",
       "      <td>0.009250</td>\n",
       "      <td>0.002000</td>\n",
       "      <td>0.002000</td>\n",
       "      <td>-1.150631</td>\n",
       "      <td>0.044825</td>\n",
       "      <td>0.002063</td>\n",
       "      <td>6.842860e+02</td>\n",
       "      <td>0.022014</td>\n",
       "      <td>1.675595</td>\n",
       "      <td>1292.052416</td>\n",
       "      <td>0.011407</td>\n",
       "      <td>0.373688</td>\n",
       "      <td>-28.171811</td>\n",
       "      <td>A286</td>\n",
       "    </tr>\n",
       "    <tr>\n",
       "      <th>304-80</th>\n",
       "      <td>81.170931</td>\n",
       "      <td>3.926854</td>\n",
       "      <td>2.239491</td>\n",
       "      <td>3.551210</td>\n",
       "      <td>-0.930937</td>\n",
       "      <td>0.067434</td>\n",
       "      <td>0.002443</td>\n",
       "      <td>8.748498e+01</td>\n",
       "      <td>0.023465</td>\n",
       "      <td>3.085555</td>\n",
       "      <td>139.648195</td>\n",
       "      <td>0.018672</td>\n",
       "      <td>2.814763</td>\n",
       "      <td>2.662860</td>\n",
       "      <td>304</td>\n",
       "    </tr>\n",
       "    <tr>\n",
       "      <th>A286-20</th>\n",
       "      <td>64.209348</td>\n",
       "      <td>0.009250</td>\n",
       "      <td>0.002000</td>\n",
       "      <td>0.002000</td>\n",
       "      <td>-1.248021</td>\n",
       "      <td>0.044754</td>\n",
       "      <td>0.002108</td>\n",
       "      <td>6.734629e+02</td>\n",
       "      <td>0.023711</td>\n",
       "      <td>1.461942</td>\n",
       "      <td>1233.343218</td>\n",
       "      <td>0.015022</td>\n",
       "      <td>0.890019</td>\n",
       "      <td>-28.758294</td>\n",
       "      <td>A286</td>\n",
       "    </tr>\n",
       "    <tr>\n",
       "      <th>316-80</th>\n",
       "      <td>59.258030</td>\n",
       "      <td>0.037918</td>\n",
       "      <td>0.003101</td>\n",
       "      <td>0.075685</td>\n",
       "      <td>-1.622191</td>\n",
       "      <td>0.044577</td>\n",
       "      <td>0.002616</td>\n",
       "      <td>9.844953e+01</td>\n",
       "      <td>0.022759</td>\n",
       "      <td>2.631484</td>\n",
       "      <td>154.207937</td>\n",
       "      <td>0.054252</td>\n",
       "      <td>5.235837</td>\n",
       "      <td>-68.999999</td>\n",
       "      <td>316</td>\n",
       "    </tr>\n",
       "  </tbody>\n",
       "</table>\n",
       "<p>1000 rows × 15 columns</p>\n",
       "</div>"
      ],
      "text/plain": [
       "               KJIC    MS_Avg  MS_neg_error  MS_pos_error  TEP_average  \\\n",
       "type_cw                                                                  \n",
       "A286-80   60.489458  0.010580      0.002000      0.002000    -1.409903   \n",
       "A286-80   44.261992  0.013681      0.002000      0.002000    -1.508575   \n",
       "A286-0   156.352240  0.014511      0.002000      0.002000    -1.220520   \n",
       "304-80    70.025254  4.788344      2.131362      2.820919    -1.055187   \n",
       "304-40   102.089063  1.070462      0.821760      1.754141    -1.201403   \n",
       "...             ...       ...           ...           ...          ...   \n",
       "347-40    96.533556  0.338549      0.179534      0.225540    -1.261545   \n",
       "A286-20   71.566934  0.009250      0.002000      0.002000    -1.150631   \n",
       "304-80    81.170931  3.926854      2.239491      3.551210    -0.930937   \n",
       "A286-20   64.209348  0.009250      0.002000      0.002000    -1.248021   \n",
       "316-80    59.258030  0.037918      0.003101      0.075685    -1.622191   \n",
       "\n",
       "         TEP_error  Beta_avg  PC_IF_2.25MHz  SE_IF_2.25MHz  SE_%_IF_2.25MHz  \\\n",
       "type_cw                                                                       \n",
       "A286-80   0.046787  0.002109   3.640283e+02       0.025513         2.594648   \n",
       "A286-80   0.046089  0.001903   4.615413e+02       0.022798         1.890054   \n",
       "A286-0    0.045382  0.002143   9.688812e-13       0.008521         3.973307   \n",
       "304-80    0.067237  0.002424   8.023317e+01       0.027521         3.165900   \n",
       "304-40    0.052497  0.001934   4.029531e+01       0.022566         2.870203   \n",
       "...            ...       ...            ...            ...              ...   \n",
       "347-40    0.056277  0.002174   1.350067e+02       0.006515         1.112177   \n",
       "A286-20   0.044825  0.002063   6.842860e+02       0.022014         1.675595   \n",
       "304-80    0.067434  0.002443   8.748498e+01       0.023465         3.085555   \n",
       "A286-20   0.044754  0.002108   6.734629e+02       0.023711         1.461942   \n",
       "316-80    0.044577  0.002616   9.844953e+01       0.022759         2.631484   \n",
       "\n",
       "         PC_IF_3.5MHz  SE_IF_3.5MHz  SE_%_IF_3.5MHz      PC_BS  Type  \n",
       "type_cw                                                               \n",
       "A286-80    184.875799      0.018969        1.705626 -62.977927  A286  \n",
       "A286-80    901.546526      0.022046        1.504480 -64.434818  A286  \n",
       "A286-0      47.009106      0.002548        1.640369  -0.455673  A286  \n",
       "304-80     158.586692      0.024863        3.235830  -8.051534   304  \n",
       "304-40     637.420387      0.012983        5.242440 -36.263322   304  \n",
       "...               ...           ...             ...        ...   ...  \n",
       "347-40     238.429845      0.023679        1.824403 -36.890105   347  \n",
       "A286-20   1292.052416      0.011407        0.373688 -28.171811  A286  \n",
       "304-80     139.648195      0.018672        2.814763   2.662860   304  \n",
       "A286-20   1233.343218      0.015022        0.890019 -28.758294  A286  \n",
       "316-80     154.207937      0.054252        5.235837 -68.999999   316  \n",
       "\n",
       "[1000 rows x 15 columns]"
      ]
     },
     "execution_count": 110,
     "metadata": {},
     "output_type": "execute_result"
    }
   ],
   "source": [
    "merged = pd.read_csv(os.path.join(os.path.dirname(os.getcwd()), '../Data/Merged_data/CopulaGAN_simulated_data.csv'),\n",
    "                    index_col=None)\n",
    "merged.set_index('type_cw', inplace=True)\n",
    "merged"
   ]
  },
  {
   "cell_type": "markdown",
   "metadata": {},
   "source": [
    "## Select columns of interest"
   ]
  },
  {
   "cell_type": "code",
   "execution_count": 111,
   "metadata": {},
   "outputs": [],
   "source": [
    "merged.drop([\"Type\"], axis=1, inplace=True)"
   ]
  },
  {
   "cell_type": "markdown",
   "metadata": {},
   "source": [
    "## Scale data"
   ]
  },
  {
   "cell_type": "code",
   "execution_count": 112,
   "metadata": {},
   "outputs": [
    {
     "data": {
      "text/html": [
       "<div>\n",
       "<style scoped>\n",
       "    .dataframe tbody tr th:only-of-type {\n",
       "        vertical-align: middle;\n",
       "    }\n",
       "\n",
       "    .dataframe tbody tr th {\n",
       "        vertical-align: top;\n",
       "    }\n",
       "\n",
       "    .dataframe thead th {\n",
       "        text-align: right;\n",
       "    }\n",
       "</style>\n",
       "<table border=\"1\" class=\"dataframe\">\n",
       "  <thead>\n",
       "    <tr style=\"text-align: right;\">\n",
       "      <th></th>\n",
       "      <th>KJIC</th>\n",
       "      <th>MS_Avg</th>\n",
       "      <th>MS_neg_error</th>\n",
       "      <th>MS_pos_error</th>\n",
       "      <th>TEP_average</th>\n",
       "      <th>TEP_error</th>\n",
       "      <th>Beta_avg</th>\n",
       "      <th>PC_IF_2.25MHz</th>\n",
       "      <th>SE_IF_2.25MHz</th>\n",
       "      <th>SE_%_IF_2.25MHz</th>\n",
       "      <th>PC_IF_3.5MHz</th>\n",
       "      <th>SE_IF_3.5MHz</th>\n",
       "      <th>SE_%_IF_3.5MHz</th>\n",
       "      <th>PC_BS</th>\n",
       "    </tr>\n",
       "    <tr>\n",
       "      <th>type_cw</th>\n",
       "      <th></th>\n",
       "      <th></th>\n",
       "      <th></th>\n",
       "      <th></th>\n",
       "      <th></th>\n",
       "      <th></th>\n",
       "      <th></th>\n",
       "      <th></th>\n",
       "      <th></th>\n",
       "      <th></th>\n",
       "      <th></th>\n",
       "      <th></th>\n",
       "      <th></th>\n",
       "      <th></th>\n",
       "    </tr>\n",
       "  </thead>\n",
       "  <tbody>\n",
       "    <tr>\n",
       "      <th>A286-80</th>\n",
       "      <td>0.355259</td>\n",
       "      <td>0.000208</td>\n",
       "      <td>3.144186e-18</td>\n",
       "      <td>0.000000e+00</td>\n",
       "      <td>0.387439</td>\n",
       "      <td>0.028421</td>\n",
       "      <td>0.324061</td>\n",
       "      <td>4.289459e-01</td>\n",
       "      <td>0.644724</td>\n",
       "      <td>0.248409</td>\n",
       "      <td>0.174966</td>\n",
       "      <td>0.216762</td>\n",
       "      <td>0.081798</td>\n",
       "      <td>6.082902e-02</td>\n",
       "    </tr>\n",
       "    <tr>\n",
       "      <th>A286-80</th>\n",
       "      <td>0.190003</td>\n",
       "      <td>0.000694</td>\n",
       "      <td>1.394590e-12</td>\n",
       "      <td>0.000000e+00</td>\n",
       "      <td>0.299858</td>\n",
       "      <td>0.021298</td>\n",
       "      <td>0.166427</td>\n",
       "      <td>5.438486e-01</td>\n",
       "      <td>0.570093</td>\n",
       "      <td>0.164493</td>\n",
       "      <td>0.624207</td>\n",
       "      <td>0.256072</td>\n",
       "      <td>0.069445</td>\n",
       "      <td>4.611295e-02</td>\n",
       "    </tr>\n",
       "    <tr>\n",
       "      <th>A286-0</th>\n",
       "      <td>0.857701</td>\n",
       "      <td>0.000824</td>\n",
       "      <td>1.371576e-13</td>\n",
       "      <td>0.000000e+00</td>\n",
       "      <td>0.555533</td>\n",
       "      <td>0.014093</td>\n",
       "      <td>0.349643</td>\n",
       "      <td>1.141398e-15</td>\n",
       "      <td>0.177683</td>\n",
       "      <td>0.412605</td>\n",
       "      <td>0.088545</td>\n",
       "      <td>0.006998</td>\n",
       "      <td>0.077791</td>\n",
       "      <td>6.923669e-01</td>\n",
       "    </tr>\n",
       "    <tr>\n",
       "      <th>304-80</th>\n",
       "      <td>0.432710</td>\n",
       "      <td>0.748869</td>\n",
       "      <td>5.664571e-01</td>\n",
       "      <td>5.127082e-01</td>\n",
       "      <td>0.702281</td>\n",
       "      <td>0.236950</td>\n",
       "      <td>0.564435</td>\n",
       "      <td>9.454126e-02</td>\n",
       "      <td>0.699935</td>\n",
       "      <td>0.316444</td>\n",
       "      <td>0.158487</td>\n",
       "      <td>0.292054</td>\n",
       "      <td>0.175773</td>\n",
       "      <td>6.156411e-01</td>\n",
       "    </tr>\n",
       "    <tr>\n",
       "      <th>304-40</th>\n",
       "      <td>0.632170</td>\n",
       "      <td>0.166288</td>\n",
       "      <td>2.180741e-01</td>\n",
       "      <td>3.186815e-01</td>\n",
       "      <td>0.572501</td>\n",
       "      <td>0.086650</td>\n",
       "      <td>0.189820</td>\n",
       "      <td>4.748123e-02</td>\n",
       "      <td>0.563716</td>\n",
       "      <td>0.281227</td>\n",
       "      <td>0.458641</td>\n",
       "      <td>0.140300</td>\n",
       "      <td>0.299004</td>\n",
       "      <td>3.306735e-01</td>\n",
       "    </tr>\n",
       "    <tr>\n",
       "      <th>...</th>\n",
       "      <td>...</td>\n",
       "      <td>...</td>\n",
       "      <td>...</td>\n",
       "      <td>...</td>\n",
       "      <td>...</td>\n",
       "      <td>...</td>\n",
       "      <td>...</td>\n",
       "      <td>...</td>\n",
       "      <td>...</td>\n",
       "      <td>...</td>\n",
       "      <td>...</td>\n",
       "      <td>...</td>\n",
       "      <td>...</td>\n",
       "      <td>...</td>\n",
       "    </tr>\n",
       "    <tr>\n",
       "      <th>347-40</th>\n",
       "      <td>0.602565</td>\n",
       "      <td>0.051600</td>\n",
       "      <td>4.722806e-02</td>\n",
       "      <td>4.065770e-02</td>\n",
       "      <td>0.519120</td>\n",
       "      <td>0.125187</td>\n",
       "      <td>0.373555</td>\n",
       "      <td>1.590827e-01</td>\n",
       "      <td>0.122533</td>\n",
       "      <td>0.071849</td>\n",
       "      <td>0.208536</td>\n",
       "      <td>0.276930</td>\n",
       "      <td>0.089093</td>\n",
       "      <td>3.243424e-01</td>\n",
       "    </tr>\n",
       "    <tr>\n",
       "      <th>A286-20</th>\n",
       "      <td>0.444232</td>\n",
       "      <td>0.000000</td>\n",
       "      <td>2.871076e-15</td>\n",
       "      <td>3.073840e-11</td>\n",
       "      <td>0.617566</td>\n",
       "      <td>0.008410</td>\n",
       "      <td>0.288767</td>\n",
       "      <td>8.063158e-01</td>\n",
       "      <td>0.548539</td>\n",
       "      <td>0.138951</td>\n",
       "      <td>0.868994</td>\n",
       "      <td>0.120166</td>\n",
       "      <td>0.000000</td>\n",
       "      <td>4.124059e-01</td>\n",
       "    </tr>\n",
       "    <tr>\n",
       "      <th>304-80</th>\n",
       "      <td>0.510857</td>\n",
       "      <td>0.613876</td>\n",
       "      <td>5.952216e-01</td>\n",
       "      <td>6.455345e-01</td>\n",
       "      <td>0.812564</td>\n",
       "      <td>0.238962</td>\n",
       "      <td>0.578451</td>\n",
       "      <td>1.030863e-01</td>\n",
       "      <td>0.588431</td>\n",
       "      <td>0.306875</td>\n",
       "      <td>0.146615</td>\n",
       "      <td>0.212979</td>\n",
       "      <td>0.149914</td>\n",
       "      <td>7.238673e-01</td>\n",
       "    </tr>\n",
       "    <tr>\n",
       "      <th>A286-20</th>\n",
       "      <td>0.386835</td>\n",
       "      <td>0.000000</td>\n",
       "      <td>5.328652e-12</td>\n",
       "      <td>1.369656e-14</td>\n",
       "      <td>0.531124</td>\n",
       "      <td>0.007692</td>\n",
       "      <td>0.323063</td>\n",
       "      <td>7.935625e-01</td>\n",
       "      <td>0.595191</td>\n",
       "      <td>0.113506</td>\n",
       "      <td>0.832192</td>\n",
       "      <td>0.166342</td>\n",
       "      <td>0.031709</td>\n",
       "      <td>4.064819e-01</td>\n",
       "    </tr>\n",
       "    <tr>\n",
       "      <th>316-80</th>\n",
       "      <td>0.344377</td>\n",
       "      <td>0.004492</td>\n",
       "      <td>2.928231e-04</td>\n",
       "      <td>1.340197e-02</td>\n",
       "      <td>0.199014</td>\n",
       "      <td>0.005889</td>\n",
       "      <td>0.710482</td>\n",
       "      <td>1.160062e-01</td>\n",
       "      <td>0.569033</td>\n",
       "      <td>0.252796</td>\n",
       "      <td>0.155742</td>\n",
       "      <td>0.667482</td>\n",
       "      <td>0.298599</td>\n",
       "      <td>1.323103e-08</td>\n",
       "    </tr>\n",
       "  </tbody>\n",
       "</table>\n",
       "<p>1000 rows × 14 columns</p>\n",
       "</div>"
      ],
      "text/plain": [
       "             KJIC    MS_Avg  MS_neg_error  MS_pos_error  TEP_average  \\\n",
       "type_cw                                                                \n",
       "A286-80  0.355259  0.000208  3.144186e-18  0.000000e+00     0.387439   \n",
       "A286-80  0.190003  0.000694  1.394590e-12  0.000000e+00     0.299858   \n",
       "A286-0   0.857701  0.000824  1.371576e-13  0.000000e+00     0.555533   \n",
       "304-80   0.432710  0.748869  5.664571e-01  5.127082e-01     0.702281   \n",
       "304-40   0.632170  0.166288  2.180741e-01  3.186815e-01     0.572501   \n",
       "...           ...       ...           ...           ...          ...   \n",
       "347-40   0.602565  0.051600  4.722806e-02  4.065770e-02     0.519120   \n",
       "A286-20  0.444232  0.000000  2.871076e-15  3.073840e-11     0.617566   \n",
       "304-80   0.510857  0.613876  5.952216e-01  6.455345e-01     0.812564   \n",
       "A286-20  0.386835  0.000000  5.328652e-12  1.369656e-14     0.531124   \n",
       "316-80   0.344377  0.004492  2.928231e-04  1.340197e-02     0.199014   \n",
       "\n",
       "         TEP_error  Beta_avg  PC_IF_2.25MHz  SE_IF_2.25MHz  SE_%_IF_2.25MHz  \\\n",
       "type_cw                                                                       \n",
       "A286-80   0.028421  0.324061   4.289459e-01       0.644724         0.248409   \n",
       "A286-80   0.021298  0.166427   5.438486e-01       0.570093         0.164493   \n",
       "A286-0    0.014093  0.349643   1.141398e-15       0.177683         0.412605   \n",
       "304-80    0.236950  0.564435   9.454126e-02       0.699935         0.316444   \n",
       "304-40    0.086650  0.189820   4.748123e-02       0.563716         0.281227   \n",
       "...            ...       ...            ...            ...              ...   \n",
       "347-40    0.125187  0.373555   1.590827e-01       0.122533         0.071849   \n",
       "A286-20   0.008410  0.288767   8.063158e-01       0.548539         0.138951   \n",
       "304-80    0.238962  0.578451   1.030863e-01       0.588431         0.306875   \n",
       "A286-20   0.007692  0.323063   7.935625e-01       0.595191         0.113506   \n",
       "316-80    0.005889  0.710482   1.160062e-01       0.569033         0.252796   \n",
       "\n",
       "         PC_IF_3.5MHz  SE_IF_3.5MHz  SE_%_IF_3.5MHz         PC_BS  \n",
       "type_cw                                                            \n",
       "A286-80      0.174966      0.216762        0.081798  6.082902e-02  \n",
       "A286-80      0.624207      0.256072        0.069445  4.611295e-02  \n",
       "A286-0       0.088545      0.006998        0.077791  6.923669e-01  \n",
       "304-80       0.158487      0.292054        0.175773  6.156411e-01  \n",
       "304-40       0.458641      0.140300        0.299004  3.306735e-01  \n",
       "...               ...           ...             ...           ...  \n",
       "347-40       0.208536      0.276930        0.089093  3.243424e-01  \n",
       "A286-20      0.868994      0.120166        0.000000  4.124059e-01  \n",
       "304-80       0.146615      0.212979        0.149914  7.238673e-01  \n",
       "A286-20      0.832192      0.166342        0.031709  4.064819e-01  \n",
       "316-80       0.155742      0.667482        0.298599  1.323103e-08  \n",
       "\n",
       "[1000 rows x 14 columns]"
      ]
     },
     "execution_count": 112,
     "metadata": {},
     "output_type": "execute_result"
    }
   ],
   "source": [
    "# The logarithmic of the KJIC is incorporated for better results\n",
    "merged.KJIC = np.log(merged.KJIC)\n",
    "scaled_df = mc.scale_general(merged, MinMaxScaler())\n",
    "scaled_df[0]"
   ]
  },
  {
   "cell_type": "code",
   "execution_count": 113,
   "metadata": {},
   "outputs": [
    {
     "data": {
      "text/plain": [
       "<AxesSubplot:>"
      ]
     },
     "execution_count": 113,
     "metadata": {},
     "output_type": "execute_result"
    },
    {
     "data": {
      "image/png": "[encoded data removed]",
      "text/plain": [
       "<Figure size 432x288 with 2 Axes>"
      ]
     },
     "metadata": {
      "needs_background": "light"
     },
     "output_type": "display_data"
    }
   ],
   "source": [
    "sns.heatmap(merged.corr())"
   ]
  },
  {
   "cell_type": "code",
   "execution_count": 172,
   "metadata": {},
   "outputs": [],
   "source": [
    "# Seperating data depending on the type of steel\n",
    "SS_304=scaled_df[0][scaled_df[0].index.isin(['304-0','304-20','304-40','304-60','304-80'])]\n",
    "SS_316=scaled_df[0][scaled_df[0].index.isin(['316-0','316-20','316-40','316-60','316-80'])]\n",
    "SS_347=scaled_df[0][scaled_df[0].index.isin(['347-0','347-20','347-40','347-60','347-80'])]\n",
    "SS_A286=scaled_df[0][scaled_df[0].index.isin(['A286-0','A286-20','A286-40','A286-60','A286-80'])]"
   ]
  },
  {
   "cell_type": "code",
   "execution_count": 176,
   "metadata": {},
   "outputs": [],
   "source": [
    "SS_list=[\"SS304\",\"SS316\",\"SS347\",\"SSA286\"]"
   ]
  },
  {
   "cell_type": "markdown",
   "metadata": {},
   "source": [
    "## Linear Regression"
   ]
  },
  {
   "cell_type": "code",
   "execution_count": 177,
   "metadata": {},
   "outputs": [],
   "source": [
    "def lr_sstype(scaled_df,name):\n",
    "    # Creating Predictor variable 'X' and Target Variable 'y'\n",
    "    # X contains all the features except for the target value Price\n",
    "    X = scaled_df.drop('KJIC', axis = 1)\n",
    "    y = scaled_df['KJIC']\n",
    "    \n",
    "    # Creating the training and test sets\n",
    "    X_train, X_test, y_train, y_test = train_test_split(X,y, test_size=0.3, random_state=50)\n",
    "    \n",
    "    # X_train contains 70% of total dataset\n",
    "    print(\"Training dataset:\", X_train.shape)\n",
    "    # X_test contains 30% of total dataset\n",
    "    print(\"Test dataset:\", X_test.shape)\n",
    "    \n",
    "    # Model Liner Regression\n",
    "    lr = LinearRegression()\n",
    "    \n",
    "    #Train/fit the model to training data\n",
    "    lr.fit(X_train,y_train)\n",
    "    \n",
    "    pred = lr.predict(X_test)\n",
    "    \n",
    "    # print the intercept\n",
    "    print(\"Intercept:\", lr.intercept_)\n",
    "    \n",
    "    #Coefficients\n",
    "    coeff_df = pd.DataFrame(lr.coef_,X.columns,columns=['Coefficient'])\n",
    "    print(\"Coefficients:\", coeff_df)\n",
    "    \n",
    "    \n",
    "    print(\"r2 score for training: \", r2_score(y_train, lr.predict(X_train)))\n",
    "    print(\"r2 score for testing: \", r2_score(y_test, pred))\n",
    "    \n",
    "    print('MAE:', metrics.mean_absolute_error(y_test, pred))\n",
    "    print('MSE:', metrics.mean_squared_error(y_test, pred))\n",
    "    print('RMSE:', np.sqrt(metrics.mean_squared_error(y_test, pred)))\n",
    "    \n",
    "    plt.scatter(y_test,pred)\n",
    "    plt.title(\"Linear Regression of \"+ name)\n",
    "    plt.xlabel(\"Fracture Toughness\")\n",
    "    plt.ylabel(\"Predicted Fracture Toughness\")\n",
    "    \n",
    "    return"
   ]
  },
  {
   "cell_type": "code",
   "execution_count": 175,
   "metadata": {},
   "outputs": [
    {
     "name": "stdout",
     "output_type": "stream",
     "text": [
      "Training dataset: (186, 13)\n",
      "Test dataset: (81, 13)\n",
      "Intercept: 0.8619188577484572\n",
      "Coefficients:                  Coefficient\n",
      "MS_Avg             -0.047660\n",
      "MS_neg_error       -0.024413\n",
      "MS_pos_error       -0.046142\n",
      "TEP_average        -0.331781\n",
      "TEP_error           0.108148\n",
      "Beta_avg            0.114581\n",
      "PC_IF_2.25MHz      -0.297923\n",
      "SE_IF_2.25MHz      -0.122998\n",
      "SE_%_IF_2.25MHz     0.224939\n",
      "PC_IF_3.5MHz       -0.539155\n",
      "SE_IF_3.5MHz       -0.134697\n",
      "SE_%_IF_3.5MHz      0.071290\n",
      "PC_BS              -0.068372\n",
      "r2 score for training:  0.8004471788497427\n",
      "r2 score for testing:  0.7689040121377907\n",
      "MAE: 0.05438934382902115\n",
      "MSE: 0.004866260121603767\n",
      "RMSE: 0.06975858457282348\n"
     ]
    },
    {
     "data": {
      "image/png": "[encoded data removed]",
      "text/plain": [
       "<Figure size 432x288 with 1 Axes>"
      ]
     },
     "metadata": {
      "needs_background": "light"
     },
     "output_type": "display_data"
    }
   ],
   "source": [
    "lr_sstype(SS_304,\"SS304\")"
   ]
  },
  {
   "cell_type": "markdown",
   "metadata": {},
   "source": [
    "## Ridge Regression"
   ]
  },
  {
   "cell_type": "code",
   "execution_count": 178,
   "metadata": {},
   "outputs": [],
   "source": [
    "def rr_sstype(scaled_df,name):\n",
    "    # Creating Predictor variable 'X' and Target Variable 'y'\n",
    "    # X contains all the features except for the target value Price\n",
    "    X = scaled_df.drop('KJIC', axis = 1)\n",
    "    y = scaled_df['KJIC']\n",
    "    \n",
    "    # Creating the training and test sets\n",
    "    X_train, X_test, y_train, y_test = train_test_split(X,y, test_size=0.3, random_state=50)\n",
    "    \n",
    "    # X_train contains 70% of total dataset\n",
    "    print(\"Training dataset:\", X_train.shape)\n",
    "    # X_test contains 30% of total dataset\n",
    "    print(\"Test dataset:\", X_test.shape)\n",
    "    \n",
    "    #Model Ridge Rigression\n",
    "    rr = Ridge(alpha=0.01)\n",
    "    rr.fit(X_train, y_train) \n",
    "    pred_train_rr= rr.predict(X_train)\n",
    "    print(\"RMSE train:\", np.sqrt(mean_squared_error(y_train,pred_train_rr)))\n",
    "    print(\"r2 score for training: \", r2_score(y_train, pred_train_rr))\n",
    "    \n",
    "    pred_test_rr= rr.predict(X_test)\n",
    "    print(\"RMSE test:\", np.sqrt(mean_squared_error(y_test,pred_test_rr))) \n",
    "    print(\"r2 score for test: \", r2_score(y_test, pred_test_rr))\n",
    "    \n",
    "    plt.scatter(y_test,pred_test_rr)\n",
    "    plt.title(\"Ridge Regression of \"+ name)\n",
    "    plt.xlabel(\"Fracture Toughness\")\n",
    "    plt.ylabel(\"Predicted Fracture Toughness\")\n",
    "    \n",
    "    return"
   ]
  },
  {
   "cell_type": "code",
   "execution_count": 185,
   "metadata": {},
   "outputs": [
    {
     "name": "stdout",
     "output_type": "stream",
     "text": [
      "Training dataset: (186, 13)\n",
      "Test dataset: (81, 13)\n",
      "RMSE train: 0.06339962762067418\n",
      "r2 score for training:  0.8003714521463458\n",
      "RMSE test: 0.06868331366360267\n",
      "r2 score for test:  0.7759734116798568\n"
     ]
    },
    {
     "data": {
      "image/png": "[encoded data removed]",
      "text/plain": [
       "<Figure size 432x288 with 1 Axes>"
      ]
     },
     "metadata": {
      "needs_background": "light"
     },
     "output_type": "display_data"
    }
   ],
   "source": [
    "rr_sstype(SS_304,\"SS304\")"
   ]
  },
  {
   "cell_type": "code",
   "execution_count": 186,
   "metadata": {},
   "outputs": [
    {
     "name": "stdout",
     "output_type": "stream",
     "text": [
      "Training dataset: (174, 13)\n",
      "Test dataset: (75, 13)\n",
      "RMSE train: 0.07717823036590547\n",
      "r2 score for training:  0.5438009931379937\n",
      "RMSE test: 0.08634659514671424\n",
      "r2 score for test:  0.6285596320492376\n"
     ]
    },
    {
     "data": {
      "image/png": "[encoded data removed]",
      "text/plain": [
       "<Figure size 432x288 with 1 Axes>"
      ]
     },
     "metadata": {
      "needs_background": "light"
     },
     "output_type": "display_data"
    }
   ],
   "source": [
    "rr_sstype(SS_316,\"SS316\")"
   ]
  },
  {
   "cell_type": "code",
   "execution_count": 187,
   "metadata": {},
   "outputs": [
    {
     "name": "stdout",
     "output_type": "stream",
     "text": [
      "Training dataset: (179, 13)\n",
      "Test dataset: (78, 13)\n",
      "RMSE train: 0.0668747099312975\n",
      "r2 score for training:  0.8916362567375332\n",
      "RMSE test: 0.08069544177838821\n",
      "r2 score for test:  0.844269074637611\n"
     ]
    },
    {
     "data": {
      "image/png": "[encoded data removed]",
      "text/plain": [
       "<Figure size 432x288 with 1 Axes>"
      ]
     },
     "metadata": {
      "needs_background": "light"
     },
     "output_type": "display_data"
    }
   ],
   "source": [
    "rr_sstype(SS_347,\"SS347\")"
   ]
  },
  {
   "cell_type": "markdown",
   "metadata": {},
   "source": [
    "## Elastic net"
   ]
  },
  {
   "cell_type": "code",
   "execution_count": 181,
   "metadata": {},
   "outputs": [],
   "source": [
    "def enet_sstype(scaled_df,name):\n",
    "    # Creating Predictor variable 'X' and Target Variable 'y'\n",
    "    # X contains all the features except for the target value Price\n",
    "    X = scaled_df.drop('KJIC', axis = 1)\n",
    "    y = scaled_df['KJIC']\n",
    "    \n",
    "    # Creating the training and test sets\n",
    "    X_train, X_test, y_train, y_test = train_test_split(X,y, test_size=0.3, random_state=50)\n",
    "    \n",
    "    # X_train contains 70% of total dataset\n",
    "    print(\"Training dataset:\", X_train.shape)\n",
    "    # X_test contains 30% of total dataset\n",
    "    print(\"Test dataset:\", X_test.shape)\n",
    "    \n",
    "    #Model Ridge Rigression\n",
    "    model_enet = ElasticNet(alpha = 0.01)\n",
    "    model_enet.fit(X_train, y_train) \n",
    "    pred_train_enet= model_enet.predict(X_train)\n",
    "    print(\"RMSE train:\", np.sqrt(mean_squared_error(y_train,pred_train_enet)))\n",
    "    print(\"r2 score for training: \", r2_score(y_train, pred_train_enet))\n",
    "    \n",
    "    pred_test_enet= model_enet.predict(X_test)\n",
    "    print(\"RMSE test:\", np.sqrt(mean_squared_error(y_test,pred_test_enet)))\n",
    "    print(\"r2 score for test: \", r2_score(y_test, pred_test_enet))\n",
    "    \n",
    "    plt.scatter(y_test,pred_test_enet)\n",
    "    plt.title(\"Elastic Net Regression of \"+ name)\n",
    "    plt.xlabel(\"Fracture Toughness\")\n",
    "    plt.ylabel(\"Predicted Fracture Toughness\")\n",
    "    \n",
    "    return"
   ]
  },
  {
   "cell_type": "code",
   "execution_count": 182,
   "metadata": {},
   "outputs": [
    {
     "name": "stdout",
     "output_type": "stream",
     "text": [
      "Training dataset: (186, 13)\n",
      "Test dataset: (81, 13)\n",
      "RMSE train: 0.08276055250359264\n",
      "r2 score for training:  0.6598300108497108\n",
      "RMSE test: 0.08270719912764325\n",
      "r2 score for test:  0.6751493702461696\n"
     ]
    },
    {
     "data": {
      "image/png": "[encoded data removed]",
      "text/plain": [
       "<Figure size 432x288 with 1 Axes>"
      ]
     },
     "metadata": {
      "needs_background": "light"
     },
     "output_type": "display_data"
    }
   ],
   "source": [
    "enet_sstype(SS_304,\"SS304\")"
   ]
  },
  {
   "cell_type": "code",
   "execution_count": 188,
   "metadata": {},
   "outputs": [
    {
     "name": "stdout",
     "output_type": "stream",
     "text": [
      "Training dataset: (174, 13)\n",
      "Test dataset: (75, 13)\n",
      "RMSE train: 0.1086842924256647\n",
      "r2 score for training:  0.09531317140418183\n",
      "RMSE test: 0.13772374216802152\n",
      "r2 score for test:  0.05503375322399373\n"
     ]
    },
    {
     "data": {
      "image/png": "[encoded data removed]",
      "text/plain": [
       "<Figure size 432x288 with 1 Axes>"
      ]
     },
     "metadata": {
      "needs_background": "light"
     },
     "output_type": "display_data"
    }
   ],
   "source": [
    "enet_sstype(SS_316,\"SS316\")"
   ]
  },
  {
   "cell_type": "code",
   "execution_count": 190,
   "metadata": {},
   "outputs": [
    {
     "name": "stdout",
     "output_type": "stream",
     "text": [
      "Training dataset: (179, 13)\n",
      "Test dataset: (78, 13)\n",
      "RMSE train: 0.09070812285358068\n",
      "r2 score for training:  0.8006333390293034\n",
      "RMSE test: 0.09814804445727092\n",
      "r2 score for test:  0.7696224480492305\n"
     ]
    },
    {
     "data": {
      "image/png": "[encoded data removed]",
      "text/plain": [
       "<Figure size 432x288 with 1 Axes>"
      ]
     },
     "metadata": {
      "needs_background": "light"
     },
     "output_type": "display_data"
    }
   ],
   "source": [
    "enet_sstype(SS_347,\"SS347\")"
   ]
  },
  {
   "cell_type": "markdown",
   "metadata": {},
   "source": [
    "## Lasso "
   ]
  },
  {
   "cell_type": "code",
   "execution_count": 194,
   "metadata": {},
   "outputs": [],
   "source": [
    "def lasso_sstype(scaled_df,name):\n",
    "    # Creating Predictor variable 'X' and Target Variable 'y'\n",
    "    # X contains all the features except for the target value Price\n",
    "    X = scaled_df.drop('KJIC', axis = 1)\n",
    "    y = scaled_df['KJIC']\n",
    "    \n",
    "    # Creating the training and test sets\n",
    "    X_train, X_test, y_train, y_test = train_test_split(X,y, test_size=0.3, random_state=50)\n",
    "    \n",
    "    # X_train contains 70% of total dataset\n",
    "    print(\"Training dataset:\", X_train.shape)\n",
    "    # X_test contains 30% of total dataset\n",
    "    print(\"Test dataset:\", X_test.shape)\n",
    "    \n",
    "    #Model LASSO Rigression\n",
    "    model_lasso = Lasso(alpha=0.01)\n",
    "    model_lasso.fit(X_train, y_train) \n",
    "    pred_train_lasso= model_lasso.predict(X_train)\n",
    "    print(\"RMSE train:\", np.sqrt(mean_squared_error(y_train,pred_train_lasso)))\n",
    "    print(\"r2 score for train: \", r2_score(y_train, pred_train_lasso))\n",
    "    \n",
    "    pred_test_lasso= model_lasso.predict(X_test)\n",
    "    print(\"RMSE test:\", np.sqrt(mean_squared_error(y_test,pred_test_lasso))) \n",
    "    print(\"r2 score for test: \", r2_score(y_test, pred_test_lasso))\n",
    "    \n",
    "    plt.scatter(y_test,pred_test_lasso)\n",
    "    plt.title(\"LASSO Regression of \"+ name)\n",
    "    plt.xlabel(\"Fracture Toughness\")\n",
    "    plt.ylabel(\"Predicted Fracture Toughness\")\n",
    "    \n",
    "    return"
   ]
  },
  {
   "cell_type": "code",
   "execution_count": 195,
   "metadata": {},
   "outputs": [
    {
     "name": "stdout",
     "output_type": "stream",
     "text": [
      "Training dataset: (186, 13)\n",
      "Test dataset: (81, 13)\n",
      "RMSE train: 0.09311464967246647\n",
      "r2 score for train:  0.5693888601043547\n",
      "RMSE test: 0.0945366420013088\n",
      "r2 score for test:  0.5755784478929111\n"
     ]
    },
    {
     "data": {
      "image/png": "[encoded data removed]",
      "text/plain": [
       "<Figure size 432x288 with 1 Axes>"
      ]
     },
     "metadata": {
      "needs_background": "light"
     },
     "output_type": "display_data"
    }
   ],
   "source": [
    "lasso_sstype(SS_304,\"SS304\")"
   ]
  },
  {
   "cell_type": "code",
   "execution_count": 196,
   "metadata": {},
   "outputs": [
    {
     "name": "stdout",
     "output_type": "stream",
     "text": [
      "Training dataset: (174, 13)\n",
      "Test dataset: (75, 13)\n",
      "RMSE train: 0.11426616414427013\n",
      "r2 score for train:  0.0\n",
      "RMSE test: 0.1445390465608348\n",
      "r2 score for test:  -0.04080420494733561\n"
     ]
    },
    {
     "data": {
      "image/png": "[encoded data removed]",
      "text/plain": [
       "<Figure size 432x288 with 1 Axes>"
      ]
     },
     "metadata": {
      "needs_background": "light"
     },
     "output_type": "display_data"
    }
   ],
   "source": [
    "lasso_sstype(SS_316,\"SS316\")"
   ]
  },
  {
   "cell_type": "code",
   "execution_count": 197,
   "metadata": {},
   "outputs": [
    {
     "name": "stdout",
     "output_type": "stream",
     "text": [
      "Training dataset: (179, 13)\n",
      "Test dataset: (78, 13)\n",
      "RMSE train: 0.11350965263481344\n",
      "r2 score for train:  0.6878051278872657\n",
      "RMSE test: 0.11772015738590262\n",
      "r2 score for test:  0.668580143262604\n"
     ]
    },
    {
     "data": {
      "image/png": "[encoded data removed]",
      "text/plain": [
       "<Figure size 432x288 with 1 Axes>"
      ]
     },
     "metadata": {
      "needs_background": "light"
     },
     "output_type": "display_data"
    }
   ],
   "source": [
    "lasso_sstype(SS_347,\"SS347\")"
   ]
  },
  {
   "cell_type": "code",
   "execution_count": null,
   "metadata": {},
   "outputs": [],
   "source": []
  }
 ],
 "metadata": {
  "kernelspec": {
   "display_name": "Python 3",
   "language": "python",
   "name": "python3"
  },
  "language_info": {
   "codemirror_mode": {
    "name": "ipython",
    "version": 3
   },
   "file_extension": ".py",
   "mimetype": "text/x-python",
   "name": "python",
   "nbconvert_exporter": "python",
   "pygments_lexer": "ipython3",
   "version": "3.8.5"
  }
 },
 "nbformat": 4,
 "nbformat_minor": 4
}
