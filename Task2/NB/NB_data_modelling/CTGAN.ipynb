{
 "cells": [
  {
   "cell_type": "markdown",
   "metadata": {},
   "source": [
    "Test CTGAN for simulation (problem with distribution i.e. negative numbers)"
   ]
  },
  {
   "cell_type": "code",
   "execution_count": null,
   "metadata": {},
   "outputs": [],
   "source": [
    "import pandas as pd\n",
    "import numpy as np\n",
    "import matplotlib.pyplot as plt\n",
    "import seaborn as sns\n",
    "\n",
    "from ctgan import CTGANSynthesizer\n",
    "\n",
    "import os, glob"
   ]
  },
  {
   "cell_type": "code",
   "execution_count": null,
   "metadata": {},
   "outputs": [],
   "source": [
    "def plot_corr(data, figsize=(15,15)):\n",
    "    '''\n",
    "    Plot correlation \n",
    "    Args:\n",
    "    - data: pd dataframe\n",
    "    '''\n",
    "    corr = data.corr()\n",
    "    sns.set(font_scale=1.2)\n",
    "    mask = np.triu(np.ones_like(corr, dtype=bool))\n",
    "    with sns.axes_style(\"white\"):\n",
    "        f, ax = plt.subplots(figsize=figsize)\n",
    "        ax = sns.heatmap(corr, mask=mask, square=True, cmap='RdBu_r', center=0, annot=True,\n",
    "                        annot_kws={'fontsize':8})"
   ]
  },
  {
   "cell_type": "code",
   "execution_count": null,
   "metadata": {},
   "outputs": [],
   "source": [
    "data = pd.read_csv(os.path.join(os.path.dirname(os.getcwd()), '../Data/Merged_data/MERGE_FT_TEP_UT_on_ID.csv'),\n",
    "                    index_col=0)"
   ]
  },
  {
   "cell_type": "code",
   "execution_count": null,
   "metadata": {},
   "outputs": [],
   "source": [
    "data.index = data.index.str.rstrip('-12345')"
   ]
  },
  {
   "cell_type": "code",
   "execution_count": null,
   "metadata": {},
   "outputs": [],
   "source": [
    "mean_df = data.groupby('ID').mean()\n",
    "mean_df.dropna(how='any', inplace=True)\n",
    "#mean_df['Type'] = mean_df.index.str.split('-').str[0].astype('category')\n",
    "#mean_df['CW'] = mean_df.index.str.split('-').str[1].astype('category')\n",
    "mean_df['type_cw'] = mean_df.index.astype('category')"
   ]
  },
  {
   "cell_type": "code",
   "execution_count": null,
   "metadata": {},
   "outputs": [],
   "source": [
    "mean_df.info()"
   ]
  },
  {
   "cell_type": "markdown",
   "metadata": {},
   "source": [
    "# 1. Model the data"
   ]
  },
  {
   "cell_type": "markdown",
   "metadata": {},
   "source": [
    "## Step 1: Prepare your data\n",
    "\n",
    "CTGAN expects the input data to be a table given as either a numpy.ndarray or a pandas.DataFrame object with two types of columns:\n",
    "\n",
    "- Continuous Columns: Columns that contain numerical values and which can take any value.\n",
    "- Discrete columns: Columns that only contain a finite number of possible values, wether these are string values or not.\n",
    "\n",
    "\n",
    "Aside from the table itself, you will need to create a **list with the names of the discrete variables.**\n"
   ]
  },
  {
   "cell_type": "code",
   "execution_count": null,
   "metadata": {},
   "outputs": [],
   "source": [
    "discrete_columns = mean_df.loc[:, mean_df.dtypes == 'category'].columns.to_list()"
   ]
  },
  {
   "cell_type": "markdown",
   "metadata": {},
   "source": [
    "## Step 2: Fit CTGAN to your data"
   ]
  },
  {
   "cell_type": "code",
   "execution_count": null,
   "metadata": {},
   "outputs": [],
   "source": [
    "ctgan = CTGANSynthesizer()\n",
    "ctgan.fit(mean_df, discrete_columns, epochs=500)"
   ]
  },
  {
   "cell_type": "markdown",
   "metadata": {},
   "source": [
    "# 2. Generate synthetic data"
   ]
  },
  {
   "cell_type": "code",
   "execution_count": null,
   "metadata": {},
   "outputs": [],
   "source": [
    "samples = ctgan.sample(1000)"
   ]
  },
  {
   "cell_type": "code",
   "execution_count": null,
   "metadata": {},
   "outputs": [],
   "source": [
    "samples.columns"
   ]
  },
  {
   "cell_type": "code",
   "execution_count": null,
   "metadata": {},
   "outputs": [],
   "source": [
    "col = ['KJIC', 'MS_Avg', 'MS_neg_error', 'MS_pos_error', 'TEP_average',\n",
    "       'TEP_error', 'Beta_avg', 'PC_IF_2.25MHz', 'SE_IF_2.25MHz',\n",
    "       'SE_%_IF_2.25MHz', 'PC_IF_3.5MHz', 'SE_IF_3.5MHz',\n",
    "       'SE_%_IF_3.5MHz', 'PC_BS']\n",
    "samples[col] = samples[col].astype('float')\n",
    "samples.info()"
   ]
  },
  {
   "cell_type": "code",
   "execution_count": null,
   "metadata": {},
   "outputs": [],
   "source": [
    "short_mean = samples.loc[:, ['KJIC', 'MS_Avg', 'TEP_average',\n",
    "        'Beta_avg', 'PC_IF_2.25MHz', 'PC_IF_3.5MHz',\n",
    "       'PC_BS', 'type_cw']]\n",
    "short_mean.info()"
   ]
  },
  {
   "cell_type": "code",
   "execution_count": null,
   "metadata": {},
   "outputs": [],
   "source": [
    "plot_corr(short_mean)"
   ]
  },
  {
   "cell_type": "code",
   "execution_count": null,
   "metadata": {},
   "outputs": [],
   "source": [
    "sns.pairplot(short_mean)"
   ]
  },
  {
   "cell_type": "markdown",
   "metadata": {},
   "source": [
    "# 4. Save and load the synthesizer\n",
    "\n",
    "To save a trained ctgan synthesizer, use\n",
    "\n",
    "`ctgan.save(path_to_a_folder)`\n",
    "\n",
    "To restore a saved synthesizer, use\n",
    "\n",
    "`ctgan = CTGANSynthesizer()\n",
    "ctgan.fit(data, discrete_columns, epochs=0, load_path=path_to_a_folder)`"
   ]
  },
  {
   "cell_type": "code",
   "execution_count": null,
   "metadata": {},
   "outputs": [],
   "source": []
  }
 ],
 "metadata": {
  "kernelspec": {
   "display_name": "Python 3",
   "language": "python",
   "name": "python3"
  },
  "language_info": {
   "codemirror_mode": {
    "name": "ipython",
    "version": 3
   },
   "file_extension": ".py",
   "mimetype": "text/x-python",
   "name": "python",
   "nbconvert_exporter": "python",
   "pygments_lexer": "ipython3",
   "version": "3.8.5"
  }
 },
 "nbformat": 4,
 "nbformat_minor": 4
}
