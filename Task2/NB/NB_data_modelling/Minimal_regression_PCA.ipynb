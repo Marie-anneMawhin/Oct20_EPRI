{
 "cells": [
  {
   "cell_type": "markdown",
   "metadata": {},
   "source": [
    "Run PCA and plot regression on PC1\n",
    "\n",
    "Plot feature importance and explained variance"
   ]
  },
  {
   "cell_type": "code",
   "execution_count": null,
   "metadata": {},
   "outputs": [],
   "source": [
    "import pandas as pd\n",
    "import numpy as np\n",
    "import matplotlib.pyplot as plt\n",
    "import seaborn as sns\n",
    "from scipy.cluster import hierarchy\n",
    "from sklearn.preprocessing import MinMaxScaler\n",
    "import os, glob, inspect, sys\n",
    "import re\n",
    "from sklearn.decomposition import PCA\n",
    "from sklearn.preprocessing import PolynomialFeatures\n",
    "\n",
    "currentdir = os.path.dirname(os.path.abspath(inspect.getfile(inspect.currentframe())))\n",
    "parentdir = os.path.dirname(currentdir)\n",
    "sys.path.insert(0,parentdir) \n",
    "import epri_mc_lib_2 as mc\n",
    "from importlib import reload\n",
    "reload(mc)\n"
   ]
  },
  {
   "cell_type": "markdown",
   "metadata": {},
   "source": [
    "### Import data and merge replicates"
   ]
  },
  {
   "cell_type": "code",
   "execution_count": null,
   "metadata": {},
   "outputs": [],
   "source": [
    "merged = pd.read_csv(os.path.join(os.path.dirname(os.getcwd()), '../Data/Merged_data/MERGE_FT_TEP_UT_on_ID.csv'),\n",
    "                    index_col=0)\n",
    "merged.index = merged.index.str.rstrip('-12345')\n",
    "mean_df = merged.groupby('ID').mean()\n",
    "# Get rid of cold work\n",
    "cw_regex = re.compile(\"[0-9]+$\") \n",
    "mean_df['cold_work'] = [str(re.search(cw_regex,x).group()) for x in mean_df.index]\n",
    "mean_df.index = mean_df.index.str.rstrip('02468')\n",
    "mean_df.index = mean_df.index.str.rstrip('-')\n"
   ]
  },
  {
   "cell_type": "markdown",
   "metadata": {},
   "source": [
    "## Select columns of interest"
   ]
  },
  {
   "cell_type": "code",
   "execution_count": null,
   "metadata": {},
   "outputs": [],
   "source": [
    "mean_df = mean_df[[\"KJIC\",\"MS_Avg\",\"TEP_average\",\"Beta_avg\",\"IF_amp_2.25MHz\",\"IF_amp_3.5MHz\",\"BS_amp\",\"cold_work\"]].dropna().drop('A286', axis=0)\n",
    "mean_df['log_MS_Avg'] = np.log(mean_df['MS_Avg'])\n",
    "mean_df['log_beta_avg'] = np.log(mean_df['Beta_avg']) \n",
    "log_kjic = np.log(mean_df.KJIC)\n",
    "mean_kjic = mean_df.KJIC\n",
    "mean_df.drop(columns=['KJIC','MS_Avg','Beta_avg'], inplace=True)\n"
   ]
  },
  {
   "cell_type": "markdown",
   "metadata": {},
   "source": [
    "## Scale data"
   ]
  },
  {
   "cell_type": "code",
   "execution_count": null,
   "metadata": {},
   "outputs": [],
   "source": [
    "scaled_df = mc.scale_general(mean_df, MinMaxScaler())[0]\n",
    "scaled_kjic = mc.scale_general(pd.DataFrame(log_kjic), MinMaxScaler())[0]\n"
   ]
  },
  {
   "cell_type": "markdown",
   "metadata": {},
   "source": [
    "### PCA"
   ]
  },
  {
   "cell_type": "code",
   "execution_count": null,
   "metadata": {},
   "outputs": [],
   "source": [
    "for ind in scaled_df.index.unique():\n",
    "    subset_dr = scaled_df[scaled_df.index==ind].copy()\n",
    "    subset_dr.index = subset_dr.cold_work\n",
    "    subset_dr.drop(columns=['cold_work'],inplace=True)\n",
    "    subset_dr.rename(index={0.00:'0%',0.25:'20%',0.50:'40%',0.75:'60%',1.00:'80%'},inplace=True)\n",
    "    pca = PCA(n_components=4, svd_solver='full')\n",
    "    pca.fit(subset_dr)\n",
    "    color_dict = { '0%':'red', '20%':'blue', '40%':'green', '60%':'orange', '80%':'pink' }\n",
    "    mc.biplot(pca, subset_dr, 0, 1, \"PCA biplot \"+ind)    "
   ]
  },
  {
   "cell_type": "markdown",
   "metadata": {},
   "source": [
    "### Comparing to features"
   ]
  },
  {
   "cell_type": "code",
   "execution_count": null,
   "metadata": {},
   "outputs": [],
   "source": [
    "colors=['blue','red','orange']\n",
    "markers=['.','^','*']\n",
    "i=0\n",
    "\n",
    "for ind in scaled_df.index.unique():\n",
    "    subset_dr = scaled_df[scaled_df.index==ind].copy()\n",
    "    subset_kjic = scaled_kjic[scaled_kjic.index==ind].copy()\n",
    "    subset_dr.index = subset_dr.cold_work\n",
    "    subset_dr.rename(index={0.00:'0%',0.25:'20%',0.50:'40%',0.75:'60%',1.00:'80%'},inplace=True)\n",
    "    plt.plot(subset_dr.index,np.exp(subset_kjic), label=ind,c=colors[i],marker=markers[i])\n",
    "    plt.xlabel('Cold Work')\n",
    "    plt.ylabel('log KJIC')\n",
    "    plt.legend()\n",
    "    i+=1"
   ]
  },
  {
   "cell_type": "code",
   "execution_count": null,
   "metadata": {},
   "outputs": [],
   "source": [
    "colors=['blue','red','orange']\n",
    "markers=['.','^','*']\n",
    "i=0\n",
    "\n",
    "for ind in scaled_df.index.unique():\n",
    "    subset_dr = scaled_df[scaled_df.index==ind].copy()\n",
    "    subset_kjic = scaled_kjic[scaled_kjic.index==ind].copy()\n",
    "    subset_dr.index = subset_dr.cold_work\n",
    "    subset_dr.rename(index={0.00:'0%',0.25:'20%',0.50:'40%',0.75:'60%',1.00:'80%'},inplace=True)\n",
    "    plt.plot(subset_dr.index,subset_kjic, label=ind,c=colors[i],marker=markers[i])\n",
    "    plt.xlabel('Cold Work')\n",
    "    plt.ylabel('log KJIC')\n",
    "    plt.legend()\n",
    "    i+=1"
   ]
  },
  {
   "cell_type": "code",
   "execution_count": null,
   "metadata": {},
   "outputs": [],
   "source": [
    "colors=['blue','red','orange']\n",
    "markers=['.','^','*']\n",
    "i=0\n",
    "for ind in scaled_df.index.unique():\n",
    "    subset_dr = scaled_df[scaled_df.index==ind].copy()\n",
    "    subset_kjic = scaled_kjic[scaled_kjic.index==ind].copy()\n",
    "    subset_dr.index = subset_dr.cold_work\n",
    "    subset_dr.rename(index={0.00:'0%',0.25:'20%',0.50:'40%',0.75:'60%',1.00:'80%'},inplace=True)\n",
    "    plt.scatter(subset_dr.TEP_average,subset_kjic, label=ind,c=colors[i],marker=markers[i])\n",
    "    plt.xlabel('TEP')\n",
    "    plt.ylabel('log KJIC')\n",
    "    plt.legend()\n",
    "    i+=1"
   ]
  },
  {
   "cell_type": "code",
   "execution_count": null,
   "metadata": {},
   "outputs": [],
   "source": [
    "colors=['blue','red','orange']\n",
    "markers=['.','^','*']\n",
    "i=0\n",
    "for ind in scaled_df.index.unique():\n",
    "    subset_dr = scaled_df[scaled_df.index==ind].copy()\n",
    "    subset_kjic = scaled_kjic[scaled_kjic.index==ind].copy()\n",
    "    subset_dr.index = subset_dr.cold_work\n",
    "    subset_dr.rename(index={0.00:'0%',0.25:'20%',0.50:'40%',0.75:'60%',1.00:'80%'},inplace=True)\n",
    "    plt.scatter(subset_dr['IF_amp_2.25MHz'],subset_kjic, label=ind,c=colors[i],marker=markers[i])\n",
    "    plt.xlabel('IF_amp_2.25MHz')\n",
    "    plt.ylabel('log KJIC')\n",
    "    plt.legend()\n",
    "    i+=1"
   ]
  },
  {
   "cell_type": "markdown",
   "metadata": {},
   "source": [
    "### \"Regression\" models\n",
    "\n",
    "At this point a regression is pointless but it would be a linear regression so instead I'll just plot it and you can eyeball it to see what a fit line would behave like. Well 304 and 316 look linear with TEP, MS, and IF contributing."
   ]
  },
  {
   "cell_type": "code",
   "execution_count": null,
   "metadata": {},
   "outputs": [],
   "source": [
    "colors=['blue','red','orange']\n",
    "markers=['.','^','*']\n",
    "i=0\n",
    "for ind in scaled_df.index.unique():\n",
    "    subset_dr = scaled_df[scaled_df.index==ind].copy()\n",
    "    subset_kjic = scaled_kjic[scaled_kjic.index==ind].copy()\n",
    "    true_Y = subset_kjic\n",
    "    subset_dr.drop(columns=['cold_work'],inplace=True)\n",
    "    pca = PCA(n_components=1, svd_solver='full')\n",
    "    xs = pca.fit_transform(subset_dr)\n",
    "    plt.scatter(xs, subset_kjic, label=ind,c=colors[i],marker=markers[i])\n",
    "    plt.xlabel('PC1')\n",
    "    plt.ylabel('log KJIC')\n",
    "    plt.legend()\n",
    "    i+=1\n"
   ]
  },
  {
   "cell_type": "code",
   "execution_count": null,
   "metadata": {},
   "outputs": [],
   "source": [
    "scaled_df"
   ]
  },
  {
   "cell_type": "code",
   "execution_count": null,
   "metadata": {},
   "outputs": [],
   "source": [
    "i=0\n",
    "for ind in scaled_df.index.unique():\n",
    "    subset_dr = scaled_df[scaled_df.index==ind].copy()\n",
    "    subset_kjic = scaled_kjic[scaled_kjic.index==ind].copy()\n",
    "    true_Y = subset_kjic\n",
    "    subset_dr.drop(columns=['cold_work'],inplace=True)\n",
    "    pca = PCA(n_components=1, svd_solver='full')\n",
    "    xs = pca.fit_transform(subset_dr)\n",
    "    sns.regplot(xs, subset_kjic, scatter=True, fit_reg=True, color=colors[i], label=ind,marker=markers[i])\n",
    "    plt.xlabel('PC1')\n",
    "    plt.ylabel('log KJIC')\n",
    "    plt.legend()\n",
    "    i+=1\n"
   ]
  },
  {
   "cell_type": "code",
   "execution_count": null,
   "metadata": {},
   "outputs": [],
   "source": [
    "i=0\n",
    "for ind in scaled_df.index.unique():\n",
    "    subset_dr = scaled_df[scaled_df.index==ind].copy()\n",
    "    subset_kjic = mean_kjic[mean_kjic.index==ind].copy()\n",
    "    true_Y = subset_kjic\n",
    "    subset_dr.drop(columns=['cold_work'],inplace=True)\n",
    "    pca = PCA(n_components=1, svd_solver='full')\n",
    "    xs = pca.fit_transform(subset_dr)\n",
    "    sns.regplot(xs, subset_kjic, scatter=True, fit_reg=True, color=colors[i], label=ind,marker=markers[i])\n",
    "    plt.xlabel('PC1')\n",
    "    plt.ylabel('KJIC')\n",
    "    plt.ylim(0,225)\n",
    "    plt.legend()\n",
    "    i+=1\n"
   ]
  },
  {
   "cell_type": "code",
   "execution_count": null,
   "metadata": {},
   "outputs": [],
   "source": [
    "i=0\n",
    "for ind in scaled_df.index.unique():\n",
    "    subset_dr = scaled_df[scaled_df.index==ind].copy()\n",
    "    subset_kjic = scaled_kjic[scaled_kjic.index==ind].copy()\n",
    "    true_Y = subset_kjic\n",
    "    subset_dr.drop(columns=['cold_work'],inplace=True)\n",
    "    pca = PCA(n_components=1, svd_solver='full')\n",
    "    xs = pca.fit_transform(subset_dr)\n",
    "    plt.figure()\n",
    "    sns.regplot(xs, subset_kjic, scatter=True, fit_reg=True, color=colors[i], label=ind,marker=markers[i])\n",
    "    plt.ylim(0,1)\n",
    "    plt.xlabel('PC1')\n",
    "    plt.ylabel('log KJIC')\n",
    "    plt.legend()\n",
    "    i+=1\n"
   ]
  },
  {
   "cell_type": "code",
   "execution_count": null,
   "metadata": {},
   "outputs": [],
   "source": [
    "i=0\n",
    "for ind in scaled_df.index.unique():\n",
    "    subset_dr = scaled_df[scaled_df.index==ind].copy()\n",
    "    subset_kjic = mean_kjic[mean_kjic.index==ind].copy()\n",
    "    true_Y = subset_kjic\n",
    "    subset_dr.drop(columns=['cold_work'],inplace=True)\n",
    "    pca = PCA(n_components=1, svd_solver='full')\n",
    "    xs = pca.fit_transform(subset_dr)\n",
    "    plt.figure()\n",
    "    sns.regplot(xs, subset_kjic, scatter=True, fit_reg=True, color=colors[i], label=ind,marker=markers[i])\n",
    "    plt.ylim(0,225)\n",
    "    plt.xlabel('PC1')\n",
    "    plt.ylabel('KJIC')\n",
    "    plt.legend()\n",
    "    i+=1\n"
   ]
  },
  {
   "cell_type": "markdown",
   "metadata": {},
   "source": [
    "### Feature importance"
   ]
  },
  {
   "cell_type": "code",
   "execution_count": null,
   "metadata": {},
   "outputs": [],
   "source": [
    "for ind in scaled_df.index.unique():\n",
    "    subset_dr = scaled_df[scaled_df.index==ind].copy()\n",
    "    subset_dr.drop(columns=['cold_work'],inplace=True)\n",
    "    pca = PCA(n_components=4, svd_solver='full')\n",
    "    pca.fit(subset_dr)\n",
    "    plt.figure(figsize=(5, 5))\n",
    "    plt.bar([\"PC1\",\"PC2\",\"PC3\",\"PC4\"],pca.explained_variance_ratio_, align='center', alpha=0.5, color=\"gray\")\n",
    "    plt.ylim(0,1)\n",
    "    plt.title(ind)\n",
    "    plt.ylabel(\"Explained variance\")"
   ]
  },
  {
   "cell_type": "code",
   "execution_count": null,
   "metadata": {},
   "outputs": [],
   "source": [
    "for ind in scaled_df.index.unique():\n",
    "    subset_dr = scaled_df[scaled_df.index==ind].copy()\n",
    "    subset_dr.drop(columns=['cold_work'],inplace=True)\n",
    "    pca = PCA(n_components=4, svd_solver='full')\n",
    "    pca.fit(subset_dr)\n",
    "    plt.figure(figsize=(6, 6))\n",
    "    feature_importance = pd.DataFrame([x*abs(y) for x,y in zip(pca.explained_variance_ratio_, pca.components_)],columns=subset_dr.columns, index=[\"PC1\",\"PC2\",\"PC3\",\"PC4\"] )\n",
    "    plot_feat_imp = feature_importance.transpose().sort_values('PC1', ascending=False).transpose()\n",
    "    plot_feat_imp.plot(kind='barh', color=sns.color_palette('PuBu_r', 6, desat=0.9), width=0.6, figsize=(6,6))\n",
    "    plt.xlabel('Feature importance (explained variance ratio)', fontsize = 12)\n",
    "    plt.xlim(0,1)\n",
    "    plt.title(ind)\n",
    "    plt.ylabel(\"Explained variance\")"
   ]
  }
 ],
 "metadata": {
  "kernelspec": {
   "display_name": "Python 3",
   "language": "python",
   "name": "python3"
  },
  "language_info": {
   "codemirror_mode": {
    "name": "ipython",
    "version": 3
   },
   "file_extension": ".py",
   "mimetype": "text/x-python",
   "name": "python",
   "nbconvert_exporter": "python",
   "pygments_lexer": "ipython3",
   "version": "3.8.5"
  }
 },
 "nbformat": 4,
 "nbformat_minor": 4
}
