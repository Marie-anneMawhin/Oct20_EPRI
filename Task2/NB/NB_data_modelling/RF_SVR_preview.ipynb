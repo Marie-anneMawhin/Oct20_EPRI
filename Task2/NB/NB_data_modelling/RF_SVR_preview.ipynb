{
 "cells": [
  {
   "cell_type": "markdown",
   "metadata": {},
   "source": [
    "Pre-test of SVR and random forest (no tuning)"
   ]
  },
  {
   "cell_type": "code",
   "execution_count": null,
   "metadata": {},
   "outputs": [],
   "source": [
    "import pandas as pd\n",
    "import numpy as np\n",
    "import matplotlib.pyplot as plt\n",
    "import os, glob, inspect, sys\n",
    "import re\n",
    "\n",
    "from sklearn.preprocessing import MinMaxScaler\n",
    "\n",
    "currentdir = os.path.dirname(os.path.abspath(inspect.getfile(inspect.currentframe())))\n",
    "parentdir = os.path.dirname(currentdir)\n",
    "sys.path.insert(0,parentdir) \n",
    "import epri_mc_lib_2 as mc\n",
    "from importlib import reload\n",
    "reload(mc)"
   ]
  },
  {
   "cell_type": "code",
   "execution_count": null,
   "metadata": {},
   "outputs": [],
   "source": [
    "from sklearn import model_selection\n",
    "from sklearn.tree import DecisionTreeRegressor\n",
    "from sklearn.svm import SVR\n",
    "from sklearn.ensemble import RandomForestRegressor\n",
    "from sklearn.metrics import r2_score, mean_squared_error\n",
    "from sklearn.model_selection import train_test_split"
   ]
  },
  {
   "cell_type": "code",
   "execution_count": null,
   "metadata": {},
   "outputs": [],
   "source": [
    "df =  pd.read_csv(\"../../Data/Merged_data/CopulaGAN_simulated_data.csv\", index_col=0)\n",
    "df.drop(columns=[\"type_cw\"], inplace=True)\n"
   ]
  },
  {
   "cell_type": "code",
   "execution_count": null,
   "metadata": {},
   "outputs": [],
   "source": [
    "# df = df[df['Type']=='347']\n",
    "df['log_PC_IF_2.25MHz'] = np.log(df['PC_IF_2.25MHz']+1)\n",
    "df['log_beta_avg'] = np.log(df['Beta_avg'])\n",
    "df.drop(columns=['PC_IF_2.25MHz', 'Beta_avg'], inplace=True)\n"
   ]
  },
  {
   "cell_type": "code",
   "execution_count": null,
   "metadata": {},
   "outputs": [],
   "source": [
    "scaling_cols = [ 'MS_Avg', 'TEP_average', 'PC_IF_3.5MHz', 'PC_BS', 'log_PC_IF_2.25MHz', 'log_beta_avg','KJIC']\n",
    "\n",
    "scaled_df = df.copy()\n",
    "scaled_df[\"KJIC\"] = np.log(scaled_df.index)\n",
    "scaled_df[scaling_cols] = mc.scale_general(scaled_df[scaling_cols], MinMaxScaler())[0]\n",
    "scaled_df = scaled_df[scaling_cols + [\"Type\"]]\n"
   ]
  },
  {
   "cell_type": "markdown",
   "metadata": {},
   "source": [
    "## SVR"
   ]
  },
  {
   "cell_type": "code",
   "execution_count": null,
   "metadata": {},
   "outputs": [],
   "source": [
    "ss304 = scaled_df[scaled_df['Type']=='304']\n",
    "ss316 = scaled_df[scaled_df['Type']=='316']\n",
    "ss347 = scaled_df[scaled_df['Type']=='347']\n",
    "\n",
    "\n",
    "def svr_pipeline(mat_df):\n",
    "    mat_df = mat_df.drop(columns=[\"Type\"])\n",
    "    \n",
    "    X_train, X_test, y_train, y_test = train_test_split(mat_df.drop(columns=['KJIC']), \n",
    "                                                                mat_df['KJIC'], \n",
    "                                                                test_size=0.2, \n",
    "                                                                random_state=2020)\n",
    "    svr = SVR()\n",
    "    svr.fit(X_train, y_train)\n",
    "    y_pred = svr.predict(X_test)\n",
    "    \n",
    "    \n",
    "    print(\"r2 score for training: \", r2_score(y_train, svr.predict(X_train)))\n",
    "    print(\"r2 score for testing: \", r2_score(y_test, y_pred))\n",
    "    \n",
    "    \n",
    "    plt.scatter(y_test, y_pred)\n",
    "    plt.plot([0, 1], [0, 1])\n",
    "    plt.xlim([0, 1])\n",
    "    plt.ylim([0, 1])\n",
    "    plt.xlabel(\"Fracture Toughness\")\n",
    "    plt.ylabel(\"Predicted Fracture Toughness\")\n",
    "    \n",
    "    return \n"
   ]
  },
  {
   "cell_type": "code",
   "execution_count": null,
   "metadata": {},
   "outputs": [],
   "source": [
    "svr_pipeline(ss304)"
   ]
  },
  {
   "cell_type": "code",
   "execution_count": null,
   "metadata": {},
   "outputs": [],
   "source": [
    "svr_pipeline(ss316)"
   ]
  },
  {
   "cell_type": "code",
   "execution_count": null,
   "metadata": {},
   "outputs": [],
   "source": [
    "svr_pipeline(ss347)"
   ]
  },
  {
   "cell_type": "markdown",
   "metadata": {},
   "source": [
    "## Random Forest Regressor"
   ]
  },
  {
   "cell_type": "code",
   "execution_count": null,
   "metadata": {},
   "outputs": [],
   "source": [
    "def rf_pipeline(mat_df):\n",
    "    mat_df = mat_df.drop(columns=[\"Type\"])\n",
    "    \n",
    "    X_train, X_test, y_train, y_test = train_test_split(mat_df.drop(columns=['KJIC']), \n",
    "                                                                mat_df['KJIC'], \n",
    "                                                                test_size=0.2, \n",
    "                                                                random_state=2020)\n",
    "    model = RandomForestRegressor()\n",
    "    model.fit(X_train, y_train)\n",
    "    y_pred = model.predict(X_test)\n",
    "    \n",
    "    \n",
    "    print(\"r2 score for training: \", r2_score(y_train, model.predict(X_train)))\n",
    "    print(\"r2 score for testing: \", r2_score(y_test, y_pred))\n",
    "    \n",
    "    \n",
    "    plt.scatter(y_test, y_pred)\n",
    "    plt.plot([0, 1], [0, 1])\n",
    "    plt.xlim([0, 1])\n",
    "    plt.ylim([0, 1])\n",
    "    plt.xlabel(\"Fracture Toughness\")\n",
    "    plt.ylabel(\"Predicted Fracture Toughness\")\n",
    "    \n",
    "    return "
   ]
  },
  {
   "cell_type": "code",
   "execution_count": null,
   "metadata": {},
   "outputs": [],
   "source": [
    "rf_pipeline(ss304)"
   ]
  },
  {
   "cell_type": "code",
   "execution_count": null,
   "metadata": {},
   "outputs": [],
   "source": [
    "rf_pipeline(ss316)"
   ]
  },
  {
   "cell_type": "code",
   "execution_count": null,
   "metadata": {},
   "outputs": [],
   "source": [
    "rf_pipeline(ss347)"
   ]
  },
  {
   "cell_type": "code",
   "execution_count": null,
   "metadata": {},
   "outputs": [],
   "source": []
  },
  {
   "cell_type": "code",
   "execution_count": null,
   "metadata": {},
   "outputs": [],
   "source": []
  },
  {
   "cell_type": "code",
   "execution_count": null,
   "metadata": {},
   "outputs": [],
   "source": []
  }
 ],
 "metadata": {
  "kernelspec": {
   "display_name": "Python 3",
   "language": "python",
   "name": "python3"
  },
  "language_info": {
   "codemirror_mode": {
    "name": "ipython",
    "version": 3
   },
   "file_extension": ".py",
   "mimetype": "text/x-python",
   "name": "python",
   "nbconvert_exporter": "python",
   "pygments_lexer": "ipython3",
   "version": "3.8.5"
  }
 },
 "nbformat": 4,
 "nbformat_minor": 4
}
