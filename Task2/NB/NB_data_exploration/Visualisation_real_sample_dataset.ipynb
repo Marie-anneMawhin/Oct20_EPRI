{
 "cells": [
  {
   "cell_type": "markdown",
   "metadata": {},
   "source": [
    "Compare original to simulated data (boxplot and distribution plots)"
   ]
  },
  {
   "cell_type": "code",
   "execution_count": null,
   "metadata": {},
   "outputs": [],
   "source": [
    "import pandas as pd\n",
    "import numpy as np\n",
    "import matplotlib.pyplot as plt\n",
    "import seaborn as sns\n",
    "import os, glob, inspect, sys\n",
    "\n",
    "currentdir = os.path.dirname(os.path.abspath(inspect.getfile(inspect.currentframe())))\n",
    "parentdir = os.path.dirname(currentdir)\n",
    "sys.path.insert(0,parentdir) \n",
    "import epri_mc_lib_2 as mc\n",
    "from importlib import reload\n",
    "reload(mc)"
   ]
  },
  {
   "cell_type": "code",
   "execution_count": null,
   "metadata": {},
   "outputs": [],
   "source": [
    "df = pd.read_csv(os.path.join(os.path.dirname(os.getcwd()), '../Data/Merged_data/MERGE_FT_TEP_UT_on_ID.csv'),\n",
    "                    index_col=0)\n",
    "\n",
    "sampled_df=pd.read_csv(os.path.join(os.path.dirname(os.getcwd()), '../Data/Merged_data/CopulaGAN_simulated_data_up.csv'))"
   ]
  },
  {
   "cell_type": "code",
   "execution_count": null,
   "metadata": {},
   "outputs": [],
   "source": [
    "df.index = df.index.str.rstrip('-12345')\n",
    "df = df.groupby('ID').mean()\n",
    "#df['log_MS_Avg'] = np.log(df['MS_Avg'])\n",
    "#df['log_beta_avg'] = np.log(df['Beta_avg']) \n",
    "df = df[['KJIC', 'MS_Avg', 'TEP_average', 'Beta_avg', 'IF_amp_2.25MHz', 'IF_amp_3.5MHz','BS_amp']]\n",
    "\n",
    "\n",
    "\n",
    "#sampled_df['log_MS_Avg'] = np.log(sampled_df['MS_Avg'])\n",
    "#sampled_df['log_beta_avg'] = np.log(sampled_df['Beta_avg']) \n",
    "sampled_df=sampled_df[['KJIC', 'MS_Avg', 'TEP_average', 'Beta_avg', 'IF_amp_2.25MHz', 'IF_amp_3.5MHz','BS_amp']]\n"
   ]
  },
  {
   "cell_type": "markdown",
   "metadata": {},
   "source": [
    "### Boxplots for real and sampled data"
   ]
  },
  {
   "cell_type": "code",
   "execution_count": null,
   "metadata": {},
   "outputs": [],
   "source": [
    "data1 = df.drop(['KJIC'],axis=1).assign(Location=\"Real_Data\")\n",
    "data2 = sampled_df.drop(['KJIC'], axis=1).assign(Location=\"Simulated_Data\")"
   ]
  },
  {
   "cell_type": "code",
   "execution_count": null,
   "metadata": {},
   "outputs": [],
   "source": [
    "cdf = pd.concat([data1, data2])    \n",
    "mdf = pd.melt(cdf, id_vars=['Location'], var_name=['Feature'])\n"
   ]
  },
  {
   "cell_type": "code",
   "execution_count": null,
   "metadata": {},
   "outputs": [],
   "source": [
    "sns.set_style(\"whitegrid\", {'axes.grid' : False})\n",
    "sns.set_context(font_scale=3)\n",
    "fig= plt.figure(figsize=(20, 12))\n",
    "ax = sns.boxplot(x=\"Location\", y=\"value\", hue=\"Feature\", data=mdf)   \n",
    "sns.set(font_scale=1.7)\n",
    "\n",
    "plt.xlabel('')\n",
    "plt.title('Boxplot')\n",
    "plt.show()"
   ]
  },
  {
   "cell_type": "code",
   "execution_count": null,
   "metadata": {},
   "outputs": [],
   "source": [
    "my_pal = {\"Real_Data\": \"r\", \"Simulated_Data\": \"tab:grey\"}"
   ]
  },
  {
   "cell_type": "code",
   "execution_count": null,
   "metadata": {},
   "outputs": [],
   "source": [
    "data1 = df[['KJIC']].assign(Location=\"Real_Data\")\n",
    "data2 = sampled_df[['KJIC']].assign(Location=\"Simulated_Data\")\n",
    "\n",
    "cdf = pd.concat([data1, data2])    \n",
    "mdf = pd.melt(cdf, id_vars=['Location'], var_name=['Feature'])\n",
    "\n",
    "\n",
    "\n",
    "fig= plt.figure(figsize=(10, 8))\n",
    "\n",
    "sns.set_style(\"whitegrid\", {'axes.grid' : False})\n",
    "ax = sns.boxplot(x=\"Location\", y=\"value\", data=mdf, palette=my_pal)    \n",
    "plt.title('Boxplot_KJIC')\n",
    "\n",
    "plt.show()"
   ]
  },
  {
   "cell_type": "code",
   "execution_count": null,
   "metadata": {},
   "outputs": [],
   "source": [
    "data1 = df[['MS_Avg']].assign(Location=\"Real_Data\")\n",
    "data2 = sampled_df[['MS_Avg']].assign(Location=\"Simulated_Data\")\n",
    "\n",
    "cdf = pd.concat([data1, data2])    \n",
    "mdf = pd.melt(cdf, id_vars=['Location'], var_name=['Feature'])\n",
    "\n",
    "\n",
    "fig= plt.figure(figsize=(10, 8))\n",
    "\n",
    "sns.set_style(\"whitegrid\", {'axes.grid' : False})\n",
    "ax = sns.boxplot(x=\"Location\", y=\"value\", data=mdf, palette=my_pal)    \n",
    "plt.title('Boxplot_MS_Avg')\n",
    "plt.show()"
   ]
  },
  {
   "cell_type": "code",
   "execution_count": null,
   "metadata": {},
   "outputs": [],
   "source": [
    "data1 = df[['TEP_average']].assign(Location=\"Real_Data\")\n",
    "data2 = sampled_df[['TEP_average']].assign(Location=\"Simulated_Data\")\n",
    "\n",
    "cdf = pd.concat([data1, data2])    \n",
    "mdf = pd.melt(cdf, id_vars=['Location'], var_name=['Feature'])\n",
    "\n",
    "fig= plt.figure(figsize=(10, 8))\n",
    "\n",
    "sns.set_style(\"whitegrid\", {'axes.grid' : False})\n",
    "ax = sns.boxplot(x=\"Location\", y=\"value\", data=mdf, palette=my_pal)    \n",
    "plt.title('Boxplot_TEP_average')\n",
    "plt.show()"
   ]
  },
  {
   "cell_type": "code",
   "execution_count": null,
   "metadata": {},
   "outputs": [],
   "source": [
    "data1 = df[['Beta_avg']].assign(Location=\"Real_Data\")\n",
    "data2 = sampled_df[['Beta_avg']].assign(Location=\"Simulated_Data\")\n",
    "\n",
    "cdf = pd.concat([data1, data2])    \n",
    "mdf = pd.melt(cdf, id_vars=['Location'], var_name=['Feature'])\n",
    "\n",
    "fig= plt.figure(figsize=(10, 8))\n",
    "\n",
    "sns.set_style(\"whitegrid\", {'axes.grid' : False})\n",
    "ax = sns.boxplot(x=\"Location\", y=\"value\", data=mdf, palette=my_pal)    \n",
    "plt.title('Boxplot_Beta_avg')\n",
    "plt.show()"
   ]
  },
  {
   "cell_type": "code",
   "execution_count": null,
   "metadata": {},
   "outputs": [],
   "source": [
    "data1 = df[['IF_amp_2.25MHz']].assign(Location=\"Real_Data\")\n",
    "data2 = sampled_df[['IF_amp_2.25MHz']].assign(Location=\"Simulated_Data\")\n",
    "\n",
    "cdf = pd.concat([data1, data2])    \n",
    "mdf = pd.melt(cdf, id_vars=['Location'], var_name=['Feature'])\n",
    "\n",
    "fig= plt.figure(figsize=(10, 8))\n",
    "ax = sns.boxplot(x=\"Location\", y=\"value\", data=mdf, palette=my_pal)    \n",
    "plt.title('Boxplot_PC_IF_2.25MHz')\n",
    "plt.show()"
   ]
  },
  {
   "cell_type": "code",
   "execution_count": null,
   "metadata": {},
   "outputs": [],
   "source": [
    "data1 = df[['IF_amp_3.5MHz']].assign(Location=\"Real_Data\")\n",
    "data2 = sampled_df[['IF_amp_3.5MHz']].assign(Location=\"Simulated_Data\")\n",
    "\n",
    "cdf = pd.concat([data1, data2])    \n",
    "mdf = pd.melt(cdf, id_vars=['Location'], var_name=['Feature'])\n",
    "\n",
    "fig= plt.figure(figsize=(10, 8))\n",
    "ax = sns.boxplot(x=\"Location\", y=\"value\", data=mdf,  palette=my_pal)    \n",
    "plt.title('Boxplot_PC_IF_3.5MHz')\n",
    "plt.show()"
   ]
  },
  {
   "cell_type": "code",
   "execution_count": null,
   "metadata": {},
   "outputs": [],
   "source": [
    "data1 = df[['BS_amp']].assign(Location=\"Real_Data\")\n",
    "data2 = sampled_df[['BS_amp']].assign(Location=\"Simulated_Data\")\n",
    "\n",
    "cdf = pd.concat([data1, data2])    \n",
    "mdf = pd.melt(cdf, id_vars=['Location'], var_name=['Feature'])\n",
    "\n",
    "fig= plt.figure(figsize=(10, 8))\n",
    "ax = sns.boxplot(x=\"Location\", y=\"value\", data=mdf, palette=my_pal)    \n",
    "plt.title('Boxplot_PC_BS')\n",
    "plt.show()"
   ]
  },
  {
   "cell_type": "markdown",
   "metadata": {},
   "source": [
    "### Scatter plots "
   ]
  },
  {
   "cell_type": "code",
   "execution_count": null,
   "metadata": {},
   "outputs": [],
   "source": [
    "sns.set(font_scale=1.3)\n",
    "sns.set_style(\"whitegrid\", {'axes.grid' : False})\n",
    "\n",
    "\n",
    "fig, axes = plt.subplots(3, 2,  sharex=False, sharey=False, figsize=(16,15))\n",
    "plt.tight_layout(h_pad=3, w_pad=3)\n",
    "\n",
    "for ax, col in zip(axes.flatten(), df.columns[1:]):\n",
    "    df.plot(kind='scatter', x=col, y='KJIC', color='r', label=\"Real\", ax=ax)    \n",
    "    sampled_df.plot(kind='scatter', x=col, y='KJIC', color='tab:gray', label=\"Synthetic\", ax=ax, alpha=0.1)    \n"
   ]
  },
  {
   "cell_type": "code",
   "execution_count": null,
   "metadata": {},
   "outputs": [],
   "source": []
  }
 ],
 "metadata": {
  "kernelspec": {
   "display_name": "Python 3",
   "language": "python",
   "name": "python3"
  },
  "language_info": {
   "codemirror_mode": {
    "name": "ipython",
    "version": 3
   },
   "file_extension": ".py",
   "mimetype": "text/x-python",
   "name": "python",
   "nbconvert_exporter": "python",
   "pygments_lexer": "ipython3",
   "version": "3.8.5"
  }
 },
 "nbformat": 4,
 "nbformat_minor": 4
}
