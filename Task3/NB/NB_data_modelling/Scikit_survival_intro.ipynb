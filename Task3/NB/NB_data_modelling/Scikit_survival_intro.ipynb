{
 "cells": [
  {
   "cell_type": "code",
   "execution_count": 171,
   "metadata": {},
   "outputs": [],
   "source": [
    "import pandas as pd\n",
    "import numpy as np\n",
    "import matplotlib.pyplot as plt\n",
    "import seaborn as sns\n",
    "import os, glob, inspect, sys\n",
    "from sksurv.nonparametric import kaplan_meier_estimator\n",
    "from sksurv.linear_model import CoxPHSurvivalAnalysis\n",
    "\n"
   ]
  },
  {
   "cell_type": "code",
   "execution_count": 172,
   "metadata": {},
   "outputs": [],
   "source": [
    "data = pd.read_csv(os.path.join(os.path.dirname(os.getcwd()), '../Data/Merged_data/Survival_df.csv'),\n",
    "                  index_col=0)"
   ]
  },
  {
   "cell_type": "code",
   "execution_count": 173,
   "metadata": {},
   "outputs": [],
   "source": [
    "data_x = data.iloc[:, 2:]\n",
    "data_y = data.iloc[:, 0:2]"
   ]
  },
  {
   "cell_type": "markdown",
   "metadata": {},
   "source": [
    "## Kaplan Meier"
   ]
  },
  {
   "cell_type": "code",
   "execution_count": 174,
   "metadata": {},
   "outputs": [
    {
     "data": {
      "text/plain": [
       "Text(0.5, 0, 'time $t$')"
      ]
     },
     "execution_count": 174,
     "metadata": {},
     "output_type": "execute_result"
    },
    {
     "data": {
      "image/png": "[encoded data removed]",
      "text/plain": [
       "<Figure size 432x288 with 1 Axes>"
      ]
     },
     "metadata": {
      "needs_background": "light"
     },
     "output_type": "display_data"
    }
   ],
   "source": [
    "time, survival_prob = kaplan_meier_estimator(data_y[\"Observed\"], data_y[\"F_Time\"])\n",
    "plt.step(time, survival_prob, where=\"post\")\n",
    "plt.ylabel(\"est. probability of survival $\\hat{S}(t)$\")\n",
    "plt.xlabel(\"time $t$\")"
   ]
  },
  {
   "cell_type": "markdown",
   "metadata": {},
   "source": [
    "## Kaplan Meier by 'age' i.e. cycle at NDE"
   ]
  },
  {
   "cell_type": "code",
   "execution_count": 176,
   "metadata": {},
   "outputs": [
    {
     "data": {
      "text/plain": [
       "<matplotlib.legend.Legend at 0x7f6dbe7a14f0>"
      ]
     },
     "execution_count": 176,
     "metadata": {},
     "output_type": "execute_result"
    },
    {
     "data": {
      "image/png": "[encoded data removed]",
      "text/plain": [
       "<Figure size 432x288 with 1 Axes>"
      ]
     },
     "metadata": {
      "needs_background": "light"
     },
     "output_type": "display_data"
    }
   ],
   "source": [
    "for age in [0, 450000, 600000, 750000, 900000]:\n",
    "    mask_treat = data_x[\"NDE_cycle\"] == age\n",
    "    time_age, survival_prob_age = kaplan_meier_estimator(\n",
    "        data_y[\"Observed\"][mask_treat],\n",
    "        data_y[\"F_Time\"][mask_treat])\n",
    "\n",
    "    plt.step(time_age, survival_prob_age, where=\"post\",\n",
    "             label=\"NDE time = %s\" % age)\n",
    "\n",
    "plt.ylabel(\"est. probability of survival $\\hat{S}(t)$\")\n",
    "plt.xlabel(\"time $t$\")\n",
    "plt.legend(loc=\"best\")"
   ]
  },
  {
   "cell_type": "markdown",
   "metadata": {},
   "source": [
    "## Structured array for Cox"
   ]
  },
  {
   "cell_type": "code",
   "execution_count": 177,
   "metadata": {},
   "outputs": [],
   "source": [
    "data_y_num = data_y.to_records(index=False)"
   ]
  },
  {
   "cell_type": "markdown",
   "metadata": {},
   "source": [
    "## Cox survival analysis"
   ]
  },
  {
   "cell_type": "code",
   "execution_count": 178,
   "metadata": {},
   "outputs": [
    {
     "name": "stdout",
     "output_type": "stream",
     "text": [
      "iter      1: loss = 0.2735597685\n",
      "iter      2: loss = 0.1125178944\n",
      "iter      3: loss = 0.0492022581\n",
      "iter      4: loss = 0.0228681056\n",
      "iter      5: loss = 0.3838228071\n",
      "iter      4: loss increased, performing step-halving. loss = 0.0329107245\n",
      "iter      6: loss = 0.0149345735\n",
      "iter      7: loss = 0.0079678768\n",
      "iter      8: loss = 0.0058380946\n",
      "iter      9: loss = 0.0051705976\n",
      "iter     10: loss = 0.0048391636\n",
      "iter     11: loss = 0.0046300913\n",
      "iter     12: loss = 0.0044254426\n",
      "iter     13: loss = 11.0045282263\n",
      "iter     12: loss increased, performing step-halving. loss = 0.0045029132\n",
      "iter     14: loss = 0.5911439889\n",
      "iter     13: loss increased, performing step-halving. loss = 0.0045593698\n",
      "iter     15: loss = 0.0042865617\n",
      "iter     16: loss = 0.0042254501\n",
      "iter     17: loss = 0.0041896559\n",
      "iter     18: loss = 0.0041810043\n",
      "iter     19: loss = 0.0041798652\n",
      "iter     20: loss = 0.0041798270\n",
      "iter     21: loss = 0.0041798269\n",
      "iter     22: loss = 0.0041798269\n",
      "iter     22: optimization converged\n"
     ]
    },
    {
     "name": "stderr",
     "output_type": "stream",
     "text": [
      "/home/marie-anne/anaconda3/envs/EPRI/lib/python3.8/site-packages/sksurv/linear_model/coxph.py:425: LinAlgWarning: Ill-conditioned matrix (rcond=4.66688e-17): result may not be accurate.\n",
      "  delta = solve(optimizer.hessian, optimizer.gradient,\n",
      "/home/marie-anne/anaconda3/envs/EPRI/lib/python3.8/site-packages/sksurv/linear_model/coxph.py:425: LinAlgWarning: Ill-conditioned matrix (rcond=7.93774e-18): result may not be accurate.\n",
      "  delta = solve(optimizer.hessian, optimizer.gradient,\n",
      "/home/marie-anne/anaconda3/envs/EPRI/lib/python3.8/site-packages/sksurv/linear_model/coxph.py:425: LinAlgWarning: Ill-conditioned matrix (rcond=3.88442e-18): result may not be accurate.\n",
      "  delta = solve(optimizer.hessian, optimizer.gradient,\n",
      "/home/marie-anne/anaconda3/envs/EPRI/lib/python3.8/site-packages/sksurv/linear_model/coxph.py:425: LinAlgWarning: Ill-conditioned matrix (rcond=2.09751e-18): result may not be accurate.\n",
      "  delta = solve(optimizer.hessian, optimizer.gradient,\n",
      "/home/marie-anne/anaconda3/envs/EPRI/lib/python3.8/site-packages/sksurv/linear_model/coxph.py:425: LinAlgWarning: Ill-conditioned matrix (rcond=9.13446e-19): result may not be accurate.\n",
      "  delta = solve(optimizer.hessian, optimizer.gradient,\n",
      "/home/marie-anne/anaconda3/envs/EPRI/lib/python3.8/site-packages/sksurv/linear_model/coxph.py:425: LinAlgWarning: Ill-conditioned matrix (rcond=9.71208e-19): result may not be accurate.\n",
      "  delta = solve(optimizer.hessian, optimizer.gradient,\n",
      "/home/marie-anne/anaconda3/envs/EPRI/lib/python3.8/site-packages/sksurv/linear_model/coxph.py:425: LinAlgWarning: Ill-conditioned matrix (rcond=3.71787e-17): result may not be accurate.\n",
      "  delta = solve(optimizer.hessian, optimizer.gradient,\n",
      "/home/marie-anne/anaconda3/envs/EPRI/lib/python3.8/site-packages/sksurv/linear_model/coxph.py:425: LinAlgWarning: Ill-conditioned matrix (rcond=3.95796e-17): result may not be accurate.\n",
      "  delta = solve(optimizer.hessian, optimizer.gradient,\n",
      "/home/marie-anne/anaconda3/envs/EPRI/lib/python3.8/site-packages/sksurv/linear_model/coxph.py:425: LinAlgWarning: Ill-conditioned matrix (rcond=4.49516e-17): result may not be accurate.\n",
      "  delta = solve(optimizer.hessian, optimizer.gradient,\n",
      "/home/marie-anne/anaconda3/envs/EPRI/lib/python3.8/site-packages/sksurv/linear_model/coxph.py:425: LinAlgWarning: Ill-conditioned matrix (rcond=1.7815e-17): result may not be accurate.\n",
      "  delta = solve(optimizer.hessian, optimizer.gradient,\n",
      "/home/marie-anne/anaconda3/envs/EPRI/lib/python3.8/site-packages/sksurv/linear_model/coxph.py:425: LinAlgWarning: Ill-conditioned matrix (rcond=1.35204e-17): result may not be accurate.\n",
      "  delta = solve(optimizer.hessian, optimizer.gradient,\n",
      "/home/marie-anne/anaconda3/envs/EPRI/lib/python3.8/site-packages/sksurv/linear_model/coxph.py:425: LinAlgWarning: Ill-conditioned matrix (rcond=7.58035e-18): result may not be accurate.\n",
      "  delta = solve(optimizer.hessian, optimizer.gradient,\n",
      "/home/marie-anne/anaconda3/envs/EPRI/lib/python3.8/site-packages/sksurv/linear_model/coxph.py:425: LinAlgWarning: Ill-conditioned matrix (rcond=8.26757e-18): result may not be accurate.\n",
      "  delta = solve(optimizer.hessian, optimizer.gradient,\n",
      "/home/marie-anne/anaconda3/envs/EPRI/lib/python3.8/site-packages/sksurv/linear_model/coxph.py:425: LinAlgWarning: Ill-conditioned matrix (rcond=7.96721e-18): result may not be accurate.\n",
      "  delta = solve(optimizer.hessian, optimizer.gradient,\n",
      "/home/marie-anne/anaconda3/envs/EPRI/lib/python3.8/site-packages/sksurv/linear_model/coxph.py:425: LinAlgWarning: Ill-conditioned matrix (rcond=7.76393e-18): result may not be accurate.\n",
      "  delta = solve(optimizer.hessian, optimizer.gradient,\n",
      "/home/marie-anne/anaconda3/envs/EPRI/lib/python3.8/site-packages/sksurv/linear_model/coxph.py:425: LinAlgWarning: Ill-conditioned matrix (rcond=8.49643e-18): result may not be accurate.\n",
      "  delta = solve(optimizer.hessian, optimizer.gradient,\n",
      "/home/marie-anne/anaconda3/envs/EPRI/lib/python3.8/site-packages/sksurv/linear_model/coxph.py:425: LinAlgWarning: Ill-conditioned matrix (rcond=9.91922e-18): result may not be accurate.\n",
      "  delta = solve(optimizer.hessian, optimizer.gradient,\n",
      "/home/marie-anne/anaconda3/envs/EPRI/lib/python3.8/site-packages/sksurv/linear_model/coxph.py:425: LinAlgWarning: Ill-conditioned matrix (rcond=1.01066e-17): result may not be accurate.\n",
      "  delta = solve(optimizer.hessian, optimizer.gradient,\n",
      "/home/marie-anne/anaconda3/envs/EPRI/lib/python3.8/site-packages/sksurv/linear_model/coxph.py:425: LinAlgWarning: Ill-conditioned matrix (rcond=1.01327e-17): result may not be accurate.\n",
      "  delta = solve(optimizer.hessian, optimizer.gradient,\n",
      "/home/marie-anne/anaconda3/envs/EPRI/lib/python3.8/site-packages/sksurv/linear_model/coxph.py:425: LinAlgWarning: Ill-conditioned matrix (rcond=1.01359e-17): result may not be accurate.\n",
      "  delta = solve(optimizer.hessian, optimizer.gradient,\n",
      "/home/marie-anne/anaconda3/envs/EPRI/lib/python3.8/site-packages/sksurv/linear_model/coxph.py:425: LinAlgWarning: Ill-conditioned matrix (rcond=1.01351e-17): result may not be accurate.\n",
      "  delta = solve(optimizer.hessian, optimizer.gradient,\n",
      "/home/marie-anne/anaconda3/envs/EPRI/lib/python3.8/site-packages/sksurv/linear_model/coxph.py:425: LinAlgWarning: Ill-conditioned matrix (rcond=1.0135e-17): result may not be accurate.\n",
      "  delta = solve(optimizer.hessian, optimizer.gradient,\n"
     ]
    },
    {
     "data": {
      "text/plain": [
       "CoxPHSurvivalAnalysis(alpha=1e-07, verbose=2)"
      ]
     },
     "execution_count": 178,
     "metadata": {},
     "output_type": "execute_result"
    }
   ],
   "source": [
    "estimator = CoxPHSurvivalAnalysis(alpha=0.0000001, verbose=2)\n",
    "estimator.fit(data_x, data_y_num)"
   ]
  },
  {
   "cell_type": "code",
   "execution_count": null,
   "metadata": {},
   "outputs": [],
   "source": []
  },
  {
   "cell_type": "code",
   "execution_count": null,
   "metadata": {},
   "outputs": [],
   "source": []
  }
 ],
 "metadata": {
  "kernelspec": {
   "display_name": "Python [conda env:EPRI]",
   "language": "python",
   "name": "conda-env-EPRI-py"
  },
  "language_info": {
   "codemirror_mode": {
    "name": "ipython",
    "version": 3
   },
   "file_extension": ".py",
   "mimetype": "text/x-python",
   "name": "python",
   "nbconvert_exporter": "python",
   "pygments_lexer": "ipython3",
   "version": "3.8.5"
  }
 },
 "nbformat": 4,
 "nbformat_minor": 4
}
