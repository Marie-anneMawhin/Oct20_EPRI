{
 "cells": [
  {
   "cell_type": "markdown",
   "metadata": {},
   "source": [
    "Penalized cox on original data data, plot survival curves, predict using median survival time"
   ]
  },
  {
   "cell_type": "markdown",
   "metadata": {},
   "source": [
    "# Penalized Cox Models\n",
    "Cox’s proportional hazard’s model is often an appealing model, because its coefficients can be interpreted in terms of hazard ratio, which often provides valuable insight. However, if we want to estimate the coefficients of many features, the standard Cox model falls apart, because internally it tries to invert a matrix that becomes non-singular due to correlations among features.\n",
    "\n"
   ]
  },
  {
   "cell_type": "code",
   "execution_count": null,
   "metadata": {},
   "outputs": [],
   "source": [
    "import pandas as pd\n",
    "import numpy as np\n",
    "import seaborn as sns\n",
    "import os, glob, inspect, sys\n",
    "import matplotlib.pyplot as plt\n",
    "%matplotlib inline\n",
    "\n",
    "\n",
    "import warnings\n",
    "from sklearn.exceptions import ConvergenceWarning\n",
    "from sklearn.model_selection import train_test_split\n",
    "\n",
    "from sksurv.linear_model import CoxPHSurvivalAnalysis, CoxnetSurvivalAnalysis\n",
    "\n",
    "from sklearn.model_selection import GridSearchCV, KFold\n",
    "from sklearn.pipeline import make_pipeline\n",
    "from sklearn.preprocessing import MinMaxScaler\n",
    "\n",
    "\n",
    "from sksurv.metrics import (concordance_index_censored,\n",
    "                            concordance_index_ipcw,\n",
    "                            cumulative_dynamic_auc)"
   ]
  },
  {
   "cell_type": "code",
   "execution_count": null,
   "metadata": {},
   "outputs": [],
   "source": [
    "def calc_median_survival(survival_func):\n",
    "    '''\n",
    "    Calculate the median survival as the time when survival probability falls below 0.5\n",
    "    If it doesn't fall below 0.5 then it will be set as the last time point observed\n",
    "    Args:\n",
    "    - survival_func: array of survival functions returned by predict_survival_function()\n",
    "    returns: \n",
    "    - median_survival_list: list of median survival times\n",
    "    '''\n",
    "    median_survival_list = []\n",
    "    for fn in survival_func:\n",
    "        found_list = np.where(fn(fn.x) <= 0.5)[0]\n",
    "        if len(found_list) != 0:\n",
    "            found_index = np.min(found_list)\n",
    "            median_survival_list.append(fn.x[found_index])\n",
    "        else:\n",
    "            median_survival_list.append(fn.x[len(fn.x)-1])\n",
    "    return median_survival_list"
   ]
  },
  {
   "cell_type": "code",
   "execution_count": null,
   "metadata": {},
   "outputs": [],
   "source": [
    "def score_survival_model_ipcw(model, X_test, y_train, y_test):\n",
    "    '''args: \n",
    "    -model\n",
    "    -X_test\n",
    "    -y_train\n",
    "    -y_test'''\n",
    "    prediction = model.predict(X_test)\n",
    "    if not getattr(model, \"_predict_risk_score\", True):\n",
    "        prediction *= -1  # convert prediction on time scale to risk scale\n",
    "    result = concordance_index_ipcw(y_train, y_test, prediction)\n",
    "    return result[0]"
   ]
  },
  {
   "cell_type": "code",
   "execution_count": null,
   "metadata": {},
   "outputs": [],
   "source": [
    "df = pd.read_csv(os.path.join(os.path.dirname(os.getcwd()), '../Data/Merged_data/Survival_df.csv'),\n",
    "                  index_col=0)\n"
   ]
  },
  {
   "cell_type": "code",
   "execution_count": null,
   "metadata": {},
   "outputs": [],
   "source": [
    "df_y=df.iloc[:, :2]\n",
    "df_x=df.iloc[:, 2:]"
   ]
  },
  {
   "cell_type": "code",
   "execution_count": null,
   "metadata": {},
   "outputs": [],
   "source": [
    "X_train, X_test, y_train, y_test = train_test_split(df_x, df_y, test_size=0.3, random_state=7)\n"
   ]
  },
  {
   "cell_type": "code",
   "execution_count": null,
   "metadata": {},
   "outputs": [],
   "source": [
    "X_train.columns"
   ]
  },
  {
   "cell_type": "code",
   "execution_count": null,
   "metadata": {},
   "outputs": [],
   "source": [
    "y_train=y_train.to_records(index=False)\n",
    "y_test=y_test.to_records(index=False)"
   ]
  },
  {
   "cell_type": "markdown",
   "metadata": {},
   "source": [
    "CoxPHSurvivalAnalysis and CoxnetSurvivalAnalysis are related but do not implement the same model. As you summarized, the difference is in penalty terms. Thus, the coefficients found by CoxPHSurvivalAnalysis and CoxnetSurvivalAnalysis will differ. In addition, CoxnetSurvivalAnalysis supports fitting a path of coefficients for varying penalization strength alpha without much computational overhead. CoxPHSurvivalAnalysis will return the result for a single a penalization strength alpha only. This is the main reason why constructors differ."
   ]
  },
  {
   "cell_type": "markdown",
   "metadata": {},
   "source": [
    "Run a gridsearch to find which subset and α generalizes best"
   ]
  },
  {
   "cell_type": "markdown",
   "metadata": {},
   "source": [
    "### if we obtain a  low score for ipcw we can lower the l1_ratio value to obtain a better score so we run the grid search again with l1_ratio=0.5 and since we choose this value because it gave us a higher score"
   ]
  },
  {
   "cell_type": "code",
   "execution_count": null,
   "metadata": {},
   "outputs": [],
   "source": [
    "alphas = 10. ** np.linspace(-4, 4, 50) # me make a list of alphas"
   ]
  },
  {
   "cell_type": "code",
   "execution_count": null,
   "metadata": {},
   "outputs": [],
   "source": [
    "cv = KFold(n_splits=2, shuffle=True, random_state=0)\n",
    "gcv = GridSearchCV(\n",
    "    make_pipeline(MinMaxScaler(), CoxnetSurvivalAnalysis(l1_ratio=0.5)),\n",
    "    param_grid={\"coxnetsurvivalanalysis__alphas\": [[v] for v in alphas]},\n",
    "    cv=cv,\n",
    "    error_score=0.5,\n",
    "    n_jobs=4).fit(X_train, y_train)\n",
    "\n",
    "cv_results = pd.DataFrame(gcv.cv_results_)\n",
    "\n"
   ]
  },
  {
   "cell_type": "markdown",
   "metadata": {},
   "source": [
    "# Survival and Cumulative Hazard Function\n",
    "Having selected a particular α through setting penality parameter l1_ratio to 0.9, we can perform prediction, either in terms of risk score using the predict function or in terms of survival or cumulative hazard function. For the latter two, we first need to re-fit the model with fit_baseline_model enabled."
   ]
  },
  {
   "cell_type": "code",
   "execution_count": null,
   "metadata": {},
   "outputs": [],
   "source": [
    "#using predict function for train dataset\n",
    "coxnet_pred = make_pipeline(\n",
    "    MinMaxScaler(),\n",
    "    CoxnetSurvivalAnalysis()\n",
    ")\n",
    "coxnet_pred.set_params(**gcv.best_params_)\n",
    "surv_func=coxnet_pred.fit(X_train, y_train)\n",
    "surv_func\n"
   ]
  },
  {
   "cell_type": "code",
   "execution_count": null,
   "metadata": {},
   "outputs": [],
   "source": [
    "print (\"ipcw:\", score_survival_model_ipcw(surv_func, X_test, y_train, y_test))"
   ]
  },
  {
   "cell_type": "code",
   "execution_count": null,
   "metadata": {},
   "outputs": [],
   "source": [
    "surv_func.score(X_test, y_test)"
   ]
  },
  {
   "cell_type": "code",
   "execution_count": null,
   "metadata": {},
   "outputs": [],
   "source": [
    "#using hazard function with baseline model set as True\n",
    "coxnet_pred = make_pipeline(\n",
    "    MinMaxScaler(),\n",
    "    CoxnetSurvivalAnalysis( fit_baseline_model=True)\n",
    ")\n",
    "coxnet_pred.set_params(**gcv.best_params_)\n",
    "coxnet_pred.fit(X_train, y_train)"
   ]
  },
  {
   "cell_type": "code",
   "execution_count": null,
   "metadata": {},
   "outputs": [],
   "source": [
    "surv_func_test=coxnet_pred.predict_survival_function(X_test)\n",
    "\n",
    "median_survival_list = calc_median_survival(surv_func_test)\n",
    "\n",
    "colordict = {False:'blue', True:'red'}\n",
    "plt.scatter(x=y_test.F_Time,y=median_survival_list,c=[colordict[c] for c in y_test.Observed],alpha=0.5)\n",
    "plt.ylabel(\"Median predicted survival time\")\n",
    "plt.xlabel(\"Observed survival time\")\n",
    "plt.title(\"Test dataset\")\n",
    "plt.show()"
   ]
  },
  {
   "cell_type": "code",
   "execution_count": null,
   "metadata": {},
   "outputs": [],
   "source": [
    "calc_median_survival(surv_func_test)"
   ]
  },
  {
   "cell_type": "code",
   "execution_count": null,
   "metadata": {},
   "outputs": [],
   "source": [
    "\n",
    "time_points =y_test[\"F_Time\"]\n",
    "time_points =np.quantile(y_test[\"F_Time\"], np.linspace(0,0.6, 100))\n",
    "\n",
    "fig, ax = plt.subplots(figsize=(12, 10))\n",
    "for fn, label in zip(surv_func_test, X_test.loc[:, \"energy_ratio\"]):\n",
    "    line, = ax.step(time_points, fn(time_points), where=\"post\",\n",
    "                    alpha=1)\n",
    " \n",
    "\n",
    "ax.legend(X_test.index) \n",
    "ax.set_xlabel(\"F_Time\")\n",
    "ax.set_ylabel(\"Survival probability\")\n",
    "plt.title(\"Test dataset\")\n",
    "ax.grid(True)"
   ]
  },
  {
   "cell_type": "markdown",
   "metadata": {},
   "source": [
    "### surivial function for train dataset"
   ]
  },
  {
   "cell_type": "code",
   "execution_count": null,
   "metadata": {},
   "outputs": [],
   "source": [
    "#plotting survival predicted vs observed time for the training data \n",
    "surv_func_train=coxnet_pred.predict_survival_function(X_train)\n",
    "\n",
    "median_survival_list = calc_median_survival(surv_func_train)\n",
    "\n",
    "colordict = {False:'blue', True:'red'}\n",
    "plt.scatter(x=y_train.F_Time,y=median_survival_list,c=[colordict[c] for c in y_train.Observed],alpha=0.5)\n",
    "plt.ylabel(\"Median predicted survival time\")\n",
    "plt.xlabel(\"Observed survival time\")\n",
    "plt.title(\"Train dataset\")\n",
    "plt.show()"
   ]
  },
  {
   "cell_type": "code",
   "execution_count": null,
   "metadata": {},
   "outputs": [],
   "source": [
    "calc_median_survival(surv_func_train)"
   ]
  },
  {
   "cell_type": "markdown",
   "metadata": {},
   "source": [
    "For instance, we can now select a specimen and determine how a specific feature would affect the survival function."
   ]
  },
  {
   "cell_type": "code",
   "execution_count": null,
   "metadata": {},
   "outputs": [],
   "source": [
    "surv_func_train = coxnet_pred.predict_survival_function(X_train)\n",
    "\n",
    "\n",
    "time_points =y_train[\"F_Time\"]\n",
    "time_points =np.percentile(y_train[\"F_Time\"], np.linspace(0, 100))\n",
    "\n",
    "fig, ax = plt.subplots(figsize=(12, 10))\n",
    "for fn, label in zip(surv_func_train, X_train.loc[:, \"energy_ratio\"].astype(int)):\n",
    "    line, = ax.step(time_points, fn(time_points), where=\"post\",\n",
    "                    alpha=1)\n",
    " \n",
    "\n",
    "ax.legend(X_train.index, loc=\"lower right\") \n",
    "ax.set_xlabel(\"F_Time\")\n",
    "ax.set_ylabel(\"Survival probability\")\n",
    "plt.title(\"Train dataset\")\n",
    "ax.grid(True)"
   ]
  },
  {
   "cell_type": "markdown",
   "metadata": {},
   "source": [
    "# Plotting survival function for the whole dataset"
   ]
  },
  {
   "cell_type": "code",
   "execution_count": null,
   "metadata": {},
   "outputs": [],
   "source": [
    "df_y_all=df_y.copy()\n",
    "df_y_all=df_y_all.to_records(index=False)"
   ]
  },
  {
   "cell_type": "code",
   "execution_count": null,
   "metadata": {},
   "outputs": [],
   "source": [
    "#using hazard function for the whole dataset\n",
    "coxnet_pred = make_pipeline(\n",
    "    MinMaxScaler(),\n",
    "    CoxnetSurvivalAnalysis(fit_baseline_model=True)\n",
    ")\n",
    "coxnet_pred.set_params(**gcv.best_params_)\n",
    "coxnet_pred.fit(df_x, df_y_all)\n"
   ]
  },
  {
   "cell_type": "code",
   "execution_count": null,
   "metadata": {},
   "outputs": [],
   "source": [
    "coxnet_pred.score(df_x, df_y_all)"
   ]
  },
  {
   "cell_type": "code",
   "execution_count": null,
   "metadata": {},
   "outputs": [],
   "source": [
    "surv_func_all=coxnet_pred.predict_survival_function(df_x)\n",
    "median_survival_list = calc_median_survival(surv_func_all)\n",
    "colordict = {False:'blue', True:'red'}\n",
    "plt.scatter(x=df_y_all.F_Time,y=median_survival_list,c=[colordict[c] for c in df_y_all.Observed],alpha=0.5)\n",
    "plt.ylabel(\"Median predicted survival time\")\n",
    "plt.xlabel(\"Observed survival time\")\n",
    "plt.title(\"Predicted vs Observed Survival time\")\n",
    "plt.show()"
   ]
  },
  {
   "cell_type": "code",
   "execution_count": null,
   "metadata": {},
   "outputs": [],
   "source": [
    "time_points =df_y_all[\"F_Time\"]\n",
    "time_points =np.percentile(df_y_all[\"F_Time\"], np.linspace(0, 100))\n",
    "\n",
    "fig, ax = plt.subplots(figsize=(12, 10))\n",
    "for fn, label in zip(surv_func_all, df_x.loc[:, \"energy_ratio\"].astype(int)):\n",
    "    line, = ax.step(time_points, fn(time_points), where=\"post\",\n",
    "                    alpha=1)\n",
    " \n",
    "plt.rc('font', size=11) \n",
    "ax.legend(df_x.index) \n",
    "ax.set_xlabel(\"F_Time\")\n",
    "ax.set_ylabel(\"Survival probability\")\n",
    "ax.grid(True)"
   ]
  },
  {
   "cell_type": "code",
   "execution_count": null,
   "metadata": {},
   "outputs": [],
   "source": [
    "df_x.shape"
   ]
  },
  {
   "cell_type": "code",
   "execution_count": null,
   "metadata": {},
   "outputs": [],
   "source": [
    "df_0_6=df_x.iloc[0:6, :]\n",
    "df_6_11=df_x.iloc[6:11, :]\n",
    "df_11_16=df_x.iloc[11:16,:]\n",
    "df_16_21=df_x.iloc[16:,:]\n"
   ]
  },
  {
   "cell_type": "code",
   "execution_count": null,
   "metadata": {},
   "outputs": [],
   "source": [
    "time_points =df_y_all[\"F_Time\"]\n",
    "time_points =np.percentile(df_y_all[\"F_Time\"], np.linspace(0, 100))\n",
    "\n",
    "fig, ax = plt.subplots(figsize=(12, 10))\n",
    "for fn, label in zip(surv_func_all, df_0_6.loc[:, \"energy_ratio\"].astype(int)):\n",
    "    line, = ax.step(time_points, fn(time_points), where=\"post\",\n",
    "                    alpha=1)\n",
    " \n",
    "plt.rc('font', size=11) \n",
    "ax.legend(df_0_6.index) \n",
    "ax.set_xlabel(\"F_Time\")\n",
    "ax.set_ylabel(\"Survival probability\")\n",
    "ax.grid(True)"
   ]
  },
  {
   "cell_type": "code",
   "execution_count": null,
   "metadata": {},
   "outputs": [],
   "source": [
    "time_points =df_y_all[\"F_Time\"]\n",
    "time_points =np.percentile(df_y_all[\"F_Time\"], np.linspace(0, 100))\n",
    "\n",
    "fig, ax = plt.subplots(figsize=(12, 10))\n",
    "for fn, label in zip(surv_func_all, df_6_11.loc[:, \"energy_ratio\"].astype(int)):\n",
    "    line, = ax.step(time_points, fn(time_points), where=\"post\",\n",
    "                    alpha=1)\n",
    " \n",
    "plt.rc('font', size=11) \n",
    "ax.legend(df_6_11.index) \n",
    "ax.set_xlabel(\"F_Time\")\n",
    "ax.set_ylabel(\"Survival probability\")\n",
    "ax.grid(True)"
   ]
  },
  {
   "cell_type": "code",
   "execution_count": null,
   "metadata": {},
   "outputs": [],
   "source": [
    "time_points =df_y_all[\"F_Time\"]\n",
    "time_points =np.percentile(df_y_all[\"F_Time\"], np.linspace(0, 100))\n",
    "\n",
    "fig, ax = plt.subplots(figsize=(12, 10))\n",
    "for fn, label in zip(surv_func_all, df_11_16.loc[:, \"energy_ratio\"].astype(int)):\n",
    "    line, = ax.step(time_points, fn(time_points), where=\"post\",\n",
    "                    alpha=1)\n",
    " \n",
    "plt.rc('font', size=11) \n",
    "ax.legend(df_11_16.index) \n",
    "ax.set_xlabel(\"F_Time\")\n",
    "ax.set_ylabel(\"Survival probability\")\n",
    "ax.grid(True)"
   ]
  },
  {
   "cell_type": "code",
   "execution_count": null,
   "metadata": {},
   "outputs": [],
   "source": [
    "time_points =df_y_all[\"F_Time\"]\n",
    "time_points =np.percentile(df_y_all[\"F_Time\"], np.linspace(0, 100))\n",
    "\n",
    "fig, ax = plt.subplots(figsize=(12, 10))\n",
    "for fn, label in zip(surv_func_all, df_16_21.loc[:, \"energy_ratio\"].astype(int)):\n",
    "    line, = ax.step(time_points, fn(time_points), where=\"post\",\n",
    "                    alpha=1)\n",
    " \n",
    "plt.rc('font', size=11) \n",
    "ax.legend(df_16_21.index) \n",
    "ax.set_xlabel(\"F_Time\")\n",
    "ax.set_ylabel(\"Survival probability\")\n",
    "ax.grid(True)"
   ]
  },
  {
   "cell_type": "code",
   "execution_count": null,
   "metadata": {},
   "outputs": [],
   "source": []
  }
 ],
 "metadata": {
  "kernelspec": {
   "display_name": "Python [conda env:EPRI]",
   "language": "python",
   "name": "conda-env-EPRI-py"
  },
  "language_info": {
   "codemirror_mode": {
    "name": "ipython",
    "version": 3
   },
   "file_extension": ".py",
   "mimetype": "text/x-python",
   "name": "python",
   "nbconvert_exporter": "python",
   "pygments_lexer": "ipython3",
   "version": "3.8.5"
  }
 },
 "nbformat": 4,
 "nbformat_minor": 4
}
