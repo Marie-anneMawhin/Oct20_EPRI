{
 "cells": [
  {
   "cell_type": "markdown",
   "metadata": {},
   "source": [
    "Cox's PH on original data data, plot survival curves, predict using median survival time"
   ]
  },
  {
   "cell_type": "code",
   "execution_count": null,
   "metadata": {},
   "outputs": [],
   "source": [
    "import pandas as pd\n",
    "import numpy as np\n",
    "import matplotlib.pyplot as plt\n",
    "import seaborn as sns\n",
    "import os, glob, inspect, sys\n",
    "\n",
    "import warnings\n",
    "from sklearn.exceptions import ConvergenceWarning\n",
    "\n",
    "from sklearn.preprocessing import MinMaxScaler\n",
    "from lifelines import CoxPHFitter"
   ]
  },
  {
   "cell_type": "code",
   "execution_count": null,
   "metadata": {},
   "outputs": [],
   "source": [
    "df = pd.read_csv(os.path.join(os.path.dirname(os.getcwd()), '../Data/Merged_data/Survival_df.csv'),\n",
    "                  index_col=0)"
   ]
  },
  {
   "cell_type": "code",
   "execution_count": null,
   "metadata": {},
   "outputs": [],
   "source": [
    "df_scale=df.copy()"
   ]
  },
  {
   "cell_type": "code",
   "execution_count": null,
   "metadata": {},
   "outputs": [],
   "source": [
    "df_scale[[ 'diff_two_peaks_ratio',\n",
    "       'amp_ratio', 'pos_ratio', 'energy_ratio', 'NLE_ratio_51_17',\n",
    "       'NLE_ratio_85_17', 'NLE_ratio_51_119', 'NLO_avg', 'Avg_RP',\n",
    "       'ACEE_30_Avg_58', 'ACEE_500_Avg_58', 'ACPD_Avg_58']] = MinMaxScaler().fit_transform(df_scale[[ 'diff_two_peaks_ratio',\n",
    "       'amp_ratio', 'pos_ratio', 'energy_ratio', 'NLE_ratio_51_17',\n",
    "       'NLE_ratio_85_17', 'NLE_ratio_51_119', 'NLO_avg', 'Avg_RP',\n",
    "       'ACEE_30_Avg_58', 'ACEE_500_Avg_58', 'ACPD_Avg_58']])"
   ]
  },
  {
   "cell_type": "markdown",
   "metadata": {},
   "source": [
    "# Cox Proportional Hazard Model Using Lifelines"
   ]
  },
  {
   "cell_type": "code",
   "execution_count": null,
   "metadata": {},
   "outputs": [],
   "source": [
    "#drop to avoid convergence warning\n",
    "#df_scale.drop(['pos_ratio', 'NLE_ratio_85_17','NLE_ratio_51_17'], axis=1, inplace=True) "
   ]
  },
  {
   "cell_type": "code",
   "execution_count": null,
   "metadata": {},
   "outputs": [],
   "source": [
    "\n",
    "cph = CoxPHFitter()\n",
    "surv_func=cph.fit(df_scale, 'F_Time', event_col='Observed')\n",
    "cph.print_summary()"
   ]
  },
  {
   "cell_type": "code",
   "execution_count": null,
   "metadata": {},
   "outputs": [],
   "source": [
    "cph.plot()"
   ]
  },
  {
   "cell_type": "markdown",
   "metadata": {},
   "source": [
    "# predicting survival function for df"
   ]
  },
  {
   "cell_type": "code",
   "execution_count": null,
   "metadata": {},
   "outputs": [],
   "source": [
    "fig= plt.figure(figsize=(12,8))\n",
    "\n",
    "surv_function=cph.predict_survival_function(df_scale)\n",
    "ID=df_scale.index\n",
    "plt.rc('font', size=11) \n",
    "plt.xlabel(\"F_Time\")\n",
    "plt.ylabel(\"Survival Function\")\n",
    "plt.plot(surv_function)\n",
    "plt.legend(ID) \n",
    "plt.show()\n"
   ]
  },
  {
   "cell_type": "code",
   "execution_count": null,
   "metadata": {},
   "outputs": [],
   "source": [
    "cph.predict_survival_function(df_scale)"
   ]
  },
  {
   "cell_type": "code",
   "execution_count": null,
   "metadata": {},
   "outputs": [],
   "source": [
    "f_df_scale=df_scale[~df_scale.Observed]\n",
    "t_df_scale=df_scale[df_scale.Observed]"
   ]
  },
  {
   "cell_type": "code",
   "execution_count": null,
   "metadata": {},
   "outputs": [],
   "source": [
    "#Failed\n",
    "cph.predict_survival_function(t_df_scale)"
   ]
  },
  {
   "cell_type": "code",
   "execution_count": null,
   "metadata": {},
   "outputs": [],
   "source": [
    "fig= plt.figure(figsize=(12,8))\n",
    "\n",
    "ax=cph.predict_survival_function(t_df_scale)\n",
    "ID=t_df_scale.index\n",
    "plt.rc('font', size=11) \n",
    "plt.plot(ax)\n",
    "plt.xlabel(\"F_Time\")\n",
    "plt.ylabel(\"Survival Function\")\n",
    "plt.legend(ID) \n",
    "plt.show()\n"
   ]
  },
  {
   "cell_type": "code",
   "execution_count": null,
   "metadata": {},
   "outputs": [],
   "source": [
    "#Not failed\n",
    "cph.predict_survival_function(f_df_scale)"
   ]
  },
  {
   "cell_type": "code",
   "execution_count": null,
   "metadata": {},
   "outputs": [],
   "source": [
    "\n",
    "fig= plt.figure(figsize=(12,8))\n",
    "\n",
    "ax=cph.predict_survival_function(f_df_scale)\n",
    "ID=f_df_scale.index\n",
    "plt.rc('font', size=11) \n",
    "plt.plot(ax)\n",
    "plt.xlabel(\"F_Time\")\n",
    "plt.ylabel(\"Survival Function\")\n",
    "plt.legend(ID) \n",
    "plt.show()\n"
   ]
  },
  {
   "cell_type": "code",
   "execution_count": null,
   "metadata": {},
   "outputs": [],
   "source": []
  },
  {
   "cell_type": "code",
   "execution_count": null,
   "metadata": {},
   "outputs": [],
   "source": []
  }
 ],
 "metadata": {
  "kernelspec": {
   "display_name": "Python 3",
   "language": "python",
   "name": "python3"
  },
  "language_info": {
   "codemirror_mode": {
    "name": "ipython",
    "version": 3
   },
   "file_extension": ".py",
   "mimetype": "text/x-python",
   "name": "python",
   "nbconvert_exporter": "python",
   "pygments_lexer": "ipython3",
   "version": "3.8.5"
  }
 },
 "nbformat": 4,
 "nbformat_minor": 4
}
