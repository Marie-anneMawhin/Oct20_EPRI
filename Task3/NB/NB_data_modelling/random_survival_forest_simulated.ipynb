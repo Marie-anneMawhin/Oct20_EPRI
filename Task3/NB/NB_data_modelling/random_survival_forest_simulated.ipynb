{
 "cells": [
  {
   "cell_type": "markdown",
   "metadata": {},
   "source": [
    "Random forest on simulated data, plot survival curves, predict using median survival time, plot feature importance by permutation, test reduced feature number"
   ]
  },
  {
   "cell_type": "code",
   "execution_count": null,
   "metadata": {},
   "outputs": [],
   "source": [
    "import pandas as pd\n",
    "import numpy as np\n",
    "import matplotlib.pyplot as plt\n",
    "import seaborn as sns\n",
    "import os, glob, inspect, sys\n",
    "from sksurv.ensemble import RandomSurvivalForest\n",
    "from sksurv.datasets import load_gbsg2\n",
    "from sksurv.metrics import concordance_index_ipcw\n",
    "import sksurv\n",
    "import eli5\n",
    "from eli5.sklearn import PermutationImportance\n",
    "from sklearn.model_selection import train_test_split\n",
    "from sklearn.decomposition import PCA\n",
    "from sklearn.preprocessing import MinMaxScaler\n",
    "\n",
    "currentdir = os.path.dirname(os.path.abspath(inspect.getfile(inspect.currentframe())))\n",
    "parentdir = os.path.dirname(currentdir)\n",
    "sys.path.insert(0,parentdir) \n",
    "import epri_mc_lib_3 as mc\n",
    "from importlib import reload\n",
    "reload(mc)\n"
   ]
  },
  {
   "cell_type": "markdown",
   "metadata": {},
   "source": [
    "Do random survival forest analysis on the simulated data"
   ]
  },
  {
   "cell_type": "code",
   "execution_count": null,
   "metadata": {},
   "outputs": [],
   "source": [
    "data = pd.read_csv(os.path.join(os.path.dirname(os.getcwd()), '../Data/Merged_data/CopulaGAN_simulated_data_survival_2.csv'),\n",
    "                  index_col=0)\n",
    "data.reset_index(inplace=True)\n",
    "#data = data.drop(columns=['NDE_cycle'])"
   ]
  },
  {
   "cell_type": "markdown",
   "metadata": {},
   "source": [
    "## Format data"
   ]
  },
  {
   "cell_type": "code",
   "execution_count": null,
   "metadata": {},
   "outputs": [],
   "source": [
    "data_x = data.iloc[:, 2:]\n",
    "data_y = data.iloc[:, 0:2]\n"
   ]
  },
  {
   "cell_type": "code",
   "execution_count": null,
   "metadata": {},
   "outputs": [],
   "source": [
    "\n",
    "X_train, X_test, y_train, y_test = train_test_split(\n",
    "    data_x, data_y, test_size=0.25)"
   ]
  },
  {
   "cell_type": "code",
   "execution_count": null,
   "metadata": {},
   "outputs": [],
   "source": [
    "y_train_num = y_train.to_records(index=False)\n",
    "y_test_num = y_test.to_records(index=False)\n"
   ]
  },
  {
   "cell_type": "markdown",
   "metadata": {},
   "source": [
    "## Random survival forest"
   ]
  },
  {
   "cell_type": "code",
   "execution_count": null,
   "metadata": {},
   "outputs": [],
   "source": [
    "rsf = RandomSurvivalForest(n_estimators=5000,\n",
    "                           max_features=\"auto\",\n",
    "                          oob_score=True\n",
    "                          )\n",
    "rsf.fit(X_train, y_train_num)\n"
   ]
  },
  {
   "cell_type": "markdown",
   "metadata": {},
   "source": [
    "## Out of bag score (Concordance index)\n",
    "\n",
    "The out of bag score for random survival forests is the concordance index that is a measure of whether samples are properly ordered relative to one another. 0.5 indicates random ordering and 1 indicates perfect ordering. "
   ]
  },
  {
   "cell_type": "code",
   "execution_count": null,
   "metadata": {},
   "outputs": [],
   "source": [
    "rsf.oob_score_"
   ]
  },
  {
   "cell_type": "markdown",
   "metadata": {},
   "source": [
    "## Making predictions\n",
    "\n",
    "THe predictions are a risk score, the expected number of deathes for a terminal node. This doesn't seem to be super useful. The rsf.score gives the concordance index for the test data."
   ]
  },
  {
   "cell_type": "code",
   "execution_count": null,
   "metadata": {},
   "outputs": [],
   "source": [
    "y_pred = pd.Series(rsf.predict(X_test))\n"
   ]
  },
  {
   "cell_type": "markdown",
   "metadata": {},
   "source": [
    "More conservative version of the CI to handle high levels of censored data."
   ]
  },
  {
   "cell_type": "code",
   "execution_count": null,
   "metadata": {},
   "outputs": [],
   "source": [
    "concordance_index_ipcw(y_train_num, y_test_num, y_pred)"
   ]
  },
  {
   "cell_type": "markdown",
   "metadata": {},
   "source": [
    "CI score for test data."
   ]
  },
  {
   "cell_type": "code",
   "execution_count": null,
   "metadata": {},
   "outputs": [],
   "source": [
    "rsf.score(X_test,y_test_num)"
   ]
  },
  {
   "cell_type": "markdown",
   "metadata": {},
   "source": [
    "Predict survival functions."
   ]
  },
  {
   "cell_type": "code",
   "execution_count": null,
   "metadata": {},
   "outputs": [],
   "source": [
    "surv = rsf.predict_survival_function(X_test, return_array=False)"
   ]
  },
  {
   "cell_type": "markdown",
   "metadata": {},
   "source": [
    "Calculate the median survival so that we can predict a specific number."
   ]
  },
  {
   "cell_type": "code",
   "execution_count": null,
   "metadata": {},
   "outputs": [],
   "source": [
    "median_survival_list = mc.calc_median_survival(surv)\n",
    "colordict = {False:'blue', True:'red'}\n",
    "plt.scatter(x=y_test.F_Time,y=median_survival_list,c=[colordict[c] for c in y_test.Observed],alpha=0.2)\n",
    "plt.ylabel(\"Median predicted survival time\")\n",
    "plt.xlabel(\"Observed survival time\")\n",
    "plt.title(\"Random survival forest, simulated data\")\n",
    "plt.show()"
   ]
  },
  {
   "cell_type": "code",
   "execution_count": null,
   "metadata": {
    "scrolled": true
   },
   "outputs": [],
   "source": [
    "surv = rsf.predict_survival_function(X_test, return_array=False)\n",
    "\n",
    "i=0\n",
    "while i < 20: #X_test.shape[0]:\n",
    "    fn = surv[i]\n",
    "    plt.step(fn.x, fn(fn.x), where=\"post\")\n",
    "    plt.ylabel(\"Survival probability\")\n",
    "    plt.xlabel(\"Time in cycles\")\n",
    "    plt.ylim(0,1)\n",
    "    plt.text(1500000, 0.95, 'Actual survived cycles: '+str(np.round(y_test.iloc[i,1],0)))\n",
    "    plt.text(1500000, 0.90, 'Actual failed: '+str(y_test.iloc[i,0]))\n",
    "    plt.show()\n",
    "    i+=1"
   ]
  },
  {
   "cell_type": "markdown",
   "metadata": {},
   "source": [
    "## Test on the real data\n",
    "\n",
    "Calculate the concordance index. Get the CI score for the data."
   ]
  },
  {
   "cell_type": "code",
   "execution_count": null,
   "metadata": {},
   "outputs": [],
   "source": [
    "data_real = pd.read_csv(os.path.join(os.path.dirname(os.getcwd()), '../Data/Merged_data/Survival_df.csv'),\n",
    "                  index_col=0)\n",
    "#data_real.drop(columns=['NLE_ratio_119_17'],inplace=True)\n",
    "#data_real = data_real.drop(columns=['NDE_cycle'])\n",
    "\n",
    "real_x = data_real.iloc[:, 2:]\n",
    "real_y = data_real.iloc[:, 0:2]\n",
    "real_y_num = real_y.to_records(index=False)\n",
    "\n",
    "print(rsf.score(real_x,real_y_num))\n",
    "\n",
    "surv = rsf.predict_survival_function(real_x, return_array=False)\n",
    "y_pred_real = pd.Series(rsf.predict(real_x))\n"
   ]
  },
  {
   "cell_type": "markdown",
   "metadata": {},
   "source": [
    "Conservative ipcw version of the CI score."
   ]
  },
  {
   "cell_type": "code",
   "execution_count": null,
   "metadata": {},
   "outputs": [],
   "source": [
    "concordance_index_ipcw(y_train_num, real_y_num, y_pred_real)"
   ]
  },
  {
   "cell_type": "markdown",
   "metadata": {},
   "source": [
    "Convert survival function to median expected survival time."
   ]
  },
  {
   "cell_type": "code",
   "execution_count": null,
   "metadata": {},
   "outputs": [],
   "source": [
    "\n",
    "median_survival_list = mc.calc_median_survival(surv)\n",
    "colordict = {False:'blue', True:'red'}\n",
    "plt.scatter(x=real_y.F_Time,y=median_survival_list,c=[colordict[c] for c in real_y.Observed],alpha=0.4)\n",
    "plt.ylabel(\"Median predicted survival time\")\n",
    "plt.xlabel(\"Observed survival time\")\n",
    "plt.title(\"Random survival forest, real data\")\n",
    "plt.show()\n"
   ]
  },
  {
   "cell_type": "code",
   "execution_count": null,
   "metadata": {},
   "outputs": [],
   "source": [
    "\n",
    "i=0\n",
    "\n",
    "while i < real_x.shape[0]:\n",
    "    print()\n",
    "    fn = surv[i]\n",
    "    plt.step(fn.x, fn(fn.x), where=\"post\")\n",
    "    plt.ylabel(\"Survival probability\")\n",
    "    plt.xlabel(\"Time in cycles\")\n",
    "    plt.ylim(0,1)\n",
    "    plt.text(1500000, 0.95, 'Actual survived cycles: '+str(real_y.iloc[i,1]))\n",
    "    plt.text(1500000, 0.90, 'Actual failed: '+str(real_y.iloc[i,0]))\n",
    "    plt.title(real_x.index[i])\n",
    "    plt.show()\n",
    "    i+=1\n"
   ]
  },
  {
   "cell_type": "markdown",
   "metadata": {},
   "source": [
    "## Feature importance by permutation\n",
    "\n",
    "This estimates the importance of each feature by permutating it and looking at the effect on the model. This is not good when the features are correlated as they are in this case. We test on a subset of the features."
   ]
  },
  {
   "cell_type": "code",
   "execution_count": null,
   "metadata": {},
   "outputs": [],
   "source": [
    "data_x = data.iloc[:, 2:]\n",
    "data_y = data.iloc[:, 0:2]\n",
    "df_features = data_x[mc.feature_selection]\n",
    "\n",
    "X_train, X_test, y_train, y_test = train_test_split(\n",
    "    df_features, data_y, test_size=0.25)\n",
    "y_train_num = y_train.to_records(index=False)\n",
    "y_test_num = y_test.to_records(index=False)\n"
   ]
  },
  {
   "cell_type": "code",
   "execution_count": null,
   "metadata": {},
   "outputs": [],
   "source": [
    "\n",
    "rsf = RandomSurvivalForest(n_estimators=1000,\n",
    "                           max_features=\"auto\",\n",
    "                          oob_score=True\n",
    "                          )\n",
    "rsf.fit(X_train, y_train_num)\n",
    "rsf.oob_score_"
   ]
  },
  {
   "cell_type": "code",
   "execution_count": null,
   "metadata": {},
   "outputs": [],
   "source": [
    "y_pred = pd.Series(rsf.predict(X_test))\n",
    "rsf.score(X_test,y_test_num)"
   ]
  },
  {
   "cell_type": "code",
   "execution_count": null,
   "metadata": {},
   "outputs": [],
   "source": [
    "perm = PermutationImportance(rsf, n_iter=15)\n",
    "perm.fit(X_test, y_test_num)"
   ]
  },
  {
   "cell_type": "code",
   "execution_count": null,
   "metadata": {},
   "outputs": [],
   "source": [
    "feature_names = X_test.columns.tolist()\n",
    "eli5.show_weights(perm, feature_names=feature_names)"
   ]
  },
  {
   "cell_type": "markdown",
   "metadata": {},
   "source": [
    "Calculate the concordance index and important features with a subset of features that without number of cycles."
   ]
  },
  {
   "cell_type": "code",
   "execution_count": null,
   "metadata": {},
   "outputs": [],
   "source": [
    "data_x = data.iloc[:, 2:]\n",
    "data_y = data.iloc[:, 0:2]\n",
    "df_features = data_x[mc.feature_selection2]\n",
    "\n",
    "X_train, X_test, y_train, y_test = train_test_split(\n",
    "    df_features, data_y, test_size=0.25)\n",
    "y_train_num = y_train.to_records(index=False)\n",
    "y_test_num = y_test.to_records(index=False)\n"
   ]
  },
  {
   "cell_type": "code",
   "execution_count": null,
   "metadata": {},
   "outputs": [],
   "source": [
    "\n",
    "rsf = RandomSurvivalForest(n_estimators=1000,\n",
    "                           max_features=\"auto\",\n",
    "                          oob_score=True\n",
    "                          )\n",
    "rsf.fit(X_train, y_train_num)\n",
    "rsf.oob_score_"
   ]
  },
  {
   "cell_type": "code",
   "execution_count": null,
   "metadata": {
    "scrolled": true
   },
   "outputs": [],
   "source": [
    "surv = rsf.predict_survival_function(real_x[mc.feature_selection2], return_array=False)\n",
    "\n",
    "i=0\n",
    "\n",
    "while i < real_x.shape[0]:\n",
    "    print()\n",
    "    fn = surv[i]\n",
    "    plt.step(fn.x, fn(fn.x), where=\"post\")\n",
    "    plt.ylabel(\"Survival probability\")\n",
    "    plt.xlabel(\"Time in cycles\")\n",
    "    plt.ylim(0,1)\n",
    "    plt.text(1500000, 0.95, 'Actual survived cycles: '+str(real_y.iloc[i,1]))\n",
    "    plt.text(1500000, 0.90, 'Actual failed: '+str(real_y.iloc[i,0]))\n",
    "    plt.title(real_x.index[i])\n",
    "    plt.show()\n",
    "    i+=1\n"
   ]
  },
  {
   "cell_type": "code",
   "execution_count": null,
   "metadata": {},
   "outputs": [],
   "source": [
    "y_pred = pd.Series(rsf.predict(X_test))\n",
    "rsf.score(X_test,y_test_num)"
   ]
  },
  {
   "cell_type": "code",
   "execution_count": null,
   "metadata": {},
   "outputs": [],
   "source": [
    "perm = PermutationImportance(rsf, n_iter=15)\n",
    "perm.fit(X_test, y_test_num)"
   ]
  },
  {
   "cell_type": "code",
   "execution_count": null,
   "metadata": {},
   "outputs": [],
   "source": [
    "feature_names = X_test.columns.tolist()\n",
    "eli5.show_weights(perm, feature_names=feature_names)"
   ]
  },
  {
   "cell_type": "markdown",
   "metadata": {},
   "source": [
    "Calculate concordance and feature importance with only NLO for comparison."
   ]
  },
  {
   "cell_type": "code",
   "execution_count": null,
   "metadata": {},
   "outputs": [],
   "source": [
    "data_x = data.iloc[:, 2:]\n",
    "data_y = data.iloc[:, 0:2]\n",
    "df_features = pd.DataFrame(data_x['NLO_avg'])\n",
    "\n",
    "X_train, X_test, y_train, y_test = train_test_split(\n",
    "    df_features, data_y, test_size=0.25)\n",
    "y_train_num = y_train.to_records(index=False)\n",
    "y_test_num = y_test.to_records(index=False)\n",
    "\n",
    "rsf = RandomSurvivalForest(n_estimators=1000,\n",
    "                           max_features=\"auto\",\n",
    "                          oob_score=True\n",
    "                          )\n",
    "rsf.fit(X_train, y_train_num)\n",
    "print(rsf.oob_score_)\n",
    "\n",
    "y_pred = pd.Series(rsf.predict(X_test))\n",
    "print(rsf.score(X_test,y_test_num))\n",
    "\n",
    "perm = PermutationImportance(rsf, n_iter=15)\n",
    "perm.fit(X_test, y_test_num)\n",
    "\n",
    "feature_names = X_test.columns.tolist()\n",
    "eli5.show_weights(perm, feature_names=feature_names)"
   ]
  },
  {
   "cell_type": "code",
   "execution_count": null,
   "metadata": {},
   "outputs": [],
   "source": []
  },
  {
   "cell_type": "code",
   "execution_count": null,
   "metadata": {},
   "outputs": [],
   "source": []
  }
 ],
 "metadata": {
  "kernelspec": {
   "display_name": "Python 3",
   "language": "python",
   "name": "python3"
  },
  "language_info": {
   "codemirror_mode": {
    "name": "ipython",
    "version": 3
   },
   "file_extension": ".py",
   "mimetype": "text/x-python",
   "name": "python",
   "nbconvert_exporter": "python",
   "pygments_lexer": "ipython3",
   "version": "3.8.5"
  }
 },
 "nbformat": 4,
 "nbformat_minor": 4
}
