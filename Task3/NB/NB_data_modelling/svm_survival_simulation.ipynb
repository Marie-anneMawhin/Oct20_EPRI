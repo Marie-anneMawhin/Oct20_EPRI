{
 "cells": [
  {
   "cell_type": "code",
   "execution_count": 503,
   "metadata": {},
   "outputs": [
    {
     "data": {
      "text/plain": [
       "<module 'epri_mc_lib_3' from '/Users/apple/Desktop/s2ds/work_project/Oct20_EPRI/Task3/NB/epri_mc_lib_3.py'>"
      ]
     },
     "execution_count": 503,
     "metadata": {},
     "output_type": "execute_result"
    }
   ],
   "source": [
    "import pandas as pd\n",
    "import numpy as np\n",
    "import matplotlib.pyplot as plt\n",
    "import seaborn as sns\n",
    "import os, glob, inspect, sys\n",
    "from sksurv.ensemble import RandomSurvivalForest\n",
    "from sksurv.datasets import load_gbsg2\n",
    "import sksurv\n",
    "import eli5\n",
    "from eli5.sklearn import PermutationImportance\n",
    "from sklearn.model_selection import train_test_split\n",
    "from sklearn.decomposition import PCA\n",
    "from sklearn.preprocessing import MinMaxScaler\n",
    "from sksurv.nonparametric import kaplan_meier_estimator\n",
    "from sksurv.linear_model import CoxPHSurvivalAnalysis\n",
    "\n",
    "currentdir = os.path.dirname(os.path.abspath(inspect.getfile(inspect.currentframe())))\n",
    "parentdir = os.path.dirname(currentdir)\n",
    "sys.path.insert(0,parentdir) \n",
    "import epri_mc_lib_3 as mc\n",
    "from importlib import reload\n",
    "reload(mc)"
   ]
  },
  {
   "cell_type": "code",
   "execution_count": 504,
   "metadata": {},
   "outputs": [],
   "source": [
    "%matplotlib inline\n",
    "import numpy as np\n",
    "import matplotlib.pyplot as plt\n",
    "import pandas\n",
    "import seaborn as sns\n",
    "from sklearn.model_selection import ShuffleSplit, GridSearchCV\n",
    "\n",
    "from sksurv.datasets import load_veterans_lung_cancer\n",
    "from sksurv.column import encode_categorical\n",
    "from sksurv.metrics import concordance_index_censored\n",
    "from sksurv.svm import FastSurvivalSVM\n",
    "\n",
    "sns.set_style(\"whitegrid\")"
   ]
  },
  {
   "cell_type": "code",
   "execution_count": 505,
   "metadata": {},
   "outputs": [],
   "source": [
    "real_data = pd.read_csv(os.path.join(os.path.dirname(os.getcwd()), '../Data/Merged_data/Survival_df.csv'),\n",
    "                  index_col=0)"
   ]
  },
  {
   "cell_type": "code",
   "execution_count": 506,
   "metadata": {},
   "outputs": [],
   "source": [
    "data = pd.read_csv(os.path.join(os.path.dirname(os.getcwd()), '../Data/Merged_data/CopulaGAN_simulated_data_survival.csv'),\n",
    "                  index_col=0)\n",
    "data.reset_index(inplace=True)"
   ]
  },
  {
   "cell_type": "markdown",
   "metadata": {},
   "source": [
    "## Seperating input and output"
   ]
  },
  {
   "cell_type": "code",
   "execution_count": 507,
   "metadata": {},
   "outputs": [
    {
     "data": {
      "text/html": [
       "<div>\n",
       "<style scoped>\n",
       "    .dataframe tbody tr th:only-of-type {\n",
       "        vertical-align: middle;\n",
       "    }\n",
       "\n",
       "    .dataframe tbody tr th {\n",
       "        vertical-align: top;\n",
       "    }\n",
       "\n",
       "    .dataframe thead th {\n",
       "        text-align: right;\n",
       "    }\n",
       "</style>\n",
       "<table border=\"1\" class=\"dataframe\">\n",
       "  <thead>\n",
       "    <tr style=\"text-align: right;\">\n",
       "      <th></th>\n",
       "      <th>NDE_cycle</th>\n",
       "      <th>diff_two_peaks_ratio</th>\n",
       "      <th>amp_ratio</th>\n",
       "      <th>pos_ratio</th>\n",
       "      <th>energy_ratio</th>\n",
       "      <th>NLE_ratio_51_17</th>\n",
       "      <th>NLE_ratio_85_17</th>\n",
       "      <th>NLE_ratio_119_17</th>\n",
       "      <th>NLO_avg</th>\n",
       "      <th>Avg_RP</th>\n",
       "      <th>ACEE_30_Avg_58</th>\n",
       "      <th>ACEE_500_Avg_58</th>\n",
       "      <th>ACPD_Avg_58</th>\n",
       "    </tr>\n",
       "    <tr>\n",
       "      <th>ID</th>\n",
       "      <th></th>\n",
       "      <th></th>\n",
       "      <th></th>\n",
       "      <th></th>\n",
       "      <th></th>\n",
       "      <th></th>\n",
       "      <th></th>\n",
       "      <th></th>\n",
       "      <th></th>\n",
       "      <th></th>\n",
       "      <th></th>\n",
       "      <th></th>\n",
       "      <th></th>\n",
       "    </tr>\n",
       "  </thead>\n",
       "  <tbody>\n",
       "    <tr>\n",
       "      <th>41C</th>\n",
       "      <td>0</td>\n",
       "      <td>2.104871</td>\n",
       "      <td>1.185236</td>\n",
       "      <td>1.002988</td>\n",
       "      <td>1.559453</td>\n",
       "      <td>0.893268</td>\n",
       "      <td>1.107898</td>\n",
       "      <td>0.462483</td>\n",
       "      <td>5.576476</td>\n",
       "      <td>190.979294</td>\n",
       "      <td>-0.137640</td>\n",
       "      <td>-2.866030</td>\n",
       "      <td>4.804749</td>\n",
       "    </tr>\n",
       "    <tr>\n",
       "      <th>44C</th>\n",
       "      <td>0</td>\n",
       "      <td>2.280959</td>\n",
       "      <td>1.365329</td>\n",
       "      <td>0.998446</td>\n",
       "      <td>1.504218</td>\n",
       "      <td>0.888503</td>\n",
       "      <td>1.140535</td>\n",
       "      <td>0.477160</td>\n",
       "      <td>4.619563</td>\n",
       "      <td>187.204261</td>\n",
       "      <td>-0.596385</td>\n",
       "      <td>-2.788500</td>\n",
       "      <td>3.370729</td>\n",
       "    </tr>\n",
       "    <tr>\n",
       "      <th>45C</th>\n",
       "      <td>0</td>\n",
       "      <td>1.245687</td>\n",
       "      <td>0.809970</td>\n",
       "      <td>0.989351</td>\n",
       "      <td>1.282046</td>\n",
       "      <td>0.896534</td>\n",
       "      <td>1.137561</td>\n",
       "      <td>0.491483</td>\n",
       "      <td>3.458337</td>\n",
       "      <td>189.010633</td>\n",
       "      <td>-0.645710</td>\n",
       "      <td>-3.202220</td>\n",
       "      <td>4.186639</td>\n",
       "    </tr>\n",
       "    <tr>\n",
       "      <th>19C</th>\n",
       "      <td>450000</td>\n",
       "      <td>0.763296</td>\n",
       "      <td>1.128928</td>\n",
       "      <td>1.002407</td>\n",
       "      <td>1.126849</td>\n",
       "      <td>0.978877</td>\n",
       "      <td>1.235508</td>\n",
       "      <td>0.530102</td>\n",
       "      <td>3.798736</td>\n",
       "      <td>171.925123</td>\n",
       "      <td>-1.065155</td>\n",
       "      <td>-1.570740</td>\n",
       "      <td>3.226957</td>\n",
       "    </tr>\n",
       "    <tr>\n",
       "      <th>32C</th>\n",
       "      <td>450000</td>\n",
       "      <td>0.610771</td>\n",
       "      <td>1.137713</td>\n",
       "      <td>0.994283</td>\n",
       "      <td>0.844962</td>\n",
       "      <td>0.844824</td>\n",
       "      <td>1.091099</td>\n",
       "      <td>0.459167</td>\n",
       "      <td>4.296261</td>\n",
       "      <td>169.717689</td>\n",
       "      <td>-0.617190</td>\n",
       "      <td>-1.312415</td>\n",
       "      <td>2.907922</td>\n",
       "    </tr>\n",
       "    <tr>\n",
       "      <th>23C</th>\n",
       "      <td>600000</td>\n",
       "      <td>0.397580</td>\n",
       "      <td>0.919473</td>\n",
       "      <td>0.999861</td>\n",
       "      <td>0.846653</td>\n",
       "      <td>0.918699</td>\n",
       "      <td>1.114762</td>\n",
       "      <td>0.495867</td>\n",
       "      <td>5.621833</td>\n",
       "      <td>173.403495</td>\n",
       "      <td>-0.831110</td>\n",
       "      <td>-1.194540</td>\n",
       "      <td>3.061743</td>\n",
       "    </tr>\n",
       "    <tr>\n",
       "      <th>25C</th>\n",
       "      <td>600000</td>\n",
       "      <td>0.821445</td>\n",
       "      <td>1.178319</td>\n",
       "      <td>1.003158</td>\n",
       "      <td>1.141313</td>\n",
       "      <td>0.881052</td>\n",
       "      <td>1.083718</td>\n",
       "      <td>0.477500</td>\n",
       "      <td>3.061693</td>\n",
       "      <td>172.727399</td>\n",
       "      <td>-0.912065</td>\n",
       "      <td>-0.927155</td>\n",
       "      <td>3.284087</td>\n",
       "    </tr>\n",
       "    <tr>\n",
       "      <th>21C</th>\n",
       "      <td>600000</td>\n",
       "      <td>0.705402</td>\n",
       "      <td>1.151889</td>\n",
       "      <td>0.984968</td>\n",
       "      <td>0.853808</td>\n",
       "      <td>0.929446</td>\n",
       "      <td>1.119635</td>\n",
       "      <td>0.493245</td>\n",
       "      <td>4.626314</td>\n",
       "      <td>174.003954</td>\n",
       "      <td>-0.884900</td>\n",
       "      <td>-1.578795</td>\n",
       "      <td>2.764862</td>\n",
       "    </tr>\n",
       "    <tr>\n",
       "      <th>27C</th>\n",
       "      <td>750000</td>\n",
       "      <td>0.144147</td>\n",
       "      <td>0.777585</td>\n",
       "      <td>1.002966</td>\n",
       "      <td>0.394731</td>\n",
       "      <td>0.912962</td>\n",
       "      <td>1.112708</td>\n",
       "      <td>0.500035</td>\n",
       "      <td>5.020607</td>\n",
       "      <td>173.688949</td>\n",
       "      <td>-1.276355</td>\n",
       "      <td>-1.602150</td>\n",
       "      <td>2.746634</td>\n",
       "    </tr>\n",
       "    <tr>\n",
       "      <th>26C</th>\n",
       "      <td>750000</td>\n",
       "      <td>0.453026</td>\n",
       "      <td>1.052153</td>\n",
       "      <td>1.003191</td>\n",
       "      <td>0.868000</td>\n",
       "      <td>0.890721</td>\n",
       "      <td>1.091059</td>\n",
       "      <td>0.494946</td>\n",
       "      <td>4.831161</td>\n",
       "      <td>169.891439</td>\n",
       "      <td>-0.687800</td>\n",
       "      <td>-1.269005</td>\n",
       "      <td>3.820881</td>\n",
       "    </tr>\n",
       "    <tr>\n",
       "      <th>28C</th>\n",
       "      <td>750000</td>\n",
       "      <td>0.307444</td>\n",
       "      <td>1.046796</td>\n",
       "      <td>1.015363</td>\n",
       "      <td>0.618972</td>\n",
       "      <td>0.884778</td>\n",
       "      <td>1.037133</td>\n",
       "      <td>0.432253</td>\n",
       "      <td>7.862192</td>\n",
       "      <td>171.164700</td>\n",
       "      <td>-0.862720</td>\n",
       "      <td>-1.280955</td>\n",
       "      <td>2.839627</td>\n",
       "    </tr>\n",
       "    <tr>\n",
       "      <th>48C</th>\n",
       "      <td>750000</td>\n",
       "      <td>0.651178</td>\n",
       "      <td>0.725577</td>\n",
       "      <td>0.992231</td>\n",
       "      <td>0.852229</td>\n",
       "      <td>0.895628</td>\n",
       "      <td>1.100060</td>\n",
       "      <td>0.483285</td>\n",
       "      <td>6.164777</td>\n",
       "      <td>171.790379</td>\n",
       "      <td>-0.926915</td>\n",
       "      <td>-1.704260</td>\n",
       "      <td>4.225329</td>\n",
       "    </tr>\n",
       "    <tr>\n",
       "      <th>37C</th>\n",
       "      <td>900000</td>\n",
       "      <td>0.297536</td>\n",
       "      <td>0.963953</td>\n",
       "      <td>1.010528</td>\n",
       "      <td>0.745594</td>\n",
       "      <td>0.893215</td>\n",
       "      <td>1.131410</td>\n",
       "      <td>0.485316</td>\n",
       "      <td>3.446921</td>\n",
       "      <td>169.869715</td>\n",
       "      <td>-0.863080</td>\n",
       "      <td>-1.693590</td>\n",
       "      <td>2.375193</td>\n",
       "    </tr>\n",
       "    <tr>\n",
       "      <th>39C</th>\n",
       "      <td>900000</td>\n",
       "      <td>0.868265</td>\n",
       "      <td>0.656073</td>\n",
       "      <td>1.001696</td>\n",
       "      <td>0.694331</td>\n",
       "      <td>0.890808</td>\n",
       "      <td>1.144669</td>\n",
       "      <td>0.486304</td>\n",
       "      <td>6.348334</td>\n",
       "      <td>177.965732</td>\n",
       "      <td>-1.192915</td>\n",
       "      <td>-1.126910</td>\n",
       "      <td>3.186447</td>\n",
       "    </tr>\n",
       "    <tr>\n",
       "      <th>42C</th>\n",
       "      <td>900000</td>\n",
       "      <td>0.514206</td>\n",
       "      <td>1.206035</td>\n",
       "      <td>0.989698</td>\n",
       "      <td>0.817819</td>\n",
       "      <td>0.916364</td>\n",
       "      <td>1.162674</td>\n",
       "      <td>0.493727</td>\n",
       "      <td>6.875911</td>\n",
       "      <td>169.775596</td>\n",
       "      <td>-0.926840</td>\n",
       "      <td>-1.243770</td>\n",
       "      <td>4.044555</td>\n",
       "    </tr>\n",
       "    <tr>\n",
       "      <th>49C</th>\n",
       "      <td>900000</td>\n",
       "      <td>0.444218</td>\n",
       "      <td>1.206881</td>\n",
       "      <td>0.982972</td>\n",
       "      <td>0.798325</td>\n",
       "      <td>0.875919</td>\n",
       "      <td>1.138621</td>\n",
       "      <td>0.490049</td>\n",
       "      <td>6.897756</td>\n",
       "      <td>171.659328</td>\n",
       "      <td>-0.666275</td>\n",
       "      <td>-1.364115</td>\n",
       "      <td>3.611348</td>\n",
       "    </tr>\n",
       "  </tbody>\n",
       "</table>\n",
       "</div>"
      ],
      "text/plain": [
       "     NDE_cycle  diff_two_peaks_ratio  amp_ratio  pos_ratio  energy_ratio  \\\n",
       "ID                                                                         \n",
       "41C          0              2.104871   1.185236   1.002988      1.559453   \n",
       "44C          0              2.280959   1.365329   0.998446      1.504218   \n",
       "45C          0              1.245687   0.809970   0.989351      1.282046   \n",
       "19C     450000              0.763296   1.128928   1.002407      1.126849   \n",
       "32C     450000              0.610771   1.137713   0.994283      0.844962   \n",
       "23C     600000              0.397580   0.919473   0.999861      0.846653   \n",
       "25C     600000              0.821445   1.178319   1.003158      1.141313   \n",
       "21C     600000              0.705402   1.151889   0.984968      0.853808   \n",
       "27C     750000              0.144147   0.777585   1.002966      0.394731   \n",
       "26C     750000              0.453026   1.052153   1.003191      0.868000   \n",
       "28C     750000              0.307444   1.046796   1.015363      0.618972   \n",
       "48C     750000              0.651178   0.725577   0.992231      0.852229   \n",
       "37C     900000              0.297536   0.963953   1.010528      0.745594   \n",
       "39C     900000              0.868265   0.656073   1.001696      0.694331   \n",
       "42C     900000              0.514206   1.206035   0.989698      0.817819   \n",
       "49C     900000              0.444218   1.206881   0.982972      0.798325   \n",
       "\n",
       "     NLE_ratio_51_17  NLE_ratio_85_17  NLE_ratio_119_17   NLO_avg      Avg_RP  \\\n",
       "ID                                                                              \n",
       "41C         0.893268         1.107898          0.462483  5.576476  190.979294   \n",
       "44C         0.888503         1.140535          0.477160  4.619563  187.204261   \n",
       "45C         0.896534         1.137561          0.491483  3.458337  189.010633   \n",
       "19C         0.978877         1.235508          0.530102  3.798736  171.925123   \n",
       "32C         0.844824         1.091099          0.459167  4.296261  169.717689   \n",
       "23C         0.918699         1.114762          0.495867  5.621833  173.403495   \n",
       "25C         0.881052         1.083718          0.477500  3.061693  172.727399   \n",
       "21C         0.929446         1.119635          0.493245  4.626314  174.003954   \n",
       "27C         0.912962         1.112708          0.500035  5.020607  173.688949   \n",
       "26C         0.890721         1.091059          0.494946  4.831161  169.891439   \n",
       "28C         0.884778         1.037133          0.432253  7.862192  171.164700   \n",
       "48C         0.895628         1.100060          0.483285  6.164777  171.790379   \n",
       "37C         0.893215         1.131410          0.485316  3.446921  169.869715   \n",
       "39C         0.890808         1.144669          0.486304  6.348334  177.965732   \n",
       "42C         0.916364         1.162674          0.493727  6.875911  169.775596   \n",
       "49C         0.875919         1.138621          0.490049  6.897756  171.659328   \n",
       "\n",
       "     ACEE_30_Avg_58  ACEE_500_Avg_58  ACPD_Avg_58  \n",
       "ID                                                 \n",
       "41C       -0.137640        -2.866030     4.804749  \n",
       "44C       -0.596385        -2.788500     3.370729  \n",
       "45C       -0.645710        -3.202220     4.186639  \n",
       "19C       -1.065155        -1.570740     3.226957  \n",
       "32C       -0.617190        -1.312415     2.907922  \n",
       "23C       -0.831110        -1.194540     3.061743  \n",
       "25C       -0.912065        -0.927155     3.284087  \n",
       "21C       -0.884900        -1.578795     2.764862  \n",
       "27C       -1.276355        -1.602150     2.746634  \n",
       "26C       -0.687800        -1.269005     3.820881  \n",
       "28C       -0.862720        -1.280955     2.839627  \n",
       "48C       -0.926915        -1.704260     4.225329  \n",
       "37C       -0.863080        -1.693590     2.375193  \n",
       "39C       -1.192915        -1.126910     3.186447  \n",
       "42C       -0.926840        -1.243770     4.044555  \n",
       "49C       -0.666275        -1.364115     3.611348  "
      ]
     },
     "execution_count": 507,
     "metadata": {},
     "output_type": "execute_result"
    }
   ],
   "source": [
    "real_x = real_data.iloc[:, 2:]\n",
    "real_x # The real data input"
   ]
  },
  {
   "cell_type": "code",
   "execution_count": 508,
   "metadata": {
    "scrolled": true
   },
   "outputs": [
    {
     "data": {
      "text/html": [
       "<div>\n",
       "<style scoped>\n",
       "    .dataframe tbody tr th:only-of-type {\n",
       "        vertical-align: middle;\n",
       "    }\n",
       "\n",
       "    .dataframe tbody tr th {\n",
       "        vertical-align: top;\n",
       "    }\n",
       "\n",
       "    .dataframe thead th {\n",
       "        text-align: right;\n",
       "    }\n",
       "</style>\n",
       "<table border=\"1\" class=\"dataframe\">\n",
       "  <thead>\n",
       "    <tr style=\"text-align: right;\">\n",
       "      <th></th>\n",
       "      <th>NDE_cyle</th>\n",
       "      <th>diff_two_peaks_ratio</th>\n",
       "      <th>amp_ratio</th>\n",
       "      <th>pos_ratio</th>\n",
       "      <th>energy_ratio</th>\n",
       "      <th>NLE_ratio_51_17</th>\n",
       "      <th>NLE_ratio_85_17</th>\n",
       "      <th>NLE_ratio_119_17</th>\n",
       "      <th>NLO_avg</th>\n",
       "      <th>Avg_RP</th>\n",
       "      <th>ACEE_30_Avg_58</th>\n",
       "      <th>ACEE_500_Avg_58</th>\n",
       "      <th>ACPD_Avg_58</th>\n",
       "    </tr>\n",
       "  </thead>\n",
       "  <tbody>\n",
       "    <tr>\n",
       "      <th>0</th>\n",
       "      <td>600000</td>\n",
       "      <td>0.529909</td>\n",
       "      <td>1.091504</td>\n",
       "      <td>0.993960</td>\n",
       "      <td>0.848464</td>\n",
       "      <td>0.917375</td>\n",
       "      <td>1.112056</td>\n",
       "      <td>0.505540</td>\n",
       "      <td>5.432829</td>\n",
       "      <td>174.266786</td>\n",
       "      <td>-0.847639</td>\n",
       "      <td>-1.340496</td>\n",
       "      <td>3.276437</td>\n",
       "    </tr>\n",
       "    <tr>\n",
       "      <th>1</th>\n",
       "      <td>750000</td>\n",
       "      <td>0.196585</td>\n",
       "      <td>0.849821</td>\n",
       "      <td>0.994489</td>\n",
       "      <td>0.505600</td>\n",
       "      <td>0.910996</td>\n",
       "      <td>1.116821</td>\n",
       "      <td>0.497770</td>\n",
       "      <td>6.898934</td>\n",
       "      <td>171.325300</td>\n",
       "      <td>-0.893297</td>\n",
       "      <td>-1.712179</td>\n",
       "      <td>3.106521</td>\n",
       "    </tr>\n",
       "    <tr>\n",
       "      <th>2</th>\n",
       "      <td>900000</td>\n",
       "      <td>0.384845</td>\n",
       "      <td>1.077153</td>\n",
       "      <td>1.000971</td>\n",
       "      <td>0.708655</td>\n",
       "      <td>0.878908</td>\n",
       "      <td>1.130553</td>\n",
       "      <td>0.487624</td>\n",
       "      <td>3.948716</td>\n",
       "      <td>170.217690</td>\n",
       "      <td>-0.764145</td>\n",
       "      <td>-1.190668</td>\n",
       "      <td>2.559568</td>\n",
       "    </tr>\n",
       "    <tr>\n",
       "      <th>3</th>\n",
       "      <td>0</td>\n",
       "      <td>2.474125</td>\n",
       "      <td>1.338242</td>\n",
       "      <td>0.995126</td>\n",
       "      <td>1.308626</td>\n",
       "      <td>0.895148</td>\n",
       "      <td>1.132818</td>\n",
       "      <td>0.487866</td>\n",
       "      <td>6.884989</td>\n",
       "      <td>188.904421</td>\n",
       "      <td>-0.476904</td>\n",
       "      <td>-2.805754</td>\n",
       "      <td>4.676679</td>\n",
       "    </tr>\n",
       "    <tr>\n",
       "      <th>4</th>\n",
       "      <td>900000</td>\n",
       "      <td>0.437564</td>\n",
       "      <td>1.039553</td>\n",
       "      <td>1.007743</td>\n",
       "      <td>0.721039</td>\n",
       "      <td>0.894121</td>\n",
       "      <td>1.163510</td>\n",
       "      <td>0.495600</td>\n",
       "      <td>5.466000</td>\n",
       "      <td>171.473636</td>\n",
       "      <td>-0.947583</td>\n",
       "      <td>-1.325563</td>\n",
       "      <td>2.553673</td>\n",
       "    </tr>\n",
       "    <tr>\n",
       "      <th>...</th>\n",
       "      <td>...</td>\n",
       "      <td>...</td>\n",
       "      <td>...</td>\n",
       "      <td>...</td>\n",
       "      <td>...</td>\n",
       "      <td>...</td>\n",
       "      <td>...</td>\n",
       "      <td>...</td>\n",
       "      <td>...</td>\n",
       "      <td>...</td>\n",
       "      <td>...</td>\n",
       "      <td>...</td>\n",
       "      <td>...</td>\n",
       "    </tr>\n",
       "    <tr>\n",
       "      <th>995</th>\n",
       "      <td>0</td>\n",
       "      <td>3.131660</td>\n",
       "      <td>1.327767</td>\n",
       "      <td>1.006446</td>\n",
       "      <td>2.672155</td>\n",
       "      <td>0.870106</td>\n",
       "      <td>1.126553</td>\n",
       "      <td>0.461652</td>\n",
       "      <td>5.341247</td>\n",
       "      <td>198.007746</td>\n",
       "      <td>-0.318230</td>\n",
       "      <td>-2.101181</td>\n",
       "      <td>4.278491</td>\n",
       "    </tr>\n",
       "    <tr>\n",
       "      <th>996</th>\n",
       "      <td>900000</td>\n",
       "      <td>0.312099</td>\n",
       "      <td>1.255932</td>\n",
       "      <td>0.997464</td>\n",
       "      <td>0.679803</td>\n",
       "      <td>0.887969</td>\n",
       "      <td>1.112964</td>\n",
       "      <td>0.491979</td>\n",
       "      <td>4.663054</td>\n",
       "      <td>171.740833</td>\n",
       "      <td>-0.806248</td>\n",
       "      <td>-1.186281</td>\n",
       "      <td>2.851250</td>\n",
       "    </tr>\n",
       "    <tr>\n",
       "      <th>997</th>\n",
       "      <td>900000</td>\n",
       "      <td>0.595612</td>\n",
       "      <td>1.167238</td>\n",
       "      <td>1.000232</td>\n",
       "      <td>0.856687</td>\n",
       "      <td>0.891326</td>\n",
       "      <td>1.148279</td>\n",
       "      <td>0.491675</td>\n",
       "      <td>4.363576</td>\n",
       "      <td>172.275905</td>\n",
       "      <td>-0.880523</td>\n",
       "      <td>-1.327719</td>\n",
       "      <td>3.104035</td>\n",
       "    </tr>\n",
       "    <tr>\n",
       "      <th>998</th>\n",
       "      <td>450000</td>\n",
       "      <td>1.486775</td>\n",
       "      <td>1.269441</td>\n",
       "      <td>0.996086</td>\n",
       "      <td>1.009475</td>\n",
       "      <td>0.912585</td>\n",
       "      <td>1.178257</td>\n",
       "      <td>0.488794</td>\n",
       "      <td>4.098630</td>\n",
       "      <td>170.058396</td>\n",
       "      <td>-0.918933</td>\n",
       "      <td>-1.237451</td>\n",
       "      <td>3.339072</td>\n",
       "    </tr>\n",
       "    <tr>\n",
       "      <th>999</th>\n",
       "      <td>450000</td>\n",
       "      <td>1.410362</td>\n",
       "      <td>1.246773</td>\n",
       "      <td>0.996397</td>\n",
       "      <td>1.329651</td>\n",
       "      <td>0.874712</td>\n",
       "      <td>1.125074</td>\n",
       "      <td>0.476220</td>\n",
       "      <td>4.610984</td>\n",
       "      <td>169.717690</td>\n",
       "      <td>-0.591212</td>\n",
       "      <td>-1.281046</td>\n",
       "      <td>3.500152</td>\n",
       "    </tr>\n",
       "  </tbody>\n",
       "</table>\n",
       "<p>1000 rows × 13 columns</p>\n",
       "</div>"
      ],
      "text/plain": [
       "     NDE_cyle  diff_two_peaks_ratio  amp_ratio  pos_ratio  energy_ratio  \\\n",
       "0      600000              0.529909   1.091504   0.993960      0.848464   \n",
       "1      750000              0.196585   0.849821   0.994489      0.505600   \n",
       "2      900000              0.384845   1.077153   1.000971      0.708655   \n",
       "3           0              2.474125   1.338242   0.995126      1.308626   \n",
       "4      900000              0.437564   1.039553   1.007743      0.721039   \n",
       "..        ...                   ...        ...        ...           ...   \n",
       "995         0              3.131660   1.327767   1.006446      2.672155   \n",
       "996    900000              0.312099   1.255932   0.997464      0.679803   \n",
       "997    900000              0.595612   1.167238   1.000232      0.856687   \n",
       "998    450000              1.486775   1.269441   0.996086      1.009475   \n",
       "999    450000              1.410362   1.246773   0.996397      1.329651   \n",
       "\n",
       "     NLE_ratio_51_17  NLE_ratio_85_17  NLE_ratio_119_17   NLO_avg      Avg_RP  \\\n",
       "0           0.917375         1.112056          0.505540  5.432829  174.266786   \n",
       "1           0.910996         1.116821          0.497770  6.898934  171.325300   \n",
       "2           0.878908         1.130553          0.487624  3.948716  170.217690   \n",
       "3           0.895148         1.132818          0.487866  6.884989  188.904421   \n",
       "4           0.894121         1.163510          0.495600  5.466000  171.473636   \n",
       "..               ...              ...               ...       ...         ...   \n",
       "995         0.870106         1.126553          0.461652  5.341247  198.007746   \n",
       "996         0.887969         1.112964          0.491979  4.663054  171.740833   \n",
       "997         0.891326         1.148279          0.491675  4.363576  172.275905   \n",
       "998         0.912585         1.178257          0.488794  4.098630  170.058396   \n",
       "999         0.874712         1.125074          0.476220  4.610984  169.717690   \n",
       "\n",
       "     ACEE_30_Avg_58  ACEE_500_Avg_58  ACPD_Avg_58  \n",
       "0         -0.847639        -1.340496     3.276437  \n",
       "1         -0.893297        -1.712179     3.106521  \n",
       "2         -0.764145        -1.190668     2.559568  \n",
       "3         -0.476904        -2.805754     4.676679  \n",
       "4         -0.947583        -1.325563     2.553673  \n",
       "..              ...              ...          ...  \n",
       "995       -0.318230        -2.101181     4.278491  \n",
       "996       -0.806248        -1.186281     2.851250  \n",
       "997       -0.880523        -1.327719     3.104035  \n",
       "998       -0.918933        -1.237451     3.339072  \n",
       "999       -0.591212        -1.281046     3.500152  \n",
       "\n",
       "[1000 rows x 13 columns]"
      ]
     },
     "execution_count": 508,
     "metadata": {},
     "output_type": "execute_result"
    }
   ],
   "source": [
    "data_x = data.iloc[:, 2:]\n",
    "data_x # The simulated input data"
   ]
  },
  {
   "cell_type": "code",
   "execution_count": 509,
   "metadata": {},
   "outputs": [
    {
     "data": {
      "text/html": [
       "<div>\n",
       "<style scoped>\n",
       "    .dataframe tbody tr th:only-of-type {\n",
       "        vertical-align: middle;\n",
       "    }\n",
       "\n",
       "    .dataframe tbody tr th {\n",
       "        vertical-align: top;\n",
       "    }\n",
       "\n",
       "    .dataframe thead th {\n",
       "        text-align: right;\n",
       "    }\n",
       "</style>\n",
       "<table border=\"1\" class=\"dataframe\">\n",
       "  <thead>\n",
       "    <tr style=\"text-align: right;\">\n",
       "      <th></th>\n",
       "      <th>Observed</th>\n",
       "      <th>F_Time</th>\n",
       "    </tr>\n",
       "    <tr>\n",
       "      <th>ID</th>\n",
       "      <th></th>\n",
       "      <th></th>\n",
       "    </tr>\n",
       "  </thead>\n",
       "  <tbody>\n",
       "    <tr>\n",
       "      <th>41C</th>\n",
       "      <td>True</td>\n",
       "      <td>2154137.0</td>\n",
       "    </tr>\n",
       "    <tr>\n",
       "      <th>44C</th>\n",
       "      <td>True</td>\n",
       "      <td>1318034.0</td>\n",
       "    </tr>\n",
       "    <tr>\n",
       "      <th>45C</th>\n",
       "      <td>False</td>\n",
       "      <td>3245267.0</td>\n",
       "    </tr>\n",
       "    <tr>\n",
       "      <th>19C</th>\n",
       "      <td>True</td>\n",
       "      <td>464392.0</td>\n",
       "    </tr>\n",
       "    <tr>\n",
       "      <th>32C</th>\n",
       "      <td>True</td>\n",
       "      <td>306142.0</td>\n",
       "    </tr>\n",
       "    <tr>\n",
       "      <th>23C</th>\n",
       "      <td>False</td>\n",
       "      <td>2255225.0</td>\n",
       "    </tr>\n",
       "    <tr>\n",
       "      <th>25C</th>\n",
       "      <td>False</td>\n",
       "      <td>1444844.0</td>\n",
       "    </tr>\n",
       "    <tr>\n",
       "      <th>21C</th>\n",
       "      <td>True</td>\n",
       "      <td>200007.0</td>\n",
       "    </tr>\n",
       "    <tr>\n",
       "      <th>27C</th>\n",
       "      <td>True</td>\n",
       "      <td>297627.0</td>\n",
       "    </tr>\n",
       "    <tr>\n",
       "      <th>26C</th>\n",
       "      <td>False</td>\n",
       "      <td>2829121.0</td>\n",
       "    </tr>\n",
       "    <tr>\n",
       "      <th>28C</th>\n",
       "      <td>False</td>\n",
       "      <td>1537912.0</td>\n",
       "    </tr>\n",
       "    <tr>\n",
       "      <th>48C</th>\n",
       "      <td>False</td>\n",
       "      <td>1266052.0</td>\n",
       "    </tr>\n",
       "    <tr>\n",
       "      <th>37C</th>\n",
       "      <td>True</td>\n",
       "      <td>514878.0</td>\n",
       "    </tr>\n",
       "    <tr>\n",
       "      <th>39C</th>\n",
       "      <td>False</td>\n",
       "      <td>2101992.0</td>\n",
       "    </tr>\n",
       "    <tr>\n",
       "      <th>42C</th>\n",
       "      <td>True</td>\n",
       "      <td>603724.0</td>\n",
       "    </tr>\n",
       "    <tr>\n",
       "      <th>49C</th>\n",
       "      <td>False</td>\n",
       "      <td>2143805.0</td>\n",
       "    </tr>\n",
       "  </tbody>\n",
       "</table>\n",
       "</div>"
      ],
      "text/plain": [
       "     Observed     F_Time\n",
       "ID                      \n",
       "41C      True  2154137.0\n",
       "44C      True  1318034.0\n",
       "45C     False  3245267.0\n",
       "19C      True   464392.0\n",
       "32C      True   306142.0\n",
       "23C     False  2255225.0\n",
       "25C     False  1444844.0\n",
       "21C      True   200007.0\n",
       "27C      True   297627.0\n",
       "26C     False  2829121.0\n",
       "28C     False  1537912.0\n",
       "48C     False  1266052.0\n",
       "37C      True   514878.0\n",
       "39C     False  2101992.0\n",
       "42C      True   603724.0\n",
       "49C     False  2143805.0"
      ]
     },
     "execution_count": 509,
     "metadata": {},
     "output_type": "execute_result"
    }
   ],
   "source": [
    "real_y = real_data.iloc[:, 0:2]\n",
    "real_y # The real data output"
   ]
  },
  {
   "cell_type": "code",
   "execution_count": 510,
   "metadata": {},
   "outputs": [
    {
     "data": {
      "text/html": [
       "<div>\n",
       "<style scoped>\n",
       "    .dataframe tbody tr th:only-of-type {\n",
       "        vertical-align: middle;\n",
       "    }\n",
       "\n",
       "    .dataframe tbody tr th {\n",
       "        vertical-align: top;\n",
       "    }\n",
       "\n",
       "    .dataframe thead th {\n",
       "        text-align: right;\n",
       "    }\n",
       "</style>\n",
       "<table border=\"1\" class=\"dataframe\">\n",
       "  <thead>\n",
       "    <tr style=\"text-align: right;\">\n",
       "      <th></th>\n",
       "      <th>Observed</th>\n",
       "      <th>F_Time</th>\n",
       "    </tr>\n",
       "  </thead>\n",
       "  <tbody>\n",
       "    <tr>\n",
       "      <th>0</th>\n",
       "      <td>False</td>\n",
       "      <td>1.751191e+06</td>\n",
       "    </tr>\n",
       "    <tr>\n",
       "      <th>1</th>\n",
       "      <td>False</td>\n",
       "      <td>8.805501e+05</td>\n",
       "    </tr>\n",
       "    <tr>\n",
       "      <th>2</th>\n",
       "      <td>True</td>\n",
       "      <td>3.848121e+05</td>\n",
       "    </tr>\n",
       "    <tr>\n",
       "      <th>3</th>\n",
       "      <td>True</td>\n",
       "      <td>1.194672e+06</td>\n",
       "    </tr>\n",
       "    <tr>\n",
       "      <th>4</th>\n",
       "      <td>True</td>\n",
       "      <td>7.445108e+05</td>\n",
       "    </tr>\n",
       "    <tr>\n",
       "      <th>...</th>\n",
       "      <td>...</td>\n",
       "      <td>...</td>\n",
       "    </tr>\n",
       "    <tr>\n",
       "      <th>995</th>\n",
       "      <td>False</td>\n",
       "      <td>3.035034e+06</td>\n",
       "    </tr>\n",
       "    <tr>\n",
       "      <th>996</th>\n",
       "      <td>True</td>\n",
       "      <td>6.093648e+05</td>\n",
       "    </tr>\n",
       "    <tr>\n",
       "      <th>997</th>\n",
       "      <td>True</td>\n",
       "      <td>3.989339e+05</td>\n",
       "    </tr>\n",
       "    <tr>\n",
       "      <th>998</th>\n",
       "      <td>True</td>\n",
       "      <td>3.731964e+05</td>\n",
       "    </tr>\n",
       "    <tr>\n",
       "      <th>999</th>\n",
       "      <td>True</td>\n",
       "      <td>4.466505e+05</td>\n",
       "    </tr>\n",
       "  </tbody>\n",
       "</table>\n",
       "<p>1000 rows × 2 columns</p>\n",
       "</div>"
      ],
      "text/plain": [
       "     Observed        F_Time\n",
       "0       False  1.751191e+06\n",
       "1       False  8.805501e+05\n",
       "2        True  3.848121e+05\n",
       "3        True  1.194672e+06\n",
       "4        True  7.445108e+05\n",
       "..        ...           ...\n",
       "995     False  3.035034e+06\n",
       "996      True  6.093648e+05\n",
       "997      True  3.989339e+05\n",
       "998      True  3.731964e+05\n",
       "999      True  4.466505e+05\n",
       "\n",
       "[1000 rows x 2 columns]"
      ]
     },
     "execution_count": 510,
     "metadata": {},
     "output_type": "execute_result"
    }
   ],
   "source": [
    "data_y = data.iloc[:, 0:2]\n",
    "data_y # simulated data output"
   ]
  },
  {
   "cell_type": "markdown",
   "metadata": {},
   "source": [
    "### Creating Test, Train data"
   ]
  },
  {
   "cell_type": "code",
   "execution_count": 511,
   "metadata": {},
   "outputs": [],
   "source": [
    "# This is for the simulated data\n",
    "X_train, X_test, y_train, y_test = train_test_split(data_x, data_y, test_size=0.3)"
   ]
  },
  {
   "cell_type": "code",
   "execution_count": 512,
   "metadata": {},
   "outputs": [
    {
     "data": {
      "text/html": [
       "<div>\n",
       "<style scoped>\n",
       "    .dataframe tbody tr th:only-of-type {\n",
       "        vertical-align: middle;\n",
       "    }\n",
       "\n",
       "    .dataframe tbody tr th {\n",
       "        vertical-align: top;\n",
       "    }\n",
       "\n",
       "    .dataframe thead th {\n",
       "        text-align: right;\n",
       "    }\n",
       "</style>\n",
       "<table border=\"1\" class=\"dataframe\">\n",
       "  <thead>\n",
       "    <tr style=\"text-align: right;\">\n",
       "      <th></th>\n",
       "      <th>Observed</th>\n",
       "      <th>F_Time</th>\n",
       "    </tr>\n",
       "  </thead>\n",
       "  <tbody>\n",
       "    <tr>\n",
       "      <th>791</th>\n",
       "      <td>True</td>\n",
       "      <td>5.117711e+05</td>\n",
       "    </tr>\n",
       "    <tr>\n",
       "      <th>233</th>\n",
       "      <td>True</td>\n",
       "      <td>1.246061e+06</td>\n",
       "    </tr>\n",
       "    <tr>\n",
       "      <th>362</th>\n",
       "      <td>True</td>\n",
       "      <td>3.178113e+05</td>\n",
       "    </tr>\n",
       "    <tr>\n",
       "      <th>16</th>\n",
       "      <td>True</td>\n",
       "      <td>3.825957e+05</td>\n",
       "    </tr>\n",
       "    <tr>\n",
       "      <th>659</th>\n",
       "      <td>True</td>\n",
       "      <td>1.952956e+06</td>\n",
       "    </tr>\n",
       "    <tr>\n",
       "      <th>...</th>\n",
       "      <td>...</td>\n",
       "      <td>...</td>\n",
       "    </tr>\n",
       "    <tr>\n",
       "      <th>245</th>\n",
       "      <td>True</td>\n",
       "      <td>2.619731e+05</td>\n",
       "    </tr>\n",
       "    <tr>\n",
       "      <th>859</th>\n",
       "      <td>True</td>\n",
       "      <td>1.537216e+06</td>\n",
       "    </tr>\n",
       "    <tr>\n",
       "      <th>49</th>\n",
       "      <td>True</td>\n",
       "      <td>1.045176e+06</td>\n",
       "    </tr>\n",
       "    <tr>\n",
       "      <th>653</th>\n",
       "      <td>False</td>\n",
       "      <td>1.152861e+06</td>\n",
       "    </tr>\n",
       "    <tr>\n",
       "      <th>352</th>\n",
       "      <td>False</td>\n",
       "      <td>3.189246e+06</td>\n",
       "    </tr>\n",
       "  </tbody>\n",
       "</table>\n",
       "<p>300 rows × 2 columns</p>\n",
       "</div>"
      ],
      "text/plain": [
       "     Observed        F_Time\n",
       "791      True  5.117711e+05\n",
       "233      True  1.246061e+06\n",
       "362      True  3.178113e+05\n",
       "16       True  3.825957e+05\n",
       "659      True  1.952956e+06\n",
       "..        ...           ...\n",
       "245      True  2.619731e+05\n",
       "859      True  1.537216e+06\n",
       "49       True  1.045176e+06\n",
       "653     False  1.152861e+06\n",
       "352     False  3.189246e+06\n",
       "\n",
       "[300 rows x 2 columns]"
      ]
     },
     "execution_count": 512,
     "metadata": {},
     "output_type": "execute_result"
    }
   ],
   "source": [
    "y_test"
   ]
  },
  {
   "cell_type": "code",
   "execution_count": 513,
   "metadata": {},
   "outputs": [],
   "source": [
    "## Formatting y dataset for the survival ananlysis\n",
    "data_y_num=data_y.to_records(index=False)\n",
    "real_y_num=real_y.to_records(index=False)\n",
    "y_train_num = y_train.to_records(index=False)\n",
    "y_test_num = y_test.to_records(index=False)"
   ]
  },
  {
   "cell_type": "code",
   "execution_count": 514,
   "metadata": {},
   "outputs": [
    {
     "data": {
      "text/plain": [
       "rec.array([( True, 2154137.), ( True, 1318034.), (False, 3245267.),\n",
       "           ( True,  464392.), ( True,  306142.), (False, 2255225.),\n",
       "           (False, 1444844.), ( True,  200007.), ( True,  297627.),\n",
       "           (False, 2829121.), (False, 1537912.), (False, 1266052.),\n",
       "           ( True,  514878.), (False, 2101992.), ( True,  603724.),\n",
       "           (False, 2143805.)],\n",
       "          dtype=[('Observed', '?'), ('F_Time', '<f8')])"
      ]
     },
     "execution_count": 514,
     "metadata": {},
     "output_type": "execute_result"
    }
   ],
   "source": [
    "real_y_num"
   ]
  },
  {
   "cell_type": "markdown",
   "metadata": {},
   "source": [
    "### SVM Survival Model"
   ]
  },
  {
   "cell_type": "markdown",
   "metadata": {},
   "source": [
    "This guide demonstrates how to use the efficient implementation of Survival Support Vector Machines, which is an extension of the standard Support Vector Machine to right-censored time-to-event data. Its main advantage is that it can account for complex, non-linear relationships between features and survival via the so-called kernel trick. A kernel function implicitly maps the input features into high-dimensional feature spaces where survival can be described by a hyperplane. This makes Survival Support Vector Machines extremely versatile and applicable to a wide a range of data. A popular example for such a kernel function is the Radial Basis Function.\n",
    "\n",
    "Survival analysis in the context of Support Vector Machines can be described in two different ways:\n",
    "\n",
    "As a ranking problem: the model learns to assign samples with shorter survival times a lower rank by considering all possible pairs of samples in the training data.\n",
    "\n",
    "As a regression problem: the model learns to directly predict the (log) survival time.\n",
    "\n",
    "In both cases, the disadvantage is that predictions cannot be easily related to standard quantities in survival analysis, namely survival function and cumulative hazard function. Moreover, they have to retain a copy of the training data to do predictions.\n",
    "\n",
    "Let’s start by taking a closer look at the Linear Survival Support Vector Machine, which does not allow selecting a specific kernel function, but can be fitted faster than the more generic Kernel Survival Support Vector Machine."
   ]
  },
  {
   "cell_type": "code",
   "execution_count": 515,
   "metadata": {},
   "outputs": [
    {
     "data": {
      "text/plain": [
       "1000"
      ]
     },
     "execution_count": 515,
     "metadata": {},
     "output_type": "execute_result"
    }
   ],
   "source": [
    "data_y_num.shape[0] # Total number of records"
   ]
  },
  {
   "cell_type": "code",
   "execution_count": 516,
   "metadata": {},
   "outputs": [
    {
     "data": {
      "text/plain": [
       "514"
      ]
     },
     "execution_count": 516,
     "metadata": {},
     "output_type": "execute_result"
    }
   ],
   "source": [
    "data_y_num[\"Observed\"].sum() # Number of uncensored data"
   ]
  },
  {
   "cell_type": "code",
   "execution_count": 517,
   "metadata": {},
   "outputs": [
    {
     "name": "stdout",
     "output_type": "stream",
     "text": [
      "48.6% of records are censored\n"
     ]
    }
   ],
   "source": [
    "# Finding the % of the censored data\n",
    "n_censored = data_y_num.shape[0] - data_y_num[\"Observed\"].sum()\n",
    "print(\"%.1f%% of records are censored\" % (n_censored / data_y_num.shape[0] * 100))"
   ]
  },
  {
   "cell_type": "code",
   "execution_count": 518,
   "metadata": {},
   "outputs": [
    {
     "data": {
      "image/png": "[encoded data removed]",
      "text/plain": [
       "<Figure size 648x432 with 1 Axes>"
      ]
     },
     "metadata": {},
     "output_type": "display_data"
    }
   ],
   "source": [
    "plt.figure(figsize=(9, 6))\n",
    "val, bins, patches = plt.hist((data_y_num[\"F_Time\"][data_y_num[\"Observed\"]],\n",
    "                               data_y_num[\"F_Time\"][~data_y_num[\"Observed\"]]),\n",
    "                              bins=30, stacked=True)\n",
    "_ = plt.legend(patches, [\"Time of Failure\", \"Time of Censoring\"])"
   ]
  },
  {
   "cell_type": "code",
   "execution_count": 519,
   "metadata": {},
   "outputs": [],
   "source": [
    "# Model Inititation\n",
    "estimator = FastSurvivalSVM(max_iter=1000, tol=1e-5, random_state=2020)"
   ]
  },
  {
   "cell_type": "code",
   "execution_count": 520,
   "metadata": {},
   "outputs": [],
   "source": [
    "def score_survival_model(model, X, y):\n",
    "    '''\n",
    "    returns Harrell’s concordance index for the given estimator, X and y\n",
    "    \n",
    "    '''\n",
    "#    model.fit(X_train, y_train_num)\n",
    "    prediction = model.predict(X)\n",
    "    result = concordance_index_censored(y['Observed'], y['F_Time'], prediction)\n",
    "    return result[0]"
   ]
  },
  {
   "cell_type": "code",
   "execution_count": 521,
   "metadata": {},
   "outputs": [],
   "source": [
    "#score_survival_model(estimator, data_x, data_y_num)"
   ]
  },
  {
   "cell_type": "markdown",
   "metadata": {},
   "source": [
    "The hyper-parameter 𝛼>0 determines the amount of regularization to apply: a smaller value increases the amount of regularization and a higher value reduces the amount of regularization. The hyper-parameter 𝑟∈[0;1] determines the trade-off between the ranking objective and the regression objective. If 𝑟=1 it reduces to the ranking objective, and if 𝑟=0 to the regression objective. If the regression objective is used, it is advised to log-transform the observed time first."
   ]
  },
  {
   "cell_type": "code",
   "execution_count": 522,
   "metadata": {},
   "outputs": [],
   "source": [
    "param_grid = {'alpha': 2. ** np.arange(-12, 13, 2)}\n",
    "cv = ShuffleSplit(n_splits=100, test_size=0.5, random_state=2020)\n",
    "gcv = GridSearchCV(estimator, param_grid, scoring=score_survival_model,\n",
    "                   n_jobs=4, iid=False, refit=False,\n",
    "                   cv=cv)"
   ]
  },
  {
   "cell_type": "code",
   "execution_count": 523,
   "metadata": {},
   "outputs": [],
   "source": [
    "import warnings\n",
    "warnings.filterwarnings(\"ignore\", category=FutureWarning)\n",
    "gcv = gcv.fit(data_x, data_y_num)"
   ]
  },
  {
   "cell_type": "code",
   "execution_count": 524,
   "metadata": {},
   "outputs": [
    {
     "data": {
      "text/plain": [
       "(0.639, {'alpha': 0.000244140625})"
      ]
     },
     "execution_count": 524,
     "metadata": {},
     "output_type": "execute_result"
    }
   ],
   "source": [
    "round(gcv.best_score_, 3), gcv.best_params_"
   ]
  },
  {
   "cell_type": "code",
   "execution_count": 525,
   "metadata": {},
   "outputs": [],
   "source": [
    "def plot_performance(gcv):\n",
    "    '''\n",
    "    Plots the performance of the Grid Search for each alpha\n",
    "    \n",
    "    '''\n",
    "    n_splits = gcv.cv.n_splits\n",
    "    cv_scores = {\"alpha\": [], \"test_score\": [], \"split\": []}\n",
    "    order = []\n",
    "    for i, params in enumerate(gcv.cv_results_[\"params\"]):\n",
    "        name = \"%.5f\" % params[\"alpha\"]\n",
    "        order.append(name)\n",
    "        for j in range(n_splits):\n",
    "            vs = gcv.cv_results_[\"split%d_test_score\" % j][i]\n",
    "            cv_scores[\"alpha\"].append(name)\n",
    "            cv_scores[\"test_score\"].append(vs)\n",
    "            cv_scores[\"split\"].append(j)\n",
    "    df = pandas.DataFrame.from_dict(cv_scores)\n",
    "    _, ax = plt.subplots(figsize=(11, 6))\n",
    "    sns.boxplot(x=\"alpha\", y=\"test_score\", data=df, order=order, ax=ax)\n",
    "    _, xtext = plt.xticks()\n",
    "    for t in xtext:\n",
    "        t.set_rotation(\"vertical\")"
   ]
  },
  {
   "cell_type": "code",
   "execution_count": 526,
   "metadata": {},
   "outputs": [
    {
     "data": {
      "image/png": "[encoded data removed]",
      "text/plain": [
       "<Figure size 792x432 with 1 Axes>"
      ]
     },
     "metadata": {},
     "output_type": "display_data"
    }
   ],
   "source": [
    "plot_performance(gcv)"
   ]
  },
  {
   "cell_type": "markdown",
   "metadata": {},
   "source": [
    "It seems that the change in the alpha value has no effect."
   ]
  },
  {
   "cell_type": "code",
   "execution_count": 527,
   "metadata": {},
   "outputs": [
    {
     "data": {
      "text/plain": [
       "FastSurvivalSVM(alpha=0.000244140625, fit_intercept=False, max_iter=1000,\n",
       "                optimizer='avltree', random_state=2020, rank_ratio=1.0,\n",
       "                timeit=False, tol=1e-05, verbose=False)"
      ]
     },
     "execution_count": 527,
     "metadata": {},
     "output_type": "execute_result"
    }
   ],
   "source": [
    "# The best alpha value obtained from the Grid Search\n",
    "estimator.set_params(**gcv.best_params_)\n",
    "estimator.fit(data_x, data_y_num)"
   ]
  },
  {
   "cell_type": "markdown",
   "metadata": {},
   "source": [
    "It is important to remember that only if the ranking objective is used exclusively (𝑟=1), that predictions denote risk scores, i.e. a higher predicted value indicates shorter survival, a lower value longer survival."
   ]
  },
  {
   "cell_type": "code",
   "execution_count": 528,
   "metadata": {},
   "outputs": [
    {
     "name": "stdout",
     "output_type": "stream",
     "text": [
      "[0.457 0.571]\n",
      "[(False, 1751190.50522918) (False,  880550.09729469)]\n"
     ]
    }
   ],
   "source": [
    "pred = estimator.predict(data_x.iloc[:2])\n",
    "print(np.round(pred, 3))\n",
    "print(data_y_num[:2])"
   ]
  },
  {
   "cell_type": "markdown",
   "metadata": {},
   "source": [
    "The model predicted that the first sample has a lower risk than the second sample, which is in concordance with the actual survival times."
   ]
  },
  {
   "cell_type": "markdown",
   "metadata": {},
   "source": [
    "### Implementing on the real data"
   ]
  },
  {
   "cell_type": "code",
   "execution_count": 543,
   "metadata": {},
   "outputs": [],
   "source": [
    "import warnings\n",
    "warnings.filterwarnings(\"ignore\", category=FutureWarning)\n",
    "gcv = gcv.fit(real_x, real_y_num)"
   ]
  },
  {
   "cell_type": "code",
   "execution_count": 544,
   "metadata": {},
   "outputs": [
    {
     "data": {
      "text/plain": [
       "(0.451, {'alpha': 0.00390625})"
      ]
     },
     "execution_count": 544,
     "metadata": {},
     "output_type": "execute_result"
    }
   ],
   "source": [
    "round(gcv.best_score_, 3), gcv.best_params_"
   ]
  },
  {
   "cell_type": "code",
   "execution_count": 545,
   "metadata": {},
   "outputs": [
    {
     "data": {
      "image/png": "[encoded data removed]",
      "text/plain": [
       "<Figure size 792x432 with 1 Axes>"
      ]
     },
     "metadata": {},
     "output_type": "display_data"
    }
   ],
   "source": [
    "plot_performance(gcv)"
   ]
  },
  {
   "cell_type": "code",
   "execution_count": 546,
   "metadata": {},
   "outputs": [
    {
     "data": {
      "text/plain": [
       "FastSurvivalSVM(alpha=0.00390625, fit_intercept=False, max_iter=1000,\n",
       "                optimizer='avltree', random_state=2020, rank_ratio=1.0,\n",
       "                timeit=False, tol=1e-05, verbose=False)"
      ]
     },
     "execution_count": 546,
     "metadata": {},
     "output_type": "execute_result"
    }
   ],
   "source": [
    "# The best alpha value obtained from the Grid Search\n",
    "estimator.set_params(**gcv.best_params_)\n",
    "estimator.fit(real_x, real_y_num)"
   ]
  },
  {
   "cell_type": "code",
   "execution_count": 547,
   "metadata": {},
   "outputs": [
    {
     "name": "stdout",
     "output_type": "stream",
     "text": [
      "[-0.    -0.    -0.     0.032  0.032  0.043  0.043  0.043  0.054  0.054\n",
      "  0.054  0.054  0.064  0.064  0.064  0.064]\n",
      "[( True, 2154137.) ( True, 1318034.) (False, 3245267.) ( True,  464392.)\n",
      " ( True,  306142.) (False, 2255225.) (False, 1444844.) ( True,  200007.)\n",
      " ( True,  297627.) (False, 2829121.) (False, 1537912.) (False, 1266052.)\n",
      " ( True,  514878.) (False, 2101992.) ( True,  603724.) (False, 2143805.)]\n"
     ]
    }
   ],
   "source": [
    "pred = estimator.predict(real_x)\n",
    "print(np.round(pred, 3))\n",
    "print(real_y_num)"
   ]
  },
  {
   "cell_type": "markdown",
   "metadata": {},
   "source": [
    "### Regression"
   ]
  },
  {
   "cell_type": "markdown",
   "metadata": {},
   "source": [
    "If the regression objective is used (𝑟<1), the semantics are different, because now predictions are on the time scale and lower predicted values indicate shorter survival, higher values longer survival. Moreover, we saw from the histogram of observed times above that the distribution is skewed, therefore it is advised to log-transform the observed time before fitting a model. Here, we are going to use the transformation 𝑦′=log(1+𝑦)."
   ]
  },
  {
   "cell_type": "code",
   "execution_count": 529,
   "metadata": {},
   "outputs": [],
   "source": [
    "y_log_t = data_y_num.copy()\n",
    "y_log_t[\"F_Time\"]= np.log1p(data_y_num[\"F_Time\"])"
   ]
  },
  {
   "cell_type": "markdown",
   "metadata": {},
   "source": [
    "Let’s fit a model using the regression objective (𝑟=0) and compare its performance to the ranking model from above."
   ]
  },
  {
   "cell_type": "code",
   "execution_count": 530,
   "metadata": {},
   "outputs": [
    {
     "name": "stdout",
     "output_type": "stream",
     "text": [
      "0.358\n"
     ]
    }
   ],
   "source": [
    "ref_estimator = FastSurvivalSVM(rank_ratio=0.0, max_iter=1000, tol=1e-5, random_state=2020)\n",
    "ref_estimator.fit(data_x, y_log_t)\n",
    "\n",
    "cindex = concordance_index_censored(\n",
    "    data_y_num['Observed'],\n",
    "    data_y_num['F_Time'],\n",
    "    -ref_estimator.predict(data_x),  # flip sign to obtain risk scores\n",
    ")\n",
    "print(round(cindex[0], 3))"
   ]
  },
  {
   "cell_type": "markdown",
   "metadata": {},
   "source": [
    "Note that concordance_index_censored expects risk scores, therefore, we had to flip the sign of predictions. The resulting performance of the regression model is comparable to the of the ranking model above."
   ]
  },
  {
   "cell_type": "code",
   "execution_count": 531,
   "metadata": {},
   "outputs": [
    {
     "name": "stdout",
     "output_type": "stream",
     "text": [
      "[  3217.203 818737.675]\n"
     ]
    }
   ],
   "source": [
    "pred_log = ref_estimator.predict(data_x.iloc[:2])\n",
    "pred_y = np.expm1(pred_log)\n",
    "print(np.round(pred_y, 3))"
   ]
  },
  {
   "cell_type": "code",
   "execution_count": 532,
   "metadata": {},
   "outputs": [],
   "source": [
    "#from sksurv.kernels import clinical_kernel\n",
    "#from sksurv.svm import FastKernelSurvivalSVM"
   ]
  },
  {
   "cell_type": "code",
   "execution_count": 533,
   "metadata": {},
   "outputs": [],
   "source": [
    "#kernel_matrix = clinical_kernel(data_x)"
   ]
  },
  {
   "cell_type": "code",
   "execution_count": 534,
   "metadata": {},
   "outputs": [],
   "source": [
    "#kssvm = FastKernelSurvivalSVM(optimizer=\"rbtree\", kernel=\"precomputed\", random_state=2020)\n",
    "#\n",
    "#kgcv = GridSearchCV(kssvm, param_grid, scoring=score_survival_model,\n",
    "#                    n_jobs=4, iid=False, refit=False,\n",
    "#                    cv=cv)"
   ]
  },
  {
   "cell_type": "code",
   "execution_count": 535,
   "metadata": {},
   "outputs": [],
   "source": [
    "#import warnings\n",
    "#warnings.filterwarnings(\"ignore\", category=FutureWarning)\n",
    "#kgcv = kgcv.fit(kernel_matrix, data_y_num)"
   ]
  },
  {
   "cell_type": "code",
   "execution_count": 536,
   "metadata": {},
   "outputs": [],
   "source": [
    "#round(kgcv.best_score_, 3), kgcv.best_params_"
   ]
  },
  {
   "cell_type": "code",
   "execution_count": 537,
   "metadata": {},
   "outputs": [],
   "source": [
    "#plot_performance(kgcv)"
   ]
  }
 ],
 "metadata": {
  "kernelspec": {
   "display_name": "Python 3",
   "language": "python",
   "name": "python3"
  },
  "language_info": {
   "codemirror_mode": {
    "name": "ipython",
    "version": 3
   },
   "file_extension": ".py",
   "mimetype": "text/x-python",
   "name": "python",
   "nbconvert_exporter": "python",
   "pygments_lexer": "ipython3",
   "version": "3.8.5"
  }
 },
 "nbformat": 4,
 "nbformat_minor": 4
}
