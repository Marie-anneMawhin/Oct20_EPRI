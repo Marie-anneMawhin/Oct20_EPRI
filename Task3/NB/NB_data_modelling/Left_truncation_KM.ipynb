{
 "cells": [
  {
   "cell_type": "markdown",
   "metadata": {},
   "source": [
    "Assess the influence of left truncation on Kaplan Meier"
   ]
  },
  {
   "cell_type": "code",
   "execution_count": null,
   "metadata": {},
   "outputs": [],
   "source": [
    "from lifelines.plotting import plot_lifetimes\n",
    "from lifelines import KaplanMeierFitter\n",
    "\n",
    "import pandas as pd\n",
    "import numpy as np\n",
    "import matplotlib.pyplot as plt\n",
    "import seaborn as sns\n",
    "import os, glob, inspect, sys\n",
    "\n",
    "currentdir = os.path.dirname(os.path.abspath(inspect.getfile(inspect.currentframe())))\n",
    "parentdir = os.path.dirname(currentdir)\n",
    "sys.path.insert(0,parentdir) \n",
    "import epri_mc_lib_3 as mc\n",
    "from importlib import reload\n",
    "reload(mc)"
   ]
  },
  {
   "cell_type": "code",
   "execution_count": null,
   "metadata": {},
   "outputs": [],
   "source": [
    "data = pd.read_csv(os.path.join(os.path.dirname(os.getcwd()), '../Data/Merged_data/Survival_df.csv'),\n",
    "                  index_col=0)\n",
    "data_GAN = pd.read_csv(os.path.join(os.path.dirname(os.getcwd()), '../Data/Merged_data/CopulaGAN_simulated_data_survival_2.csv'),\n",
    "                  index_col=None)\n",
    "\n",
    "data_x = data.iloc[:, 2:]\n",
    "data_y = data.iloc[:, 0:2]\n",
    "\n",
    "data_GAN_x = data_GAN.iloc[:, 2:]\n",
    "data_GAN_y = data_GAN.iloc[:, 0:2]"
   ]
  },
  {
   "cell_type": "code",
   "execution_count": null,
   "metadata": {},
   "outputs": [],
   "source": [
    "merge = pd.read_csv(os.path.join(os.path.dirname(os.getcwd()), '../Data/Merged_data/MERGE_on_sample.csv'), \n",
    "                   index_col=0)\n",
    "merge.loc[merge.F_Time.isna(), 'unfailed_cycle'] = merge.NDE_cycle\n",
    "merge['failure'] = merge.failure_cycle\n",
    "merge.failure = merge.failure.fillna(merge.unfailed_cycle)\n",
    "merge.dropna(subset=['failure'], inplace=True)\n",
    "merge.drop(['failure_cycle', 'unfailed_cycle', 'F_Fraction', 'F_Time'], axis=1, inplace=True)"
   ]
  },
  {
   "cell_type": "code",
   "execution_count": null,
   "metadata": {},
   "outputs": [],
   "source": [
    "_, ax = plt.subplots(figsize=(5,7))\n",
    "plot_lifetimes(\n",
    "    merge['failure'] - merge['NDE_cycle'],\n",
    "    event_observed=merge['Observed'],\n",
    "    entry=merge['NDE_cycle'],\n",
    "    event_observed_color=\"#8f1402\",\n",
    "    event_censored_color=\"#029386\",\n",
    "    left_truncated=True,\n",
    ")\n",
    "plt.ylabel('Sample ID')\n",
    "plt.xlabel('Total cycle run')"
   ]
  },
  {
   "cell_type": "code",
   "execution_count": null,
   "metadata": {},
   "outputs": [],
   "source": [
    "kmf = KaplanMeierFitter()\n",
    "kmf.fit(merge['failure'], event_observed = merge['Observed'], entry=merge['NDE_cycle'], label='modeling late entries')\n",
    "ax = kmf.plot()\n",
    "\n",
    "kmf.fit(merge['failure'], event_observed = merge['Observed'], label='ignoring late entries')\n",
    "kmf.plot(ax=ax)\n",
    "\n",
    "plt.ylabel(\"est. probability of survival $\\hat{S}(t)$\")\n"
   ]
  },
  {
   "cell_type": "code",
   "execution_count": null,
   "metadata": {},
   "outputs": [],
   "source": []
  }
 ],
 "metadata": {
  "kernelspec": {
   "display_name": "Python 3",
   "language": "python",
   "name": "python3"
  },
  "language_info": {
   "codemirror_mode": {
    "name": "ipython",
    "version": 3
   },
   "file_extension": ".py",
   "mimetype": "text/x-python",
   "name": "python",
   "nbconvert_exporter": "python",
   "pygments_lexer": "ipython3",
   "version": "3.8.5"
  }
 },
 "nbformat": 4,
 "nbformat_minor": 4
}
