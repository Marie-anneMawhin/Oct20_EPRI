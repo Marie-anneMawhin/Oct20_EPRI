{
 "cells": [
  {
   "cell_type": "markdown",
   "metadata": {},
   "source": [
    "Kaplan meier on original and simulated data + lifespan plot"
   ]
  },
  {
   "cell_type": "code",
   "execution_count": null,
   "metadata": {},
   "outputs": [],
   "source": [
    "import pandas as pd\n",
    "import numpy as np\n",
    "import matplotlib.pyplot as plt\n",
    "import seaborn as sns\n",
    "import os, glob, inspect, sys\n",
    "from sksurv.nonparametric import kaplan_meier_estimator\n",
    "from sksurv.linear_model import CoxPHSurvivalAnalysis\n",
    "\n",
    "from lifelines.plotting import plot_lifetimes\n"
   ]
  },
  {
   "cell_type": "code",
   "execution_count": null,
   "metadata": {},
   "outputs": [],
   "source": [
    "data = pd.read_csv(os.path.join(os.path.dirname(os.getcwd()), '../Data/Merged_data/Survival_df.csv'),\n",
    "                  index_col=0)"
   ]
  },
  {
   "cell_type": "code",
   "execution_count": null,
   "metadata": {},
   "outputs": [],
   "source": [
    "data_GAN = pd.read_csv(os.path.join(os.path.dirname(os.getcwd()), '../Data/Merged_data/CopulaGAN_simulated_data_survival_2.csv'),\n",
    "                  index_col=None)"
   ]
  },
  {
   "cell_type": "code",
   "execution_count": null,
   "metadata": {},
   "outputs": [],
   "source": [
    "data_x = data.iloc[:, 2:]\n",
    "data_y = data.iloc[:, 0:2]"
   ]
  },
  {
   "cell_type": "code",
   "execution_count": null,
   "metadata": {},
   "outputs": [],
   "source": [
    "data_GAN_x = data_GAN.iloc[:, 2:]\n",
    "data_GAN_y = data_GAN.iloc[:, 0:2]"
   ]
  },
  {
   "cell_type": "markdown",
   "metadata": {},
   "source": [
    "## Lifetime\n",
    "\n",
    "### Actual"
   ]
  },
  {
   "cell_type": "code",
   "execution_count": null,
   "metadata": {},
   "outputs": [],
   "source": [
    "current_time = 1000000\n",
    "\n",
    "observed_lifetimes = np.minimum(data['F_Time'], current_time)\n",
    "death_observed = data['F_Time'] < current_time\n",
    "\n",
    "ax = plot_lifetimes(data['F_Time'], event_observed=death_observed)\n",
    "\n",
    "ax.set_xlim(0, 3500000)\n",
    "ax.vlines(1000000, 0, 30, lw=2, linestyles='--')\n",
    "ax.set_xlabel(\"Number of cycles\")\n",
    "ax.set_title(\"Failure at $cycle=1e6$\")"
   ]
  },
  {
   "cell_type": "markdown",
   "metadata": {},
   "source": [
    "## Kaplan Meier"
   ]
  },
  {
   "cell_type": "markdown",
   "metadata": {},
   "source": [
    "### Actual"
   ]
  },
  {
   "cell_type": "code",
   "execution_count": null,
   "metadata": {},
   "outputs": [],
   "source": [
    "data_y.F_Time.min()"
   ]
  },
  {
   "cell_type": "code",
   "execution_count": null,
   "metadata": {},
   "outputs": [],
   "source": [
    "sns.set_style('whitegrid')\n",
    "time, survival_prob = kaplan_meier_estimator(data_y[\"Observed\"], data_y[\"F_Time\"])\n",
    "plt.step(time, survival_prob, where=\"post\")\n",
    "plt.ylim(0 ,1)\n",
    "plt.hlines(0.5, data_y.F_Time.min(), data_y.F_Time.max(), colors='firebrick', linestyles='dashed')\n",
    "plt.ylabel(\"est. probability of survival $\\hat{S}(t)$\")\n",
    "plt.xlabel(\"time $t$\")\n",
    "plt.title('original data')"
   ]
  },
  {
   "cell_type": "markdown",
   "metadata": {},
   "source": [
    "### Synthetic"
   ]
  },
  {
   "cell_type": "code",
   "execution_count": null,
   "metadata": {},
   "outputs": [],
   "source": [
    "time, survival_prob = kaplan_meier_estimator(data_GAN_y[\"Observed\"], data_GAN_y[\"F_Time\"])\n",
    "plt.step(time, survival_prob, where=\"post\")\n",
    "plt.ylim(0 ,1)\n",
    "plt.hlines(0.5, data_GAN_y.F_Time.min(), data_GAN_y.F_Time.max(), colors='firebrick', linestyles='dashed')\n",
    "plt.ylabel(\"est. probability of survival $\\hat{S}(t)$\")\n",
    "plt.xlabel(\"time $t$\")\n",
    "plt.title('synthetic data')"
   ]
  },
  {
   "cell_type": "markdown",
   "metadata": {},
   "source": [
    "## Kaplan Meier by 'age' i.e. cycle at NDE"
   ]
  },
  {
   "cell_type": "markdown",
   "metadata": {},
   "source": [
    "### Actual"
   ]
  },
  {
   "cell_type": "code",
   "execution_count": null,
   "metadata": {},
   "outputs": [],
   "source": [
    "data_x.NDE_cycle.unique()"
   ]
  },
  {
   "cell_type": "code",
   "execution_count": null,
   "metadata": {},
   "outputs": [],
   "source": [
    "for age in [0, 300000, 450000, 600000, 750000, 900000]:\n",
    "    mask_treat = data_x[\"NDE_cycle\"] == age\n",
    "    time_age, survival_prob_age = kaplan_meier_estimator(\n",
    "        data_y[\"Observed\"][mask_treat],\n",
    "        data_y[\"F_Time\"][mask_treat])\n",
    "\n",
    "    plt.step(time_age, survival_prob_age, where=\"post\",\n",
    "             label=\"NDE time = %s\" % age)\n",
    "\n",
    "plt.ylabel(\"est. probability of survival $\\hat{S}(t)$\")\n",
    "plt.xlabel(\"time $t$\")\n",
    "plt.legend(loc=\"best\")\n",
    "plt.title('original data')"
   ]
  },
  {
   "cell_type": "markdown",
   "metadata": {},
   "source": [
    "### Synthetic"
   ]
  },
  {
   "cell_type": "code",
   "execution_count": null,
   "metadata": {},
   "outputs": [],
   "source": [
    "for age in [0, 300000, 450000, 600000, 750000, 900000]:\n",
    "    mask_treat = data_GAN_x[\"NDE_cycle\"] == age\n",
    "    time_age, survival_prob_age = kaplan_meier_estimator(\n",
    "        data_GAN_y[\"Observed\"][mask_treat],\n",
    "        data_GAN_y[\"F_Time\"][mask_treat])\n",
    "\n",
    "    plt.step(time_age, survival_prob_age, where=\"post\",\n",
    "             label=\"NDE time = %s\" % age)\n",
    "\n",
    "plt.ylabel(\"est. probability of survival $\\hat{S}(t)$\")\n",
    "plt.xlabel(\"time $t$\")\n",
    "plt.legend(loc=\"best\")\n",
    "plt.title('synthetic data')"
   ]
  },
  {
   "cell_type": "code",
   "execution_count": null,
   "metadata": {},
   "outputs": [],
   "source": []
  }
 ],
 "metadata": {
  "kernelspec": {
   "display_name": "Python 3",
   "language": "python",
   "name": "python3"
  },
  "language_info": {
   "codemirror_mode": {
    "name": "ipython",
    "version": 3
   },
   "file_extension": ".py",
   "mimetype": "text/x-python",
   "name": "python",
   "nbconvert_exporter": "python",
   "pygments_lexer": "ipython3",
   "version": "3.8.5"
  }
 },
 "nbformat": 4,
 "nbformat_minor": 4
}
