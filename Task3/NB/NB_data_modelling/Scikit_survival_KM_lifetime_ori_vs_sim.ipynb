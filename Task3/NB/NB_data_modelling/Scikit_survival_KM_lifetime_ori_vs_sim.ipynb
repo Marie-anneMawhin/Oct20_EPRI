{
 "cells": [
  {
   "cell_type": "code",
   "execution_count": 1,
   "metadata": {},
   "outputs": [],
   "source": [
    "import pandas as pd\n",
    "import numpy as np\n",
    "import matplotlib.pyplot as plt\n",
    "import seaborn as sns\n",
    "import os, glob, inspect, sys\n",
    "from sksurv.nonparametric import kaplan_meier_estimator\n",
    "from sksurv.linear_model import CoxPHSurvivalAnalysis\n",
    "\n",
    "from lifelines.plotting import plot_lifetimes\n"
   ]
  },
  {
   "cell_type": "code",
   "execution_count": 2,
   "metadata": {},
   "outputs": [],
   "source": [
    "data = pd.read_csv(os.path.join(os.path.dirname(os.getcwd()), '../Data/Merged_data/Survival_df.csv'),\n",
    "                  index_col=0)"
   ]
  },
  {
   "cell_type": "code",
   "execution_count": 34,
   "metadata": {},
   "outputs": [],
   "source": [
    "data_GAN = pd.read_csv(os.path.join(os.path.dirname(os.getcwd()), '../Data/Merged_data/CopulaGAN_simulated_data_survival_2.csv'),\n",
    "                  index_col=None)"
   ]
  },
  {
   "cell_type": "code",
   "execution_count": 35,
   "metadata": {},
   "outputs": [],
   "source": [
    "data_x = data.iloc[:, 2:]\n",
    "data_y = data.iloc[:, 0:2]"
   ]
  },
  {
   "cell_type": "code",
   "execution_count": 36,
   "metadata": {},
   "outputs": [],
   "source": [
    "data_GAN_x = data_GAN.iloc[:, 2:]\n",
    "data_GAN_y = data_GAN.iloc[:, 0:2]"
   ]
  },
  {
   "cell_type": "markdown",
   "metadata": {},
   "source": [
    "## Lifetime\n",
    "\n",
    "### Actual"
   ]
  },
  {
   "cell_type": "code",
   "execution_count": 37,
   "metadata": {},
   "outputs": [
    {
     "data": {
      "text/plain": [
       "Text(0.5, 1.0, 'Failure at $cycle=1e6$')"
      ]
     },
     "execution_count": 37,
     "metadata": {},
     "output_type": "execute_result"
    },
    {
     "data": {
      "image/png": "[encoded data removed]",
      "text/plain": [
       "<Figure size 432x288 with 1 Axes>"
      ]
     },
     "metadata": {},
     "output_type": "display_data"
    }
   ],
   "source": [
    "current_time = 1000000\n",
    "\n",
    "observed_lifetimes = np.minimum(data['F_Time'], current_time)\n",
    "death_observed = data['F_Time'] < current_time\n",
    "\n",
    "ax = plot_lifetimes(data['F_Time'], event_observed=death_observed)\n",
    "\n",
    "ax.set_xlim(0, 3500000)\n",
    "ax.vlines(1000000, 0, 30, lw=2, linestyles='--')\n",
    "ax.set_xlabel(\"Number of cycles\")\n",
    "ax.set_title(\"Failure at $cycle=1e6$\")"
   ]
  },
  {
   "cell_type": "markdown",
   "metadata": {},
   "source": [
    "## Kaplan Meier"
   ]
  },
  {
   "cell_type": "markdown",
   "metadata": {},
   "source": [
    "### Actual"
   ]
  },
  {
   "cell_type": "code",
   "execution_count": 38,
   "metadata": {},
   "outputs": [
    {
     "data": {
      "text/plain": [
       "200007.0"
      ]
     },
     "execution_count": 38,
     "metadata": {},
     "output_type": "execute_result"
    }
   ],
   "source": [
    "data_y.F_Time.min()"
   ]
  },
  {
   "cell_type": "code",
   "execution_count": 39,
   "metadata": {},
   "outputs": [
    {
     "data": {
      "text/plain": [
       "Text(0.5, 1.0, 'original data')"
      ]
     },
     "execution_count": 39,
     "metadata": {},
     "output_type": "execute_result"
    },
    {
     "data": {
      "image/png": "[encoded data removed]",
      "text/plain": [
       "<Figure size 432x288 with 1 Axes>"
      ]
     },
     "metadata": {},
     "output_type": "display_data"
    }
   ],
   "source": [
    "sns.set_style('whitegrid')\n",
    "time, survival_prob = kaplan_meier_estimator(data_y[\"Observed\"], data_y[\"F_Time\"])\n",
    "plt.step(time, survival_prob, where=\"post\")\n",
    "plt.ylim(0 ,1)\n",
    "plt.hlines(0.5, data_y.F_Time.min(), data_y.F_Time.max(), colors='firebrick', linestyles='dashed')\n",
    "plt.ylabel(\"est. probability of survival $\\hat{S}(t)$\")\n",
    "plt.xlabel(\"time $t$\")\n",
    "plt.title('original data')"
   ]
  },
  {
   "cell_type": "markdown",
   "metadata": {},
   "source": [
    "### Synthetic"
   ]
  },
  {
   "cell_type": "code",
   "execution_count": 46,
   "metadata": {},
   "outputs": [
    {
     "data": {
      "text/html": [
       "<div>\n",
       "<style scoped>\n",
       "    .dataframe tbody tr th:only-of-type {\n",
       "        vertical-align: middle;\n",
       "    }\n",
       "\n",
       "    .dataframe tbody tr th {\n",
       "        vertical-align: top;\n",
       "    }\n",
       "\n",
       "    .dataframe thead th {\n",
       "        text-align: right;\n",
       "    }\n",
       "</style>\n",
       "<table border=\"1\" class=\"dataframe\">\n",
       "  <thead>\n",
       "    <tr style=\"text-align: right;\">\n",
       "      <th></th>\n",
       "      <th>Observed</th>\n",
       "      <th>F_Time</th>\n",
       "      <th>NDE_cycle</th>\n",
       "      <th>diff_two_peaks_ratio</th>\n",
       "      <th>amp_ratio</th>\n",
       "      <th>pos_ratio</th>\n",
       "      <th>energy_ratio</th>\n",
       "      <th>NLE_ratio_51_17</th>\n",
       "      <th>NLE_ratio_85_17</th>\n",
       "      <th>NLE_ratio_51_119</th>\n",
       "      <th>NLO_avg</th>\n",
       "      <th>Avg_RP</th>\n",
       "      <th>ACEE_30_Avg_58</th>\n",
       "      <th>ACEE_500_Avg_58</th>\n",
       "      <th>ACPD_Avg_58</th>\n",
       "    </tr>\n",
       "    <tr>\n",
       "      <th>ID</th>\n",
       "      <th></th>\n",
       "      <th></th>\n",
       "      <th></th>\n",
       "      <th></th>\n",
       "      <th></th>\n",
       "      <th></th>\n",
       "      <th></th>\n",
       "      <th></th>\n",
       "      <th></th>\n",
       "      <th></th>\n",
       "      <th></th>\n",
       "      <th></th>\n",
       "      <th></th>\n",
       "      <th></th>\n",
       "      <th></th>\n",
       "    </tr>\n",
       "  </thead>\n",
       "  <tbody>\n",
       "    <tr>\n",
       "      <th>45C</th>\n",
       "      <td>False</td>\n",
       "      <td>3245267.0</td>\n",
       "      <td>0</td>\n",
       "      <td>1.245687</td>\n",
       "      <td>0.80997</td>\n",
       "      <td>0.989351</td>\n",
       "      <td>1.282046</td>\n",
       "      <td>0.896534</td>\n",
       "      <td>1.137561</td>\n",
       "      <td>1.82414</td>\n",
       "      <td>3.458337</td>\n",
       "      <td>189.010633</td>\n",
       "      <td>-0.64571</td>\n",
       "      <td>-3.20222</td>\n",
       "      <td>4.186639</td>\n",
       "    </tr>\n",
       "  </tbody>\n",
       "</table>\n",
       "</div>"
      ],
      "text/plain": [
       "     Observed     F_Time  NDE_cycle  diff_two_peaks_ratio  amp_ratio  \\\n",
       "ID                                                                     \n",
       "45C     False  3245267.0          0              1.245687    0.80997   \n",
       "\n",
       "     pos_ratio  energy_ratio  NLE_ratio_51_17  NLE_ratio_85_17  \\\n",
       "ID                                                               \n",
       "45C   0.989351      1.282046         0.896534         1.137561   \n",
       "\n",
       "     NLE_ratio_51_119   NLO_avg      Avg_RP  ACEE_30_Avg_58  ACEE_500_Avg_58  \\\n",
       "ID                                                                             \n",
       "45C           1.82414  3.458337  189.010633        -0.64571         -3.20222   \n",
       "\n",
       "     ACPD_Avg_58  \n",
       "ID                \n",
       "45C     4.186639  "
      ]
     },
     "execution_count": 46,
     "metadata": {},
     "output_type": "execute_result"
    }
   ],
   "source": [
    "data[data.F_Time>= 3245200]"
   ]
  },
  {
   "cell_type": "code",
   "execution_count": 47,
   "metadata": {},
   "outputs": [
    {
     "data": {
      "text/html": [
       "<div>\n",
       "<style scoped>\n",
       "    .dataframe tbody tr th:only-of-type {\n",
       "        vertical-align: middle;\n",
       "    }\n",
       "\n",
       "    .dataframe tbody tr th {\n",
       "        vertical-align: top;\n",
       "    }\n",
       "\n",
       "    .dataframe thead th {\n",
       "        text-align: right;\n",
       "    }\n",
       "</style>\n",
       "<table border=\"1\" class=\"dataframe\">\n",
       "  <thead>\n",
       "    <tr style=\"text-align: right;\">\n",
       "      <th></th>\n",
       "      <th>Observed</th>\n",
       "      <th>F_Time</th>\n",
       "      <th>NDE_cycle</th>\n",
       "      <th>diff_two_peaks_ratio</th>\n",
       "      <th>amp_ratio</th>\n",
       "      <th>pos_ratio</th>\n",
       "      <th>energy_ratio</th>\n",
       "      <th>NLE_ratio_51_17</th>\n",
       "      <th>NLE_ratio_85_17</th>\n",
       "      <th>NLE_ratio_51_119</th>\n",
       "      <th>NLO_avg</th>\n",
       "      <th>Avg_RP</th>\n",
       "      <th>ACEE_30_Avg_58</th>\n",
       "      <th>ACEE_500_Avg_58</th>\n",
       "      <th>ACPD_Avg_58</th>\n",
       "    </tr>\n",
       "  </thead>\n",
       "  <tbody>\n",
       "    <tr>\n",
       "      <th>169</th>\n",
       "      <td>False</td>\n",
       "      <td>3.245202e+06</td>\n",
       "      <td>0</td>\n",
       "      <td>1.240251</td>\n",
       "      <td>0.820575</td>\n",
       "      <td>0.989221</td>\n",
       "      <td>1.377117</td>\n",
       "      <td>0.883023</td>\n",
       "      <td>1.145195</td>\n",
       "      <td>1.834532</td>\n",
       "      <td>4.801163</td>\n",
       "      <td>190.109194</td>\n",
       "      <td>-0.787202</td>\n",
       "      <td>-3.182195</td>\n",
       "      <td>4.245327</td>\n",
       "    </tr>\n",
       "    <tr>\n",
       "      <th>274</th>\n",
       "      <td>True</td>\n",
       "      <td>3.245261e+06</td>\n",
       "      <td>0</td>\n",
       "      <td>2.366738</td>\n",
       "      <td>1.184306</td>\n",
       "      <td>0.989186</td>\n",
       "      <td>1.271352</td>\n",
       "      <td>0.885641</td>\n",
       "      <td>1.111893</td>\n",
       "      <td>1.859908</td>\n",
       "      <td>5.185710</td>\n",
       "      <td>190.391273</td>\n",
       "      <td>-0.519786</td>\n",
       "      <td>-3.353926</td>\n",
       "      <td>4.454585</td>\n",
       "    </tr>\n",
       "    <tr>\n",
       "      <th>583</th>\n",
       "      <td>False</td>\n",
       "      <td>3.245251e+06</td>\n",
       "      <td>600000</td>\n",
       "      <td>0.613868</td>\n",
       "      <td>1.308975</td>\n",
       "      <td>0.995932</td>\n",
       "      <td>0.992854</td>\n",
       "      <td>0.901894</td>\n",
       "      <td>1.095704</td>\n",
       "      <td>1.833083</td>\n",
       "      <td>3.599733</td>\n",
       "      <td>172.626301</td>\n",
       "      <td>-0.913843</td>\n",
       "      <td>-1.056651</td>\n",
       "      <td>3.443269</td>\n",
       "    </tr>\n",
       "    <tr>\n",
       "      <th>655</th>\n",
       "      <td>False</td>\n",
       "      <td>3.245253e+06</td>\n",
       "      <td>0</td>\n",
       "      <td>1.514547</td>\n",
       "      <td>0.822348</td>\n",
       "      <td>0.985618</td>\n",
       "      <td>1.156394</td>\n",
       "      <td>0.888110</td>\n",
       "      <td>1.081237</td>\n",
       "      <td>1.840053</td>\n",
       "      <td>4.681058</td>\n",
       "      <td>188.279747</td>\n",
       "      <td>-0.552365</td>\n",
       "      <td>-3.412243</td>\n",
       "      <td>3.830807</td>\n",
       "    </tr>\n",
       "  </tbody>\n",
       "</table>\n",
       "</div>"
      ],
      "text/plain": [
       "     Observed        F_Time  NDE_cycle  diff_two_peaks_ratio  amp_ratio  \\\n",
       "169     False  3.245202e+06          0              1.240251   0.820575   \n",
       "274      True  3.245261e+06          0              2.366738   1.184306   \n",
       "583     False  3.245251e+06     600000              0.613868   1.308975   \n",
       "655     False  3.245253e+06          0              1.514547   0.822348   \n",
       "\n",
       "     pos_ratio  energy_ratio  NLE_ratio_51_17  NLE_ratio_85_17  \\\n",
       "169   0.989221      1.377117         0.883023         1.145195   \n",
       "274   0.989186      1.271352         0.885641         1.111893   \n",
       "583   0.995932      0.992854         0.901894         1.095704   \n",
       "655   0.985618      1.156394         0.888110         1.081237   \n",
       "\n",
       "     NLE_ratio_51_119   NLO_avg      Avg_RP  ACEE_30_Avg_58  ACEE_500_Avg_58  \\\n",
       "169          1.834532  4.801163  190.109194       -0.787202        -3.182195   \n",
       "274          1.859908  5.185710  190.391273       -0.519786        -3.353926   \n",
       "583          1.833083  3.599733  172.626301       -0.913843        -1.056651   \n",
       "655          1.840053  4.681058  188.279747       -0.552365        -3.412243   \n",
       "\n",
       "     ACPD_Avg_58  \n",
       "169     4.245327  \n",
       "274     4.454585  \n",
       "583     3.443269  \n",
       "655     3.830807  "
      ]
     },
     "execution_count": 47,
     "metadata": {},
     "output_type": "execute_result"
    }
   ],
   "source": [
    "data_GAN[data_GAN.F_Time>= 3245200]"
   ]
  },
  {
   "cell_type": "code",
   "execution_count": 48,
   "metadata": {},
   "outputs": [
    {
     "data": {
      "text/plain": [
       "Text(0.5, 1.0, 'synthetic data')"
      ]
     },
     "execution_count": 48,
     "metadata": {},
     "output_type": "execute_result"
    },
    {
     "data": {
      "image/png": "[encoded data removed]",
      "text/plain": [
       "<Figure size 432x288 with 1 Axes>"
      ]
     },
     "metadata": {},
     "output_type": "display_data"
    }
   ],
   "source": [
    "time, survival_prob = kaplan_meier_estimator(data_GAN_y[\"Observed\"], data_GAN_y[\"F_Time\"])\n",
    "plt.step(time, survival_prob, where=\"post\")\n",
    "plt.ylim(0 ,1)\n",
    "plt.hlines(0.5, data_GAN_y.F_Time.min(), data_GAN_y.F_Time.max(), colors='firebrick', linestyles='dashed')\n",
    "plt.ylabel(\"est. probability of survival $\\hat{S}(t)$\")\n",
    "plt.xlabel(\"time $t$\")\n",
    "plt.title('synthetic data')"
   ]
  },
  {
   "cell_type": "markdown",
   "metadata": {},
   "source": [
    "## Kaplan Meier by 'age' i.e. cycle at NDE"
   ]
  },
  {
   "cell_type": "markdown",
   "metadata": {},
   "source": [
    "### Actual"
   ]
  },
  {
   "cell_type": "code",
   "execution_count": 52,
   "metadata": {},
   "outputs": [
    {
     "data": {
      "text/plain": [
       "array([     0, 300000, 450000, 600000, 750000, 900000])"
      ]
     },
     "execution_count": 52,
     "metadata": {},
     "output_type": "execute_result"
    }
   ],
   "source": [
    "data_x.NDE_cycle.unique()"
   ]
  },
  {
   "cell_type": "code",
   "execution_count": 53,
   "metadata": {},
   "outputs": [
    {
     "data": {
      "text/plain": [
       "Text(0.5, 1.0, 'original data')"
      ]
     },
     "execution_count": 53,
     "metadata": {},
     "output_type": "execute_result"
    },
    {
     "data": {
      "image/png": "[encoded data removed]",
      "text/plain": [
       "<Figure size 432x288 with 1 Axes>"
      ]
     },
     "metadata": {},
     "output_type": "display_data"
    }
   ],
   "source": [
    "for age in [0, 300000, 450000, 600000, 750000, 900000]:\n",
    "    mask_treat = data_x[\"NDE_cycle\"] == age\n",
    "    time_age, survival_prob_age = kaplan_meier_estimator(\n",
    "        data_y[\"Observed\"][mask_treat],\n",
    "        data_y[\"F_Time\"][mask_treat])\n",
    "\n",
    "    plt.step(time_age, survival_prob_age, where=\"post\",\n",
    "             label=\"NDE time = %s\" % age)\n",
    "\n",
    "plt.ylabel(\"est. probability of survival $\\hat{S}(t)$\")\n",
    "plt.xlabel(\"time $t$\")\n",
    "plt.legend(loc=\"best\")\n",
    "plt.title('original data')"
   ]
  },
  {
   "cell_type": "markdown",
   "metadata": {},
   "source": [
    "### Synthetic"
   ]
  },
  {
   "cell_type": "code",
   "execution_count": 54,
   "metadata": {},
   "outputs": [
    {
     "data": {
      "text/plain": [
       "Text(0.5, 1.0, 'synthetic data')"
      ]
     },
     "execution_count": 54,
     "metadata": {},
     "output_type": "execute_result"
    },
    {
     "data": {
      "image/png": "[encoded data removed]",
      "text/plain": [
       "<Figure size 432x288 with 1 Axes>"
      ]
     },
     "metadata": {},
     "output_type": "display_data"
    }
   ],
   "source": [
    "for age in [0, 300000, 450000, 600000, 750000, 900000]:\n",
    "    mask_treat = data_GAN_x[\"NDE_cycle\"] == age\n",
    "    time_age, survival_prob_age = kaplan_meier_estimator(\n",
    "        data_GAN_y[\"Observed\"][mask_treat],\n",
    "        data_GAN_y[\"F_Time\"][mask_treat])\n",
    "\n",
    "    plt.step(time_age, survival_prob_age, where=\"post\",\n",
    "             label=\"NDE time = %s\" % age)\n",
    "\n",
    "plt.ylabel(\"est. probability of survival $\\hat{S}(t)$\")\n",
    "plt.xlabel(\"time $t$\")\n",
    "plt.legend(loc=\"best\")\n",
    "plt.title('synthetic data')"
   ]
  },
  {
   "cell_type": "code",
   "execution_count": null,
   "metadata": {},
   "outputs": [],
   "source": []
  }
 ],
 "metadata": {
  "kernelspec": {
   "display_name": "Python [conda env:EPRI]",
   "language": "python",
   "name": "conda-env-EPRI-py"
  },
  "language_info": {
   "codemirror_mode": {
    "name": "ipython",
    "version": 3
   },
   "file_extension": ".py",
   "mimetype": "text/x-python",
   "name": "python",
   "nbconvert_exporter": "python",
   "pygments_lexer": "ipython3",
   "version": "3.8.5"
  }
 },
 "nbformat": 4,
 "nbformat_minor": 4
}
