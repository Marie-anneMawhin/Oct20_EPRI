{
 "cells": [
  {
   "cell_type": "code",
   "execution_count": 65,
   "metadata": {},
   "outputs": [],
   "source": [
    "import pandas as pd\n",
    "import numpy as np\n",
    "import matplotlib.pyplot as plt\n",
    "import seaborn as sns\n",
    "import os, glob, inspect, sys\n",
    "from sksurv.nonparametric import kaplan_meier_estimator \n"
   ]
  },
  {
   "cell_type": "code",
   "execution_count": 129,
   "metadata": {},
   "outputs": [],
   "source": [
    "data = pd.read_csv(os.path.join(os.path.dirname(os.getcwd()), '../Data/Merged_data/Survival_df.csv'),\n",
    "                  index_col=0)"
   ]
  },
  {
   "cell_type": "code",
   "execution_count": 130,
   "metadata": {},
   "outputs": [],
   "source": [
    "data_x = data.iloc[:, 2:]\n",
    "data_y = data.iloc[:, 0:2]"
   ]
  },
  {
   "cell_type": "code",
   "execution_count": 131,
   "metadata": {},
   "outputs": [
    {
     "data": {
      "text/html": [
       "<div>\n",
       "<style scoped>\n",
       "    .dataframe tbody tr th:only-of-type {\n",
       "        vertical-align: middle;\n",
       "    }\n",
       "\n",
       "    .dataframe tbody tr th {\n",
       "        vertical-align: top;\n",
       "    }\n",
       "\n",
       "    .dataframe thead th {\n",
       "        text-align: right;\n",
       "    }\n",
       "</style>\n",
       "<table border=\"1\" class=\"dataframe\">\n",
       "  <thead>\n",
       "    <tr style=\"text-align: right;\">\n",
       "      <th></th>\n",
       "      <th>Observed</th>\n",
       "      <th>F_Time</th>\n",
       "    </tr>\n",
       "    <tr>\n",
       "      <th>ID</th>\n",
       "      <th></th>\n",
       "      <th></th>\n",
       "    </tr>\n",
       "  </thead>\n",
       "  <tbody>\n",
       "    <tr>\n",
       "      <th>41C</th>\n",
       "      <td>True</td>\n",
       "      <td>2154137.0</td>\n",
       "    </tr>\n",
       "    <tr>\n",
       "      <th>44C</th>\n",
       "      <td>True</td>\n",
       "      <td>1318034.0</td>\n",
       "    </tr>\n",
       "    <tr>\n",
       "      <th>45C</th>\n",
       "      <td>False</td>\n",
       "      <td>3245267.0</td>\n",
       "    </tr>\n",
       "    <tr>\n",
       "      <th>19C</th>\n",
       "      <td>True</td>\n",
       "      <td>464392.0</td>\n",
       "    </tr>\n",
       "    <tr>\n",
       "      <th>32C</th>\n",
       "      <td>True</td>\n",
       "      <td>306142.0</td>\n",
       "    </tr>\n",
       "  </tbody>\n",
       "</table>\n",
       "</div>"
      ],
      "text/plain": [
       "     Observed     F_Time\n",
       "ID                      \n",
       "41C      True  2154137.0\n",
       "44C      True  1318034.0\n",
       "45C     False  3245267.0\n",
       "19C      True   464392.0\n",
       "32C      True   306142.0"
      ]
     },
     "execution_count": 131,
     "metadata": {},
     "output_type": "execute_result"
    }
   ],
   "source": [
    "data_y.head()"
   ]
  },
  {
   "cell_type": "code",
   "execution_count": 69,
   "metadata": {},
   "outputs": [
    {
     "data": {
      "text/plain": [
       "Text(0.5, 0, 'time $t$')"
      ]
     },
     "execution_count": 69,
     "metadata": {},
     "output_type": "execute_result"
    },
    {
     "data": {
      "image/png": "[encoded data removed]",
      "text/plain": [
       "<Figure size 432x288 with 1 Axes>"
      ]
     },
     "metadata": {
      "needs_background": "light"
     },
     "output_type": "display_data"
    }
   ],
   "source": [
    "time, survival_prob = kaplan_meier_estimator(data_y[\"Observed\"], data_y[\"F_Time\"])\n",
    "plt.step(time, survival_prob, where=\"post\")\n",
    "plt.ylabel(\"est. probability of survival $\\hat{S}(t)$\")\n",
    "plt.xlabel(\"time $t$\")"
   ]
  },
  {
   "cell_type": "code",
   "execution_count": 70,
   "metadata": {},
   "outputs": [
    {
     "data": {
      "text/plain": [
       "Index(['NDE_cyle', 'diff_two_peaks_ratio', 'amp_ratio', 'pos_ratio',\n",
       "       'energy_ratio', 'NLE_ratio_51_17', 'NLE_ratio_85_17',\n",
       "       'NLE_ratio_119_17', 'NLO_avg', 'Avg_RP', 'ACEE_30_Avg_58',\n",
       "       'ACEE_500_Avg_58', 'ACPD_Avg_58'],\n",
       "      dtype='object')"
      ]
     },
     "execution_count": 70,
     "metadata": {},
     "output_type": "execute_result"
    }
   ],
   "source": [
    "data_x.columns"
   ]
  },
  {
   "cell_type": "code",
   "execution_count": 71,
   "metadata": {},
   "outputs": [
    {
     "data": {
      "text/plain": [
       "ID\n",
       "41C     True\n",
       "44C     True\n",
       "45C     True\n",
       "19C    False\n",
       "32C    False\n",
       "23C    False\n",
       "25C    False\n",
       "21C    False\n",
       "27C    False\n",
       "26C    False\n",
       "28C    False\n",
       "48C    False\n",
       "37C    False\n",
       "39C    False\n",
       "42C    False\n",
       "49C    False\n",
       "Name: NDE_cyle, dtype: bool"
      ]
     },
     "execution_count": 71,
     "metadata": {},
     "output_type": "execute_result"
    }
   ],
   "source": [
    "data_x[\"NDE_cyle\"] == 0"
   ]
  },
  {
   "cell_type": "code",
   "execution_count": 72,
   "metadata": {},
   "outputs": [
    {
     "data": {
      "text/plain": [
       "<matplotlib.legend.Legend at 0x7f6dbfa0eb20>"
      ]
     },
     "execution_count": 72,
     "metadata": {},
     "output_type": "execute_result"
    },
    {
     "data": {
      "image/png": "[encoded data removed]",
      "text/plain": [
       "<Figure size 432x288 with 1 Axes>"
      ]
     },
     "metadata": {
      "needs_background": "light"
     },
     "output_type": "display_data"
    }
   ],
   "source": [
    "for age in [0, 450000, 600000, 750000, 900000]:\n",
    "    mask_treat = data_x[\"NDE_cyle\"] == age\n",
    "    time_age, survival_prob_age = kaplan_meier_estimator(\n",
    "        data_y[\"Observed\"][mask_treat],\n",
    "        data_y[\"F_Time\"][mask_treat])\n",
    "\n",
    "    plt.step(time_age, survival_prob_age, where=\"post\",\n",
    "             label=\"NDE time = %s\" % age)\n",
    "\n",
    "plt.ylabel(\"est. probability of survival $\\hat{S}(t)$\")\n",
    "plt.xlabel(\"time $t$\")\n",
    "plt.legend(loc=\"best\")"
   ]
  },
  {
   "cell_type": "code",
   "execution_count": 140,
   "metadata": {},
   "outputs": [],
   "source": [
    "data_y_num = data_y.to_records(index=False)"
   ]
  },
  {
   "cell_type": "code",
   "execution_count": 147,
   "metadata": {},
   "outputs": [
    {
     "data": {
      "text/plain": [
       "rec.array([( True, 2154137.), ( True, 1318034.), (False, 3245267.),\n",
       "           ( True,  464392.), ( True,  306142.), (False, 2255225.),\n",
       "           (False, 1444844.), ( True,  200007.), ( True,  297627.),\n",
       "           (False, 2829121.), (False, 1537912.), (False, 1266052.),\n",
       "           ( True,  514878.), (False, 2101992.), ( True,  603724.),\n",
       "           (False, 2143805.)],\n",
       "          dtype=[('Observed', '?'), ('F_Time', '<f8')])"
      ]
     },
     "execution_count": 147,
     "metadata": {},
     "output_type": "execute_result"
    }
   ],
   "source": [
    "data_y_num"
   ]
  },
  {
   "cell_type": "code",
   "execution_count": 148,
   "metadata": {},
   "outputs": [
    {
     "data": {
      "text/plain": [
       "(16,)"
      ]
     },
     "execution_count": 148,
     "metadata": {},
     "output_type": "execute_result"
    }
   ],
   "source": [
    "data_y_num.shape"
   ]
  },
  {
   "cell_type": "code",
   "execution_count": 169,
   "metadata": {
    "collapsed": true,
    "jupyter": {
     "outputs_hidden": true
    }
   },
   "outputs": [
    {
     "name": "stdout",
     "output_type": "stream",
     "text": [
      "iter      1: update = [-6.90335723e-07 -1.50720962e+01 -5.71965532e+00  3.79608788e+02\n",
      "  4.47406811e+01 -2.25970860e+02  6.53804117e+00  2.10062027e+02\n",
      "  4.30278719e+00  8.72098113e-02 -1.18834586e+01 -1.85058159e+00\n",
      " -1.10243782e+00]\n",
      "iter      1: loss = 0.2735597685\n",
      "iter      2: update = [ 2.30973962e-06 -7.59884518e+00 -1.48560947e+00  1.03301956e+02\n",
      "  2.18370498e+01 -1.00460818e+02 -2.21758986e+01  1.17462418e+02\n",
      "  2.07353166e+00  1.78885810e-01 -5.70364588e+00 -9.66000158e-01\n",
      " -9.58197158e-01]\n",
      "iter      2: loss = 0.1125178944\n",
      "iter      3: update = [ 1.41500428e-06 -9.80092495e+00 -2.46558052e+00  1.73381178e+02\n",
      "  2.85218263e+01 -1.33098446e+02 -1.62310398e+01  1.57417909e+02\n",
      "  2.79702030e+00  1.70572751e-01 -6.71284457e+00 -1.17736866e+00\n",
      " -1.21511752e+00]\n",
      "iter      3: loss = 0.0492022581\n",
      "iter      4: update = [ 4.18472744e-06 -6.48250676e+00 -6.76975695e+00  5.77462558e+01\n",
      "  2.84062201e+01 -8.13235180e+01 -4.10581736e+01  1.27689293e+02\n",
      "  2.41567606e+00 -3.03996669e-02 -5.40695337e+00 -1.75614356e+00\n",
      " -1.59114645e+00]\n",
      "iter      4: loss = 0.0228681056\n",
      "iter      5: update = [ 1.89442319e-05  2.55464129e+01 -4.75691254e+01 -7.68292173e+02\n",
      "  1.93853408e+01  3.28612145e+02 -2.19541594e+02 -1.56534564e+02\n",
      " -6.67533872e-01 -2.37845974e+00  1.02311350e+00 -8.78050259e+00\n",
      " -2.29844213e+00]\n",
      "iter      5: loss = 0.3838228071\n",
      "iter      4: loss increased, performing step-halving. loss = 0.0329107245\n",
      "iter      6: update = [ 1.19689543e-05  9.99563770e+00 -2.75347570e+01 -3.74278646e+02\n",
      "  2.35756407e+01  1.32390021e+02 -1.33615557e+02 -2.02137883e+01\n",
      "  7.76929887e-01 -1.21999349e+00 -1.94003773e+00 -5.26361125e+00\n",
      " -1.99676088e+00]\n",
      "iter      6: loss = 0.0149345735\n",
      "iter      7: update = [ 3.80951380e-06 -4.31063690e+00 -1.13149489e+01  5.35887423e+01\n",
      "  2.93053057e+01 -7.39100519e+01 -4.94355383e+01  1.19711081e+02\n",
      "  2.57721983e+00 -3.16639415e-01 -6.45138120e+00 -2.97798742e+00\n",
      " -1.26513287e+00]\n",
      "iter      7: loss = 0.0079678768\n",
      "iter      8: update = [ 3.28999389e-06 -2.38939020e+00 -1.26343745e+01  2.58329774e+01\n",
      "  2.56118435e+01 -5.13476269e+01 -4.75611934e+01  8.27557290e+01\n",
      "  2.20040018e+00 -4.17276301e-01 -6.44734106e+00 -3.08588548e+00\n",
      " -9.34828452e-01]\n",
      "iter      8: loss = 0.0058380946\n",
      "iter      9: update = [ 2.71488166e-06 -1.08872764e-02 -1.50793703e+01 -1.68582710e+01\n",
      "  2.08647810e+01 -2.17192922e+01 -3.79859339e+01  2.05645967e+01\n",
      "  1.70997162e+00 -5.13873967e-01 -6.45840618e+00 -2.88241406e+00\n",
      " -6.60740389e-01]\n",
      "iter      9: loss = 0.0051705976\n",
      "iter     10: update = [ 8.42853205e-06  9.17169348e+00 -2.82546453e+01 -1.40725741e+02\n",
      "  1.10982830e+01 -3.22069343e+01  9.70639615e+00  7.93364800e+00\n",
      "  3.58311397e-01 -3.62106976e-01 -1.45826152e+00  2.41253580e+00\n",
      " -3.48885927e-01]\n",
      "iter     10: loss = 0.0048391636\n",
      "iter     11: update = [ 4.23108984e-06 -3.19337968e+00 -1.01833650e+01 -5.75677560e+01\n",
      "  1.93447113e+01 -3.21366645e+01 -1.27866705e+01 -2.68831068e+01\n",
      "  3.74446007e-01  1.36145317e-01 -8.69624052e+00  1.41103183e+00\n",
      " -2.38422442e-01]\n",
      "iter     11: loss = 0.0046300913\n",
      "iter     12: update = [ 1.15859432e-05 -1.77005623e+01  8.34662282e+00 -1.62108227e+01\n",
      "  3.59761798e+01 -8.80178840e+01 -2.77176699e+00 -1.18454937e+02\n",
      " -2.26903915e+00  2.17074669e+00 -2.43995385e+01  1.47163784e+01\n",
      "  1.10150605e+00]\n",
      "iter     12: loss = 0.0044254426\n",
      "iter     13: update = [ 7.22037496e-05  9.94294736e+01 -1.78261160e+02 -4.10927210e+01\n",
      "  5.10599175e+00 -1.31565398e+01  2.39901684e+02 -9.86008134e+01\n",
      "  1.86520859e+00  2.98336546e+00  3.67915881e+01  1.00993766e+02\n",
      " -2.09925442e+01]\n",
      "iter     13: loss = 11.0045282263\n",
      "iter     12: loss increased, performing step-halving. loss = 0.0045029132\n",
      "iter     14: update = [ 3.76221284e-05  3.43809825e+01 -7.37801091e+01 -2.73012511e+01\n",
      "  2.08589962e+01 -5.13968170e+01  1.03774669e+02 -1.04805876e+02\n",
      " -3.64552079e-01  2.43005465e+00  3.45972699e+00  5.18390655e+01\n",
      " -8.61540892e+00]\n",
      "iter     14: loss = 0.5911439889\n",
      "iter     13: loss increased, performing step-halving. loss = 0.0045593698\n",
      "iter     15: update = [ 2.01515044e-05  1.62874014e+00 -2.12205219e+01 -2.00307933e+01\n",
      "  2.88316929e+01 -7.04417220e+01  3.48700518e+01 -1.07355122e+02\n",
      " -1.46534442e+00  2.14315494e+00 -1.32908212e+01  2.70207066e+01\n",
      " -2.39874115e+00]\n",
      "iter     15: loss = 0.0042865617\n",
      "iter     16: update = [ 1.91510282e-05  5.05285273e+00 -3.42000056e+01 -8.84533137e+01\n",
      "  3.24833810e+01 -6.69253564e+01  3.03400618e+01 -9.30993545e+01\n",
      " -4.80088284e-01  1.62280139e+00 -1.20589378e+01  2.46288526e+01\n",
      " -3.40835640e+00]\n",
      "iter     16: loss = 0.0042254501\n",
      "iter     17: update = [-8.28646297e-07 -1.53228538e+00  8.46150734e-01 -3.57220803e-01\n",
      "  2.14223278e+00 -8.13333755e-01 -5.65030461e+00 -3.67571246e-02\n",
      "  1.82246091e-01 -4.44252067e-02 -1.05809100e+00 -1.12654713e+00\n",
      " -1.96902922e-02]\n",
      "iter     17: loss = 0.0041896559\n",
      "iter     18: update = [-6.99159779e-07 -1.13442402e+00  1.02121113e+00 -3.88424970e-01\n",
      "  1.08845136e+00 -1.01280802e-01 -3.67133465e+00 -3.78186293e-01\n",
      "  8.77617133e-02 -3.37977171e-02 -6.88338477e-01 -9.26894736e-01\n",
      "  5.93469952e-02]\n",
      "iter     18: loss = 0.0041810043\n",
      "iter     19: update = [-3.39590207e-07 -5.81538971e-01  7.23173711e-01 -2.54545362e-01\n",
      "  3.45039606e-01 -2.10590224e-01 -1.55182454e+00 -8.24331523e-02\n",
      "  1.20583421e-02 -1.22563243e-02 -3.25468178e-01 -4.71081152e-01\n",
      "  7.33562812e-02]\n",
      "iter     19: loss = 0.0041798652\n",
      "iter     20: update = [-7.25607330e-08 -1.29475521e-01  1.92688648e-01 -6.54554828e-02\n",
      "  4.30638594e-02 -7.24876823e-02 -2.92960290e-01 -3.58068035e-04\n",
      " -2.54856006e-03 -1.91727970e-03 -6.81241818e-02 -1.04166703e-01\n",
      "  2.31430563e-02]\n",
      "iter     20: loss = 0.0041798270\n",
      "iter     21: update = [-3.10015177e-09 -5.58593576e-03  8.62851639e-03 -2.91137333e-03\n",
      "  1.52182247e-03 -3.38208756e-03 -1.21160442e-02  1.63638103e-04\n",
      " -1.62048569e-04 -7.46381360e-05 -2.89586429e-03 -4.48691448e-03\n",
      "  1.06625368e-03]\n",
      "iter     21: loss = 0.0041798269\n",
      "iter     22: update = [-5.54162441e-12 -9.98916181e-06  1.54326298e-05 -5.20780015e-06\n",
      "  2.71969622e-06 -6.05801113e-06 -2.16564881e-05  2.83998153e-07\n",
      " -2.90630252e-07 -1.33145315e-07 -5.17933608e-06 -8.02106639e-06\n",
      "  1.90741557e-06]\n",
      "iter     22: loss = 0.0041798269\n",
      "iter     22: optimization converged\n"
     ]
    },
    {
     "name": "stderr",
     "output_type": "stream",
     "text": [
      "/home/marie-anne/anaconda3/envs/EPRI/lib/python3.8/site-packages/sksurv/linear_model/coxph.py:425: LinAlgWarning: Ill-conditioned matrix (rcond=4.66688e-17): result may not be accurate.\n",
      "  delta = solve(optimizer.hessian, optimizer.gradient,\n",
      "/home/marie-anne/anaconda3/envs/EPRI/lib/python3.8/site-packages/sksurv/linear_model/coxph.py:425: LinAlgWarning: Ill-conditioned matrix (rcond=7.93774e-18): result may not be accurate.\n",
      "  delta = solve(optimizer.hessian, optimizer.gradient,\n",
      "/home/marie-anne/anaconda3/envs/EPRI/lib/python3.8/site-packages/sksurv/linear_model/coxph.py:425: LinAlgWarning: Ill-conditioned matrix (rcond=3.88442e-18): result may not be accurate.\n",
      "  delta = solve(optimizer.hessian, optimizer.gradient,\n",
      "/home/marie-anne/anaconda3/envs/EPRI/lib/python3.8/site-packages/sksurv/linear_model/coxph.py:425: LinAlgWarning: Ill-conditioned matrix (rcond=2.09751e-18): result may not be accurate.\n",
      "  delta = solve(optimizer.hessian, optimizer.gradient,\n",
      "/home/marie-anne/anaconda3/envs/EPRI/lib/python3.8/site-packages/sksurv/linear_model/coxph.py:425: LinAlgWarning: Ill-conditioned matrix (rcond=9.13446e-19): result may not be accurate.\n",
      "  delta = solve(optimizer.hessian, optimizer.gradient,\n",
      "/home/marie-anne/anaconda3/envs/EPRI/lib/python3.8/site-packages/sksurv/linear_model/coxph.py:425: LinAlgWarning: Ill-conditioned matrix (rcond=9.71208e-19): result may not be accurate.\n",
      "  delta = solve(optimizer.hessian, optimizer.gradient,\n",
      "/home/marie-anne/anaconda3/envs/EPRI/lib/python3.8/site-packages/sksurv/linear_model/coxph.py:425: LinAlgWarning: Ill-conditioned matrix (rcond=3.71787e-17): result may not be accurate.\n",
      "  delta = solve(optimizer.hessian, optimizer.gradient,\n",
      "/home/marie-anne/anaconda3/envs/EPRI/lib/python3.8/site-packages/sksurv/linear_model/coxph.py:425: LinAlgWarning: Ill-conditioned matrix (rcond=3.95796e-17): result may not be accurate.\n",
      "  delta = solve(optimizer.hessian, optimizer.gradient,\n",
      "/home/marie-anne/anaconda3/envs/EPRI/lib/python3.8/site-packages/sksurv/linear_model/coxph.py:425: LinAlgWarning: Ill-conditioned matrix (rcond=4.49516e-17): result may not be accurate.\n",
      "  delta = solve(optimizer.hessian, optimizer.gradient,\n",
      "/home/marie-anne/anaconda3/envs/EPRI/lib/python3.8/site-packages/sksurv/linear_model/coxph.py:425: LinAlgWarning: Ill-conditioned matrix (rcond=1.7815e-17): result may not be accurate.\n",
      "  delta = solve(optimizer.hessian, optimizer.gradient,\n",
      "/home/marie-anne/anaconda3/envs/EPRI/lib/python3.8/site-packages/sksurv/linear_model/coxph.py:425: LinAlgWarning: Ill-conditioned matrix (rcond=1.35204e-17): result may not be accurate.\n",
      "  delta = solve(optimizer.hessian, optimizer.gradient,\n",
      "/home/marie-anne/anaconda3/envs/EPRI/lib/python3.8/site-packages/sksurv/linear_model/coxph.py:425: LinAlgWarning: Ill-conditioned matrix (rcond=7.58035e-18): result may not be accurate.\n",
      "  delta = solve(optimizer.hessian, optimizer.gradient,\n",
      "/home/marie-anne/anaconda3/envs/EPRI/lib/python3.8/site-packages/sksurv/linear_model/coxph.py:425: LinAlgWarning: Ill-conditioned matrix (rcond=8.26757e-18): result may not be accurate.\n",
      "  delta = solve(optimizer.hessian, optimizer.gradient,\n",
      "/home/marie-anne/anaconda3/envs/EPRI/lib/python3.8/site-packages/sksurv/linear_model/coxph.py:425: LinAlgWarning: Ill-conditioned matrix (rcond=7.96721e-18): result may not be accurate.\n",
      "  delta = solve(optimizer.hessian, optimizer.gradient,\n",
      "/home/marie-anne/anaconda3/envs/EPRI/lib/python3.8/site-packages/sksurv/linear_model/coxph.py:425: LinAlgWarning: Ill-conditioned matrix (rcond=7.76393e-18): result may not be accurate.\n",
      "  delta = solve(optimizer.hessian, optimizer.gradient,\n",
      "/home/marie-anne/anaconda3/envs/EPRI/lib/python3.8/site-packages/sksurv/linear_model/coxph.py:425: LinAlgWarning: Ill-conditioned matrix (rcond=8.49643e-18): result may not be accurate.\n",
      "  delta = solve(optimizer.hessian, optimizer.gradient,\n",
      "/home/marie-anne/anaconda3/envs/EPRI/lib/python3.8/site-packages/sksurv/linear_model/coxph.py:425: LinAlgWarning: Ill-conditioned matrix (rcond=9.91922e-18): result may not be accurate.\n",
      "  delta = solve(optimizer.hessian, optimizer.gradient,\n",
      "/home/marie-anne/anaconda3/envs/EPRI/lib/python3.8/site-packages/sksurv/linear_model/coxph.py:425: LinAlgWarning: Ill-conditioned matrix (rcond=1.01066e-17): result may not be accurate.\n",
      "  delta = solve(optimizer.hessian, optimizer.gradient,\n",
      "/home/marie-anne/anaconda3/envs/EPRI/lib/python3.8/site-packages/sksurv/linear_model/coxph.py:425: LinAlgWarning: Ill-conditioned matrix (rcond=1.01327e-17): result may not be accurate.\n",
      "  delta = solve(optimizer.hessian, optimizer.gradient,\n",
      "/home/marie-anne/anaconda3/envs/EPRI/lib/python3.8/site-packages/sksurv/linear_model/coxph.py:425: LinAlgWarning: Ill-conditioned matrix (rcond=1.01359e-17): result may not be accurate.\n",
      "  delta = solve(optimizer.hessian, optimizer.gradient,\n",
      "/home/marie-anne/anaconda3/envs/EPRI/lib/python3.8/site-packages/sksurv/linear_model/coxph.py:425: LinAlgWarning: Ill-conditioned matrix (rcond=1.01351e-17): result may not be accurate.\n",
      "  delta = solve(optimizer.hessian, optimizer.gradient,\n",
      "/home/marie-anne/anaconda3/envs/EPRI/lib/python3.8/site-packages/sksurv/linear_model/coxph.py:425: LinAlgWarning: Ill-conditioned matrix (rcond=1.0135e-17): result may not be accurate.\n",
      "  delta = solve(optimizer.hessian, optimizer.gradient,\n"
     ]
    },
    {
     "data": {
      "text/plain": [
       "CoxPHSurvivalAnalysis(alpha=1e-07, verbose=10)"
      ]
     },
     "execution_count": 169,
     "metadata": {},
     "output_type": "execute_result"
    }
   ],
   "source": [
    "from sksurv.linear_model import CoxPHSurvivalAnalysis\n",
    "\n",
    "estimator = CoxPHSurvivalAnalysis(alpha=0.0000001, verbose=10)\n",
    "estimator.fit(data_x, data_y_num)"
   ]
  },
  {
   "cell_type": "code",
   "execution_count": null,
   "metadata": {},
   "outputs": [],
   "source": []
  },
  {
   "cell_type": "code",
   "execution_count": null,
   "metadata": {},
   "outputs": [],
   "source": []
  }
 ],
 "metadata": {
  "kernelspec": {
   "display_name": "Python [conda env:EPRI]",
   "language": "python",
   "name": "conda-env-EPRI-py"
  },
  "language_info": {
   "codemirror_mode": {
    "name": "ipython",
    "version": 3
   },
   "file_extension": ".py",
   "mimetype": "text/x-python",
   "name": "python",
   "nbconvert_exporter": "python",
   "pygments_lexer": "ipython3",
   "version": "3.8.5"
  }
 },
 "nbformat": 4,
 "nbformat_minor": 4
}
