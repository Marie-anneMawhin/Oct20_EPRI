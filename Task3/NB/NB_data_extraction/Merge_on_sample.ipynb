{
 "cells": [
  {
   "cell_type": "markdown",
   "metadata": {},
   "source": [
    "Merge all data"
   ]
  },
  {
   "cell_type": "code",
   "execution_count": null,
   "metadata": {},
   "outputs": [],
   "source": [
    "import pandas as pd\n",
    "import numpy as np\n",
    "import matplotlib.pyplot as plt\n",
    "import seaborn as sns\n",
    "\n",
    "import os, glob"
   ]
  },
  {
   "cell_type": "code",
   "execution_count": null,
   "metadata": {},
   "outputs": [],
   "source": [
    "path = os.path.join(os.path.dirname(os.getcwd()), '../Data/Extracted_data/')\n",
    "os.chdir(path)"
   ]
  },
  {
   "cell_type": "markdown",
   "metadata": {},
   "source": [
    "### MBN"
   ]
  },
  {
   "cell_type": "code",
   "execution_count": null,
   "metadata": {},
   "outputs": [],
   "source": [
    "MBN = pd.read_csv('MBN.csv', index_col='Sample')\n",
    "\n",
    "MBN = MBN.groupby(\"Sample\").mean()\n",
    "\n",
    "MBN['peak_ratio'] = MBN['peak']/MBN['peak_ref']\n",
    "MBN['fwhm_ratio'] = MBN['fwhm']/MBN['fwhm_ref']\n",
    "MBN['diff_two_peaks_ratio'] = MBN['diff_two_peaks']/MBN['diff_two_peaks_ref']\n",
    "MBN['amp_ratio'] = MBN['amp']/MBN['amp_ref']\n",
    "MBN['pos_ratio'] = MBN['pos']/MBN['pos_ref']\n",
    "MBN['energy_ratio'] = MBN['energy']/MBN['energy_ref']\n",
    "\n",
    "MBN = MBN.drop(columns=['location', 'measure', \n",
    "                        'peak', 'peak_ref', \n",
    "                        'fwhm', 'fwhm_ref', \n",
    "                        'diff_two_peaks', 'diff_two_peaks_ref',\n",
    "                        'amp', 'amp_ref',\n",
    "                        'pos', 'pos_ref',\n",
    "                        'energy', 'energy_ref'])\n",
    "MBN = MBN[['diff_two_peaks_ratio', 'amp_ratio',\n",
    "       'pos_ratio', 'energy_ratio']]\n",
    "print(MBN.shape)\n"
   ]
  },
  {
   "cell_type": "markdown",
   "metadata": {},
   "source": [
    "### NLE"
   ]
  },
  {
   "cell_type": "code",
   "execution_count": null,
   "metadata": {},
   "outputs": [],
   "source": [
    "NLE = pd.read_csv('NLE.csv')\n",
    "NLE['NLE_avg'] = NLE[['S10', 'S11', 'S12']].mean(axis=1)\n",
    "NLE = pd.pivot_table(NLE, index='Sample' ,columns='freq', values='NLE_avg')\n",
    "NLE = NLE.add_prefix('NLE_avg_')\n",
    "NLE[['NLE_ratio_51_17', 'NLE_ratio_85_17', 'NLE_ratio_119_17']] = NLE[['NLE_avg_51', 'NLE_avg_85', 'NLE_avg_119']].div(NLE['NLE_avg_17'], axis=0)\n",
    "NLE[['NLE_ratio_17_119', 'NLE_ratio_51_119', 'NLE_ratio_85_119']] = NLE[['NLE_avg_17', 'NLE_avg_51', 'NLE_avg_85']].div(NLE['NLE_avg_119'], axis=0)\n",
    "NLE = NLE[['NLE_ratio_51_17', 'NLE_ratio_85_17', 'NLE_ratio_51_119']]\n",
    "print(NLE.shape)\n"
   ]
  },
  {
   "cell_type": "markdown",
   "metadata": {},
   "source": [
    "### Electric"
   ]
  },
  {
   "cell_type": "code",
   "execution_count": null,
   "metadata": {},
   "outputs": [],
   "source": [
    "electric = pd.read_csv('Electric_RP.csv', index_col='ID')\n",
    "electric.drop('Unnamed: 0', axis=1, inplace=True)\n",
    "electric = electric[['Avg_RP', 'ACEE_30_Avg_58', 'ACEE_500_Avg_58', 'ACPD_Avg_58']]\n",
    "print(electric.shape)\n"
   ]
  },
  {
   "cell_type": "markdown",
   "metadata": {},
   "source": [
    "### NLO"
   ]
  },
  {
   "cell_type": "code",
   "execution_count": null,
   "metadata": {},
   "outputs": [],
   "source": [
    "NLO = pd.read_csv('NLO_result.csv', index_col='Sample')\n",
    "NLO.drop(['Stress', 'St Dev','Confidence'], axis=1, inplace=True)\n",
    "NLO.rename(columns={'Average':'NLO_avg'}, inplace=True)\n",
    "NLO = NLO.groupby('Sample').mean()\n",
    "print(NLO.shape)\n"
   ]
  },
  {
   "cell_type": "markdown",
   "metadata": {},
   "source": [
    "### Fatigue"
   ]
  },
  {
   "cell_type": "code",
   "execution_count": null,
   "metadata": {},
   "outputs": [],
   "source": [
    "fatigue = pd.read_excel('FatigueSampleInventory.xlsx', \n",
    "                        usecols=[' Specimen ID', 'Cycles at NDE Test', 'Cycles at Failure', 'Current Unfailed Cycles']\n",
    "                       )\n",
    "fatigue.rename(columns={' Specimen ID':'ID', 'Cycles at NDE Test':'NDE_cycle', 'Cycles at Failure':'failure_cycle', 'Current Unfailed Cycles':'unfailed_cycle'}, inplace=True)\n",
    "fatigue.set_index('ID', inplace=True)\n",
    "fatigue['F_Fraction'] = fatigue['NDE_cycle']/fatigue['failure_cycle']\n",
    "fatigue['Observed'] = fatigue.failure_cycle.notnull()\n",
    "fatigue['F_Time'] = fatigue['failure_cycle']-fatigue['NDE_cycle']\n",
    "fatigue['F_Time'] = fatigue['F_Time'].fillna(fatigue['unfailed_cycle']- fatigue['NDE_cycle'])\n",
    "print(fatigue.shape)\n"
   ]
  },
  {
   "cell_type": "markdown",
   "metadata": {},
   "source": [
    "Merge all data"
   ]
  },
  {
   "cell_type": "code",
   "execution_count": null,
   "metadata": {},
   "outputs": [],
   "source": [
    "merged = fatigue.join([MBN, NLE, NLO, electric], how='left')"
   ]
  },
  {
   "cell_type": "code",
   "execution_count": null,
   "metadata": {},
   "outputs": [],
   "source": [
    "merged.to_csv(os.path.join(os.path.dirname(os.getcwd()), '../Data/Merged_data/MERGE_on_sample.csv'))"
   ]
  },
  {
   "cell_type": "code",
   "execution_count": null,
   "metadata": {},
   "outputs": [],
   "source": [
    "merged.shape"
   ]
  },
  {
   "cell_type": "code",
   "execution_count": null,
   "metadata": {},
   "outputs": [],
   "source": [
    "survival = merged.copy()\n",
    "survival.dropna(how='any', subset=['F_Time'], inplace=True)\n",
    "survival = survival[['Observed', 'F_Time', 'NDE_cycle', 'diff_two_peaks_ratio', 'amp_ratio', 'pos_ratio',\n",
    "       'energy_ratio', 'NLE_ratio_51_17', 'NLE_ratio_85_17','NLE_ratio_51_119',\n",
    "       'NLO_avg', 'Avg_RP', 'ACEE_30_Avg_58',\n",
    "       'ACEE_500_Avg_58', 'ACPD_Avg_58']]\n",
    "survival.drop(['6C', '31C', '29C', '36C'], inplace=True)\n",
    "survival.to_csv(os.path.join(os.path.dirname(os.getcwd()), '../Data/Merged_data/Survival_df.csv'))\n",
    "survival.shape"
   ]
  },
  {
   "cell_type": "code",
   "execution_count": null,
   "metadata": {},
   "outputs": [],
   "source": [
    "survival_left_truncated = merged.copy()\n",
    "survival_left_truncated = survival_left_truncated[survival_left_truncated.F_Time.isna()]\n",
    "survival_left_truncated.unfailed_cycle = survival_left_truncated.NDE_cycle\n",
    "survival_left_truncated.F_Time = survival_left_truncated.NDE_cycle - survival_left_truncated.unfailed_cycle\n",
    "survival_left_truncated = survival_left_truncated[['Observed', 'F_Time', 'NDE_cycle', 'diff_two_peaks_ratio', 'amp_ratio', 'pos_ratio',\n",
    "       'energy_ratio', 'NLE_ratio_51_17', 'NLE_ratio_85_17','NLE_ratio_51_119',\n",
    "       'NLO_avg', 'Avg_RP', 'ACEE_30_Avg_58',\n",
    "       'ACEE_500_Avg_58', 'ACPD_Avg_58']]\n",
    "\n",
    "survival_left_truncated.to_csv(os.path.join(os.path.dirname(os.getcwd()), '../Data/Merged_data/Survival_df_left_trunc.csv'))\n",
    "survival.shape"
   ]
  },
  {
   "cell_type": "code",
   "execution_count": null,
   "metadata": {},
   "outputs": [],
   "source": []
  }
 ],
 "metadata": {
  "kernelspec": {
   "display_name": "Python 3",
   "language": "python",
   "name": "python3"
  },
  "language_info": {
   "codemirror_mode": {
    "name": "ipython",
    "version": 3
   },
   "file_extension": ".py",
   "mimetype": "text/x-python",
   "name": "python",
   "nbconvert_exporter": "python",
   "pygments_lexer": "ipython3",
   "version": "3.8.5"
  }
 },
 "nbformat": 4,
 "nbformat_minor": 4
}
