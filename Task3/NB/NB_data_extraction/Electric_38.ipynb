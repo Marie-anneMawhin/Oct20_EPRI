{
 "cells": [
  {
   "cell_type": "markdown",
   "metadata": {},
   "source": [
    "Extraction of 3 to 8 Electric_Anisotropy_&_Magnetic_Permeability_Data"
   ]
  },
  {
   "cell_type": "code",
   "execution_count": null,
   "metadata": {},
   "outputs": [],
   "source": [
    "import pandas as pd\n",
    "import os"
   ]
  },
  {
   "cell_type": "code",
   "execution_count": null,
   "metadata": {},
   "outputs": [],
   "source": [
    "electric = os.path.join(os.path.dirname(os.getcwd()),'../Data/Raw_data/Electric_Anisotropy_&_Magnetic_Permeability_Data.xlsx')\n",
    "\n",
    "\n",
    "#cracked_specimens = pd.read_excel(electric, sheet_name = None)\n",
    "electric = pd.read_excel(electric,sheet_name=[3,4,5,6,7], header=None)\n",
    "\n",
    "\n"
   ]
  },
  {
   "cell_type": "code",
   "execution_count": null,
   "metadata": {},
   "outputs": [],
   "source": [
    "output = os.path.join(os.path.dirname(os.getcwd()),'../Data/Extracted_data/Electric_38.csv')"
   ]
  },
  {
   "cell_type": "markdown",
   "metadata": {},
   "source": [
    "# Average 3-8 Dataframe\n",
    "## ACPD"
   ]
  },
  {
   "cell_type": "code",
   "execution_count": null,
   "metadata": {},
   "outputs": [],
   "source": [
    "#Cracked Specimen\n",
    "cracked = electric[3].iloc[7:20, 0:5]\n",
    "cracked.set_index([0], inplace=True)\n",
    "cracked.reset_index(inplace=True, drop=True)\n",
    "cracked.columns=cracked.iloc[0]\n",
    "cracked.drop([0,1,2,3,4,11,12], inplace=True)\n",
    "\n",
    "\n"
   ]
  },
  {
   "cell_type": "code",
   "execution_count": null,
   "metadata": {},
   "outputs": [],
   "source": [
    "#replace the cracked position measurements with 0 due to being high reading\n",
    "cracked.iat[4,0] = 0\n",
    "cracked.iat[2,1]=0\n",
    "cracked.iat[2,2]=0\n"
   ]
  },
  {
   "cell_type": "code",
   "execution_count": null,
   "metadata": {},
   "outputs": [],
   "source": [
    "cracked.reset_index(inplace=True, drop=True)\n",
    "cracked=pd.DataFrame(cracked.mean())\n",
    "cracked.columns=[\"\"]\n",
    "cracked=cracked.reset_index()\n",
    "cracked.columns=[\"ID\",\"ACPD_Avg_38\"]"
   ]
  },
  {
   "cell_type": "code",
   "execution_count": null,
   "metadata": {},
   "outputs": [],
   "source": [
    "#ACPD anisotropy (4 Hz) sheet taking the average data for 3-8\n",
    "aniso_4=electric[4].iloc[6:16, 2:10]\n",
    "aniso_4.reset_index(inplace=True, drop=True)\n",
    "aniso_4.columns = aniso_4. iloc[0] \n",
    "aniso_4=aniso_4.drop([0, 1])\n",
    "\n",
    "#Getting ID columns for specimens\n",
    "specimens=aniso_4.iloc[:, :4]\n",
    "specimens.columns=['s1','s2','s3','s4'] # filling empty column names\n",
    "specimens=specimens.stack().reset_index()\n",
    "specimens.drop(['level_0', 'level_1'], axis=1, inplace=True)\n",
    "specimens.columns=['ID']\n",
    "\n",
    "\n",
    "avg_38=aniso_4.iloc[:, 4:]\n",
    "avg_38.columns=['a1','a2','a3','a4'] \n",
    "avg_38=avg_38.stack().reset_index()\n",
    "avg_38.drop(['level_0', 'level_1'], axis=1, inplace=True)\n",
    "avg_38.columns=['ACPD_Avg_38']\n",
    "\n",
    "#Final df with ID and avg_38\n",
    "aniso_ACPD_4=pd.concat([specimens, avg_38], axis=1, sort=False)\n",
    "aniso_df_4=aniso_ACPD_4.append(cracked)\n",
    "aniso_df_4.reset_index(drop=True, inplace=True)\n"
   ]
  },
  {
   "cell_type": "markdown",
   "metadata": {},
   "source": [
    "## AECC anisotropy (30 kHz)"
   ]
  },
  {
   "cell_type": "code",
   "execution_count": null,
   "metadata": {},
   "outputs": [],
   "source": [
    "aniso_30=electric[5].iloc[6:19, 2:10]\n",
    "aniso_30.reset_index(inplace=True, drop=True)\n",
    "aniso_30.columns = aniso_30. iloc[0] \n",
    "aniso_30=aniso_30.drop([0, 1])\n",
    "\n"
   ]
  },
  {
   "cell_type": "code",
   "execution_count": null,
   "metadata": {},
   "outputs": [],
   "source": [
    "#Avg 3-8 for AECC 30kHz\n",
    "aniso_30.drop([10, 11], axis=0, inplace=True)\n",
    "avg_38=aniso_30.iloc[:, 4:]\n",
    "avg_38.columns=['a1','a2','a3','a4'] \n",
    "avg_38=avg_38.stack().reset_index()\n",
    "avg_38.drop(['level_0', 'level_1'], axis=1, inplace=True)\n",
    "avg_38.columns=['ACEE_30_Avg_38']\n",
    "\n",
    "#Getting ID columns for specimens\n",
    "specimens=aniso_30.iloc[:, :4]\n",
    "specimens.columns=['s1','s2','s3','s4'] # filling empty column names\n",
    "specimens=specimens.stack().reset_index()\n",
    "specimens.drop(['level_0', 'level_1'], axis=1, inplace=True)\n",
    "specimens.columns=['ID']\n",
    "specimens\n",
    "\n",
    "#Final df with ID and avg_38 AECC\n",
    "aniso_df_30=pd.concat([specimens, avg_38], axis=1, sort=False)\n",
    "aniso_df_30.reset_index(drop=True, inplace=True)\n"
   ]
  },
  {
   "cell_type": "markdown",
   "metadata": {},
   "source": [
    "## AECC 500kHz"
   ]
  },
  {
   "cell_type": "code",
   "execution_count": null,
   "metadata": {},
   "outputs": [],
   "source": [
    "aniso_500=electric[6].iloc[6:19, 2:10]\n",
    "aniso_500.reset_index(inplace=True, drop=True)\n",
    "aniso_500.columns = aniso_500. iloc[0] \n",
    "aniso_500=aniso_500.drop([0, 1])\n",
    "\n",
    "#Avg 3-8 for AECC 500kHz\n",
    "aniso_500.drop([10, 11], axis=0, inplace=True)\n",
    "avg_38=aniso_500.iloc[:, 4:]\n",
    "avg_38.columns=['a1','a2','a3','a4'] \n",
    "avg_38=avg_38.stack().reset_index()\n",
    "avg_38.drop(['level_0', 'level_1'], axis=1, inplace=True)\n",
    "avg_38.columns=['ACEE_500_Avg_38']\n",
    "\n",
    "#Getting ID columns for specimens\n",
    "specimens=aniso_500.iloc[:, :4]\n",
    "specimens.columns=['s1','s2','s3','s4'] # filling empty column names\n",
    "specimens=specimens.stack().reset_index()\n",
    "specimens.drop(['level_0', 'level_1'], axis=1, inplace=True)\n",
    "specimens.columns=['ID']\n",
    "specimens\n",
    "\n",
    "#Final df with ID and avg_38 AECC \n",
    "aniso_df_500=pd.concat([specimens, avg_38], axis=1, sort=False)\n",
    "aniso_df_500.reset_index(drop=True, inplace=True)\n"
   ]
  },
  {
   "cell_type": "markdown",
   "metadata": {},
   "source": [
    "## EFC"
   ]
  },
  {
   "cell_type": "code",
   "execution_count": null,
   "metadata": {},
   "outputs": [],
   "source": [
    "EFC=electric[7].iloc[8:19, 2:10]\n",
    "EFC.reset_index(inplace=True, drop=True)\n",
    "EFC.columns = EFC. iloc[0]\n",
    "EFC.drop([0, 9], axis=0, inplace=True)\n",
    "\n"
   ]
  },
  {
   "cell_type": "code",
   "execution_count": null,
   "metadata": {},
   "outputs": [],
   "source": [
    "#Getting ID columns for specimens\n",
    "specimens=EFC.iloc[:, :4]\n",
    "specimens.columns=['s1','s2','s3','s4'] # filling empty column names\n",
    "specimens=specimens.stack().reset_index()\n",
    "specimens.drop(['level_0', 'level_1'], axis=1, inplace=True)\n",
    "specimens.columns=['ID']\n"
   ]
  },
  {
   "cell_type": "code",
   "execution_count": null,
   "metadata": {},
   "outputs": [],
   "source": [
    "#EFC\n",
    "EFC=EFC.iloc[:, 4:]\n",
    "EFC.columns=['a1','a2','a3','a4'] \n",
    "EFC=EFC.stack().reset_index()\n",
    "EFC.drop(['level_0', 'level_1'], axis=1, inplace=True)\n",
    "EFC.columns=['Avg_EFC']\n",
    "\n",
    "\n",
    "#Final df with ID and EFC\n",
    "EFC=pd.concat([specimens, EFC], axis=1, sort=False)\n",
    "EFC.reset_index(drop=True, inplace=True)\n"
   ]
  },
  {
   "cell_type": "markdown",
   "metadata": {},
   "source": [
    "## Relative Permeability"
   ]
  },
  {
   "cell_type": "code",
   "execution_count": null,
   "metadata": {},
   "outputs": [],
   "source": [
    "RP=electric[7].iloc[21:32, 2:10]\n",
    "RP.reset_index(inplace=True, drop=True)\n",
    "RP.columns = RP. iloc[0]\n",
    "RP.drop([0, 9], axis=0, inplace=True)\n",
    "\n"
   ]
  },
  {
   "cell_type": "code",
   "execution_count": null,
   "metadata": {},
   "outputs": [],
   "source": [
    "#Getting ID columns for specimens\n",
    "specimens=RP.iloc[:, :4]\n",
    "specimens.columns=['s1','s2','s3','s4'] # filling empty column names\n",
    "specimens=specimens.stack().reset_index()\n",
    "specimens.drop(['level_0', 'level_1'], axis=1, inplace=True)\n",
    "specimens.columns=['ID']\n"
   ]
  },
  {
   "cell_type": "code",
   "execution_count": null,
   "metadata": {},
   "outputs": [],
   "source": [
    "#RP RELATIVE PERMEABILITY\n",
    "RP=RP.iloc[:, 4:]\n",
    "RP.columns=['a1','a2','a3','a4'] \n",
    "RP=RP.stack().reset_index()\n",
    "RP.drop(['level_0', 'level_1'], axis=1, inplace=True)\n",
    "RP.columns=['Avg_RP']\n",
    "\n",
    "\n",
    "#Final df with ID and EFC\n",
    "RP=pd.concat([specimens, RP], axis=1, sort=False)\n",
    "RP.reset_index(drop=True, inplace=True)\n"
   ]
  },
  {
   "cell_type": "markdown",
   "metadata": {},
   "source": [
    "### Merging the tables. "
   ]
  },
  {
   "cell_type": "code",
   "execution_count": null,
   "metadata": {},
   "outputs": [],
   "source": [
    "df1=pd.merge(aniso_df_30, aniso_df_500,  on='ID', how='left').fillna(0)\n",
    "df1=pd.merge(df1, EFC, on='ID', how='left').fillna(0)\n",
    "df1=pd.merge(df1, RP, on='ID', how='left').fillna(0)\n"
   ]
  },
  {
   "cell_type": "code",
   "execution_count": null,
   "metadata": {},
   "outputs": [],
   "source": [
    "df1=pd.merge(df1, aniso_df_4, on='ID', left_index=True, right_index=True).fillna(0)\n"
   ]
  },
  {
   "cell_type": "code",
   "execution_count": null,
   "metadata": {},
   "outputs": [],
   "source": [
    "df1.to_csv(output)"
   ]
  },
  {
   "cell_type": "code",
   "execution_count": null,
   "metadata": {},
   "outputs": [],
   "source": []
  }
 ],
 "metadata": {
  "kernelspec": {
   "display_name": "Python 3",
   "language": "python",
   "name": "python3"
  },
  "language_info": {
   "codemirror_mode": {
    "name": "ipython",
    "version": 3
   },
   "file_extension": ".py",
   "mimetype": "text/x-python",
   "name": "python",
   "nbconvert_exporter": "python",
   "pygments_lexer": "ipython3",
   "version": "3.8.5"
  }
 },
 "nbformat": 4,
 "nbformat_minor": 4
}
