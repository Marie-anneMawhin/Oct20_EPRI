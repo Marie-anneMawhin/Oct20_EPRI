{
 "cells": [
  {
   "cell_type": "markdown",
   "metadata": {},
   "source": [
    "Plot dsitribution, correlation and linepplot by f value of MBN"
   ]
  },
  {
   "cell_type": "code",
   "execution_count": null,
   "metadata": {},
   "outputs": [],
   "source": [
    "import pandas as pd\n",
    "import numpy as np\n",
    "import matplotlib.pyplot as plt\n",
    "import seaborn as sns\n",
    "\n",
    "import os, glob"
   ]
  },
  {
   "cell_type": "code",
   "execution_count": null,
   "metadata": {},
   "outputs": [],
   "source": [
    "def plot_corr(data, figsize=(15,15)):\n",
    "    '''\n",
    "    Plot correlation \n",
    "    Args:\n",
    "    - data: pd dataframe\n",
    "    '''\n",
    "    corr = data.corr()\n",
    "    sns.set(font_scale=1.2)\n",
    "    mask = np.triu(np.ones_like(corr, dtype=bool))\n",
    "    with sns.axes_style(\"white\"):\n",
    "        f, ax = plt.subplots(figsize=figsize)\n",
    "        ax = sns.heatmap(corr, mask=mask, square=True, \n",
    "                         vmin= -1, vmax=1,\n",
    "                         cmap='RdBu_r', center=0, annot=True,\n",
    "                        annot_kws={'fontsize':8})"
   ]
  },
  {
   "cell_type": "code",
   "execution_count": null,
   "metadata": {},
   "outputs": [],
   "source": [
    "merged = pd.read_csv(os.path.join(os.path.dirname(os.getcwd()), '../Data/Merged_data/MERGE_on_sample.csv'), index_col=0)"
   ]
  },
  {
   "cell_type": "code",
   "execution_count": null,
   "metadata": {},
   "outputs": [],
   "source": [
    "MBN = merged[['NDE_cyle', 'failure_cycle', 'unfailed_cycle', 'f', 'peak_ratio',\n",
    "       'fwhm_ratio', 'diff_two_peaks_ratio', 'amp_ratio', 'pos_ratio',\n",
    "       'energy_ratio', ]]\n",
    "MBN.columns"
   ]
  },
  {
   "cell_type": "code",
   "execution_count": null,
   "metadata": {},
   "outputs": [],
   "source": [
    "plot_corr(MBN[['peak_ratio', 'fwhm_ratio', 'diff_two_peaks_ratio', \n",
    "     'amp_ratio','pos_ratio', 'energy_ratio']], figsize=(5,5))"
   ]
  },
  {
   "cell_type": "code",
   "execution_count": null,
   "metadata": {},
   "outputs": [],
   "source": [
    "MBN[['peak_ratio', 'fwhm_ratio', 'diff_two_peaks_ratio', \n",
    "     'amp_ratio','pos_ratio', 'energy_ratio']].boxplot(rot=45)"
   ]
  },
  {
   "cell_type": "code",
   "execution_count": null,
   "metadata": {},
   "outputs": [],
   "source": [
    "MBN_2 = MBN.copy()\n",
    "MBN_2.reset_index(inplace=True)\n",
    "MBN_2.columns"
   ]
  },
  {
   "cell_type": "code",
   "execution_count": null,
   "metadata": {},
   "outputs": [],
   "source": [
    "MBN_plot_2 = MBN_2[['ID','f', 'NDE_cyle', 'peak_ratio', 'fwhm_ratio', 'diff_two_peaks_ratio', \n",
    "     'amp_ratio','pos_ratio', 'energy_ratio']]\\\n",
    ".melt(id_vars=['ID', 'f', 'NDE_cyle'], value_name='MBN')"
   ]
  },
  {
   "cell_type": "code",
   "execution_count": null,
   "metadata": {},
   "outputs": [],
   "source": [
    "MBN_plot_2.dropna(how='any', inplace=True)"
   ]
  },
  {
   "cell_type": "code",
   "execution_count": null,
   "metadata": {},
   "outputs": [],
   "source": [
    "sns.set(rc={'figure.figsize':(8,5)}, style='white')\n",
    "\n",
    "g = sns.pointplot(y='MBN', x='variable', kind='point', hue='f', \n",
    "            data=MBN_plot_2, palette=sns.color_palette('PuBuGn', n_colors=8), dodge=True, legend_out=False,\n",
    "               )\n",
    "plt.xticks(rotation=45, ha='right')\n",
    "plt.xlabel('')\n",
    "plt.legend(bbox_to_anchor=(1.01, 1))\n",
    "sns.despine()"
   ]
  },
  {
   "cell_type": "code",
   "execution_count": null,
   "metadata": {},
   "outputs": [],
   "source": [
    "MBN_raw = pd.read_csv(os.path.join(os.path.dirname(os.getcwd()), '../Data/Extracted_data/MBN.csv'), index_col=0)"
   ]
  },
  {
   "cell_type": "code",
   "execution_count": null,
   "metadata": {},
   "outputs": [],
   "source": []
  }
 ],
 "metadata": {
  "kernelspec": {
   "display_name": "Python 3",
   "language": "python",
   "name": "python3"
  },
  "language_info": {
   "codemirror_mode": {
    "name": "ipython",
    "version": 3
   },
   "file_extension": ".py",
   "mimetype": "text/x-python",
   "name": "python",
   "nbconvert_exporter": "python",
   "pygments_lexer": "ipython3",
   "version": "3.8.5"
  }
 },
 "nbformat": 4,
 "nbformat_minor": 4
}
