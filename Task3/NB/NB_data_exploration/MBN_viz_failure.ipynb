{
 "cells": [
  {
   "cell_type": "markdown",
   "metadata": {},
   "source": [
    "Plot distrbution of MBN by f = NDE time /failure"
   ]
  },
  {
   "cell_type": "code",
   "execution_count": null,
   "metadata": {},
   "outputs": [],
   "source": [
    "import pandas as pd\n",
    "import numpy as np\n",
    "import matplotlib.pyplot as plt\n",
    "import seaborn as sns\n",
    "\n",
    "import os, glob"
   ]
  },
  {
   "cell_type": "code",
   "execution_count": null,
   "metadata": {},
   "outputs": [],
   "source": [
    "path = os.path.join(os.path.dirname(os.getcwd()), '../Data/Extracted_data/')\n",
    "os.chdir(path)"
   ]
  },
  {
   "cell_type": "code",
   "execution_count": null,
   "metadata": {},
   "outputs": [],
   "source": [
    "MBN = pd.read_csv('MBN.csv', index_col='Sample')\n",
    "MBN['peak_ratio'] = MBN['peak']/MBN['peak_ref']\n",
    "MBN['fwhm_ratio'] = MBN['fwhm']/MBN['fwhm_ref']\n",
    "MBN['diff_two_peaks_ratio'] = MBN['diff_two_peaks']/MBN['diff_two_peaks_ref']\n",
    "MBN['amp_ratio'] = MBN['amp']/MBN['amp_ref']\n",
    "MBN['pos_ratio'] = MBN['pos']/MBN['pos_ref']\n",
    "MBN['energy_ratio'] = MBN['energy']/MBN['energy_ref']\n"
   ]
  },
  {
   "cell_type": "code",
   "execution_count": null,
   "metadata": {},
   "outputs": [],
   "source": [
    "fatigue = pd.read_excel('FatigueSampleInventory.xlsx', \n",
    "                        index_col=' Specimen ID',\n",
    "                        usecols=[' Specimen ID', 'Cycles at NDE Test', 'Cycles at Failure', 'Current Unfailed Cycles']\n",
    "                       )\n",
    "fatigue.rename(columns={' Specimen ID':'ID', 'Cycles at NDE Test':'NDE_cyle', 'Cycles at Failure':'failure_cycle', 'Current Unfailed Cycles':'unfailed_cycle'}, inplace=True)\n",
    "fatigue['f'] = fatigue['NDE_cyle']/fatigue['failure_cycle']\n"
   ]
  },
  {
   "cell_type": "code",
   "execution_count": null,
   "metadata": {},
   "outputs": [],
   "source": [
    "sample_names = MBN.index.unique()\n",
    "sample_names"
   ]
  },
  {
   "cell_type": "code",
   "execution_count": null,
   "metadata": {},
   "outputs": [],
   "source": [
    "merged = fatigue.join([MBN], how='left')\n"
   ]
  },
  {
   "cell_type": "code",
   "execution_count": null,
   "metadata": {},
   "outputs": [],
   "source": [
    "merged.dropna(subset=['f'], inplace=True)\n"
   ]
  },
  {
   "cell_type": "code",
   "execution_count": null,
   "metadata": {},
   "outputs": [],
   "source": [
    "merged = merged.sort_values(by='f')\n"
   ]
  },
  {
   "cell_type": "code",
   "execution_count": null,
   "metadata": {
    "scrolled": true
   },
   "outputs": [],
   "source": [
    "merged['f'] = np.round(merged['f'], 3)"
   ]
  },
  {
   "cell_type": "code",
   "execution_count": null,
   "metadata": {},
   "outputs": [],
   "source": [
    "fig, axes = plt.subplots(1, 2, sharex=False, figsize=(16,8))\n",
    "sns.boxplot(x=merged.index, y=merged['peak'], orient='v', ax=axes[0], palette=sns.color_palette('husl', n_colors=8), hue=merged['f'], dodge=False)\n",
    "sns.boxplot(x=merged.index, y=merged['peak_ratio'], orient='v', ax=axes[1], palette=sns.color_palette('husl', n_colors=8), hue=merged['f'], dodge=False)\n",
    "sns.set(rc={'figure.figsize': (12,6)})\n"
   ]
  },
  {
   "cell_type": "code",
   "execution_count": null,
   "metadata": {},
   "outputs": [],
   "source": [
    "['peak_ratio'] = MBN['peak']/MBN['peak_ref']\n",
    "MBN['fwhm_ratio'] = MBN['fwhm']/MBN['fwhm_ref']\n",
    "MBN['diff_two_peaks_ratio'] = MBN['diff_two_peaks']/MBN['diff_two_peaks_ref']\n",
    "MBN['amp_ratio'] = MBN['amp']/MBN['amp_ref']\n",
    "MBN['pos_ratio'] = MBN['pos']/MBN['pos_ref']\n",
    "#MBN['energy_ratio'\n",
    "\n",
    "#fig, axes = plt.subplots(1, 2, sharex=False, figsize=(16,8))\n",
    "#def plot_val_vs_ratio(col):\n",
    "    "
   ]
  },
  {
   "cell_type": "code",
   "execution_count": null,
   "metadata": {},
   "outputs": [],
   "source": [
    "fig, axes = plt.subplots(1, 2, sharex=False, figsize=(16,8))\n",
    "sns.boxplot(x=merged.index, y=merged['energy'], orient='v', ax=axes[0], palette=sns.color_palette('husl', n_colors=8), hue=merged['f'], dodge=False)\n",
    "sns.boxplot(x=merged.index, y=merged['energy_ratio'], orient='v', ax=axes[1], palette=sns.color_palette('husl', n_colors=8), hue=merged['f'], dodge=False)\n",
    "sns.set(rc={'figure.figsize': (8,4.5)})"
   ]
  },
  {
   "cell_type": "code",
   "execution_count": null,
   "metadata": {},
   "outputs": [],
   "source": [
    "fig, axes = plt.subplots(1, 2, sharex=False, figsize=(16,8))\n",
    "sns.boxplot(x=merged.index, y=merged['fwhm'], orient='v', ax=axes[0], palette=sns.color_palette('husl', n_colors=8), hue=merged['f'], dodge=False)\n",
    "sns.boxplot(x=merged.index, y=merged['fwhm_ratio'], orient='v', ax=axes[1], palette=sns.color_palette('husl', n_colors=8), hue=merged['f'], dodge=False)\n",
    "sns.set(rc={'figure.figsize': (16,6)})"
   ]
  },
  {
   "cell_type": "code",
   "execution_count": null,
   "metadata": {},
   "outputs": [],
   "source": [
    "fig, axes = plt.subplots(1, 2, sharex=False, figsize=(16,8))\n",
    "sns.boxplot(x=merged.index, y=merged['diff_two_peaks'], orient='v', ax=axes[0], palette=sns.color_palette('husl', n_colors=8), hue=merged['f'], dodge=False)\n",
    "sns.boxplot(x=merged.index, y=merged['diff_two_peaks_ratio'], orient='v', ax=axes[1], palette=sns.color_palette('husl', n_colors=8), hue=merged['f'], dodge=False)\n",
    "sns.set(rc={'figure.figsize': (12,6)})"
   ]
  }
 ],
 "metadata": {
  "kernelspec": {
   "display_name": "Python 3",
   "language": "python",
   "name": "python3"
  },
  "language_info": {
   "codemirror_mode": {
    "name": "ipython",
    "version": 3
   },
   "file_extension": ".py",
   "mimetype": "text/x-python",
   "name": "python",
   "nbconvert_exporter": "python",
   "pygments_lexer": "ipython3",
   "version": "3.8.5"
  }
 },
 "nbformat": 4,
 "nbformat_minor": 4
}
