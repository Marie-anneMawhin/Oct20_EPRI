{
 "cells": [
  {
   "cell_type": "markdown",
   "metadata": {},
   "source": [
    "Plot correlation NLE and distribution\n",
    "\n",
    "Lineplot by frequency by f = NDE time /failure"
   ]
  },
  {
   "cell_type": "code",
   "execution_count": null,
   "metadata": {},
   "outputs": [],
   "source": [
    "import pandas as pd\n",
    "import numpy as np\n",
    "import matplotlib.pyplot as plt\n",
    "import seaborn as sns\n",
    "\n",
    "import os, glob"
   ]
  },
  {
   "cell_type": "code",
   "execution_count": null,
   "metadata": {},
   "outputs": [],
   "source": [
    "def plot_corr(data, figsize=(15,15)):\n",
    "    '''\n",
    "    Plot correlation \n",
    "    Args:\n",
    "    - data: pd dataframe\n",
    "    '''\n",
    "    corr = data.corr()\n",
    "    sns.set(font_scale=1.2)\n",
    "    mask = np.triu(np.ones_like(corr, dtype=bool))\n",
    "    with sns.axes_style(\"white\"):\n",
    "        f, ax = plt.subplots(figsize=figsize)\n",
    "        ax = sns.heatmap(corr, mask=mask, square=True, \n",
    "                         vmin= -1, vmax=1,\n",
    "                         cmap='RdBu_r', center=0, annot=True,\n",
    "                        annot_kws={'fontsize':8})"
   ]
  },
  {
   "cell_type": "code",
   "execution_count": null,
   "metadata": {},
   "outputs": [],
   "source": [
    "path = os.path.join(os.path.dirname(os.getcwd()), '../Data/Extracted_data/')\n",
    "os.chdir(path)"
   ]
  },
  {
   "cell_type": "code",
   "execution_count": null,
   "metadata": {},
   "outputs": [],
   "source": [
    "fatigue = pd.read_excel('FatigueSampleInventory.xlsx', \n",
    "                        index_col=' Specimen ID',\n",
    "                        usecols=[' Specimen ID', 'Cycles at NDE Test', 'Cycles at Failure', 'Current Unfailed Cycles']\n",
    "                       )\n",
    "fatigue['f'] = fatigue['Cycles at NDE Test']/fatigue['Cycles at Failure']\n",
    "\n",
    "NLE_raw = pd.read_csv('NLE.csv', index_col='Sample')"
   ]
  },
  {
   "cell_type": "code",
   "execution_count": null,
   "metadata": {},
   "outputs": [],
   "source": [
    "merged = NLE_raw.join([fatigue], how='left')\n",
    "NLE = merged.copy()\n",
    "NLE.reset_index(inplace=True)\n",
    "NLE.columns"
   ]
  },
  {
   "cell_type": "code",
   "execution_count": null,
   "metadata": {},
   "outputs": [],
   "source": [
    "plot_corr(NLE, figsize=(5,5))"
   ]
  },
  {
   "cell_type": "code",
   "execution_count": null,
   "metadata": {},
   "outputs": [],
   "source": [
    "NLE_plot = NLE[['index', 'freq', 'Cycles at NDE Test', 'S10', 'S11', 'S12']].melt(id_vars=['index', 'freq', 'Cycles at NDE Test'], value_name='NLE')"
   ]
  },
  {
   "cell_type": "code",
   "execution_count": null,
   "metadata": {},
   "outputs": [],
   "source": [
    "NLE['NLE_avg'] = NLE[['S10', 'S11', 'S12']].mean(axis=1)\n",
    "pd.pivot_table(NLE, index='index' ,columns='freq', values='NLE_avg').boxplot()"
   ]
  },
  {
   "cell_type": "code",
   "execution_count": null,
   "metadata": {},
   "outputs": [],
   "source": [
    "sns.catplot(y='NLE', x='freq', kind='point', hue='variable', aspect = 1,\n",
    "            data=NLE_plot,\n",
    "           sharex=False, sharey=False)"
   ]
  },
  {
   "cell_type": "code",
   "execution_count": null,
   "metadata": {},
   "outputs": [],
   "source": [
    "NLE_ratio = pd.pivot_table(NLE, index=['index', 'f'],columns='freq', values=['S10' ,'S11' ,'S12'])"
   ]
  },
  {
   "cell_type": "code",
   "execution_count": null,
   "metadata": {},
   "outputs": [],
   "source": [
    "for replicate in ['S10', 'S11', 'S12'] : \n",
    "    for freq in [51,  85, 119]:\n",
    "        NLE_ratio[(replicate+'_ratio_17',  freq)] = NLE_ratio[(replicate,  freq)]/NLE_ratio[(replicate,  17)]"
   ]
  },
  {
   "cell_type": "code",
   "execution_count": null,
   "metadata": {},
   "outputs": [],
   "source": [
    "for replicate in ['S10', 'S11', 'S12'] : \n",
    "    for freq in [17, 51,  85]:\n",
    "        NLE_ratio[(replicate+'_ratio_119',  freq)] = NLE_ratio[(replicate,  freq)]/NLE_ratio[(replicate,  119)]"
   ]
  },
  {
   "cell_type": "code",
   "execution_count": null,
   "metadata": {},
   "outputs": [],
   "source": [
    "NLE_ratio = NLE_ratio.stack().reset_index()"
   ]
  },
  {
   "cell_type": "code",
   "execution_count": null,
   "metadata": {},
   "outputs": [],
   "source": [
    "NLE_ratio.columns"
   ]
  },
  {
   "cell_type": "code",
   "execution_count": null,
   "metadata": {},
   "outputs": [],
   "source": [
    "NLE_plot_2 = NLE_ratio.melt(id_vars=['index', 'freq', 'f'], value_name='NLE')\n",
    "NLE_plot_2.dropna(how='any', inplace=True)\n",
    "NLE_plot_2.sort_values('f', inplace=True)\n",
    "NLE_plot_2['f'] = NLE_plot_2['f'].round(4)"
   ]
  },
  {
   "cell_type": "code",
   "execution_count": null,
   "metadata": {},
   "outputs": [],
   "source": [
    "NLE_plot_2_avg = NLE_plot_2[NLE_plot_2['variable'].isin(['S10', 'S11', 'S12'])]\n",
    "NLE_plot_2_ratio_17 = NLE_plot_2[NLE_plot_2['variable'].isin(['S10_ratio_17', 'S11_ratio_17','S12_ratio_17'])]\n",
    "NLE_plot_2_ratio_119 = NLE_plot_2[NLE_plot_2['variable'].isin(['S10_ratio_119', 'S11_ratio_119','S12_ratio_119'])]"
   ]
  },
  {
   "cell_type": "code",
   "execution_count": null,
   "metadata": {},
   "outputs": [],
   "source": [
    "sns.set(style='whitegrid')\n",
    "g = sns.catplot(y='NLE', x='index', kind='box', hue='f', col='freq', sharey=False,\n",
    "            data=NLE_plot_2_avg, col_wrap=2, palette=sns.color_palette('Set2', n_colors=8),dodge=False\n",
    "            )\n",
    "g.fig.suptitle('RATIO', fontsize=16)"
   ]
  },
  {
   "cell_type": "code",
   "execution_count": null,
   "metadata": {},
   "outputs": [],
   "source": [
    "sns.set(style='whitegrid')\n",
    "g = sns.catplot(y='NLE', x='index', kind='box', hue='f', col='freq', sharey=False,\n",
    "            data=NLE_plot_2_ratio_17, col_wrap=2, palette=sns.color_palette('Set2', n_colors=8),dodge=False\n",
    "            )\n",
    "g.fig.suptitle('RATIO', fontsize=16)"
   ]
  },
  {
   "cell_type": "code",
   "execution_count": null,
   "metadata": {},
   "outputs": [],
   "source": [
    "sns.set(style='whitegrid')\n",
    "g = sns.catplot(y='NLE', x='index', kind='box', hue='f', col='freq', sharey=False,\n",
    "            data=NLE_plot_2_ratio_119, col_wrap=2, palette=sns.color_palette('Set2', n_colors=8),dodge=False\n",
    "            )\n",
    "g.fig.suptitle('RATIO', fontsize=16)"
   ]
  },
  {
   "cell_type": "code",
   "execution_count": null,
   "metadata": {},
   "outputs": [],
   "source": [
    "g = sns.catplot(y='NLE', x='freq', kind='point', hue='f', aspect=1.5,\n",
    "            data=NLE_plot_2_avg, palette=sns.color_palette('PuBuGn', n_colors=8), dodge=True,\n",
    "               )"
   ]
  },
  {
   "cell_type": "code",
   "execution_count": null,
   "metadata": {},
   "outputs": [],
   "source": [
    "g = sns.catplot(y='NLE', x='freq', kind='point', hue='f', aspect=1.5,\n",
    "            data=NLE_plot_2_ratio_119, palette=sns.color_palette('PuBuGn', n_colors=8), dodge=True,\n",
    "               )"
   ]
  },
  {
   "cell_type": "code",
   "execution_count": null,
   "metadata": {},
   "outputs": [],
   "source": [
    "g = sns.catplot(y='NLE', x='freq', kind='point', hue='f', aspect=1.5,\n",
    "            data=NLE_plot_2_ratio_17, palette=sns.color_palette('PuBuGn', n_colors=8), dodge=True,\n",
    "               )"
   ]
  },
  {
   "cell_type": "code",
   "execution_count": null,
   "metadata": {},
   "outputs": [],
   "source": []
  }
 ],
 "metadata": {
  "kernelspec": {
   "display_name": "Python 3",
   "language": "python",
   "name": "python3"
  },
  "language_info": {
   "codemirror_mode": {
    "name": "ipython",
    "version": 3
   },
   "file_extension": ".py",
   "mimetype": "text/x-python",
   "name": "python",
   "nbconvert_exporter": "python",
   "pygments_lexer": "ipython3",
   "version": "3.8.5"
  }
 },
 "nbformat": 4,
 "nbformat_minor": 4
}
