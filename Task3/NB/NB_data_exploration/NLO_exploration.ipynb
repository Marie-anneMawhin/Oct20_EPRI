{
 "cells": [
  {
   "cell_type": "markdown",
   "metadata": {},
   "source": [
    "Plot distribution of NLO and compare to failure"
   ]
  },
  {
   "cell_type": "code",
   "execution_count": null,
   "metadata": {},
   "outputs": [],
   "source": [
    "import pandas as pd\n",
    "import numpy as np\n",
    "import matplotlib.pyplot as plt\n",
    "import seaborn as sns\n",
    "import os, glob, inspect, sys\n",
    "\n",
    "currentdir = os.path.dirname(os.path.abspath(inspect.getfile(inspect.currentframe())))\n",
    "parentdir = os.path.dirname(currentdir)\n",
    "sys.path.insert(0,parentdir) \n"
   ]
  },
  {
   "cell_type": "code",
   "execution_count": null,
   "metadata": {},
   "outputs": [],
   "source": [
    "def plot_barplot(labels,heights,error,title_text):\n",
    "    fig, ax = plt.subplots()\n",
    "    ax.bar(labels,heights,yerr=error, align='center', alpha=0.5, ecolor='black', capsize=10, color=\"gray\")\n",
    "    ax.set_title(title_text)\n",
    "    ax.set_ylabel('NLO')\n",
    "    plt.xticks(rotation=45)\n",
    "    plt.show()"
   ]
  },
  {
   "cell_type": "markdown",
   "metadata": {},
   "source": [
    "### Data exploration for NLO"
   ]
  },
  {
   "cell_type": "code",
   "execution_count": null,
   "metadata": {},
   "outputs": [],
   "source": [
    "df = pd.read_csv(os.path.join(os.path.dirname(os.getcwd()), '../Data/Extracted_data/NLO_result.csv'),\n",
    "                    index_col=0)\n"
   ]
  },
  {
   "cell_type": "code",
   "execution_count": null,
   "metadata": {},
   "outputs": [],
   "source": [
    "mean_df = df.groupby('Sample').mean()\n",
    "mean_df['ID'] = mean_df.index\n",
    "mean_df.reset_index(inplace=True)\n",
    "mean_df.sort_values(by=['Stress'], inplace=True) \n",
    "mean_df['Stress'] = mean_df['Stress'].astype(str)\n"
   ]
  },
  {
   "cell_type": "markdown",
   "metadata": {},
   "source": [
    "Plot the NLO average for each sample colored by number of cycles. With stdev"
   ]
  },
  {
   "cell_type": "code",
   "execution_count": null,
   "metadata": {},
   "outputs": [],
   "source": [
    "color_dict = { '0':'darkblue', '150':'mediumblue', '300':'mediumslateblue', '319':'mediumslateblue', \n",
    "    '349':'lightsteelblue', '450':'lightskyblue', '600':'peachpuff', '750':'salmon',\n",
    "    '785':'orangered', '900':'red','1074':'firebrick', '2000':\"darkred\" }\n",
    "\n",
    "\n",
    "fig, ax = plt.subplots(figsize=(10, 10))\n",
    "ax.bar(mean_df.index.astype(str),mean_df['Average'],yerr=mean_df['St Dev'], \n",
    "       align='center', alpha=0.5, ecolor='black', capsize=10, color=[color_dict[r] for r in mean_df['Stress']])\n",
    "ax.set_xticklabels(mean_df['Stress'])\n",
    "ax.set_title(\"\")\n",
    "ax.set_ylabel('NLO signal')\n",
    "plt.xticks(rotation=45)\n",
    "plt.show()"
   ]
  },
  {
   "cell_type": "markdown",
   "metadata": {},
   "source": [
    "Plot using the uncertainty instead of standard deviation. "
   ]
  },
  {
   "cell_type": "code",
   "execution_count": null,
   "metadata": {},
   "outputs": [],
   "source": [
    "\n",
    "fig, ax = plt.subplots(figsize=(10, 10))\n",
    "ax.bar(mean_df.index.astype(str),mean_df['Average'],yerr=mean_df['Confidence'], \n",
    "       align='center', alpha=0.5, ecolor='black', capsize=10, color=[color_dict[r] for r in mean_df['Stress']])\n",
    "ax.set_xticklabels(mean_df['Stress'])\n",
    "ax.set_title(\"\")\n",
    "ax.set_ylabel('NLO signal')\n",
    "plt.xticks(rotation=45)\n",
    "plt.show()"
   ]
  },
  {
   "cell_type": "markdown",
   "metadata": {},
   "source": [
    "### Compare to failure\n",
    "Load data with time to failure computed and compare."
   ]
  },
  {
   "cell_type": "code",
   "execution_count": null,
   "metadata": {},
   "outputs": [],
   "source": [
    "df = pd.read_csv(os.path.join(os.path.dirname(os.getcwd()), '../Data/Merged_data/Survival_df.csv'),\n",
    "                    index_col=0)\n"
   ]
  },
  {
   "cell_type": "code",
   "execution_count": null,
   "metadata": {},
   "outputs": [],
   "source": [
    "colordict={True:'red', False:'blue'}\n",
    "plt.scatter(y=df.NLO_avg,x=df.F_Time, c=[colordict[c] for c in df.Observed])\n",
    "plt.xlabel('Time to failure')\n",
    "plt.ylabel('NLO average')\n"
   ]
  },
  {
   "cell_type": "code",
   "execution_count": null,
   "metadata": {},
   "outputs": [],
   "source": [
    "colordict={True:'red', False:'blue'}\n",
    "plt.scatter(y=df.NLO_avg,x=df.NDE_cycle, c=[colordict[c] for c in df.Observed])\n",
    "plt.xlabel('NDE cycle')\n",
    "plt.ylabel('NLO average')\n"
   ]
  },
  {
   "cell_type": "code",
   "execution_count": null,
   "metadata": {},
   "outputs": [],
   "source": []
  }
 ],
 "metadata": {
  "kernelspec": {
   "display_name": "Python 3",
   "language": "python",
   "name": "python3"
  },
  "language_info": {
   "codemirror_mode": {
    "name": "ipython",
    "version": 3
   },
   "file_extension": ".py",
   "mimetype": "text/x-python",
   "name": "python",
   "nbconvert_exporter": "python",
   "pygments_lexer": "ipython3",
   "version": "3.8.5"
  }
 },
 "nbformat": 4,
 "nbformat_minor": 4
}
