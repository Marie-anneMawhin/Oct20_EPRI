{
 "cells": [
  {
   "cell_type": "code",
   "execution_count": 1,
   "metadata": {},
   "outputs": [],
   "source": [
    "import pandas as pd\n",
    "import numpy as np\n",
    "import matplotlib.pyplot as plt\n",
    "import seaborn as sns\n",
    "import os, glob, inspect, sys\n",
    "\n",
    "currentdir = os.path.dirname(os.path.abspath(inspect.getfile(inspect.currentframe())))\n",
    "parentdir = os.path.dirname(currentdir)\n",
    "sys.path.insert(0,parentdir) \n"
   ]
  },
  {
   "cell_type": "code",
   "execution_count": 7,
   "metadata": {},
   "outputs": [],
   "source": [
    "def plot_barplot(labels,heights,error,title_text):\n",
    "    fig, ax = plt.subplots()\n",
    "    ax.bar(labels,heights,yerr=error, align='center', alpha=0.5, ecolor='black', capsize=10, color=\"gray\")\n",
    "    ax.set_title(title_text)\n",
    "    ax.set_ylabel('NLO')\n",
    "    plt.xticks(rotation=45)\n",
    "    plt.show()"
   ]
  },
  {
   "cell_type": "code",
   "execution_count": 8,
   "metadata": {},
   "outputs": [],
   "source": [
    "df = pd.read_csv(os.path.join(os.path.dirname(os.getcwd()), '../Data/Extracted_data/NLO_result.csv'),\n",
    "                    index_col=0)\n"
   ]
  },
  {
   "cell_type": "code",
   "execution_count": 33,
   "metadata": {},
   "outputs": [
    {
     "data": {
      "text/html": [
       "<div>\n",
       "<style scoped>\n",
       "    .dataframe tbody tr th:only-of-type {\n",
       "        vertical-align: middle;\n",
       "    }\n",
       "\n",
       "    .dataframe tbody tr th {\n",
       "        vertical-align: top;\n",
       "    }\n",
       "\n",
       "    .dataframe thead th {\n",
       "        text-align: right;\n",
       "    }\n",
       "</style>\n",
       "<table border=\"1\" class=\"dataframe\">\n",
       "  <thead>\n",
       "    <tr style=\"text-align: right;\">\n",
       "      <th></th>\n",
       "      <th>Sample</th>\n",
       "      <th>Stress</th>\n",
       "      <th>Average</th>\n",
       "      <th>St Dev</th>\n",
       "      <th>Confidence</th>\n",
       "      <th>ID</th>\n",
       "    </tr>\n",
       "  </thead>\n",
       "  <tbody>\n",
       "    <tr>\n",
       "      <th>27</th>\n",
       "      <td>45C</td>\n",
       "      <td>0</td>\n",
       "      <td>3.458337</td>\n",
       "      <td>22.356342</td>\n",
       "      <td>3.889555</td>\n",
       "      <td>45C</td>\n",
       "    </tr>\n",
       "    <tr>\n",
       "      <th>26</th>\n",
       "      <td>44C</td>\n",
       "      <td>0</td>\n",
       "      <td>4.619563</td>\n",
       "      <td>9.309025</td>\n",
       "      <td>1.243949</td>\n",
       "      <td>44C</td>\n",
       "    </tr>\n",
       "    <tr>\n",
       "      <th>25</th>\n",
       "      <td>43C</td>\n",
       "      <td>0</td>\n",
       "      <td>3.422903</td>\n",
       "      <td>22.408124</td>\n",
       "      <td>4.104615</td>\n",
       "      <td>43C</td>\n",
       "    </tr>\n",
       "    <tr>\n",
       "      <th>23</th>\n",
       "      <td>41C</td>\n",
       "      <td>0</td>\n",
       "      <td>5.576476</td>\n",
       "      <td>28.544945</td>\n",
       "      <td>5.269671</td>\n",
       "      <td>41C</td>\n",
       "    </tr>\n",
       "    <tr>\n",
       "      <th>1</th>\n",
       "      <td>13C</td>\n",
       "      <td>150</td>\n",
       "      <td>9.687991</td>\n",
       "      <td>27.012359</td>\n",
       "      <td>3.285427</td>\n",
       "      <td>13C</td>\n",
       "    </tr>\n",
       "  </tbody>\n",
       "</table>\n",
       "</div>"
      ],
      "text/plain": [
       "   Sample Stress   Average     St Dev  Confidence   ID\n",
       "27    45C      0  3.458337  22.356342    3.889555  45C\n",
       "26    44C      0  4.619563   9.309025    1.243949  44C\n",
       "25    43C      0  3.422903  22.408124    4.104615  43C\n",
       "23    41C      0  5.576476  28.544945    5.269671  41C\n",
       "1     13C    150  9.687991  27.012359    3.285427  13C"
      ]
     },
     "execution_count": 33,
     "metadata": {},
     "output_type": "execute_result"
    }
   ],
   "source": [
    "mean_df = df.groupby('Sample').mean()\n",
    "mean_df['ID'] = mean_df.index\n",
    "mean_df.reset_index(inplace=True)\n",
    "mean_df.sort_values(by=['Stress'], inplace=True) \n",
    "mean_df['Stress'] = mean_df['Stress'].astype(str)\n",
    "mean_df.head()"
   ]
  },
  {
   "cell_type": "code",
   "execution_count": 55,
   "metadata": {
    "scrolled": false
   },
   "outputs": [
    {
     "data": {
      "image/png": "[encoded data removed]",
      "text/plain": [
       "<Figure size 720x720 with 1 Axes>"
      ]
     },
     "metadata": {
      "needs_background": "light"
     },
     "output_type": "display_data"
    }
   ],
   "source": [
    "color_dict = { '0':'darkblue', '150':'mediumblue', '300':'mediumslateblue', '319':'mediumslateblue', \n",
    "    '349':'lightsteelblue', '450':'lightskyblue', '600':'peachpuff', '750':'salmon',\n",
    "    '785':'orangered', '900':'red','1074':'firebrick', '2000':\"darkred\" }\n",
    "\n",
    "\n",
    "fig, ax = plt.subplots(figsize=(10, 10))\n",
    "ax.bar(mean_df.index.astype(str),mean_df['Average'],yerr=mean_df['St Dev'], \n",
    "       align='center', alpha=0.5, ecolor='black', capsize=10, color=[color_dict[r] for r in mean_df['Stress']])\n",
    "ax.set_xticklabels(mean_df['Stress'])\n",
    "ax.set_title(\"\")\n",
    "ax.set_ylabel('NLO signal')\n",
    "plt.xticks(rotation=45)\n",
    "plt.show()"
   ]
  },
  {
   "cell_type": "code",
   "execution_count": 56,
   "metadata": {},
   "outputs": [
    {
     "data": {
      "image/png": "[encoded data removed]",
      "text/plain": [
       "<Figure size 720x720 with 1 Axes>"
      ]
     },
     "metadata": {
      "needs_background": "light"
     },
     "output_type": "display_data"
    }
   ],
   "source": [
    "\n",
    "fig, ax = plt.subplots(figsize=(10, 10))\n",
    "ax.bar(mean_df.index.astype(str),mean_df['Average'],yerr=mean_df['Confidence'], \n",
    "       align='center', alpha=0.5, ecolor='black', capsize=10, color=[color_dict[r] for r in mean_df['Stress']])\n",
    "ax.set_xticklabels(mean_df['Stress'])\n",
    "ax.set_title(\"\")\n",
    "ax.set_ylabel('NLO signal')\n",
    "plt.xticks(rotation=45)\n",
    "plt.show()"
   ]
  },
  {
   "cell_type": "code",
   "execution_count": null,
   "metadata": {},
   "outputs": [],
   "source": []
  }
 ],
 "metadata": {
  "kernelspec": {
   "display_name": "Python 3",
   "language": "python",
   "name": "python3"
  },
  "language_info": {
   "codemirror_mode": {
    "name": "ipython",
    "version": 3
   },
   "file_extension": ".py",
   "mimetype": "text/x-python",
   "name": "python",
   "nbconvert_exporter": "python",
   "pygments_lexer": "ipython3",
   "version": "3.7.6"
  }
 },
 "nbformat": 4,
 "nbformat_minor": 4
}
