{
 "cells": [
  {
   "cell_type": "code",
   "execution_count": 44,
   "metadata": {},
   "outputs": [
    {
     "data": {
      "text/plain": [
       "<module 'epri_mc_lib' from '/Users/apple/Desktop/s2ds/work_project/Oct20_EPRI/Task1/NB/epri_mc_lib.py'>"
      ]
     },
     "execution_count": 44,
     "metadata": {},
     "output_type": "execute_result"
    }
   ],
   "source": [
    "import pandas as pd\n",
    "import numpy as np\n",
    "import matplotlib.pyplot as plt\n",
    "import seaborn as sns\n",
    "\n",
    "from sklearn.preprocessing import MinMaxScaler, StandardScaler\n",
    "from sklearn.cluster import KMeans\n",
    "from sklearn import metrics\n",
    "\n",
    "import os, glob, inspect, sys\n",
    "\n",
    "\n",
    "currentdir = os.path.dirname(os.path.abspath(inspect.getfile(inspect.currentframe())))\n",
    "parentdir = os.path.dirname(currentdir)\n",
    "sys.path.insert(0,parentdir) \n",
    "import epri_mc_lib as mc\n",
    "from importlib import reload\n",
    "reload(mc)"
   ]
  },
  {
   "cell_type": "markdown",
   "metadata": {},
   "source": [
    "### Import Data"
   ]
  },
  {
   "cell_type": "code",
   "execution_count": 45,
   "metadata": {
    "scrolled": true
   },
   "outputs": [
    {
     "data": {
      "text/html": [
       "<div>\n",
       "<style scoped>\n",
       "    .dataframe tbody tr th:only-of-type {\n",
       "        vertical-align: middle;\n",
       "    }\n",
       "\n",
       "    .dataframe tbody tr th {\n",
       "        vertical-align: top;\n",
       "    }\n",
       "\n",
       "    .dataframe thead th {\n",
       "        text-align: right;\n",
       "    }\n",
       "</style>\n",
       "<table border=\"1\" class=\"dataframe\">\n",
       "  <thead>\n",
       "    <tr style=\"text-align: right;\">\n",
       "      <th></th>\n",
       "      <th>TEP_mean_uV_C</th>\n",
       "      <th>Absorption_avg_500</th>\n",
       "      <th>backscatter_avg</th>\n",
       "      <th>Absorption_avg_50</th>\n",
       "      <th>A</th>\n",
       "      <th>B</th>\n",
       "      <th>p</th>\n",
       "      <th>Absorption_avg_100</th>\n",
       "      <th>Absorption_avg_200</th>\n",
       "      <th>mean_CF</th>\n",
       "      <th>mean_perm</th>\n",
       "      <th>mean_MBN</th>\n",
       "    </tr>\n",
       "    <tr>\n",
       "      <th>Condition</th>\n",
       "      <th></th>\n",
       "      <th></th>\n",
       "      <th></th>\n",
       "      <th></th>\n",
       "      <th></th>\n",
       "      <th></th>\n",
       "      <th></th>\n",
       "      <th></th>\n",
       "      <th></th>\n",
       "      <th></th>\n",
       "      <th></th>\n",
       "      <th></th>\n",
       "    </tr>\n",
       "  </thead>\n",
       "  <tbody>\n",
       "    <tr>\n",
       "      <th>T_B1</th>\n",
       "      <td>12.887224</td>\n",
       "      <td>0.000252</td>\n",
       "      <td>0.020317</td>\n",
       "      <td>0.001931</td>\n",
       "      <td>1.202073e-07</td>\n",
       "      <td>0.001092</td>\n",
       "      <td>0.221759</td>\n",
       "      <td>0.000886</td>\n",
       "      <td>0.000301</td>\n",
       "      <td>1.087656</td>\n",
       "      <td>68.832934</td>\n",
       "      <td>0.453917</td>\n",
       "    </tr>\n",
       "    <tr>\n",
       "      <th>T_B1</th>\n",
       "      <td>12.904167</td>\n",
       "      <td>0.000194</td>\n",
       "      <td>0.011580</td>\n",
       "      <td>0.001121</td>\n",
       "      <td>2.614525e-08</td>\n",
       "      <td>0.000801</td>\n",
       "      <td>0.214616</td>\n",
       "      <td>0.000605</td>\n",
       "      <td>0.000316</td>\n",
       "      <td>1.094037</td>\n",
       "      <td>67.753088</td>\n",
       "      <td>0.435966</td>\n",
       "    </tr>\n",
       "    <tr>\n",
       "      <th>T_B1</th>\n",
       "      <td>12.848012</td>\n",
       "      <td>0.000247</td>\n",
       "      <td>0.027738</td>\n",
       "      <td>0.001309</td>\n",
       "      <td>-3.440295e-07</td>\n",
       "      <td>0.000691</td>\n",
       "      <td>0.173157</td>\n",
       "      <td>0.000556</td>\n",
       "      <td>0.000428</td>\n",
       "      <td>1.098203</td>\n",
       "      <td>67.872952</td>\n",
       "      <td>0.539143</td>\n",
       "    </tr>\n",
       "    <tr>\n",
       "      <th>T_B1</th>\n",
       "      <td>12.968064</td>\n",
       "      <td>0.000210</td>\n",
       "      <td>0.019859</td>\n",
       "      <td>0.001921</td>\n",
       "      <td>-5.656336e-07</td>\n",
       "      <td>0.000864</td>\n",
       "      <td>0.213791</td>\n",
       "      <td>0.000746</td>\n",
       "      <td>0.000602</td>\n",
       "      <td>1.117724</td>\n",
       "      <td>65.970169</td>\n",
       "      <td>0.301158</td>\n",
       "    </tr>\n",
       "    <tr>\n",
       "      <th>T_B1</th>\n",
       "      <td>12.927068</td>\n",
       "      <td>0.000233</td>\n",
       "      <td>0.013641</td>\n",
       "      <td>0.001425</td>\n",
       "      <td>4.191747e-07</td>\n",
       "      <td>0.000408</td>\n",
       "      <td>0.192750</td>\n",
       "      <td>0.000777</td>\n",
       "      <td>0.000419</td>\n",
       "      <td>1.095836</td>\n",
       "      <td>68.614324</td>\n",
       "      <td>0.472276</td>\n",
       "    </tr>\n",
       "  </tbody>\n",
       "</table>\n",
       "</div>"
      ],
      "text/plain": [
       "           TEP_mean_uV_C  Absorption_avg_500  backscatter_avg  \\\n",
       "Condition                                                       \n",
       "T_B1           12.887224            0.000252         0.020317   \n",
       "T_B1           12.904167            0.000194         0.011580   \n",
       "T_B1           12.848012            0.000247         0.027738   \n",
       "T_B1           12.968064            0.000210         0.019859   \n",
       "T_B1           12.927068            0.000233         0.013641   \n",
       "\n",
       "           Absorption_avg_50             A         B         p  \\\n",
       "Condition                                                        \n",
       "T_B1                0.001931  1.202073e-07  0.001092  0.221759   \n",
       "T_B1                0.001121  2.614525e-08  0.000801  0.214616   \n",
       "T_B1                0.001309 -3.440295e-07  0.000691  0.173157   \n",
       "T_B1                0.001921 -5.656336e-07  0.000864  0.213791   \n",
       "T_B1                0.001425  4.191747e-07  0.000408  0.192750   \n",
       "\n",
       "           Absorption_avg_100  Absorption_avg_200   mean_CF  mean_perm  \\\n",
       "Condition                                                                \n",
       "T_B1                 0.000886            0.000301  1.087656  68.832934   \n",
       "T_B1                 0.000605            0.000316  1.094037  67.753088   \n",
       "T_B1                 0.000556            0.000428  1.098203  67.872952   \n",
       "T_B1                 0.000746            0.000602  1.117724  65.970169   \n",
       "T_B1                 0.000777            0.000419  1.095836  68.614324   \n",
       "\n",
       "           mean_MBN  \n",
       "Condition            \n",
       "T_B1       0.453917  \n",
       "T_B1       0.435966  \n",
       "T_B1       0.539143  \n",
       "T_B1       0.301158  \n",
       "T_B1       0.472276  "
      ]
     },
     "execution_count": 45,
     "metadata": {},
     "output_type": "execute_result"
    }
   ],
   "source": [
    "data_path = \"../../Data/Merged_data\"\n",
    "df = pd.read_csv(os.path.join(data_path, 'ALL_TUBE_PIPE_simulated.csv'), \n",
    "                 index_col=0)\n",
    "df.head()"
   ]
  },
  {
   "cell_type": "markdown",
   "metadata": {},
   "source": [
    "### Calculating new values"
   ]
  },
  {
   "cell_type": "code",
   "execution_count": 46,
   "metadata": {},
   "outputs": [],
   "source": [
    "df['AUC_avg'] = mc.findAUC(df, A=df['A'], B=df['B'], p=df['p'], name='AUC_avg')\n",
    "df.drop(columns=[\"A\",\"B\",\"p\"],inplace=True)"
   ]
  },
  {
   "cell_type": "code",
   "execution_count": 47,
   "metadata": {},
   "outputs": [],
   "source": [
    "df['CF_perm'] = df['mean_CF']/df['mean_perm'].astype('float64')\n",
    "df.drop(columns=[\"mean_MBN\",\"mean_perm\",\"mean_CF\"],inplace=True)"
   ]
  },
  {
   "cell_type": "markdown",
   "metadata": {},
   "source": [
    "### Scaling Values"
   ]
  },
  {
   "cell_type": "code",
   "execution_count": 48,
   "metadata": {},
   "outputs": [
    {
     "data": {
      "text/html": [
       "<div>\n",
       "<style scoped>\n",
       "    .dataframe tbody tr th:only-of-type {\n",
       "        vertical-align: middle;\n",
       "    }\n",
       "\n",
       "    .dataframe tbody tr th {\n",
       "        vertical-align: top;\n",
       "    }\n",
       "\n",
       "    .dataframe thead th {\n",
       "        text-align: right;\n",
       "    }\n",
       "</style>\n",
       "<table border=\"1\" class=\"dataframe\">\n",
       "  <thead>\n",
       "    <tr style=\"text-align: right;\">\n",
       "      <th></th>\n",
       "      <th>TEP_mean_uV_C</th>\n",
       "      <th>Absorption_avg_500</th>\n",
       "      <th>backscatter_avg</th>\n",
       "      <th>Absorption_avg_50</th>\n",
       "      <th>Absorption_avg_100</th>\n",
       "      <th>Absorption_avg_200</th>\n",
       "      <th>AUC_avg</th>\n",
       "      <th>CF_perm</th>\n",
       "    </tr>\n",
       "    <tr>\n",
       "      <th>Condition</th>\n",
       "      <th></th>\n",
       "      <th></th>\n",
       "      <th></th>\n",
       "      <th></th>\n",
       "      <th></th>\n",
       "      <th></th>\n",
       "      <th></th>\n",
       "      <th></th>\n",
       "    </tr>\n",
       "  </thead>\n",
       "  <tbody>\n",
       "    <tr>\n",
       "      <th>T_B1</th>\n",
       "      <td>0.867389</td>\n",
       "      <td>0.240323</td>\n",
       "      <td>0.398567</td>\n",
       "      <td>0.371884</td>\n",
       "      <td>0.448386</td>\n",
       "      <td>0.182419</td>\n",
       "      <td>0.299520</td>\n",
       "      <td>0.076871</td>\n",
       "    </tr>\n",
       "    <tr>\n",
       "      <th>T_B1</th>\n",
       "      <td>0.873593</td>\n",
       "      <td>0.184685</td>\n",
       "      <td>0.249685</td>\n",
       "      <td>0.264753</td>\n",
       "      <td>0.355158</td>\n",
       "      <td>0.190679</td>\n",
       "      <td>0.257246</td>\n",
       "      <td>0.079202</td>\n",
       "    </tr>\n",
       "    <tr>\n",
       "      <th>T_B1</th>\n",
       "      <td>0.853029</td>\n",
       "      <td>0.235852</td>\n",
       "      <td>0.525029</td>\n",
       "      <td>0.289641</td>\n",
       "      <td>0.338891</td>\n",
       "      <td>0.251385</td>\n",
       "      <td>0.209584</td>\n",
       "      <td>0.079423</td>\n",
       "    </tr>\n",
       "    <tr>\n",
       "      <th>T_B1</th>\n",
       "      <td>0.896992</td>\n",
       "      <td>0.199505</td>\n",
       "      <td>0.390772</td>\n",
       "      <td>0.370632</td>\n",
       "      <td>0.402020</td>\n",
       "      <td>0.344953</td>\n",
       "      <td>0.242839</td>\n",
       "      <td>0.084560</td>\n",
       "    </tr>\n",
       "    <tr>\n",
       "      <th>T_B1</th>\n",
       "      <td>0.881979</td>\n",
       "      <td>0.222254</td>\n",
       "      <td>0.284809</td>\n",
       "      <td>0.304966</td>\n",
       "      <td>0.412269</td>\n",
       "      <td>0.246211</td>\n",
       "      <td>0.213235</td>\n",
       "      <td>0.078013</td>\n",
       "    </tr>\n",
       "  </tbody>\n",
       "</table>\n",
       "</div>"
      ],
      "text/plain": [
       "           TEP_mean_uV_C  Absorption_avg_500  backscatter_avg  \\\n",
       "Condition                                                       \n",
       "T_B1            0.867389            0.240323         0.398567   \n",
       "T_B1            0.873593            0.184685         0.249685   \n",
       "T_B1            0.853029            0.235852         0.525029   \n",
       "T_B1            0.896992            0.199505         0.390772   \n",
       "T_B1            0.881979            0.222254         0.284809   \n",
       "\n",
       "           Absorption_avg_50  Absorption_avg_100  Absorption_avg_200  \\\n",
       "Condition                                                              \n",
       "T_B1                0.371884            0.448386            0.182419   \n",
       "T_B1                0.264753            0.355158            0.190679   \n",
       "T_B1                0.289641            0.338891            0.251385   \n",
       "T_B1                0.370632            0.402020            0.344953   \n",
       "T_B1                0.304966            0.412269            0.246211   \n",
       "\n",
       "            AUC_avg   CF_perm  \n",
       "Condition                      \n",
       "T_B1       0.299520  0.076871  \n",
       "T_B1       0.257246  0.079202  \n",
       "T_B1       0.209584  0.079423  \n",
       "T_B1       0.242839  0.084560  \n",
       "T_B1       0.213235  0.078013  "
      ]
     },
     "execution_count": 48,
     "metadata": {},
     "output_type": "execute_result"
    }
   ],
   "source": [
    "scaled_df = mc.scale_general(df, MinMaxScaler())[0]\n",
    "scaled_df.head()"
   ]
  },
  {
   "cell_type": "markdown",
   "metadata": {},
   "source": [
    "### Selecting sub samples"
   ]
  },
  {
   "cell_type": "code",
   "execution_count": 49,
   "metadata": {},
   "outputs": [],
   "source": [
    "tube, pipe, tube_wo_blind, tube_blind = mc.get_subsample_df(scaled_df)"
   ]
  },
  {
   "cell_type": "code",
   "execution_count": 50,
   "metadata": {},
   "outputs": [
    {
     "data": {
      "text/html": [
       "<div>\n",
       "<style scoped>\n",
       "    .dataframe tbody tr th:only-of-type {\n",
       "        vertical-align: middle;\n",
       "    }\n",
       "\n",
       "    .dataframe tbody tr th {\n",
       "        vertical-align: top;\n",
       "    }\n",
       "\n",
       "    .dataframe thead th {\n",
       "        text-align: right;\n",
       "    }\n",
       "</style>\n",
       "<table border=\"1\" class=\"dataframe\">\n",
       "  <thead>\n",
       "    <tr style=\"text-align: right;\">\n",
       "      <th></th>\n",
       "      <th>TEP_mean_uV_C</th>\n",
       "      <th>Absorption_avg_500</th>\n",
       "      <th>backscatter_avg</th>\n",
       "      <th>Absorption_avg_50</th>\n",
       "      <th>Absorption_avg_100</th>\n",
       "      <th>Absorption_avg_200</th>\n",
       "      <th>AUC_avg</th>\n",
       "      <th>CF_perm</th>\n",
       "    </tr>\n",
       "    <tr>\n",
       "      <th>Condition</th>\n",
       "      <th></th>\n",
       "      <th></th>\n",
       "      <th></th>\n",
       "      <th></th>\n",
       "      <th></th>\n",
       "      <th></th>\n",
       "      <th></th>\n",
       "      <th></th>\n",
       "    </tr>\n",
       "  </thead>\n",
       "  <tbody>\n",
       "    <tr>\n",
       "      <th>T_B1</th>\n",
       "      <td>0.867389</td>\n",
       "      <td>0.240323</td>\n",
       "      <td>0.398567</td>\n",
       "      <td>0.371884</td>\n",
       "      <td>0.448386</td>\n",
       "      <td>0.182419</td>\n",
       "      <td>0.299520</td>\n",
       "      <td>0.076871</td>\n",
       "    </tr>\n",
       "    <tr>\n",
       "      <th>T_B1</th>\n",
       "      <td>0.873593</td>\n",
       "      <td>0.184685</td>\n",
       "      <td>0.249685</td>\n",
       "      <td>0.264753</td>\n",
       "      <td>0.355158</td>\n",
       "      <td>0.190679</td>\n",
       "      <td>0.257246</td>\n",
       "      <td>0.079202</td>\n",
       "    </tr>\n",
       "    <tr>\n",
       "      <th>T_B1</th>\n",
       "      <td>0.853029</td>\n",
       "      <td>0.235852</td>\n",
       "      <td>0.525029</td>\n",
       "      <td>0.289641</td>\n",
       "      <td>0.338891</td>\n",
       "      <td>0.251385</td>\n",
       "      <td>0.209584</td>\n",
       "      <td>0.079423</td>\n",
       "    </tr>\n",
       "    <tr>\n",
       "      <th>T_B1</th>\n",
       "      <td>0.896992</td>\n",
       "      <td>0.199505</td>\n",
       "      <td>0.390772</td>\n",
       "      <td>0.370632</td>\n",
       "      <td>0.402020</td>\n",
       "      <td>0.344953</td>\n",
       "      <td>0.242839</td>\n",
       "      <td>0.084560</td>\n",
       "    </tr>\n",
       "    <tr>\n",
       "      <th>T_B1</th>\n",
       "      <td>0.881979</td>\n",
       "      <td>0.222254</td>\n",
       "      <td>0.284809</td>\n",
       "      <td>0.304966</td>\n",
       "      <td>0.412269</td>\n",
       "      <td>0.246211</td>\n",
       "      <td>0.213235</td>\n",
       "      <td>0.078013</td>\n",
       "    </tr>\n",
       "  </tbody>\n",
       "</table>\n",
       "</div>"
      ],
      "text/plain": [
       "           TEP_mean_uV_C  Absorption_avg_500  backscatter_avg  \\\n",
       "Condition                                                       \n",
       "T_B1            0.867389            0.240323         0.398567   \n",
       "T_B1            0.873593            0.184685         0.249685   \n",
       "T_B1            0.853029            0.235852         0.525029   \n",
       "T_B1            0.896992            0.199505         0.390772   \n",
       "T_B1            0.881979            0.222254         0.284809   \n",
       "\n",
       "           Absorption_avg_50  Absorption_avg_100  Absorption_avg_200  \\\n",
       "Condition                                                              \n",
       "T_B1                0.371884            0.448386            0.182419   \n",
       "T_B1                0.264753            0.355158            0.190679   \n",
       "T_B1                0.289641            0.338891            0.251385   \n",
       "T_B1                0.370632            0.402020            0.344953   \n",
       "T_B1                0.304966            0.412269            0.246211   \n",
       "\n",
       "            AUC_avg   CF_perm  \n",
       "Condition                      \n",
       "T_B1       0.299520  0.076871  \n",
       "T_B1       0.257246  0.079202  \n",
       "T_B1       0.209584  0.079423  \n",
       "T_B1       0.242839  0.084560  \n",
       "T_B1       0.213235  0.078013  "
      ]
     },
     "execution_count": 50,
     "metadata": {},
     "output_type": "execute_result"
    }
   ],
   "source": [
    "tube.head()"
   ]
  },
  {
   "cell_type": "markdown",
   "metadata": {},
   "source": [
    "## Clustering"
   ]
  },
  {
   "cell_type": "markdown",
   "metadata": {},
   "source": [
    "### Elbow Method"
   ]
  },
  {
   "cell_type": "code",
   "execution_count": 51,
   "metadata": {},
   "outputs": [],
   "source": [
    "min_range = 2\n",
    "max_range = 8\n",
    "\n",
    "def plot_elbow_kmeans(feat_norm, title):\n",
    "    '''\n",
    "    Elbow plot\n",
    "    Args:\n",
    "    - feat_norm : pandas dataframe\n",
    "    - title : title of the figure ideally correpond to the samples\n",
    "    return plot\n",
    "    '''\n",
    "    \n",
    "    inertia = []\n",
    "    k_list = range(min_range, max_range+1)\n",
    "\n",
    "    for k in k_list:\n",
    "        km = KMeans(n_clusters = k, random_state= 0)\n",
    "        km.fit(feat_norm) \n",
    "        score = km.inertia_\n",
    "        inertia.append(score)\n",
    "\n",
    "\n",
    "    plt.figure(1 , figsize = (10 ,6))\n",
    "    plt.plot(np.arange(min_range , max_range+1) , inertia , 'o')\n",
    "    plt.plot(np.arange(min_range , max_range+1) , inertia , '-' , alpha = 0.5)\n",
    "\n",
    "    plt.xlabel('Number of Clusters', fontsize=20) , plt.ylabel('Inertia', fontsize=20)\n",
    "    plt.title(title, fontsize=20)\n",
    "    plt.show()"
   ]
  },
  {
   "cell_type": "code",
   "execution_count": 52,
   "metadata": {},
   "outputs": [
    {
     "data": {
      "image/png": "[encoded data removed]",
      "text/plain": [
       "<Figure size 720x432 with 1 Axes>"
      ]
     },
     "metadata": {
      "needs_background": "light"
     },
     "output_type": "display_data"
    }
   ],
   "source": [
    "# tubes\n",
    "plot_elbow_kmeans(tube, title='Tubes simulated')"
   ]
  },
  {
   "cell_type": "code",
   "execution_count": 53,
   "metadata": {},
   "outputs": [
    {
     "data": {
      "image/png": "[encoded data removed]",
      "text/plain": [
       "<Figure size 720x432 with 1 Axes>"
      ]
     },
     "metadata": {
      "needs_background": "light"
     },
     "output_type": "display_data"
    }
   ],
   "source": [
    "# tubes\n",
    "plot_elbow_kmeans(tube_wo_blind, title='Tubes labelled simulated')"
   ]
  },
  {
   "cell_type": "code",
   "execution_count": 54,
   "metadata": {},
   "outputs": [
    {
     "data": {
      "image/png": "[encoded data removed]",
      "text/plain": [
       "<Figure size 720x432 with 1 Axes>"
      ]
     },
     "metadata": {
      "needs_background": "light"
     },
     "output_type": "display_data"
    }
   ],
   "source": [
    "# tubes\n",
    "plot_elbow_kmeans(tube_blind, title='Tubes Blind simulated')"
   ]
  },
  {
   "cell_type": "code",
   "execution_count": 55,
   "metadata": {},
   "outputs": [],
   "source": [
    "def calculate_wcss(data):\n",
    "    '''\n",
    "    Calculate within class sum-squared value which represents loss in KMeans clustering\n",
    "    '''\n",
    "    wcss = []\n",
    "    for n in range(min_range, max_range):\n",
    "        kmeans = KMeans(n_clusters=n,random_state=42)\n",
    "        kmeans.fit(data)\n",
    "        wcss.append(kmeans.inertia_)\n",
    "    \n",
    "    return wcss\n",
    "\n",
    "from math import sqrt\n",
    "\n",
    "def optimal_number_of_clusters(wcss):\n",
    "    '''\n",
    "    Calculate normal distance \n",
    "    '''\n",
    "    x1, y1 = min_range, wcss[0]\n",
    "    x2, y2 = max_range, wcss[len(wcss)-1]\n",
    "\n",
    "    distances = []\n",
    "    for i in range(len(wcss)):\n",
    "        x0 = i+2\n",
    "        y0 = wcss[i]\n",
    "        numerator = abs((y2-y1)*x0 - (x2-x1)*y0 + x2*y1 - y2*x1)\n",
    "        denominator = sqrt((y2 - y1)**2 + (x2 - x1)**2)\n",
    "        distances.append(numerator/denominator)\n",
    "    \n",
    "    return distances.index(max(distances)) + 2"
   ]
  },
  {
   "cell_type": "code",
   "execution_count": 56,
   "metadata": {},
   "outputs": [
    {
     "name": "stdout",
     "output_type": "stream",
     "text": [
      "Number of cluster = 4\n"
     ]
    }
   ],
   "source": [
    "# calculating the within clusters sum-of-squares for n cluster amounts\n",
    "sum_of_squares = calculate_wcss(tube)\n",
    "    \n",
    "# calculating the optimal number of clusters\n",
    "n = optimal_number_of_clusters(sum_of_squares)\n",
    "print('Number of cluster =', n)"
   ]
  },
  {
   "cell_type": "code",
   "execution_count": 57,
   "metadata": {},
   "outputs": [
    {
     "name": "stdout",
     "output_type": "stream",
     "text": [
      "Number of cluster = 3\n"
     ]
    }
   ],
   "source": [
    "# calculating the within clusters sum-of-squares for n cluster amounts\n",
    "sum_of_squares = calculate_wcss(tube_wo_blind)\n",
    "    \n",
    "# calculating the optimal number of clusters\n",
    "n = optimal_number_of_clusters(sum_of_squares)\n",
    "print('Number of cluster =', n)"
   ]
  },
  {
   "cell_type": "code",
   "execution_count": 58,
   "metadata": {},
   "outputs": [
    {
     "name": "stdout",
     "output_type": "stream",
     "text": [
      "Number of cluster = 4\n"
     ]
    }
   ],
   "source": [
    "# calculating the within clusters sum-of-squares for n cluster amounts\n",
    "sum_of_squares = calculate_wcss(tube_blind)\n",
    "    \n",
    "# calculating the optimal number of clusters\n",
    "n = optimal_number_of_clusters(sum_of_squares)\n",
    "print('Number of cluster =', n)"
   ]
  },
  {
   "cell_type": "code",
   "execution_count": 59,
   "metadata": {},
   "outputs": [
    {
     "name": "stdout",
     "output_type": "stream",
     "text": [
      "0.6578618412330764\n",
      "20051.458708419057\n",
      "0.5068813733594058\n",
      "[[1000    0]\n",
      " [1000    0]\n",
      " [   0 1000]\n",
      " [1000    0]\n",
      " [   0 1000]\n",
      " [1000    0]\n",
      " [1000    0]\n",
      " [1000    0]]\n"
     ]
    }
   ],
   "source": [
    "from sklearn.metrics.cluster import contingency_matrix\n",
    "#test wo_blind sample:\n",
    "model = KMeans(n_clusters=2, random_state= 42)\n",
    "model.fit(tube_wo_blind.iloc[:, :]) \n",
    "labels_2 = model.predict(tube_wo_blind)\n",
    "silhouette = metrics.silhouette_score(tube_wo_blind, labels_2, metric='euclidean')\n",
    "print(silhouette)\n",
    "ch_score=metrics.calinski_harabasz_score(tube_wo_blind, labels_2)\n",
    "print(ch_score)\n",
    "DB_score=metrics.davies_bouldin_score(tube_wo_blind, labels_2)\n",
    "print(DB_score)\n",
    "c_mat=contingency_matrix(tube_wo_blind.index, labels_2)\n",
    "print(c_mat)\n",
    "#blind_labels = model.predict(tube_blind)"
   ]
  },
  {
   "cell_type": "code",
   "execution_count": 60,
   "metadata": {},
   "outputs": [],
   "source": [
    "labeled_df_2 = pd.DataFrame()"
   ]
  },
  {
   "cell_type": "code",
   "execution_count": 61,
   "metadata": {},
   "outputs": [],
   "source": [
    "labeled_df_2['sample'] = tube_wo_blind.index\n",
    "labeled_df_2['labels'] = labels_2"
   ]
  },
  {
   "cell_type": "code",
   "execution_count": 27,
   "metadata": {},
   "outputs": [
    {
     "data": {
      "text/plain": [
       "sample   labels\n",
       "T_T      0         1000\n",
       "T_OT     0         1000\n",
       "T_N_T    0         1000\n",
       "T_N      1         1000\n",
       "T_HAZ_T  0         1000\n",
       "T_HAZ    1         1000\n",
       "T_FF     0         1000\n",
       "T_AR     0         1000\n",
       "dtype: int64"
      ]
     },
     "execution_count": 27,
     "metadata": {},
     "output_type": "execute_result"
    }
   ],
   "source": [
    "labeled_df_2.value_counts()"
   ]
  },
  {
   "cell_type": "markdown",
   "metadata": {},
   "source": [
    "From the contingency matrix and the value counts we can infer that there are 2 clusters grouped as\n",
    " - cluster 0 = T_T, T_OT, T_N_T, T_HAZ_T, T_FF, T_AR\n",
    " - cluster 1 = T_N, T_HAZ"
   ]
  },
  {
   "cell_type": "code",
   "execution_count": 28,
   "metadata": {},
   "outputs": [
    {
     "name": "stdout",
     "output_type": "stream",
     "text": [
      "0.4421054214705929\n",
      "15524.47964871362\n",
      "0.9830100986588457\n",
      "[[   0    0 1000]\n",
      " [ 990    0   10]\n",
      " [   0 1000    0]\n",
      " [  33    0  967]\n",
      " [   0 1000    0]\n",
      " [ 977    0   23]\n",
      " [   0    0 1000]\n",
      " [   0    0 1000]]\n"
     ]
    }
   ],
   "source": [
    "from sklearn.metrics.cluster import contingency_matrix\n",
    "#test wo_blind sample:\n",
    "model = KMeans(n_clusters=3, random_state= 42)\n",
    "model.fit(tube_wo_blind.iloc[:, :]) \n",
    "labels_3 = model.predict(tube_wo_blind)\n",
    "silhouette = metrics.silhouette_score(tube_wo_blind, labels_3, metric='euclidean')\n",
    "print(silhouette)\n",
    "ch_score=metrics.calinski_harabasz_score(tube_wo_blind, labels_3)\n",
    "print(ch_score)\n",
    "DB_score=metrics.davies_bouldin_score(tube_wo_blind, labels_3)\n",
    "print(DB_score)\n",
    "c_mat=contingency_matrix(tube_wo_blind.index, labels_3)\n",
    "print(c_mat)\n",
    "#blind_labels = model.predict(tube_blind)"
   ]
  },
  {
   "cell_type": "code",
   "execution_count": 29,
   "metadata": {},
   "outputs": [],
   "source": [
    "labeled_df_3 = pd.DataFrame()"
   ]
  },
  {
   "cell_type": "code",
   "execution_count": 30,
   "metadata": {},
   "outputs": [],
   "source": [
    "labeled_df_3['sample'] = tube_wo_blind.index\n",
    "labeled_df_3['labels'] = labels_3"
   ]
  },
  {
   "cell_type": "code",
   "execution_count": 31,
   "metadata": {
    "scrolled": false
   },
   "outputs": [
    {
     "data": {
      "text/plain": [
       "sample   labels\n",
       "T_T      2         1000\n",
       "T_OT     2         1000\n",
       "T_N      1         1000\n",
       "T_HAZ    1         1000\n",
       "T_AR     2         1000\n",
       "T_FF     0          990\n",
       "T_N_T    0          977\n",
       "T_HAZ_T  2          967\n",
       "         0           33\n",
       "T_N_T    2           23\n",
       "T_FF     2           10\n",
       "dtype: int64"
      ]
     },
     "execution_count": 31,
     "metadata": {},
     "output_type": "execute_result"
    }
   ],
   "source": [
    "labeled_df_3.value_counts()"
   ]
  },
  {
   "cell_type": "markdown",
   "metadata": {},
   "source": [
    "From the contingency matrix and the value counts we can infer that there are 3 clusters grouped as\n",
    "\n",
    "-   cluster 0 = T_N_T, T_FF\n",
    "-   cluster 1 = T_N, T_HAZ\n",
    "-   cluster 2 = T_T, T_OT, T_AR, T_HAZ_T"
   ]
  },
  {
   "cell_type": "code",
   "execution_count": 32,
   "metadata": {},
   "outputs": [
    {
     "name": "stdout",
     "output_type": "stream",
     "text": [
      "0.38343726046177234\n",
      "12090.781499181037\n",
      "1.0214629463240974\n",
      "[[   0    0    0 1000]\n",
      " [ 986    0    1   13]\n",
      " [   0 1000    0    0]\n",
      " [  38    0    6  956]\n",
      " [   0 1000    0    0]\n",
      " [ 977    0    2   21]\n",
      " [   0    0  994    6]\n",
      " [   0    0    0 1000]]\n"
     ]
    }
   ],
   "source": [
    "from sklearn.metrics.cluster import contingency_matrix\n",
    "#test wo_blind sample:\n",
    "model = KMeans(n_clusters=4, random_state= 42)\n",
    "model.fit(tube_wo_blind.iloc[:, :]) \n",
    "labels_4 = model.predict(tube_wo_blind)\n",
    "silhouette = metrics.silhouette_score(tube_wo_blind, labels_4, metric='euclidean')\n",
    "print(silhouette)\n",
    "ch_score=metrics.calinski_harabasz_score(tube_wo_blind, labels_4)\n",
    "print(ch_score)\n",
    "DB_score=metrics.davies_bouldin_score(tube_wo_blind, labels_4)\n",
    "print(DB_score)\n",
    "c_mat=contingency_matrix(tube_wo_blind.index, labels_4)\n",
    "print(c_mat)\n",
    "#blind_labels = model.predict(tube_blind)"
   ]
  },
  {
   "cell_type": "code",
   "execution_count": 33,
   "metadata": {},
   "outputs": [],
   "source": [
    "labeled_df_4 = pd.DataFrame()"
   ]
  },
  {
   "cell_type": "code",
   "execution_count": 34,
   "metadata": {},
   "outputs": [],
   "source": [
    "labeled_df_4['sample'] = tube_wo_blind.index\n",
    "labeled_df_4['labels'] = labels_4"
   ]
  },
  {
   "cell_type": "code",
   "execution_count": 35,
   "metadata": {},
   "outputs": [
    {
     "data": {
      "text/plain": [
       "sample   labels\n",
       "T_T      3         1000\n",
       "T_N      1         1000\n",
       "T_HAZ    1         1000\n",
       "T_AR     3         1000\n",
       "T_OT     2          994\n",
       "T_FF     0          986\n",
       "T_N_T    0          977\n",
       "T_HAZ_T  3          956\n",
       "         0           38\n",
       "T_N_T    3           21\n",
       "T_FF     3           13\n",
       "T_OT     3            6\n",
       "T_HAZ_T  2            6\n",
       "T_N_T    2            2\n",
       "T_FF     2            1\n",
       "dtype: int64"
      ]
     },
     "execution_count": 35,
     "metadata": {},
     "output_type": "execute_result"
    }
   ],
   "source": [
    "labeled_df_4.value_counts()"
   ]
  },
  {
   "cell_type": "markdown",
   "metadata": {},
   "source": [
    "From the contingency matrix and the value counts we can infer that there are 4 clusters grouped as\n",
    "\n",
    "-    cluster 0 = T_FF, T_N_T\n",
    "-    cluster 1 = T_N, T_HAZ\n",
    "-    cluster 2 = T_OT\n",
    "-    cluster 3 = T_T, T_AR, T_HAZ_T"
   ]
  },
  {
   "cell_type": "code",
   "execution_count": 36,
   "metadata": {},
   "outputs": [
    {
     "name": "stdout",
     "output_type": "stream",
     "text": [
      "0.31633812905460934\n",
      "10684.533737957347\n",
      "1.195577163625174\n",
      "[[   0    0 1000    0    0]\n",
      " [ 986    0   13    0    1]\n",
      " [   0 1000    0    0    0]\n",
      " [  38    0  956    0    6]\n",
      " [   0  127    0  873    0]\n",
      " [ 977    0   21    0    2]\n",
      " [   0    0    6    0  994]\n",
      " [   0    0 1000    0    0]]\n"
     ]
    }
   ],
   "source": [
    "from sklearn.metrics.cluster import contingency_matrix\n",
    "#test wo_blind sample:\n",
    "model = KMeans(n_clusters=5, random_state= 42)\n",
    "model.fit(tube_wo_blind.iloc[:, :]) \n",
    "labels_5 = model.predict(tube_wo_blind)\n",
    "silhouette = metrics.silhouette_score(tube_wo_blind, labels_5, metric='euclidean')\n",
    "print(silhouette)\n",
    "ch_score=metrics.calinski_harabasz_score(tube_wo_blind, labels_5)\n",
    "print(ch_score)\n",
    "DB_score=metrics.davies_bouldin_score(tube_wo_blind, labels_5)\n",
    "print(DB_score)\n",
    "c_mat=contingency_matrix(tube_wo_blind.index, labels_5)\n",
    "print(c_mat)\n",
    "#blind_labels = model.predict(tube_blind)"
   ]
  },
  {
   "cell_type": "code",
   "execution_count": 37,
   "metadata": {},
   "outputs": [],
   "source": [
    "labeled_df_5 = pd.DataFrame()"
   ]
  },
  {
   "cell_type": "code",
   "execution_count": 38,
   "metadata": {},
   "outputs": [],
   "source": [
    "labeled_df_5['sample'] = tube_wo_blind.index\n",
    "labeled_df_5['labels'] = labels_5"
   ]
  },
  {
   "cell_type": "code",
   "execution_count": 40,
   "metadata": {},
   "outputs": [
    {
     "data": {
      "text/plain": [
       "sample   labels\n",
       "T_T      2         1000\n",
       "T_HAZ    1         1000\n",
       "T_AR     2         1000\n",
       "T_OT     4          994\n",
       "T_FF     0          986\n",
       "T_N_T    0          977\n",
       "T_HAZ_T  2          956\n",
       "T_N      3          873\n",
       "         1          127\n",
       "T_HAZ_T  0           38\n",
       "T_N_T    2           21\n",
       "T_FF     2           13\n",
       "T_OT     2            6\n",
       "T_HAZ_T  4            6\n",
       "T_N_T    4            2\n",
       "T_FF     4            1\n",
       "dtype: int64"
      ]
     },
     "execution_count": 40,
     "metadata": {},
     "output_type": "execute_result"
    }
   ],
   "source": [
    "labeled_df_5.value_counts()"
   ]
  },
  {
   "cell_type": "markdown",
   "metadata": {},
   "source": [
    "From the contingency matrix and the value counts we can infer that there are 5 clusters grouped as\n",
    "\n",
    "-    cluster 0 = T_FF, T_N_T\n",
    "-    cluster 1 = T_HAZ \n",
    "-    cluster 2 = T_AR, T_HAZ_T, T_T\n",
    "-    cluster 3 = T_N\n",
    "-    cluster 4 = T_OT"
   ]
  },
  {
   "cell_type": "code",
   "execution_count": 222,
   "metadata": {},
   "outputs": [
    {
     "name": "stdout",
     "output_type": "stream",
     "text": [
      "0.32042962525260343\n",
      "9999.314358533578\n",
      "1.2720140743014048\n",
      "[[   0 1000    0    0    0    0]\n",
      " [ 955   12    0   32    0    1]\n",
      " [   0    0 1000    0    0    0]\n",
      " [   1  937    0   57    0    5]\n",
      " [   0    0  127    0  873    0]\n",
      " [  78   11    0  911    0    0]\n",
      " [   0    6    0    0    0  994]\n",
      " [   0 1000    0    0    0    0]]\n"
     ]
    }
   ],
   "source": [
    "from sklearn.metrics.cluster import contingency_matrix\n",
    "#test wo_blind sample:\n",
    "model = KMeans(n_clusters=6, random_state= 42)\n",
    "model.fit(tube_wo_blind.iloc[:, :]) \n",
    "labels_6 = model.predict(tube_wo_blind)\n",
    "silhouette = metrics.silhouette_score(tube_wo_blind, labels_6, metric='euclidean')\n",
    "print(silhouette)\n",
    "ch_score=metrics.calinski_harabasz_score(tube_wo_blind, labels_6)\n",
    "print(ch_score)\n",
    "DB_score=metrics.davies_bouldin_score(tube_wo_blind, labels_6)\n",
    "print(DB_score)\n",
    "c_mat=contingency_matrix(tube_wo_blind.index, labels_6)\n",
    "print(c_mat)\n",
    "#blind_labels = model.predict(tube_blind)"
   ]
  },
  {
   "cell_type": "code",
   "execution_count": 194,
   "metadata": {},
   "outputs": [],
   "source": [
    "labeled_df_6 = pd.DataFrame()"
   ]
  },
  {
   "cell_type": "code",
   "execution_count": 195,
   "metadata": {},
   "outputs": [],
   "source": [
    "labeled_df_6['sample'] = tube_wo_blind.index\n",
    "labeled_df_6['labels'] = labels_6"
   ]
  },
  {
   "cell_type": "code",
   "execution_count": 196,
   "metadata": {},
   "outputs": [
    {
     "data": {
      "text/plain": [
       "sample   labels\n",
       "T_T      1         1000\n",
       "T_HAZ    2         1000\n",
       "T_AR     1         1000\n",
       "T_OT     5          994\n",
       "T_FF     0          955\n",
       "T_HAZ_T  1          937\n",
       "T_N_T    3          911\n",
       "T_N      4          873\n",
       "         2          127\n",
       "T_N_T    0           78\n",
       "T_HAZ_T  3           57\n",
       "T_FF     3           32\n",
       "         1           12\n",
       "T_N_T    1           11\n",
       "T_OT     1            6\n",
       "T_HAZ_T  5            5\n",
       "         0            1\n",
       "T_FF     5            1\n",
       "dtype: int64"
      ]
     },
     "execution_count": 196,
     "metadata": {},
     "output_type": "execute_result"
    }
   ],
   "source": [
    "labeled_df_6.value_counts()"
   ]
  },
  {
   "cell_type": "markdown",
   "metadata": {},
   "source": [
    "From the contingency matrix and the value counts we can infer that there are 6 clusters grouped as\n",
    "\n",
    "-    cluster 0 = T_FF\n",
    "-    cluster 1 = T_AR, T_HAZ_T, T_T\n",
    "-    cluster 2 = T_HAZ\n",
    "-    cluster 3 = T_N_T\n",
    "-    cluster 4 = T_N\n",
    "-    cluster 5 = T_OT"
   ]
  },
  {
   "cell_type": "code",
   "execution_count": 223,
   "metadata": {},
   "outputs": [
    {
     "name": "stdout",
     "output_type": "stream",
     "text": [
      "0.2674827615524083\n",
      "9018.16263690109\n",
      "1.4365788229945726\n",
      "[[   0    0  714  286    0    0    0]\n",
      " [  31    0    7    9    0  952    1]\n",
      " [   0    0    0    0 1000    0    0]\n",
      " [  47    0  363  588    0    1    1]\n",
      " [   0  874    0    0  126    0    0]\n",
      " [ 899    0   16    6    0   79    0]\n",
      " [   0    0    5    2    0    0  993]\n",
      " [   0    0  365  635    0    0    0]]\n"
     ]
    }
   ],
   "source": [
    "from sklearn.metrics.cluster import contingency_matrix\n",
    "#test wo_blind sample:\n",
    "model = KMeans(n_clusters=7, random_state= 42)\n",
    "model.fit(tube_wo_blind.iloc[:, :]) \n",
    "labels_7 = model.predict(tube_wo_blind)\n",
    "silhouette = metrics.silhouette_score(tube_wo_blind, labels_7, metric='euclidean')\n",
    "print(silhouette)\n",
    "ch_score=metrics.calinski_harabasz_score(tube_wo_blind, labels_7)\n",
    "print(ch_score)\n",
    "DB_score=metrics.davies_bouldin_score(tube_wo_blind, labels_7)\n",
    "print(DB_score)\n",
    "c_mat=contingency_matrix(tube_wo_blind.index, labels_7)\n",
    "print(c_mat)\n",
    "#blind_labels = model.predict(tube_blind)"
   ]
  },
  {
   "cell_type": "code",
   "execution_count": 198,
   "metadata": {},
   "outputs": [],
   "source": [
    "labeled_df_7 = pd.DataFrame()"
   ]
  },
  {
   "cell_type": "code",
   "execution_count": 199,
   "metadata": {},
   "outputs": [],
   "source": [
    "labeled_df_7['sample'] = tube_wo_blind.index\n",
    "labeled_df_7['labels'] = labels_7"
   ]
  },
  {
   "cell_type": "code",
   "execution_count": 200,
   "metadata": {},
   "outputs": [
    {
     "data": {
      "text/plain": [
       "sample   labels\n",
       "T_HAZ    4         1000\n",
       "T_OT     6          993\n",
       "T_FF     5          952\n",
       "T_N_T    0          899\n",
       "T_N      1          874\n",
       "T_AR     2          714\n",
       "T_T      3          635\n",
       "T_HAZ_T  3          588\n",
       "T_T      2          365\n",
       "T_HAZ_T  2          363\n",
       "T_AR     3          286\n",
       "T_N      4          126\n",
       "T_N_T    5           79\n",
       "T_HAZ_T  0           47\n",
       "T_FF     0           31\n",
       "T_N_T    2           16\n",
       "T_FF     3            9\n",
       "         2            7\n",
       "T_N_T    3            6\n",
       "T_OT     2            5\n",
       "         3            2\n",
       "T_FF     6            1\n",
       "T_HAZ_T  6            1\n",
       "         5            1\n",
       "dtype: int64"
      ]
     },
     "execution_count": 200,
     "metadata": {},
     "output_type": "execute_result"
    }
   ],
   "source": [
    "labeled_df_7.value_counts()"
   ]
  },
  {
   "cell_type": "markdown",
   "metadata": {},
   "source": [
    "From the contingency matrix and the value counts we can infer that there are 7 clusters grouped as\n",
    "\n",
    "-    cluster 0 = T_N_T \n",
    "-    cluster 1 = T_N\n",
    "-    cluster 2 = T_AR, T_HAZ_T, T_T\n",
    "-    cluster 3 = T_AR, T_HAZ_T, T_T\n",
    "-    cluster 4 = T_HAZ\n",
    "-    cluster 5 = T_FF\n",
    "-    cluster 6 = T_OT\n",
    "\n",
    "If we compare the clusters of 6 and 7 the clustering is the same with no further improvement. Hence, it would be appropriate to stop at cluster number 6 for labelled tube samples."
   ]
  },
  {
   "cell_type": "code",
   "execution_count": 224,
   "metadata": {},
   "outputs": [
    {
     "name": "stdout",
     "output_type": "stream",
     "text": [
      "0.2654427390975551\n",
      "8105.245467317823\n",
      "1.3964637020033661\n",
      "[[   0    0  683    0    0    0    5  312]\n",
      " [  22    0    4    0    0  944   28    2]\n",
      " [   0    0    0    0 1000    0    0    0]\n",
      " [   5    0  277    0    0    0  392  326]\n",
      " [   0  874    0    0  126    0    0    0]\n",
      " [ 825    0   14    0    0   76   85    0]\n",
      " [   0    0    5  989    0    0    0    6]\n",
      " [   0    0  352    0    0    0    8  640]]\n"
     ]
    }
   ],
   "source": [
    "from sklearn.metrics.cluster import contingency_matrix\n",
    "#test wo_blind sample:\n",
    "model = KMeans(n_clusters=8, random_state= 42)\n",
    "model.fit(tube_wo_blind.iloc[:, :]) \n",
    "labels_8 = model.predict(tube_wo_blind)\n",
    "silhouette = metrics.silhouette_score(tube_wo_blind, labels_8, metric='euclidean')\n",
    "print(silhouette)\n",
    "ch_score=metrics.calinski_harabasz_score(tube_wo_blind, labels_8)\n",
    "print(ch_score)\n",
    "DB_score=metrics.davies_bouldin_score(tube_wo_blind, labels_8)\n",
    "print(DB_score)\n",
    "c_mat=contingency_matrix(tube_wo_blind.index, labels_8)\n",
    "print(c_mat)\n",
    "#blind_labels = model.predict(tube_blind)"
   ]
  },
  {
   "cell_type": "code",
   "execution_count": 202,
   "metadata": {},
   "outputs": [],
   "source": [
    "labeled_df_8 = pd.DataFrame()"
   ]
  },
  {
   "cell_type": "code",
   "execution_count": 203,
   "metadata": {},
   "outputs": [],
   "source": [
    "labeled_df_8['sample'] = tube_wo_blind.index\n",
    "labeled_df_8['labels'] = labels_8"
   ]
  },
  {
   "cell_type": "code",
   "execution_count": 204,
   "metadata": {},
   "outputs": [
    {
     "data": {
      "text/plain": [
       "sample   labels\n",
       "T_HAZ    4         1000\n",
       "T_OT     3          989\n",
       "T_FF     5          944\n",
       "T_N      1          874\n",
       "T_N_T    0          825\n",
       "T_AR     2          683\n",
       "T_T      7          640\n",
       "T_HAZ_T  6          392\n",
       "T_T      2          352\n",
       "T_HAZ_T  7          326\n",
       "T_AR     7          312\n",
       "T_HAZ_T  2          277\n",
       "T_N      4          126\n",
       "T_N_T    6           85\n",
       "         5           76\n",
       "T_FF     6           28\n",
       "         0           22\n",
       "T_N_T    2           14\n",
       "T_T      6            8\n",
       "T_OT     7            6\n",
       "T_HAZ_T  0            5\n",
       "T_OT     2            5\n",
       "T_AR     6            5\n",
       "T_FF     2            4\n",
       "         7            2\n",
       "dtype: int64"
      ]
     },
     "execution_count": 204,
     "metadata": {},
     "output_type": "execute_result"
    }
   ],
   "source": [
    "labeled_df_8.value_counts()"
   ]
  },
  {
   "cell_type": "code",
   "execution_count": 43,
   "metadata": {},
   "outputs": [
    {
     "name": "stdout",
     "output_type": "stream",
     "text": [
      "0.6484709646363065\n",
      "17893.808243624473\n",
      "0.5001233220495256\n",
      "[[1000    0]\n",
      " [1000    0]\n",
      " [1000    0]\n",
      " [   0 1000]\n",
      " [1000    0]\n",
      " [   0 1000]\n",
      " [1000    0]\n",
      " [1000    0]]\n"
     ]
    }
   ],
   "source": [
    "from sklearn.metrics.cluster import contingency_matrix\n",
    "#test blind sample:\n",
    "model = KMeans(n_clusters=2, random_state= 42)\n",
    "model.fit(tube_blind.iloc[:, :]) \n",
    "labels_b_2 = model.predict(tube_blind)\n",
    "silhouette = metrics.silhouette_score(tube_blind, labels_b_2, metric='euclidean')\n",
    "print(silhouette)\n",
    "ch_score=metrics.calinski_harabasz_score(tube_blind, labels_b_2)\n",
    "print(ch_score)\n",
    "DB_score=metrics.davies_bouldin_score(tube_blind, labels_b_2)\n",
    "print(DB_score)\n",
    "c_mat=contingency_matrix(tube_blind.index, labels_b_2)\n",
    "print(c_mat)"
   ]
  },
  {
   "cell_type": "code",
   "execution_count": 227,
   "metadata": {},
   "outputs": [],
   "source": [
    "labeled_df_b_2 = pd.DataFrame()"
   ]
  },
  {
   "cell_type": "code",
   "execution_count": 228,
   "metadata": {},
   "outputs": [],
   "source": [
    "labeled_df_b_2['sample'] = tube_blind.index\n",
    "labeled_df_b_2['labels'] = labels_b_2"
   ]
  },
  {
   "cell_type": "code",
   "execution_count": 229,
   "metadata": {},
   "outputs": [
    {
     "data": {
      "text/plain": [
       "sample  labels\n",
       "T_B8    0         1000\n",
       "T_B7    0         1000\n",
       "T_B6    1         1000\n",
       "T_B5    0         1000\n",
       "T_B4    1         1000\n",
       "T_B3    0         1000\n",
       "T_B2    0         1000\n",
       "T_B1    0         1000\n",
       "dtype: int64"
      ]
     },
     "execution_count": 229,
     "metadata": {},
     "output_type": "execute_result"
    }
   ],
   "source": [
    "labeled_df_b_2.value_counts()"
   ]
  },
  {
   "cell_type": "markdown",
   "metadata": {},
   "source": [
    "From the contingency matrix and the value counts we can infer that there are 2 clusters grouped as\n",
    "\n",
    "-    cluster 0 = T_B1, T_B2, T_B3, T_B5, T_B7, T_B8\n",
    "-    cluster 1 = T_B4, T_B6"
   ]
  },
  {
   "cell_type": "code",
   "execution_count": 230,
   "metadata": {},
   "outputs": [
    {
     "name": "stdout",
     "output_type": "stream",
     "text": [
      "0.5135906437777049\n",
      "16597.105868885013\n",
      "0.8636500141821729\n",
      "[[1000    0    0]\n",
      " [  16    0  984]\n",
      " [1000    0    0]\n",
      " [   0 1000    0]\n",
      " [1000    0    0]\n",
      " [   0 1000    0]\n",
      " [  31    0  969]\n",
      " [ 999    0    1]]\n"
     ]
    }
   ],
   "source": [
    "from sklearn.metrics.cluster import contingency_matrix\n",
    "#test blind sample:\n",
    "model = KMeans(n_clusters=3, random_state= 42)\n",
    "model.fit(tube_blind.iloc[:, :]) \n",
    "labels_b_3 = model.predict(tube_blind)\n",
    "silhouette = metrics.silhouette_score(tube_blind, labels_b_3, metric='euclidean')\n",
    "print(silhouette)\n",
    "ch_score=metrics.calinski_harabasz_score(tube_blind, labels_b_3)\n",
    "print(ch_score)\n",
    "DB_score=metrics.davies_bouldin_score(tube_blind, labels_b_3)\n",
    "print(DB_score)\n",
    "c_mat=contingency_matrix(tube_blind.index, labels_b_3)\n",
    "print(c_mat)"
   ]
  },
  {
   "cell_type": "code",
   "execution_count": 231,
   "metadata": {},
   "outputs": [],
   "source": [
    "labeled_df_b_3 = pd.DataFrame()"
   ]
  },
  {
   "cell_type": "code",
   "execution_count": 232,
   "metadata": {},
   "outputs": [],
   "source": [
    "labeled_df_b_3['sample'] = tube_blind.index\n",
    "labeled_df_b_3['labels'] = labels_b_3"
   ]
  },
  {
   "cell_type": "code",
   "execution_count": 233,
   "metadata": {},
   "outputs": [
    {
     "data": {
      "text/plain": [
       "sample  labels\n",
       "T_B6    1         1000\n",
       "T_B5    0         1000\n",
       "T_B4    1         1000\n",
       "T_B3    0         1000\n",
       "T_B1    0         1000\n",
       "T_B8    0          999\n",
       "T_B2    2          984\n",
       "T_B7    2          969\n",
       "        0           31\n",
       "T_B2    0           16\n",
       "T_B8    2            1\n",
       "dtype: int64"
      ]
     },
     "execution_count": 233,
     "metadata": {},
     "output_type": "execute_result"
    }
   ],
   "source": [
    "labeled_df_b_3.value_counts()"
   ]
  },
  {
   "cell_type": "markdown",
   "metadata": {},
   "source": [
    "From the contingency matrix and the value counts we can infer that there are 3 clusters grouped as\n",
    "\n",
    "-    cluster 0 = T_B1, T_B3, T_B5, T_B8\n",
    "-    cluster 1 = T_B4, T_B6\n",
    "-    cluster 2 = T_B2, T_B7"
   ]
  },
  {
   "cell_type": "code",
   "execution_count": 234,
   "metadata": {},
   "outputs": [
    {
     "name": "stdout",
     "output_type": "stream",
     "text": [
      "0.4748147647018466\n",
      "14142.968814894171\n",
      "0.8038288825452167\n",
      "[[1000    0    0    0]\n",
      " [  14    0  986    0]\n",
      " [1000    0    0    0]\n",
      " [   0 1000    0    0]\n",
      " [1000    0    0    0]\n",
      " [   0 1000    0    0]\n",
      " [  24    0  972    4]\n",
      " [   2    0    0  998]]\n"
     ]
    }
   ],
   "source": [
    "from sklearn.metrics.cluster import contingency_matrix\n",
    "#test blind sample:\n",
    "model = KMeans(n_clusters=4, random_state= 42)\n",
    "model.fit(tube_blind.iloc[:, :]) \n",
    "labels_b_4 = model.predict(tube_blind)\n",
    "silhouette = metrics.silhouette_score(tube_blind, labels_b_4, metric='euclidean')\n",
    "print(silhouette)\n",
    "ch_score=metrics.calinski_harabasz_score(tube_blind, labels_b_4)\n",
    "print(ch_score)\n",
    "DB_score=metrics.davies_bouldin_score(tube_blind, labels_b_4)\n",
    "print(DB_score)\n",
    "c_mat=contingency_matrix(tube_blind.index, labels_b_4)\n",
    "print(c_mat)"
   ]
  },
  {
   "cell_type": "code",
   "execution_count": 235,
   "metadata": {},
   "outputs": [],
   "source": [
    "labeled_df_b_4 = pd.DataFrame()"
   ]
  },
  {
   "cell_type": "code",
   "execution_count": 236,
   "metadata": {},
   "outputs": [],
   "source": [
    "labeled_df_b_4['sample'] = tube_blind.index\n",
    "labeled_df_b_4['labels'] = labels_b_4"
   ]
  },
  {
   "cell_type": "code",
   "execution_count": 237,
   "metadata": {},
   "outputs": [
    {
     "data": {
      "text/plain": [
       "sample  labels\n",
       "T_B6    1         1000\n",
       "T_B5    0         1000\n",
       "T_B4    1         1000\n",
       "T_B3    0         1000\n",
       "T_B1    0         1000\n",
       "T_B8    3          998\n",
       "T_B2    2          986\n",
       "T_B7    2          972\n",
       "        0           24\n",
       "T_B2    0           14\n",
       "T_B7    3            4\n",
       "T_B8    0            2\n",
       "dtype: int64"
      ]
     },
     "execution_count": 237,
     "metadata": {},
     "output_type": "execute_result"
    }
   ],
   "source": [
    "labeled_df_b_4.value_counts()"
   ]
  },
  {
   "cell_type": "markdown",
   "metadata": {},
   "source": [
    "From the contingency matrix and the value counts we can infer that there are 4 clusters grouped as\n",
    "\n",
    "-    cluster 0 = T_B1, T_B3, T_B5\n",
    "-    cluster 1 = T_B4, T_B6\n",
    "-    cluster 2 = T_B2, T_B7\n",
    "-    cluster 3 = T_B8"
   ]
  },
  {
   "cell_type": "code",
   "execution_count": 238,
   "metadata": {},
   "outputs": [
    {
     "name": "stdout",
     "output_type": "stream",
     "text": [
      "0.47105072534987424\n",
      "12516.362722227497\n",
      "1.065399718517994\n",
      "[[1000    0    0    0    0]\n",
      " [  14    0  137    1  848]\n",
      " [1000    0    0    0    0]\n",
      " [   0 1000    0    0    0]\n",
      " [1000    0    0    0    0]\n",
      " [   0 1000    0    0    0]\n",
      " [  20    0  952    2   26]\n",
      " [   2    0    0  998    0]]\n"
     ]
    }
   ],
   "source": [
    "from sklearn.metrics.cluster import contingency_matrix\n",
    "#test blind sample:\n",
    "model = KMeans(n_clusters=5, random_state= 42)\n",
    "model.fit(tube_blind.iloc[:, :]) \n",
    "labels_b_5 = model.predict(tube_blind)\n",
    "silhouette = metrics.silhouette_score(tube_blind, labels_b_5, metric='euclidean')\n",
    "print(silhouette)\n",
    "ch_score=metrics.calinski_harabasz_score(tube_blind, labels_b_5)\n",
    "print(ch_score)\n",
    "DB_score=metrics.davies_bouldin_score(tube_blind, labels_b_5)\n",
    "print(DB_score)\n",
    "c_mat=contingency_matrix(tube_blind.index, labels_b_5)\n",
    "print(c_mat)"
   ]
  },
  {
   "cell_type": "code",
   "execution_count": 239,
   "metadata": {},
   "outputs": [],
   "source": [
    "labeled_df_b_5 = pd.DataFrame()"
   ]
  },
  {
   "cell_type": "code",
   "execution_count": 240,
   "metadata": {},
   "outputs": [],
   "source": [
    "labeled_df_b_5['sample'] = tube_blind.index\n",
    "labeled_df_b_5['labels'] = labels_b_5"
   ]
  },
  {
   "cell_type": "code",
   "execution_count": 241,
   "metadata": {},
   "outputs": [
    {
     "data": {
      "text/plain": [
       "sample  labels\n",
       "T_B6    1         1000\n",
       "T_B5    0         1000\n",
       "T_B4    1         1000\n",
       "T_B3    0         1000\n",
       "T_B1    0         1000\n",
       "T_B8    3          998\n",
       "T_B7    2          952\n",
       "T_B2    4          848\n",
       "        2          137\n",
       "T_B7    4           26\n",
       "        0           20\n",
       "T_B2    0           14\n",
       "T_B8    0            2\n",
       "T_B7    3            2\n",
       "T_B2    3            1\n",
       "dtype: int64"
      ]
     },
     "execution_count": 241,
     "metadata": {},
     "output_type": "execute_result"
    }
   ],
   "source": [
    "labeled_df_b_5.value_counts()"
   ]
  },
  {
   "cell_type": "markdown",
   "metadata": {},
   "source": [
    "From the contingency matrix and the value counts we can infer that there are 5 clusters grouped as\n",
    "\n",
    "-    cluster 0 = T_B1, T_B3, T_B5\n",
    "-    cluster 1 = T_B4, T_B6\n",
    "-    cluster 2 = T_B7\n",
    "-    cluster 3 = T_B8\n",
    "-    cluster 4 = T_B2"
   ]
  },
  {
   "cell_type": "code",
   "execution_count": 242,
   "metadata": {},
   "outputs": [
    {
     "name": "stdout",
     "output_type": "stream",
     "text": [
      "0.3966498146536933\n",
      "11739.635824023604\n",
      "1.1942513417100011\n",
      "[[   0 1000    0    0    0    0]\n",
      " [   0   14  138    1  847    0]\n",
      " [   0 1000    0    0    0    0]\n",
      " [ 964    0    0    0    0   36]\n",
      " [   0 1000    0    0    0    0]\n",
      " [   2    0    0    0    0  998]\n",
      " [   0   20  952    2   26    0]\n",
      " [   0    2    0  998    0    0]]\n"
     ]
    }
   ],
   "source": [
    "from sklearn.metrics.cluster import contingency_matrix\n",
    "#test blind sample:\n",
    "model = KMeans(n_clusters=6, random_state= 42)\n",
    "model.fit(tube_blind.iloc[:, :]) \n",
    "labels_b_6 = model.predict(tube_blind)\n",
    "silhouette = metrics.silhouette_score(tube_blind, labels_b_6, metric='euclidean')\n",
    "print(silhouette)\n",
    "ch_score=metrics.calinski_harabasz_score(tube_blind, labels_b_6)\n",
    "print(ch_score)\n",
    "DB_score=metrics.davies_bouldin_score(tube_blind, labels_b_6)\n",
    "print(DB_score)\n",
    "c_mat=contingency_matrix(tube_blind.index, labels_b_6)\n",
    "print(c_mat)"
   ]
  },
  {
   "cell_type": "code",
   "execution_count": 243,
   "metadata": {},
   "outputs": [],
   "source": [
    "labeled_df_b_6 = pd.DataFrame()"
   ]
  },
  {
   "cell_type": "code",
   "execution_count": 244,
   "metadata": {},
   "outputs": [],
   "source": [
    "labeled_df_b_6['sample'] = tube_blind.index\n",
    "labeled_df_b_6['labels'] = labels_b_6"
   ]
  },
  {
   "cell_type": "code",
   "execution_count": 245,
   "metadata": {},
   "outputs": [
    {
     "data": {
      "text/plain": [
       "sample  labels\n",
       "T_B5    1         1000\n",
       "T_B3    1         1000\n",
       "T_B1    1         1000\n",
       "T_B6    5          998\n",
       "T_B8    3          998\n",
       "T_B4    0          964\n",
       "T_B7    2          952\n",
       "T_B2    4          847\n",
       "        2          138\n",
       "T_B4    5           36\n",
       "T_B7    4           26\n",
       "        1           20\n",
       "T_B2    1           14\n",
       "T_B7    3            2\n",
       "T_B6    0            2\n",
       "T_B8    1            2\n",
       "T_B2    3            1\n",
       "dtype: int64"
      ]
     },
     "execution_count": 245,
     "metadata": {},
     "output_type": "execute_result"
    }
   ],
   "source": [
    "labeled_df_b_6.value_counts()"
   ]
  },
  {
   "cell_type": "markdown",
   "metadata": {},
   "source": [
    "From the contingency matrix and the value counts we can infer that there are 6 clusters grouped as\n",
    "\n",
    "-    cluster 0 = T_B4\n",
    "-    cluster 1 = T_B1, T_B3, T_B5\n",
    "-    cluster 2 = T_B7\n",
    "-    cluster 3 = T_B8\n",
    "-    cluster 4 = T_B2\n",
    "-    cluster 5 = T_B6"
   ]
  },
  {
   "cell_type": "code",
   "execution_count": 246,
   "metadata": {},
   "outputs": [
    {
     "name": "stdout",
     "output_type": "stream",
     "text": [
      "0.38053057803401485\n",
      "10379.79862887753\n",
      "1.359269772436894\n",
      "[[   0    0    0    0    0    0 1000]\n",
      " [   0    1  787   26    0  178    8]\n",
      " [   0    0    0    0    0    0 1000]\n",
      " [  36    0    0    0  964    0    0]\n",
      " [   0    0    0    0    0    0 1000]\n",
      " [ 998    0    0    0    2    0    0]\n",
      " [   0    2    5  528    0  457    8]\n",
      " [   0  998    0    0    0    0    2]]\n"
     ]
    }
   ],
   "source": [
    "from sklearn.metrics.cluster import contingency_matrix\n",
    "#test blind sample:\n",
    "model = KMeans(n_clusters=7, random_state= 42)\n",
    "model.fit(tube_blind.iloc[:, :]) \n",
    "labels_b_7 = model.predict(tube_blind)\n",
    "silhouette = metrics.silhouette_score(tube_blind, labels_b_7, metric='euclidean')\n",
    "print(silhouette)\n",
    "ch_score=metrics.calinski_harabasz_score(tube_blind, labels_b_7)\n",
    "print(ch_score)\n",
    "DB_score=metrics.davies_bouldin_score(tube_blind, labels_b_7)\n",
    "print(DB_score)\n",
    "c_mat=contingency_matrix(tube_blind.index, labels_b_7)\n",
    "print(c_mat)"
   ]
  },
  {
   "cell_type": "code",
   "execution_count": 247,
   "metadata": {},
   "outputs": [],
   "source": [
    "labeled_df_b_7 = pd.DataFrame()"
   ]
  },
  {
   "cell_type": "code",
   "execution_count": 248,
   "metadata": {},
   "outputs": [],
   "source": [
    "labeled_df_b_7['sample'] = tube_blind.index\n",
    "labeled_df_b_7['labels'] = labels_b_7"
   ]
  },
  {
   "cell_type": "code",
   "execution_count": 254,
   "metadata": {},
   "outputs": [
    {
     "data": {
      "text/plain": [
       "sample  labels\n",
       "T_B5    6         1000\n",
       "T_B3    6         1000\n",
       "T_B1    6         1000\n",
       "T_B6    0          998\n",
       "T_B8    1          998\n",
       "T_B4    4          964\n",
       "T_B2    2          787\n",
       "T_B7    3          528\n",
       "        5          457\n",
       "T_B2    5          178\n",
       "T_B4    0           36\n",
       "T_B2    3           26\n",
       "T_B7    6            8\n",
       "T_B2    6            8\n",
       "T_B7    2            5\n",
       "        1            2\n",
       "T_B6    4            2\n",
       "T_B8    6            2\n",
       "T_B2    1            1\n",
       "dtype: int64"
      ]
     },
     "execution_count": 254,
     "metadata": {},
     "output_type": "execute_result"
    }
   ],
   "source": [
    "labeled_df_b_7.value_counts()"
   ]
  },
  {
   "cell_type": "code",
   "execution_count": 255,
   "metadata": {},
   "outputs": [
    {
     "name": "stdout",
     "output_type": "stream",
     "text": [
      "0.243442332382556\n",
      "9309.1244729399\n",
      "1.585910874344858\n",
      "[[566   0   0   0   0 434   0   0]\n",
      " [ 11   0 786  28   0   1 174   0]\n",
      " [ 91   0   0   0   0 909   0   0]\n",
      " [  0  36   0   0   0   0   0 964]\n",
      " [696   0   0   0   0 304   0   0]\n",
      " [  0 998   0   0   0   0   0   2]\n",
      " [ 11   0   5 533   0   5 446   0]\n",
      " [  1   0   0   0 998   1   0   0]]\n"
     ]
    }
   ],
   "source": [
    "from sklearn.metrics.cluster import contingency_matrix\n",
    "#test blind sample:\n",
    "model = KMeans(n_clusters=8, random_state= 42)\n",
    "model.fit(tube_blind.iloc[:, :]) \n",
    "labels_b_8 = model.predict(tube_blind)\n",
    "silhouette = metrics.silhouette_score(tube_blind, labels_b_8, metric='euclidean')\n",
    "print(silhouette)\n",
    "ch_score=metrics.calinski_harabasz_score(tube_blind, labels_b_8)\n",
    "print(ch_score)\n",
    "DB_score=metrics.davies_bouldin_score(tube_blind, labels_b_8)\n",
    "print(DB_score)\n",
    "c_mat=contingency_matrix(tube_blind.index, labels_b_8)\n",
    "print(c_mat)"
   ]
  },
  {
   "cell_type": "code",
   "execution_count": 256,
   "metadata": {},
   "outputs": [],
   "source": [
    "labeled_df_b_8 = pd.DataFrame()"
   ]
  },
  {
   "cell_type": "code",
   "execution_count": 257,
   "metadata": {},
   "outputs": [],
   "source": [
    "labeled_df_b_8['sample'] = tube_blind.index\n",
    "labeled_df_b_8['labels'] = labels_b_8"
   ]
  },
  {
   "cell_type": "code",
   "execution_count": 258,
   "metadata": {},
   "outputs": [
    {
     "data": {
      "text/plain": [
       "sample  labels\n",
       "T_B6    1         998\n",
       "T_B8    4         998\n",
       "T_B4    7         964\n",
       "T_B3    5         909\n",
       "T_B2    2         786\n",
       "T_B5    0         696\n",
       "T_B1    0         566\n",
       "T_B7    3         533\n",
       "        6         446\n",
       "T_B1    5         434\n",
       "T_B5    5         304\n",
       "T_B2    6         174\n",
       "T_B3    0          91\n",
       "T_B4    1          36\n",
       "T_B2    3          28\n",
       "T_B7    0          11\n",
       "T_B2    0          11\n",
       "T_B7    2           5\n",
       "        5           5\n",
       "T_B6    7           2\n",
       "T_B2    5           1\n",
       "T_B8    0           1\n",
       "        5           1\n",
       "dtype: int64"
      ]
     },
     "execution_count": 258,
     "metadata": {},
     "output_type": "execute_result"
    }
   ],
   "source": [
    "labeled_df_b_8.value_counts()"
   ]
  },
  {
   "cell_type": "markdown",
   "metadata": {},
   "source": [
    "### Conclusion - I"
   ]
  },
  {
   "cell_type": "markdown",
   "metadata": {},
   "source": [
    "From the above clustering patterns we can conclude that\n",
    "- {T_B1, T_B3, T_B5} = {T_AR, T_HAZ_T, T_T} not mapped one to one\n",
    "-  T_B8 = T_OT\n",
    "- {T_B4, T_B6}= {T_N, T_HAZ}  not mapped one to one\n",
    "- {T_B7, T_B2}= {T_FF, T_N_T} not mapped one to one"
   ]
  },
  {
   "cell_type": "code",
   "execution_count": 63,
   "metadata": {},
   "outputs": [
    {
     "data": {
      "text/plain": [
       "(16000, 8)"
      ]
     },
     "execution_count": 63,
     "metadata": {},
     "output_type": "execute_result"
    }
   ],
   "source": [
    "tube.shape"
   ]
  },
  {
   "cell_type": "code",
   "execution_count": 64,
   "metadata": {},
   "outputs": [
    {
     "name": "stdout",
     "output_type": "stream",
     "text": [
      "0.30786537834960825\n",
      "18044.51101315128\n",
      "1.4963653966661346\n",
      "[[ 999    0    0    0    1    0]\n",
      " [1000    0    0    0    0    0]\n",
      " [  12    0  208    0    1  779]\n",
      " [1000    0    0    0    0    0]\n",
      " [   0  273    0  727    0    0]\n",
      " [1000    0    0    0    0    0]\n",
      " [   0 1000    0    0    0    0]\n",
      " [  28    0  868    0    1  103]\n",
      " [   0    0    0    0 1000    0]\n",
      " [   8    0   45    0    0  947]\n",
      " [   0  991    0    9    0    0]\n",
      " [ 890    0   49    0   20   41]\n",
      " [   0   41    0  959    0    0]\n",
      " [   9    0  505    0    1  485]\n",
      " [  11    0    0    0  989    0]\n",
      " [1000    0    0    0    0    0]]\n"
     ]
    }
   ],
   "source": [
    "from sklearn.metrics.cluster import contingency_matrix\n",
    "#test blind sample:\n",
    "model = KMeans(n_clusters=6, random_state= 42)\n",
    "model.fit(tube.iloc[:, :]) \n",
    "labels_tube = model.predict(tube)\n",
    "silhouette = metrics.silhouette_score(tube, labels_tube, metric='euclidean')\n",
    "print(silhouette)\n",
    "ch_score=metrics.calinski_harabasz_score(tube, labels_tube)\n",
    "print(ch_score)\n",
    "DB_score=metrics.davies_bouldin_score(tube, labels_tube)\n",
    "print(DB_score)\n",
    "c_mat=contingency_matrix(tube.index, labels_tube)\n",
    "print(c_mat)"
   ]
  },
  {
   "cell_type": "code",
   "execution_count": 68,
   "metadata": {},
   "outputs": [],
   "source": [
    "labeled_df_tube = pd.DataFrame()"
   ]
  },
  {
   "cell_type": "code",
   "execution_count": 69,
   "metadata": {},
   "outputs": [],
   "source": [
    "labeled_df_tube['sample'] = tube.index\n",
    "labeled_df_tube['labels'] = labels_tube"
   ]
  },
  {
   "cell_type": "code",
   "execution_count": 70,
   "metadata": {},
   "outputs": [
    {
     "data": {
      "text/plain": [
       "sample   labels\n",
       "T_T      0         1000\n",
       "T_B8     4         1000\n",
       "T_B1     0         1000\n",
       "T_B3     0         1000\n",
       "T_B5     0         1000\n",
       "T_B6     1         1000\n",
       "T_AR     0          999\n",
       "T_HAZ    1          991\n",
       "T_OT     4          989\n",
       "T_N      3          959\n",
       "T_FF     5          947\n",
       "T_HAZ_T  0          890\n",
       "T_B7     2          868\n",
       "T_B2     5          779\n",
       "T_B4     3          727\n",
       "T_N_T    2          505\n",
       "         5          485\n",
       "T_B4     1          273\n",
       "T_B2     2          208\n",
       "T_B7     5          103\n",
       "T_HAZ_T  2           49\n",
       "T_FF     2           45\n",
       "T_N      1           41\n",
       "T_HAZ_T  5           41\n",
       "T_B7     0           28\n",
       "T_HAZ_T  4           20\n",
       "T_B2     0           12\n",
       "T_OT     0           11\n",
       "T_N_T    0            9\n",
       "T_HAZ    3            9\n",
       "T_FF     0            8\n",
       "T_B2     4            1\n",
       "T_B7     4            1\n",
       "T_AR     4            1\n",
       "T_N_T    4            1\n",
       "dtype: int64"
      ]
     },
     "execution_count": 70,
     "metadata": {},
     "output_type": "execute_result"
    }
   ],
   "source": [
    "labeled_df_tube.value_counts()"
   ]
  },
  {
   "cell_type": "markdown",
   "metadata": {},
   "source": [
    "### Conclusion - II"
   ]
  },
  {
   "cell_type": "markdown",
   "metadata": {},
   "source": [
    "From the above clustering pattern we can  further classify \n",
    "\n",
    "-    {T_B1, T_B3, T_B5} = {T_AR, T_HAZ_T, T_T} not mapped one to one\n",
    "-    T_B8 = T_OT\n",
    "-    T_B4 = T_N \n",
    "-    T_B6 = T_HAZ\n",
    "-    {T_B7, T_B2}= {T_FF, T_N_T} not mapped one to one\n",
    "-    T_B2 more likely to be T_FF and T_B7 to be T_N_T"
   ]
  },
  {
   "cell_type": "code",
   "execution_count": null,
   "metadata": {},
   "outputs": [],
   "source": []
  }
 ],
 "metadata": {
  "kernelspec": {
   "display_name": "Python 3",
   "language": "python",
   "name": "python3"
  },
  "language_info": {
   "codemirror_mode": {
    "name": "ipython",
    "version": 3
   },
   "file_extension": ".py",
   "mimetype": "text/x-python",
   "name": "python",
   "nbconvert_exporter": "python",
   "pygments_lexer": "ipython3",
   "version": "3.8.5"
  }
 },
 "nbformat": 4,
 "nbformat_minor": 4
}
