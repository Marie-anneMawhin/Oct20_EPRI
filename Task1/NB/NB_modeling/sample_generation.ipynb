{
 "cells": [
  {
   "cell_type": "code",
   "execution_count": 34,
   "metadata": {},
   "outputs": [
    {
     "data": {
      "text/plain": [
       "<module 'epri_mc_lib' from '/home/marie-anne/code/Oct20_EPRI/Task1/NB/epri_mc_lib.py'>"
      ]
     },
     "execution_count": 34,
     "metadata": {},
     "output_type": "execute_result"
    }
   ],
   "source": [
    "import pandas as pd\n",
    "import numpy as np\n",
    "import os, sys, glob, inspect\n",
    "\n",
    "currentdir = os.path.dirname(os.path.abspath(inspect.getfile(inspect.currentframe())))\n",
    "parentdir = os.path.dirname(currentdir)\n",
    "sys.path.insert(0,parentdir) \n",
    "import epri_mc_lib as mc\n",
    "from importlib import reload\n",
    "reload(mc)\n"
   ]
  },
  {
   "cell_type": "markdown",
   "metadata": {},
   "source": [
    "## Generate synthetic data\n",
    "\n",
    "This notebook generates synthetic data from sample measurements to give a measure of the uncertainty of the data. When drawing the new samples the features are assumed to be independent. A new sample for a given condition is created by drawing a value for each feature from a normal distribution with the mean and standard deviation of that feature for that condition. 1000 synthetic samples are created for each condition.\n",
    "\n",
    "Output file is saved in Data/Merged_data/ALL_TUBE_PIPE_simulated.csv"
   ]
  },
  {
   "cell_type": "code",
   "execution_count": 35,
   "metadata": {},
   "outputs": [],
   "source": [
    "data_path = \"../../Data/Merged_data\"\n",
    "merged_data = pd.read_csv(os.path.join(data_path, 'ALL_TUBE_PIPE_merge_1.csv'), \n",
    "                 index_col=0)\n"
   ]
  },
  {
   "cell_type": "code",
   "execution_count": 36,
   "metadata": {},
   "outputs": [],
   "source": [
    "num_samples_generated = 1000"
   ]
  },
  {
   "cell_type": "markdown",
   "metadata": {},
   "source": [
    "For now we're throwing out the pipe data and only working with tubes."
   ]
  },
  {
   "cell_type": "code",
   "execution_count": 37,
   "metadata": {},
   "outputs": [],
   "source": [
    "tube, pipe, tube_wo_blind, tube_blind = mc.get_subsample_df(merged_data)"
   ]
  },
  {
   "cell_type": "code",
   "execution_count": 39,
   "metadata": {},
   "outputs": [
    {
     "name": "stdout",
     "output_type": "stream",
     "text": [
      "      Condition  TEP_mean_uV_C  Absorption_avg_500  backscatter_avg  \\\n",
      "0          T_B1      12.887224            0.000252         0.020317   \n",
      "1          T_B1      12.904167            0.000194         0.011580   \n",
      "2          T_B1      12.848012            0.000247         0.027738   \n",
      "3          T_B1      12.968064            0.000210         0.019859   \n",
      "4          T_B1      12.927068            0.000233         0.013641   \n",
      "...         ...            ...                 ...              ...   \n",
      "15995   T_HAZ_T      12.948355            0.000329         0.020244   \n",
      "15996   T_HAZ_T      12.940969            0.000244         0.022487   \n",
      "15997   T_HAZ_T      13.038192            0.000599         0.029502   \n",
      "15998   T_HAZ_T      13.044431            0.000271         0.020341   \n",
      "15999   T_HAZ_T      12.895002            0.000371         0.020657   \n",
      "\n",
      "       Absorption_avg_50             A         B         p  \\\n",
      "0               0.001931  1.202073e-07  0.001092  0.221759   \n",
      "1               0.001121  2.614525e-08  0.000801  0.214616   \n",
      "2               0.001309 -3.440295e-07  0.000691  0.173157   \n",
      "3               0.001921 -5.656336e-07  0.000864  0.213791   \n",
      "4               0.001425  4.191747e-07  0.000408  0.192750   \n",
      "...                  ...           ...       ...       ...   \n",
      "15995           0.001145  7.724636e-08  0.000616  0.293019   \n",
      "15996           0.000813 -2.871885e-07  0.000270  0.181872   \n",
      "15997           0.001371  4.052387e-07  0.000522  0.268545   \n",
      "15998           0.001204 -5.757610e-07  0.000753  0.220284   \n",
      "15999           0.000978 -1.544347e-06  0.000956  0.212205   \n",
      "\n",
      "       Absorption_avg_100  Absorption_avg_200   mean_CF  mean_perm  mean_MBN  \n",
      "0                0.000886            0.000301  1.087656  68.832934  0.453917  \n",
      "1                0.000605            0.000316  1.094037  67.753088  0.435966  \n",
      "2                0.000556            0.000428  1.098203  67.872952  0.539143  \n",
      "3                0.000746            0.000602  1.117724  65.970169  0.301158  \n",
      "4                0.000777            0.000419  1.095836  68.614324  0.472276  \n",
      "...                   ...                 ...       ...        ...       ...  \n",
      "15995            0.000768            0.000665  1.103950  71.464349  0.467974  \n",
      "15996            0.000688            0.000511  1.110538  67.600032  1.204113  \n",
      "15997            0.000481            0.000370  1.096371  66.768605  0.883852  \n",
      "15998            0.001031            0.000583  1.105441  69.469461  0.227863  \n",
      "15999            0.000724            0.000550  1.094896  71.511002  0.773705  \n",
      "\n",
      "[16000 rows x 13 columns]\n"
     ]
    }
   ],
   "source": [
    "final_generated_data = pd.DataFrame(columns = [\"Condition\"] + mc.data_generation_values)\n",
    "\n",
    "for index, row in tube.iterrows():\n",
    "    generated_samples = pd.DataFrame(num_samples_generated * [index])\n",
    "    generated_samples.columns = [\"Condition\"]\n",
    "    for value_col, std_col in zip(mc.data_generation_values, mc.data_generation_stds):\n",
    "        generated_samples[value_col] = pd.DataFrame(np.random.normal(tube.loc[index,value_col], \n",
    "              tube.loc[index,std_col], num_samples_generated))\n",
    "    final_generated_data = final_generated_data.append(generated_samples, ignore_index = True)\n",
    "\n",
    "print(final_generated_data)"
   ]
  },
  {
   "cell_type": "code",
   "execution_count": 40,
   "metadata": {},
   "outputs": [],
   "source": [
    "final_generated_data.to_csv(os.path.join(data_path, 'ALL_TUBE_PIPE_simulated.csv'), index=False)"
   ]
  },
  {
   "cell_type": "code",
   "execution_count": null,
   "metadata": {},
   "outputs": [],
   "source": []
  }
 ],
 "metadata": {
  "kernelspec": {
   "display_name": "Python 3",
   "language": "python",
   "name": "python3"
  },
  "language_info": {
   "codemirror_mode": {
    "name": "ipython",
    "version": 3
   },
   "file_extension": ".py",
   "mimetype": "text/x-python",
   "name": "python",
   "nbconvert_exporter": "python",
   "pygments_lexer": "ipython3",
   "version": "3.7.6"
  }
 },
 "nbformat": 4,
 "nbformat_minor": 4
}
