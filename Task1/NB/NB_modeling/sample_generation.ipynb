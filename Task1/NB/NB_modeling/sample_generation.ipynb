{
 "cells": [
  {
   "cell_type": "code",
   "execution_count": 11,
   "metadata": {},
   "outputs": [
    {
     "data": {
      "text/plain": [
       "<module 'epri_mc_lib' from '/home/marie-anne/code/Oct20_EPRI/Task1/NB/epri_mc_lib.py'>"
      ]
     },
     "execution_count": 11,
     "metadata": {},
     "output_type": "execute_result"
    }
   ],
   "source": [
    "import pandas as pd\n",
    "import numpy as np\n",
    "import os, sys, glob, inspect\n",
    "\n",
    "currentdir = os.path.dirname(os.path.abspath(inspect.getfile(inspect.currentframe())))\n",
    "parentdir = os.path.dirname(currentdir)\n",
    "sys.path.insert(0,parentdir) \n",
    "import epri_mc_lib as mc\n",
    "from importlib import reload\n",
    "reload(mc)\n"
   ]
  },
  {
   "cell_type": "markdown",
   "metadata": {},
   "source": [
    "## Generate artificial data\n",
    "\n",
    "This notebook generates artifical data from sample measurements. The new samples are drawn from a normal distribution with a mean and standard deviation based on the mean/median and standard deviation of every feature. "
   ]
  },
  {
   "cell_type": "code",
   "execution_count": 12,
   "metadata": {},
   "outputs": [],
   "source": [
    "data_path = \"../../Data/Merged_data\"\n",
    "merged_data = pd.read_csv(os.path.join(data_path, 'ALL_TUBE_PIPE_merge_1.csv'), \n",
    "                 index_col=0)\n"
   ]
  },
  {
   "cell_type": "code",
   "execution_count": 13,
   "metadata": {},
   "outputs": [],
   "source": [
    "num_samples_generated = 1000"
   ]
  },
  {
   "cell_type": "markdown",
   "metadata": {},
   "source": [
    "For now we're throwing out the pipe data and only working with tubes."
   ]
  },
  {
   "cell_type": "code",
   "execution_count": 17,
   "metadata": {},
   "outputs": [],
   "source": [
    "tube, pipe, tube_wo_blind, tube_blind = mc.get_subsample_df(merged_data)"
   ]
  },
  {
   "cell_type": "code",
   "execution_count": 21,
   "metadata": {},
   "outputs": [
    {
     "name": "stdout",
     "output_type": "stream",
     "text": [
      "      Condition  TEP_mean_uV_C  Absorption_avg_500  backscatter_avg  \\\n",
      "0          T_B1      13.059389            0.000223         0.018264   \n",
      "1          T_B1      12.857076            0.000227         0.016573   \n",
      "2          T_B1      12.933789            0.000231         0.013513   \n",
      "3          T_B1      12.909335            0.000257         0.014531   \n",
      "4          T_B1      12.813608            0.000202         0.016312   \n",
      "...         ...            ...                 ...              ...   \n",
      "15995   T_HAZ_T      12.833277            0.000442         0.014146   \n",
      "15996   T_HAZ_T      13.041241            0.000325         0.026524   \n",
      "15997   T_HAZ_T      12.988494            0.000380         0.021882   \n",
      "15998   T_HAZ_T      13.064102            0.000506         0.025737   \n",
      "15999   T_HAZ_T      12.898197            0.000380         0.011041   \n",
      "\n",
      "       Absorption_avg_50             A         B         p  \\\n",
      "0               0.001092 -3.169593e-07  0.000808  0.198277   \n",
      "1               0.002256  7.757837e-07  0.000795  0.243065   \n",
      "2               0.000792  4.116799e-07  0.000979  0.168739   \n",
      "3               0.001572 -2.818840e-07  0.000711  0.219011   \n",
      "4               0.001277 -3.135979e-07  0.000976  0.188611   \n",
      "...                  ...           ...       ...       ...   \n",
      "15995           0.001699  1.933401e-07  0.000803  0.241507   \n",
      "15996           0.000967 -4.724827e-07  0.000577  0.244369   \n",
      "15997           0.001716  8.733555e-08  0.000953  0.212119   \n",
      "15998           0.001168 -8.470573e-07  0.000549  0.255603   \n",
      "15999           0.001940  4.436604e-07  0.000283  0.235489   \n",
      "\n",
      "       Absorption_avg_100  Absorption_avg_200  median_CF  median_perm  \\\n",
      "0                0.000469            0.000300   1.114112    67.853503   \n",
      "1                0.000666            0.000488   1.097555    68.923871   \n",
      "2                0.000398            0.000370   1.100158    66.787739   \n",
      "3                0.000817            0.000218   1.092135    71.420940   \n",
      "4                0.000534            0.000283   1.111787    67.395337   \n",
      "...                   ...                 ...        ...          ...   \n",
      "15995            0.001578            0.000471   1.103743    70.949876   \n",
      "15996            0.000473            0.000370   1.095256    70.912126   \n",
      "15997            0.000673            0.000557   1.109199    69.697719   \n",
      "15998            0.000871            0.000340   1.092118    70.095430   \n",
      "15999            0.000971            0.000212   1.101305    68.642470   \n",
      "\n",
      "       median_MBN  \n",
      "0        0.632442  \n",
      "1        0.439416  \n",
      "2        0.428069  \n",
      "3        0.267911  \n",
      "4        0.277365  \n",
      "...           ...  \n",
      "15995    0.457071  \n",
      "15996    0.526242  \n",
      "15997   -0.135760  \n",
      "15998    0.277735  \n",
      "15999    0.667798  \n",
      "\n",
      "[16000 rows x 13 columns]\n"
     ]
    }
   ],
   "source": [
    "final_generated_data = pd.DataFrame(columns = [\"Condition\"] + mc.data_generation_values)\n",
    "\n",
    "for index, row in tube.iterrows():\n",
    "    generated_samples = pd.DataFrame(num_samples_generated * [index])\n",
    "    generated_samples.columns = [\"Condition\"]\n",
    "    for value_col, std_col in zip(mc.data_generation_values, mc.data_generation_stds):\n",
    "        generated_samples[value_col] = pd.DataFrame(np.random.normal(merged_tubes.loc[index,value_col], \n",
    "              merged_tubes.loc[index,std_col], num_samples_generated))\n",
    "    final_generated_data = final_generated_data.append(generated_samples, ignore_index = True)\n",
    "\n",
    "print(final_generated_data)"
   ]
  },
  {
   "cell_type": "code",
   "execution_count": 22,
   "metadata": {},
   "outputs": [],
   "source": [
    "final_generated_data.to_csv(os.path.join(data_path, 'ALL_TUBE_PIPE_simulated.csv'), index=False)"
   ]
  },
  {
   "cell_type": "code",
   "execution_count": null,
   "metadata": {},
   "outputs": [],
   "source": []
  }
 ],
 "metadata": {
  "kernelspec": {
   "display_name": "Python 3",
   "language": "python",
   "name": "python3"
  },
  "language_info": {
   "codemirror_mode": {
    "name": "ipython",
    "version": 3
   },
   "file_extension": ".py",
   "mimetype": "text/x-python",
   "name": "python",
   "nbconvert_exporter": "python",
   "pygments_lexer": "ipython3",
   "version": "3.8.5"
  }
 },
 "nbformat": 4,
 "nbformat_minor": 4
}
