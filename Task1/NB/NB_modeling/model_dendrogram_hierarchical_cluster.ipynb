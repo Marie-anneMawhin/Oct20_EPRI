{
 "cells": [
  {
   "cell_type": "code",
   "execution_count": 105,
   "metadata": {},
   "outputs": [
    {
     "data": {
      "text/plain": [
       "<module 'epri_mc_lib' from '/home/marie-anne/code/Oct20_EPRI/Task1/NB/epri_mc_lib.py'>"
      ]
     },
     "execution_count": 105,
     "metadata": {},
     "output_type": "execute_result"
    }
   ],
   "source": [
    "import pandas as pd\n",
    "import numpy as np\n",
    "import matplotlib.pyplot as plt\n",
    "import seaborn as sns\n",
    "from scipy.cluster import hierarchy\n",
    "from scipy.spatial.distance import pdist\n",
    "from sklearn.preprocessing import MinMaxScaler, StandardScaler\n",
    "import os, glob, inspect, sys\n",
    "\n",
    "currentdir = os.path.dirname(os.path.abspath(inspect.getfile(inspect.currentframe())))\n",
    "parentdir = os.path.dirname(currentdir)\n",
    "sys.path.insert(0,parentdir) \n",
    "import epri_mc_lib as mc\n",
    "from importlib import reload\n",
    "reload(mc)"
   ]
  },
  {
   "cell_type": "markdown",
   "metadata": {},
   "source": [
    "# Import data"
   ]
  },
  {
   "cell_type": "code",
   "execution_count": 3,
   "metadata": {},
   "outputs": [
    {
     "data": {
      "text/html": [
       "<div>\n",
       "<style scoped>\n",
       "    .dataframe tbody tr th:only-of-type {\n",
       "        vertical-align: middle;\n",
       "    }\n",
       "\n",
       "    .dataframe tbody tr th {\n",
       "        vertical-align: top;\n",
       "    }\n",
       "\n",
       "    .dataframe thead th {\n",
       "        text-align: right;\n",
       "    }\n",
       "</style>\n",
       "<table border=\"1\" class=\"dataframe\">\n",
       "  <thead>\n",
       "    <tr style=\"text-align: right;\">\n",
       "      <th></th>\n",
       "      <th>TEP_mean_uV_C</th>\n",
       "      <th>TEP_error_uV_C</th>\n",
       "      <th>Absorption_avg_500</th>\n",
       "      <th>Absorption_std_500</th>\n",
       "      <th>backscatter_avg</th>\n",
       "      <th>backscatter_std</th>\n",
       "      <th>Absorption_avg_50</th>\n",
       "      <th>Absorption_std_50</th>\n",
       "      <th>A</th>\n",
       "      <th>A std</th>\n",
       "      <th>...</th>\n",
       "      <th>std_MBN</th>\n",
       "      <th>median_CF_g</th>\n",
       "      <th>mean_CF_g</th>\n",
       "      <th>std_CF_g</th>\n",
       "      <th>median_perm_g</th>\n",
       "      <th>mean_perm_g</th>\n",
       "      <th>std_perm_g</th>\n",
       "      <th>median_pMBN_g</th>\n",
       "      <th>mean_pMBN_g</th>\n",
       "      <th>std_pMBN_g</th>\n",
       "    </tr>\n",
       "  </thead>\n",
       "  <tbody>\n",
       "    <tr>\n",
       "      <th>T_B1</th>\n",
       "      <td>12.947951</td>\n",
       "      <td>0.073112</td>\n",
       "      <td>0.000234</td>\n",
       "      <td>0.000018</td>\n",
       "      <td>0.0175</td>\n",
       "      <td>0.0042</td>\n",
       "      <td>0.001264</td>\n",
       "      <td>0.000519</td>\n",
       "      <td>4.410000e-13</td>\n",
       "      <td>4.090000e-07</td>\n",
       "      <td>...</td>\n",
       "      <td>0.127282</td>\n",
       "      <td>NaN</td>\n",
       "      <td>NaN</td>\n",
       "      <td>NaN</td>\n",
       "      <td>NaN</td>\n",
       "      <td>NaN</td>\n",
       "      <td>NaN</td>\n",
       "      <td>NaN</td>\n",
       "      <td>NaN</td>\n",
       "      <td>NaN</td>\n",
       "    </tr>\n",
       "    <tr>\n",
       "      <th>T_B2</th>\n",
       "      <td>12.920068</td>\n",
       "      <td>0.077814</td>\n",
       "      <td>0.000571</td>\n",
       "      <td>0.000139</td>\n",
       "      <td>0.0240</td>\n",
       "      <td>0.0057</td>\n",
       "      <td>0.002486</td>\n",
       "      <td>0.000816</td>\n",
       "      <td>1.520000e-06</td>\n",
       "      <td>1.510000e-06</td>\n",
       "      <td>...</td>\n",
       "      <td>0.110443</td>\n",
       "      <td>NaN</td>\n",
       "      <td>NaN</td>\n",
       "      <td>NaN</td>\n",
       "      <td>NaN</td>\n",
       "      <td>NaN</td>\n",
       "      <td>NaN</td>\n",
       "      <td>NaN</td>\n",
       "      <td>NaN</td>\n",
       "      <td>NaN</td>\n",
       "    </tr>\n",
       "    <tr>\n",
       "      <th>T_B3</th>\n",
       "      <td>12.932865</td>\n",
       "      <td>0.088762</td>\n",
       "      <td>0.000244</td>\n",
       "      <td>0.000030</td>\n",
       "      <td>0.0134</td>\n",
       "      <td>0.0028</td>\n",
       "      <td>0.001168</td>\n",
       "      <td>0.000555</td>\n",
       "      <td>4.270000e-13</td>\n",
       "      <td>5.640000e-07</td>\n",
       "      <td>...</td>\n",
       "      <td>0.178157</td>\n",
       "      <td>NaN</td>\n",
       "      <td>NaN</td>\n",
       "      <td>NaN</td>\n",
       "      <td>NaN</td>\n",
       "      <td>NaN</td>\n",
       "      <td>NaN</td>\n",
       "      <td>NaN</td>\n",
       "      <td>NaN</td>\n",
       "      <td>NaN</td>\n",
       "    </tr>\n",
       "    <tr>\n",
       "      <th>T_B4</th>\n",
       "      <td>10.763517</td>\n",
       "      <td>0.071173</td>\n",
       "      <td>0.000379</td>\n",
       "      <td>0.000100</td>\n",
       "      <td>0.0146</td>\n",
       "      <td>0.0031</td>\n",
       "      <td>0.002084</td>\n",
       "      <td>0.000648</td>\n",
       "      <td>7.580000e-07</td>\n",
       "      <td>1.000000e-06</td>\n",
       "      <td>...</td>\n",
       "      <td>0.052547</td>\n",
       "      <td>NaN</td>\n",
       "      <td>NaN</td>\n",
       "      <td>NaN</td>\n",
       "      <td>NaN</td>\n",
       "      <td>NaN</td>\n",
       "      <td>NaN</td>\n",
       "      <td>NaN</td>\n",
       "      <td>NaN</td>\n",
       "      <td>NaN</td>\n",
       "    </tr>\n",
       "    <tr>\n",
       "      <th>T_B5</th>\n",
       "      <td>12.942958</td>\n",
       "      <td>0.074808</td>\n",
       "      <td>0.000230</td>\n",
       "      <td>0.000033</td>\n",
       "      <td>0.0182</td>\n",
       "      <td>0.0040</td>\n",
       "      <td>0.001141</td>\n",
       "      <td>0.000447</td>\n",
       "      <td>3.970000e-13</td>\n",
       "      <td>4.670000e-07</td>\n",
       "      <td>...</td>\n",
       "      <td>0.042655</td>\n",
       "      <td>NaN</td>\n",
       "      <td>NaN</td>\n",
       "      <td>NaN</td>\n",
       "      <td>NaN</td>\n",
       "      <td>NaN</td>\n",
       "      <td>NaN</td>\n",
       "      <td>NaN</td>\n",
       "      <td>NaN</td>\n",
       "      <td>NaN</td>\n",
       "    </tr>\n",
       "  </tbody>\n",
       "</table>\n",
       "<p>5 rows × 36 columns</p>\n",
       "</div>"
      ],
      "text/plain": [
       "      TEP_mean_uV_C  TEP_error_uV_C  Absorption_avg_500  Absorption_std_500  \\\n",
       "T_B1      12.947951        0.073112            0.000234            0.000018   \n",
       "T_B2      12.920068        0.077814            0.000571            0.000139   \n",
       "T_B3      12.932865        0.088762            0.000244            0.000030   \n",
       "T_B4      10.763517        0.071173            0.000379            0.000100   \n",
       "T_B5      12.942958        0.074808            0.000230            0.000033   \n",
       "\n",
       "      backscatter_avg  backscatter_std  Absorption_avg_50  Absorption_std_50  \\\n",
       "T_B1           0.0175           0.0042           0.001264           0.000519   \n",
       "T_B2           0.0240           0.0057           0.002486           0.000816   \n",
       "T_B3           0.0134           0.0028           0.001168           0.000555   \n",
       "T_B4           0.0146           0.0031           0.002084           0.000648   \n",
       "T_B5           0.0182           0.0040           0.001141           0.000447   \n",
       "\n",
       "                 A         A std  ...   std_MBN  median_CF_g  mean_CF_g  \\\n",
       "T_B1  4.410000e-13  4.090000e-07  ...  0.127282          NaN        NaN   \n",
       "T_B2  1.520000e-06  1.510000e-06  ...  0.110443          NaN        NaN   \n",
       "T_B3  4.270000e-13  5.640000e-07  ...  0.178157          NaN        NaN   \n",
       "T_B4  7.580000e-07  1.000000e-06  ...  0.052547          NaN        NaN   \n",
       "T_B5  3.970000e-13  4.670000e-07  ...  0.042655          NaN        NaN   \n",
       "\n",
       "      std_CF_g  median_perm_g  mean_perm_g  std_perm_g  median_pMBN_g  \\\n",
       "T_B1       NaN            NaN          NaN         NaN            NaN   \n",
       "T_B2       NaN            NaN          NaN         NaN            NaN   \n",
       "T_B3       NaN            NaN          NaN         NaN            NaN   \n",
       "T_B4       NaN            NaN          NaN         NaN            NaN   \n",
       "T_B5       NaN            NaN          NaN         NaN            NaN   \n",
       "\n",
       "      mean_pMBN_g  std_pMBN_g  \n",
       "T_B1          NaN         NaN  \n",
       "T_B2          NaN         NaN  \n",
       "T_B3          NaN         NaN  \n",
       "T_B4          NaN         NaN  \n",
       "T_B5          NaN         NaN  \n",
       "\n",
       "[5 rows x 36 columns]"
      ]
     },
     "execution_count": 3,
     "metadata": {},
     "output_type": "execute_result"
    }
   ],
   "source": [
    "data_path = \"../../Data/Merged_data\"\n",
    "df = pd.read_csv(os.path.join(data_path, 'ALL_TUBE_PIPE_merge_1.csv'), \n",
    "                 index_col=0)\n",
    "df.head()"
   ]
  },
  {
   "cell_type": "markdown",
   "metadata": {},
   "source": [
    "## Calculating new values"
   ]
  },
  {
   "cell_type": "code",
   "execution_count": 4,
   "metadata": {},
   "outputs": [],
   "source": [
    "calc_df = mc.updated_df(df, mc.measures_list, mc.errors_list)"
   ]
  },
  {
   "cell_type": "code",
   "execution_count": 5,
   "metadata": {
    "collapsed": true,
    "jupyter": {
     "outputs_hidden": true
    }
   },
   "outputs": [
    {
     "data": {
      "text/html": [
       "<div>\n",
       "<style scoped>\n",
       "    .dataframe tbody tr th:only-of-type {\n",
       "        vertical-align: middle;\n",
       "    }\n",
       "\n",
       "    .dataframe tbody tr th {\n",
       "        vertical-align: top;\n",
       "    }\n",
       "\n",
       "    .dataframe thead th {\n",
       "        text-align: right;\n",
       "    }\n",
       "</style>\n",
       "<table border=\"1\" class=\"dataframe\">\n",
       "  <thead>\n",
       "    <tr style=\"text-align: right;\">\n",
       "      <th></th>\n",
       "      <th>TEP_mean_uV_C</th>\n",
       "      <th>TEP_error_uV_C</th>\n",
       "      <th>Absorption_avg_500</th>\n",
       "      <th>Absorption_std_500</th>\n",
       "      <th>backscatter_avg</th>\n",
       "      <th>backscatter_std</th>\n",
       "      <th>Absorption_avg_50</th>\n",
       "      <th>Absorption_std_50</th>\n",
       "      <th>A</th>\n",
       "      <th>A std</th>\n",
       "      <th>...</th>\n",
       "      <th>mean_CF_UB</th>\n",
       "      <th>mean_perm_UB</th>\n",
       "      <th>mean_MBN_UB</th>\n",
       "      <th>mean_CF_g_UB</th>\n",
       "      <th>mean_perm_g_UB</th>\n",
       "      <th>mean_pMBN_g_UB</th>\n",
       "      <th>AUC_avg</th>\n",
       "      <th>AUC_LB</th>\n",
       "      <th>AUC_UB</th>\n",
       "      <th>CF_perm</th>\n",
       "    </tr>\n",
       "  </thead>\n",
       "  <tbody>\n",
       "    <tr>\n",
       "      <th>count</th>\n",
       "      <td>24.000000</td>\n",
       "      <td>24.000000</td>\n",
       "      <td>16.000000</td>\n",
       "      <td>16.000000</td>\n",
       "      <td>24.000000</td>\n",
       "      <td>16.000000</td>\n",
       "      <td>24.000000</td>\n",
       "      <td>24.000000</td>\n",
       "      <td>2.400000e+01</td>\n",
       "      <td>2.400000e+01</td>\n",
       "      <td>...</td>\n",
       "      <td>24.000000</td>\n",
       "      <td>24.000000</td>\n",
       "      <td>24.000000</td>\n",
       "      <td>8.000000</td>\n",
       "      <td>8.000000</td>\n",
       "      <td>8.000000</td>\n",
       "      <td>2.400000e+01</td>\n",
       "      <td>2.400000e+01</td>\n",
       "      <td>2.400000e+01</td>\n",
       "      <td>24.000000</td>\n",
       "    </tr>\n",
       "    <tr>\n",
       "      <th>mean</th>\n",
       "      <td>12.444946</td>\n",
       "      <td>0.094940</td>\n",
       "      <td>0.000356</td>\n",
       "      <td>0.000058</td>\n",
       "      <td>0.022125</td>\n",
       "      <td>0.004994</td>\n",
       "      <td>0.001851</td>\n",
       "      <td>0.000611</td>\n",
       "      <td>2.139557e-07</td>\n",
       "      <td>5.654833e-07</td>\n",
       "      <td>...</td>\n",
       "      <td>1.822804</td>\n",
       "      <td>78.999628</td>\n",
       "      <td>0.624929</td>\n",
       "      <td>1.045359</td>\n",
       "      <td>122.415019</td>\n",
       "      <td>0.733929</td>\n",
       "      <td>2.191276e+29</td>\n",
       "      <td>-3.082447e+32</td>\n",
       "      <td>3.086829e+32</td>\n",
       "      <td>0.035708</td>\n",
       "    </tr>\n",
       "    <tr>\n",
       "      <th>std</th>\n",
       "      <td>0.882849</td>\n",
       "      <td>0.024646</td>\n",
       "      <td>0.000108</td>\n",
       "      <td>0.000037</td>\n",
       "      <td>0.005491</td>\n",
       "      <td>0.001762</td>\n",
       "      <td>0.000614</td>\n",
       "      <td>0.000220</td>\n",
       "      <td>5.191123e-07</td>\n",
       "      <td>4.960846e-07</td>\n",
       "      <td>...</td>\n",
       "      <td>1.374562</td>\n",
       "      <td>30.530656</td>\n",
       "      <td>0.261966</td>\n",
       "      <td>0.356661</td>\n",
       "      <td>20.551191</td>\n",
       "      <td>0.320290</td>\n",
       "      <td>5.316607e+29</td>\n",
       "      <td>2.701088e+32</td>\n",
       "      <td>2.707234e+32</td>\n",
       "      <td>0.046948</td>\n",
       "    </tr>\n",
       "    <tr>\n",
       "      <th>min</th>\n",
       "      <td>10.763517</td>\n",
       "      <td>0.071173</td>\n",
       "      <td>0.000230</td>\n",
       "      <td>0.000018</td>\n",
       "      <td>0.013400</td>\n",
       "      <td>0.002800</td>\n",
       "      <td>0.000933</td>\n",
       "      <td>0.000210</td>\n",
       "      <td>2.010000e-13</td>\n",
       "      <td>9.860000e-08</td>\n",
       "      <td>...</td>\n",
       "      <td>0.684982</td>\n",
       "      <td>33.343728</td>\n",
       "      <td>0.307519</td>\n",
       "      <td>0.560895</td>\n",
       "      <td>83.640677</td>\n",
       "      <td>0.118188</td>\n",
       "      <td>2.058598e+23</td>\n",
       "      <td>-9.431157e+32</td>\n",
       "      <td>5.373251e+31</td>\n",
       "      <td>0.004611</td>\n",
       "    </tr>\n",
       "    <tr>\n",
       "      <th>25%</th>\n",
       "      <td>12.114038</td>\n",
       "      <td>0.077206</td>\n",
       "      <td>0.000273</td>\n",
       "      <td>0.000028</td>\n",
       "      <td>0.018125</td>\n",
       "      <td>0.003700</td>\n",
       "      <td>0.001373</td>\n",
       "      <td>0.000445</td>\n",
       "      <td>4.260000e-13</td>\n",
       "      <td>1.262500e-07</td>\n",
       "      <td>...</td>\n",
       "      <td>0.993936</td>\n",
       "      <td>63.035619</td>\n",
       "      <td>0.420057</td>\n",
       "      <td>0.901279</td>\n",
       "      <td>117.562287</td>\n",
       "      <td>0.614704</td>\n",
       "      <td>4.363003e+23</td>\n",
       "      <td>-3.672279e+32</td>\n",
       "      <td>6.873007e+31</td>\n",
       "      <td>0.008649</td>\n",
       "    </tr>\n",
       "    <tr>\n",
       "      <th>50%</th>\n",
       "      <td>12.926379</td>\n",
       "      <td>0.090211</td>\n",
       "      <td>0.000340</td>\n",
       "      <td>0.000049</td>\n",
       "      <td>0.022600</td>\n",
       "      <td>0.004650</td>\n",
       "      <td>0.001747</td>\n",
       "      <td>0.000598</td>\n",
       "      <td>1.152100e-10</td>\n",
       "      <td>4.440000e-07</td>\n",
       "      <td>...</td>\n",
       "      <td>1.124616</td>\n",
       "      <td>69.288131</td>\n",
       "      <td>0.594378</td>\n",
       "      <td>0.943838</td>\n",
       "      <td>124.250330</td>\n",
       "      <td>0.834045</td>\n",
       "      <td>1.179950e+26</td>\n",
       "      <td>-2.422169e+32</td>\n",
       "      <td>2.422169e+32</td>\n",
       "      <td>0.016523</td>\n",
       "    </tr>\n",
       "    <tr>\n",
       "      <th>75%</th>\n",
       "      <td>12.985953</td>\n",
       "      <td>0.102029</td>\n",
       "      <td>0.000415</td>\n",
       "      <td>0.000078</td>\n",
       "      <td>0.025700</td>\n",
       "      <td>0.005825</td>\n",
       "      <td>0.002148</td>\n",
       "      <td>0.000788</td>\n",
       "      <td>9.282500e-08</td>\n",
       "      <td>6.730000e-07</td>\n",
       "      <td>...</td>\n",
       "      <td>2.118732</td>\n",
       "      <td>107.016020</td>\n",
       "      <td>0.727303</td>\n",
       "      <td>1.161633</td>\n",
       "      <td>129.929706</td>\n",
       "      <td>0.918169</td>\n",
       "      <td>9.506884e+28</td>\n",
       "      <td>-6.861151e+31</td>\n",
       "      <td>3.676161e+32</td>\n",
       "      <td>0.026517</td>\n",
       "    </tr>\n",
       "    <tr>\n",
       "      <th>max</th>\n",
       "      <td>13.169977</td>\n",
       "      <td>0.182199</td>\n",
       "      <td>0.000571</td>\n",
       "      <td>0.000139</td>\n",
       "      <td>0.035900</td>\n",
       "      <td>0.008700</td>\n",
       "      <td>0.003377</td>\n",
       "      <td>0.001147</td>\n",
       "      <td>2.070000e-06</td>\n",
       "      <td>1.730000e-06</td>\n",
       "      <td>...</td>\n",
       "      <td>4.786578</td>\n",
       "      <td>138.008377</td>\n",
       "      <td>1.214995</td>\n",
       "      <td>1.733224</td>\n",
       "      <td>153.463592</td>\n",
       "      <td>1.087872</td>\n",
       "      <td>2.120038e+30</td>\n",
       "      <td>-5.360080e+31</td>\n",
       "      <td>9.434106e+32</td>\n",
       "      <td>0.139586</td>\n",
       "    </tr>\n",
       "  </tbody>\n",
       "</table>\n",
       "<p>8 rows × 70 columns</p>\n",
       "</div>"
      ],
      "text/plain": [
       "       TEP_mean_uV_C  TEP_error_uV_C  Absorption_avg_500  Absorption_std_500  \\\n",
       "count      24.000000       24.000000           16.000000           16.000000   \n",
       "mean       12.444946        0.094940            0.000356            0.000058   \n",
       "std         0.882849        0.024646            0.000108            0.000037   \n",
       "min        10.763517        0.071173            0.000230            0.000018   \n",
       "25%        12.114038        0.077206            0.000273            0.000028   \n",
       "50%        12.926379        0.090211            0.000340            0.000049   \n",
       "75%        12.985953        0.102029            0.000415            0.000078   \n",
       "max        13.169977        0.182199            0.000571            0.000139   \n",
       "\n",
       "       backscatter_avg  backscatter_std  Absorption_avg_50  Absorption_std_50  \\\n",
       "count        24.000000        16.000000          24.000000          24.000000   \n",
       "mean          0.022125         0.004994           0.001851           0.000611   \n",
       "std           0.005491         0.001762           0.000614           0.000220   \n",
       "min           0.013400         0.002800           0.000933           0.000210   \n",
       "25%           0.018125         0.003700           0.001373           0.000445   \n",
       "50%           0.022600         0.004650           0.001747           0.000598   \n",
       "75%           0.025700         0.005825           0.002148           0.000788   \n",
       "max           0.035900         0.008700           0.003377           0.001147   \n",
       "\n",
       "                  A         A std  ...  mean_CF_UB  mean_perm_UB  mean_MBN_UB  \\\n",
       "count  2.400000e+01  2.400000e+01  ...   24.000000     24.000000    24.000000   \n",
       "mean   2.139557e-07  5.654833e-07  ...    1.822804     78.999628     0.624929   \n",
       "std    5.191123e-07  4.960846e-07  ...    1.374562     30.530656     0.261966   \n",
       "min    2.010000e-13  9.860000e-08  ...    0.684982     33.343728     0.307519   \n",
       "25%    4.260000e-13  1.262500e-07  ...    0.993936     63.035619     0.420057   \n",
       "50%    1.152100e-10  4.440000e-07  ...    1.124616     69.288131     0.594378   \n",
       "75%    9.282500e-08  6.730000e-07  ...    2.118732    107.016020     0.727303   \n",
       "max    2.070000e-06  1.730000e-06  ...    4.786578    138.008377     1.214995   \n",
       "\n",
       "       mean_CF_g_UB  mean_perm_g_UB  mean_pMBN_g_UB       AUC_avg  \\\n",
       "count      8.000000        8.000000        8.000000  2.400000e+01   \n",
       "mean       1.045359      122.415019        0.733929  2.191276e+29   \n",
       "std        0.356661       20.551191        0.320290  5.316607e+29   \n",
       "min        0.560895       83.640677        0.118188  2.058598e+23   \n",
       "25%        0.901279      117.562287        0.614704  4.363003e+23   \n",
       "50%        0.943838      124.250330        0.834045  1.179950e+26   \n",
       "75%        1.161633      129.929706        0.918169  9.506884e+28   \n",
       "max        1.733224      153.463592        1.087872  2.120038e+30   \n",
       "\n",
       "             AUC_LB        AUC_UB    CF_perm  \n",
       "count  2.400000e+01  2.400000e+01  24.000000  \n",
       "mean  -3.082447e+32  3.086829e+32   0.035708  \n",
       "std    2.701088e+32  2.707234e+32   0.046948  \n",
       "min   -9.431157e+32  5.373251e+31   0.004611  \n",
       "25%   -3.672279e+32  6.873007e+31   0.008649  \n",
       "50%   -2.422169e+32  2.422169e+32   0.016523  \n",
       "75%   -6.861151e+31  3.676161e+32   0.026517  \n",
       "max   -5.360080e+31  9.434106e+32   0.139586  \n",
       "\n",
       "[8 rows x 70 columns]"
      ]
     },
     "execution_count": 5,
     "metadata": {},
     "output_type": "execute_result"
    }
   ],
   "source": [
    "calc_df.describe()"
   ]
  },
  {
   "cell_type": "markdown",
   "metadata": {},
   "source": [
    "## Scaling values"
   ]
  },
  {
   "cell_type": "code",
   "execution_count": 6,
   "metadata": {},
   "outputs": [
    {
     "data": {
      "text/html": [
       "<div>\n",
       "<style scoped>\n",
       "    .dataframe tbody tr th:only-of-type {\n",
       "        vertical-align: middle;\n",
       "    }\n",
       "\n",
       "    .dataframe tbody tr th {\n",
       "        vertical-align: top;\n",
       "    }\n",
       "\n",
       "    .dataframe thead th {\n",
       "        text-align: right;\n",
       "    }\n",
       "</style>\n",
       "<table border=\"1\" class=\"dataframe\">\n",
       "  <thead>\n",
       "    <tr style=\"text-align: right;\">\n",
       "      <th></th>\n",
       "      <th>TEP_mean_uV_C</th>\n",
       "      <th>TEP_error_uV_C</th>\n",
       "      <th>Absorption_avg_500</th>\n",
       "      <th>Absorption_std_500</th>\n",
       "      <th>backscatter_avg</th>\n",
       "      <th>backscatter_std</th>\n",
       "      <th>Absorption_avg_50</th>\n",
       "      <th>Absorption_std_50</th>\n",
       "      <th>A</th>\n",
       "      <th>A std</th>\n",
       "      <th>...</th>\n",
       "      <th>mean_CF_UB</th>\n",
       "      <th>mean_perm_UB</th>\n",
       "      <th>mean_MBN_UB</th>\n",
       "      <th>mean_CF_g_UB</th>\n",
       "      <th>mean_perm_g_UB</th>\n",
       "      <th>mean_pMBN_g_UB</th>\n",
       "      <th>AUC_avg</th>\n",
       "      <th>AUC_LB</th>\n",
       "      <th>AUC_UB</th>\n",
       "      <th>CF_perm</th>\n",
       "    </tr>\n",
       "  </thead>\n",
       "  <tbody>\n",
       "    <tr>\n",
       "      <th>T_B1</th>\n",
       "      <td>0.907738</td>\n",
       "      <td>0.017461</td>\n",
       "      <td>0.010566</td>\n",
       "      <td>0.000000</td>\n",
       "      <td>0.182222</td>\n",
       "      <td>0.237288</td>\n",
       "      <td>0.135434</td>\n",
       "      <td>0.330382</td>\n",
       "      <td>1.159420e-07</td>\n",
       "      <td>0.190266</td>\n",
       "      <td>...</td>\n",
       "      <td>0.104611</td>\n",
       "      <td>0.344640</td>\n",
       "      <td>0.334634</td>\n",
       "      <td>NaN</td>\n",
       "      <td>NaN</td>\n",
       "      <td>NaN</td>\n",
       "      <td>1.159429e-07</td>\n",
       "      <td>0.809257</td>\n",
       "      <td>0.190560</td>\n",
       "      <td>0.084813</td>\n",
       "    </tr>\n",
       "    <tr>\n",
       "      <th>T_B2</th>\n",
       "      <td>0.896151</td>\n",
       "      <td>0.059814</td>\n",
       "      <td>1.000000</td>\n",
       "      <td>1.000000</td>\n",
       "      <td>0.471111</td>\n",
       "      <td>0.491525</td>\n",
       "      <td>0.635434</td>\n",
       "      <td>0.646362</td>\n",
       "      <td>7.342995e-01</td>\n",
       "      <td>0.865146</td>\n",
       "      <td>...</td>\n",
       "      <td>0.106924</td>\n",
       "      <td>0.323728</td>\n",
       "      <td>0.446710</td>\n",
       "      <td>NaN</td>\n",
       "      <td>NaN</td>\n",
       "      <td>NaN</td>\n",
       "      <td>7.342995e-01</td>\n",
       "      <td>0.138599</td>\n",
       "      <td>0.864595</td>\n",
       "      <td>0.089542</td>\n",
       "    </tr>\n",
       "    <tr>\n",
       "      <th>T_B3</th>\n",
       "      <td>0.901469</td>\n",
       "      <td>0.158423</td>\n",
       "      <td>0.039918</td>\n",
       "      <td>0.098855</td>\n",
       "      <td>0.000000</td>\n",
       "      <td>0.000000</td>\n",
       "      <td>0.096154</td>\n",
       "      <td>0.368786</td>\n",
       "      <td>1.091788e-07</td>\n",
       "      <td>0.285276</td>\n",
       "      <td>...</td>\n",
       "      <td>0.100306</td>\n",
       "      <td>0.342209</td>\n",
       "      <td>0.510208</td>\n",
       "      <td>NaN</td>\n",
       "      <td>NaN</td>\n",
       "      <td>NaN</td>\n",
       "      <td>1.091795e-07</td>\n",
       "      <td>0.714843</td>\n",
       "      <td>0.284956</td>\n",
       "      <td>0.082766</td>\n",
       "    </tr>\n",
       "    <tr>\n",
       "      <th>T_B4</th>\n",
       "      <td>0.000000</td>\n",
       "      <td>0.000000</td>\n",
       "      <td>0.436748</td>\n",
       "      <td>0.678038</td>\n",
       "      <td>0.053333</td>\n",
       "      <td>0.050847</td>\n",
       "      <td>0.470949</td>\n",
       "      <td>0.467570</td>\n",
       "      <td>3.661835e-01</td>\n",
       "      <td>0.552532</td>\n",
       "      <td>...</td>\n",
       "      <td>0.940336</td>\n",
       "      <td>0.000000</td>\n",
       "      <td>0.284536</td>\n",
       "      <td>NaN</td>\n",
       "      <td>NaN</td>\n",
       "      <td>NaN</td>\n",
       "      <td>3.661835e-01</td>\n",
       "      <td>0.445141</td>\n",
       "      <td>0.556354</td>\n",
       "      <td>0.982351</td>\n",
       "    </tr>\n",
       "    <tr>\n",
       "      <th>T_B5</th>\n",
       "      <td>0.905663</td>\n",
       "      <td>0.032736</td>\n",
       "      <td>0.000000</td>\n",
       "      <td>0.128237</td>\n",
       "      <td>0.213333</td>\n",
       "      <td>0.203390</td>\n",
       "      <td>0.085106</td>\n",
       "      <td>0.253680</td>\n",
       "      <td>9.468600e-08</td>\n",
       "      <td>0.225818</td>\n",
       "      <td>...</td>\n",
       "      <td>0.186573</td>\n",
       "      <td>0.315581</td>\n",
       "      <td>0.297579</td>\n",
       "      <td>NaN</td>\n",
       "      <td>NaN</td>\n",
       "      <td>NaN</td>\n",
       "      <td>9.468692e-08</td>\n",
       "      <td>0.773564</td>\n",
       "      <td>0.226246</td>\n",
       "      <td>0.128844</td>\n",
       "    </tr>\n",
       "  </tbody>\n",
       "</table>\n",
       "<p>5 rows × 70 columns</p>\n",
       "</div>"
      ],
      "text/plain": [
       "      TEP_mean_uV_C  TEP_error_uV_C  Absorption_avg_500  Absorption_std_500  \\\n",
       "T_B1       0.907738        0.017461            0.010566            0.000000   \n",
       "T_B2       0.896151        0.059814            1.000000            1.000000   \n",
       "T_B3       0.901469        0.158423            0.039918            0.098855   \n",
       "T_B4       0.000000        0.000000            0.436748            0.678038   \n",
       "T_B5       0.905663        0.032736            0.000000            0.128237   \n",
       "\n",
       "      backscatter_avg  backscatter_std  Absorption_avg_50  Absorption_std_50  \\\n",
       "T_B1         0.182222         0.237288           0.135434           0.330382   \n",
       "T_B2         0.471111         0.491525           0.635434           0.646362   \n",
       "T_B3         0.000000         0.000000           0.096154           0.368786   \n",
       "T_B4         0.053333         0.050847           0.470949           0.467570   \n",
       "T_B5         0.213333         0.203390           0.085106           0.253680   \n",
       "\n",
       "                 A     A std  ...  mean_CF_UB  mean_perm_UB  mean_MBN_UB  \\\n",
       "T_B1  1.159420e-07  0.190266  ...    0.104611      0.344640     0.334634   \n",
       "T_B2  7.342995e-01  0.865146  ...    0.106924      0.323728     0.446710   \n",
       "T_B3  1.091788e-07  0.285276  ...    0.100306      0.342209     0.510208   \n",
       "T_B4  3.661835e-01  0.552532  ...    0.940336      0.000000     0.284536   \n",
       "T_B5  9.468600e-08  0.225818  ...    0.186573      0.315581     0.297579   \n",
       "\n",
       "      mean_CF_g_UB  mean_perm_g_UB  mean_pMBN_g_UB       AUC_avg    AUC_LB  \\\n",
       "T_B1           NaN             NaN             NaN  1.159429e-07  0.809257   \n",
       "T_B2           NaN             NaN             NaN  7.342995e-01  0.138599   \n",
       "T_B3           NaN             NaN             NaN  1.091795e-07  0.714843   \n",
       "T_B4           NaN             NaN             NaN  3.661835e-01  0.445141   \n",
       "T_B5           NaN             NaN             NaN  9.468692e-08  0.773564   \n",
       "\n",
       "        AUC_UB   CF_perm  \n",
       "T_B1  0.190560  0.084813  \n",
       "T_B2  0.864595  0.089542  \n",
       "T_B3  0.284956  0.082766  \n",
       "T_B4  0.556354  0.982351  \n",
       "T_B5  0.226246  0.128844  \n",
       "\n",
       "[5 rows x 70 columns]"
      ]
     },
     "execution_count": 6,
     "metadata": {},
     "output_type": "execute_result"
    }
   ],
   "source": [
    "scaled_df = mc.scale_general(calc_df, MinMaxScaler())[0]\n",
    "scaled_df.head()"
   ]
  },
  {
   "cell_type": "markdown",
   "metadata": {},
   "source": [
    "## Selecting sub samples"
   ]
  },
  {
   "cell_type": "code",
   "execution_count": 7,
   "metadata": {},
   "outputs": [],
   "source": [
    "tube, pipe, tube_wo_blind, tube_blind = mc.get_subsample_df(calc_df)"
   ]
  },
  {
   "cell_type": "code",
   "execution_count": 8,
   "metadata": {},
   "outputs": [],
   "source": [
    "tube_scaled, pipe_scaled, tube_wo_blind_scaled, tube_blind_scaled = mc.get_subsample_df(scaled_df)"
   ]
  },
  {
   "cell_type": "code",
   "execution_count": 11,
   "metadata": {},
   "outputs": [],
   "source": [
    "short_scaled_df = scaled_df.copy().loc[:,mc.without_std_g_list]\n",
    "tube_scaled_short, pipe_scaled_short, \\\n",
    "tube_wo_blind_scaled_short, tube_blind_scaled_short = mc.get_subsample_df(short_scaled_df)"
   ]
  },
  {
   "cell_type": "code",
   "execution_count": 12,
   "metadata": {},
   "outputs": [],
   "source": [
    "selected_scaled_df = scaled_df.copy().loc[:,mc.correlation_list_and_LB_UB]\n",
    "tube_scaled_selected, pipe_scaled_selected, \\\n",
    "tube_wo_blind_scaled_selected, tube_blind_scaled_selected = mc.get_subsample_df(selected_scaled_df)"
   ]
  },
  {
   "cell_type": "code",
   "execution_count": 13,
   "metadata": {},
   "outputs": [],
   "source": [
    "corr_scaled_df = scaled_df.copy().loc[:,mc.correlation_list]\n",
    "tube_scaled_corr, pipe_scaled_corr, \\\n",
    "tube_wo_blind_scaled_corr, tube_blind_scaled_corr = mc.get_subsample_df(corr_scaled_df)"
   ]
  },
  {
   "cell_type": "markdown",
   "metadata": {},
   "source": [
    "# Clustering"
   ]
  },
  {
   "cell_type": "code",
   "execution_count": 95,
   "metadata": {},
   "outputs": [
    {
     "data": {
      "text/html": [
       "<div>\n",
       "<style scoped>\n",
       "    .dataframe tbody tr th:only-of-type {\n",
       "        vertical-align: middle;\n",
       "    }\n",
       "\n",
       "    .dataframe tbody tr th {\n",
       "        vertical-align: top;\n",
       "    }\n",
       "\n",
       "    .dataframe thead th {\n",
       "        text-align: right;\n",
       "    }\n",
       "</style>\n",
       "<table border=\"1\" class=\"dataframe\">\n",
       "  <thead>\n",
       "    <tr style=\"text-align: right;\">\n",
       "      <th></th>\n",
       "      <th>TEP_mean_uV_C</th>\n",
       "      <th>backscatter_avg</th>\n",
       "      <th>Absorption_avg_50</th>\n",
       "      <th>Absorption_avg_100</th>\n",
       "      <th>AUC_avg</th>\n",
       "      <th>CF_perm</th>\n",
       "    </tr>\n",
       "  </thead>\n",
       "  <tbody>\n",
       "    <tr>\n",
       "      <th>T_B1</th>\n",
       "      <td>0.907738</td>\n",
       "      <td>0.182222</td>\n",
       "      <td>0.135434</td>\n",
       "      <td>0.154523</td>\n",
       "      <td>1.159429e-07</td>\n",
       "      <td>0.084813</td>\n",
       "    </tr>\n",
       "    <tr>\n",
       "      <th>T_B2</th>\n",
       "      <td>0.896151</td>\n",
       "      <td>0.471111</td>\n",
       "      <td>0.635434</td>\n",
       "      <td>0.695701</td>\n",
       "      <td>7.342995e-01</td>\n",
       "      <td>0.089542</td>\n",
       "    </tr>\n",
       "    <tr>\n",
       "      <th>T_B3</th>\n",
       "      <td>0.901469</td>\n",
       "      <td>0.000000</td>\n",
       "      <td>0.096154</td>\n",
       "      <td>0.121720</td>\n",
       "      <td>1.091795e-07</td>\n",
       "      <td>0.082766</td>\n",
       "    </tr>\n",
       "    <tr>\n",
       "      <th>T_B4</th>\n",
       "      <td>0.000000</td>\n",
       "      <td>0.053333</td>\n",
       "      <td>0.470949</td>\n",
       "      <td>0.488414</td>\n",
       "      <td>3.661835e-01</td>\n",
       "      <td>0.982351</td>\n",
       "    </tr>\n",
       "    <tr>\n",
       "      <th>T_B5</th>\n",
       "      <td>0.905663</td>\n",
       "      <td>0.213333</td>\n",
       "      <td>0.085106</td>\n",
       "      <td>0.000000</td>\n",
       "      <td>9.468692e-08</td>\n",
       "      <td>0.128844</td>\n",
       "    </tr>\n",
       "    <tr>\n",
       "      <th>T_B6</th>\n",
       "      <td>0.113989</td>\n",
       "      <td>0.062222</td>\n",
       "      <td>0.159574</td>\n",
       "      <td>0.344919</td>\n",
       "      <td>5.550729e-07</td>\n",
       "      <td>0.982398</td>\n",
       "    </tr>\n",
       "    <tr>\n",
       "      <th>T_B7</th>\n",
       "      <td>0.880394</td>\n",
       "      <td>0.737778</td>\n",
       "      <td>0.398936</td>\n",
       "      <td>0.617951</td>\n",
       "      <td>1.357522e-07</td>\n",
       "      <td>0.012918</td>\n",
       "    </tr>\n",
       "    <tr>\n",
       "      <th>T_B8</th>\n",
       "      <td>0.620941</td>\n",
       "      <td>0.600000</td>\n",
       "      <td>0.000000</td>\n",
       "      <td>0.063791</td>\n",
       "      <td>2.038165e-06</td>\n",
       "      <td>0.227326</td>\n",
       "    </tr>\n",
       "    <tr>\n",
       "      <th>T_AR</th>\n",
       "      <td>0.907355</td>\n",
       "      <td>0.200000</td>\n",
       "      <td>0.132570</td>\n",
       "      <td>0.574400</td>\n",
       "      <td>1.169091e-07</td>\n",
       "      <td>0.113836</td>\n",
       "    </tr>\n",
       "    <tr>\n",
       "      <th>T_N</th>\n",
       "      <td>0.017291</td>\n",
       "      <td>0.528889</td>\n",
       "      <td>0.898118</td>\n",
       "      <td>0.541039</td>\n",
       "      <td>6.956513e-02</td>\n",
       "      <td>0.963141</td>\n",
       "    </tr>\n",
       "    <tr>\n",
       "      <th>T_N_T</th>\n",
       "      <td>0.893838</td>\n",
       "      <td>0.604444</td>\n",
       "      <td>0.370295</td>\n",
       "      <td>1.000000</td>\n",
       "      <td>1.000000e+00</td>\n",
       "      <td>0.088493</td>\n",
       "    </tr>\n",
       "    <tr>\n",
       "      <th>T_T</th>\n",
       "      <td>0.901396</td>\n",
       "      <td>0.248889</td>\n",
       "      <td>0.277414</td>\n",
       "      <td>0.238275</td>\n",
       "      <td>1.009669e-07</td>\n",
       "      <td>0.088013</td>\n",
       "    </tr>\n",
       "    <tr>\n",
       "      <th>T_OT</th>\n",
       "      <td>0.638162</td>\n",
       "      <td>0.528889</td>\n",
       "      <td>0.242635</td>\n",
       "      <td>0.291876</td>\n",
       "      <td>9.565285e-08</td>\n",
       "      <td>0.185468</td>\n",
       "    </tr>\n",
       "    <tr>\n",
       "      <th>T_FF</th>\n",
       "      <td>0.873586</td>\n",
       "      <td>0.297778</td>\n",
       "      <td>1.000000</td>\n",
       "      <td>0.411921</td>\n",
       "      <td>1.289854e-01</td>\n",
       "      <td>0.014343</td>\n",
       "    </tr>\n",
       "    <tr>\n",
       "      <th>T_HAZ</th>\n",
       "      <td>0.102538</td>\n",
       "      <td>0.097778</td>\n",
       "      <td>0.310966</td>\n",
       "      <td>0.670436</td>\n",
       "      <td>9.806837e-08</td>\n",
       "      <td>1.000000</td>\n",
       "    </tr>\n",
       "    <tr>\n",
       "      <th>T_HAZ_T</th>\n",
       "      <td>0.918599</td>\n",
       "      <td>0.413333</td>\n",
       "      <td>0.186989</td>\n",
       "      <td>0.303462</td>\n",
       "      <td>1.072472e-07</td>\n",
       "      <td>0.082066</td>\n",
       "    </tr>\n",
       "  </tbody>\n",
       "</table>\n",
       "</div>"
      ],
      "text/plain": [
       "         TEP_mean_uV_C  backscatter_avg  Absorption_avg_50  \\\n",
       "T_B1          0.907738         0.182222           0.135434   \n",
       "T_B2          0.896151         0.471111           0.635434   \n",
       "T_B3          0.901469         0.000000           0.096154   \n",
       "T_B4          0.000000         0.053333           0.470949   \n",
       "T_B5          0.905663         0.213333           0.085106   \n",
       "T_B6          0.113989         0.062222           0.159574   \n",
       "T_B7          0.880394         0.737778           0.398936   \n",
       "T_B8          0.620941         0.600000           0.000000   \n",
       "T_AR          0.907355         0.200000           0.132570   \n",
       "T_N           0.017291         0.528889           0.898118   \n",
       "T_N_T         0.893838         0.604444           0.370295   \n",
       "T_T           0.901396         0.248889           0.277414   \n",
       "T_OT          0.638162         0.528889           0.242635   \n",
       "T_FF          0.873586         0.297778           1.000000   \n",
       "T_HAZ         0.102538         0.097778           0.310966   \n",
       "T_HAZ_T       0.918599         0.413333           0.186989   \n",
       "\n",
       "         Absorption_avg_100       AUC_avg   CF_perm  \n",
       "T_B1               0.154523  1.159429e-07  0.084813  \n",
       "T_B2               0.695701  7.342995e-01  0.089542  \n",
       "T_B3               0.121720  1.091795e-07  0.082766  \n",
       "T_B4               0.488414  3.661835e-01  0.982351  \n",
       "T_B5               0.000000  9.468692e-08  0.128844  \n",
       "T_B6               0.344919  5.550729e-07  0.982398  \n",
       "T_B7               0.617951  1.357522e-07  0.012918  \n",
       "T_B8               0.063791  2.038165e-06  0.227326  \n",
       "T_AR               0.574400  1.169091e-07  0.113836  \n",
       "T_N                0.541039  6.956513e-02  0.963141  \n",
       "T_N_T              1.000000  1.000000e+00  0.088493  \n",
       "T_T                0.238275  1.009669e-07  0.088013  \n",
       "T_OT               0.291876  9.565285e-08  0.185468  \n",
       "T_FF               0.411921  1.289854e-01  0.014343  \n",
       "T_HAZ              0.670436  9.806837e-08  1.000000  \n",
       "T_HAZ_T            0.303462  1.072472e-07  0.082066  "
      ]
     },
     "execution_count": 95,
     "metadata": {},
     "output_type": "execute_result"
    }
   ],
   "source": [
    "tube_scaled_corr"
   ]
  },
  {
   "cell_type": "code",
   "execution_count": 94,
   "metadata": {
    "collapsed": true,
    "jupyter": {
     "outputs_hidden": true
    }
   },
   "outputs": [
    {
     "data": {
      "text/plain": [
       "<seaborn.matrix.ClusterGrid at 0x7f248cbc81f0>"
      ]
     },
     "execution_count": 94,
     "metadata": {},
     "output_type": "execute_result"
    },
    {
     "data": {
      "image/png": "[encoded data removed]",
      "text/plain": [
       "<Figure size 432x576 with 4 Axes>"
      ]
     },
     "metadata": {},
     "output_type": "display_data"
    }
   ],
   "source": [
    "sns.clustermap(tube_scaled_corr, method='ward', metric='euclidean', cmap='PuBu', figsize=(6,8), dendrogram_ratio=(0.2, 0.2), cbar_pos=(0.05, 0.85, 0.025, 0.1))"
   ]
  },
  {
   "cell_type": "code",
   "execution_count": 59,
   "metadata": {},
   "outputs": [
    {
     "data": {
      "image/png": "[encoded data removed]",
      "text/plain": [
       "<Figure size 504x648 with 1 Axes>"
      ]
     },
     "metadata": {},
     "output_type": "display_data"
    }
   ],
   "source": [
    "sns.set_theme(style=\"white\")\n",
    "\n",
    "Z = hierarchy.linkage(tube_scaled_corr,\n",
    "method='ward',\n",
    "metric='euclidean')\n",
    "\n",
    "ax, fig = plt.subplots(figsize=(7,9))\n",
    "color = 4*['gray',  \n",
    "           'lightseagreen',  'steelblue', 'lightseagreen', 'mediumslateblue', 'lightcoral',\n",
    "           'lightseagreen',  'purple',  'lightcoral',  'lightseagreen',\n",
    "            'mediumslateblue',  'lightcoral', 'mediumslateblue', 'navy', 'purple']\n",
    "\n",
    "dendro = hierarchy.dendrogram(Z, labels=tube_scaled_corr.index, leaf_rotation=0, orientation='left',\n",
    "                         link_color_func=lambda k: color[k])\n",
    "for i, d, c in zip(dendro['icoord'], dendro['dcoord'], dendro['color_list']):\n",
    "    y = 0.5 * sum(i[1:3])\n",
    "    x = d[1]\n",
    "    #if y > 0:\n",
    "    plt.plot(x, y, 'o', c=c)\n",
    "    plt.annotate('%.3g'%x, (x, y), xytext=(5, -5),\n",
    "                 textcoords = 'offset points',\n",
    "                 va='bottom', ha='left',\n",
    "                 fontsize=10\n",
    "                )\n",
    "\n",
    "\n",
    "plt.xlabel('Distance')\n",
    "plt.title('Tubes')\n",
    "sns.despine(left=True)"
   ]
  },
  {
   "attachments": {
    "397ac63e-b8bd-4f73-83ff-d4b7108a1429.png": {
     "image/png": "[encoded data removed]"
    }
   },
   "cell_type": "markdown",
   "metadata": {},
   "source": [
    "# Cophenetic Correlation Coefficient \n",
    "Calculate the cophenetic distances between each observation in the hierarchical clustering defined by the linkage Z.\n",
    "\n",
    "Suppose that the original data {Xi} have been modeled using a cluster method to produce a dendrogram {Ti}; that is, a simplified model in which data that are \"close\" have been grouped into a hierarchical tree. Define the following distance measures.\n",
    "- x(i, j) = | Xi − Xj |, the ordinary Euclidean distance between the ith and jth observations.\n",
    "- t(i, j) = the dendrogrammatic distance between the model points Ti and Tj. This distance is the height of the node at which these two points are first joined together.\n",
    "\n",
    "Then, letting x ¯ {\\displaystyle {\\bar {x}}} {\\bar {x}} be the average of the x(i, j), and letting t ¯ {\\displaystyle {\\bar {t}}} {\\bar {t}} be the average of the t(i, j), the cophenetic correlation coefficient c is given by\n",
    "\n",
    "\n",
    "\n",
    "![image.png](attachment:397ac63e-b8bd-4f73-83ff-d4b7108a1429.png)"
   ]
  },
  {
   "cell_type": "code",
   "execution_count": 108,
   "metadata": {},
   "outputs": [
    {
     "name": "stdout",
     "output_type": "stream",
     "text": [
      "0.9098908232002303\n"
     ]
    },
    {
     "data": {
      "text/plain": [
       "array([1.96362506, 0.2363563 , 2.99437563, 0.17123391, 2.99437563,\n",
       "       0.94276974, 0.94276974, 0.57794685, 2.99437563, 1.96362506,\n",
       "       0.57794685, 0.94276974, 1.15100413, 2.99437563, 0.57794685,\n",
       "       1.96362506, 2.99437563, 1.96362506, 2.99437563, 1.96362506,\n",
       "       1.96362506, 1.96362506, 2.99437563, 0.50127616, 1.96362506,\n",
       "       1.96362506, 1.96362506, 2.99437563, 1.96362506, 2.99437563,\n",
       "       0.2363563 , 2.99437563, 0.94276974, 0.94276974, 0.57794685,\n",
       "       2.99437563, 1.96362506, 0.57794685, 0.94276974, 1.15100413,\n",
       "       2.99437563, 0.57794685, 2.99437563, 0.51963605, 2.99437563,\n",
       "       2.99437563, 2.99437563, 0.91564264, 2.99437563, 2.99437563,\n",
       "       2.99437563, 2.99437563, 0.51963605, 2.99437563, 2.99437563,\n",
       "       0.94276974, 0.94276974, 0.57794685, 2.99437563, 1.96362506,\n",
       "       0.57794685, 0.94276974, 1.15100413, 2.99437563, 0.57794685,\n",
       "       2.99437563, 2.99437563, 2.99437563, 0.91564264, 2.99437563,\n",
       "       2.99437563, 2.99437563, 2.99437563, 0.36136604, 2.99437563,\n",
       "       0.7313693 , 0.94276974, 2.99437563, 1.96362506, 0.94276974,\n",
       "       0.7313693 , 1.15100413, 2.99437563, 0.94276974, 0.94276974,\n",
       "       2.99437563, 1.96362506, 0.94276974, 0.34351111, 1.15100413,\n",
       "       2.99437563, 0.94276974, 2.99437563, 1.96362506, 0.40014032,\n",
       "       0.94276974, 1.15100413, 2.99437563, 0.40014032, 2.99437563,\n",
       "       2.99437563, 2.99437563, 2.99437563, 0.91564264, 2.99437563,\n",
       "       1.96362506, 1.96362506, 1.96362506, 2.99437563, 1.96362506,\n",
       "       0.94276974, 1.15100413, 2.99437563, 0.19949787, 1.15100413,\n",
       "       2.99437563, 0.94276974, 2.99437563, 1.15100413, 2.99437563])"
      ]
     },
     "execution_count": 108,
     "metadata": {},
     "output_type": "execute_result"
    }
   ],
   "source": [
    "# The closer the value is to 1, the better the clustering preserves the original distances.\n",
    "c, coph_dists = hierarchy.cophenet(Z, pdist(tube_scaled_corr))\n",
    "print(c)\n",
    "coph_dists"
   ]
  },
  {
   "cell_type": "code",
   "execution_count": null,
   "metadata": {},
   "outputs": [],
   "source": [
    "from sklearn import metrics\n",
    "metrics.silhouette_score(tube_blind_scaled_corr, )"
   ]
  },
  {
   "cell_type": "markdown",
   "metadata": {},
   "source": [
    "# fcluster\n",
    "Cluster observation data using a given metric.\n",
    "\n",
    "Clusters the original observations in the n-by-m data matrix X (n observations in m dimensions), using the euclidean distance metric to calculate distances between original observations, performs hierarchical clustering using the single linkage algorithm, and forms flat clusters using the inconsistency method with t as the cut-off threshold."
   ]
  },
  {
   "cell_type": "code",
   "execution_count": null,
   "metadata": {},
   "outputs": [],
   "source": []
  },
  {
   "cell_type": "code",
   "execution_count": 102,
   "metadata": {},
   "outputs": [
    {
     "data": {
      "text/plain": [
       "array([3, 2, 3, 1, 3, 1, 3, 3, 3, 1, 2, 3, 3, 4, 1, 3], dtype=int32)"
      ]
     },
     "execution_count": 102,
     "metadata": {},
     "output_type": "execute_result"
    }
   ],
   "source": [
    "hierarchy.fclusterdata(tube_scaled_corr, t=4, criterion='maxclust', method='ward')"
   ]
  },
  {
   "cell_type": "code",
   "execution_count": 97,
   "metadata": {},
   "outputs": [
    {
     "data": {
      "text/plain": [
       "array([[ 0.17123391,  0.        ,  1.        ,  0.        ],\n",
       "       [ 0.19949787,  0.        ,  1.        ,  0.        ],\n",
       "       [ 0.20379511,  0.04604848,  2.        ,  0.70710678],\n",
       "       [ 0.34351111,  0.        ,  1.        ,  0.        ],\n",
       "       [ 0.36136604,  0.        ,  1.        ,  0.        ],\n",
       "       [ 0.29981909,  0.14187563,  2.        ,  0.70710678],\n",
       "       [ 0.50127616,  0.        ,  1.        ,  0.        ],\n",
       "       [ 0.44050105,  0.11191379,  2.        ,  0.70710678],\n",
       "       [ 0.31703505,  0.17070697,  5.        ,  1.52841917],\n",
       "       [ 0.5374402 ,  0.27425715,  2.        ,  0.70710678],\n",
       "       [ 0.59888158,  0.28550924,  3.        ,  1.10945993],\n",
       "       [ 0.45035317,  0.27730629,  8.        ,  1.77571365],\n",
       "       [ 0.52820328,  0.34904467,  9.        ,  1.78430127],\n",
       "       [ 0.76088877,  0.53771054,  9.        ,  2.23677276],\n",
       "       [ 1.06590116,  0.81877219, 10.        ,  2.35532482]])"
      ]
     },
     "execution_count": 97,
     "metadata": {},
     "output_type": "execute_result"
    }
   ],
   "source": [
    "\n",
    "depth = 5\n",
    "incons = hierarchy.inconsistent(Z, depth)\n",
    "incons\n",
    "# avg, std, count, inconsistency "
   ]
  },
  {
   "cell_type": "code",
   "execution_count": 83,
   "metadata": {},
   "outputs": [
    {
     "data": {
      "text/plain": [
       "array([0.        , 0.        , 0.70710678, 0.        , 0.        ,\n",
       "       0.70710678, 0.        , 0.70710678, 1.01339897, 0.70710678,\n",
       "       0.70710678, 1.04856914, 1.04856914, 1.04856914, 1.04856914])"
      ]
     },
     "execution_count": 83,
     "metadata": {},
     "output_type": "execute_result"
    }
   ],
   "source": [
    "maxinconsts(Z, incons)"
   ]
  },
  {
   "cell_type": "code",
   "execution_count": 75,
   "metadata": {},
   "outputs": [
    {
     "data": {
      "text/plain": [
       "[<matplotlib.lines.Line2D at 0x7f248e6c2520>]"
      ]
     },
     "execution_count": 75,
     "metadata": {},
     "output_type": "execute_result"
    },
    {
     "data": {
      "image/png": "[encoded data removed]",
      "text/plain": [
       "<Figure size 432x288 with 1 Axes>"
      ]
     },
     "metadata": {},
     "output_type": "display_data"
    }
   ],
   "source": [
    "last = Z[-10:, 2]\n",
    "last_rev = last[::-1]\n",
    "idxs = np.arange(1, len(last) + 1)\n",
    "plt.plot(idxs, last_rev)"
   ]
  },
  {
   "cell_type": "code",
   "execution_count": 81,
   "metadata": {},
   "outputs": [
    {
     "data": {
      "text/plain": [
       "array([3, 2, 3, 1, 3, 1, 5, 5, 4, 1, 2, 4, 5, 6, 1, 4], dtype=int32)"
      ]
     },
     "execution_count": 81,
     "metadata": {},
     "output_type": "execute_result"
    }
   ],
   "source": [
    "from scipy.cluster.hierarchy import fcluster\n",
    "fcluster(Z, 1.2, depth=3)"
   ]
  },
  {
   "cell_type": "code",
   "execution_count": 23,
   "metadata": {},
   "outputs": [
    {
     "data": {
      "text/plain": [
       "0.9098908232002303"
      ]
     },
     "execution_count": 23,
     "metadata": {},
     "output_type": "execute_result"
    }
   ],
   "source": []
  },
  {
   "cell_type": "code",
   "execution_count": 30,
   "metadata": {},
   "outputs": [
    {
     "data": {
      "text/plain": [
       "array([[ 4.        ,  5.        ,  0.21686209,  2.        ],\n",
       "       [ 1.        ,  2.        ,  0.23753799,  2.        ],\n",
       "       [ 3.        ,  8.        ,  0.27890326,  3.        ],\n",
       "       [ 6.        ,  7.        ,  0.45053158,  2.        ],\n",
       "       [ 9.        , 10.        ,  0.75581714,  5.        ],\n",
       "       [ 0.        , 12.        ,  0.7808899 ,  6.        ],\n",
       "       [11.        , 13.        ,  1.4979386 ,  8.        ]])"
      ]
     },
     "execution_count": 30,
     "metadata": {},
     "output_type": "execute_result"
    }
   ],
   "source": [
    "Z"
   ]
  },
  {
   "cell_type": "code",
   "execution_count": 20,
   "metadata": {},
   "outputs": [
    {
     "data": {
      "image/png": "[encoded data removed]",
      "text/plain": [
       "<Figure size 216x360 with 1 Axes>"
      ]
     },
     "metadata": {},
     "output_type": "display_data"
    }
   ],
   "source": [
    "sns.set_theme(style=\"white\")\n",
    "\n",
    "Z = hierarchy.linkage(tube_wo_blind_scaled_selected,\n",
    "method='ward',\n",
    "metric='euclidean')\n",
    "\n",
    "ax, fig = plt.subplots(figsize=(3,5))\n",
    "color = 2*['steelblue', 'lightseagreen', 'mediumslateblue', 'lightcoral', 'navy', 'purple', 'gray', 'gray']\n",
    "d = hierarchy.dendrogram(Z, labels=tub.index, leaf_rotation=0, orientation='left',\n",
    "                         link_color_func=lambda k: color[k])\n",
    "\n",
    "plt.xlabel('Distance')\n",
    "plt.title('Tubes')\n",
    "sns.despine(left=True)"
   ]
  },
  {
   "cell_type": "code",
   "execution_count": 25,
   "metadata": {
    "collapsed": true,
    "jupyter": {
     "outputs_hidden": true,
     "source_hidden": true
    }
   },
   "outputs": [
    {
     "data": {
      "image/png": "[encoded data removed]",
      "text/plain": [
       "<Figure size 216x360 with 1 Axes>"
      ]
     },
     "metadata": {},
     "output_type": "display_data"
    }
   ],
   "source": [
    "sns.set_theme(style=\"white\")\n",
    "\n",
    "Z = hierarchy.linkage(pipe_scaled_short,\n",
    "method='ward',\n",
    "metric='euclidean')\n",
    "\n",
    "ax, fig = plt.subplots(figsize=(3,5))\n",
    "color = 2*['steelblue', 'lightseagreen', 'mediumslateblue', 'lightcoral', 'navy', 'purple', 'gray', 'gray']\n",
    "d = hierarchy.dendrogram(Z, labels=pipe_scaled_short.index, leaf_rotation=0, orientation='left', \n",
    "                         distance_sort='descending',\n",
    "                         link_color_func=lambda k: color[k])\n",
    "\n",
    "plt.xlabel('Distance')\n",
    "plt.title('Pipes')\n",
    "sns.despine(left=True)"
   ]
  },
  {
   "cell_type": "code",
   "execution_count": 26,
   "metadata": {
    "collapsed": true,
    "jupyter": {
     "outputs_hidden": true,
     "source_hidden": true
    }
   },
   "outputs": [
    {
     "data": {
      "text/plain": [
       "<seaborn.matrix.ClusterGrid at 0x7f42706e4370>"
      ]
     },
     "execution_count": 26,
     "metadata": {},
     "output_type": "execute_result"
    },
    {
     "data": {
      "image/png": "[encoded data removed]",
      "text/plain": [
       "<Figure size 432x576 with 4 Axes>"
      ]
     },
     "metadata": {},
     "output_type": "display_data"
    }
   ],
   "source": [
    "sns.clustermap(pipe_scaled_corr, method='ward', cmap='PuBu', figsize=(6,8), dendrogram_ratio=(0.2, 0.2), cbar_pos=(0.05, 0.85, 0.025, 0.1))"
   ]
  },
  {
   "cell_type": "code",
   "execution_count": 27,
   "metadata": {
    "collapsed": true,
    "jupyter": {
     "outputs_hidden": true,
     "source_hidden": true
    }
   },
   "outputs": [
    {
     "data": {
      "image/png": "[encoded data removed]",
      "text/plain": [
       "<Figure size 216x360 with 1 Axes>"
      ]
     },
     "metadata": {},
     "output_type": "display_data"
    }
   ],
   "source": [
    "sns.set_theme(style=\"white\")\n",
    "\n",
    "Z = hierarchy.linkage(pipe_scaled_corr,\n",
    "method='ward',\n",
    "metric='euclidean')\n",
    "\n",
    "ax, fig = plt.subplots(figsize=(3,5))\n",
    "color = 2*['steelblue', 'lightseagreen', 'mediumslateblue', 'lightcoral', 'navy', 'purple', 'gray', 'gray']\n",
    "d = hierarchy.dendrogram(Z, labels=pipe_scaled_corr.index, leaf_rotation=0, orientation='left', \n",
    "                         distance_sort='descending',\n",
    "                         link_color_func=lambda k: color[k])\n",
    "\n",
    "plt.xlabel('Distance')\n",
    "plt.title('Pipes')\n",
    "sns.despine(left=True)"
   ]
  },
  {
   "cell_type": "code",
   "execution_count": null,
   "metadata": {},
   "outputs": [],
   "source": [
    "import plotly.figure_factory as ff\n",
    "import plotly.io as pio\n",
    "dendro = ff.create_dendrogram(pipe_scaled, distfun='ward')\n",
    "dendro.update_layout(width=800, height=500)\n",
    "dendro.show()\n",
    "pio.write_json(dendro, 'test.plotly')"
   ]
  },
  {
   "cell_type": "code",
   "execution_count": null,
   "metadata": {},
   "outputs": [],
   "source": []
  },
  {
   "cell_type": "code",
   "execution_count": null,
   "metadata": {},
   "outputs": [],
   "source": []
  }
 ],
 "metadata": {
  "kernelspec": {
   "display_name": "Python [conda env:EPRI]",
   "language": "python",
   "name": "conda-env-EPRI-py"
  },
  "language_info": {
   "codemirror_mode": {
    "name": "ipython",
    "version": 3
   },
   "file_extension": ".py",
   "mimetype": "text/x-python",
   "name": "python",
   "nbconvert_exporter": "python",
   "pygments_lexer": "ipython3",
   "version": "3.8.5"
  }
 },
 "nbformat": 4,
 "nbformat_minor": 4
}
