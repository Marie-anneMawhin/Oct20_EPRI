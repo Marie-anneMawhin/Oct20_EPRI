{
 "cells": [
  {
   "cell_type": "markdown",
   "metadata": {},
   "source": [
    "Plot dendrograms \n",
    "\n",
    "determine best model automatically using cophenetic coefficient\n",
    "\n",
    "determine number of clusters with fcluster and max inconsistency\n",
    "\n",
    "test of elbow method (unconclusive)"
   ]
  },
  {
   "cell_type": "code",
   "execution_count": null,
   "metadata": {},
   "outputs": [],
   "source": [
    "import pandas as pd\n",
    "import numpy as np\n",
    "import matplotlib.pyplot as plt\n",
    "import seaborn as sns\n",
    "from scipy.cluster import hierarchy\n",
    "from scipy.spatial.distance import pdist\n",
    "from sklearn.preprocessing import MinMaxScaler, StandardScaler\n",
    "import os, glob, inspect, sys\n",
    "\n",
    "currentdir = os.path.dirname(os.path.abspath(inspect.getfile(inspect.currentframe())))\n",
    "parentdir = os.path.dirname(currentdir)\n",
    "sys.path.insert(0,parentdir) \n",
    "import epri_mc_lib as mc\n",
    "from importlib import reload\n",
    "reload(mc)"
   ]
  },
  {
   "cell_type": "markdown",
   "metadata": {},
   "source": [
    "# Import data"
   ]
  },
  {
   "cell_type": "code",
   "execution_count": null,
   "metadata": {},
   "outputs": [],
   "source": [
    "data_path = \"../../Data/Merged_data\"\n",
    "df = pd.read_csv(os.path.join(data_path, 'ALL_TUBE_PIPE_merge_1.csv'), \n",
    "                 index_col=0)\n"
   ]
  },
  {
   "cell_type": "markdown",
   "metadata": {},
   "source": [
    "## Calculating new values"
   ]
  },
  {
   "cell_type": "code",
   "execution_count": null,
   "metadata": {},
   "outputs": [],
   "source": [
    "calc_df = mc.updated_df(df, mc.measures_list, mc.errors_list)"
   ]
  },
  {
   "cell_type": "markdown",
   "metadata": {},
   "source": [
    "## Scaling values"
   ]
  },
  {
   "cell_type": "code",
   "execution_count": null,
   "metadata": {},
   "outputs": [],
   "source": [
    "scaled_df = mc.scale_general(calc_df, MinMaxScaler())[0]\n"
   ]
  },
  {
   "cell_type": "markdown",
   "metadata": {},
   "source": [
    "## Selecting sub samples"
   ]
  },
  {
   "cell_type": "code",
   "execution_count": null,
   "metadata": {},
   "outputs": [],
   "source": [
    "tube, pipe, tube_wo_blind, tube_blind = mc.get_subsample_df(calc_df)"
   ]
  },
  {
   "cell_type": "code",
   "execution_count": null,
   "metadata": {},
   "outputs": [],
   "source": [
    "tube_scaled, pipe_scaled, tube_wo_blind_scaled, tube_blind_scaled = mc.get_subsample_df(scaled_df)"
   ]
  },
  {
   "cell_type": "code",
   "execution_count": null,
   "metadata": {},
   "outputs": [],
   "source": [
    "corr_scaled_df = scaled_df.copy().loc[:,mc.correlation_list]\n",
    "tube_scaled_corr, pipe_scaled_corr, \\\n",
    "tube_wo_blind_scaled_corr, tube_blind_scaled_corr = mc.get_subsample_df(corr_scaled_df)"
   ]
  },
  {
   "cell_type": "code",
   "execution_count": null,
   "metadata": {},
   "outputs": [],
   "source": [
    "mini_scaled_df = scaled_df.copy().loc[:,mc.minimal_informative_features]\n",
    "tube_scaled_mini, pipe_scaled_mini, \\\n",
    "tube_wo_blind_scaled_mini, tube_blind_scaled_mini = mc.get_subsample_df(mini_scaled_df)"
   ]
  },
  {
   "attachments": {
    "397ac63e-b8bd-4f73-83ff-d4b7108a1429.png": {
     "image/png": "[encoded data removed]"
    }
   },
   "cell_type": "markdown",
   "metadata": {},
   "source": [
    "# Cophenetic Correlation Coefficient \n",
    "Calculate the cophenetic distances between each observation in the hierarchical clustering defined by the linkage Z.\n",
    "\n",
    "Suppose that the original data {Xi} have been modeled using a cluster method to produce a dendrogram {Ti}; that is, a simplified model in which data that are \"close\" have been grouped into a hierarchical tree. Define the following distance measures.\n",
    "- x(i, j) = | Xi − Xj |, the ordinary Euclidean distance between the ith and jth observations.\n",
    "- t(i, j) = the dendrogrammatic distance between the model points Ti and Tj. This distance is the height of the node at which these two points are first joined together.\n",
    "\n",
    "Then, letting x ¯ {\\displaystyle {\\bar {x}}} {\\bar {x}} be the average of the x(i, j), and letting t ¯ {\\displaystyle {\\bar {t}}} {\\bar {t}} be the average of the t(i, j), the cophenetic correlation coefficient c is given by\n",
    "\n",
    "\n",
    "\n",
    "![image.png](attachment:397ac63e-b8bd-4f73-83ff-d4b7108a1429.png)"
   ]
  },
  {
   "cell_type": "code",
   "execution_count": null,
   "metadata": {},
   "outputs": [],
   "source": [
    "# The closer the value is to 1, the better the clustering preserves the original distances.\n",
    "def get_c (df):\n",
    "    results = []\n",
    "    for linkage_name in ['single', 'average', 'weighted', 'centroid', 'median', 'ward']:\n",
    "        for metric_name in ['chebyshev', 'cityblock', 'cosine', 'euclidean', 'minkowski', 'sqeuclidean']:\n",
    "            try:\n",
    "                Z = hierarchy.linkage(df, method=linkage_name, metric=metric_name)\n",
    "            except ValueError:\n",
    "                pass\n",
    "            c, coph_dists = hierarchy.cophenet(Z, pdist(df, metric_name))\n",
    "\n",
    "            results.append([linkage_name, metric_name, c])\n",
    "    data = pd.DataFrame(results, columns=['linkage', 'distance metric', 'C']).sort_values('C', ascending=False)\n",
    "    return data"
   ]
  },
  {
   "cell_type": "code",
   "execution_count": null,
   "metadata": {},
   "outputs": [],
   "source": [
    "get_c(tube_scaled_corr)"
   ]
  },
  {
   "cell_type": "code",
   "execution_count": null,
   "metadata": {},
   "outputs": [],
   "source": [
    "get_c(tube_wo_blind_scaled_corr)"
   ]
  },
  {
   "cell_type": "code",
   "execution_count": null,
   "metadata": {},
   "outputs": [],
   "source": [
    "get_c(tube_scaled_mini)"
   ]
  },
  {
   "cell_type": "code",
   "execution_count": null,
   "metadata": {},
   "outputs": [],
   "source": [
    "get_c(tube_wo_blind_scaled_mini)"
   ]
  },
  {
   "cell_type": "markdown",
   "metadata": {},
   "source": [
    "# Clustering"
   ]
  },
  {
   "cell_type": "code",
   "execution_count": null,
   "metadata": {},
   "outputs": [],
   "source": [
    "sns.clustermap(tube_scaled_mini, method='average', metric='chebyshev', cmap='PuBu', figsize=(6,8), dendrogram_ratio=(0.2, 0.2), cbar_pos=(0.05, 0.85, 0.025, 0.1))"
   ]
  },
  {
   "cell_type": "code",
   "execution_count": null,
   "metadata": {},
   "outputs": [],
   "source": [
    "sns.clustermap(tube_scaled_corr, method='average', metric='euclidean', cmap='PuBu', figsize=(6,8), dendrogram_ratio=(0.2, 0.2), cbar_pos=(0.05, 0.85, 0.025, 0.1))"
   ]
  },
  {
   "cell_type": "markdown",
   "metadata": {},
   "source": [
    "## Scipy dendrograms"
   ]
  },
  {
   "cell_type": "code",
   "execution_count": null,
   "metadata": {},
   "outputs": [],
   "source": [
    "color = sns.xkcd_palette(['grey', 'medium blue', 'blush pink', 'seafoam blue', 'navy blue', ])\n",
    "sns.set_theme(style=\"white\")\n",
    "sns.set_palette(color)"
   ]
  },
  {
   "cell_type": "markdown",
   "metadata": {},
   "source": [
    "### Tubes with selected features"
   ]
  },
  {
   "cell_type": "code",
   "execution_count": null,
   "metadata": {},
   "outputs": [],
   "source": [
    "#All tubes\n",
    "Z1 = hierarchy.linkage(tube_scaled_corr,\n",
    "method='average',\n",
    "metric='euclidean')\n",
    "\n",
    "ax, fig = plt.subplots(figsize=(7,9))\n",
    "\n",
    "\n",
    "dendro = hierarchy.dendrogram(Z1, labels=tube_scaled_corr.index, leaf_rotation=0, orientation='left',\n",
    "                         color_threshold=0.45)\n",
    "\n",
    "for i, d, c in zip(dendro['icoord'], dendro['dcoord'], dendro['color_list']):\n",
    "    y = 0.5 * sum(i[1:3])\n",
    "    x = d[1]\n",
    "    plt.plot(x, y, 'o', c=c)\n",
    "    plt.annotate('%.3g'%x, (x, y), xytext=(5, -5),\n",
    "                 textcoords = 'offset points',\n",
    "                 va='bottom', ha='left',\n",
    "                 fontsize=10\n",
    "                )\n",
    "\n",
    "\n",
    "plt.xlabel('Distance')\n",
    "plt.title('Known and unknown tubes')\n",
    "sns.despine(left=True)"
   ]
  },
  {
   "cell_type": "code",
   "execution_count": null,
   "metadata": {},
   "outputs": [],
   "source": [
    "#known tubes\n",
    "Z1_wo = hierarchy.linkage(tube_wo_blind_scaled_corr,\n",
    "method='average',\n",
    "metric='euclidean')\n",
    "\n",
    "ax, fig = plt.subplots(figsize=(7,9))\n",
    "dendro = hierarchy.dendrogram(Z1_wo, labels=tube_wo_blind_scaled_corr.index, leaf_rotation=0, orientation='left',\n",
    "                         color_threshold=0.8)\n",
    "\n",
    "for i, d, c in zip(dendro['icoord'], dendro['dcoord'], dendro['color_list']):\n",
    "    y = 0.5 * sum(i[1:3])\n",
    "    x = d[1]\n",
    "    plt.plot(x, y, 'o', c=c)\n",
    "    plt.annotate('%.3g'%x, (x, y), xytext=(5, -5),\n",
    "                 textcoords = 'offset points',\n",
    "                 va='bottom', ha='left',\n",
    "                 fontsize=10\n",
    "                )\n",
    "\n",
    "plt.xlabel('Distance')\n",
    "plt.title('Known tubes')\n",
    "sns.despine(left=True)"
   ]
  },
  {
   "cell_type": "markdown",
   "metadata": {},
   "source": [
    "With arbitrary max distance choose we found 3 clusters reproducible within conditions"
   ]
  },
  {
   "cell_type": "markdown",
   "metadata": {},
   "source": [
    "### Tubes with minimal number of features"
   ]
  },
  {
   "cell_type": "code",
   "execution_count": null,
   "metadata": {},
   "outputs": [],
   "source": [
    "#All tubes\n",
    "sns.set_theme(style=\"white\")\n",
    "sns.set_palette(color)\n",
    "Z2 = hierarchy.linkage(tube_scaled_mini,\n",
    "method='average',\n",
    "metric='chebyshev')\n",
    "\n",
    "ax, fig = plt.subplots(figsize=(7,9))\n",
    "\n",
    "dendro = hierarchy.dendrogram(Z2, labels=tube_scaled_mini.index, leaf_rotation=0, orientation='left',\n",
    "                         color_threshold=0.3)\n",
    "\n",
    "for i, d, c in zip(dendro['icoord'], dendro['dcoord'], dendro['color_list']):\n",
    "    y = 0.5 * sum(i[1:3])\n",
    "    x = d[1]\n",
    "    plt.plot(x, y, 'o', c=c)\n",
    "    plt.annotate('%.3g'%x, (x, y), xytext=(5, -5),\n",
    "                 textcoords = 'offset points',\n",
    "                 va='bottom', ha='left',\n",
    "                 fontsize=10\n",
    "                )\n",
    "\n",
    "\n",
    "plt.xlabel('Distance')\n",
    "plt.title('All tubes')\n",
    "sns.despine(left=True)\n"
   ]
  },
  {
   "cell_type": "code",
   "execution_count": null,
   "metadata": {},
   "outputs": [],
   "source": [
    "#known tubes\n",
    "sns.set_theme(style=\"white\")\n",
    "sns.set_palette(color)\n",
    "Z2_wo = hierarchy.linkage(tube_wo_blind_scaled_mini,\n",
    "method='average',\n",
    "metric='chebyshev')\n",
    "\n",
    "ax, fig = plt.subplots(figsize=(7,9))\n",
    "\n",
    "dendro = hierarchy.dendrogram(Z2_wo, labels=tube_wo_blind_scaled_mini.index, leaf_rotation=0, orientation='left',\n",
    "                         color_threshold=0.6)\n",
    "\n",
    "for i, d, c in zip(dendro['icoord'], dendro['dcoord'], dendro['color_list']):\n",
    "    y = 0.5 * sum(i[1:3])\n",
    "    x = d[1]\n",
    "    plt.plot(x, y, 'o', c=c)\n",
    "    plt.annotate('%.3g'%x, (x, y), xytext=(5, -5),\n",
    "                 textcoords = 'offset points',\n",
    "                 va='bottom', ha='left',\n",
    "                 fontsize=10\n",
    "                )\n",
    "\n",
    "\n",
    "plt.xlabel('Distance')\n",
    "plt.title('Known tubes')\n",
    "sns.despine(left=True)\n"
   ]
  },
  {
   "cell_type": "markdown",
   "metadata": {},
   "source": [
    "# fcluster\n",
    "Cluster observation data using a given metric.\n",
    "\n",
    "Clusters the original observations in the n-by-m data matrix X (n observations in m dimensions), using the euclidean distance metric to calculate distances between original observations, performs hierarchical clustering using the single linkage algorithm, and forms flat clusters using the inconsistency method with t as the cut-off threshold."
   ]
  },
  {
   "cell_type": "markdown",
   "metadata": {},
   "source": [
    "# Inconsistency\n",
    "The relative consistency of each link in a hierarchical cluster tree can be\n",
    "quantified and expressed as the inconsistency coefficient. This value compares the height of a link in a cluster hierarchy with the average height of links\n",
    "below it. Links that join distinct clusters have a high inconsistency coefficient;\n",
    "links that join indistinct clusters have a low inconsistency coefficient.\n",
    "By default, the inconsistent function compares each link in the cluster hierarchy with adjacent links that\n",
    "are less than two levels below it in the cluster hierarchy. This is called the depth of the comparison.\n",
    "\n",
    "Use depth to test how far down to look, as follow:\n",
    "\n",
    "`depth = x\n",
    "incons = hierarchy.inconsistent(Z, depth)`\n",
    "\n",
    "depth is chosen by testing when the inconsistency matrix does not change"
   ]
  },
  {
   "cell_type": "code",
   "execution_count": null,
   "metadata": {},
   "outputs": [],
   "source": [
    "def inconsistency(linkage_matrix, df, method):\n",
    "    for depth in np.arange(0,8):\n",
    "        incons = hierarchy.inconsistent(linkage_matrix, depth)\n",
    "        max_inc = hierarchy.maxinconsts(linkage_matrix, incons)\n",
    "        for t in np.unique(np.around(max_inc, 2)):\n",
    "            cluster = hierarchy.fclusterdata(df, t=t, method=method)\n",
    "            print('depth:', depth, ': ', 't=', t, ' cluster = ', int(cluster.max()))"
   ]
  },
  {
   "cell_type": "code",
   "execution_count": null,
   "metadata": {},
   "outputs": [],
   "source": [
    "inconsistency(Z1, tube_scaled_corr, 'average')"
   ]
  },
  {
   "cell_type": "code",
   "execution_count": null,
   "metadata": {},
   "outputs": [],
   "source": [
    "inconsistency(Z1_wo, tube_wo_blind_scaled_corr, 'average')"
   ]
  },
  {
   "cell_type": "code",
   "execution_count": null,
   "metadata": {},
   "outputs": [],
   "source": [
    "inconsistency(Z2, tube_scaled_mini, 'average')"
   ]
  },
  {
   "cell_type": "code",
   "execution_count": null,
   "metadata": {},
   "outputs": [],
   "source": [
    "inconsistency(Z2_wo, tube_wo_blind_scaled_mini, 'average')"
   ]
  },
  {
   "cell_type": "code",
   "execution_count": null,
   "metadata": {},
   "outputs": [],
   "source": [
    "# plot_elbow\n",
    "last = Z1[:, 2]\n",
    "last_rev = last[::-1]\n",
    "idxs = np.arange(1, len(last) + 1)\n",
    "plt.plot(idxs, last_rev)\n",
    "plt.ylabel('Distance')\n",
    "plt.xlabel('Sample numbers')\n",
    "plt.title('All feat all tubes')"
   ]
  },
  {
   "cell_type": "code",
   "execution_count": null,
   "metadata": {},
   "outputs": [],
   "source": [
    "# plot_elbow\n",
    "last = Z2[:, 2]\n",
    "last_rev = last[::-1]\n",
    "idxs = np.arange(1, len(last) + 1)\n",
    "plt.plot(idxs, last_rev)\n",
    "plt.ylabel('Distance')\n",
    "plt.xlabel('Sample numbers')\n",
    "plt.title('Min feat all tubes')"
   ]
  }
 ],
 "metadata": {
  "kernelspec": {
   "display_name": "Python [conda env:EPRI]",
   "language": "python",
   "name": "conda-env-EPRI-py"
  },
  "language_info": {
   "codemirror_mode": {
    "name": "ipython",
    "version": 3
   },
   "file_extension": ".py",
   "mimetype": "text/x-python",
   "name": "python",
   "nbconvert_exporter": "python",
   "pygments_lexer": "ipython3",
   "version": "3.8.5"
  }
 },
 "nbformat": 4,
 "nbformat_minor": 4
}
