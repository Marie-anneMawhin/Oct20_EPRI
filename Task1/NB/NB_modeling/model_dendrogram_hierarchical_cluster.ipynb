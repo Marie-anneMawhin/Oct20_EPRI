{
 "cells": [
  {
   "cell_type": "code",
   "execution_count": 1,
   "metadata": {},
   "outputs": [
    {
     "data": {
      "text/plain": [
       "<module 'epri_mc_lib' from '/home/marie-anne/code/Oct20_EPRI/Task1/NB/epri_mc_lib.py'>"
      ]
     },
     "execution_count": 1,
     "metadata": {},
     "output_type": "execute_result"
    }
   ],
   "source": [
    "import pandas as pd\n",
    "import numpy as np\n",
    "import matplotlib.pyplot as plt\n",
    "import seaborn as sns\n",
    "from scipy.cluster import hierarchy\n",
    "from scipy.spatial.distance import pdist\n",
    "from sklearn.preprocessing import MinMaxScaler, StandardScaler\n",
    "import os, glob, inspect, sys\n",
    "\n",
    "currentdir = os.path.dirname(os.path.abspath(inspect.getfile(inspect.currentframe())))\n",
    "parentdir = os.path.dirname(currentdir)\n",
    "sys.path.insert(0,parentdir) \n",
    "import epri_mc_lib as mc\n",
    "from importlib import reload\n",
    "reload(mc)"
   ]
  },
  {
   "cell_type": "markdown",
   "metadata": {},
   "source": [
    "# Import data"
   ]
  },
  {
   "cell_type": "code",
   "execution_count": 2,
   "metadata": {},
   "outputs": [
    {
     "data": {
      "text/html": [
       "<div>\n",
       "<style scoped>\n",
       "    .dataframe tbody tr th:only-of-type {\n",
       "        vertical-align: middle;\n",
       "    }\n",
       "\n",
       "    .dataframe tbody tr th {\n",
       "        vertical-align: top;\n",
       "    }\n",
       "\n",
       "    .dataframe thead th {\n",
       "        text-align: right;\n",
       "    }\n",
       "</style>\n",
       "<table border=\"1\" class=\"dataframe\">\n",
       "  <thead>\n",
       "    <tr style=\"text-align: right;\">\n",
       "      <th></th>\n",
       "      <th>TEP_mean_uV_C</th>\n",
       "      <th>TEP_error_uV_C</th>\n",
       "      <th>Absorption_avg_500</th>\n",
       "      <th>Absorption_std_500</th>\n",
       "      <th>backscatter_avg</th>\n",
       "      <th>backscatter_std</th>\n",
       "      <th>Absorption_avg_50</th>\n",
       "      <th>Absorption_std_50</th>\n",
       "      <th>A</th>\n",
       "      <th>A std</th>\n",
       "      <th>...</th>\n",
       "      <th>std_MBN</th>\n",
       "      <th>median_CF_g</th>\n",
       "      <th>mean_CF_g</th>\n",
       "      <th>std_CF_g</th>\n",
       "      <th>median_perm_g</th>\n",
       "      <th>mean_perm_g</th>\n",
       "      <th>std_perm_g</th>\n",
       "      <th>median_pMBN_g</th>\n",
       "      <th>mean_pMBN_g</th>\n",
       "      <th>std_pMBN_g</th>\n",
       "    </tr>\n",
       "  </thead>\n",
       "  <tbody>\n",
       "    <tr>\n",
       "      <th>T_B1</th>\n",
       "      <td>12.947951</td>\n",
       "      <td>0.073112</td>\n",
       "      <td>0.000234</td>\n",
       "      <td>0.000018</td>\n",
       "      <td>0.0175</td>\n",
       "      <td>0.0042</td>\n",
       "      <td>0.001264</td>\n",
       "      <td>0.000519</td>\n",
       "      <td>4.410000e-13</td>\n",
       "      <td>4.090000e-07</td>\n",
       "      <td>...</td>\n",
       "      <td>0.127282</td>\n",
       "      <td>NaN</td>\n",
       "      <td>NaN</td>\n",
       "      <td>NaN</td>\n",
       "      <td>NaN</td>\n",
       "      <td>NaN</td>\n",
       "      <td>NaN</td>\n",
       "      <td>NaN</td>\n",
       "      <td>NaN</td>\n",
       "      <td>NaN</td>\n",
       "    </tr>\n",
       "    <tr>\n",
       "      <th>T_B2</th>\n",
       "      <td>12.920068</td>\n",
       "      <td>0.077814</td>\n",
       "      <td>0.000571</td>\n",
       "      <td>0.000139</td>\n",
       "      <td>0.0240</td>\n",
       "      <td>0.0057</td>\n",
       "      <td>0.002486</td>\n",
       "      <td>0.000816</td>\n",
       "      <td>1.520000e-06</td>\n",
       "      <td>1.510000e-06</td>\n",
       "      <td>...</td>\n",
       "      <td>0.110443</td>\n",
       "      <td>NaN</td>\n",
       "      <td>NaN</td>\n",
       "      <td>NaN</td>\n",
       "      <td>NaN</td>\n",
       "      <td>NaN</td>\n",
       "      <td>NaN</td>\n",
       "      <td>NaN</td>\n",
       "      <td>NaN</td>\n",
       "      <td>NaN</td>\n",
       "    </tr>\n",
       "    <tr>\n",
       "      <th>T_B3</th>\n",
       "      <td>12.932865</td>\n",
       "      <td>0.088762</td>\n",
       "      <td>0.000244</td>\n",
       "      <td>0.000030</td>\n",
       "      <td>0.0134</td>\n",
       "      <td>0.0028</td>\n",
       "      <td>0.001168</td>\n",
       "      <td>0.000555</td>\n",
       "      <td>4.270000e-13</td>\n",
       "      <td>5.640000e-07</td>\n",
       "      <td>...</td>\n",
       "      <td>0.178157</td>\n",
       "      <td>NaN</td>\n",
       "      <td>NaN</td>\n",
       "      <td>NaN</td>\n",
       "      <td>NaN</td>\n",
       "      <td>NaN</td>\n",
       "      <td>NaN</td>\n",
       "      <td>NaN</td>\n",
       "      <td>NaN</td>\n",
       "      <td>NaN</td>\n",
       "    </tr>\n",
       "    <tr>\n",
       "      <th>T_B4</th>\n",
       "      <td>10.763517</td>\n",
       "      <td>0.071173</td>\n",
       "      <td>0.000379</td>\n",
       "      <td>0.000100</td>\n",
       "      <td>0.0146</td>\n",
       "      <td>0.0031</td>\n",
       "      <td>0.002084</td>\n",
       "      <td>0.000648</td>\n",
       "      <td>7.580000e-07</td>\n",
       "      <td>1.000000e-06</td>\n",
       "      <td>...</td>\n",
       "      <td>0.052547</td>\n",
       "      <td>NaN</td>\n",
       "      <td>NaN</td>\n",
       "      <td>NaN</td>\n",
       "      <td>NaN</td>\n",
       "      <td>NaN</td>\n",
       "      <td>NaN</td>\n",
       "      <td>NaN</td>\n",
       "      <td>NaN</td>\n",
       "      <td>NaN</td>\n",
       "    </tr>\n",
       "    <tr>\n",
       "      <th>T_B5</th>\n",
       "      <td>12.942958</td>\n",
       "      <td>0.074808</td>\n",
       "      <td>0.000230</td>\n",
       "      <td>0.000033</td>\n",
       "      <td>0.0182</td>\n",
       "      <td>0.0040</td>\n",
       "      <td>0.001141</td>\n",
       "      <td>0.000447</td>\n",
       "      <td>3.970000e-13</td>\n",
       "      <td>4.670000e-07</td>\n",
       "      <td>...</td>\n",
       "      <td>0.042655</td>\n",
       "      <td>NaN</td>\n",
       "      <td>NaN</td>\n",
       "      <td>NaN</td>\n",
       "      <td>NaN</td>\n",
       "      <td>NaN</td>\n",
       "      <td>NaN</td>\n",
       "      <td>NaN</td>\n",
       "      <td>NaN</td>\n",
       "      <td>NaN</td>\n",
       "    </tr>\n",
       "  </tbody>\n",
       "</table>\n",
       "<p>5 rows × 36 columns</p>\n",
       "</div>"
      ],
      "text/plain": [
       "      TEP_mean_uV_C  TEP_error_uV_C  Absorption_avg_500  Absorption_std_500  \\\n",
       "T_B1      12.947951        0.073112            0.000234            0.000018   \n",
       "T_B2      12.920068        0.077814            0.000571            0.000139   \n",
       "T_B3      12.932865        0.088762            0.000244            0.000030   \n",
       "T_B4      10.763517        0.071173            0.000379            0.000100   \n",
       "T_B5      12.942958        0.074808            0.000230            0.000033   \n",
       "\n",
       "      backscatter_avg  backscatter_std  Absorption_avg_50  Absorption_std_50  \\\n",
       "T_B1           0.0175           0.0042           0.001264           0.000519   \n",
       "T_B2           0.0240           0.0057           0.002486           0.000816   \n",
       "T_B3           0.0134           0.0028           0.001168           0.000555   \n",
       "T_B4           0.0146           0.0031           0.002084           0.000648   \n",
       "T_B5           0.0182           0.0040           0.001141           0.000447   \n",
       "\n",
       "                 A         A std  ...   std_MBN  median_CF_g  mean_CF_g  \\\n",
       "T_B1  4.410000e-13  4.090000e-07  ...  0.127282          NaN        NaN   \n",
       "T_B2  1.520000e-06  1.510000e-06  ...  0.110443          NaN        NaN   \n",
       "T_B3  4.270000e-13  5.640000e-07  ...  0.178157          NaN        NaN   \n",
       "T_B4  7.580000e-07  1.000000e-06  ...  0.052547          NaN        NaN   \n",
       "T_B5  3.970000e-13  4.670000e-07  ...  0.042655          NaN        NaN   \n",
       "\n",
       "      std_CF_g  median_perm_g  mean_perm_g  std_perm_g  median_pMBN_g  \\\n",
       "T_B1       NaN            NaN          NaN         NaN            NaN   \n",
       "T_B2       NaN            NaN          NaN         NaN            NaN   \n",
       "T_B3       NaN            NaN          NaN         NaN            NaN   \n",
       "T_B4       NaN            NaN          NaN         NaN            NaN   \n",
       "T_B5       NaN            NaN          NaN         NaN            NaN   \n",
       "\n",
       "      mean_pMBN_g  std_pMBN_g  \n",
       "T_B1          NaN         NaN  \n",
       "T_B2          NaN         NaN  \n",
       "T_B3          NaN         NaN  \n",
       "T_B4          NaN         NaN  \n",
       "T_B5          NaN         NaN  \n",
       "\n",
       "[5 rows x 36 columns]"
      ]
     },
     "execution_count": 2,
     "metadata": {},
     "output_type": "execute_result"
    }
   ],
   "source": [
    "data_path = \"../../Data/Merged_data\"\n",
    "df = pd.read_csv(os.path.join(data_path, 'ALL_TUBE_PIPE_merge_1.csv'), \n",
    "                 index_col=0)\n",
    "df.head()"
   ]
  },
  {
   "cell_type": "markdown",
   "metadata": {},
   "source": [
    "## Calculating new values"
   ]
  },
  {
   "cell_type": "code",
   "execution_count": 3,
   "metadata": {},
   "outputs": [],
   "source": [
    "calc_df = mc.updated_df(df, mc.measures_list, mc.errors_list)"
   ]
  },
  {
   "cell_type": "code",
   "execution_count": 4,
   "metadata": {},
   "outputs": [
    {
     "data": {
      "text/html": [
       "<div>\n",
       "<style scoped>\n",
       "    .dataframe tbody tr th:only-of-type {\n",
       "        vertical-align: middle;\n",
       "    }\n",
       "\n",
       "    .dataframe tbody tr th {\n",
       "        vertical-align: top;\n",
       "    }\n",
       "\n",
       "    .dataframe thead th {\n",
       "        text-align: right;\n",
       "    }\n",
       "</style>\n",
       "<table border=\"1\" class=\"dataframe\">\n",
       "  <thead>\n",
       "    <tr style=\"text-align: right;\">\n",
       "      <th></th>\n",
       "      <th>TEP_mean_uV_C</th>\n",
       "      <th>TEP_error_uV_C</th>\n",
       "      <th>Absorption_avg_500</th>\n",
       "      <th>Absorption_std_500</th>\n",
       "      <th>backscatter_avg</th>\n",
       "      <th>backscatter_std</th>\n",
       "      <th>Absorption_avg_50</th>\n",
       "      <th>Absorption_std_50</th>\n",
       "      <th>A</th>\n",
       "      <th>A std</th>\n",
       "      <th>...</th>\n",
       "      <th>mean_MBN_UB</th>\n",
       "      <th>mean_CF_g_UB</th>\n",
       "      <th>mean_perm_g_UB</th>\n",
       "      <th>mean_pMBN_g_UB</th>\n",
       "      <th>AUC_avg</th>\n",
       "      <th>AUC_LB</th>\n",
       "      <th>AUC_UB</th>\n",
       "      <th>AUC_std</th>\n",
       "      <th>CF_perm</th>\n",
       "      <th>CF_perm_std</th>\n",
       "    </tr>\n",
       "  </thead>\n",
       "  <tbody>\n",
       "    <tr>\n",
       "      <th>count</th>\n",
       "      <td>24.000000</td>\n",
       "      <td>24.000000</td>\n",
       "      <td>16.000000</td>\n",
       "      <td>16.000000</td>\n",
       "      <td>24.000000</td>\n",
       "      <td>16.000000</td>\n",
       "      <td>24.000000</td>\n",
       "      <td>24.000000</td>\n",
       "      <td>2.400000e+01</td>\n",
       "      <td>2.400000e+01</td>\n",
       "      <td>...</td>\n",
       "      <td>24.000000</td>\n",
       "      <td>8.000000</td>\n",
       "      <td>8.000000</td>\n",
       "      <td>8.000000</td>\n",
       "      <td>24.000000</td>\n",
       "      <td>24.000000</td>\n",
       "      <td>24.000000</td>\n",
       "      <td>24.000000</td>\n",
       "      <td>24.000000</td>\n",
       "      <td>24.000000</td>\n",
       "    </tr>\n",
       "    <tr>\n",
       "      <th>mean</th>\n",
       "      <td>12.444946</td>\n",
       "      <td>0.094940</td>\n",
       "      <td>0.000356</td>\n",
       "      <td>0.000058</td>\n",
       "      <td>0.022125</td>\n",
       "      <td>0.004994</td>\n",
       "      <td>0.001851</td>\n",
       "      <td>0.000611</td>\n",
       "      <td>2.139557e-07</td>\n",
       "      <td>5.654833e-07</td>\n",
       "      <td>...</td>\n",
       "      <td>0.624929</td>\n",
       "      <td>1.045359</td>\n",
       "      <td>122.415019</td>\n",
       "      <td>0.733929</td>\n",
       "      <td>6.065558</td>\n",
       "      <td>3.991885</td>\n",
       "      <td>8.139230</td>\n",
       "      <td>2.073672</td>\n",
       "      <td>0.036075</td>\n",
       "      <td>0.040161</td>\n",
       "    </tr>\n",
       "    <tr>\n",
       "      <th>std</th>\n",
       "      <td>0.882849</td>\n",
       "      <td>0.024646</td>\n",
       "      <td>0.000108</td>\n",
       "      <td>0.000037</td>\n",
       "      <td>0.005491</td>\n",
       "      <td>0.001762</td>\n",
       "      <td>0.000614</td>\n",
       "      <td>0.000220</td>\n",
       "      <td>5.191123e-07</td>\n",
       "      <td>4.960846e-07</td>\n",
       "      <td>...</td>\n",
       "      <td>0.261966</td>\n",
       "      <td>0.356661</td>\n",
       "      <td>20.551191</td>\n",
       "      <td>0.320290</td>\n",
       "      <td>3.740373</td>\n",
       "      <td>2.223343</td>\n",
       "      <td>5.445129</td>\n",
       "      <td>1.818227</td>\n",
       "      <td>0.047215</td>\n",
       "      <td>0.035018</td>\n",
       "    </tr>\n",
       "    <tr>\n",
       "      <th>min</th>\n",
       "      <td>10.763517</td>\n",
       "      <td>0.071173</td>\n",
       "      <td>0.000230</td>\n",
       "      <td>0.000018</td>\n",
       "      <td>0.013400</td>\n",
       "      <td>0.002800</td>\n",
       "      <td>0.000933</td>\n",
       "      <td>0.000210</td>\n",
       "      <td>2.010000e-13</td>\n",
       "      <td>9.860000e-08</td>\n",
       "      <td>...</td>\n",
       "      <td>0.307519</td>\n",
       "      <td>0.560895</td>\n",
       "      <td>83.640677</td>\n",
       "      <td>0.118188</td>\n",
       "      <td>2.064942</td>\n",
       "      <td>1.618793</td>\n",
       "      <td>2.425848</td>\n",
       "      <td>0.360906</td>\n",
       "      <td>0.004743</td>\n",
       "      <td>0.006812</td>\n",
       "    </tr>\n",
       "    <tr>\n",
       "      <th>25%</th>\n",
       "      <td>12.114038</td>\n",
       "      <td>0.077206</td>\n",
       "      <td>0.000273</td>\n",
       "      <td>0.000028</td>\n",
       "      <td>0.018125</td>\n",
       "      <td>0.003700</td>\n",
       "      <td>0.001373</td>\n",
       "      <td>0.000445</td>\n",
       "      <td>4.260000e-13</td>\n",
       "      <td>1.262500e-07</td>\n",
       "      <td>...</td>\n",
       "      <td>0.420057</td>\n",
       "      <td>0.901279</td>\n",
       "      <td>117.562287</td>\n",
       "      <td>0.614704</td>\n",
       "      <td>2.216984</td>\n",
       "      <td>1.789498</td>\n",
       "      <td>2.759326</td>\n",
       "      <td>0.461821</td>\n",
       "      <td>0.008661</td>\n",
       "      <td>0.011857</td>\n",
       "    </tr>\n",
       "    <tr>\n",
       "      <th>50%</th>\n",
       "      <td>12.926379</td>\n",
       "      <td>0.090211</td>\n",
       "      <td>0.000340</td>\n",
       "      <td>0.000049</td>\n",
       "      <td>0.022600</td>\n",
       "      <td>0.004650</td>\n",
       "      <td>0.001747</td>\n",
       "      <td>0.000598</td>\n",
       "      <td>1.152100e-10</td>\n",
       "      <td>4.440000e-07</td>\n",
       "      <td>...</td>\n",
       "      <td>0.594378</td>\n",
       "      <td>0.943838</td>\n",
       "      <td>124.250330</td>\n",
       "      <td>0.834045</td>\n",
       "      <td>5.734400</td>\n",
       "      <td>3.772048</td>\n",
       "      <td>7.549144</td>\n",
       "      <td>1.628287</td>\n",
       "      <td>0.016635</td>\n",
       "      <td>0.018800</td>\n",
       "    </tr>\n",
       "    <tr>\n",
       "      <th>75%</th>\n",
       "      <td>12.985953</td>\n",
       "      <td>0.102029</td>\n",
       "      <td>0.000415</td>\n",
       "      <td>0.000078</td>\n",
       "      <td>0.025700</td>\n",
       "      <td>0.005825</td>\n",
       "      <td>0.002148</td>\n",
       "      <td>0.000788</td>\n",
       "      <td>9.282500e-08</td>\n",
       "      <td>6.730000e-07</td>\n",
       "      <td>...</td>\n",
       "      <td>0.727303</td>\n",
       "      <td>1.161633</td>\n",
       "      <td>129.929706</td>\n",
       "      <td>0.918169</td>\n",
       "      <td>7.319179</td>\n",
       "      <td>4.822983</td>\n",
       "      <td>9.452404</td>\n",
       "      <td>2.470115</td>\n",
       "      <td>0.027512</td>\n",
       "      <td>0.074110</td>\n",
       "    </tr>\n",
       "    <tr>\n",
       "      <th>max</th>\n",
       "      <td>13.169977</td>\n",
       "      <td>0.182199</td>\n",
       "      <td>0.000571</td>\n",
       "      <td>0.000139</td>\n",
       "      <td>0.035900</td>\n",
       "      <td>0.008700</td>\n",
       "      <td>0.003377</td>\n",
       "      <td>0.001147</td>\n",
       "      <td>2.070000e-06</td>\n",
       "      <td>1.730000e-06</td>\n",
       "      <td>...</td>\n",
       "      <td>1.214995</td>\n",
       "      <td>1.733224</td>\n",
       "      <td>153.463592</td>\n",
       "      <td>1.087872</td>\n",
       "      <td>15.173947</td>\n",
       "      <td>10.594118</td>\n",
       "      <td>19.753776</td>\n",
       "      <td>6.339571</td>\n",
       "      <td>0.140894</td>\n",
       "      <td>0.111871</td>\n",
       "    </tr>\n",
       "  </tbody>\n",
       "</table>\n",
       "<p>8 rows × 72 columns</p>\n",
       "</div>"
      ],
      "text/plain": [
       "       TEP_mean_uV_C  TEP_error_uV_C  Absorption_avg_500  Absorption_std_500  \\\n",
       "count      24.000000       24.000000           16.000000           16.000000   \n",
       "mean       12.444946        0.094940            0.000356            0.000058   \n",
       "std         0.882849        0.024646            0.000108            0.000037   \n",
       "min        10.763517        0.071173            0.000230            0.000018   \n",
       "25%        12.114038        0.077206            0.000273            0.000028   \n",
       "50%        12.926379        0.090211            0.000340            0.000049   \n",
       "75%        12.985953        0.102029            0.000415            0.000078   \n",
       "max        13.169977        0.182199            0.000571            0.000139   \n",
       "\n",
       "       backscatter_avg  backscatter_std  Absorption_avg_50  Absorption_std_50  \\\n",
       "count        24.000000        16.000000          24.000000          24.000000   \n",
       "mean          0.022125         0.004994           0.001851           0.000611   \n",
       "std           0.005491         0.001762           0.000614           0.000220   \n",
       "min           0.013400         0.002800           0.000933           0.000210   \n",
       "25%           0.018125         0.003700           0.001373           0.000445   \n",
       "50%           0.022600         0.004650           0.001747           0.000598   \n",
       "75%           0.025700         0.005825           0.002148           0.000788   \n",
       "max           0.035900         0.008700           0.003377           0.001147   \n",
       "\n",
       "                  A         A std  ...  mean_MBN_UB  mean_CF_g_UB  \\\n",
       "count  2.400000e+01  2.400000e+01  ...    24.000000      8.000000   \n",
       "mean   2.139557e-07  5.654833e-07  ...     0.624929      1.045359   \n",
       "std    5.191123e-07  4.960846e-07  ...     0.261966      0.356661   \n",
       "min    2.010000e-13  9.860000e-08  ...     0.307519      0.560895   \n",
       "25%    4.260000e-13  1.262500e-07  ...     0.420057      0.901279   \n",
       "50%    1.152100e-10  4.440000e-07  ...     0.594378      0.943838   \n",
       "75%    9.282500e-08  6.730000e-07  ...     0.727303      1.161633   \n",
       "max    2.070000e-06  1.730000e-06  ...     1.214995      1.733224   \n",
       "\n",
       "       mean_perm_g_UB  mean_pMBN_g_UB    AUC_avg     AUC_LB     AUC_UB  \\\n",
       "count        8.000000        8.000000  24.000000  24.000000  24.000000   \n",
       "mean       122.415019        0.733929   6.065558   3.991885   8.139230   \n",
       "std         20.551191        0.320290   3.740373   2.223343   5.445129   \n",
       "min         83.640677        0.118188   2.064942   1.618793   2.425848   \n",
       "25%        117.562287        0.614704   2.216984   1.789498   2.759326   \n",
       "50%        124.250330        0.834045   5.734400   3.772048   7.549144   \n",
       "75%        129.929706        0.918169   7.319179   4.822983   9.452404   \n",
       "max        153.463592        1.087872  15.173947  10.594118  19.753776   \n",
       "\n",
       "         AUC_std    CF_perm  CF_perm_std  \n",
       "count  24.000000  24.000000    24.000000  \n",
       "mean    2.073672   0.036075     0.040161  \n",
       "std     1.818227   0.047215     0.035018  \n",
       "min     0.360906   0.004743     0.006812  \n",
       "25%     0.461821   0.008661     0.011857  \n",
       "50%     1.628287   0.016635     0.018800  \n",
       "75%     2.470115   0.027512     0.074110  \n",
       "max     6.339571   0.140894     0.111871  \n",
       "\n",
       "[8 rows x 72 columns]"
      ]
     },
     "execution_count": 4,
     "metadata": {},
     "output_type": "execute_result"
    }
   ],
   "source": [
    "calc_df.describe()"
   ]
  },
  {
   "cell_type": "markdown",
   "metadata": {},
   "source": [
    "## Scaling values"
   ]
  },
  {
   "cell_type": "code",
   "execution_count": 5,
   "metadata": {},
   "outputs": [
    {
     "data": {
      "text/html": [
       "<div>\n",
       "<style scoped>\n",
       "    .dataframe tbody tr th:only-of-type {\n",
       "        vertical-align: middle;\n",
       "    }\n",
       "\n",
       "    .dataframe tbody tr th {\n",
       "        vertical-align: top;\n",
       "    }\n",
       "\n",
       "    .dataframe thead th {\n",
       "        text-align: right;\n",
       "    }\n",
       "</style>\n",
       "<table border=\"1\" class=\"dataframe\">\n",
       "  <thead>\n",
       "    <tr style=\"text-align: right;\">\n",
       "      <th></th>\n",
       "      <th>TEP_mean_uV_C</th>\n",
       "      <th>TEP_error_uV_C</th>\n",
       "      <th>Absorption_avg_500</th>\n",
       "      <th>Absorption_std_500</th>\n",
       "      <th>backscatter_avg</th>\n",
       "      <th>backscatter_std</th>\n",
       "      <th>Absorption_avg_50</th>\n",
       "      <th>Absorption_std_50</th>\n",
       "      <th>A</th>\n",
       "      <th>A std</th>\n",
       "      <th>...</th>\n",
       "      <th>mean_MBN_UB</th>\n",
       "      <th>mean_CF_g_UB</th>\n",
       "      <th>mean_perm_g_UB</th>\n",
       "      <th>mean_pMBN_g_UB</th>\n",
       "      <th>AUC_avg</th>\n",
       "      <th>AUC_LB</th>\n",
       "      <th>AUC_UB</th>\n",
       "      <th>AUC_std</th>\n",
       "      <th>CF_perm</th>\n",
       "      <th>CF_perm_std</th>\n",
       "    </tr>\n",
       "  </thead>\n",
       "  <tbody>\n",
       "    <tr>\n",
       "      <th>T_B1</th>\n",
       "      <td>0.907738</td>\n",
       "      <td>0.017461</td>\n",
       "      <td>0.010566</td>\n",
       "      <td>0.000000</td>\n",
       "      <td>0.182222</td>\n",
       "      <td>0.237288</td>\n",
       "      <td>0.135434</td>\n",
       "      <td>0.330382</td>\n",
       "      <td>1.159420e-07</td>\n",
       "      <td>0.190266</td>\n",
       "      <td>...</td>\n",
       "      <td>0.334634</td>\n",
       "      <td>NaN</td>\n",
       "      <td>NaN</td>\n",
       "      <td>NaN</td>\n",
       "      <td>0.301883</td>\n",
       "      <td>0.323365</td>\n",
       "      <td>0.294191</td>\n",
       "      <td>0.190733</td>\n",
       "      <td>0.083521</td>\n",
       "      <td>0.049673</td>\n",
       "    </tr>\n",
       "    <tr>\n",
       "      <th>T_B2</th>\n",
       "      <td>0.896151</td>\n",
       "      <td>0.059814</td>\n",
       "      <td>1.000000</td>\n",
       "      <td>1.000000</td>\n",
       "      <td>0.471111</td>\n",
       "      <td>0.491525</td>\n",
       "      <td>0.635434</td>\n",
       "      <td>0.646362</td>\n",
       "      <td>7.342995e-01</td>\n",
       "      <td>0.865146</td>\n",
       "      <td>...</td>\n",
       "      <td>0.446710</td>\n",
       "      <td>NaN</td>\n",
       "      <td>NaN</td>\n",
       "      <td>NaN</td>\n",
       "      <td>0.770838</td>\n",
       "      <td>0.559721</td>\n",
       "      <td>0.881317</td>\n",
       "      <td>0.864154</td>\n",
       "      <td>0.087820</td>\n",
       "      <td>0.103250</td>\n",
       "    </tr>\n",
       "    <tr>\n",
       "      <th>T_B3</th>\n",
       "      <td>0.901469</td>\n",
       "      <td>0.158423</td>\n",
       "      <td>0.039918</td>\n",
       "      <td>0.098855</td>\n",
       "      <td>0.000000</td>\n",
       "      <td>0.000000</td>\n",
       "      <td>0.096154</td>\n",
       "      <td>0.368786</td>\n",
       "      <td>1.091788e-07</td>\n",
       "      <td>0.285276</td>\n",
       "      <td>...</td>\n",
       "      <td>0.510208</td>\n",
       "      <td>NaN</td>\n",
       "      <td>NaN</td>\n",
       "      <td>NaN</td>\n",
       "      <td>0.281228</td>\n",
       "      <td>0.230134</td>\n",
       "      <td>0.311228</td>\n",
       "      <td>0.285403</td>\n",
       "      <td>0.081138</td>\n",
       "      <td>0.138989</td>\n",
       "    </tr>\n",
       "    <tr>\n",
       "      <th>T_B4</th>\n",
       "      <td>0.000000</td>\n",
       "      <td>0.000000</td>\n",
       "      <td>0.436748</td>\n",
       "      <td>0.678038</td>\n",
       "      <td>0.053333</td>\n",
       "      <td>0.050847</td>\n",
       "      <td>0.470949</td>\n",
       "      <td>0.467570</td>\n",
       "      <td>3.661835e-01</td>\n",
       "      <td>0.552532</td>\n",
       "      <td>...</td>\n",
       "      <td>0.284536</td>\n",
       "      <td>NaN</td>\n",
       "      <td>NaN</td>\n",
       "      <td>NaN</td>\n",
       "      <td>0.532883</td>\n",
       "      <td>0.418142</td>\n",
       "      <td>0.594614</td>\n",
       "      <td>0.554949</td>\n",
       "      <td>0.971500</td>\n",
       "      <td>0.654792</td>\n",
       "    </tr>\n",
       "    <tr>\n",
       "      <th>T_B5</th>\n",
       "      <td>0.905663</td>\n",
       "      <td>0.032736</td>\n",
       "      <td>0.000000</td>\n",
       "      <td>0.128237</td>\n",
       "      <td>0.213333</td>\n",
       "      <td>0.203390</td>\n",
       "      <td>0.085106</td>\n",
       "      <td>0.253680</td>\n",
       "      <td>9.468600e-08</td>\n",
       "      <td>0.225818</td>\n",
       "      <td>...</td>\n",
       "      <td>0.297579</td>\n",
       "      <td>NaN</td>\n",
       "      <td>NaN</td>\n",
       "      <td>NaN</td>\n",
       "      <td>0.333517</td>\n",
       "      <td>0.345820</td>\n",
       "      <td>0.330423</td>\n",
       "      <td>0.226383</td>\n",
       "      <td>0.126549</td>\n",
       "      <td>0.077798</td>\n",
       "    </tr>\n",
       "  </tbody>\n",
       "</table>\n",
       "<p>5 rows × 72 columns</p>\n",
       "</div>"
      ],
      "text/plain": [
       "      TEP_mean_uV_C  TEP_error_uV_C  Absorption_avg_500  Absorption_std_500  \\\n",
       "T_B1       0.907738        0.017461            0.010566            0.000000   \n",
       "T_B2       0.896151        0.059814            1.000000            1.000000   \n",
       "T_B3       0.901469        0.158423            0.039918            0.098855   \n",
       "T_B4       0.000000        0.000000            0.436748            0.678038   \n",
       "T_B5       0.905663        0.032736            0.000000            0.128237   \n",
       "\n",
       "      backscatter_avg  backscatter_std  Absorption_avg_50  Absorption_std_50  \\\n",
       "T_B1         0.182222         0.237288           0.135434           0.330382   \n",
       "T_B2         0.471111         0.491525           0.635434           0.646362   \n",
       "T_B3         0.000000         0.000000           0.096154           0.368786   \n",
       "T_B4         0.053333         0.050847           0.470949           0.467570   \n",
       "T_B5         0.213333         0.203390           0.085106           0.253680   \n",
       "\n",
       "                 A     A std  ...  mean_MBN_UB  mean_CF_g_UB  mean_perm_g_UB  \\\n",
       "T_B1  1.159420e-07  0.190266  ...     0.334634           NaN             NaN   \n",
       "T_B2  7.342995e-01  0.865146  ...     0.446710           NaN             NaN   \n",
       "T_B3  1.091788e-07  0.285276  ...     0.510208           NaN             NaN   \n",
       "T_B4  3.661835e-01  0.552532  ...     0.284536           NaN             NaN   \n",
       "T_B5  9.468600e-08  0.225818  ...     0.297579           NaN             NaN   \n",
       "\n",
       "      mean_pMBN_g_UB   AUC_avg    AUC_LB    AUC_UB   AUC_std   CF_perm  \\\n",
       "T_B1             NaN  0.301883  0.323365  0.294191  0.190733  0.083521   \n",
       "T_B2             NaN  0.770838  0.559721  0.881317  0.864154  0.087820   \n",
       "T_B3             NaN  0.281228  0.230134  0.311228  0.285403  0.081138   \n",
       "T_B4             NaN  0.532883  0.418142  0.594614  0.554949  0.971500   \n",
       "T_B5             NaN  0.333517  0.345820  0.330423  0.226383  0.126549   \n",
       "\n",
       "      CF_perm_std  \n",
       "T_B1     0.049673  \n",
       "T_B2     0.103250  \n",
       "T_B3     0.138989  \n",
       "T_B4     0.654792  \n",
       "T_B5     0.077798  \n",
       "\n",
       "[5 rows x 72 columns]"
      ]
     },
     "execution_count": 5,
     "metadata": {},
     "output_type": "execute_result"
    }
   ],
   "source": [
    "scaled_df = mc.scale_general(calc_df, MinMaxScaler())[0]\n",
    "scaled_df.head()"
   ]
  },
  {
   "cell_type": "markdown",
   "metadata": {},
   "source": [
    "## Selecting sub samples"
   ]
  },
  {
   "cell_type": "code",
   "execution_count": 6,
   "metadata": {},
   "outputs": [],
   "source": [
    "tube, pipe, tube_wo_blind, tube_blind = mc.get_subsample_df(calc_df)"
   ]
  },
  {
   "cell_type": "code",
   "execution_count": 7,
   "metadata": {},
   "outputs": [],
   "source": [
    "tube_scaled, pipe_scaled, tube_wo_blind_scaled, tube_blind_scaled = mc.get_subsample_df(scaled_df)"
   ]
  },
  {
   "cell_type": "code",
   "execution_count": 8,
   "metadata": {},
   "outputs": [],
   "source": [
    "corr_scaled_df = scaled_df.copy().loc[:,mc.correlation_list]\n",
    "tube_scaled_corr, pipe_scaled_corr, \\\n",
    "tube_wo_blind_scaled_corr, tube_blind_scaled_corr = mc.get_subsample_df(corr_scaled_df)"
   ]
  },
  {
   "cell_type": "markdown",
   "metadata": {},
   "source": [
    "# Clustering"
   ]
  },
  {
   "cell_type": "code",
   "execution_count": 11,
   "metadata": {
    "collapsed": true,
    "jupyter": {
     "outputs_hidden": true
    }
   },
   "outputs": [
    {
     "data": {
      "text/plain": [
       "<seaborn.matrix.ClusterGrid at 0x7f407c9e0bb0>"
      ]
     },
     "execution_count": 11,
     "metadata": {},
     "output_type": "execute_result"
    },
    {
     "data": {
      "image/png": "[encoded data removed]",
      "text/plain": [
       "<Figure size 432x576 with 4 Axes>"
      ]
     },
     "metadata": {
      "needs_background": "light"
     },
     "output_type": "display_data"
    }
   ],
   "source": [
    "sns.clustermap(tube_scaled_corr, method='ward', metric='euclidean', cmap='PuBu', figsize=(6,8), dendrogram_ratio=(0.2, 0.2), cbar_pos=(0.05, 0.85, 0.025, 0.1))"
   ]
  },
  {
   "cell_type": "code",
   "execution_count": null,
   "metadata": {},
   "outputs": [],
   "source": [
    "color = 4*['gray',  \n",
    "           'lightseagreen',  'steelblue', 'lightseagreen', 'lightcoral', 'mediumslateblue',\n",
    "           'lightseagreen',  'navy',  'lightcoral',  'navy',\n",
    "            'mediumslateblue',  'mediumslateblue', 'navy', 'lightcoral', 'purple']\n",
    "plot_dendro(tube_scaled_corr, color, )"
   ]
  },
  {
   "cell_type": "code",
   "execution_count": 31,
   "metadata": {},
   "outputs": [
    {
     "data": {
      "image/png": "[encoded data removed]",
      "text/plain": [
       "<Figure size 504x648 with 1 Axes>"
      ]
     },
     "metadata": {},
     "output_type": "display_data"
    }
   ],
   "source": [
    "sns.set_theme(style=\"white\")\n",
    "\n",
    "Z = hierarchy.linkage(tube_scaled_corr,\n",
    "method='ward',\n",
    "metric='euclidean')\n",
    "\n",
    "ax, fig = plt.subplots(figsize=(7,9))\n",
    "color = 4*['gray',  \n",
    "           'lightseagreen',  'steelblue', 'lightseagreen', 'lightcoral', 'mediumslateblue',\n",
    "           'lightseagreen',  'navy',  'lightcoral',  'navy',\n",
    "            'mediumslateblue',  'mediumslateblue', 'navy', 'lightcoral', 'purple']\n",
    "\n",
    "dendro = hierarchy.dendrogram(Z, labels=tube_scaled_corr.index, leaf_rotation=0, orientation='left',\n",
    "                         link_color_func=lambda k: color[k])\n",
    "\n",
    "for i, d, c in zip(dendro['icoord'], dendro['dcoord'], dendro['color_list']):\n",
    "    y = 0.5 * sum(i[1:3])\n",
    "    x = d[1]\n",
    "    plt.plot(x, y, 'o', c=c)\n",
    "    plt.annotate('%.3g'%x, (x, y), xytext=(5, -5),\n",
    "                 textcoords = 'offset points',\n",
    "                 va='bottom', ha='left',\n",
    "                 fontsize=10\n",
    "                )\n",
    "\n",
    "\n",
    "plt.xlabel('Distance')\n",
    "plt.title('Tubes')\n",
    "sns.despine(left=True)"
   ]
  },
  {
   "cell_type": "code",
   "execution_count": 33,
   "metadata": {},
   "outputs": [
    {
     "data": {
      "image/png": "[encoded data removed]",
      "text/plain": [
       "<Figure size 504x648 with 1 Axes>"
      ]
     },
     "metadata": {},
     "output_type": "display_data"
    }
   ],
   "source": [
    "sns.set_theme(style=\"white\")\n",
    "\n",
    "Z_wo = hierarchy.linkage(tube_wo_blind_scaled_corr,\n",
    "method='ward',\n",
    "metric='euclidean')\n",
    "\n",
    "ax, fig = plt.subplots(figsize=(7,9))\n",
    "color = 2*['steelblue', 'lightseagreen', 'mediumslateblue', 'lightcoral', 'navy', 'purple', 'gray', 'gray']\n",
    "dendro = hierarchy.dendrogram(Z_wo, labels=tube_wo_blind_scaled_corr.index, leaf_rotation=0, orientation='left',\n",
    "                         link_color_func=lambda k: color[k])\n",
    "\n",
    "for i, d, c in zip(dendro['icoord'], dendro['dcoord'], dendro['color_list']):\n",
    "    y = 0.5 * sum(i[1:3])\n",
    "    x = d[1]\n",
    "    plt.plot(x, y, 'o', c=c)\n",
    "    plt.annotate('%.3g'%x, (x, y), xytext=(5, -5),\n",
    "                 textcoords = 'offset points',\n",
    "                 va='bottom', ha='left',\n",
    "                 fontsize=10\n",
    "                )\n",
    "\n",
    "plt.xlabel('Distance')\n",
    "plt.title('Tubes')\n",
    "sns.despine(left=True)"
   ]
  },
  {
   "attachments": {
    "397ac63e-b8bd-4f73-83ff-d4b7108a1429.png": {
     "image/png": "[encoded data removed]"
    }
   },
   "cell_type": "markdown",
   "metadata": {},
   "source": [
    "# Cophenetic Correlation Coefficient \n",
    "Calculate the cophenetic distances between each observation in the hierarchical clustering defined by the linkage Z.\n",
    "\n",
    "Suppose that the original data {Xi} have been modeled using a cluster method to produce a dendrogram {Ti}; that is, a simplified model in which data that are \"close\" have been grouped into a hierarchical tree. Define the following distance measures.\n",
    "- x(i, j) = | Xi − Xj |, the ordinary Euclidean distance between the ith and jth observations.\n",
    "- t(i, j) = the dendrogrammatic distance between the model points Ti and Tj. This distance is the height of the node at which these two points are first joined together.\n",
    "\n",
    "Then, letting x ¯ {\\displaystyle {\\bar {x}}} {\\bar {x}} be the average of the x(i, j), and letting t ¯ {\\displaystyle {\\bar {t}}} {\\bar {t}} be the average of the t(i, j), the cophenetic correlation coefficient c is given by\n",
    "\n",
    "\n",
    "\n",
    "![image.png](attachment:397ac63e-b8bd-4f73-83ff-d4b7108a1429.png)"
   ]
  },
  {
   "cell_type": "code",
   "execution_count": 36,
   "metadata": {},
   "outputs": [
    {
     "name": "stdout",
     "output_type": "stream",
     "text": [
      "0.9435106508372496\n"
     ]
    }
   ],
   "source": [
    "# The closer the value is to 1, the better the clustering preserves the original distances.\n",
    "c, coph_dists = hierarchy.cophenet(Z, pdist(tube_scaled_corr))\n",
    "print(c)"
   ]
  },
  {
   "cell_type": "code",
   "execution_count": 37,
   "metadata": {},
   "outputs": [
    {
     "name": "stdout",
     "output_type": "stream",
     "text": [
      "0.9587136202455667\n"
     ]
    }
   ],
   "source": [
    "c, coph_dists = hierarchy.cophenet(Z_wo, pdist(tube_wo_blind_scaled_corr))\n",
    "print(c)"
   ]
  },
  {
   "cell_type": "code",
   "execution_count": 40,
   "metadata": {},
   "outputs": [
    {
     "data": {
      "text/plain": [
       "array([[ 0.17388013,  0.        ,  1.        ,  0.        ],\n",
       "       [ 0.20783508,  0.        ,  1.        ,  0.        ],\n",
       "       [ 0.2069686 ,  0.04679416,  2.        ,  0.70710678],\n",
       "       [ 0.34177867,  0.        ,  1.        ,  0.        ],\n",
       "       [ 0.35761683,  0.        ,  1.        ,  0.        ],\n",
       "       [ 0.3038728 ,  0.13581785,  2.        ,  0.70710678],\n",
       "       [ 0.43265855,  0.        ,  1.        ,  0.        ],\n",
       "       [ 0.40320427,  0.08686891,  2.        ,  0.70710678],\n",
       "       [ 0.46246041,  0.04214619,  2.        ,  0.70710678],\n",
       "       [ 0.32025806,  0.16889662,  5.        ,  1.53555141],\n",
       "       [ 0.39657031,  0.23150669,  7.        ,  1.81642581],\n",
       "       [ 0.60011264,  0.24027602,  3.        ,  1.14578423],\n",
       "       [ 0.58297112,  0.31736645,  3.        ,  1.13286612],\n",
       "       [ 0.59741441,  0.51704076, 11.        ,  2.70348897],\n",
       "       [ 0.8404765 ,  0.7899583 , 13.        ,  2.717816  ]])"
      ]
     },
     "execution_count": 40,
     "metadata": {},
     "output_type": "execute_result"
    }
   ],
   "source": [
    "#HOW???\n",
    "depth = 5\n",
    "incons = hierarchy.inconsistent(Z, depth)\n",
    "incons\n",
    "# avg, std, count, inconsistency "
   ]
  },
  {
   "cell_type": "code",
   "execution_count": 43,
   "metadata": {},
   "outputs": [
    {
     "data": {
      "text/plain": [
       "array([0.        , 0.        , 0.70710678, 0.        , 0.        ,\n",
       "       0.70710678, 0.        , 0.70710678, 0.70710678, 1.53555141,\n",
       "       1.81642581, 1.14578423, 1.13286612, 2.70348897, 2.717816  ])"
      ]
     },
     "execution_count": 43,
     "metadata": {},
     "output_type": "execute_result"
    }
   ],
   "source": [
    "hierarchy.maxinconsts(Z, incons)"
   ]
  },
  {
   "cell_type": "code",
   "execution_count": 53,
   "metadata": {},
   "outputs": [
    {
     "data": {
      "text/plain": [
       "array([0.17388013, 0.20783508, 0.2069686 , 0.34177867, 0.35761683,\n",
       "       0.3038728 , 0.43265855, 0.40320427, 0.46246041, 0.32025806,\n",
       "       0.39657031, 0.60011264, 0.58297112, 0.60011264, 0.8404765 ])"
      ]
     },
     "execution_count": 53,
     "metadata": {},
     "output_type": "execute_result"
    }
   ],
   "source": [
    "hierarchy.maxRstat(Z, incons, 0)"
   ]
  },
  {
   "cell_type": "code",
   "execution_count": 48,
   "metadata": {},
   "outputs": [
    {
     "data": {
      "text/plain": [
       "[<matplotlib.lines.Line2D at 0x7f4078a32580>]"
      ]
     },
     "execution_count": 48,
     "metadata": {},
     "output_type": "execute_result"
    },
    {
     "data": {
      "image/png": "[encoded data removed]",
      "text/plain": [
       "<Figure size 432x288 with 1 Axes>"
      ]
     },
     "metadata": {},
     "output_type": "display_data"
    }
   ],
   "source": [
    "# plot_elbow\n",
    "last = Z[:, 2]\n",
    "last_rev = last[::-1]\n",
    "idxs = np.arange(1, len(last) + 1)\n",
    "plt.plot(idxs, last_rev)"
   ]
  },
  {
   "cell_type": "code",
   "execution_count": 56,
   "metadata": {},
   "outputs": [
    {
     "data": {
      "text/plain": [
       "[<matplotlib.lines.Line2D at 0x7f40788e2fd0>]"
      ]
     },
     "execution_count": 56,
     "metadata": {},
     "output_type": "execute_result"
    },
    {
     "data": {
      "image/png": "[encoded data removed]",
      "text/plain": [
       "<Figure size 432x288 with 1 Axes>"
      ]
     },
     "metadata": {},
     "output_type": "display_data"
    }
   ],
   "source": [
    "# plot_elbow\n",
    "last = Z_wo[:, 2]\n",
    "last_rev = last[::-1]\n",
    "idxs = np.arange(1, len(last) + 1)\n",
    "plt.plot(idxs, last_rev)"
   ]
  },
  {
   "cell_type": "markdown",
   "metadata": {},
   "source": [
    "# fcluster\n",
    "Cluster observation data using a given metric.\n",
    "\n",
    "Clusters the original observations in the n-by-m data matrix X (n observations in m dimensions), using the euclidean distance metric to calculate distances between original observations, performs hierarchical clustering using the single linkage algorithm, and forms flat clusters using the inconsistency method with t as the cut-off threshold."
   ]
  },
  {
   "cell_type": "code",
   "execution_count": 57,
   "metadata": {},
   "outputs": [
    {
     "data": {
      "text/plain": [
       "array([2, 3, 2, 1, 2, 1, 3, 2, 2, 1, 3, 2, 2, 3, 1, 2], dtype=int32)"
      ]
     },
     "execution_count": 57,
     "metadata": {},
     "output_type": "execute_result"
    }
   ],
   "source": [
    "hierarchy.fclusterdata(tube_scaled_corr, t=3, criterion='maxclust', method='ward')"
   ]
  },
  {
   "cell_type": "code",
   "execution_count": 38,
   "metadata": {
    "collapsed": true,
    "jupyter": {
     "outputs_hidden": true
    }
   },
   "outputs": [
    {
     "ename": "TypeError",
     "evalue": "silhouette_score() missing 1 required positional argument: 'labels'",
     "output_type": "error",
     "traceback": [
      "\u001b[0;31m---------------------------------------------------------------------------\u001b[0m",
      "\u001b[0;31mTypeError\u001b[0m                                 Traceback (most recent call last)",
      "\u001b[0;32m<ipython-input-38-82fa265145ff>\u001b[0m in \u001b[0;36m<module>\u001b[0;34m\u001b[0m\n\u001b[1;32m      1\u001b[0m \u001b[0;32mfrom\u001b[0m \u001b[0msklearn\u001b[0m \u001b[0;32mimport\u001b[0m \u001b[0mmetrics\u001b[0m\u001b[0;34m\u001b[0m\u001b[0;34m\u001b[0m\u001b[0m\n\u001b[0;32m----> 2\u001b[0;31m \u001b[0mmetrics\u001b[0m\u001b[0;34m.\u001b[0m\u001b[0msilhouette_score\u001b[0m\u001b[0;34m(\u001b[0m\u001b[0mtube_blind_scaled_corr\u001b[0m\u001b[0;34m)\u001b[0m\u001b[0;34m\u001b[0m\u001b[0;34m\u001b[0m\u001b[0m\n\u001b[0m",
      "\u001b[0;32m~/anaconda3/envs/EPRI/lib/python3.8/site-packages/sklearn/utils/validation.py\u001b[0m in \u001b[0;36minner_f\u001b[0;34m(*args, **kwargs)\u001b[0m\n\u001b[1;32m     70\u001b[0m                           FutureWarning)\n\u001b[1;32m     71\u001b[0m         \u001b[0mkwargs\u001b[0m\u001b[0;34m.\u001b[0m\u001b[0mupdate\u001b[0m\u001b[0;34m(\u001b[0m\u001b[0;34m{\u001b[0m\u001b[0mk\u001b[0m\u001b[0;34m:\u001b[0m \u001b[0marg\u001b[0m \u001b[0;32mfor\u001b[0m \u001b[0mk\u001b[0m\u001b[0;34m,\u001b[0m \u001b[0marg\u001b[0m \u001b[0;32min\u001b[0m \u001b[0mzip\u001b[0m\u001b[0;34m(\u001b[0m\u001b[0msig\u001b[0m\u001b[0;34m.\u001b[0m\u001b[0mparameters\u001b[0m\u001b[0;34m,\u001b[0m \u001b[0margs\u001b[0m\u001b[0;34m)\u001b[0m\u001b[0;34m}\u001b[0m\u001b[0;34m)\u001b[0m\u001b[0;34m\u001b[0m\u001b[0;34m\u001b[0m\u001b[0m\n\u001b[0;32m---> 72\u001b[0;31m         \u001b[0;32mreturn\u001b[0m \u001b[0mf\u001b[0m\u001b[0;34m(\u001b[0m\u001b[0;34m**\u001b[0m\u001b[0mkwargs\u001b[0m\u001b[0;34m)\u001b[0m\u001b[0;34m\u001b[0m\u001b[0;34m\u001b[0m\u001b[0m\n\u001b[0m\u001b[1;32m     73\u001b[0m     \u001b[0;32mreturn\u001b[0m \u001b[0minner_f\u001b[0m\u001b[0;34m\u001b[0m\u001b[0;34m\u001b[0m\u001b[0m\n\u001b[1;32m     74\u001b[0m \u001b[0;34m\u001b[0m\u001b[0m\n",
      "\u001b[0;31mTypeError\u001b[0m: silhouette_score() missing 1 required positional argument: 'labels'"
     ]
    }
   ],
   "source": [
    "from sklearn import metrics\n",
    "metrics.silhouette_score(tube_blind_scaled_corr)"
   ]
  },
  {
   "cell_type": "code",
   "execution_count": null,
   "metadata": {},
   "outputs": [],
   "source": [
    "import plotly.figure_factory as ff\n",
    "import plotly.io as pio\n",
    "dendro = ff.create_dendrogram(pipe_scaled, distfun='ward')\n",
    "dendro.update_layout(width=800, height=500)\n",
    "dendro.show()\n",
    "pio.write_json(dendro, 'test.plotly')"
   ]
  }
 ],
 "metadata": {
  "kernelspec": {
   "display_name": "Python [conda env:EPRI]",
   "language": "python",
   "name": "conda-env-EPRI-py"
  },
  "language_info": {
   "codemirror_mode": {
    "name": "ipython",
    "version": 3
   },
   "file_extension": ".py",
   "mimetype": "text/x-python",
   "name": "python",
   "nbconvert_exporter": "python",
   "pygments_lexer": "ipython3",
   "version": "3.8.5"
  }
 },
 "nbformat": 4,
 "nbformat_minor": 4
}
