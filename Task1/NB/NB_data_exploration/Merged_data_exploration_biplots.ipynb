{
 "cells": [
  {
   "cell_type": "markdown",
   "metadata": {},
   "source": [
    "Plot PCA of all features"
   ]
  },
  {
   "cell_type": "code",
   "execution_count": null,
   "metadata": {},
   "outputs": [],
   "source": [
    "import pandas as pd\n",
    "import os, glob, inspect, sys\n",
    "import seaborn as sns\n",
    "import matplotlib.pyplot as plt\n",
    "from sklearn.decomposition import PCA\n",
    "from sklearn.preprocessing import StandardScaler, MinMaxScaler\n",
    "\n",
    "currentdir = os.path.dirname(os.path.abspath(inspect.getfile(inspect.currentframe())))\n",
    "parentdir = os.path.dirname(currentdir)\n",
    "sys.path.insert(0,parentdir) \n",
    "import epri_mc_lib as mc\n",
    "from importlib import reload\n",
    "reload(mc)"
   ]
  },
  {
   "cell_type": "code",
   "execution_count": null,
   "metadata": {},
   "outputs": [],
   "source": [
    "data_path = \"../../Data/Merged_data\"\n",
    "df = pd.read_csv(os.path.join(data_path, 'ALL_TUBE_PIPE_merge_1.csv'), \n",
    "                 index_col=0)\n",
    "df = df.iloc[:16,:]"
   ]
  },
  {
   "cell_type": "code",
   "execution_count": null,
   "metadata": {},
   "outputs": [],
   "source": [
    "df[\"AUC_avg\"] = mc.findAUC(df, df['A'], df['B'], df['p'])\n",
    "df.drop(columns=[\"A\",\"B\",\"p\",'Absorption_avg_500','Absorption_avg_200',\"mean_perm\",\"mean_MBN\",\"mean_CF\"]+mc.errors_list,inplace=True)\n",
    "df.dropna(axis=1, inplace=True)\n",
    "df.dropna(axis=0, inplace=True)"
   ]
  },
  {
   "cell_type": "code",
   "execution_count": null,
   "metadata": {},
   "outputs": [],
   "source": [
    "scaled_df, scaler = mc.scale_general(df,MinMaxScaler())\n"
   ]
  },
  {
   "cell_type": "code",
   "execution_count": null,
   "metadata": {},
   "outputs": [],
   "source": [
    "pca = PCA(n_components=4, svd_solver='full')\n",
    "pca.fit(scaled_df)\n"
   ]
  },
  {
   "cell_type": "code",
   "execution_count": null,
   "metadata": {},
   "outputs": [],
   "source": [
    "feat = range(1, pca.n_components_ + 1)\n",
    "sns.set_theme(style='white', font_scale=1.2)\n",
    "plt.figure(figsize=(5,5))\n",
    "plt.bar(feat, pca.explained_variance_ratio_, color=sns.color_palette('PuBu_r', 5, desat=0.9))\n",
    "plt.xticks(feat, rotation=90, fontsize=12)\n",
    "plt.ylabel('Variance', fontsize=18, labelpad=10)\n",
    "plt.xlabel('PCA feature', fontsize=18, labelpad=10)\n",
    "plt.title('Explained variance', fontsize=20)\n",
    "plt.xlim(0, 6)"
   ]
  },
  {
   "cell_type": "code",
   "execution_count": null,
   "metadata": {},
   "outputs": [],
   "source": [
    "mc.biplot(pca, scaled_df, 0,1, \"Tubes (PC 1,2)\")"
   ]
  },
  {
   "cell_type": "code",
   "execution_count": null,
   "metadata": {},
   "outputs": [],
   "source": [
    "mc.biplot(pca, scaled_df, 1,2, \"Tubes (PC 2,3)\")"
   ]
  },
  {
   "cell_type": "code",
   "execution_count": null,
   "metadata": {},
   "outputs": [],
   "source": [
    "mc.biplot(pca, scaled_df, 2,3, \"Tubes (PC 3,4)\")"
   ]
  }
 ],
 "metadata": {
  "kernelspec": {
   "display_name": "Python 3",
   "language": "python",
   "name": "python3"
  },
  "language_info": {
   "codemirror_mode": {
    "name": "ipython",
    "version": 3
   },
   "file_extension": ".py",
   "mimetype": "text/x-python",
   "name": "python",
   "nbconvert_exporter": "python",
   "pygments_lexer": "ipython3",
   "version": "3.8.5"
  }
 },
 "nbformat": 4,
 "nbformat_minor": 4
}
