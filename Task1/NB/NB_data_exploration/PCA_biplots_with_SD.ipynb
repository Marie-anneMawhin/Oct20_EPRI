{
 "cells": [
  {
   "cell_type": "markdown",
   "metadata": {},
   "source": [
    "Plot PCA with standard deviation as size"
   ]
  },
  {
   "cell_type": "code",
   "execution_count": null,
   "metadata": {},
   "outputs": [],
   "source": [
    "import pandas as pd\n",
    "import numpy as np\n",
    "import matplotlib.pyplot as plt\n",
    "import seaborn as sns\n",
    "from sklearn.decomposition import PCA\n",
    "\n",
    "from sklearn.preprocessing import MinMaxScaler, StandardScaler\n",
    "from sklearn.cluster import KMeans\n",
    "\n",
    "import os, glob, inspect, sys\n",
    "\n",
    "\n",
    "currentdir = os.path.dirname(os.path.abspath(inspect.getfile(inspect.currentframe())))\n",
    "parentdir = os.path.dirname(currentdir)\n",
    "sys.path.insert(0,parentdir) \n",
    "import epri_mc_lib as mc\n",
    "from importlib import reload\n",
    "reload(mc)"
   ]
  },
  {
   "cell_type": "markdown",
   "metadata": {},
   "source": [
    "# Import data"
   ]
  },
  {
   "cell_type": "code",
   "execution_count": null,
   "metadata": {
    "scrolled": true
   },
   "outputs": [],
   "source": [
    "data_path = \"../../Data/Merged_data\"\n",
    "df = pd.read_csv(os.path.join(data_path, 'ALL_TUBE_PIPE_merge_1.csv'), \n",
    "                 index_col=0)\n"
   ]
  },
  {
   "cell_type": "markdown",
   "metadata": {},
   "source": [
    "## Calculating new values"
   ]
  },
  {
   "cell_type": "code",
   "execution_count": null,
   "metadata": {},
   "outputs": [],
   "source": [
    "calc_df = mc.updated_df(df, mc.measures_list, mc.errors_list)\n"
   ]
  },
  {
   "cell_type": "code",
   "execution_count": null,
   "metadata": {},
   "outputs": [],
   "source": [
    "#calc_df.to_csv('../../Data/ALL_TUBE_PIPE_calc.csv')"
   ]
  },
  {
   "cell_type": "markdown",
   "metadata": {},
   "source": [
    "## Scaling values"
   ]
  },
  {
   "cell_type": "code",
   "execution_count": null,
   "metadata": {},
   "outputs": [],
   "source": [
    "scaled_df = mc.scale_general(calc_df, MinMaxScaler())[0]"
   ]
  },
  {
   "cell_type": "markdown",
   "metadata": {},
   "source": [
    "## Selecting sub samples"
   ]
  },
  {
   "cell_type": "code",
   "execution_count": null,
   "metadata": {},
   "outputs": [],
   "source": [
    "tube_scaled, pipe_scaled, tube_wo_blind_scaled, tube_blind_scaled = mc.get_subsample_df(scaled_df)"
   ]
  },
  {
   "cell_type": "code",
   "execution_count": null,
   "metadata": {},
   "outputs": [],
   "source": [
    "mean_feat = tube_scaled.loc[:, mc.feat_mean]\n",
    "std_feat = tube_scaled.loc[:, mc.feat_stds]"
   ]
  },
  {
   "cell_type": "markdown",
   "metadata": {},
   "source": [
    "# get PCA"
   ]
  },
  {
   "cell_type": "code",
   "execution_count": null,
   "metadata": {},
   "outputs": [],
   "source": [
    "def get_PCA(df, df_std):\n",
    "    col_vector = df.columns\n",
    "    pca = PCA(n_components=0.9, svd_solver='full')\n",
    "    pca = pca.fit(df)\n",
    "    xvector = pca.components_[0] \n",
    "    yvector = pca.components_[1]\n",
    "    \n",
    "    xs = pca.transform(df)[:,0] \n",
    "    ys = pca.transform(df)[:,1]\n",
    "    \n",
    "    df['PC1'] = xs\n",
    "    df['PC2'] = ys\n",
    "    df['stdPC'] = pca.transform(df_std)[:,0]\n",
    "    vector = pd.DataFrame([xvector*max(xs), yvector*max(ys)], columns = col_vector, index=['x_vec', 'y_vec']).T\n",
    "    \n",
    "    return pca, df, vector"
   ]
  },
  {
   "cell_type": "code",
   "execution_count": null,
   "metadata": {},
   "outputs": [],
   "source": [
    "pca_tube = get_PCA(mean_feat, std_feat)"
   ]
  },
  {
   "cell_type": "code",
   "execution_count": null,
   "metadata": {},
   "outputs": [],
   "source": [
    "pca = pca_tube[0]\n",
    "df_pca = pca_tube[1]"
   ]
  },
  {
   "cell_type": "code",
   "execution_count": null,
   "metadata": {},
   "outputs": [],
   "source": [
    "ax, fig = plt.subplots(figsize=(10,10))\n",
    "g = sns.scatterplot(x= 'PC1', y='PC2', size='stdPC', data=pca_tube[1], sizes=(100,2000), alpha=0.8)\n",
    "\n",
    "for i, x, y in zip(pca_tube[1].index, pca_tube[1]['PC1'], pca_tube[1]['PC2']):\n",
    "    plt.annotate(i, (x, y), xytext=(-5, 5),\n",
    "                 textcoords = 'offset points',\n",
    "                 va='bottom', \n",
    "                 ha='right',\n",
    "                 fontsize=10,\n",
    "                fontweight='semibold')\n",
    "for i in range(len(pca_tube[2])):\n",
    "    plt.arrow(0, 0, pca_tube[2].iloc[i,0], pca_tube[2].iloc[i,1],\n",
    "                  color='darkred', width=0.0025, head_width=0.02)\n",
    "    plt.text(pca_tube[2].iloc[i,0]*1.1, pca_tube[2].iloc[i,1]*1.1,\n",
    "                 pca_tube[2].index[i], color='darkred')\n",
    "\n",
    "plt.legend(loc= 'best', bbox_to_anchor=(1.25, 0.93), markerscale=0.2, title='Uncertainties')\n",
    "plt.title('Tubes', fontsize=20)"
   ]
  },
  {
   "cell_type": "code",
   "execution_count": null,
   "metadata": {},
   "outputs": [],
   "source": [
    "feat = range(1, pca.n_components_ + 1)\n",
    "sns.set_theme(style='white', font_scale=1.2)\n",
    "plt.figure(figsize=(5,5))\n",
    "plt.bar(feat, pca.explained_variance_ratio_, color=sns.color_palette('PuBu_r', 5, desat=0.9))\n",
    "plt.xticks(feat, rotation=90, fontsize=12)\n",
    "plt.ylabel('Variance', fontsize=18, labelpad=10)\n",
    "plt.xlabel('PCA feature', fontsize=18, labelpad=10)\n",
    "plt.title('Explained variance', fontsize=20)\n",
    "plt.xlim(0, 6)"
   ]
  },
  {
   "cell_type": "code",
   "execution_count": null,
   "metadata": {},
   "outputs": [],
   "source": []
  }
 ],
 "metadata": {
  "kernelspec": {
   "display_name": "Python 3",
   "language": "python",
   "name": "python3"
  },
  "language_info": {
   "codemirror_mode": {
    "name": "ipython",
    "version": 3
   },
   "file_extension": ".py",
   "mimetype": "text/x-python",
   "name": "python",
   "nbconvert_exporter": "python",
   "pygments_lexer": "ipython3",
   "version": "3.8.5"
  }
 },
 "nbformat": 4,
 "nbformat_minor": 4
}
