{
 "cells": [
  {
   "cell_type": "markdown",
   "metadata": {},
   "source": [
    "Plot correlation of magnetic data"
   ]
  },
  {
   "cell_type": "code",
   "execution_count": null,
   "metadata": {},
   "outputs": [],
   "source": [
    "import pandas as pd\n",
    "import numpy as np\n",
    "import matplotlib.pyplot as plt\n",
    "import seaborn as sns\n",
    "import os\n",
    "import tabula\n",
    "import glob"
   ]
  },
  {
   "cell_type": "code",
   "execution_count": null,
   "metadata": {},
   "outputs": [],
   "source": [
    "def plot_corr(data):\n",
    "    '''\n",
    "    Plot correlation \n",
    "    \n",
    "    Args:\n",
    "    - data: pd dataframe\n",
    "    \n",
    "    '''\n",
    "    corr = data.corr()\n",
    "    sns.set(font_scale=1.2)\n",
    "\n",
    "    with sns.axes_style(\"white\"):\n",
    "        f, ax = plt.subplots(figsize=(5, 5))\n",
    "        ax = sns.heatmap(corr, square=True, cmap='RdBu_r', center=0)\n"
   ]
  },
  {
   "cell_type": "code",
   "execution_count": null,
   "metadata": {},
   "outputs": [],
   "source": [
    "magnetic_pdf = os.path.join(os.path.dirname(os.getcwd()), '../Data/Raw_data/MagneticMethods_Report.pdf')"
   ]
  },
  {
   "cell_type": "code",
   "execution_count": null,
   "metadata": {},
   "outputs": [],
   "source": [
    "tables = tabula.read_pdf(magnetic_pdf, pages=[10,11,12,13], lattice=True, pandas_options={'header':1})"
   ]
  },
  {
   "cell_type": "code",
   "execution_count": null,
   "metadata": {},
   "outputs": [],
   "source": [
    "table_names_boxplot = ['pipe_CF_g', 'pipe_CF_ug', 'pipe_perm_g', 'pipe_perm_ug', 'pipe_MBN_g', 'pipe_MBN_ug',\\\n",
    "              'CF', 'perm', 'MBN', 'CF', 'perm', 'MBN']"
   ]
  },
  {
   "cell_type": "code",
   "execution_count": null,
   "metadata": {},
   "outputs": [],
   "source": [
    "hard_ref = tabula.read_pdf(magnetic_pdf, pages=[5], lattice=True)[0] #get the reference hardness table"
   ]
  },
  {
   "cell_type": "code",
   "execution_count": null,
   "metadata": {},
   "outputs": [],
   "source": [
    "#Cleaning tables\n",
    "for i, df in enumerate(tables):\n",
    "    df.drop(0, inplace=True)\n",
    "    df.rename(columns = {'Unnamed: 0':'Sample'}, inplace=True)\n",
    "    \n",
    "    if i in range(6,9):\n",
    "        df.Sample = df.Sample.str.replace('P91', 'T')\n",
    "        \n",
    "    if i >= 9:\n",
    "        df.Sample = df.Sample.str.replace('B', 'T_B')\n",
    "    #TODO change names of samples\n",
    "    #df.index = hard_ref.Condition.tolist()\n",
    "    #df[['Sample_ID', 'Abbreviation']] = hard_ref[['Condition', 'Pipe short name']].values\n",
    "    df.Sample = df.Sample.str.replace('91', '')\n",
    "    df.set_index(df.iloc[:,0], inplace=True, drop=True)\n",
    "    df.drop('Sample', axis=1, inplace=True)\n"
   ]
  },
  {
   "cell_type": "code",
   "execution_count": null,
   "metadata": {},
   "outputs": [],
   "source": [
    "#boxplot\n",
    "for table, name in zip(tables, table_names_boxplot):\n",
    "    data = table.transpose().astype('float')\n",
    "    data.plot.box(rot=45, ylabel=name)"
   ]
  },
  {
   "cell_type": "code",
   "execution_count": null,
   "metadata": {},
   "outputs": [],
   "source": [
    "median_all_tubes = pd.read_csv(os.path.join(os.path.dirname(os.getcwd()), '../Data/Cleaned_data/TUBE_magnetic_param_median.csv'))"
   ]
  },
  {
   "cell_type": "code",
   "execution_count": null,
   "metadata": {},
   "outputs": [],
   "source": [
    "plot_corr(median_all_tubes)"
   ]
  },
  {
   "cell_type": "code",
   "execution_count": null,
   "metadata": {},
   "outputs": [],
   "source": [
    "median_g_pipes = pd.read_csv(os.path.join(os.path.dirname(os.getcwd()), '../Data/Cleaned_data/PIPE_magnetic_param_median.csv'))"
   ]
  },
  {
   "cell_type": "code",
   "execution_count": null,
   "metadata": {},
   "outputs": [],
   "source": [
    "plot_corr(median_g_pipes)"
   ]
  }
 ],
 "metadata": {
  "kernelspec": {
   "display_name": "Python [conda env:EPRI]",
   "language": "python",
   "name": "conda-env-EPRI-py"
  },
  "language_info": {
   "codemirror_mode": {
    "name": "ipython",
    "version": 3
   },
   "file_extension": ".py",
   "mimetype": "text/x-python",
   "name": "python",
   "nbconvert_exporter": "python",
   "pygments_lexer": "ipython3",
   "version": "3.8.5"
  }
 },
 "nbformat": 4,
 "nbformat_minor": 4
}
