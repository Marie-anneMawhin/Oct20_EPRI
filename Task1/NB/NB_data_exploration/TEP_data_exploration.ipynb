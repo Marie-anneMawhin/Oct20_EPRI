{
 "cells": [
  {
   "cell_type": "markdown",
   "metadata": {},
   "source": [
    "Plot distribution of TEP data"
   ]
  },
  {
   "cell_type": "code",
   "execution_count": null,
   "metadata": {},
   "outputs": [],
   "source": [
    "import pandas as pd\n",
    "import os\n",
    "import seaborn as sns\n",
    "import matplotlib.pyplot as plt"
   ]
  },
  {
   "cell_type": "code",
   "execution_count": null,
   "metadata": {},
   "outputs": [],
   "source": [
    "clean_pipe = os.path.join(os.path.dirname(os.getcwd()),'../Data/Cleaned_data/PIPE_tep_param_mean.csv')\n",
    "clean_tube = os.path.join(os.path.dirname(os.getcwd()),'../Data/Cleaned_data/TUBE_tep_param_mean.csv')\n",
    "\n",
    "tep_pipe = pd.read_csv(clean_pipe)\n",
    "tep_tube = pd.read_csv(clean_tube)\n"
   ]
  },
  {
   "cell_type": "code",
   "execution_count": null,
   "metadata": {},
   "outputs": [],
   "source": [
    "def plot_barplot(labels,heights,error,title_text):\n",
    "    fig, ax = plt.subplots()\n",
    "    ax.bar(labels,heights,yerr=error, align='center', alpha=0.5, ecolor='black', capsize=10, color=\"gray\")\n",
    "    ax.set_yscale('log')\n",
    "    ax.set_title(title_text)\n",
    "    ax.set_ylabel('Thermoelectric power (uV/C)')\n",
    "    plt.xticks(rotation=45)\n",
    "    plt.show()"
   ]
  },
  {
   "cell_type": "code",
   "execution_count": null,
   "metadata": {},
   "outputs": [],
   "source": [
    "plot_barplot(tep_pipe[\"Condition\"],tep_pipe[\"TEP_mean_uV_C\"],tep_pipe[\"TEP_stdev_uV_C\"],'Pipes')"
   ]
  },
  {
   "cell_type": "code",
   "execution_count": null,
   "metadata": {},
   "outputs": [],
   "source": [
    "tep_tube_unknown = tep_tube.loc[:7,]\n",
    "plot_barplot(tep_tube_unknown[\"Condition\"],tep_tube_unknown[\"TEP_mean_uV_C\"],tep_tube_unknown[\"TEP_stdev_uV_C\"],'Tubes (Unknown)')\n"
   ]
  },
  {
   "cell_type": "code",
   "execution_count": null,
   "metadata": {},
   "outputs": [],
   "source": [
    "tep_tube_known = tep_tube.loc[8:,]\n",
    "plot_barplot(tep_tube_known[\"Condition\"],tep_tube_known[\"TEP_mean_uV_C\"],tep_tube_known[\"TEP_stdev_uV_C\"],'Tubes (Known)')\n"
   ]
  },
  {
   "cell_type": "code",
   "execution_count": null,
   "metadata": {},
   "outputs": [],
   "source": []
  },
  {
   "cell_type": "code",
   "execution_count": null,
   "metadata": {},
   "outputs": [],
   "source": []
  }
 ],
 "metadata": {
  "kernelspec": {
   "display_name": "Python 3",
   "language": "python",
   "name": "python3"
  },
  "language_info": {
   "codemirror_mode": {
    "name": "ipython",
    "version": 3
   },
   "file_extension": ".py",
   "mimetype": "text/x-python",
   "name": "python",
   "nbconvert_exporter": "python",
   "pygments_lexer": "ipython3",
   "version": "3.8.5"
  }
 },
 "nbformat": 4,
 "nbformat_minor": 4
}
