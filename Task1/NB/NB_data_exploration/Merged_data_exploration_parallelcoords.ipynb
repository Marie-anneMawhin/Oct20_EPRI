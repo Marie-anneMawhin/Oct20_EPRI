{
 "cells": [
  {
   "cell_type": "markdown",
   "metadata": {},
   "source": [
    "## Parallel coordinates plots\n",
    "\n",
    "These plots essentially allow you to visualize a high dimensional scatterplot in 2-D by laying out the axis and then for each sample connecting its values with a line. Samples with similar line shapes are similar in some sense."
   ]
  },
  {
   "cell_type": "code",
   "execution_count": null,
   "metadata": {},
   "outputs": [],
   "source": [
    "import pandas as pd\n",
    "import os, sys, glob, inspect\n",
    "import matplotlib\n",
    "import matplotlib.pyplot as plt\n",
    "from pandas.plotting import parallel_coordinates\n",
    "from importlib import reload\n",
    "from sklearn.preprocessing import StandardScaler, MinMaxScaler\n",
    "\n",
    "currentdir = os.path.dirname(os.path.abspath(inspect.getfile(inspect.currentframe())))\n",
    "parentdir = os.path.dirname(currentdir)\n",
    "sys.path.insert(0,parentdir) \n",
    "import epri_mc_lib as mc\n"
   ]
  },
  {
   "cell_type": "code",
   "execution_count": null,
   "metadata": {},
   "outputs": [],
   "source": [
    "# Otherwise jupyter ignores changes to the module\n",
    "reload(mc)"
   ]
  },
  {
   "cell_type": "code",
   "execution_count": null,
   "metadata": {},
   "outputs": [],
   "source": [
    "merged_tube = pd.read_csv(os.path.join(os.path.dirname(os.getcwd()), '../Data/Merged_data/TUBE_merge_1.csv'),\n",
    "                  index_col=0)\n",
    "merged_pipe = pipe = pd.read_csv(os.path.join(os.path.dirname(os.getcwd()), '../Data/Merged_data/PIPE_merge_1.csv'),\n",
    "                  index_col=0)\n",
    "\n",
    "# Since highly correlated only use one absorption measurement\n",
    "merged_tube = merged_tube.drop(columns=epri_mc_lib.drop_list_absorption_500_200)\n",
    "merged_pipe = merged_pipe.drop(columns=epri_mc_lib.drop_list_absorption_100)\n"
   ]
  },
  {
   "cell_type": "code",
   "execution_count": null,
   "metadata": {},
   "outputs": [],
   "source": [
    "measures_list = [\"TEP_mean_uV_C\",\"backscatter_avg\",\"Absorption_avg_50\",\"A\",\"B\",\"p\",\"median_CF\",\"median_perm\",\"median_MBN\"]\n",
    "errors_list = [\"TEP_error_uV_C\",\"backscatter_std\",\"Absorption_std_50\",\"A std\",\"B std\",\"p std\"]\n",
    "\n",
    "merged_tube[\"AUC_avg\"] = mc.findAUC(merged_tube, merged_tube['A'], merged_tube['B'], merged_tube['p'])\n",
    "\n",
    "data_tube = merged_tube[mc.minimal_informative_features]\n",
    "merged_tube_errors = merged_tube[errors_list]\n",
    "\n",
    "# there is no error value for these measures\n",
    "for col in \"cf_std\",\"mbn_std\",\"perm_std\":\n",
    "    merged_tube_errors[col] = 0\n",
    "    merged_tube[col] = 0\n",
    "\n",
    "merged_tube_lower_bounds,merged_tube_upper_bounds = epri_mc_lib.calc_error_bounds(merged_tube, measures_list, errors_list + [\"cf_std\",\"mbn_std\",\"perm_std\"])"
   ]
  },
  {
   "cell_type": "code",
   "execution_count": null,
   "metadata": {},
   "outputs": [],
   "source": [
    "\n",
    "scaled_tube, scaler = epri_mc_lib.scale_general(data_tube, MinMaxScaler())\n",
    "scaled_tube['condition'] = scaled_tube.index\n",
    "# Ignoring the error bounds for now\n",
    "#scaled_tube_min_boundary = transform_df(scaler, data_tube_min_boundary)\n",
    "#scaled_tube_max_boundary = transform_df(scaler, data_tube_max_boundary)\n",
    "#scaled_tube_min_boundary['condition'] = scaled_tube.index\n",
    "#scaled_tube_max_boundary['condition'] = scaled_tube.index\n"
   ]
  },
  {
   "cell_type": "code",
   "execution_count": null,
   "metadata": {},
   "outputs": [],
   "source": [
    "plt.figure(figsize=(10,10))\n",
    "parallel_coordinates(scaled_tube.iloc[8:16,],class_column=\"condition\",color=matplotlib.colors.TABLEAU_COLORS)\n",
    "# Plots the error bars but the figure becomes too noisy\n",
    "#parallel_coordinates(scaled_tube_max_boundary.iloc[8:16,],class_column=\"condition\", alpha=.2,color=matplotlib.colors.TABLEAU_COLORS)\n",
    "#parallel_coordinates(scaled_tube_min_boundary.iloc[8:16,],class_column=\"condition\", alpha=.2,color=matplotlib.colors.TABLEAU_COLORS)\n",
    "plt.xticks(rotation=45)\n",
    "plt.title(\"Tubes (Known)\")\n"
   ]
  },
  {
   "cell_type": "code",
   "execution_count": null,
   "metadata": {},
   "outputs": [],
   "source": [
    "\n",
    "plt.figure(figsize=(10,10))\n",
    "parallel_coordinates(scaled_tube.iloc[:8,],class_column=\"condition\",color=matplotlib.colors.TABLEAU_COLORS)\n",
    "plt.xticks(rotation=45)\n",
    "plt.title(\"Tubes (Unknown)\")\n"
   ]
  },
  {
   "cell_type": "code",
   "execution_count": null,
   "metadata": {},
   "outputs": [],
   "source": [
    "fig = plt.figure(figsize=(20,20))\n",
    "\n",
    "for i in range(16):\n",
    "    ax = fig.add_subplot(4,4,i+1)\n",
    "    if i < 12:\n",
    "        plt.setp(ax.get_xticklabels(), visible=False)\n",
    "    parallel_coordinates(scaled_tube.iloc[i:(i+1),],class_column=\"condition\",color=matplotlib.colors.TABLEAU_COLORS)\n",
    "    plt.xticks(rotation=90)\n",
    "    plt.ylim(0,1)\n"
   ]
  },
  {
   "cell_type": "code",
   "execution_count": null,
   "metadata": {},
   "outputs": [],
   "source": []
  },
  {
   "cell_type": "code",
   "execution_count": null,
   "metadata": {},
   "outputs": [],
   "source": []
  }
 ],
 "metadata": {
  "kernelspec": {
   "display_name": "Python 3",
   "language": "python",
   "name": "python3"
  },
  "language_info": {
   "codemirror_mode": {
    "name": "ipython",
    "version": 3
   },
   "file_extension": ".py",
   "mimetype": "text/x-python",
   "name": "python",
   "nbconvert_exporter": "python",
   "pygments_lexer": "ipython3",
   "version": "3.8.5"
  }
 },
 "nbformat": 4,
 "nbformat_minor": 4
}
