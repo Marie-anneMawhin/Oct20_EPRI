{
 "cells": [
  {
   "cell_type": "code",
   "execution_count": 12,
   "metadata": {},
   "outputs": [],
   "source": [
    "import plotly.express as px\n",
    "import pandas as pd\n",
    "import os\n",
    "from sklearn.preprocessing import StandardScaler\n",
    "import matplotlib"
   ]
  },
  {
   "cell_type": "code",
   "execution_count": 6,
   "metadata": {},
   "outputs": [],
   "source": [
    "def scale_df(df):\n",
    "    scaler = StandardScaler()\n",
    "    df_scaled = pd.DataFrame(scaler.fit_transform(df))\n",
    "    df_scaled.columns = df.columns\n",
    "    df_scaled.index = df.index\n",
    "    return df_scaled"
   ]
  },
  {
   "cell_type": "code",
   "execution_count": null,
   "metadata": {},
   "outputs": [],
   "source": []
  },
  {
   "cell_type": "code",
   "execution_count": 50,
   "metadata": {},
   "outputs": [],
   "source": [
    "merged_tube = pd.read_csv(os.path.join(os.path.dirname(os.getcwd()), '../Data/Merged_data/TUBE_merge_1.csv'),\n",
    "                  index_col=0)\n",
    "merged_pipe = pipe = pd.read_csv(os.path.join(os.path.dirname(os.getcwd()), '../Data/Merged_data/PIPE_merge_1.csv'),\n",
    "                  index_col=0)\n",
    "\n",
    "merged_tube = merged_tube.drop(columns=['Absorption_avg_500','Absorption_std_500','Absorption_avg_200','Absorption_std_200'])\n",
    "merged_pipe = merged_pipe.drop(columns=['Absorption_avg_100','Absorption_std_100'])\n",
    "\n",
    "\n",
    "scaled_tube = scale_df(merged_tube)\n",
    "scaled_pipe = scale_df(merged_pipe)"
   ]
  },
  {
   "cell_type": "code",
   "execution_count": 41,
   "metadata": {},
   "outputs": [
    {
     "data": {
      "application/vnd.plotly.v1+json": {
       "config": {
        "plotlyServerURL": "https://plot.ly"
       },
       "data": [
        {
         "dimensions": [
          {
           "label": "TEP_mean_uV_C",
           "values": [
            0.7086023410057762,
            -1.7901089069627132,
            0.6706560628010002,
            0.6918725874124843,
            -0.04711416027597546,
            0.6138015598447321,
            -1.5507920805864834,
            0.7401666689576895
           ]
          },
          {
           "label": "TEP_error_uV_C",
           "values": [
            0.793203531663175,
            -0.617402945215379,
            -0.5644585884994895,
            -1.0687634498599325,
            1.7649684479674115,
            1.1799143188958063,
            -0.9668419350042621,
            -0.1095750057112283
           ]
          },
          {
           "label": "backscatter_avg",
           "values": [
            -0.5732812654666483,
            0.9055096241030921,
            1.2452318554907358,
            -0.35346099809817333,
            0.9055096241030921,
            -0.13364073072969834,
            -1.0329054608734596,
            0.38593444668669724
           ]
          },
          {
           "label": "backscatter_std",
           "values": [
            -0.6998685028392099,
            0.23817514494528108,
            1.8797515285681403,
            -0.46535759089308737,
            0.41405832890487304,
            0.0622919609856891,
            -0.9343794147853327,
            0.7658246968240571
           ]
          },
          {
           "label": "Absorption_avg_50",
           "values": [
            -0.7330366956346983,
            2.004853076108325,
            0.11715782995733617,
            -0.21501800017931072,
            -0.3394010202745309,
            2.3692221585049116,
            -0.09502496902862763,
            -0.5384138524268833
           ]
          },
          {
           "label": "Absorption_std_50",
           "values": [
            -1.665010674971554,
            2.2278180245597548,
            0.04801667573963155,
            1.0891220256142835,
            -0.7360307516889063,
            0.8569808646330591,
            -0.6268122806011381,
            -0.7991532140666278
           ]
          },
          {
           "label": "A",
           "values": [
            -0.492053684467957,
            -0.2538339736289945,
            2.932364460827591,
            -0.492053739060142,
            -0.492053757257537,
            -0.050354011303885476,
            -0.49205374898599386,
            -0.49205371755412974
           ]
          },
          {
           "label": "B",
           "values": [
            -0.5678242335365011,
            0.6158093800325429,
            0.48408544847477974,
            -0.7560012786190202,
            -0.7936366876355239,
            1.4249706738873744,
            -0.7164840991516911,
            -0.6600309856269354
           ]
          },
          {
           "label": "p",
           "values": [
            -0.8744108718598746,
            0.2506589348850926,
            0.43596455011367485,
            -0.8876469872333449,
            -0.808230294992524,
            1.613978818352523,
            -0.09348006482513291,
            -0.3317301415475967
           ]
          },
          {
           "label": "median_CF",
           "values": [
            -0.5412214912961467,
            1.6202669495028876,
            -0.6227620765494152,
            -0.6267396660739647,
            -0.17230006289416483,
            -0.9141205092226785,
            1.7674377619112251,
            -0.6343633793293516
           ]
          },
          {
           "label": "median_perm",
           "values": [
            -0.01024925222973308,
            -1.3824432566340066,
            0.24779074508354862,
            0.2429675675636738,
            -0.07777373750797494,
            1.964841942158843,
            -1.363150546554509,
            0.373193360600284
           ]
          },
          {
           "label": "median_MBN",
           "values": [
            0.23587160286889156,
            0.22135642730772867,
            2.0705897937998383,
            -0.005080311446406655,
            -0.696002668157744,
            2.3173477783396015,
            -1.3317673577366635,
            -0.34183238446537717
           ]
          }
         ],
         "domain": {
          "x": [
           0,
           1
          ],
          "y": [
           0,
           1
          ]
         },
         "name": "",
         "type": "parcoords"
        }
       ],
       "layout": {
        "legend": {
         "tracegroupgap": 0
        },
        "margin": {
         "t": 60
        },
        "template": {
         "data": {
          "bar": [
           {
            "error_x": {
             "color": "#2a3f5f"
            },
            "error_y": {
             "color": "#2a3f5f"
            },
            "marker": {
             "line": {
              "color": "#E5ECF6",
              "width": 0.5
             }
            },
            "type": "bar"
           }
          ],
          "barpolar": [
           {
            "marker": {
             "line": {
              "color": "#E5ECF6",
              "width": 0.5
             }
            },
            "type": "barpolar"
           }
          ],
          "carpet": [
           {
            "aaxis": {
             "endlinecolor": "#2a3f5f",
             "gridcolor": "white",
             "linecolor": "white",
             "minorgridcolor": "white",
             "startlinecolor": "#2a3f5f"
            },
            "baxis": {
             "endlinecolor": "#2a3f5f",
             "gridcolor": "white",
             "linecolor": "white",
             "minorgridcolor": "white",
             "startlinecolor": "#2a3f5f"
            },
            "type": "carpet"
           }
          ],
          "choropleth": [
           {
            "colorbar": {
             "outlinewidth": 0,
             "ticks": ""
            },
            "type": "choropleth"
           }
          ],
          "contour": [
           {
            "colorbar": {
             "outlinewidth": 0,
             "ticks": ""
            },
            "colorscale": [
             [
              0,
              "#0d0887"
             ],
             [
              0.1111111111111111,
              "#46039f"
             ],
             [
              0.2222222222222222,
              "#7201a8"
             ],
             [
              0.3333333333333333,
              "#9c179e"
             ],
             [
              0.4444444444444444,
              "#bd3786"
             ],
             [
              0.5555555555555556,
              "#d8576b"
             ],
             [
              0.6666666666666666,
              "#ed7953"
             ],
             [
              0.7777777777777778,
              "#fb9f3a"
             ],
             [
              0.8888888888888888,
              "#fdca26"
             ],
             [
              1,
              "#f0f921"
             ]
            ],
            "type": "contour"
           }
          ],
          "contourcarpet": [
           {
            "colorbar": {
             "outlinewidth": 0,
             "ticks": ""
            },
            "type": "contourcarpet"
           }
          ],
          "heatmap": [
           {
            "colorbar": {
             "outlinewidth": 0,
             "ticks": ""
            },
            "colorscale": [
             [
              0,
              "#0d0887"
             ],
             [
              0.1111111111111111,
              "#46039f"
             ],
             [
              0.2222222222222222,
              "#7201a8"
             ],
             [
              0.3333333333333333,
              "#9c179e"
             ],
             [
              0.4444444444444444,
              "#bd3786"
             ],
             [
              0.5555555555555556,
              "#d8576b"
             ],
             [
              0.6666666666666666,
              "#ed7953"
             ],
             [
              0.7777777777777778,
              "#fb9f3a"
             ],
             [
              0.8888888888888888,
              "#fdca26"
             ],
             [
              1,
              "#f0f921"
             ]
            ],
            "type": "heatmap"
           }
          ],
          "heatmapgl": [
           {
            "colorbar": {
             "outlinewidth": 0,
             "ticks": ""
            },
            "colorscale": [
             [
              0,
              "#0d0887"
             ],
             [
              0.1111111111111111,
              "#46039f"
             ],
             [
              0.2222222222222222,
              "#7201a8"
             ],
             [
              0.3333333333333333,
              "#9c179e"
             ],
             [
              0.4444444444444444,
              "#bd3786"
             ],
             [
              0.5555555555555556,
              "#d8576b"
             ],
             [
              0.6666666666666666,
              "#ed7953"
             ],
             [
              0.7777777777777778,
              "#fb9f3a"
             ],
             [
              0.8888888888888888,
              "#fdca26"
             ],
             [
              1,
              "#f0f921"
             ]
            ],
            "type": "heatmapgl"
           }
          ],
          "histogram": [
           {
            "marker": {
             "colorbar": {
              "outlinewidth": 0,
              "ticks": ""
             }
            },
            "type": "histogram"
           }
          ],
          "histogram2d": [
           {
            "colorbar": {
             "outlinewidth": 0,
             "ticks": ""
            },
            "colorscale": [
             [
              0,
              "#0d0887"
             ],
             [
              0.1111111111111111,
              "#46039f"
             ],
             [
              0.2222222222222222,
              "#7201a8"
             ],
             [
              0.3333333333333333,
              "#9c179e"
             ],
             [
              0.4444444444444444,
              "#bd3786"
             ],
             [
              0.5555555555555556,
              "#d8576b"
             ],
             [
              0.6666666666666666,
              "#ed7953"
             ],
             [
              0.7777777777777778,
              "#fb9f3a"
             ],
             [
              0.8888888888888888,
              "#fdca26"
             ],
             [
              1,
              "#f0f921"
             ]
            ],
            "type": "histogram2d"
           }
          ],
          "histogram2dcontour": [
           {
            "colorbar": {
             "outlinewidth": 0,
             "ticks": ""
            },
            "colorscale": [
             [
              0,
              "#0d0887"
             ],
             [
              0.1111111111111111,
              "#46039f"
             ],
             [
              0.2222222222222222,
              "#7201a8"
             ],
             [
              0.3333333333333333,
              "#9c179e"
             ],
             [
              0.4444444444444444,
              "#bd3786"
             ],
             [
              0.5555555555555556,
              "#d8576b"
             ],
             [
              0.6666666666666666,
              "#ed7953"
             ],
             [
              0.7777777777777778,
              "#fb9f3a"
             ],
             [
              0.8888888888888888,
              "#fdca26"
             ],
             [
              1,
              "#f0f921"
             ]
            ],
            "type": "histogram2dcontour"
           }
          ],
          "mesh3d": [
           {
            "colorbar": {
             "outlinewidth": 0,
             "ticks": ""
            },
            "type": "mesh3d"
           }
          ],
          "parcoords": [
           {
            "line": {
             "colorbar": {
              "outlinewidth": 0,
              "ticks": ""
             }
            },
            "type": "parcoords"
           }
          ],
          "pie": [
           {
            "automargin": true,
            "type": "pie"
           }
          ],
          "scatter": [
           {
            "marker": {
             "colorbar": {
              "outlinewidth": 0,
              "ticks": ""
             }
            },
            "type": "scatter"
           }
          ],
          "scatter3d": [
           {
            "line": {
             "colorbar": {
              "outlinewidth": 0,
              "ticks": ""
             }
            },
            "marker": {
             "colorbar": {
              "outlinewidth": 0,
              "ticks": ""
             }
            },
            "type": "scatter3d"
           }
          ],
          "scattercarpet": [
           {
            "marker": {
             "colorbar": {
              "outlinewidth": 0,
              "ticks": ""
             }
            },
            "type": "scattercarpet"
           }
          ],
          "scattergeo": [
           {
            "marker": {
             "colorbar": {
              "outlinewidth": 0,
              "ticks": ""
             }
            },
            "type": "scattergeo"
           }
          ],
          "scattergl": [
           {
            "marker": {
             "colorbar": {
              "outlinewidth": 0,
              "ticks": ""
             }
            },
            "type": "scattergl"
           }
          ],
          "scattermapbox": [
           {
            "marker": {
             "colorbar": {
              "outlinewidth": 0,
              "ticks": ""
             }
            },
            "type": "scattermapbox"
           }
          ],
          "scatterpolar": [
           {
            "marker": {
             "colorbar": {
              "outlinewidth": 0,
              "ticks": ""
             }
            },
            "type": "scatterpolar"
           }
          ],
          "scatterpolargl": [
           {
            "marker": {
             "colorbar": {
              "outlinewidth": 0,
              "ticks": ""
             }
            },
            "type": "scatterpolargl"
           }
          ],
          "scatterternary": [
           {
            "marker": {
             "colorbar": {
              "outlinewidth": 0,
              "ticks": ""
             }
            },
            "type": "scatterternary"
           }
          ],
          "surface": [
           {
            "colorbar": {
             "outlinewidth": 0,
             "ticks": ""
            },
            "colorscale": [
             [
              0,
              "#0d0887"
             ],
             [
              0.1111111111111111,
              "#46039f"
             ],
             [
              0.2222222222222222,
              "#7201a8"
             ],
             [
              0.3333333333333333,
              "#9c179e"
             ],
             [
              0.4444444444444444,
              "#bd3786"
             ],
             [
              0.5555555555555556,
              "#d8576b"
             ],
             [
              0.6666666666666666,
              "#ed7953"
             ],
             [
              0.7777777777777778,
              "#fb9f3a"
             ],
             [
              0.8888888888888888,
              "#fdca26"
             ],
             [
              1,
              "#f0f921"
             ]
            ],
            "type": "surface"
           }
          ],
          "table": [
           {
            "cells": {
             "fill": {
              "color": "#EBF0F8"
             },
             "line": {
              "color": "white"
             }
            },
            "header": {
             "fill": {
              "color": "#C8D4E3"
             },
             "line": {
              "color": "white"
             }
            },
            "type": "table"
           }
          ]
         },
         "layout": {
          "annotationdefaults": {
           "arrowcolor": "#2a3f5f",
           "arrowhead": 0,
           "arrowwidth": 1
          },
          "coloraxis": {
           "colorbar": {
            "outlinewidth": 0,
            "ticks": ""
           }
          },
          "colorscale": {
           "diverging": [
            [
             0,
             "#8e0152"
            ],
            [
             0.1,
             "#c51b7d"
            ],
            [
             0.2,
             "#de77ae"
            ],
            [
             0.3,
             "#f1b6da"
            ],
            [
             0.4,
             "#fde0ef"
            ],
            [
             0.5,
             "#f7f7f7"
            ],
            [
             0.6,
             "#e6f5d0"
            ],
            [
             0.7,
             "#b8e186"
            ],
            [
             0.8,
             "#7fbc41"
            ],
            [
             0.9,
             "#4d9221"
            ],
            [
             1,
             "#276419"
            ]
           ],
           "sequential": [
            [
             0,
             "#0d0887"
            ],
            [
             0.1111111111111111,
             "#46039f"
            ],
            [
             0.2222222222222222,
             "#7201a8"
            ],
            [
             0.3333333333333333,
             "#9c179e"
            ],
            [
             0.4444444444444444,
             "#bd3786"
            ],
            [
             0.5555555555555556,
             "#d8576b"
            ],
            [
             0.6666666666666666,
             "#ed7953"
            ],
            [
             0.7777777777777778,
             "#fb9f3a"
            ],
            [
             0.8888888888888888,
             "#fdca26"
            ],
            [
             1,
             "#f0f921"
            ]
           ],
           "sequentialminus": [
            [
             0,
             "#0d0887"
            ],
            [
             0.1111111111111111,
             "#46039f"
            ],
            [
             0.2222222222222222,
             "#7201a8"
            ],
            [
             0.3333333333333333,
             "#9c179e"
            ],
            [
             0.4444444444444444,
             "#bd3786"
            ],
            [
             0.5555555555555556,
             "#d8576b"
            ],
            [
             0.6666666666666666,
             "#ed7953"
            ],
            [
             0.7777777777777778,
             "#fb9f3a"
            ],
            [
             0.8888888888888888,
             "#fdca26"
            ],
            [
             1,
             "#f0f921"
            ]
           ]
          },
          "colorway": [
           "#636efa",
           "#EF553B",
           "#00cc96",
           "#ab63fa",
           "#FFA15A",
           "#19d3f3",
           "#FF6692",
           "#B6E880",
           "#FF97FF",
           "#FECB52"
          ],
          "font": {
           "color": "#2a3f5f"
          },
          "geo": {
           "bgcolor": "white",
           "lakecolor": "white",
           "landcolor": "#E5ECF6",
           "showlakes": true,
           "showland": true,
           "subunitcolor": "white"
          },
          "hoverlabel": {
           "align": "left"
          },
          "hovermode": "closest",
          "mapbox": {
           "style": "light"
          },
          "paper_bgcolor": "white",
          "plot_bgcolor": "#E5ECF6",
          "polar": {
           "angularaxis": {
            "gridcolor": "white",
            "linecolor": "white",
            "ticks": ""
           },
           "bgcolor": "#E5ECF6",
           "radialaxis": {
            "gridcolor": "white",
            "linecolor": "white",
            "ticks": ""
           }
          },
          "scene": {
           "xaxis": {
            "backgroundcolor": "#E5ECF6",
            "gridcolor": "white",
            "gridwidth": 2,
            "linecolor": "white",
            "showbackground": true,
            "ticks": "",
            "zerolinecolor": "white"
           },
           "yaxis": {
            "backgroundcolor": "#E5ECF6",
            "gridcolor": "white",
            "gridwidth": 2,
            "linecolor": "white",
            "showbackground": true,
            "ticks": "",
            "zerolinecolor": "white"
           },
           "zaxis": {
            "backgroundcolor": "#E5ECF6",
            "gridcolor": "white",
            "gridwidth": 2,
            "linecolor": "white",
            "showbackground": true,
            "ticks": "",
            "zerolinecolor": "white"
           }
          },
          "shapedefaults": {
           "line": {
            "color": "#2a3f5f"
           }
          },
          "ternary": {
           "aaxis": {
            "gridcolor": "white",
            "linecolor": "white",
            "ticks": ""
           },
           "baxis": {
            "gridcolor": "white",
            "linecolor": "white",
            "ticks": ""
           },
           "bgcolor": "#E5ECF6",
           "caxis": {
            "gridcolor": "white",
            "linecolor": "white",
            "ticks": ""
           }
          },
          "title": {
           "x": 0.05
          },
          "xaxis": {
           "automargin": true,
           "gridcolor": "white",
           "linecolor": "white",
           "ticks": "",
           "title": {
            "standoff": 15
           },
           "zerolinecolor": "white",
           "zerolinewidth": 2
          },
          "yaxis": {
           "automargin": true,
           "gridcolor": "white",
           "linecolor": "white",
           "ticks": "",
           "title": {
            "standoff": 15
           },
           "zerolinecolor": "white",
           "zerolinewidth": 2
          }
         }
        }
       }
      },
      "text/html": [
       "<div>                            <div id=\"ce69138c-40f3-4148-aca3-9d3466b41a2c\" class=\"plotly-graph-div\" style=\"height:525px; width:100%;\"></div>            <script type=\"text/javascript\">                require([\"plotly\"], function(Plotly) {                    window.PLOTLYENV=window.PLOTLYENV || {};                                    if (document.getElementById(\"ce69138c-40f3-4148-aca3-9d3466b41a2c\")) {                    Plotly.newPlot(                        \"ce69138c-40f3-4148-aca3-9d3466b41a2c\",                        [{\"dimensions\": [{\"label\": \"TEP_mean_uV_C\", \"values\": [0.7086023410057762, -1.7901089069627132, 0.6706560628010002, 0.6918725874124843, -0.04711416027597546, 0.6138015598447321, -1.5507920805864834, 0.7401666689576895]}, {\"label\": \"TEP_error_uV_C\", \"values\": [0.793203531663175, -0.617402945215379, -0.5644585884994895, -1.0687634498599325, 1.7649684479674115, 1.1799143188958063, -0.9668419350042621, -0.1095750057112283]}, {\"label\": \"backscatter_avg\", \"values\": [-0.5732812654666483, 0.9055096241030921, 1.2452318554907358, -0.35346099809817333, 0.9055096241030921, -0.13364073072969834, -1.0329054608734596, 0.38593444668669724]}, {\"label\": \"backscatter_std\", \"values\": [-0.6998685028392099, 0.23817514494528108, 1.8797515285681403, -0.46535759089308737, 0.41405832890487304, 0.0622919609856891, -0.9343794147853327, 0.7658246968240571]}, {\"label\": \"Absorption_avg_50\", \"values\": [-0.7330366956346983, 2.004853076108325, 0.11715782995733617, -0.21501800017931072, -0.3394010202745309, 2.3692221585049116, -0.09502496902862763, -0.5384138524268833]}, {\"label\": \"Absorption_std_50\", \"values\": [-1.665010674971554, 2.2278180245597548, 0.04801667573963155, 1.0891220256142835, -0.7360307516889063, 0.8569808646330591, -0.6268122806011381, -0.7991532140666278]}, {\"label\": \"A\", \"values\": [-0.492053684467957, -0.2538339736289945, 2.932364460827591, -0.492053739060142, -0.492053757257537, -0.050354011303885476, -0.49205374898599386, -0.49205371755412974]}, {\"label\": \"B\", \"values\": [-0.5678242335365011, 0.6158093800325429, 0.48408544847477974, -0.7560012786190202, -0.7936366876355239, 1.4249706738873744, -0.7164840991516911, -0.6600309856269354]}, {\"label\": \"p\", \"values\": [-0.8744108718598746, 0.2506589348850926, 0.43596455011367485, -0.8876469872333449, -0.808230294992524, 1.613978818352523, -0.09348006482513291, -0.3317301415475967]}, {\"label\": \"median_CF\", \"values\": [-0.5412214912961467, 1.6202669495028876, -0.6227620765494152, -0.6267396660739647, -0.17230006289416483, -0.9141205092226785, 1.7674377619112251, -0.6343633793293516]}, {\"label\": \"median_perm\", \"values\": [-0.01024925222973308, -1.3824432566340066, 0.24779074508354862, 0.2429675675636738, -0.07777373750797494, 1.964841942158843, -1.363150546554509, 0.373193360600284]}, {\"label\": \"median_MBN\", \"values\": [0.23587160286889156, 0.22135642730772867, 2.0705897937998383, -0.005080311446406655, -0.696002668157744, 2.3173477783396015, -1.3317673577366635, -0.34183238446537717]}], \"domain\": {\"x\": [0.0, 1.0], \"y\": [0.0, 1.0]}, \"name\": \"\", \"type\": \"parcoords\"}],                        {\"legend\": {\"tracegroupgap\": 0}, \"margin\": {\"t\": 60}, \"template\": {\"data\": {\"bar\": [{\"error_x\": {\"color\": \"#2a3f5f\"}, \"error_y\": {\"color\": \"#2a3f5f\"}, \"marker\": {\"line\": {\"color\": \"#E5ECF6\", \"width\": 0.5}}, \"type\": \"bar\"}], \"barpolar\": [{\"marker\": {\"line\": {\"color\": \"#E5ECF6\", \"width\": 0.5}}, \"type\": \"barpolar\"}], \"carpet\": [{\"aaxis\": {\"endlinecolor\": \"#2a3f5f\", \"gridcolor\": \"white\", \"linecolor\": \"white\", \"minorgridcolor\": \"white\", \"startlinecolor\": \"#2a3f5f\"}, \"baxis\": {\"endlinecolor\": \"#2a3f5f\", \"gridcolor\": \"white\", \"linecolor\": \"white\", \"minorgridcolor\": \"white\", \"startlinecolor\": \"#2a3f5f\"}, \"type\": \"carpet\"}], \"choropleth\": [{\"colorbar\": {\"outlinewidth\": 0, \"ticks\": \"\"}, \"type\": \"choropleth\"}], \"contour\": [{\"colorbar\": {\"outlinewidth\": 0, \"ticks\": \"\"}, \"colorscale\": [[0.0, \"#0d0887\"], [0.1111111111111111, \"#46039f\"], [0.2222222222222222, \"#7201a8\"], [0.3333333333333333, \"#9c179e\"], [0.4444444444444444, \"#bd3786\"], [0.5555555555555556, \"#d8576b\"], [0.6666666666666666, \"#ed7953\"], [0.7777777777777778, \"#fb9f3a\"], [0.8888888888888888, \"#fdca26\"], [1.0, \"#f0f921\"]], \"type\": \"contour\"}], \"contourcarpet\": [{\"colorbar\": {\"outlinewidth\": 0, \"ticks\": \"\"}, \"type\": \"contourcarpet\"}], \"heatmap\": [{\"colorbar\": {\"outlinewidth\": 0, \"ticks\": \"\"}, \"colorscale\": [[0.0, \"#0d0887\"], [0.1111111111111111, \"#46039f\"], [0.2222222222222222, \"#7201a8\"], [0.3333333333333333, \"#9c179e\"], [0.4444444444444444, \"#bd3786\"], [0.5555555555555556, \"#d8576b\"], [0.6666666666666666, \"#ed7953\"], [0.7777777777777778, \"#fb9f3a\"], [0.8888888888888888, \"#fdca26\"], [1.0, \"#f0f921\"]], \"type\": \"heatmap\"}], \"heatmapgl\": [{\"colorbar\": {\"outlinewidth\": 0, \"ticks\": \"\"}, \"colorscale\": [[0.0, \"#0d0887\"], [0.1111111111111111, \"#46039f\"], [0.2222222222222222, \"#7201a8\"], [0.3333333333333333, \"#9c179e\"], [0.4444444444444444, \"#bd3786\"], [0.5555555555555556, \"#d8576b\"], [0.6666666666666666, \"#ed7953\"], [0.7777777777777778, \"#fb9f3a\"], [0.8888888888888888, \"#fdca26\"], [1.0, \"#f0f921\"]], \"type\": \"heatmapgl\"}], \"histogram\": [{\"marker\": {\"colorbar\": {\"outlinewidth\": 0, \"ticks\": \"\"}}, \"type\": \"histogram\"}], \"histogram2d\": [{\"colorbar\": {\"outlinewidth\": 0, \"ticks\": \"\"}, \"colorscale\": [[0.0, \"#0d0887\"], [0.1111111111111111, \"#46039f\"], [0.2222222222222222, \"#7201a8\"], [0.3333333333333333, \"#9c179e\"], [0.4444444444444444, \"#bd3786\"], [0.5555555555555556, \"#d8576b\"], [0.6666666666666666, \"#ed7953\"], [0.7777777777777778, \"#fb9f3a\"], [0.8888888888888888, \"#fdca26\"], [1.0, \"#f0f921\"]], \"type\": \"histogram2d\"}], \"histogram2dcontour\": [{\"colorbar\": {\"outlinewidth\": 0, \"ticks\": \"\"}, \"colorscale\": [[0.0, \"#0d0887\"], [0.1111111111111111, \"#46039f\"], [0.2222222222222222, \"#7201a8\"], [0.3333333333333333, \"#9c179e\"], [0.4444444444444444, \"#bd3786\"], [0.5555555555555556, \"#d8576b\"], [0.6666666666666666, \"#ed7953\"], [0.7777777777777778, \"#fb9f3a\"], [0.8888888888888888, \"#fdca26\"], [1.0, \"#f0f921\"]], \"type\": \"histogram2dcontour\"}], \"mesh3d\": [{\"colorbar\": {\"outlinewidth\": 0, \"ticks\": \"\"}, \"type\": \"mesh3d\"}], \"parcoords\": [{\"line\": {\"colorbar\": {\"outlinewidth\": 0, \"ticks\": \"\"}}, \"type\": \"parcoords\"}], \"pie\": [{\"automargin\": true, \"type\": \"pie\"}], \"scatter\": [{\"marker\": {\"colorbar\": {\"outlinewidth\": 0, \"ticks\": \"\"}}, \"type\": \"scatter\"}], \"scatter3d\": [{\"line\": {\"colorbar\": {\"outlinewidth\": 0, \"ticks\": \"\"}}, \"marker\": {\"colorbar\": {\"outlinewidth\": 0, \"ticks\": \"\"}}, \"type\": \"scatter3d\"}], \"scattercarpet\": [{\"marker\": {\"colorbar\": {\"outlinewidth\": 0, \"ticks\": \"\"}}, \"type\": \"scattercarpet\"}], \"scattergeo\": [{\"marker\": {\"colorbar\": {\"outlinewidth\": 0, \"ticks\": \"\"}}, \"type\": \"scattergeo\"}], \"scattergl\": [{\"marker\": {\"colorbar\": {\"outlinewidth\": 0, \"ticks\": \"\"}}, \"type\": \"scattergl\"}], \"scattermapbox\": [{\"marker\": {\"colorbar\": {\"outlinewidth\": 0, \"ticks\": \"\"}}, \"type\": \"scattermapbox\"}], \"scatterpolar\": [{\"marker\": {\"colorbar\": {\"outlinewidth\": 0, \"ticks\": \"\"}}, \"type\": \"scatterpolar\"}], \"scatterpolargl\": [{\"marker\": {\"colorbar\": {\"outlinewidth\": 0, \"ticks\": \"\"}}, \"type\": \"scatterpolargl\"}], \"scatterternary\": [{\"marker\": {\"colorbar\": {\"outlinewidth\": 0, \"ticks\": \"\"}}, \"type\": \"scatterternary\"}], \"surface\": [{\"colorbar\": {\"outlinewidth\": 0, \"ticks\": \"\"}, \"colorscale\": [[0.0, \"#0d0887\"], [0.1111111111111111, \"#46039f\"], [0.2222222222222222, \"#7201a8\"], [0.3333333333333333, \"#9c179e\"], [0.4444444444444444, \"#bd3786\"], [0.5555555555555556, \"#d8576b\"], [0.6666666666666666, \"#ed7953\"], [0.7777777777777778, \"#fb9f3a\"], [0.8888888888888888, \"#fdca26\"], [1.0, \"#f0f921\"]], \"type\": \"surface\"}], \"table\": [{\"cells\": {\"fill\": {\"color\": \"#EBF0F8\"}, \"line\": {\"color\": \"white\"}}, \"header\": {\"fill\": {\"color\": \"#C8D4E3\"}, \"line\": {\"color\": \"white\"}}, \"type\": \"table\"}]}, \"layout\": {\"annotationdefaults\": {\"arrowcolor\": \"#2a3f5f\", \"arrowhead\": 0, \"arrowwidth\": 1}, \"coloraxis\": {\"colorbar\": {\"outlinewidth\": 0, \"ticks\": \"\"}}, \"colorscale\": {\"diverging\": [[0, \"#8e0152\"], [0.1, \"#c51b7d\"], [0.2, \"#de77ae\"], [0.3, \"#f1b6da\"], [0.4, \"#fde0ef\"], [0.5, \"#f7f7f7\"], [0.6, \"#e6f5d0\"], [0.7, \"#b8e186\"], [0.8, \"#7fbc41\"], [0.9, \"#4d9221\"], [1, \"#276419\"]], \"sequential\": [[0.0, \"#0d0887\"], [0.1111111111111111, \"#46039f\"], [0.2222222222222222, \"#7201a8\"], [0.3333333333333333, \"#9c179e\"], [0.4444444444444444, \"#bd3786\"], [0.5555555555555556, \"#d8576b\"], [0.6666666666666666, \"#ed7953\"], [0.7777777777777778, \"#fb9f3a\"], [0.8888888888888888, \"#fdca26\"], [1.0, \"#f0f921\"]], \"sequentialminus\": [[0.0, \"#0d0887\"], [0.1111111111111111, \"#46039f\"], [0.2222222222222222, \"#7201a8\"], [0.3333333333333333, \"#9c179e\"], [0.4444444444444444, \"#bd3786\"], [0.5555555555555556, \"#d8576b\"], [0.6666666666666666, \"#ed7953\"], [0.7777777777777778, \"#fb9f3a\"], [0.8888888888888888, \"#fdca26\"], [1.0, \"#f0f921\"]]}, \"colorway\": [\"#636efa\", \"#EF553B\", \"#00cc96\", \"#ab63fa\", \"#FFA15A\", \"#19d3f3\", \"#FF6692\", \"#B6E880\", \"#FF97FF\", \"#FECB52\"], \"font\": {\"color\": \"#2a3f5f\"}, \"geo\": {\"bgcolor\": \"white\", \"lakecolor\": \"white\", \"landcolor\": \"#E5ECF6\", \"showlakes\": true, \"showland\": true, \"subunitcolor\": \"white\"}, \"hoverlabel\": {\"align\": \"left\"}, \"hovermode\": \"closest\", \"mapbox\": {\"style\": \"light\"}, \"paper_bgcolor\": \"white\", \"plot_bgcolor\": \"#E5ECF6\", \"polar\": {\"angularaxis\": {\"gridcolor\": \"white\", \"linecolor\": \"white\", \"ticks\": \"\"}, \"bgcolor\": \"#E5ECF6\", \"radialaxis\": {\"gridcolor\": \"white\", \"linecolor\": \"white\", \"ticks\": \"\"}}, \"scene\": {\"xaxis\": {\"backgroundcolor\": \"#E5ECF6\", \"gridcolor\": \"white\", \"gridwidth\": 2, \"linecolor\": \"white\", \"showbackground\": true, \"ticks\": \"\", \"zerolinecolor\": \"white\"}, \"yaxis\": {\"backgroundcolor\": \"#E5ECF6\", \"gridcolor\": \"white\", \"gridwidth\": 2, \"linecolor\": \"white\", \"showbackground\": true, \"ticks\": \"\", \"zerolinecolor\": \"white\"}, \"zaxis\": {\"backgroundcolor\": \"#E5ECF6\", \"gridcolor\": \"white\", \"gridwidth\": 2, \"linecolor\": \"white\", \"showbackground\": true, \"ticks\": \"\", \"zerolinecolor\": \"white\"}}, \"shapedefaults\": {\"line\": {\"color\": \"#2a3f5f\"}}, \"ternary\": {\"aaxis\": {\"gridcolor\": \"white\", \"linecolor\": \"white\", \"ticks\": \"\"}, \"baxis\": {\"gridcolor\": \"white\", \"linecolor\": \"white\", \"ticks\": \"\"}, \"bgcolor\": \"#E5ECF6\", \"caxis\": {\"gridcolor\": \"white\", \"linecolor\": \"white\", \"ticks\": \"\"}}, \"title\": {\"x\": 0.05}, \"xaxis\": {\"automargin\": true, \"gridcolor\": \"white\", \"linecolor\": \"white\", \"ticks\": \"\", \"title\": {\"standoff\": 15}, \"zerolinecolor\": \"white\", \"zerolinewidth\": 2}, \"yaxis\": {\"automargin\": true, \"gridcolor\": \"white\", \"linecolor\": \"white\", \"ticks\": \"\", \"title\": {\"standoff\": 15}, \"zerolinecolor\": \"white\", \"zerolinewidth\": 2}}}},                        {\"responsive\": true}                    ).then(function(){\n",
       "                            \n",
       "var gd = document.getElementById('ce69138c-40f3-4148-aca3-9d3466b41a2c');\n",
       "var x = new MutationObserver(function (mutations, observer) {{\n",
       "        var display = window.getComputedStyle(gd).display;\n",
       "        if (!display || display === 'none') {{\n",
       "            console.log([gd, 'removed!']);\n",
       "            Plotly.purge(gd);\n",
       "            observer.disconnect();\n",
       "        }}\n",
       "}});\n",
       "\n",
       "// Listen for the removal of the full notebook cells\n",
       "var notebookContainer = gd.closest('#notebook-container');\n",
       "if (notebookContainer) {{\n",
       "    x.observe(notebookContainer, {childList: true});\n",
       "}}\n",
       "\n",
       "// Listen for the clearing of the current output cell\n",
       "var outputEl = gd.closest('.output');\n",
       "if (outputEl) {{\n",
       "    x.observe(outputEl, {childList: true});\n",
       "}}\n",
       "\n",
       "                        })                };                });            </script>        </div>"
      ]
     },
     "metadata": {},
     "output_type": "display_data"
    }
   ],
   "source": [
    "fig = px.parallel_coordinates(scaled_tube.iloc[8:16,])\n",
    "fig.show()"
   ]
  },
  {
   "cell_type": "code",
   "execution_count": 51,
   "metadata": {},
   "outputs": [
    {
     "data": {
      "text/html": [
       "<div>\n",
       "<style scoped>\n",
       "    .dataframe tbody tr th:only-of-type {\n",
       "        vertical-align: middle;\n",
       "    }\n",
       "\n",
       "    .dataframe tbody tr th {\n",
       "        vertical-align: top;\n",
       "    }\n",
       "\n",
       "    .dataframe thead th {\n",
       "        text-align: right;\n",
       "    }\n",
       "</style>\n",
       "<table border=\"1\" class=\"dataframe\">\n",
       "  <thead>\n",
       "    <tr style=\"text-align: right;\">\n",
       "      <th></th>\n",
       "      <th>TEP_mean_uV_C</th>\n",
       "      <th>TEP_error_uV_C</th>\n",
       "      <th>backscatter_avg</th>\n",
       "      <th>backscatter_std</th>\n",
       "      <th>Absorption_avg_50</th>\n",
       "      <th>Absorption_std_50</th>\n",
       "      <th>A</th>\n",
       "      <th>A std</th>\n",
       "      <th>B</th>\n",
       "      <th>B std</th>\n",
       "      <th>p</th>\n",
       "      <th>p std</th>\n",
       "      <th>median_CF</th>\n",
       "      <th>median_perm</th>\n",
       "      <th>median_MBN</th>\n",
       "    </tr>\n",
       "  </thead>\n",
       "  <tbody>\n",
       "    <tr>\n",
       "      <th>T_B1</th>\n",
       "      <td>12.947951</td>\n",
       "      <td>0.073112</td>\n",
       "      <td>0.0175</td>\n",
       "      <td>0.0042</td>\n",
       "      <td>0.001264</td>\n",
       "      <td>0.000519</td>\n",
       "      <td>4.410000e-13</td>\n",
       "      <td>4.090000e-07</td>\n",
       "      <td>0.000875</td>\n",
       "      <td>0.000218</td>\n",
       "      <td>0.219</td>\n",
       "      <td>0.0247</td>\n",
       "      <td>1.1000</td>\n",
       "      <td>68.50</td>\n",
       "      <td>0.4730</td>\n",
       "    </tr>\n",
       "    <tr>\n",
       "      <th>T_B2</th>\n",
       "      <td>12.920068</td>\n",
       "      <td>0.077814</td>\n",
       "      <td>0.0240</td>\n",
       "      <td>0.0057</td>\n",
       "      <td>0.002486</td>\n",
       "      <td>0.000816</td>\n",
       "      <td>1.520000e-06</td>\n",
       "      <td>1.510000e-06</td>\n",
       "      <td>0.002010</td>\n",
       "      <td>0.000802</td>\n",
       "      <td>0.273</td>\n",
       "      <td>0.0908</td>\n",
       "      <td>1.1095</td>\n",
       "      <td>66.45</td>\n",
       "      <td>0.6305</td>\n",
       "    </tr>\n",
       "    <tr>\n",
       "      <th>T_B3</th>\n",
       "      <td>12.932865</td>\n",
       "      <td>0.088762</td>\n",
       "      <td>0.0134</td>\n",
       "      <td>0.0028</td>\n",
       "      <td>0.001168</td>\n",
       "      <td>0.000555</td>\n",
       "      <td>4.270000e-13</td>\n",
       "      <td>5.640000e-07</td>\n",
       "      <td>0.000799</td>\n",
       "      <td>0.000300</td>\n",
       "      <td>0.218</td>\n",
       "      <td>0.0340</td>\n",
       "      <td>1.0795</td>\n",
       "      <td>68.40</td>\n",
       "      <td>0.5765</td>\n",
       "    </tr>\n",
       "    <tr>\n",
       "      <th>T_B4</th>\n",
       "      <td>10.763517</td>\n",
       "      <td>0.071173</td>\n",
       "      <td>0.0146</td>\n",
       "      <td>0.0031</td>\n",
       "      <td>0.002084</td>\n",
       "      <td>0.000648</td>\n",
       "      <td>7.580000e-07</td>\n",
       "      <td>1.000000e-06</td>\n",
       "      <td>0.001210</td>\n",
       "      <td>0.000535</td>\n",
       "      <td>0.299</td>\n",
       "      <td>0.0605</td>\n",
       "      <td>4.5140</td>\n",
       "      <td>32.90</td>\n",
       "      <td>0.5005</td>\n",
       "    </tr>\n",
       "    <tr>\n",
       "      <th>T_B5</th>\n",
       "      <td>12.942958</td>\n",
       "      <td>0.074808</td>\n",
       "      <td>0.0182</td>\n",
       "      <td>0.0040</td>\n",
       "      <td>0.001141</td>\n",
       "      <td>0.000447</td>\n",
       "      <td>3.970000e-13</td>\n",
       "      <td>4.670000e-07</td>\n",
       "      <td>0.000890</td>\n",
       "      <td>0.000249</td>\n",
       "      <td>0.245</td>\n",
       "      <td>0.0282</td>\n",
       "      <td>1.4290</td>\n",
       "      <td>64.95</td>\n",
       "      <td>0.5380</td>\n",
       "    </tr>\n",
       "    <tr>\n",
       "      <th>T_B6</th>\n",
       "      <td>11.037827</td>\n",
       "      <td>0.090636</td>\n",
       "      <td>0.0148</td>\n",
       "      <td>0.0031</td>\n",
       "      <td>0.001323</td>\n",
       "      <td>0.000574</td>\n",
       "      <td>1.350000e-12</td>\n",
       "      <td>3.500000e-07</td>\n",
       "      <td>0.000541</td>\n",
       "      <td>0.000187</td>\n",
       "      <td>0.209</td>\n",
       "      <td>0.0211</td>\n",
       "      <td>4.6720</td>\n",
       "      <td>34.05</td>\n",
       "      <td>0.3010</td>\n",
       "    </tr>\n",
       "    <tr>\n",
       "      <th>T_B7</th>\n",
       "      <td>12.882150</td>\n",
       "      <td>0.099066</td>\n",
       "      <td>0.0300</td>\n",
       "      <td>0.0087</td>\n",
       "      <td>0.001908</td>\n",
       "      <td>0.000926</td>\n",
       "      <td>4.820000e-13</td>\n",
       "      <td>1.250000e-06</td>\n",
       "      <td>0.002440</td>\n",
       "      <td>0.000665</td>\n",
       "      <td>0.495</td>\n",
       "      <td>0.0752</td>\n",
       "      <td>0.6580</td>\n",
       "      <td>103.55</td>\n",
       "      <td>0.6075</td>\n",
       "    </tr>\n",
       "    <tr>\n",
       "      <th>T_B8</th>\n",
       "      <td>12.257788</td>\n",
       "      <td>0.080920</td>\n",
       "      <td>0.0269</td>\n",
       "      <td>0.0062</td>\n",
       "      <td>0.000933</td>\n",
       "      <td>0.000304</td>\n",
       "      <td>4.420000e-12</td>\n",
       "      <td>4.410000e-07</td>\n",
       "      <td>0.000972</td>\n",
       "      <td>0.000235</td>\n",
       "      <td>0.247</td>\n",
       "      <td>0.0266</td>\n",
       "      <td>2.0400</td>\n",
       "      <td>57.80</td>\n",
       "      <td>0.3745</td>\n",
       "    </tr>\n",
       "    <tr>\n",
       "      <th>T_AR</th>\n",
       "      <td>12.947031</td>\n",
       "      <td>0.089787</td>\n",
       "      <td>0.0179</td>\n",
       "      <td>0.0038</td>\n",
       "      <td>0.001257</td>\n",
       "      <td>0.000210</td>\n",
       "      <td>4.430000e-13</td>\n",
       "      <td>5.060000e-07</td>\n",
       "      <td>0.000851</td>\n",
       "      <td>0.000270</td>\n",
       "      <td>0.203</td>\n",
       "      <td>0.0305</td>\n",
       "      <td>1.2355</td>\n",
       "      <td>61.85</td>\n",
       "      <td>0.5940</td>\n",
       "    </tr>\n",
       "    <tr>\n",
       "      <th>T_N</th>\n",
       "      <td>10.805126</td>\n",
       "      <td>0.076842</td>\n",
       "      <td>0.0253</td>\n",
       "      <td>0.0054</td>\n",
       "      <td>0.003128</td>\n",
       "      <td>0.001147</td>\n",
       "      <td>1.440000e-07</td>\n",
       "      <td>1.730000e-06</td>\n",
       "      <td>0.001480</td>\n",
       "      <td>0.000921</td>\n",
       "      <td>0.288</td>\n",
       "      <td>0.1040</td>\n",
       "      <td>4.4960</td>\n",
       "      <td>33.40</td>\n",
       "      <td>0.5915</td>\n",
       "    </tr>\n",
       "    <tr>\n",
       "      <th>T_N_T</th>\n",
       "      <td>12.914503</td>\n",
       "      <td>0.077328</td>\n",
       "      <td>0.0270</td>\n",
       "      <td>0.0082</td>\n",
       "      <td>0.001838</td>\n",
       "      <td>0.000622</td>\n",
       "      <td>2.070000e-06</td>\n",
       "      <td>1.280000e-06</td>\n",
       "      <td>0.001410</td>\n",
       "      <td>0.000680</td>\n",
       "      <td>0.302</td>\n",
       "      <td>0.0770</td>\n",
       "      <td>1.1125</td>\n",
       "      <td>67.20</td>\n",
       "      <td>0.9100</td>\n",
       "    </tr>\n",
       "    <tr>\n",
       "      <th>T_T</th>\n",
       "      <td>12.932690</td>\n",
       "      <td>0.072700</td>\n",
       "      <td>0.0190</td>\n",
       "      <td>0.0042</td>\n",
       "      <td>0.001611</td>\n",
       "      <td>0.000873</td>\n",
       "      <td>4.100000e-13</td>\n",
       "      <td>4.060000e-07</td>\n",
       "      <td>0.000751</td>\n",
       "      <td>0.000217</td>\n",
       "      <td>0.202</td>\n",
       "      <td>0.0245</td>\n",
       "      <td>1.1065</td>\n",
       "      <td>67.10</td>\n",
       "      <td>0.5525</td>\n",
       "    </tr>\n",
       "    <tr>\n",
       "      <th>T_OT</th>\n",
       "      <td>12.299228</td>\n",
       "      <td>0.098704</td>\n",
       "      <td>0.0253</td>\n",
       "      <td>0.0057</td>\n",
       "      <td>0.001526</td>\n",
       "      <td>0.000433</td>\n",
       "      <td>3.990000e-13</td>\n",
       "      <td>5.100000e-07</td>\n",
       "      <td>0.000731</td>\n",
       "      <td>0.000272</td>\n",
       "      <td>0.208</td>\n",
       "      <td>0.0308</td>\n",
       "      <td>1.7920</td>\n",
       "      <td>60.45</td>\n",
       "      <td>0.4335</td>\n",
       "    </tr>\n",
       "    <tr>\n",
       "      <th>T_FF</th>\n",
       "      <td>12.865767</td>\n",
       "      <td>0.093335</td>\n",
       "      <td>0.0201</td>\n",
       "      <td>0.0051</td>\n",
       "      <td>0.003377</td>\n",
       "      <td>0.000817</td>\n",
       "      <td>2.670000e-07</td>\n",
       "      <td>1.270000e-06</td>\n",
       "      <td>0.001910</td>\n",
       "      <td>0.000678</td>\n",
       "      <td>0.391</td>\n",
       "      <td>0.0767</td>\n",
       "      <td>0.6730</td>\n",
       "      <td>102.80</td>\n",
       "      <td>0.9525</td>\n",
       "    </tr>\n",
       "    <tr>\n",
       "      <th>T_HAZ</th>\n",
       "      <td>11.010270</td>\n",
       "      <td>0.073635</td>\n",
       "      <td>0.0156</td>\n",
       "      <td>0.0034</td>\n",
       "      <td>0.001693</td>\n",
       "      <td>0.000460</td>\n",
       "      <td>4.040000e-13</td>\n",
       "      <td>4.810000e-07</td>\n",
       "      <td>0.000772</td>\n",
       "      <td>0.000256</td>\n",
       "      <td>0.262</td>\n",
       "      <td>0.0290</td>\n",
       "      <td>4.7180</td>\n",
       "      <td>33.80</td>\n",
       "      <td>0.3240</td>\n",
       "    </tr>\n",
       "    <tr>\n",
       "      <th>T_HAZ_T</th>\n",
       "      <td>12.974088</td>\n",
       "      <td>0.081502</td>\n",
       "      <td>0.0227</td>\n",
       "      <td>0.0063</td>\n",
       "      <td>0.001390</td>\n",
       "      <td>0.000418</td>\n",
       "      <td>4.230000e-13</td>\n",
       "      <td>4.470000e-07</td>\n",
       "      <td>0.000802</td>\n",
       "      <td>0.000238</td>\n",
       "      <td>0.244</td>\n",
       "      <td>0.0269</td>\n",
       "      <td>1.0950</td>\n",
       "      <td>69.80</td>\n",
       "      <td>0.4945</td>\n",
       "    </tr>\n",
       "  </tbody>\n",
       "</table>\n",
       "</div>"
      ],
      "text/plain": [
       "         TEP_mean_uV_C  TEP_error_uV_C  backscatter_avg  backscatter_std  \\\n",
       "T_B1         12.947951        0.073112           0.0175           0.0042   \n",
       "T_B2         12.920068        0.077814           0.0240           0.0057   \n",
       "T_B3         12.932865        0.088762           0.0134           0.0028   \n",
       "T_B4         10.763517        0.071173           0.0146           0.0031   \n",
       "T_B5         12.942958        0.074808           0.0182           0.0040   \n",
       "T_B6         11.037827        0.090636           0.0148           0.0031   \n",
       "T_B7         12.882150        0.099066           0.0300           0.0087   \n",
       "T_B8         12.257788        0.080920           0.0269           0.0062   \n",
       "T_AR         12.947031        0.089787           0.0179           0.0038   \n",
       "T_N          10.805126        0.076842           0.0253           0.0054   \n",
       "T_N_T        12.914503        0.077328           0.0270           0.0082   \n",
       "T_T          12.932690        0.072700           0.0190           0.0042   \n",
       "T_OT         12.299228        0.098704           0.0253           0.0057   \n",
       "T_FF         12.865767        0.093335           0.0201           0.0051   \n",
       "T_HAZ        11.010270        0.073635           0.0156           0.0034   \n",
       "T_HAZ_T      12.974088        0.081502           0.0227           0.0063   \n",
       "\n",
       "         Absorption_avg_50  Absorption_std_50             A         A std  \\\n",
       "T_B1              0.001264           0.000519  4.410000e-13  4.090000e-07   \n",
       "T_B2              0.002486           0.000816  1.520000e-06  1.510000e-06   \n",
       "T_B3              0.001168           0.000555  4.270000e-13  5.640000e-07   \n",
       "T_B4              0.002084           0.000648  7.580000e-07  1.000000e-06   \n",
       "T_B5              0.001141           0.000447  3.970000e-13  4.670000e-07   \n",
       "T_B6              0.001323           0.000574  1.350000e-12  3.500000e-07   \n",
       "T_B7              0.001908           0.000926  4.820000e-13  1.250000e-06   \n",
       "T_B8              0.000933           0.000304  4.420000e-12  4.410000e-07   \n",
       "T_AR              0.001257           0.000210  4.430000e-13  5.060000e-07   \n",
       "T_N               0.003128           0.001147  1.440000e-07  1.730000e-06   \n",
       "T_N_T             0.001838           0.000622  2.070000e-06  1.280000e-06   \n",
       "T_T               0.001611           0.000873  4.100000e-13  4.060000e-07   \n",
       "T_OT              0.001526           0.000433  3.990000e-13  5.100000e-07   \n",
       "T_FF              0.003377           0.000817  2.670000e-07  1.270000e-06   \n",
       "T_HAZ             0.001693           0.000460  4.040000e-13  4.810000e-07   \n",
       "T_HAZ_T           0.001390           0.000418  4.230000e-13  4.470000e-07   \n",
       "\n",
       "                B     B std      p   p std  median_CF  median_perm  median_MBN  \n",
       "T_B1     0.000875  0.000218  0.219  0.0247     1.1000        68.50      0.4730  \n",
       "T_B2     0.002010  0.000802  0.273  0.0908     1.1095        66.45      0.6305  \n",
       "T_B3     0.000799  0.000300  0.218  0.0340     1.0795        68.40      0.5765  \n",
       "T_B4     0.001210  0.000535  0.299  0.0605     4.5140        32.90      0.5005  \n",
       "T_B5     0.000890  0.000249  0.245  0.0282     1.4290        64.95      0.5380  \n",
       "T_B6     0.000541  0.000187  0.209  0.0211     4.6720        34.05      0.3010  \n",
       "T_B7     0.002440  0.000665  0.495  0.0752     0.6580       103.55      0.6075  \n",
       "T_B8     0.000972  0.000235  0.247  0.0266     2.0400        57.80      0.3745  \n",
       "T_AR     0.000851  0.000270  0.203  0.0305     1.2355        61.85      0.5940  \n",
       "T_N      0.001480  0.000921  0.288  0.1040     4.4960        33.40      0.5915  \n",
       "T_N_T    0.001410  0.000680  0.302  0.0770     1.1125        67.20      0.9100  \n",
       "T_T      0.000751  0.000217  0.202  0.0245     1.1065        67.10      0.5525  \n",
       "T_OT     0.000731  0.000272  0.208  0.0308     1.7920        60.45      0.4335  \n",
       "T_FF     0.001910  0.000678  0.391  0.0767     0.6730       102.80      0.9525  \n",
       "T_HAZ    0.000772  0.000256  0.262  0.0290     4.7180        33.80      0.3240  \n",
       "T_HAZ_T  0.000802  0.000238  0.244  0.0269     1.0950        69.80      0.4945  "
      ]
     },
     "execution_count": 51,
     "metadata": {},
     "output_type": "execute_result"
    }
   ],
   "source": [
    "merged_tube"
   ]
  },
  {
   "cell_type": "code",
   "execution_count": 65,
   "metadata": {},
   "outputs": [
    {
     "name": "stderr",
     "output_type": "stream",
     "text": [
      "/home/nick/anaconda3/lib/python3.7/site-packages/ipykernel_launcher.py:4: SettingWithCopyWarning:\n",
      "\n",
      "\n",
      "A value is trying to be set on a copy of a slice from a DataFrame.\n",
      "Try using .loc[row_indexer,col_indexer] = value instead\n",
      "\n",
      "See the caveats in the documentation: https://pandas.pydata.org/pandas-docs/stable/user_guide/indexing.html#returning-a-view-versus-a-copy\n",
      "\n"
     ]
    },
    {
     "data": {
      "text/html": [
       "<div>\n",
       "<style scoped>\n",
       "    .dataframe tbody tr th:only-of-type {\n",
       "        vertical-align: middle;\n",
       "    }\n",
       "\n",
       "    .dataframe tbody tr th {\n",
       "        vertical-align: top;\n",
       "    }\n",
       "\n",
       "    .dataframe thead th {\n",
       "        text-align: right;\n",
       "    }\n",
       "</style>\n",
       "<table border=\"1\" class=\"dataframe\">\n",
       "  <thead>\n",
       "    <tr style=\"text-align: right;\">\n",
       "      <th></th>\n",
       "      <th>TEP_mean_uV_C</th>\n",
       "      <th>backscatter_avg</th>\n",
       "      <th>Absorption_avg_50</th>\n",
       "      <th>A</th>\n",
       "      <th>B</th>\n",
       "      <th>p</th>\n",
       "      <th>median_CF</th>\n",
       "      <th>median_perm</th>\n",
       "      <th>median_MBN</th>\n",
       "    </tr>\n",
       "  </thead>\n",
       "  <tbody>\n",
       "    <tr>\n",
       "      <th>T_B1</th>\n",
       "      <td>12.874839</td>\n",
       "      <td>0.0133</td>\n",
       "      <td>0.000745</td>\n",
       "      <td>-4.089996e-07</td>\n",
       "      <td>0.000657</td>\n",
       "      <td>0.1943</td>\n",
       "      <td>1.1000</td>\n",
       "      <td>68.50</td>\n",
       "      <td>0.4730</td>\n",
       "    </tr>\n",
       "    <tr>\n",
       "      <th>T_B2</th>\n",
       "      <td>12.842254</td>\n",
       "      <td>0.0183</td>\n",
       "      <td>0.001670</td>\n",
       "      <td>1.000000e-08</td>\n",
       "      <td>0.001208</td>\n",
       "      <td>0.1822</td>\n",
       "      <td>1.1095</td>\n",
       "      <td>66.45</td>\n",
       "      <td>0.6305</td>\n",
       "    </tr>\n",
       "    <tr>\n",
       "      <th>T_B3</th>\n",
       "      <td>12.844103</td>\n",
       "      <td>0.0106</td>\n",
       "      <td>0.000613</td>\n",
       "      <td>-5.639996e-07</td>\n",
       "      <td>0.000499</td>\n",
       "      <td>0.1840</td>\n",
       "      <td>1.0795</td>\n",
       "      <td>68.40</td>\n",
       "      <td>0.5765</td>\n",
       "    </tr>\n",
       "    <tr>\n",
       "      <th>T_B4</th>\n",
       "      <td>10.692344</td>\n",
       "      <td>0.0115</td>\n",
       "      <td>0.001436</td>\n",
       "      <td>-2.420000e-07</td>\n",
       "      <td>0.000675</td>\n",
       "      <td>0.2385</td>\n",
       "      <td>4.5140</td>\n",
       "      <td>32.90</td>\n",
       "      <td>0.5005</td>\n",
       "    </tr>\n",
       "    <tr>\n",
       "      <th>T_B5</th>\n",
       "      <td>12.868150</td>\n",
       "      <td>0.0142</td>\n",
       "      <td>0.000694</td>\n",
       "      <td>-4.669996e-07</td>\n",
       "      <td>0.000641</td>\n",
       "      <td>0.2168</td>\n",
       "      <td>1.4290</td>\n",
       "      <td>64.95</td>\n",
       "      <td>0.5380</td>\n",
       "    </tr>\n",
       "    <tr>\n",
       "      <th>T_B6</th>\n",
       "      <td>10.947191</td>\n",
       "      <td>0.0117</td>\n",
       "      <td>0.000749</td>\n",
       "      <td>-3.499987e-07</td>\n",
       "      <td>0.000354</td>\n",
       "      <td>0.1879</td>\n",
       "      <td>4.6720</td>\n",
       "      <td>34.05</td>\n",
       "      <td>0.3010</td>\n",
       "    </tr>\n",
       "    <tr>\n",
       "      <th>T_B7</th>\n",
       "      <td>12.783084</td>\n",
       "      <td>0.0213</td>\n",
       "      <td>0.000982</td>\n",
       "      <td>-1.250000e-06</td>\n",
       "      <td>0.001775</td>\n",
       "      <td>0.4198</td>\n",
       "      <td>0.6580</td>\n",
       "      <td>103.55</td>\n",
       "      <td>0.6075</td>\n",
       "    </tr>\n",
       "    <tr>\n",
       "      <th>T_B8</th>\n",
       "      <td>12.176868</td>\n",
       "      <td>0.0207</td>\n",
       "      <td>0.000629</td>\n",
       "      <td>-4.409956e-07</td>\n",
       "      <td>0.000737</td>\n",
       "      <td>0.2204</td>\n",
       "      <td>2.0400</td>\n",
       "      <td>57.80</td>\n",
       "      <td>0.3745</td>\n",
       "    </tr>\n",
       "    <tr>\n",
       "      <th>T_AR</th>\n",
       "      <td>12.857244</td>\n",
       "      <td>0.0141</td>\n",
       "      <td>0.001047</td>\n",
       "      <td>-5.059996e-07</td>\n",
       "      <td>0.000581</td>\n",
       "      <td>0.1725</td>\n",
       "      <td>1.2355</td>\n",
       "      <td>61.85</td>\n",
       "      <td>0.5940</td>\n",
       "    </tr>\n",
       "    <tr>\n",
       "      <th>T_N</th>\n",
       "      <td>10.728284</td>\n",
       "      <td>0.0199</td>\n",
       "      <td>0.001981</td>\n",
       "      <td>-1.586000e-06</td>\n",
       "      <td>0.000559</td>\n",
       "      <td>0.1840</td>\n",
       "      <td>4.4960</td>\n",
       "      <td>33.40</td>\n",
       "      <td>0.5915</td>\n",
       "    </tr>\n",
       "    <tr>\n",
       "      <th>T_N_T</th>\n",
       "      <td>12.837175</td>\n",
       "      <td>0.0188</td>\n",
       "      <td>0.001216</td>\n",
       "      <td>7.900000e-07</td>\n",
       "      <td>0.000730</td>\n",
       "      <td>0.2250</td>\n",
       "      <td>1.1125</td>\n",
       "      <td>67.20</td>\n",
       "      <td>0.9100</td>\n",
       "    </tr>\n",
       "    <tr>\n",
       "      <th>T_T</th>\n",
       "      <td>12.859990</td>\n",
       "      <td>0.0148</td>\n",
       "      <td>0.000738</td>\n",
       "      <td>-4.059996e-07</td>\n",
       "      <td>0.000534</td>\n",
       "      <td>0.1775</td>\n",
       "      <td>1.1065</td>\n",
       "      <td>67.10</td>\n",
       "      <td>0.5525</td>\n",
       "    </tr>\n",
       "    <tr>\n",
       "      <th>T_OT</th>\n",
       "      <td>12.200524</td>\n",
       "      <td>0.0196</td>\n",
       "      <td>0.001093</td>\n",
       "      <td>-5.099996e-07</td>\n",
       "      <td>0.000459</td>\n",
       "      <td>0.1772</td>\n",
       "      <td>1.7920</td>\n",
       "      <td>60.45</td>\n",
       "      <td>0.4335</td>\n",
       "    </tr>\n",
       "    <tr>\n",
       "      <th>T_FF</th>\n",
       "      <td>12.772432</td>\n",
       "      <td>0.0150</td>\n",
       "      <td>0.002560</td>\n",
       "      <td>-1.003000e-06</td>\n",
       "      <td>0.001232</td>\n",
       "      <td>0.3143</td>\n",
       "      <td>0.6730</td>\n",
       "      <td>102.80</td>\n",
       "      <td>0.9525</td>\n",
       "    </tr>\n",
       "    <tr>\n",
       "      <th>T_HAZ</th>\n",
       "      <td>10.936634</td>\n",
       "      <td>0.0122</td>\n",
       "      <td>0.001233</td>\n",
       "      <td>-4.809996e-07</td>\n",
       "      <td>0.000516</td>\n",
       "      <td>0.2330</td>\n",
       "      <td>4.7180</td>\n",
       "      <td>33.80</td>\n",
       "      <td>0.3240</td>\n",
       "    </tr>\n",
       "    <tr>\n",
       "      <th>T_HAZ_T</th>\n",
       "      <td>12.892585</td>\n",
       "      <td>0.0164</td>\n",
       "      <td>0.000972</td>\n",
       "      <td>-4.469996e-07</td>\n",
       "      <td>0.000564</td>\n",
       "      <td>0.2171</td>\n",
       "      <td>1.0950</td>\n",
       "      <td>69.80</td>\n",
       "      <td>0.4945</td>\n",
       "    </tr>\n",
       "  </tbody>\n",
       "</table>\n",
       "</div>"
      ],
      "text/plain": [
       "         TEP_mean_uV_C  backscatter_avg  Absorption_avg_50             A  \\\n",
       "T_B1         12.874839           0.0133           0.000745 -4.089996e-07   \n",
       "T_B2         12.842254           0.0183           0.001670  1.000000e-08   \n",
       "T_B3         12.844103           0.0106           0.000613 -5.639996e-07   \n",
       "T_B4         10.692344           0.0115           0.001436 -2.420000e-07   \n",
       "T_B5         12.868150           0.0142           0.000694 -4.669996e-07   \n",
       "T_B6         10.947191           0.0117           0.000749 -3.499987e-07   \n",
       "T_B7         12.783084           0.0213           0.000982 -1.250000e-06   \n",
       "T_B8         12.176868           0.0207           0.000629 -4.409956e-07   \n",
       "T_AR         12.857244           0.0141           0.001047 -5.059996e-07   \n",
       "T_N          10.728284           0.0199           0.001981 -1.586000e-06   \n",
       "T_N_T        12.837175           0.0188           0.001216  7.900000e-07   \n",
       "T_T          12.859990           0.0148           0.000738 -4.059996e-07   \n",
       "T_OT         12.200524           0.0196           0.001093 -5.099996e-07   \n",
       "T_FF         12.772432           0.0150           0.002560 -1.003000e-06   \n",
       "T_HAZ        10.936634           0.0122           0.001233 -4.809996e-07   \n",
       "T_HAZ_T      12.892585           0.0164           0.000972 -4.469996e-07   \n",
       "\n",
       "                B       p  median_CF  median_perm  median_MBN  \n",
       "T_B1     0.000657  0.1943     1.1000        68.50      0.4730  \n",
       "T_B2     0.001208  0.1822     1.1095        66.45      0.6305  \n",
       "T_B3     0.000499  0.1840     1.0795        68.40      0.5765  \n",
       "T_B4     0.000675  0.2385     4.5140        32.90      0.5005  \n",
       "T_B5     0.000641  0.2168     1.4290        64.95      0.5380  \n",
       "T_B6     0.000354  0.1879     4.6720        34.05      0.3010  \n",
       "T_B7     0.001775  0.4198     0.6580       103.55      0.6075  \n",
       "T_B8     0.000737  0.2204     2.0400        57.80      0.3745  \n",
       "T_AR     0.000581  0.1725     1.2355        61.85      0.5940  \n",
       "T_N      0.000559  0.1840     4.4960        33.40      0.5915  \n",
       "T_N_T    0.000730  0.2250     1.1125        67.20      0.9100  \n",
       "T_T      0.000534  0.1775     1.1065        67.10      0.5525  \n",
       "T_OT     0.000459  0.1772     1.7920        60.45      0.4335  \n",
       "T_FF     0.001232  0.3143     0.6730       102.80      0.9525  \n",
       "T_HAZ    0.000516  0.2330     4.7180        33.80      0.3240  \n",
       "T_HAZ_T  0.000564  0.2171     1.0950        69.80      0.4945  "
      ]
     },
     "execution_count": 65,
     "metadata": {},
     "output_type": "execute_result"
    }
   ],
   "source": [
    "data_tube = merged_tube[[\"TEP_mean_uV_C\",\"backscatter_avg\",\"Absorption_avg_50\",\"A\",\"B\",\"p\",\"median_CF\",\"median_perm\",\"median_MBN\"]]\n",
    "merged_tube_errors = merged_tube[[\"TEP_error_uV_C\",\"backscatter_std\",\"Absorption_std_50\",\"A std\",\"B std\",\"p std\"]]\n",
    "for col in \"cf_std\",\"mbn_std\",\"perm_std\":\n",
    "    merged_tube_errors[col] = 0\n",
    "\n",
    "data_tube_min_boundary = data_tube - merged_tube_errors.values\n",
    "data_tube_min_boundary\n"
   ]
  },
  {
   "cell_type": "code",
   "execution_count": 66,
   "metadata": {},
   "outputs": [
    {
     "data": {
      "text/html": [
       "<div>\n",
       "<style scoped>\n",
       "    .dataframe tbody tr th:only-of-type {\n",
       "        vertical-align: middle;\n",
       "    }\n",
       "\n",
       "    .dataframe tbody tr th {\n",
       "        vertical-align: top;\n",
       "    }\n",
       "\n",
       "    .dataframe thead th {\n",
       "        text-align: right;\n",
       "    }\n",
       "</style>\n",
       "<table border=\"1\" class=\"dataframe\">\n",
       "  <thead>\n",
       "    <tr style=\"text-align: right;\">\n",
       "      <th></th>\n",
       "      <th>TEP_mean_uV_C</th>\n",
       "      <th>backscatter_avg</th>\n",
       "      <th>Absorption_avg_50</th>\n",
       "      <th>A</th>\n",
       "      <th>B</th>\n",
       "      <th>p</th>\n",
       "      <th>median_CF</th>\n",
       "      <th>median_perm</th>\n",
       "      <th>median_MBN</th>\n",
       "    </tr>\n",
       "  </thead>\n",
       "  <tbody>\n",
       "    <tr>\n",
       "      <th>T_B1</th>\n",
       "      <td>12.947951</td>\n",
       "      <td>0.0175</td>\n",
       "      <td>0.001264</td>\n",
       "      <td>4.410000e-13</td>\n",
       "      <td>0.000875</td>\n",
       "      <td>0.219</td>\n",
       "      <td>1.1000</td>\n",
       "      <td>68.50</td>\n",
       "      <td>0.4730</td>\n",
       "    </tr>\n",
       "    <tr>\n",
       "      <th>T_B2</th>\n",
       "      <td>12.920068</td>\n",
       "      <td>0.0240</td>\n",
       "      <td>0.002486</td>\n",
       "      <td>1.520000e-06</td>\n",
       "      <td>0.002010</td>\n",
       "      <td>0.273</td>\n",
       "      <td>1.1095</td>\n",
       "      <td>66.45</td>\n",
       "      <td>0.6305</td>\n",
       "    </tr>\n",
       "    <tr>\n",
       "      <th>T_B3</th>\n",
       "      <td>12.932865</td>\n",
       "      <td>0.0134</td>\n",
       "      <td>0.001168</td>\n",
       "      <td>4.270000e-13</td>\n",
       "      <td>0.000799</td>\n",
       "      <td>0.218</td>\n",
       "      <td>1.0795</td>\n",
       "      <td>68.40</td>\n",
       "      <td>0.5765</td>\n",
       "    </tr>\n",
       "    <tr>\n",
       "      <th>T_B4</th>\n",
       "      <td>10.763517</td>\n",
       "      <td>0.0146</td>\n",
       "      <td>0.002084</td>\n",
       "      <td>7.580000e-07</td>\n",
       "      <td>0.001210</td>\n",
       "      <td>0.299</td>\n",
       "      <td>4.5140</td>\n",
       "      <td>32.90</td>\n",
       "      <td>0.5005</td>\n",
       "    </tr>\n",
       "    <tr>\n",
       "      <th>T_B5</th>\n",
       "      <td>12.942958</td>\n",
       "      <td>0.0182</td>\n",
       "      <td>0.001141</td>\n",
       "      <td>3.970000e-13</td>\n",
       "      <td>0.000890</td>\n",
       "      <td>0.245</td>\n",
       "      <td>1.4290</td>\n",
       "      <td>64.95</td>\n",
       "      <td>0.5380</td>\n",
       "    </tr>\n",
       "    <tr>\n",
       "      <th>T_B6</th>\n",
       "      <td>11.037827</td>\n",
       "      <td>0.0148</td>\n",
       "      <td>0.001323</td>\n",
       "      <td>1.350000e-12</td>\n",
       "      <td>0.000541</td>\n",
       "      <td>0.209</td>\n",
       "      <td>4.6720</td>\n",
       "      <td>34.05</td>\n",
       "      <td>0.3010</td>\n",
       "    </tr>\n",
       "    <tr>\n",
       "      <th>T_B7</th>\n",
       "      <td>12.882150</td>\n",
       "      <td>0.0300</td>\n",
       "      <td>0.001908</td>\n",
       "      <td>4.820000e-13</td>\n",
       "      <td>0.002440</td>\n",
       "      <td>0.495</td>\n",
       "      <td>0.6580</td>\n",
       "      <td>103.55</td>\n",
       "      <td>0.6075</td>\n",
       "    </tr>\n",
       "    <tr>\n",
       "      <th>T_B8</th>\n",
       "      <td>12.257788</td>\n",
       "      <td>0.0269</td>\n",
       "      <td>0.000933</td>\n",
       "      <td>4.420000e-12</td>\n",
       "      <td>0.000972</td>\n",
       "      <td>0.247</td>\n",
       "      <td>2.0400</td>\n",
       "      <td>57.80</td>\n",
       "      <td>0.3745</td>\n",
       "    </tr>\n",
       "    <tr>\n",
       "      <th>T_AR</th>\n",
       "      <td>12.947031</td>\n",
       "      <td>0.0179</td>\n",
       "      <td>0.001257</td>\n",
       "      <td>4.430000e-13</td>\n",
       "      <td>0.000851</td>\n",
       "      <td>0.203</td>\n",
       "      <td>1.2355</td>\n",
       "      <td>61.85</td>\n",
       "      <td>0.5940</td>\n",
       "    </tr>\n",
       "    <tr>\n",
       "      <th>T_N</th>\n",
       "      <td>10.805126</td>\n",
       "      <td>0.0253</td>\n",
       "      <td>0.003128</td>\n",
       "      <td>1.440000e-07</td>\n",
       "      <td>0.001480</td>\n",
       "      <td>0.288</td>\n",
       "      <td>4.4960</td>\n",
       "      <td>33.40</td>\n",
       "      <td>0.5915</td>\n",
       "    </tr>\n",
       "    <tr>\n",
       "      <th>T_N_T</th>\n",
       "      <td>12.914503</td>\n",
       "      <td>0.0270</td>\n",
       "      <td>0.001838</td>\n",
       "      <td>2.070000e-06</td>\n",
       "      <td>0.001410</td>\n",
       "      <td>0.302</td>\n",
       "      <td>1.1125</td>\n",
       "      <td>67.20</td>\n",
       "      <td>0.9100</td>\n",
       "    </tr>\n",
       "    <tr>\n",
       "      <th>T_T</th>\n",
       "      <td>12.932690</td>\n",
       "      <td>0.0190</td>\n",
       "      <td>0.001611</td>\n",
       "      <td>4.100000e-13</td>\n",
       "      <td>0.000751</td>\n",
       "      <td>0.202</td>\n",
       "      <td>1.1065</td>\n",
       "      <td>67.10</td>\n",
       "      <td>0.5525</td>\n",
       "    </tr>\n",
       "    <tr>\n",
       "      <th>T_OT</th>\n",
       "      <td>12.299228</td>\n",
       "      <td>0.0253</td>\n",
       "      <td>0.001526</td>\n",
       "      <td>3.990000e-13</td>\n",
       "      <td>0.000731</td>\n",
       "      <td>0.208</td>\n",
       "      <td>1.7920</td>\n",
       "      <td>60.45</td>\n",
       "      <td>0.4335</td>\n",
       "    </tr>\n",
       "    <tr>\n",
       "      <th>T_FF</th>\n",
       "      <td>12.865767</td>\n",
       "      <td>0.0201</td>\n",
       "      <td>0.003377</td>\n",
       "      <td>2.670000e-07</td>\n",
       "      <td>0.001910</td>\n",
       "      <td>0.391</td>\n",
       "      <td>0.6730</td>\n",
       "      <td>102.80</td>\n",
       "      <td>0.9525</td>\n",
       "    </tr>\n",
       "    <tr>\n",
       "      <th>T_HAZ</th>\n",
       "      <td>11.010270</td>\n",
       "      <td>0.0156</td>\n",
       "      <td>0.001693</td>\n",
       "      <td>4.040000e-13</td>\n",
       "      <td>0.000772</td>\n",
       "      <td>0.262</td>\n",
       "      <td>4.7180</td>\n",
       "      <td>33.80</td>\n",
       "      <td>0.3240</td>\n",
       "    </tr>\n",
       "    <tr>\n",
       "      <th>T_HAZ_T</th>\n",
       "      <td>12.974088</td>\n",
       "      <td>0.0227</td>\n",
       "      <td>0.001390</td>\n",
       "      <td>4.230000e-13</td>\n",
       "      <td>0.000802</td>\n",
       "      <td>0.244</td>\n",
       "      <td>1.0950</td>\n",
       "      <td>69.80</td>\n",
       "      <td>0.4945</td>\n",
       "    </tr>\n",
       "  </tbody>\n",
       "</table>\n",
       "</div>"
      ],
      "text/plain": [
       "         TEP_mean_uV_C  backscatter_avg  Absorption_avg_50             A  \\\n",
       "T_B1         12.947951           0.0175           0.001264  4.410000e-13   \n",
       "T_B2         12.920068           0.0240           0.002486  1.520000e-06   \n",
       "T_B3         12.932865           0.0134           0.001168  4.270000e-13   \n",
       "T_B4         10.763517           0.0146           0.002084  7.580000e-07   \n",
       "T_B5         12.942958           0.0182           0.001141  3.970000e-13   \n",
       "T_B6         11.037827           0.0148           0.001323  1.350000e-12   \n",
       "T_B7         12.882150           0.0300           0.001908  4.820000e-13   \n",
       "T_B8         12.257788           0.0269           0.000933  4.420000e-12   \n",
       "T_AR         12.947031           0.0179           0.001257  4.430000e-13   \n",
       "T_N          10.805126           0.0253           0.003128  1.440000e-07   \n",
       "T_N_T        12.914503           0.0270           0.001838  2.070000e-06   \n",
       "T_T          12.932690           0.0190           0.001611  4.100000e-13   \n",
       "T_OT         12.299228           0.0253           0.001526  3.990000e-13   \n",
       "T_FF         12.865767           0.0201           0.003377  2.670000e-07   \n",
       "T_HAZ        11.010270           0.0156           0.001693  4.040000e-13   \n",
       "T_HAZ_T      12.974088           0.0227           0.001390  4.230000e-13   \n",
       "\n",
       "                B      p  median_CF  median_perm  median_MBN  \n",
       "T_B1     0.000875  0.219     1.1000        68.50      0.4730  \n",
       "T_B2     0.002010  0.273     1.1095        66.45      0.6305  \n",
       "T_B3     0.000799  0.218     1.0795        68.40      0.5765  \n",
       "T_B4     0.001210  0.299     4.5140        32.90      0.5005  \n",
       "T_B5     0.000890  0.245     1.4290        64.95      0.5380  \n",
       "T_B6     0.000541  0.209     4.6720        34.05      0.3010  \n",
       "T_B7     0.002440  0.495     0.6580       103.55      0.6075  \n",
       "T_B8     0.000972  0.247     2.0400        57.80      0.3745  \n",
       "T_AR     0.000851  0.203     1.2355        61.85      0.5940  \n",
       "T_N      0.001480  0.288     4.4960        33.40      0.5915  \n",
       "T_N_T    0.001410  0.302     1.1125        67.20      0.9100  \n",
       "T_T      0.000751  0.202     1.1065        67.10      0.5525  \n",
       "T_OT     0.000731  0.208     1.7920        60.45      0.4335  \n",
       "T_FF     0.001910  0.391     0.6730       102.80      0.9525  \n",
       "T_HAZ    0.000772  0.262     4.7180        33.80      0.3240  \n",
       "T_HAZ_T  0.000802  0.244     1.0950        69.80      0.4945  "
      ]
     },
     "execution_count": 66,
     "metadata": {},
     "output_type": "execute_result"
    }
   ],
   "source": [
    "data_tube"
   ]
  },
  {
   "cell_type": "code",
   "execution_count": null,
   "metadata": {},
   "outputs": [],
   "source": []
  }
 ],
 "metadata": {
  "kernelspec": {
   "display_name": "Python 3",
   "language": "python",
   "name": "python3"
  },
  "language_info": {
   "codemirror_mode": {
    "name": "ipython",
    "version": 3
   },
   "file_extension": ".py",
   "mimetype": "text/x-python",
   "name": "python",
   "nbconvert_exporter": "python",
   "pygments_lexer": "ipython3",
   "version": "3.7.6"
  }
 },
 "nbformat": 4,
 "nbformat_minor": 4
}
