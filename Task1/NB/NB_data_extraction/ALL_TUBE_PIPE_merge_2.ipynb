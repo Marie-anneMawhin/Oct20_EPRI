{
 "cells": [
  {
   "cell_type": "code",
   "execution_count": 19,
   "metadata": {},
   "outputs": [],
   "source": [
    "import pandas as pd\n",
    "import os"
   ]
  },
  {
   "cell_type": "code",
   "execution_count": 20,
   "metadata": {},
   "outputs": [],
   "source": [
    "inp_ut_att_all=os.path.join(os.path.dirname(os.getcwd()),'../Data/Merged_data/ALL_TUBE_PIPE_merge_1.csv')\n",
    "\n",
    "out_ut_att_all=os.path.join(os.path.dirname(os.getcwd()),'../Data/Merged_data/ALL_TUBE_PIPE_merge_2.csv')\n",
    "\n",
    "ut_auc_all=pd.read_csv(inp_ut_att_all, index_col=0)\n"
   ]
  },
  {
   "cell_type": "code",
   "execution_count": 23,
   "metadata": {},
   "outputs": [
    {
     "data": {
      "text/plain": [
       "['TEP_mean_uV_C',\n",
       " 'TEP_error_uV_C',\n",
       " 'Absorption_avg_500',\n",
       " 'Absorption_std_500',\n",
       " 'backscatter_avg',\n",
       " 'backscatter_std',\n",
       " 'Absorption_avg_50',\n",
       " 'Absorption_std_50',\n",
       " 'A',\n",
       " 'A std',\n",
       " 'B',\n",
       " 'B std',\n",
       " 'p',\n",
       " 'p std',\n",
       " 'Absorption_avg_100',\n",
       " 'Absorption_std_100',\n",
       " 'Absorption_avg_200',\n",
       " 'Absorption_std_200',\n",
       " 'median_CF',\n",
       " 'median_perm',\n",
       " 'median_MBN',\n",
       " 'median_CF_g',\n",
       " 'median_perm_g',\n",
       " 'median_pMBN_g']"
      ]
     },
     "execution_count": 23,
     "metadata": {},
     "output_type": "execute_result"
    }
   ],
   "source": [
    "ut_auc_all.columns.tolist()"
   ]
  },
  {
   "cell_type": "code",
   "execution_count": 24,
   "metadata": {},
   "outputs": [],
   "source": [
    "#This is the integral function for the attenuation function (already integrated)!!!\n",
    "\n",
    "def findAUC(A, B, p, f_init, f_end):\n",
    "   def polyFunc(f):\n",
    "       return A/5*f**5 + B/3*f**3 + p*f\n",
    "   return polyFunc(f_end) - polyFunc(f_init)\n",
    "f_init = 8*10**6\n",
    "f_end=22*10**6\n",
    "A=ut_auc_all['A']\n",
    "B=ut_auc_all['B']\n",
    "p=ut_auc_all['p']"
   ]
  },
  {
   "cell_type": "code",
   "execution_count": 25,
   "metadata": {},
   "outputs": [
    {
     "name": "stdout",
     "output_type": "stream",
     "text": [
      "T_B1       4.51663e+23\n",
      "T_B2       1.55674e+30\n",
      "T_B3       4.37324e+23\n",
      "T_B4       7.76323e+29\n",
      "T_B5         4.066e+23\n",
      "T_B6       1.38264e+24\n",
      "T_B7        4.9366e+23\n",
      "T_B8       4.52685e+24\n",
      "T_AR       4.53711e+23\n",
      "T_N        1.47481e+29\n",
      "T_N_T      2.12004e+30\n",
      "T_T        4.19913e+23\n",
      "T_OT       4.08647e+23\n",
      "T_FF       2.73454e+29\n",
      "T_HAZ      4.13768e+23\n",
      "T_HAZ_T    4.33228e+23\n",
      "P_FF       1.43384e+29\n",
      "P_HAZ_T     2.0586e+23\n",
      "P_OT       1.47481e+28\n",
      "P_T        7.89637e+28\n",
      "P_N_T      7.04631e+28\n",
      "P_AR       1.13683e+28\n",
      "P_HAZ      2.31463e+26\n",
      "P_N        6.58543e+28\n",
      "dtype: object\n"
     ]
    }
   ],
   "source": [
    "#Area under the curve for each specimen ~ attenuation coefficient\n",
    "print (findAUC(A,B,p,f_init,f_end))"
   ]
  },
  {
   "cell_type": "code",
   "execution_count": 26,
   "metadata": {},
   "outputs": [],
   "source": [
    "ut_auc_all[\"AUC\"]=findAUC(A,B,p,f_init,f_end)"
   ]
  },
  {
   "cell_type": "code",
   "execution_count": 29,
   "metadata": {},
   "outputs": [],
   "source": [
    "ut_auc_all.to_csv(out_ut_att_all)"
   ]
  },
  {
   "cell_type": "code",
   "execution_count": null,
   "metadata": {},
   "outputs": [],
   "source": []
  }
 ],
 "metadata": {
  "kernelspec": {
   "display_name": "Python 3",
   "language": "python",
   "name": "python3"
  },
  "language_info": {
   "codemirror_mode": {
    "name": "ipython",
    "version": 3
   },
   "file_extension": ".py",
   "mimetype": "text/x-python",
   "name": "python",
   "nbconvert_exporter": "python",
   "pygments_lexer": "ipython3",
   "version": "3.7.6"
  }
 },
 "nbformat": 4,
 "nbformat_minor": 4
}
