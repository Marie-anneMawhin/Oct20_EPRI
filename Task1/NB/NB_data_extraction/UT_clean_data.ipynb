{
 "cells": [
  {
   "cell_type": "markdown",
   "metadata": {},
   "source": [
    "Clean data from UT table"
   ]
  },
  {
   "cell_type": "code",
   "execution_count": null,
   "metadata": {},
   "outputs": [],
   "source": [
    "import pandas as pd\n",
    "import numpy as np\n",
    "import matplotlib.pyplot as plt\n",
    "import seaborn as sns\n",
    "import os\n",
    "import glob"
   ]
  },
  {
   "cell_type": "code",
   "execution_count": null,
   "metadata": {},
   "outputs": [],
   "source": [
    "path = os.path.join(os.path.dirname(os.getcwd()), '../Data/Intermediate_data/')\n",
    "os.chdir(path)"
   ]
  },
  {
   "cell_type": "code",
   "execution_count": null,
   "metadata": {},
   "outputs": [],
   "source": [
    "names_p = {'As received':'P_AR', 'Ferritic':'P_FF','HAZ':'P_HAZ',\n",
    "         'HAZ + Tempered':'P_HAZ_T','Normalized':'P_N', 'Normalized + Tempered':'P_N_T','Over-tempered':'P_OT','Tempered':'P_T',  \n",
    "         'Norm+Temp':'P_N_T', 'Over Temp':'P_OT', 'HAZ+Temp':'P_HAZ_T',\n",
    "        'Over-Tempered':'P_OT','Fully Ferritic':'P_FF', 'Fully ferritic':'P_FF'}\n"
   ]
  },
  {
   "cell_type": "code",
   "execution_count": null,
   "metadata": {},
   "outputs": [],
   "source": [
    "tables_pipe_ut=[]\n",
    "for file in glob.glob('*PIPE_ut*.csv'):\n",
    "    df = pd.read_csv(file)\n",
    "    df.reset_index(inplace=True, drop=True)\n",
    "    df['Sample'].replace(names_p, inplace=True)\n",
    "    df.set_index('Sample', inplace=True)\n",
    "    tables_pipe_ut.append(df)\n",
    "\n",
    "pipe_ut = pd.concat(tables_pipe_ut, axis=1, ignore_index=False)\n",
    "pipe_ut.drop('Unnamed: 0', axis=1, inplace=True)\n",
    "pipe_ut.to_csv(os.path.join(os.path.dirname(os.getcwd()), '../Data/Cleaned_data/PIPE_ut_param_mean.csv'))\n"
   ]
  },
  {
   "cell_type": "code",
   "execution_count": null,
   "metadata": {},
   "outputs": [],
   "source": [
    "names_t = {'As received':'T_AR', 'Ferritic':'T_FF','HAZ':'T_HAZ',\n",
    "         'HAZ + Tempered':'T_HAZ_T','Normalized':'T_N', 'Normalized + Tempered':'T_N_T','Over-tempered':'T_OT','Tempered':'T_T',  \n",
    "         'Norm+Temp':'T_N_T', 'Over Temp':'T_OT', 'HAZ+Temp':'T_HAZ_T',\n",
    "        'Over-Tempered':'T_OT','Fully Ferritic':'T_FF', 'Fully ferritic':'T_FF'}\n"
   ]
  },
  {
   "cell_type": "code",
   "execution_count": null,
   "metadata": {},
   "outputs": [],
   "source": [
    "tables_tube_ut=[]\n",
    "for file in glob.glob('TUBE_ut*.csv'):\n",
    "    print(file)\n",
    "    df = pd.read_csv(file)\n",
    "    df.reset_index(inplace=True)\n",
    "    df.rename(columns = {'Conditions':'Sample'}, inplace=True)\n",
    "    df['Sample'] = df['Sample'].str.strip('\\xa0')\n",
    "    df['Sample'].replace(names_t, inplace=True)\n",
    "    df['Sample'] = df['Sample'].str.replace('^B', 'T_B')\n",
    "    df.drop(['Unnamed: 0', 'index'], axis=1, inplace=True)\n",
    "    df.set_index('Sample', inplace=True)\n",
    "    tables_tube_ut.append(df)\n",
    "\n",
    "tube_ut = pd.concat(tables_tube_ut, axis=1, ignore_index=False, join='outer', verify_integrity=True)\n",
    "tube_ut.rename(columns = {'avg':'backscatter_avg', 'std':'backscatter_std'}, inplace=True)\n",
    "tube_ut.to_csv(os.path.join(os.path.dirname(os.getcwd()), '../Data/Cleaned_data/TUBE_ut_param_mean.csv'))\n"
   ]
  },
  {
   "cell_type": "code",
   "execution_count": null,
   "metadata": {},
   "outputs": [],
   "source": []
  }
 ],
 "metadata": {
  "kernelspec": {
   "display_name": "Python 3",
   "language": "python",
   "name": "python3"
  },
  "language_info": {
   "codemirror_mode": {
    "name": "ipython",
    "version": 3
   },
   "file_extension": ".py",
   "mimetype": "text/x-python",
   "name": "python",
   "nbconvert_exporter": "python",
   "pygments_lexer": "ipython3",
   "version": "3.8.5"
  }
 },
 "nbformat": 4,
 "nbformat_minor": 4
}
