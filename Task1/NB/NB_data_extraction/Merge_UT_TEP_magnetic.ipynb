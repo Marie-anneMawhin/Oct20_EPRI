{
 "cells": [
  {
   "cell_type": "markdown",
   "metadata": {},
   "source": [
    "Merge all tables into 1 table save it as csv file"
   ]
  },
  {
   "cell_type": "code",
   "execution_count": null,
   "metadata": {},
   "outputs": [],
   "source": [
    "import pandas as pd\n",
    "import numpy as np\n",
    "import matplotlib.pyplot as plt\n",
    "import seaborn as sns\n",
    "import os\n",
    "import glob"
   ]
  },
  {
   "cell_type": "code",
   "execution_count": null,
   "metadata": {},
   "outputs": [],
   "source": [
    "path = os.path.join(os.path.dirname(os.getcwd()), '../Data/Cleaned_data/')\n",
    "os.chdir(path)"
   ]
  },
  {
   "cell_type": "code",
   "execution_count": null,
   "metadata": {},
   "outputs": [],
   "source": [
    "tubes_dfs=[]\n",
    "for file in glob.glob('TUBE*.csv'):\n",
    "    df = pd.read_csv(file)\n",
    "    df.rename(columns = {'Condition':'Sample','Unnamed: 0':'Sample'}, inplace=True)\n",
    "    df.set_index('Sample', inplace=True)\n",
    "    tubes_dfs.append(df)\n",
    "\n",
    "tubes = pd.concat(tubes_dfs, axis=1, ignore_index=False)\n",
    "tubes.to_csv(os.path.join(os.path.dirname(os.getcwd()), '../Data/Merged_data/TUBE_merge_1.csv'))\n"
   ]
  },
  {
   "cell_type": "code",
   "execution_count": null,
   "metadata": {},
   "outputs": [],
   "source": [
    "pipes_dfs=[]\n",
    "for file in glob.glob('PIPE*.csv'):\n",
    "    df = pd.read_csv(file)\n",
    "    df.rename(columns = {'Condition':'Sample','Unnamed: 0':'Sample'}, inplace=True)\n",
    "    df.set_index('Sample', inplace=True)\n",
    "    pipes_dfs.append(df)\n",
    "\n",
    "pipes = pd.concat(pipes_dfs, axis=1, ignore_index=False)\n",
    "pipes.to_csv(os.path.join(os.path.dirname(os.getcwd()), '../Data/Merged_data/PIPE_merge_1.csv'))\n"
   ]
  },
  {
   "cell_type": "code",
   "execution_count": null,
   "metadata": {},
   "outputs": [],
   "source": [
    "tubes.append(pipes).to_csv(os.path.join(os.path.dirname(os.getcwd()), '../Data/Merged_data/ALL_TUBE_PIPE_merge_1.csv'))"
   ]
  },
  {
   "cell_type": "code",
   "execution_count": null,
   "metadata": {},
   "outputs": [],
   "source": []
  }
 ],
 "metadata": {
  "kernelspec": {
   "display_name": "Python 3",
   "language": "python",
   "name": "python3"
  },
  "language_info": {
   "codemirror_mode": {
    "name": "ipython",
    "version": 3
   },
   "file_extension": ".py",
   "mimetype": "text/x-python",
   "name": "python",
   "nbconvert_exporter": "python",
   "pygments_lexer": "ipython3",
   "version": "3.8.5"
  }
 },
 "nbformat": 4,
 "nbformat_minor": 4
}
