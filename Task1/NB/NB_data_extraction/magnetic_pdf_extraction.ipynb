{
 "cells": [
  {
   "cell_type": "markdown",
   "metadata": {},
   "source": [
    "Extract table from magnetic NDE pdf"
   ]
  },
  {
   "cell_type": "code",
   "execution_count": null,
   "metadata": {},
   "outputs": [],
   "source": [
    "import pandas as pd\n",
    "import numpy as np\n",
    "import matplotlib.pyplot as plt\n",
    "import seaborn as sns\n",
    "import os\n",
    "import tabula"
   ]
  },
  {
   "cell_type": "code",
   "execution_count": null,
   "metadata": {},
   "outputs": [],
   "source": [
    "def create_median_df(table_list, col_names):\n",
    "    '''extract the median of each sample to a new column\n",
    "    Args:\n",
    "    - table_list: seq. of panda df\n",
    "    - col_names: seq of str names\n",
    "    \n",
    "    return dataframe with median\n",
    "    '''\n",
    "    \n",
    "    df = pd.DataFrame()\n",
    "    for table, col in zip(table_list, col_names):\n",
    "        df['median_'+ col] = table.median(1)\n",
    "        df['mean_' + col] = table.mean(1)\n",
    "        df['std_' + col] = table.std(1)\n",
    "    return df"
   ]
  },
  {
   "cell_type": "code",
   "execution_count": null,
   "metadata": {},
   "outputs": [],
   "source": [
    "def plot_corr(data):\n",
    "    '''\n",
    "    Plot correlation \n",
    "    \n",
    "    Args:\n",
    "    - data: pd dataframe\n",
    "    \n",
    "    '''\n",
    "    corr = data.corr()\n",
    "    sns.set(font_scale=1.2)\n",
    "\n",
    "    with sns.axes_style(\"white\"):\n",
    "        f, ax = plt.subplots(figsize=(5, 5))\n",
    "        ax = sns.heatmap(corr, square=True, cmap='RdBu_r', center=0)\n"
   ]
  },
  {
   "cell_type": "code",
   "execution_count": null,
   "metadata": {},
   "outputs": [],
   "source": [
    "magnetic_pdf = os.path.join(os.path.dirname(os.getcwd()), '../Data/Raw_data/MagneticMethods_Report.pdf')"
   ]
  },
  {
   "cell_type": "code",
   "execution_count": null,
   "metadata": {},
   "outputs": [],
   "source": [
    "tables = tabula.read_pdf(magnetic_pdf, pages=[10,11,12,13], lattice=True, pandas_options={'header':1})"
   ]
  },
  {
   "cell_type": "code",
   "execution_count": null,
   "metadata": {},
   "outputs": [],
   "source": [
    "hard_ref = tabula.read_pdf(magnetic_pdf, pages=[5], lattice=True)[0] #get the reference hardness table"
   ]
  },
  {
   "cell_type": "code",
   "execution_count": null,
   "metadata": {},
   "outputs": [],
   "source": [
    "hard_ref.to_csv(os.path.join(os.path.dirname(os.getcwd()), '../Data/Hardness_ref.csv'))"
   ]
  },
  {
   "cell_type": "code",
   "execution_count": null,
   "metadata": {},
   "outputs": [],
   "source": [
    "#Cleaning tables\n",
    "for i, df in enumerate(tables):\n",
    "    df.drop(0, inplace=True)\n",
    "    df.rename(columns = {'Unnamed: 0':'Sample'}, inplace=True)\n",
    "    \n",
    "    if i in range(6,9):\n",
    "        df.Sample = df.Sample.str.replace('P91', 'T')\n",
    "        \n",
    "    if i >= 9:\n",
    "        df.Sample = df.Sample.str.replace('B', 'T_B')\n",
    "        \n",
    "    df.Sample = df.Sample.str.replace('91', '')\n",
    "    df.set_index(df.iloc[:,0], inplace=True, drop=True)\n",
    "    df.drop('Sample', axis=1, inplace=True)\n"
   ]
  },
  {
   "cell_type": "code",
   "execution_count": null,
   "metadata": {},
   "outputs": [],
   "source": [
    "pipes = tables[0:6] # 1)ground (g) followed by 2)unground (ug) for coercive field (CF), permability (perm), MBN\n",
    "tubes = tables[6:9] # CF, perm, MBN for first 3 = ID\n",
    "B_tubes = tables[9:] # CF, perm, MBN for last 3 = Unknown"
   ]
  },
  {
   "cell_type": "code",
   "execution_count": null,
   "metadata": {},
   "outputs": [],
   "source": [
    "#Extracting CSV\n",
    "table_names = ['PIPE_magnetic_CF_ground', 'PIPE_magnetic_CF_unground', 'PIPE_magnetic_Perm_ground', 'PIPE_magnetic_Perm_unground', 'PIPE_magnetic_MBN_ground', 'PIPE_magnetic_MBN_unground',\\\n",
    "              'TUBE_magnetic_CF', 'TUBE_magnetic_Perm', 'TUBE_magnetic_MBN', 'TUBE_blind_magnetic_CF', 'TUBE_blind_magnetic_Perm', 'TUBE_blind_magnetic_MBN']\n",
    "\n",
    "for table, name in zip(tables, table_names):\n",
    "    table.to_csv(os.path.join(os.path.dirname(os.getcwd()), '../Data/Intermediate_data/'+name+'.csv'))\n",
    "    "
   ]
  },
  {
   "cell_type": "code",
   "execution_count": null,
   "metadata": {},
   "outputs": [],
   "source": [
    "table_names_boxplot = ['CF_g', 'CF', 'perm_g', 'perm', 'pMBN_g', 'MBN',\\\n",
    "              'CF', 'perm', 'MBN', 'CF', 'perm', 'MBN']"
   ]
  },
  {
   "cell_type": "code",
   "execution_count": null,
   "metadata": {},
   "outputs": [],
   "source": [
    "#boxplot\n",
    "for table, name in zip(tables, table_names_boxplot):\n",
    "    data = table.transpose().astype('float')\n",
    "    data.plot.box(rot=45, ylabel=name)"
   ]
  },
  {
   "cell_type": "code",
   "execution_count": null,
   "metadata": {},
   "outputs": [],
   "source": [
    "column_tubes = table_names_boxplot[6:9]\n",
    "median_tubes = create_median_df(tubes, column_tubes)\n",
    "column_b_tubes = table_names_boxplot[9:]\n",
    "median_b_tubes = create_median_df(B_tubes, column_b_tubes)\n",
    "median_all_tubes = pd.concat([median_b_tubes, median_tubes], ignore_index=False)"
   ]
  },
  {
   "cell_type": "code",
   "execution_count": null,
   "metadata": {},
   "outputs": [],
   "source": [
    "plot_corr(median_all_tubes)"
   ]
  },
  {
   "cell_type": "code",
   "execution_count": null,
   "metadata": {},
   "outputs": [],
   "source": [
    "median_all_tubes.to_csv(os.path.join(os.path.dirname(os.getcwd()), '../Data/Cleaned_data/TUBE_magnetic_param_median_mean.csv'))"
   ]
  },
  {
   "cell_type": "code",
   "execution_count": null,
   "metadata": {},
   "outputs": [],
   "source": [
    "column_pipes = table_names_boxplot[0:6]\n",
    "median_pipes = create_median_df(pipes, column_pipes)"
   ]
  },
  {
   "cell_type": "code",
   "execution_count": null,
   "metadata": {},
   "outputs": [],
   "source": [
    "plot_corr(median_pipes)"
   ]
  },
  {
   "cell_type": "code",
   "execution_count": null,
   "metadata": {},
   "outputs": [],
   "source": [
    "median_pipes.to_csv(os.path.join(os.path.dirname(os.getcwd()), '../Data/Cleaned_data/PIPE_magnetic_param_median_mean.csv'))"
   ]
  }
 ],
 "metadata": {
  "kernelspec": {
   "display_name": "Python 3",
   "language": "python",
   "name": "python3"
  },
  "language_info": {
   "codemirror_mode": {
    "name": "ipython",
    "version": 3
   },
   "file_extension": ".py",
   "mimetype": "text/x-python",
   "name": "python",
   "nbconvert_exporter": "python",
   "pygments_lexer": "ipython3",
   "version": "3.8.5"
  }
 },
 "nbformat": 4,
 "nbformat_minor": 4
}
