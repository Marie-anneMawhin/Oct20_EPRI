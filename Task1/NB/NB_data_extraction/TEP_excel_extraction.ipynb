{
 "cells": [
  {
   "cell_type": "code",
   "execution_count": 1,
   "metadata": {},
   "outputs": [],
   "source": [
    "import pandas as pd\n",
    "import os"
   ]
  },
  {
   "cell_type": "code",
   "execution_count": 2,
   "metadata": {},
   "outputs": [],
   "source": [
    "excel_pipe = os.path.join(os.path.dirname(os.getcwd()),'../Data/Raw_data/TEP_Data_PipeSections.xlsx')\n",
    "excel_tube = os.path.join(os.path.dirname(os.getcwd()),'../Data/Raw_data/TEP_Data_Tubes.xlsx')\n",
    "\n",
    "tep_pipe = pd.read_excel(excel_pipe, sheet_name = None)\n",
    "tep_tube = pd.read_excel(excel_tube, sheet_name = None)\n",
    "\n",
    "output_pipe = os.path.join(os.path.dirname(os.getcwd()),'../Data/Intermediate_data/PIPE_tep_summary.csv')\n",
    "output_tube = os.path.join(os.path.dirname(os.getcwd()),'../Data/Intermediate_data/TUBE_tep_summary.csv')"
   ]
  },
  {
   "cell_type": "code",
   "execution_count": 3,
   "metadata": {},
   "outputs": [
    {
     "data": {
      "text/plain": [
       "dict_keys(['specimens & settings', 'summary', 'P1a', 'P1b', 'P2a', 'P2b', 'P3a', 'P3b', 'P4a', 'P4b', 'P5a', 'P5b', 'P6a', 'P6b', 'P7a', 'P7b', 'P8a', 'P8b'])"
      ]
     },
     "execution_count": 3,
     "metadata": {},
     "output_type": "execute_result"
    }
   ],
   "source": [
    "tep_pipe.keys()"
   ]
  },
  {
   "cell_type": "code",
   "execution_count": 4,
   "metadata": {},
   "outputs": [
    {
     "data": {
      "text/plain": [
       "dict_keys(['specimens & settings', 'summary', 'B1a', 'B1b', 'B2a', 'B2b', 'B3a', 'B3b', 'B4a', 'B4b', 'B5a', 'B5b', 'B6a', 'B6b', 'B7a', 'B7b', 'B8a', 'B8b', 'T1a', 'T1b', 'T2a', 'T2b', 'T3a', 'T3b', 'T4a', 'T4b', 'T5a', 'T5b', 'T6a', 'T6b', 'T7a', 'T7b', 'T8a', 'T8b'])"
      ]
     },
     "execution_count": 4,
     "metadata": {},
     "output_type": "execute_result"
    }
   ],
   "source": [
    "tep_tube.keys()"
   ]
  },
  {
   "cell_type": "code",
   "execution_count": 5,
   "metadata": {},
   "outputs": [
    {
     "data": {
      "text/html": [
       "<div>\n",
       "<style scoped>\n",
       "    .dataframe tbody tr th:only-of-type {\n",
       "        vertical-align: middle;\n",
       "    }\n",
       "\n",
       "    .dataframe tbody tr th {\n",
       "        vertical-align: top;\n",
       "    }\n",
       "\n",
       "    .dataframe thead th {\n",
       "        text-align: right;\n",
       "    }\n",
       "</style>\n",
       "<table border=\"1\" class=\"dataframe\">\n",
       "  <thead>\n",
       "    <tr style=\"text-align: right;\">\n",
       "      <th></th>\n",
       "      <th>ID</th>\n",
       "      <th>Heat Treatment</th>\n",
       "    </tr>\n",
       "  </thead>\n",
       "  <tbody>\n",
       "    <tr>\n",
       "      <th>8</th>\n",
       "      <td>T1, P1</td>\n",
       "      <td>As Received</td>\n",
       "    </tr>\n",
       "    <tr>\n",
       "      <th>9</th>\n",
       "      <td>T2, P2</td>\n",
       "      <td>Normalized</td>\n",
       "    </tr>\n",
       "    <tr>\n",
       "      <th>10</th>\n",
       "      <td>T3, P3</td>\n",
       "      <td>Norm + Tempered</td>\n",
       "    </tr>\n",
       "    <tr>\n",
       "      <th>11</th>\n",
       "      <td>T4, P4</td>\n",
       "      <td>Tempered</td>\n",
       "    </tr>\n",
       "    <tr>\n",
       "      <th>12</th>\n",
       "      <td>T5, P5</td>\n",
       "      <td>Over Tempered</td>\n",
       "    </tr>\n",
       "    <tr>\n",
       "      <th>13</th>\n",
       "      <td>T6, P6</td>\n",
       "      <td>Full Ferrittic</td>\n",
       "    </tr>\n",
       "    <tr>\n",
       "      <th>14</th>\n",
       "      <td>T7. P7</td>\n",
       "      <td>HAZ</td>\n",
       "    </tr>\n",
       "    <tr>\n",
       "      <th>15</th>\n",
       "      <td>T8, P8</td>\n",
       "      <td>HAZ + Tempered</td>\n",
       "    </tr>\n",
       "  </tbody>\n",
       "</table>\n",
       "</div>"
      ],
      "text/plain": [
       "        ID   Heat Treatment\n",
       "8   T1, P1      As Received\n",
       "9   T2, P2       Normalized\n",
       "10  T3, P3  Norm + Tempered\n",
       "11  T4, P4         Tempered\n",
       "12  T5, P5    Over Tempered\n",
       "13  T6, P6   Full Ferrittic\n",
       "14  T7. P7              HAZ\n",
       "15  T8, P8   HAZ + Tempered"
      ]
     },
     "execution_count": 5,
     "metadata": {},
     "output_type": "execute_result"
    }
   ],
   "source": [
    "tep_settings = tep_pipe['specimens & settings']\n",
    "tep_settings = tep_settings.loc[8:,[\"ID\",\"Heat Treatment\"]]\n",
    "tep_settings"
   ]
  },
  {
   "cell_type": "code",
   "execution_count": 6,
   "metadata": {
    "scrolled": true
   },
   "outputs": [],
   "source": [
    "tep_tube_summary = tep_tube['summary'].iloc[4:,:11]\n",
    "col_rename = tep_tube_summary.loc[:4,:].values.tolist()[0]\n",
    "col_rename = [i+j for i,j in zip (col_rename,[\"\",\"\",\"\",\"_uV_C\",\"_uV_C\",\"_uV_C\",\"_uV_C\",\"_uV_C\",\"_uV_C\",\"_uV_C\",\"_uV_C\"])]\n",
    "col_rename[1] = \"serial\"\n",
    "tep_tube_summary.columns = col_rename\n",
    "tep_tube_summary = tep_tube_summary.drop([4,5,22,23,24,25])\n",
    "tep_tube_summary.insert(loc=1, column=\"condition\", value=[\"unknown\"]*8 + tep_settings[\"Heat Treatment\"].tolist())\n",
    "tep_tube_summary.to_csv(output_tube,index=False)\n"
   ]
  },
  {
   "cell_type": "code",
   "execution_count": 7,
   "metadata": {},
   "outputs": [],
   "source": [
    "tep_pipe_summary = tep_pipe['summary'].iloc[5:,:11]\n",
    "col_rename = tep_pipe_summary.loc[:5,:].values.tolist()[0]\n",
    "col_rename = [i+j for i,j in zip (col_rename,[\"\",\"\",\"\",\"_uV_C\",\"_uV_C\",\"_uV_C\",\"_uV_C\",\"_uV_C\",\"_uV_C\",\"_uV_C\",\"_uV_C\"])]\n",
    "col_rename[1] = \"serial\"\n",
    "tep_pipe_summary.columns = col_rename\n",
    "tep_pipe_summary = tep_pipe_summary.drop([5,6])\n",
    "tep_pipe_summary = tep_pipe_summary[:8]\n",
    "tep_pipe_summary.insert(loc=1, column=\"condition\", value=tep_settings[\"Heat Treatment\"].tolist())\n",
    "tep_pipe_summary.to_csv(output_pipe,index=False)\n"
   ]
  },
  {
   "cell_type": "code",
   "execution_count": null,
   "metadata": {},
   "outputs": [],
   "source": []
  }
 ],
 "metadata": {
  "kernelspec": {
   "display_name": "Python 3",
   "language": "python",
   "name": "python3"
  },
  "language_info": {
   "codemirror_mode": {
    "name": "ipython",
    "version": 3
   },
   "file_extension": ".py",
   "mimetype": "text/x-python",
   "name": "python",
   "nbconvert_exporter": "python",
   "pygments_lexer": "ipython3",
   "version": "3.7.6"
  }
 },
 "nbformat": 4,
 "nbformat_minor": 4
}
