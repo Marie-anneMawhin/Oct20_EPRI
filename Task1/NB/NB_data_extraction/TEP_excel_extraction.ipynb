{
 "cells": [
  {
   "cell_type": "markdown",
   "metadata": {},
   "source": [
    "Extraction of TEP tables from excel"
   ]
  },
  {
   "cell_type": "code",
   "execution_count": null,
   "metadata": {},
   "outputs": [],
   "source": [
    "import pandas as pd\n",
    "import os"
   ]
  },
  {
   "cell_type": "code",
   "execution_count": null,
   "metadata": {},
   "outputs": [],
   "source": [
    "excel_pipe = os.path.join(os.path.dirname(os.getcwd()),'../Data/Raw_data/TEP_Data_PipeSections.xlsx')\n",
    "excel_tube = os.path.join(os.path.dirname(os.getcwd()),'../Data/Raw_data/TEP_Data_Tubes.xlsx')\n",
    "\n",
    "tep_pipe = pd.read_excel(excel_pipe, sheet_name = None)\n",
    "tep_tube = pd.read_excel(excel_tube, sheet_name = None)\n",
    "\n",
    "output_pipe = os.path.join(os.path.dirname(os.getcwd()),'../Data/Intermediate_data/PIPE_tep_summary.csv')\n",
    "output_tube = os.path.join(os.path.dirname(os.getcwd()),'../Data/Intermediate_data/TUBE_tep_summary.csv')"
   ]
  },
  {
   "cell_type": "code",
   "execution_count": null,
   "metadata": {},
   "outputs": [],
   "source": [
    "tep_pipe.keys()"
   ]
  },
  {
   "cell_type": "code",
   "execution_count": null,
   "metadata": {},
   "outputs": [],
   "source": [
    "tep_tube.keys()"
   ]
  },
  {
   "cell_type": "code",
   "execution_count": null,
   "metadata": {},
   "outputs": [],
   "source": [
    "tep_settings = tep_pipe['specimens & settings']\n",
    "tep_settings = tep_settings.loc[8:,[\"ID\",\"Heat Treatment\"]]\n",
    "tep_settings"
   ]
  },
  {
   "cell_type": "code",
   "execution_count": null,
   "metadata": {
    "scrolled": true
   },
   "outputs": [],
   "source": [
    "tep_tube_summary = tep_tube['summary'].iloc[4:,:11]\n",
    "col_rename = tep_tube_summary.loc[:4,:].values.tolist()[0]\n",
    "col_rename = [i+j for i,j in zip (col_rename,[\"\",\"\",\"\",\"_uV_C\",\"_uV_C\",\"_uV_C\",\"_uV_C\",\"_uV_C\",\"_uV_C\",\"_uV_C\",\"_uV_C\"])]\n",
    "col_rename[1] = \"serial\"\n",
    "tep_tube_summary.columns = col_rename\n",
    "tep_tube_summary = tep_tube_summary.drop([4,5,22,23,24,25])\n",
    "tep_tube_summary.insert(loc=1, column=\"condition\", value=[\"unknown\"]*8 + tep_settings[\"Heat Treatment\"].tolist())\n",
    "tep_tube_summary.to_csv(output_tube,index=False)\n"
   ]
  },
  {
   "cell_type": "code",
   "execution_count": null,
   "metadata": {},
   "outputs": [],
   "source": [
    "tep_pipe_summary = tep_pipe['summary'].iloc[5:,:11]\n",
    "col_rename = tep_pipe_summary.loc[:5,:].values.tolist()[0]\n",
    "col_rename = [i+j for i,j in zip (col_rename,[\"\",\"\",\"\",\"_uV_C\",\"_uV_C\",\"_uV_C\",\"_uV_C\",\"_uV_C\",\"_uV_C\",\"_uV_C\",\"_uV_C\"])]\n",
    "col_rename[1] = \"serial\"\n",
    "tep_pipe_summary.columns = col_rename\n",
    "tep_pipe_summary = tep_pipe_summary.drop([5,6])\n",
    "tep_pipe_summary = tep_pipe_summary[:8]\n",
    "tep_pipe_summary.insert(loc=1, column=\"condition\", value=tep_settings[\"Heat Treatment\"].tolist())\n",
    "tep_pipe_summary.to_csv(output_pipe,index=False)\n"
   ]
  },
  {
   "cell_type": "code",
   "execution_count": null,
   "metadata": {},
   "outputs": [],
   "source": []
  }
 ],
 "metadata": {
  "kernelspec": {
   "display_name": "Python 3",
   "language": "python",
   "name": "python3"
  },
  "language_info": {
   "codemirror_mode": {
    "name": "ipython",
    "version": 3
   },
   "file_extension": ".py",
   "mimetype": "text/x-python",
   "name": "python",
   "nbconvert_exporter": "python",
   "pygments_lexer": "ipython3",
   "version": "3.8.5"
  }
 },
 "nbformat": 4,
 "nbformat_minor": 4
}
