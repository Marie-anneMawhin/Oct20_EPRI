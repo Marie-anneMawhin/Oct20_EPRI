{
 "cells": [
  {
   "cell_type": "markdown",
   "metadata": {},
   "source": [
    "Clean TEP data"
   ]
  },
  {
   "cell_type": "code",
   "execution_count": null,
   "metadata": {},
   "outputs": [],
   "source": [
    "import pandas as pd\n",
    "import os"
   ]
  },
  {
   "cell_type": "code",
   "execution_count": null,
   "metadata": {},
   "outputs": [],
   "source": [
    "intermediate_pipe = os.path.join(os.path.dirname(os.getcwd()),'../Data/Intermediate_data/PIPE_tep_summary.csv')\n",
    "intermediate_tube = os.path.join(os.path.dirname(os.getcwd()),'../Data/Intermediate_data/TUBE_tep_summary.csv')\n",
    "\n",
    "tep_pipe = pd.read_csv(intermediate_pipe)\n",
    "tep_tube = pd.read_csv(intermediate_tube)\n",
    "\n",
    "output_pipe = os.path.join(os.path.dirname(os.getcwd()),'../Data/Cleaned_data/PIPE_tep_param_mean.csv')\n",
    "output_tube = os.path.join(os.path.dirname(os.getcwd()),'../Data/Cleaned_data/TUBE_tep_param_mean.csv')\n"
   ]
  },
  {
   "cell_type": "code",
   "execution_count": null,
   "metadata": {},
   "outputs": [],
   "source": [
    "condition_ID = [\"AR\",\"N\",\"N_T\",\"T\",\"OT\",\"FF\",\"HAZ\",\"HAZ_T\"]"
   ]
  },
  {
   "cell_type": "code",
   "execution_count": null,
   "metadata": {},
   "outputs": [],
   "source": [
    "unknown_tube_conditions = (\"T_\" + tep_tube.loc[:7,'material']).tolist()\n",
    "known_tube_conditions = [i+j for i,j in zip ([\"T_\"]*8,condition_ID)]\n",
    "\n",
    "tep_tube_clean = pd.DataFrame({\n",
    "    'Condition':unknown_tube_conditions + known_tube_conditions,\n",
    "   'TEP_mean_uV_C':tep_tube['average_uV_C'],\n",
    "   'TEP_stdev_uV_C':tep_tube['stdev_uV_C']})\n",
    "tep_tube_clean.to_csv(output_tube,index=False)\n"
   ]
  },
  {
   "cell_type": "code",
   "execution_count": null,
   "metadata": {},
   "outputs": [],
   "source": [
    "pipe_conditions = [i+j for i,j in zip ([\"P_\"]*8,condition_ID)]\n",
    "\n",
    "tep_pipe_clean = pd.DataFrame({\n",
    "    'Condition': pipe_conditions,\n",
    "   'TEP_mean_uV_C':tep_pipe['average_uV_C'],\n",
    "   'TEP_stdev_uV_C':tep_pipe['stdev_uV_C']})\n",
    "tep_pipe_clean.to_csv(output_pipe,index=False)\n"
   ]
  },
  {
   "cell_type": "code",
   "execution_count": null,
   "metadata": {},
   "outputs": [],
   "source": []
  }
 ],
 "metadata": {
  "kernelspec": {
   "display_name": "Python 3",
   "language": "python",
   "name": "python3"
  },
  "language_info": {
   "codemirror_mode": {
    "name": "ipython",
    "version": 3
   },
   "file_extension": ".py",
   "mimetype": "text/x-python",
   "name": "python",
   "nbconvert_exporter": "python",
   "pygments_lexer": "ipython3",
   "version": "3.8.5"
  }
 },
 "nbformat": 4,
 "nbformat_minor": 4
}
