{
 "cells": [
  {
   "cell_type": "code",
   "execution_count": 16,
   "metadata": {},
   "outputs": [],
   "source": [
    "import pandas as pd\n",
    "import os"
   ]
  },
  {
   "cell_type": "code",
   "execution_count": 17,
   "metadata": {},
   "outputs": [],
   "source": [
    "inp_ut_att_pipe = os.path.join(os.path.dirname(os.getcwd()),'../Data/Intermediate_data/TUBE_ut_attenuation.csv')\n",
    "inp_ut_att_tube = os.path.join(os.path.dirname(os.getcwd()),'../Data/Intermediate_data/PIPE_ut_attenuation.csv')\n",
    "\n",
    "out_ut_auc_pipe = os.path.join(os.path.dirname(os.getcwd()),'../Data/Intermediate_data/TUBE_ut_AUC.csv')\n",
    "out_ut_auc_tube = os.path.join(os.path.dirname(os.getcwd()),'../Data/Intermediate_data/PIPE_ut_AUC.csv')"
   ]
  },
  {
   "cell_type": "code",
   "execution_count": 18,
   "metadata": {},
   "outputs": [],
   "source": [
    "pipe_ut_att=pd.read_csv(inp_ut_att_pipe,index_col=0)\n",
    "tube_ut_att=pd.read_csv(inp_ut_att_tube,index_col=0)"
   ]
  },
  {
   "cell_type": "code",
   "execution_count": 19,
   "metadata": {},
   "outputs": [],
   "source": [
    "f_init=8*10**6\n",
    "f_end=22*10**6"
   ]
  },
  {
   "cell_type": "code",
   "execution_count": 20,
   "metadata": {},
   "outputs": [],
   "source": [
    "def findAUC(A, B, p, f_init, f_end):\n",
    "    '''\n",
    "    Calculates the Area under the curve within the limits f_init and f_end\n",
    "    '''\n",
    "    def polyFunc(f):\n",
    "        return (A/5)*f**5 + (B/3)*f**3 + p*f\n",
    "    return polyFunc(f_end) - polyFunc(f_init)"
   ]
  },
  {
   "cell_type": "code",
   "execution_count": 21,
   "metadata": {},
   "outputs": [],
   "source": [
    "pipe_ut_att[\"AUC\"]=findAUC(pipe_ut_att[\"A\"],pipe_ut_att[\"B\"],pipe_ut_att[\"p\"],f_init,f_end)\n",
    "tube_ut_att[\"AUC\"]=findAUC(tube_ut_att[\"A\"],tube_ut_att[\"B\"],tube_ut_att[\"p\"],f_init,f_end)"
   ]
  },
  {
   "cell_type": "code",
   "execution_count": 22,
   "metadata": {},
   "outputs": [],
   "source": [
    "pipe_ut_AUC = pd.DataFrame(pipe_ut_att, columns= ['Sample', 'AUC'])\n",
    "tube_ut_AUC = pd.DataFrame(tube_ut_att, columns= ['Sample', 'AUC'])"
   ]
  },
  {
   "cell_type": "code",
   "execution_count": 23,
   "metadata": {},
   "outputs": [],
   "source": [
    "pipe_ut_AUC.to_csv(out_ut_auc_pipe,index=False)\n",
    "tube_ut_AUC.to_csv(out_ut_auc_tube,index=False)"
   ]
  },
  {
   "cell_type": "code",
   "execution_count": null,
   "metadata": {},
   "outputs": [],
   "source": []
  }
 ],
 "metadata": {
  "kernelspec": {
   "display_name": "Python 3",
   "language": "python",
   "name": "python3"
  },
  "language_info": {
   "codemirror_mode": {
    "name": "ipython",
    "version": 3
   },
   "file_extension": ".py",
   "mimetype": "text/x-python",
   "name": "python",
   "nbconvert_exporter": "python",
   "pygments_lexer": "ipython3",
   "version": "3.8.5"
  }
 },
 "nbformat": 4,
 "nbformat_minor": 4
}
