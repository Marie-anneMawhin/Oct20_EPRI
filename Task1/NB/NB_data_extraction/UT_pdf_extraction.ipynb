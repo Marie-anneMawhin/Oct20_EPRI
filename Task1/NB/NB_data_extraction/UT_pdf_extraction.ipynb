{
 "cells": [
  {
   "cell_type": "code",
   "execution_count": 1,
   "metadata": {},
   "outputs": [],
   "source": [
    "import pandas as pd\n",
    "import numpy as np\n",
    "import matplotlib.pyplot as plt\n",
    "import seaborn as sns\n",
    "import os\n",
    "import tabula"
   ]
  },
  {
   "cell_type": "code",
   "execution_count": 3,
   "metadata": {},
   "outputs": [],
   "source": [
    "UT_pdf = os.path.join(os.path.dirname(os.getcwd()), '../Data/Raw_data/UT Measurements_Report.pdf')"
   ]
  },
  {
   "cell_type": "code",
   "execution_count": 295,
   "metadata": {},
   "outputs": [],
   "source": [
    "#TO DO p7_table by hand"
   ]
  },
  {
   "cell_type": "code",
   "execution_count": 5,
   "metadata": {},
   "outputs": [],
   "source": [
    "tables_scatter_atten = tabula.read_pdf(UT_pdf, pages=[8, 29,34], lattice=True)"
   ]
  },
  {
   "cell_type": "code",
   "execution_count": 8,
   "metadata": {},
   "outputs": [],
   "source": [
    "#PIPE backscatter\n",
    "table_0 = tables_scatter_atten[0].T.reset_index(drop=True).T \n",
    "table_0.rename(columns = {0:'Sample',\n",
    "                          1:'backscatter_rms'}, inplace=True)\n",
    "table_0.to_csv(os.path.join(os.path.dirname(os.getcwd()), '../Data/Intermediate_data/'+'PIPE_ut_backscatter.csv'))"
   ]
  },
  {
   "cell_type": "code",
   "execution_count": 242,
   "metadata": {},
   "outputs": [],
   "source": [
    "#TUBE attenuation\n",
    "tables_scatter_atten[1].rename(columns = {'Unnamed: 0':'Sample'}, inplace=True)\n",
    "tables_scatter_atten[1].to_csv(os.path.join(os.path.dirname(os.getcwd()), '../Data/Intermediate_data/'+'TUBE_ut_attenuation.csv'))"
   ]
  },
  {
   "cell_type": "code",
   "execution_count": 251,
   "metadata": {},
   "outputs": [],
   "source": [
    "#PIPE attenuation\n",
    "tables_scatter_atten[2].rename(columns = {'Unnamed: 0':'Sample'}, inplace=True)\n",
    "tables_scatter_atten[2].to_csv(os.path.join(os.path.dirname(os.getcwd()), '../Data/Intermediate_data/'+'PIPE_ut_attenuation.csv'))"
   ]
  },
  {
   "cell_type": "code",
   "execution_count": 17,
   "metadata": {},
   "outputs": [],
   "source": [
    "def clean_abs_col(df, suffix=None, avg_pow_10=1000, std_pow_10=10000):\n",
    "    '''\n",
    "    remove useless row and calculate the final data\n",
    "    Args:\n",
    "     - df: data extracted from tabula\n",
    "     - suffix: time window ('str')\n",
    "     - avg_pow_10 : int to divide average value\n",
    "     - std_pow_10 : int to divide SD value\n",
    "    return df\n",
    "    '''\n",
    "    df.drop(0, inplace=True)\n",
    "    df[['Absorption_avg', 'Absorption_std']] = df[['Absorption_avg', 'Absorption_std']].astype('float')\n",
    "    df['Absorption_avg'] = df['Absorption_avg']/avg_pow_10\n",
    "    df['Absorption_std'] = df['Absorption_std']/std_pow_10 \n",
    "    df.set_index('Sample', inplace=True)\n",
    "    df = df.add_suffix(suffix)\n",
    "    print(df)\n",
    "    return df"
   ]
  },
  {
   "cell_type": "code",
   "execution_count": 18,
   "metadata": {},
   "outputs": [],
   "source": [
    "tables = tabula.read_pdf(UT_pdf, pages=[54, 55, 56, 57, 58, 60, 61], lattice=True)"
   ]
  },
  {
   "cell_type": "code",
   "execution_count": 19,
   "metadata": {},
   "outputs": [
    {
     "name": "stdout",
     "output_type": "stream",
     "text": [
      "                       Absorption_avg_50  Absorption_std_50\n",
      "Sample                                                     \n",
      "As received                     0.001257           0.000210\n",
      "Fully ferritic                  0.003377           0.000817\n",
      "HAZ                             0.001693           0.000460\n",
      "HAZ + Tempered                  0.001390           0.000418\n",
      "Normalized                      0.003128           0.001147\n",
      "Normalized + Tempered           0.001838           0.000622\n",
      "Over-tempered                   0.001526           0.000433\n",
      "Tempered                        0.001611           0.000873\n"
     ]
    }
   ],
   "source": [
    "#TUBE absorp 50s\n",
    "tables[0].rename(columns = {'Value of internal friction Q-1':'Absorption_avg',\n",
    "                           'Unnamed: 0':'Absorption_std'}, inplace=True)\n",
    "tube_ut_50 = clean_abs_col(tables[0], '_50')\n",
    "tube_ut_50.to_csv(os.path.join(os.path.dirname(os.getcwd()), '../Data/Intermediate_data/'+'TUBE_ut_absorption_50us.csv'))"
   ]
  },
  {
   "cell_type": "code",
   "execution_count": 20,
   "metadata": {},
   "outputs": [
    {
     "name": "stdout",
     "output_type": "stream",
     "text": [
      "        Absorption_avg_50  Absorption_std_50\n",
      "Sample                                      \n",
      "B1               0.001264           0.000519\n",
      "B3               0.001168           0.000555\n",
      "B4               0.002084           0.000648\n",
      "B5               0.001141           0.000447\n",
      "B6               0.001323           0.000574\n",
      "B7               0.001908           0.000926\n",
      "B8               0.000933           0.000304\n"
     ]
    }
   ],
   "source": [
    "#TUBE_blind absorp 50s\n",
    "table_50BT = pd.concat([tables[1], tables[2].T.reset_index(drop=False).T ])\n",
    "table_50BT.rename(columns = {0:'Sample',\n",
    "                          1:'Absorption_avg',\n",
    "                           2:'Absorption_std'}, inplace=True)\n",
    "table_50BT = table_50BT.iloc[:, 0:3]\n",
    "table_50BT = clean_abs_col(table_50BT, '_50')\n",
    "table_50BT.reset_index(drop=True, inplace=True)\n",
    "table_50BT.to_csv(os.path.join(os.path.dirname(os.getcwd()), '../Data/Intermediate_data/'+'TUBE_blind_ut_absorption_50us.csv'))"
   ]
  },
  {
   "cell_type": "code",
   "execution_count": 22,
   "metadata": {},
   "outputs": [
    {
     "name": "stdout",
     "output_type": "stream",
     "text": [
      "                       Absorption_avg_100  Absorption_std_100\n",
      "Sample                                                       \n",
      "As received                      0.000982            0.000325\n",
      "Fully ferritic                   0.000866            0.000276\n",
      "HAZ                              0.001051            0.000437\n",
      "HAZ + Tempered                   0.000788            0.000317\n",
      "Normalized                       0.000959            0.000175\n",
      "Normalized + Tempered            0.001287            0.000330\n",
      "Over-tempered                    0.000780            0.000235\n",
      "Tempered                         0.000742            0.000287\n"
     ]
    }
   ],
   "source": [
    "#TUBE absorp 100s\n",
    "tables[3].rename(columns = {'Value of internal friction Q-1':'Absorption_avg',\n",
    "                           'Unnamed: 0':'Absorption_std'}, inplace=True)\n",
    "tube_ut_100 = clean_abs_col(tables[3], '_100', 10000, 10000)\n",
    "tube_ut_100.to_csv(os.path.join(os.path.dirname(os.getcwd()), '../Data/Intermediate_data/'+'TUBE_ut_absorption_100us.csv'))"
   ]
  },
  {
   "cell_type": "code",
   "execution_count": 23,
   "metadata": {},
   "outputs": [
    {
     "name": "stdout",
     "output_type": "stream",
     "text": [
      "                       Absorption_avg_200  Absorption_std_200\n",
      "Sample                                                       \n",
      "As received                      0.000488            0.000081\n",
      "Fully ferritic                   0.000657            0.000088\n",
      "HAZ                              0.000425            0.000066\n",
      "HAZ + Tempered                   0.000494            0.000176\n",
      "Normalized                       0.000657            0.000062\n",
      "Normalized + Tempered            0.000835            0.000165\n",
      "Over-tempered                    0.000476            0.000114\n",
      "Tempered                         0.000384            0.000041\n"
     ]
    }
   ],
   "source": [
    "#TUBE absorp 200s\n",
    "tables[5].rename(columns = {'Value of internal friction Q-1':'Absorption_avg',\n",
    "                           'Unnamed: 0':'Absorption_std'}, inplace=True)\n",
    "tube_ut_200 = clean_abs_col(tables[5], '_200', 10000, 100000)\n",
    "tube_ut_200.to_csv(os.path.join(os.path.dirname(os.getcwd()), '../Data/Intermediate_data/'+'TUBE_ut_absorption_200us.csv'))"
   ]
  },
  {
   "cell_type": "code",
   "execution_count": 24,
   "metadata": {},
   "outputs": [
    {
     "name": "stdout",
     "output_type": "stream",
     "text": [
      "        Absorption_avg_200  Absorption_std_200\n",
      "Sample                                        \n",
      "B1                0.000373            0.000094\n",
      "B2                0.000874            0.000234\n",
      "B3                0.000349            0.000078\n",
      "B4                0.000701            0.000136\n",
      "B5                0.000397            0.000088\n",
      "B6                0.000401            0.000110\n",
      "B8                0.000416            0.000091\n"
     ]
    }
   ],
   "source": [
    "#TUBE_blind absorp 200s\n",
    "table_200BT = pd.concat([tables[6].T.reset_index(drop=False).T, tables[7].T.reset_index(drop=False).T ])\n",
    "table_200BT.rename(columns = {0:'Sample',\n",
    "                          1:'Absorption_avg',\n",
    "                           2:'Absorption_std'}, inplace=True)\n",
    "table_200BT = table_200BT.iloc[1:]\n",
    "table_200BT = clean_abs_col(table_200BT,  '_200', 10000, 100000)\n",
    "table_200BT.reset_index(drop=True, inplace=True)\n",
    "table_200BT.to_csv(os.path.join(os.path.dirname(os.getcwd()), '../Data/Intermediate_data/'+'TUBE_blind_ut_absorption_200us.csv'))"
   ]
  },
  {
   "cell_type": "code",
   "execution_count": 25,
   "metadata": {},
   "outputs": [
    {
     "name": "stdout",
     "output_type": "stream",
     "text": [
      "                       Absorption_avg_500  Absorption_std_500\n",
      "Sample                                                       \n",
      "As received                      0.000283            0.000023\n",
      "Fully ferritic                   0.000493            0.000064\n",
      "HAZ                              0.000349            0.000027\n",
      "HAZ + Tempered                   0.000355            0.000111\n",
      "Normalized                       0.000443            0.000075\n",
      "Normalized + Tempered            0.000530            0.000066\n",
      "Over-tempered                    0.000332            0.000031\n",
      "Tempered                         0.000283            0.000028\n"
     ]
    }
   ],
   "source": [
    "#TUBE absorp 500s\n",
    "tables[8].rename(columns = {'Value of internal friction Q-1':'Absorption_avg',\n",
    "                           'Unnamed: 0':'Absorption_std'}, inplace=True)\n",
    "tube_ut_500 = clean_abs_col(tables[8],  '_500', 10000, 100000)\n",
    "tube_ut_500.to_csv(os.path.join(os.path.dirname(os.getcwd()), '../Data/Intermediate_data/'+'TUBE_ut_absorption_500us.csv'))"
   ]
  },
  {
   "cell_type": "code",
   "execution_count": 26,
   "metadata": {},
   "outputs": [
    {
     "name": "stdout",
     "output_type": "stream",
     "text": [
      "        Absorption_avg_500  Absorption_std_500\n",
      "Sample                                        \n",
      "B1                0.000233            0.000018\n",
      "B2                0.000571            0.000139\n",
      "B4                0.000379            0.000100\n",
      "B5                0.000230            0.000033\n",
      "B6                0.000240            0.000026\n",
      "B7                0.000406            0.000084\n",
      "B8                0.000319            0.000076\n"
     ]
    }
   ],
   "source": [
    "#TUBE_blind absorp 500s\n",
    "table_500BT = pd.concat([tables[9].T.reset_index(drop=False).T, tables[10].T.reset_index(drop=False).T ])\n",
    "table_500BT.rename(columns = {0:'Sample',\n",
    "                          1:'Absorption_avg',\n",
    "                           2:'Absorption_std'}, inplace=True)\n",
    "table_500BT = table_500BT.iloc[1:]\n",
    "table_500BT = clean_abs_col(table_500BT,  '_500', 10000, 100000)\n",
    "table_500BT.reset_index(drop=True, inplace=True)\n",
    "table_500BT.to_csv(os.path.join(os.path.dirname(os.getcwd()), '../Data/Intermediate_data/'+'TUBE_blind_ut_absorption_500us.csv'))"
   ]
  },
  {
   "cell_type": "code",
   "execution_count": 28,
   "metadata": {},
   "outputs": [
    {
     "name": "stdout",
     "output_type": "stream",
     "text": [
      "                       Absorption_avg_50  Absorption_std_50\n",
      "Sample                                                     \n",
      "As received                     0.002499           0.000645\n",
      "Ferritic                        0.001802           0.000786\n",
      "HAZ                             0.001627           0.000437\n",
      "HAZ + Tempered                  0.001935           0.000359\n",
      "Normalized                      0.002016           0.000674\n",
      "Normalized + Tempered           0.002380           0.000794\n",
      "Over-tempered                   0.001690           0.000702\n",
      "Tempered                        0.002338           0.000497\n"
     ]
    }
   ],
   "source": [
    "#PIPE absorp 50s\n",
    "tables[12].rename(columns = {'Value of internal friction Q-1':'Absorption_avg',\n",
    "                           'Unnamed: 0':'Absorption_std'}, inplace=True)\n",
    "pipe_ut_50 = clean_abs_col(tables[12], '_50')\n",
    "pipe_ut_50.to_csv(os.path.join(os.path.dirname(os.getcwd()), '../Data/Intermediate_data/'+'PIPE_ut_absorption_50us.csv'))"
   ]
  },
  {
   "cell_type": "code",
   "execution_count": 104,
   "metadata": {},
   "outputs": [],
   "source": [
    "#PIPE absorp 100s\n",
    "tables[13].rename(columns = {'Value of internal friction Q-1':'Absorption_avg',\n",
    "                           'Unnamed: 0':'Absorption_std'}, inplace=True)\n",
    "pipe_ut_100 = clean_abs_col(tables[13])\n",
    "pipe_ut_100.to_csv(os.path.join(os.path.dirname(os.getcwd()), '../Data/Intermediate_data/'+'PIPE_ut_absorption_100us.csv'))"
   ]
  },
  {
   "cell_type": "code",
   "execution_count": null,
   "metadata": {},
   "outputs": [],
   "source": []
  }
 ],
 "metadata": {
  "kernelspec": {
   "display_name": "ML",
   "language": "python",
   "name": "ml"
  },
  "language_info": {
   "codemirror_mode": {
    "name": "ipython",
    "version": 3
   },
   "file_extension": ".py",
   "mimetype": "text/x-python",
   "name": "python",
   "nbconvert_exporter": "python",
   "pygments_lexer": "ipython3",
   "version": "3.8.5"
  }
 },
 "nbformat": 4,
 "nbformat_minor": 4
}
