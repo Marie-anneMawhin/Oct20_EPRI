{
 "cells": [
  {
   "cell_type": "code",
   "execution_count": 1,
   "metadata": {},
   "outputs": [],
   "source": [
    "import pandas as pd\n",
    "import numpy as np\n",
    "import matplotlib.pyplot as plt\n",
    "import seaborn as sns\n",
    "import os\n",
    "import tabula"
   ]
  },
  {
   "cell_type": "code",
   "execution_count": 7,
   "metadata": {},
   "outputs": [],
   "source": [
    "def create_median_df(table_list, col_names):\n",
    "    '''extract the median of each sample to a new column\n",
    "    Args:\n",
    "    - table_list: seq. of panda df\n",
    "    - col_names: seq of str names\n",
    "    \n",
    "    return dataframe with median\n",
    "    '''\n",
    "    \n",
    "    df = pd.DataFrame()\n",
    "    for table, col in zip(table_list, col_names):\n",
    "        df['median_'+ col] = table.median(1)\n",
    "    return df"
   ]
  },
  {
   "cell_type": "code",
   "execution_count": 8,
   "metadata": {},
   "outputs": [],
   "source": [
    "def plot_corr(data):\n",
    "    '''\n",
    "    Plot correlation \n",
    "    \n",
    "    Args:\n",
    "    - data: pd dataframe\n",
    "    \n",
    "    '''\n",
    "    corr = data.corr()\n",
    "    sns.set(font_scale=1.2)\n",
    "\n",
    "    with sns.axes_style(\"white\"):\n",
    "        f, ax = plt.subplots(figsize=(5, 5))\n",
    "        ax = sns.heatmap(corr, square=True, cmap='RdBu_r', center=0)\n"
   ]
  },
  {
   "cell_type": "code",
   "execution_count": 91,
   "metadata": {},
   "outputs": [],
   "source": [
    "UT_pdf = os.path.join(os.path.dirname(os.getcwd()), '../Data/Raw_data/UT Measurements_Report.pdf')"
   ]
  },
  {
   "cell_type": "code",
   "execution_count": 336,
   "metadata": {},
   "outputs": [],
   "source": [
    "tables = tabula.read_pdf(UT_pdf, pages=[8, 29,34, 54, 55, 60], lattice=True)\n",
    "del(tables[6:8])"
   ]
  },
  {
   "cell_type": "code",
   "execution_count": 295,
   "metadata": {},
   "outputs": [],
   "source": [
    "#TO DO p7_table by hand"
   ]
  },
  {
   "cell_type": "code",
   "execution_count": 377,
   "metadata": {},
   "outputs": [],
   "source": [
    "table_0 = tables[0].T.reset_index(drop=True).T \n",
    "table_0.rename(columns = {0:'Sample',\n",
    "                          1:'backscatter_rms'}, inplace=True)\n",
    "table_0.to_csv(os.path.join(os.path.dirname(os.getcwd()), '../Data/Intermediate_data/'+'PIPE_ut_backscatter.csv'))"
   ]
  },
  {
   "cell_type": "code",
   "execution_count": 242,
   "metadata": {},
   "outputs": [],
   "source": [
    "tables[1].rename(columns = {'Unnamed: 0':'Sample'}, inplace=True)\n",
    "tables[1].to_csv(os.path.join(os.path.dirname(os.getcwd()), '../Data/Intermediate_data/'+'TUBE_ut_attenuation.csv'))"
   ]
  },
  {
   "cell_type": "code",
   "execution_count": 251,
   "metadata": {},
   "outputs": [],
   "source": [
    "tables[2].rename(columns = {'Unnamed: 0':'Sample'}, inplace=True)\n",
    "tables[2].to_csv(os.path.join(os.path.dirname(os.getcwd()), '../Data/Intermediate_data/'+'PIPE_ut_attenuation.csv'))"
   ]
  },
  {
   "cell_type": "code",
   "execution_count": 337,
   "metadata": {},
   "outputs": [],
   "source": [
    "tables[3].rename(columns = {'Value of internal friction Q-1':'Absorption_avg',\n",
    "                           'Unnamed: 0':'Absorption_std'}, inplace=True)\n",
    "tables[3].drop(0, inplace=True)\n",
    "tables[3][['Absorption_avg', 'Absorption_std']] = tables[3][['Absorption_avg', 'Absorption_std']].astype('float')\n",
    "tables[3]['Absorption_avg'] = tables[3]['Absorption_avg']/1000\n",
    "tables[3]['Absorption_std'] = tables[3]['Absorption_std']/10000\n",
    "tables[3].to_csv(os.path.join(os.path.dirname(os.getcwd()), '../Data/Intermediate_data/'+'TUBE_ut_absorption.csv'))"
   ]
  },
  {
   "cell_type": "code",
   "execution_count": 346,
   "metadata": {},
   "outputs": [],
   "source": [
    "table_4 = pd.concat([tables[4], tables[5].T.reset_index(drop=False).T ])\n",
    "table_4.rename(columns = {0:'Sample',\n",
    "                          1:'Absorption_avg',\n",
    "                           2:'Absorption_std'}, inplace=True)\n",
    "table_4 = table_4.iloc[:, 0:3]\n",
    "table_4.drop(0, inplace=True)\n",
    "table_4.reset_index(drop=True, inplace=True)\n",
    "table_4[['Absorption_avg', 'Absorption_std']] = table_4[['Absorption_avg', 'Absorption_std']].astype('float')\n",
    "table_4['Absorption_avg'] = table_4['Absorption_avg']/1000\n",
    "table_4['Absorption_std'] = table_4['Absorption_std']/10000\n",
    "table_4.to_csv(os.path.join(os.path.dirname(os.getcwd()), '../Data/Intermediate_data/'+'TUBE_blind_ut_absorption.csv'))"
   ]
  },
  {
   "cell_type": "code",
   "execution_count": 371,
   "metadata": {},
   "outputs": [],
   "source": [
    "tables[6].rename(columns = {'Value of internal friction Q-1':'Absorption_avg',\n",
    "                           'Unnamed: 0':'Absorption_std'}, inplace=True)\n",
    "tables[6].drop(0, inplace=True)\n",
    "tables[6][['Absorption_avg', 'Absorption_std']] = tables[6][['Absorption_avg', 'Absorption_std']].astype('float')\n",
    "tables[6]['Absorption_avg'] = tables[6]['Absorption_avg']/1000\n",
    "tables[6]['Absorption_std'] = tables[6]['Absorption_std']/10000\n",
    "tables[6].to_csv(os.path.join(os.path.dirname(os.getcwd()), '../Data/Intermediate_data/'+'PIPE_ut_absorption.csv'))"
   ]
  }
 ],
 "metadata": {
  "kernelspec": {
   "display_name": "ML",
   "language": "python",
   "name": "ml"
  },
  "language_info": {
   "codemirror_mode": {
    "name": "ipython",
    "version": 3
   },
   "file_extension": ".py",
   "mimetype": "text/x-python",
   "name": "python",
   "nbconvert_exporter": "python",
   "pygments_lexer": "ipython3",
   "version": "3.8.5"
  }
 },
 "nbformat": 4,
 "nbformat_minor": 4
}
