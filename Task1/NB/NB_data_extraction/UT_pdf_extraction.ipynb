{
 "cells": [
  {
   "cell_type": "code",
   "execution_count": 1,
   "metadata": {},
   "outputs": [],
   "source": [
    "import pandas as pd\n",
    "import numpy as np\n",
    "import matplotlib.pyplot as plt\n",
    "import seaborn as sns\n",
    "import os\n",
    "import tabula"
   ]
  },
  {
   "cell_type": "code",
   "execution_count": 3,
   "metadata": {},
   "outputs": [],
   "source": [
    "UT_pdf = os.path.join(os.path.dirname(os.getcwd()), '../Data/Raw_data/UT Measurements_Report.pdf')"
   ]
  },
  {
   "cell_type": "code",
   "execution_count": 295,
   "metadata": {},
   "outputs": [],
   "source": [
    "#TO DO p7_table by hand"
   ]
  },
  {
   "cell_type": "code",
   "execution_count": 5,
   "metadata": {},
   "outputs": [],
   "source": [
    "tables_scatter_atten = tabula.read_pdf(UT_pdf, pages=[8, 29,34], lattice=True)"
   ]
  },
  {
   "cell_type": "code",
   "execution_count": 8,
   "metadata": {},
   "outputs": [],
   "source": [
    "#PIPE backscatter\n",
    "table_0 = tables_scatter_atten[0].T.reset_index(drop=True).T \n",
    "table_0.rename(columns = {0:'Sample',\n",
    "                          1:'backscatter_rms'}, inplace=True)\n",
    "table_0.to_csv(os.path.join(os.path.dirname(os.getcwd()), '../Data/Intermediate_data/'+'PIPE_ut_backscatter.csv'))"
   ]
  },
  {
   "cell_type": "code",
   "execution_count": 242,
   "metadata": {},
   "outputs": [],
   "source": [
    "#TUBE attenuation\n",
    "tables_scatter_atten[1].rename(columns = {'Unnamed: 0':'Sample'}, inplace=True)\n",
    "tables_scatter_atten[1].to_csv(os.path.join(os.path.dirname(os.getcwd()), '../Data/Intermediate_data/'+'TUBE_ut_attenuation.csv'))"
   ]
  },
  {
   "cell_type": "code",
   "execution_count": 251,
   "metadata": {},
   "outputs": [],
   "source": [
    "#PIPE attenuation\n",
    "tables_scatter_atten[2].rename(columns = {'Unnamed: 0':'Sample'}, inplace=True)\n",
    "tables_scatter_atten[2].to_csv(os.path.join(os.path.dirname(os.getcwd()), '../Data/Intermediate_data/'+'PIPE_ut_attenuation.csv'))"
   ]
  },
  {
   "cell_type": "code",
   "execution_count": 105,
   "metadata": {},
   "outputs": [],
   "source": [
    "def clean_abs_col(df, avg_pow_10=1000, std_pow_10=10000):\n",
    "    '''\n",
    "    remove useless row and calculate the final data\n",
    "    Args:\n",
    "     - df: data extracted from tabula\n",
    "     - avg_pow_10 : int to divide average value\n",
    "     - std_pow_10 : int to divide SD value\n",
    "    return df\n",
    "    '''\n",
    "    df.drop(0, inplace=True)\n",
    "    df[['Absorption_avg', 'Absorption_std']] = df[['Absorption_avg', 'Absorption_std']].astype('float')\n",
    "    df['Absorption_avg'] = df['Absorption_avg']/avg_pow_10\n",
    "    df['Absorption_std'] = df['Absorption_std']/std_pow_10 \n",
    "    return df"
   ]
  },
  {
   "cell_type": "code",
   "execution_count": 106,
   "metadata": {},
   "outputs": [],
   "source": [
    "tables = tabula.read_pdf(UT_pdf, pages=[54, 55, 56, 57, 58, 60, 61], lattice=True)"
   ]
  },
  {
   "cell_type": "code",
   "execution_count": 20,
   "metadata": {},
   "outputs": [],
   "source": [
    "#TUBE absorp 50s\n",
    "tables[0].rename(columns = {'Value of internal friction Q-1':'Absorption_avg',\n",
    "                           'Unnamed: 0':'Absorption_std'}, inplace=True)\n",
    "tube_ut_50 = clean_abs_col(tables[0])\n",
    "tube_ut_50.to_csv(os.path.join(os.path.dirname(os.getcwd()), '../Data/Intermediate_data/'+'TUBE_ut_absorption_50us.csv'))"
   ]
  },
  {
   "cell_type": "code",
   "execution_count": 41,
   "metadata": {},
   "outputs": [],
   "source": [
    "#TUBE_blind absorp 50s\n",
    "table_50BT = pd.concat([tables[1], tables[2].T.reset_index(drop=False).T ])\n",
    "table_50BT.rename(columns = {0:'Sample',\n",
    "                          1:'Absorption_avg',\n",
    "                           2:'Absorption_std'}, inplace=True)\n",
    "table_50BT = table_50BT.iloc[:, 0:3]\n",
    "table_50BT = clean_abs_col(table_50BT)\n",
    "table_50BT.reset_index(drop=True, inplace=True)\n",
    "table_50BT.to_csv(os.path.join(os.path.dirname(os.getcwd()), '../Data/Intermediate_data/'+'TUBE_blind_ut_absorption_50us.csv'))"
   ]
  },
  {
   "cell_type": "code",
   "execution_count": 107,
   "metadata": {},
   "outputs": [],
   "source": [
    "#TUBE absorp 100s\n",
    "tables[3].rename(columns = {'Value of internal friction Q-1':'Absorption_avg',\n",
    "                           'Unnamed: 0':'Absorption_std'}, inplace=True)\n",
    "tube_ut_100 = clean_abs_col(tables[3], 10000, 10000)\n",
    "tube_ut_100.to_csv(os.path.join(os.path.dirname(os.getcwd()), '../Data/Intermediate_data/'+'TUBE_ut_absorption_100us.csv'))"
   ]
  },
  {
   "cell_type": "code",
   "execution_count": 108,
   "metadata": {},
   "outputs": [],
   "source": [
    "#TUBE absorp 200s\n",
    "tables[5].rename(columns = {'Value of internal friction Q-1':'Absorption_avg',\n",
    "                           'Unnamed: 0':'Absorption_std'}, inplace=True)\n",
    "tube_ut_200 = clean_abs_col(tables[5], 10000, 100000)\n",
    "tube_ut_200.to_csv(os.path.join(os.path.dirname(os.getcwd()), '../Data/Intermediate_data/'+'TUBE_ut_absorption_200us.csv'))"
   ]
  },
  {
   "cell_type": "code",
   "execution_count": 109,
   "metadata": {},
   "outputs": [],
   "source": [
    "#TUBE_blind absorp 200s\n",
    "table_200BT = pd.concat([tables[6].T.reset_index(drop=False).T, tables[7].T.reset_index(drop=False).T ])\n",
    "table_200BT.rename(columns = {0:'Sample',\n",
    "                          1:'Absorption_avg',\n",
    "                           2:'Absorption_std'}, inplace=True)\n",
    "table_200BT = table_200BT.iloc[1:]\n",
    "table_200BT = clean_abs_col(table_200BT, 10000, 100000)\n",
    "table_200BT.reset_index(drop=True, inplace=True)\n",
    "table_200BT.to_csv(os.path.join(os.path.dirname(os.getcwd()), '../Data/Intermediate_data/'+'TUBE_blind_ut_absorption_200us.csv'))"
   ]
  },
  {
   "cell_type": "code",
   "execution_count": 110,
   "metadata": {},
   "outputs": [],
   "source": [
    "#TUBE absorp 500s\n",
    "tables[8].rename(columns = {'Value of internal friction Q-1':'Absorption_avg',\n",
    "                           'Unnamed: 0':'Absorption_std'}, inplace=True)\n",
    "tube_ut_500 = clean_abs_col(tables[8], 10000, 100000)\n",
    "tube_ut_500.to_csv(os.path.join(os.path.dirname(os.getcwd()), '../Data/Intermediate_data/'+'TUBE_ut_absorption_500us.csv'))"
   ]
  },
  {
   "cell_type": "code",
   "execution_count": 111,
   "metadata": {},
   "outputs": [],
   "source": [
    "#TUBE_blind absorp 500s\n",
    "table_500BT = pd.concat([tables[9].T.reset_index(drop=False).T, tables[10].T.reset_index(drop=False).T ])\n",
    "table_500BT.rename(columns = {0:'Sample',\n",
    "                          1:'Absorption_avg',\n",
    "                           2:'Absorption_std'}, inplace=True)\n",
    "table_500BT = table_500BT.iloc[1:]\n",
    "table_500BT = clean_abs_col(table_500BT, 10000, 100000)\n",
    "table_500BT.reset_index(drop=True, inplace=True)\n",
    "table_500BT.to_csv(os.path.join(os.path.dirname(os.getcwd()), '../Data/Intermediate_data/'+'TUBE_blind_ut_absorption_500us.csv'))"
   ]
  },
  {
   "cell_type": "code",
   "execution_count": 102,
   "metadata": {},
   "outputs": [],
   "source": [
    "#PIPE absorp 50s\n",
    "tables[12].rename(columns = {'Value of internal friction Q-1':'Absorption_avg',\n",
    "                           'Unnamed: 0':'Absorption_std'}, inplace=True)\n",
    "pipe_ut_50 = clean_abs_col(tables[12])\n",
    "pipe_ut_50.to_csv(os.path.join(os.path.dirname(os.getcwd()), '../Data/Intermediate_data/'+'PIPE_ut_absorption_50us.csv'))"
   ]
  },
  {
   "cell_type": "code",
   "execution_count": 104,
   "metadata": {},
   "outputs": [],
   "source": [
    "#PIPE absorp 100s\n",
    "tables[13].rename(columns = {'Value of internal friction Q-1':'Absorption_avg',\n",
    "                           'Unnamed: 0':'Absorption_std'}, inplace=True)\n",
    "pipe_ut_100 = clean_abs_col(tables[13])\n",
    "pipe_ut_100.to_csv(os.path.join(os.path.dirname(os.getcwd()), '../Data/Intermediate_data/'+'PIPE_ut_absorption_100us.csv'))"
   ]
  },
  {
   "cell_type": "code",
   "execution_count": null,
   "metadata": {},
   "outputs": [],
   "source": []
  }
 ],
 "metadata": {
  "kernelspec": {
   "display_name": "ML",
   "language": "python",
   "name": "ml"
  },
  "language_info": {
   "codemirror_mode": {
    "name": "ipython",
    "version": 3
   },
   "file_extension": ".py",
   "mimetype": "text/x-python",
   "name": "python",
   "nbconvert_exporter": "python",
   "pygments_lexer": "ipython3",
   "version": "3.8.5"
  }
 },
 "nbformat": 4,
 "nbformat_minor": 4
}
