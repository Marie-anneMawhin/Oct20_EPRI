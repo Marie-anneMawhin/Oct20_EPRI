{
 "cells": [
  {
   "cell_type": "markdown",
   "metadata": {},
   "source": [
    "This notebook is for the extraction of tables for UT pdf"
   ]
  },
  {
   "cell_type": "code",
   "execution_count": 1,
   "metadata": {},
   "outputs": [],
   "source": [
    "import pandas as pd\n",
    "import numpy as np\n",
    "import matplotlib.pyplot as plt\n",
    "import seaborn as sns\n",
    "import os\n",
    "import tabula"
   ]
  },
  {
   "cell_type": "code",
   "execution_count": 2,
   "metadata": {},
   "outputs": [],
   "source": [
    "UT_pdf = os.path.join(os.path.dirname(os.getcwd()), '../Data/Raw_data/UT Measurements_Report.pdf')"
   ]
  },
  {
   "cell_type": "code",
   "execution_count": 3,
   "metadata": {},
   "outputs": [],
   "source": [
    "#TO DO p7_table by hand"
   ]
  },
  {
   "cell_type": "code",
   "execution_count": 4,
   "metadata": {},
   "outputs": [],
   "source": [
    "tables_scatter_atten = tabula.read_pdf(UT_pdf, pages=[8, 29,34], lattice=True)"
   ]
  },
  {
   "cell_type": "code",
   "execution_count": 5,
   "metadata": {},
   "outputs": [],
   "source": [
    "#PIPE backscatter\n",
    "table_0 = tables_scatter_atten[0].T.reset_index(drop=True).T \n",
    "table_0.rename(columns = {0:'Sample',\n",
    "                          1:'backscatter_avg'}, inplace=True)\n",
    "table_0.to_csv(os.path.join(os.path.dirname(os.getcwd()), '../Data/Intermediate_data/'+'PIPE_ut_backscatter.csv'))"
   ]
  },
  {
   "cell_type": "code",
   "execution_count": 6,
   "metadata": {},
   "outputs": [],
   "source": [
    "#TUBE attenuation\n",
    "tables_scatter_atten[1].rename(columns = {'Unnamed: 0':'Sample'}, inplace=True)\n",
    "tables_scatter_atten[1].to_csv(os.path.join(os.path.dirname(os.getcwd()), '../Data/Intermediate_data/'+'TUBE_ut_attenuation.csv'))"
   ]
  },
  {
   "cell_type": "code",
   "execution_count": 7,
   "metadata": {},
   "outputs": [],
   "source": [
    "#PIPE attenuation\n",
    "tables_scatter_atten[2].rename(columns = {'Unnamed: 0':'Sample'}, inplace=True)\n",
    "tables_scatter_atten[2].to_csv(os.path.join(os.path.dirname(os.getcwd()), '../Data/Intermediate_data/'+'PIPE_ut_attenuation.csv'))"
   ]
  },
  {
   "cell_type": "code",
   "execution_count": 8,
   "metadata": {},
   "outputs": [],
   "source": [
    "def clean_abs_col(df, suffix='', avg_pow_10=1000, std_pow_10=10000):\n",
    "    '''\n",
    "    remove useless row and calculate the final data\n",
    "    Args:\n",
    "     - df: data extracted from tabula\n",
    "     - suffix: time window ('str')\n",
    "     - avg_pow_10 : int to divide average value\n",
    "     - std_pow_10 : int to divide SD value\n",
    "    return df\n",
    "    '''\n",
    "    df.rename(columns = {'Value of internal friction Q-1':'Absorption_avg',\n",
    "                           'Unnamed: 0':'Absorption_std'}, inplace=True)\n",
    "    df.drop(0, inplace=True)\n",
    "    df[['Absorption_avg', 'Absorption_std']] = df[['Absorption_avg', 'Absorption_std']].astype('float')\n",
    "    df['Absorption_avg'] = df['Absorption_avg']/avg_pow_10\n",
    "    df['Absorption_std'] = df['Absorption_std']/std_pow_10 \n",
    "    df.set_index('Sample', inplace=True)\n",
    "    df = df.add_suffix(suffix)\n",
    "    return df"
   ]
  },
  {
   "cell_type": "code",
   "execution_count": 9,
   "metadata": {},
   "outputs": [],
   "source": [
    "def merge_abs(df1, df2, suffix='', avg_pow_10=1000, std_pow_10=10000):\n",
    "    df = pd.concat([df1.T.reset_index(drop=False).T, df2.T.reset_index(drop=False).T])\n",
    "    df.rename(columns = {0:'Sample',\n",
    "                              1:'Absorption_avg',\n",
    "                               2:'Absorption_std'}, inplace=True)\n",
    "    df = df.iloc[1:]\n",
    "    df.reset_index(inplace=True, drop=True)\n",
    "    df = clean_abs_col(df, suffix, avg_pow_10, std_pow_10)\n",
    "    return df"
   ]
  },
  {
   "cell_type": "code",
   "execution_count": 10,
   "metadata": {},
   "outputs": [],
   "source": [
    "tables = tabula.read_pdf(UT_pdf, pages=[54, 55, 56, 57, 58, 60, 61], lattice=True)"
   ]
  },
  {
   "cell_type": "code",
   "execution_count": 11,
   "metadata": {
    "collapsed": true,
    "jupyter": {
     "outputs_hidden": true
    }
   },
   "outputs": [
    {
     "data": {
      "text/html": [
       "<div>\n",
       "<style scoped>\n",
       "    .dataframe tbody tr th:only-of-type {\n",
       "        vertical-align: middle;\n",
       "    }\n",
       "\n",
       "    .dataframe tbody tr th {\n",
       "        vertical-align: top;\n",
       "    }\n",
       "\n",
       "    .dataframe thead th {\n",
       "        text-align: right;\n",
       "    }\n",
       "</style>\n",
       "<table border=\"1\" class=\"dataframe\">\n",
       "  <thead>\n",
       "    <tr style=\"text-align: right;\">\n",
       "      <th></th>\n",
       "      <th>Sample</th>\n",
       "      <th>Absorption_avg_50</th>\n",
       "      <th>Absorption_std_50</th>\n",
       "    </tr>\n",
       "  </thead>\n",
       "  <tbody>\n",
       "    <tr>\n",
       "      <th>0</th>\n",
       "      <td>B1</td>\n",
       "      <td>0.001264</td>\n",
       "      <td>0.000519</td>\n",
       "    </tr>\n",
       "    <tr>\n",
       "      <th>1</th>\n",
       "      <td>B2</td>\n",
       "      <td>0.002486</td>\n",
       "      <td>0.000816</td>\n",
       "    </tr>\n",
       "    <tr>\n",
       "      <th>2</th>\n",
       "      <td>B3</td>\n",
       "      <td>0.001168</td>\n",
       "      <td>0.000555</td>\n",
       "    </tr>\n",
       "    <tr>\n",
       "      <th>3</th>\n",
       "      <td>B4</td>\n",
       "      <td>0.002084</td>\n",
       "      <td>0.000648</td>\n",
       "    </tr>\n",
       "    <tr>\n",
       "      <th>4</th>\n",
       "      <td>B5</td>\n",
       "      <td>0.001141</td>\n",
       "      <td>0.000447</td>\n",
       "    </tr>\n",
       "    <tr>\n",
       "      <th>5</th>\n",
       "      <td>B6</td>\n",
       "      <td>0.001323</td>\n",
       "      <td>0.000574</td>\n",
       "    </tr>\n",
       "    <tr>\n",
       "      <th>6</th>\n",
       "      <td>B7</td>\n",
       "      <td>0.001908</td>\n",
       "      <td>0.000926</td>\n",
       "    </tr>\n",
       "    <tr>\n",
       "      <th>7</th>\n",
       "      <td>B8</td>\n",
       "      <td>0.000933</td>\n",
       "      <td>0.000304</td>\n",
       "    </tr>\n",
       "    <tr>\n",
       "      <th>8</th>\n",
       "      <td>As received</td>\n",
       "      <td>0.001257</td>\n",
       "      <td>0.000210</td>\n",
       "    </tr>\n",
       "    <tr>\n",
       "      <th>9</th>\n",
       "      <td>Fully ferritic</td>\n",
       "      <td>0.003377</td>\n",
       "      <td>0.000817</td>\n",
       "    </tr>\n",
       "    <tr>\n",
       "      <th>10</th>\n",
       "      <td>HAZ</td>\n",
       "      <td>0.001693</td>\n",
       "      <td>0.000460</td>\n",
       "    </tr>\n",
       "    <tr>\n",
       "      <th>11</th>\n",
       "      <td>HAZ + Tempered</td>\n",
       "      <td>0.001390</td>\n",
       "      <td>0.000418</td>\n",
       "    </tr>\n",
       "    <tr>\n",
       "      <th>12</th>\n",
       "      <td>Normalized</td>\n",
       "      <td>0.003128</td>\n",
       "      <td>0.001147</td>\n",
       "    </tr>\n",
       "    <tr>\n",
       "      <th>13</th>\n",
       "      <td>Normalized + Tempered</td>\n",
       "      <td>0.001838</td>\n",
       "      <td>0.000622</td>\n",
       "    </tr>\n",
       "    <tr>\n",
       "      <th>14</th>\n",
       "      <td>Over-tempered</td>\n",
       "      <td>0.001526</td>\n",
       "      <td>0.000433</td>\n",
       "    </tr>\n",
       "    <tr>\n",
       "      <th>15</th>\n",
       "      <td>Tempered</td>\n",
       "      <td>0.001611</td>\n",
       "      <td>0.000873</td>\n",
       "    </tr>\n",
       "  </tbody>\n",
       "</table>\n",
       "</div>"
      ],
      "text/plain": [
       "                   Sample  Absorption_avg_50  Absorption_std_50\n",
       "0                      B1           0.001264           0.000519\n",
       "1                      B2           0.002486           0.000816\n",
       "2                      B3           0.001168           0.000555\n",
       "3                      B4           0.002084           0.000648\n",
       "4                      B5           0.001141           0.000447\n",
       "5                      B6           0.001323           0.000574\n",
       "6                      B7           0.001908           0.000926\n",
       "7                      B8           0.000933           0.000304\n",
       "8             As received           0.001257           0.000210\n",
       "9          Fully ferritic           0.003377           0.000817\n",
       "10                    HAZ           0.001693           0.000460\n",
       "11         HAZ + Tempered           0.001390           0.000418\n",
       "12             Normalized           0.003128           0.001147\n",
       "13  Normalized + Tempered           0.001838           0.000622\n",
       "14          Over-tempered           0.001526           0.000433\n",
       "15               Tempered           0.001611           0.000873"
      ]
     },
     "execution_count": 11,
     "metadata": {},
     "output_type": "execute_result"
    }
   ],
   "source": [
    "#TUBE absorp 50s\n",
    "table_ut_50 = clean_abs_col(tables[0], '_50')\n",
    "table_50BT = merge_abs(tables[1], tables[2], '_50')\n",
    "tube_50 = pd.concat([table_50BT, table_ut_50])\n",
    "tube_50.reset_index(inplace=True)\n",
    "tube_50.to_csv(os.path.join(os.path.dirname(os.getcwd()), '../Data/Intermediate_data/'+'TUBE_ut_absorption_50us.csv'))\n",
    "tube_50"
   ]
  },
  {
   "cell_type": "code",
   "execution_count": 12,
   "metadata": {},
   "outputs": [],
   "source": [
    "#TUBE absorp 100s\n",
    "table_100BT = pd.read_csv(os.path.join(os.path.dirname(os.getcwd()), '../Data/Raw_data/UT_missing_100us_Blind tubes.csv'), header=None)\n",
    "table_100BT.rename(columns = {0:'Sample',\n",
    "                              1:'Absorption_avg',\n",
    "                               2:'Absorption_std'}, inplace=True)\n",
    "table_100BT = clean_abs_col(table_100BT, '_100', 10000, 10000)\n",
    "table_ut_100 = clean_abs_col(tables[3], '_100', 10000, 10000)\n",
    "\n",
    "#Save tube 100s\n",
    "tube_100 = pd.concat([table_100BT, table_ut_100])\n",
    "tube_100.reset_index(inplace=True)\n",
    "tube_100.to_csv(os.path.join(os.path.dirname(os.getcwd()), '../Data/Intermediate_data/'+'TUBE_ut_absorption_100us.csv'))\n"
   ]
  },
  {
   "cell_type": "code",
   "execution_count": 13,
   "metadata": {},
   "outputs": [],
   "source": [
    "#TUBE absorp 200s\n",
    "table_ut_200 = clean_abs_col(tables[5], '_200', 10000, 100000)\n",
    "table_200BT = merge_abs(tables[6], tables[7], '_200', 10000, 100000)\n",
    "\n",
    "#Save tube 200s\n",
    "tube_200 = pd.concat([table_200BT, table_ut_200])\n",
    "tube_200.reset_index(inplace=True)\n",
    "tube_200.to_csv(os.path.join(os.path.dirname(os.getcwd()), '../Data/Intermediate_data/'+'TUBE_ut_absorption_200us.csv'))\n"
   ]
  },
  {
   "cell_type": "code",
   "execution_count": 14,
   "metadata": {},
   "outputs": [],
   "source": [
    "#TUBE absorp 500s\n",
    "table_ut_500 = clean_abs_col(tables[8],  '_500', 10000, 100000)\n",
    "table_500BT = merge_abs(tables[9], tables[10], '_500', 10000, 100000)\n",
    "#Save tube 500s\n",
    "tube_500 = pd.concat([table_500BT, table_ut_500])\n",
    "tube_500.reset_index(inplace=True)\n",
    "tube_500.to_csv(os.path.join(os.path.dirname(os.getcwd()), '../Data/Intermediate_data/'+'TUBE_ut_absorption_500us.csv'))\n"
   ]
  },
  {
   "cell_type": "code",
   "execution_count": 15,
   "metadata": {},
   "outputs": [],
   "source": [
    "#PIPE absorp 50s\n",
    "pipe_ut_50 = clean_abs_col(tables[12], '_50')\n",
    "pipe_ut_50.to_csv(os.path.join(os.path.dirname(os.getcwd()), '../Data/Intermediate_data/'+'PIPE_ut_absorption_50us.csv'))"
   ]
  },
  {
   "cell_type": "code",
   "execution_count": 16,
   "metadata": {},
   "outputs": [],
   "source": [
    "#PIPE absorp 100s\n",
    "pipe_ut_100 = clean_abs_col(tables[13])\n",
    "pipe_ut_100.to_csv(os.path.join(os.path.dirname(os.getcwd()), '../Data/Intermediate_data/'+'PIPE_ut_absorption_100us.csv'))"
   ]
  },
  {
   "cell_type": "code",
   "execution_count": null,
   "metadata": {},
   "outputs": [],
   "source": []
  }
 ],
 "metadata": {
  "kernelspec": {
   "display_name": "Python 3",
   "language": "python",
   "name": "python3"
  },
  "language_info": {
   "codemirror_mode": {
    "name": "ipython",
    "version": 3
   },
   "file_extension": ".py",
   "mimetype": "text/x-python",
   "name": "python",
   "nbconvert_exporter": "python",
   "pygments_lexer": "ipython3",
   "version": "3.8.5"
  }
 },
 "nbformat": 4,
 "nbformat_minor": 4
}
