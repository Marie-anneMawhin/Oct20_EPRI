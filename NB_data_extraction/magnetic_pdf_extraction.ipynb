{
 "cells": [
  {
   "cell_type": "code",
   "execution_count": 1,
   "metadata": {},
   "outputs": [],
   "source": [
    "import pandas as pd\n",
    "import numpy as np\n",
    "import matplotlib.pyplot as plt\n",
    "import seaborn as sns\n",
    "import os"
   ]
  },
  {
   "cell_type": "code",
   "execution_count": 2,
   "metadata": {},
   "outputs": [
    {
     "name": "stdout",
     "output_type": "stream",
     "text": [
      "Requirement already satisfied: tabula-py in /home/marie-anne/anaconda3/envs/ML/lib/python3.8/site-packages (2.2.0)\n",
      "Requirement already satisfied: pandas>=0.25.3 in /home/marie-anne/anaconda3/envs/ML/lib/python3.8/site-packages (from tabula-py) (1.1.1)\n",
      "Requirement already satisfied: numpy in /home/marie-anne/anaconda3/envs/ML/lib/python3.8/site-packages (from tabula-py) (1.19.1)\n",
      "Requirement already satisfied: distro in /home/marie-anne/anaconda3/envs/ML/lib/python3.8/site-packages (from tabula-py) (1.5.0)\n",
      "Requirement already satisfied: pytz>=2017.2 in /home/marie-anne/anaconda3/envs/ML/lib/python3.8/site-packages (from pandas>=0.25.3->tabula-py) (2020.1)\n",
      "Requirement already satisfied: python-dateutil>=2.7.3 in /home/marie-anne/anaconda3/envs/ML/lib/python3.8/site-packages (from pandas>=0.25.3->tabula-py) (2.8.1)\n",
      "Requirement already satisfied: six>=1.5 in /home/marie-anne/anaconda3/envs/ML/lib/python3.8/site-packages (from python-dateutil>=2.7.3->pandas>=0.25.3->tabula-py) (1.15.0)\n",
      "Note: you may need to restart the kernel to use updated packages.\n"
     ]
    }
   ],
   "source": [
    " pip install tabula-py"
   ]
  },
  {
   "cell_type": "code",
   "execution_count": 3,
   "metadata": {},
   "outputs": [],
   "source": [
    "import tabula"
   ]
  },
  {
   "cell_type": "code",
   "execution_count": 16,
   "metadata": {},
   "outputs": [],
   "source": [
    "magnetic_pdf = os.path.join(os.path.dirname(os.getcwd()), 'Raw_data/MagneticMethods_Report.pdf')"
   ]
  },
  {
   "cell_type": "code",
   "execution_count": 17,
   "metadata": {},
   "outputs": [],
   "source": [
    "tables = tabula.read_pdf(magnetic_pdf, pages=[10,11,12,13], lattice=True, pandas_options={'header':1})"
   ]
  },
  {
   "cell_type": "code",
   "execution_count": 18,
   "metadata": {},
   "outputs": [],
   "source": [
    "for df in tables:\n",
    "    df.drop(0, inplace=True)\n",
    "    df.set_index(df.iloc[:,0], inplace=True, drop=True)"
   ]
  },
  {
   "cell_type": "code",
   "execution_count": 19,
   "metadata": {},
   "outputs": [],
   "source": [
    "hard_ref = tabula.read_pdf(magnetic_pdf, pages=[5], lattice=True)\n",
    "pipes = tables[0:6]\n",
    "tubes = tables[6:9]\n",
    "B_tubes = tables[9:]"
   ]
  },
  {
   "cell_type": "code",
   "execution_count": 20,
   "metadata": {},
   "outputs": [],
   "source": [
    "tubes_mean = pd.DataFrame()\n",
    "for i in range(len(tubes)):\n",
    "    tubes_mean['mean_'+ str(i)] = tubes[i].mean(1)  \n",
    "tubes_mean "
   ]
  },
  {
   "cell_type": "code",
   "execution_count": null,
   "metadata": {},
   "outputs": [],
   "source": []
  }
 ],
 "metadata": {
  "kernelspec": {
   "display_name": "ML",
   "language": "python",
   "name": "ml"
  },
  "language_info": {
   "codemirror_mode": {
    "name": "ipython",
    "version": 3
   },
   "file_extension": ".py",
   "mimetype": "text/x-python",
   "name": "python",
   "nbconvert_exporter": "python",
   "pygments_lexer": "ipython3",
   "version": "3.8.5"
  }
 },
 "nbformat": 4,
 "nbformat_minor": 4
}
