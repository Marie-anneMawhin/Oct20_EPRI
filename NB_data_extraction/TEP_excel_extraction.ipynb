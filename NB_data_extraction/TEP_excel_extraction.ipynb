{
 "cells": [
  {
   "cell_type": "code",
   "execution_count": 1,
   "metadata": {},
   "outputs": [],
   "source": [
    "import pandas as pd\n",
    "import os"
   ]
  },
  {
   "cell_type": "code",
   "execution_count": 2,
   "metadata": {},
   "outputs": [],
   "source": [
    "excel_pipe = os.path.join(os.path.dirname(os.getcwd()),'Raw_data/TEP_Data_PipeSections.xlsx')\n",
    "excel_tube = os.path.join(os.path.dirname(os.getcwd()),'Raw_data/TEP_Data_Tubes.xlsx')\n",
    "\n",
    "tep_pipe = pd.read_excel(excel_pipe, sheet_name = None)\n",
    "tep_tube = pd.read_excel(excel_tube, sheet_name = None)\n",
    "\n",
    "output_pipe = os.path.join(os.path.dirname(os.getcwd()),'Intermediate_data/PIPE_tep.csv')\n",
    "output_tube = os.path.join(os.path.dirname(os.getcwd()),'Intermediate_data/TUBE_tep.csv')"
   ]
  },
  {
   "cell_type": "code",
   "execution_count": 3,
   "metadata": {},
   "outputs": [
    {
     "data": {
      "text/plain": [
       "dict_keys(['specimens & settings', 'summary', 'P1a', 'P1b', 'P2a', 'P2b', 'P3a', 'P3b', 'P4a', 'P4b', 'P5a', 'P5b', 'P6a', 'P6b', 'P7a', 'P7b', 'P8a', 'P8b'])"
      ]
     },
     "execution_count": 3,
     "metadata": {},
     "output_type": "execute_result"
    }
   ],
   "source": [
    "tep_pipe.keys()"
   ]
  },
  {
   "cell_type": "code",
   "execution_count": 4,
   "metadata": {},
   "outputs": [
    {
     "data": {
      "text/plain": [
       "dict_keys(['specimens & settings', 'summary', 'B1a', 'B1b', 'B2a', 'B2b', 'B3a', 'B3b', 'B4a', 'B4b', 'B5a', 'B5b', 'B6a', 'B6b', 'B7a', 'B7b', 'B8a', 'B8b', 'T1a', 'T1b', 'T2a', 'T2b', 'T3a', 'T3b', 'T4a', 'T4b', 'T5a', 'T5b', 'T6a', 'T6b', 'T7a', 'T7b', 'T8a', 'T8b'])"
      ]
     },
     "execution_count": 4,
     "metadata": {},
     "output_type": "execute_result"
    }
   ],
   "source": [
    "tep_tube.keys()"
   ]
  },
  {
   "cell_type": "code",
   "execution_count": 5,
   "metadata": {
    "scrolled": true
   },
   "outputs": [],
   "source": [
    "tep_tube_summary = tep_tube['summary'].iloc[4:,:11]\n",
    "col_rename = tep_tube_summary.loc[:4,:].values.tolist()[0]\n",
    "col_rename = [i+j for i,j in zip (col_rename,[\"\",\"\",\"\",\"_uV_C\",\"_uV_C\",\"_uV_C\",\"_uV_C\",\"_uV_C\",\"_uV_C\",\"_uV_C\",\"_uV_C\"])]\n",
    "col_rename[1] = \"serial\"\n",
    "tep_tube_summary.columns = col_rename\n",
    "tep_tube_summary = tep_tube_summary.drop([4,5,22,23,24,25])\n",
    "tep_tube_summary.to_csv(output_tube,index=False)"
   ]
  },
  {
   "cell_type": "code",
   "execution_count": 6,
   "metadata": {},
   "outputs": [],
   "source": [
    "tep_pipe_summary = tep_pipe['summary'].iloc[5:,:11]\n",
    "col_rename = tep_pipe_summary.loc[:5,:].values.tolist()[0]\n",
    "col_rename = [i+j for i,j in zip (col_rename,[\"\",\"\",\"\",\"_uV_C\",\"_uV_C\",\"_uV_C\",\"_uV_C\",\"_uV_C\",\"_uV_C\",\"_uV_C\",\"_uV_C\"])]\n",
    "col_rename[1] = \"serial\"\n",
    "tep_pipe_summary.columns = col_rename\n",
    "tep_pipe_summary = tep_pipe_summary.drop([5,6])\n",
    "tep_pipe_summary = tep_pipe_summary[:8]\n",
    "tep_pipe_summary.to_csv(output_pipe,index=False)"
   ]
  },
  {
   "cell_type": "code",
   "execution_count": null,
   "metadata": {},
   "outputs": [],
   "source": []
  }
 ],
 "metadata": {
  "kernelspec": {
   "display_name": "Python 3",
   "language": "python",
   "name": "python3"
  },
  "language_info": {
   "codemirror_mode": {
    "name": "ipython",
    "version": 3
   },
   "file_extension": ".py",
   "mimetype": "text/x-python",
   "name": "python",
   "nbconvert_exporter": "python",
   "pygments_lexer": "ipython3",
   "version": "3.7.6"
  }
 },
 "nbformat": 4,
 "nbformat_minor": 4
}
